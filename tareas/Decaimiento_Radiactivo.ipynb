{
 "cells": [
  {
   "cell_type": "markdown",
   "metadata": {},
   "source": [
    "# Decaimiento Radiactivo\n",
    "### Integrantes\n",
    "#### Héctor Andrés Flores \n",
    "#### Alejandra Yuriko Yamamoto"
   ]
  },
  {
   "cell_type": "code",
   "execution_count": null,
   "metadata": {
    "collapsed": false
   },
   "outputs": [],
   "source": [
    "using Plots, LaTeXStrings\n",
    "pyplot()"
   ]
  },
  {
   "cell_type": "code",
   "execution_count": null,
   "metadata": {
    "collapsed": false
   },
   "outputs": [],
   "source": [
    "using Interact"
   ]
  },
  {
   "cell_type": "markdown",
   "metadata": {},
   "source": [
    "Teoría\n",
    "Problema Físico\n",
    "De MonteCarlo justificar cómo se obtiene la ecuación diferencial que describe el decaimiento radiactivo."
   ]
  },
  {
   "cell_type": "markdown",
   "metadata": {},
   "source": [
    "El problema que queremos resolver es simular cómo decae un número pequeño N de partículas radioactivas. Escencialmente, queremos determinar cuándo dicho decaimiento se comporta de manera exponencial y cuándo estocásticamente, es decir, contiene elementos de azar.\n",
    "\n",
    "El decaimiento radiactivo es un proceso natural en el cual una partícula, sin estimulación externa alguna, decae, convirtiéndose en otra partícula. Aún cuando la probabilidad de decaimiento en un intervalo de tiempo es contstante, justo cuando ésta decae es un evento aleatorio. De hecho, puesto que el momento exacto cuando una partícula decae es aleatorio, no importa qué tanto tiempo ha estado \"viva\" la partícula o si otras partícula ya han decaído. En otras palabras, la probabilidad de cualquier partícula que decae por intervalo unitario de tiempo es constante y una vez que decae, se pierde para siempre. Por supuesto, el número total de partículas disminuyen con el tiempo, así como el número de decaimientos, pero la probabilidad de cualquiera de estas partículas en decaer en un cierto intervalo de tiempo es siempre la misma constante simpre y cuando dicha partícula exista.\n",
    "\n",
    "Your problem is to simulate how a small number N of radioactive particles decay.3\n",
    "In particular, you are to determine when radioactive decay looks like exponential\n",
    "decay and when it looks stochastic (containing elements of chance).\n",
    "\n",
    "Spontaneous decay is a natural process in which a particle, with no external\n",
    "stimulation, decays into other particles. Even though the probability of decay of\n",
    "any one particle in any time interval is constant, just when it decays is a random\n",
    "event. Because the exact moment when any one particle decays is random, it does\n",
    "not matter how long the particle has been around or whether some other particles\n",
    "have decayed. In other words, the probability P of any one particle decaying per\n",
    "unit time interval is a constant, and when that particle decays, it is gone forever.\n",
    "Of course, as the total number of particles decreases with time, so will the number\n",
    "of decays, but the probability of any one particle decaying in some time interval is\n",
    "always the same constant as long as that particle exists.\n"
   ]
  },
  {
   "cell_type": "markdown",
   "metadata": {},
   "source": [
    "### Decaimiento Discreto"
   ]
  },
  {
   "cell_type": "markdown",
   "metadata": {},
   "source": [
    "Imagine having a sample of N(t) radioactive nuclei at time t. Let ΔN be the number of particles that decay in some small time interval Δt. We\n",
    "convert the statement “the probability P of any one particle decaying per unit time\n",
    "is a constant” into the equation.\n",
    "\n",
    "    $$\\frac{N(t)}{t}$$"
   ]
  },
  {
   "cell_type": "markdown",
   "metadata": {},
   "source": [
    "**[1]** Resolver la ecuación diferencial de decaimiento radiactivo mediante algún método visto en clase como Runge-Kutta\n",
    "        $$ \\frac{dN(t)}{dt} = - \\lambda N(t) $$\n"
   ]
  },
  {
   "cell_type": "markdown",
   "metadata": {},
   "source": [
    "#### Para una partícula"
   ]
  },
  {
   "cell_type": "code",
   "execution_count": null,
   "metadata": {
    "collapsed": true
   },
   "outputs": [],
   "source": [
    "# Queremos gráficas de escalones, 1 escalón para 1 partícula. N escalones que salen de 1 para N partículas. \n",
    "# Después gráficas para muuuchas N's y debería poderse ajustar una exponencial.\n",
    "# Modificar para distintas p's "
   ]
  },
  {
   "cell_type": "code",
   "execution_count": null,
   "metadata": {
    "collapsed": false
   },
   "outputs": [],
   "source": [
    "# NO\n",
    "function generador_num_aleatorio(a, c, xn, n)\n",
    "    Xn = [xn]\n",
    "    for i in 1:n\n",
    "        xn1 = a*Xn[i] + c\n",
    "        #@show i, Xn[i], xn1\n",
    "        push!(Xn, xn1)\n",
    "    end\n",
    "    return pop!(Xn)\n",
    "end"
   ]
  },
  {
   "cell_type": "code",
   "execution_count": null,
   "metadata": {
    "collapsed": false
   },
   "outputs": [],
   "source": [
    "# NO\n",
    "# Ahora convertimos los números aleatorios entre 0 y 1. Normalizamos\n",
    "function normalizar(num)\n",
    "    return num/typemax(UInt64)\n",
    "end"
   ]
  },
  {
   "cell_type": "code",
   "execution_count": null,
   "metadata": {
    "collapsed": true
   },
   "outputs": [],
   "source": [
    "# NO\n",
    "a = UInt64(6364136223846793005)\n",
    "c = UInt64(1442695040888963407)\n",
    "xn = UInt64(598);"
   ]
  },
  {
   "cell_type": "code",
   "execution_count": null,
   "metadata": {
    "collapsed": false
   },
   "outputs": [],
   "source": [
    "# NO\n",
    "generador_num_aleatorio(a, c, xn, 1)"
   ]
  },
  {
   "cell_type": "code",
   "execution_count": null,
   "metadata": {
    "collapsed": false
   },
   "outputs": [],
   "source": [
    "# NO\n",
    "normalizar(ans)"
   ]
  },
  {
   "cell_type": "code",
   "execution_count": null,
   "metadata": {
    "collapsed": false
   },
   "outputs": [],
   "source": [
    "# NO\n",
    "typeof(ans)"
   ]
  },
  {
   "cell_type": "code",
   "execution_count": null,
   "metadata": {
    "collapsed": true
   },
   "outputs": [],
   "source": [
    "# NO\n",
    "# Función que genere números aleatorios y los normalice"
   ]
  },
  {
   "cell_type": "code",
   "execution_count": null,
   "metadata": {
    "collapsed": false
   },
   "outputs": [],
   "source": [
    "# NO\n",
    "xx= 2\n",
    "contador = 1\n",
    "if xx <1\n",
    "    contador = contador\n",
    "else\n",
    "    contador += contador\n",
    "end\n",
    "return contador"
   ]
  },
  {
   "cell_type": "code",
   "execution_count": null,
   "metadata": {
    "collapsed": false
   },
   "outputs": [],
   "source": [
    "# NO\n",
    "rr = rand()"
   ]
  },
  {
   "cell_type": "code",
   "execution_count": null,
   "metadata": {
    "collapsed": false
   },
   "outputs": [],
   "source": [
    "# NO\n",
    "typeof(ans)"
   ]
  },
  {
   "cell_type": "code",
   "execution_count": null,
   "metadata": {
    "collapsed": false
   },
   "outputs": [],
   "source": [
    "# NO\n",
    "UInt64(3.0)"
   ]
  },
  {
   "cell_type": "code",
   "execution_count": null,
   "metadata": {
    "collapsed": true
   },
   "outputs": [],
   "source": [
    "# NO\n",
    "generador_num_aleatorio(a, c, xn, n)"
   ]
  },
  {
   "cell_type": "code",
   "execution_count": null,
   "metadata": {
    "collapsed": false
   },
   "outputs": [],
   "source": [
    "# NO\n",
    "# Para una cierta probabilidad P prueba con mi función para generar números aleatorios\n",
    "function Decaimiento1Nf(N, p::Float64)\n",
    "    \n",
    "    N = 1 # 1 partícula\n",
    "    \n",
    "    # Parámetros para la función 'generador_num_aleat'\n",
    "    a = UInt64(6364136223846793005)\n",
    "    c = UInt64(1442695040888963407)\n",
    "    \n",
    "    n = 1 \n",
    "    \n",
    "    t0 = 0 # Tiempo inicial\n",
    "    #ΔN = 0 #\n",
    "    ts = [t0]\n",
    "    Ns = [N]\n",
    "    \n",
    "    while N > 0\n",
    "        s = rand()\n",
    "        xn = UInt64(s)\n",
    "        aleat = generador_num_aleatorio(a, c, xn, n)\n",
    "        num_aleat = normalizar(aleat)  # Genera un número aleatorio entre 0 y 1\n",
    "        \n",
    "        #@show num_aleat\n",
    "        \n",
    "        if num_aleat <= p\n",
    "            N = N\n",
    "        else\n",
    "            N -= N\n",
    "        end\n",
    "\n",
    "        #@show N, t0, ts\n",
    "        t0 += 1\n",
    "        push!(ts, t0)\n",
    "        push!(Ns, N)\n",
    "            \n",
    "    end\n",
    "\n",
    "    return Ns, ts\n",
    "end"
   ]
  },
  {
   "cell_type": "code",
   "execution_count": null,
   "metadata": {
    "collapsed": false
   },
   "outputs": [],
   "source": [
    "# NO\n",
    "Decaimiento1N(1, 1/2)"
   ]
  },
  {
   "cell_type": "code",
   "execution_count": null,
   "metadata": {
    "collapsed": false
   },
   "outputs": [],
   "source": [
    "# NO\n",
    "# Para una cierta probabilidad P usando la función rand para 1 partícula\n",
    "function Decaimiento1N(N, p::Float64)\n",
    "    \n",
    "    N = 1 # 1 partícula\n",
    "    \n",
    "    t0 = 0 # Tiempo inicial\n",
    "    ts = [t0] # Arreglo de tiempos\n",
    "    Ns = [N] # Arreglo de valores de N en el tiempo\n",
    "    \n",
    "    while N > 0\n",
    "        num_aleat = rand() # Genera un número aleatorio entre 0 y 1\n",
    "        \n",
    "        @show num_aleat\n",
    "        \n",
    "        if num_aleat > p\n",
    "            N = N\n",
    "        else\n",
    "            N -= N\n",
    "        end\n",
    "\n",
    "        t0 += 1\n",
    "        push!(ts, t0)\n",
    "        push!(Ns, N)\n",
    "            \n",
    "    end\n",
    "\n",
    "    return ts, Ns\n",
    "end"
   ]
  },
  {
   "cell_type": "code",
   "execution_count": null,
   "metadata": {
    "collapsed": false
   },
   "outputs": [],
   "source": [
    "# NO\n",
    "Decaimiento1N(1, 1/2)"
   ]
  },
  {
   "cell_type": "code",
   "execution_count": null,
   "metadata": {
    "collapsed": false
   },
   "outputs": [],
   "source": [
    "# NO\n",
    "Decaimiento1N(1, 0.2)"
   ]
  },
  {
   "cell_type": "code",
   "execution_count": null,
   "metadata": {
    "collapsed": false
   },
   "outputs": [],
   "source": [
    "# NO\n",
    "# Para una cierta probabilidad P usando la función rand para N partículas\n",
    "function DecaimientoN(N, p::Float64)\n",
    "    \n",
    "    #N = 1 # 1 partícula\n",
    "    \n",
    "    t0 = 0 # Tiempo inicial\n",
    "    #ΔN = 0 #\n",
    "    ts = [t0] # Arreglo de tiempos\n",
    "    Ns = [N] # Arreglo de valores de N en el tiempo\n",
    "    \n",
    "    while N > 0\n",
    "        num_aleat = rand() # Genera un número aleatorio entre 0 y 1\n",
    "        \n",
    "        #@show num_aleat\n",
    "        \n",
    "        if num_aleat > p\n",
    "            N = N\n",
    "            t0 += 1\n",
    "            push!(ts, t0)\n",
    "            push!(Ns, N)\n",
    "        else\n",
    "            N -= 1\n",
    "            t0 = t0\n",
    "            push!(ts, t0)\n",
    "            push!(Ns, N)\n",
    "            t0 += 1\n",
    "        end\n",
    "\n",
    "        \n",
    "        \n",
    "        #t0 += 1\n",
    "            \n",
    "    end\n",
    "\n",
    "    return ts, Ns\n",
    "end"
   ]
  },
  {
   "cell_type": "code",
   "execution_count": null,
   "metadata": {
    "collapsed": false
   },
   "outputs": [],
   "source": [
    "# NO\n",
    "DecaimientoN(2, 1/2)"
   ]
  },
  {
   "cell_type": "code",
   "execution_count": null,
   "metadata": {
    "collapsed": false
   },
   "outputs": [],
   "source": [
    "# NO\n",
    "tiempos, N2 = DecaimientoN(2, 0.5)"
   ]
  },
  {
   "cell_type": "code",
   "execution_count": null,
   "metadata": {
    "collapsed": false
   },
   "outputs": [],
   "source": [
    "# NO\n",
    "# Función que plotee\n",
    "scatter(tiempos, N2, ylim = (0, 3))"
   ]
  },
  {
   "cell_type": "code",
   "execution_count": null,
   "metadata": {
    "collapsed": true
   },
   "outputs": [],
   "source": [
    "# NO\n",
    "tiempos, N2 = DecaimientoN(1, 0.5)\n",
    "tiempos, N2 = DecaimientoN(2, 0.5)\n",
    "tiempos, N2 = DecaimientoN(3, 0.5)\n",
    "\n",
    "Tiempos = []\n",
    "N\n",
    "for i in 1:10\n",
    "    DecaimientoN(i, 1/2)\n",
    "    "
   ]
  },
  {
   "cell_type": "code",
   "execution_count": null,
   "metadata": {
    "collapsed": false
   },
   "outputs": [],
   "source": [
    "# NO\n",
    "# Lista sí\n",
    "function list_decaimiento(N)\n",
    "    Decaimientos = []\n",
    "    Tiempos = []\n",
    "    for i in 1:N\n",
    "        dec = DecaimientoN(i, 1/2)\n",
    "        push!(Decaimientos, dec)\n",
    "        #push!(Tiempos, tiempos)\n",
    "        #@show i, dec, Decaimientos\n",
    "    end\n",
    "    return Decaimientos\n",
    "end"
   ]
  },
  {
   "cell_type": "code",
   "execution_count": null,
   "metadata": {
    "collapsed": false
   },
   "outputs": [],
   "source": [
    "Decay = list_decaimiento(2)"
   ]
  },
  {
   "cell_type": "code",
   "execution_count": null,
   "metadata": {
    "collapsed": false
   },
   "outputs": [],
   "source": [
    "Decay[1]"
   ]
  },
  {
   "cell_type": "code",
   "execution_count": null,
   "metadata": {
    "collapsed": false
   },
   "outputs": [],
   "source": [
    "# Prueba\n",
    "plot(Decay[2])"
   ]
  },
  {
   "cell_type": "code",
   "execution_count": null,
   "metadata": {
    "collapsed": false
   },
   "outputs": [],
   "source": [
    "p = scatter(Decay[1])\n",
    "for i in 2:length(Decay)\n",
    "    p = scatter!(Decay[i])\n",
    "    return p\n",
    "end"
   ]
  },
  {
   "cell_type": "code",
   "execution_count": null,
   "metadata": {
    "collapsed": false,
    "scrolled": true
   },
   "outputs": [],
   "source": [
    "Decay100 = list_decaimiento(100);"
   ]
  },
  {
   "cell_type": "code",
   "execution_count": null,
   "metadata": {
    "collapsed": false
   },
   "outputs": [],
   "source": [
    "p = plot(Decay100[1])\n",
    "for i in 2:length(Decay100)\n",
    "    plot!(Decay100[i])\n",
    "end\n",
    "p"
   ]
  },
  {
   "cell_type": "code",
   "execution_count": null,
   "metadata": {
    "collapsed": false
   },
   "outputs": [],
   "source": [
    "Decay5 = list_decaimiento(5)"
   ]
  },
  {
   "cell_type": "code",
   "execution_count": null,
   "metadata": {
    "collapsed": false
   },
   "outputs": [],
   "source": [
    "p = plot(Decay5[1])\n",
    "for i in 2:length(Decay5)\n",
    "    plot!(Decay5[i])\n",
    "    #yaxis!(\"YLABEL\",:log10)\n",
    "end\n",
    "p"
   ]
  },
  {
   "cell_type": "code",
   "execution_count": null,
   "metadata": {
    "collapsed": false
   },
   "outputs": [],
   "source": [
    "# Para una cierta probabilidad P usando la función rand para N partículas sin cero\n",
    "function DecaimientoNs0(N, p::Float64)\n",
    "    \n",
    "    #N = 1 # 1 partícula\n",
    "    \n",
    "    t0 = 0 # Tiempo inicial\n",
    "    #ΔN = 0 #\n",
    "    ts = [t0] # Arreglo de tiempos\n",
    "    Ns = [N] # Arreglo de valores de N en el tiempo\n",
    "    \n",
    "    while N > 0\n",
    "        num_aleat = rand() # Genera un número aleatorio entre 0 y 1\n",
    "        \n",
    "        #@show num_aleat\n",
    "        \n",
    "        if num_aleat > p\n",
    "            N = N\n",
    "            \n",
    "        else\n",
    "            N -= 1\n",
    "            \n",
    "        end\n",
    "\n",
    "        \n",
    "        \n",
    "        t0 += 1\n",
    "        push!(ts, t0)\n",
    "        push!(Ns, N)\n",
    "            \n",
    "    end\n",
    "    \n",
    "    pop!(ts)\n",
    "    pop!(Ns)\n",
    "\n",
    "    return ts, Ns\n",
    "end"
   ]
  },
  {
   "cell_type": "code",
   "execution_count": null,
   "metadata": {
    "collapsed": false
   },
   "outputs": [],
   "source": [
    "# Lista sí\n",
    "function list_decaimiento0(N)\n",
    "    Decaimientos = []\n",
    "    Tiempos = []\n",
    "    for i in 1:N\n",
    "        dec = DecaimientoNs0(i, 1/2)\n",
    "        push!(Decaimientos, dec)\n",
    "        #push!(Tiempos, tiempos)\n",
    "        #@show i, dec, Decaimientos\n",
    "    end\n",
    "    return Decaimientos\n",
    "end"
   ]
  },
  {
   "cell_type": "code",
   "execution_count": null,
   "metadata": {
    "collapsed": false
   },
   "outputs": [],
   "source": [
    "Decay4 = list_decaimiento0(10)"
   ]
  },
  {
   "cell_type": "code",
   "execution_count": null,
   "metadata": {
    "collapsed": false
   },
   "outputs": [],
   "source": [
    "p = plot(Decay4[1])\n",
    "for i in 2:length(Decay4)\n",
    "    plot!(Decay4[i])\n",
    "    yaxis!(\"YLABEL\",:log10)\n",
    "end\n",
    "p"
   ]
  },
  {
   "cell_type": "code",
   "execution_count": null,
   "metadata": {
    "collapsed": true
   },
   "outputs": [],
   "source": []
  },
  {
   "cell_type": "code",
   "execution_count": null,
   "metadata": {
    "collapsed": false
   },
   "outputs": [],
   "source": [
    "#Función con el for gigante\n",
    "function DecaimientoNN(N, p::Float64)\n",
    "    \n",
    "    t0 = 0 # Tiempo inicial\n",
    "    ts = [t0] # Arreglo de tiempos\n",
    "    Ns = [N] # Arreglo de valores de N en el tiempo\n",
    "    \n",
    "    while N > 0\n",
    "        \n",
    "        for i in 1:N\n",
    "            \n",
    "            num_aleat = rand() # Genera un número aleatorio entre 0 y 1\n",
    "        \n",
    "            #@show num_aleat\n",
    "        \n",
    "            if num_aleat > p\n",
    "                N = N\n",
    "            \n",
    "            else\n",
    "                N -= 1\n",
    "            \n",
    "            end\n",
    "        \n",
    "        end\n",
    "        \n",
    "        t0 += 1 # pasa al siguiente tiempo\n",
    "\n",
    "        push!(ts, t0)\n",
    "        push!(Ns, N)\n",
    "                    \n",
    "    end\n",
    "    \n",
    "    pop!(ts)\n",
    "    pop!(Ns)\n",
    "\n",
    "    return ts, Ns\n",
    "end"
   ]
  },
  {
   "cell_type": "code",
   "execution_count": null,
   "metadata": {
    "collapsed": false
   },
   "outputs": [],
   "source": [
    "function list_decaimientoNN0(N)\n",
    "    Decaimientos = []\n",
    "    Tiempos = []\n",
    "    for i in 1:N\n",
    "        dec = DecaimientoNN(i, 1/2)\n",
    "        push!(Decaimientos, dec)\n",
    "        #push!(Tiempos, tiempos)\n",
    "        #@show i, dec, Decaimientos\n",
    "    end\n",
    "    return Decaimientos\n",
    "end"
   ]
  },
  {
   "cell_type": "code",
   "execution_count": null,
   "metadata": {
    "collapsed": false
   },
   "outputs": [],
   "source": [
    "DecaimientoNN(5, 0.5)"
   ]
  },
  {
   "cell_type": "code",
   "execution_count": null,
   "metadata": {
    "collapsed": false
   },
   "outputs": [],
   "source": [
    "prueba1=list_decaimientoNN0(20);"
   ]
  },
  {
   "cell_type": "code",
   "execution_count": null,
   "metadata": {
    "collapsed": false
   },
   "outputs": [],
   "source": [
    "p = plot(prueba1[20])\n",
    "#for i in 2:length(prueba1)\n",
    "#    plot!(prueba1[i])\n",
    "    yaxis!(\"YLABEL\",:log10)\n",
    "#end\n",
    "p"
   ]
  },
  {
   "cell_type": "code",
   "execution_count": null,
   "metadata": {
    "collapsed": false
   },
   "outputs": [],
   "source": [
    "p = plot(prueba1[1])\n",
    "for i in 2:length(prueba1)\n",
    "    plot!(prueba1[i])\n",
    "    #yaxis!(\"YLABEL\",:log10)\n",
    "end\n",
    "p"
   ]
  },
  {
   "cell_type": "code",
   "execution_count": null,
   "metadata": {
    "collapsed": false
   },
   "outputs": [],
   "source": [
    "pr1, n1 = DecaimientoNN(1000, 0.5)"
   ]
  },
  {
   "cell_type": "code",
   "execution_count": null,
   "metadata": {
    "collapsed": false
   },
   "outputs": [],
   "source": [
    "# grafica buena\n",
    "plot(pr1, n1)\n",
    "yaxis!(\"YLABEL\",:log10)"
   ]
  },
  {
   "cell_type": "code",
   "execution_count": null,
   "metadata": {
    "collapsed": true
   },
   "outputs": [],
   "source": [
    "# Ponerle puntitos, discreto"
   ]
  },
  {
   "cell_type": "code",
   "execution_count": null,
   "metadata": {
    "collapsed": false
   },
   "outputs": [],
   "source": [
    "#grafica buena\n",
    "plot(pr1, n1)\n",
    "#yaxis!(\"YLABEL\",:log10)"
   ]
  },
  {
   "cell_type": "code",
   "execution_count": null,
   "metadata": {
    "collapsed": true
   },
   "outputs": [],
   "source": [
    "# Repetimos, iteramos muchas veces la función con los mismos parámetros.\n",
    "# Sacamos el promedio y eso lo graficamos.\n",
    "# Eso es lo que nos debería dar la exponencial?"
   ]
  },
  {
   "cell_type": "code",
   "execution_count": null,
   "metadata": {
    "collapsed": false
   },
   "outputs": [],
   "source": [
    "function iterarDecaimiento(N, p::Float64, n::Int64)\n",
    "    arreglo_nucleo = []\n",
    "    arreglo_tiempo = []\n",
    "    \n",
    "    for i in 1:n\n",
    "        decaimientos = DecaimientoNN(N, p)\n",
    "        push!(arreglo_tiempo, decaimientos[1])\n",
    "        push!(arreglo_nucleo, decaimientos[2])\n",
    "        #@show i, decaimientos\n",
    "    end\n",
    "    return arreglo_tiempo, arreglo_nucleo\n",
    "end"
   ]
  },
  {
   "cell_type": "code",
   "execution_count": null,
   "metadata": {
    "collapsed": false
   },
   "outputs": [],
   "source": [
    "iterarDecaimiento(10, 0.5, 2)"
   ]
  },
  {
   "cell_type": "code",
   "execution_count": null,
   "metadata": {
    "collapsed": false
   },
   "outputs": [],
   "source": [
    "# Encontrar el máximo length entre todas las listas y rellenar con ceros las que tienen un length diferente del máximo \n",
    "function maxim(N, p, n)\n",
    "    iteracion = iterarDecaimiento(N, p, n)\n",
    "    max = 0\n",
    "    iter_tiempos = iteracion[1]\n",
    "    for i in 1:n\n",
    "        if length(iter_tiempos[1]) > max\n",
    "            max = length(iter_tiempos[1])\n",
    "        else\n",
    "            max = max\n",
    "        end\n",
    "    end\n",
    "    return max\n",
    "end"
   ]
  },
  {
   "cell_type": "code",
   "execution_count": null,
   "metadata": {
    "collapsed": false
   },
   "outputs": [],
   "source": [
    "maxim(10, 0.5, 2)"
   ]
  },
  {
   "cell_type": "code",
   "execution_count": null,
   "metadata": {
    "collapsed": false
   },
   "outputs": [],
   "source": [
    "# Función que rellena de ceros (1's porque de lo contrario, la gráfica de log dará un error)\n",
    "# las listas de las iteraciones que no son máximas\n",
    "function igualar_arreglos(N, p, n)\n",
    "    \n",
    "    iteracion_tiempo, iteracion_nucleo = iterarDecaimiento(N, p, n)\n",
    "    max = maxim(N, p, n)\n",
    "    #lista_tiempos = iteracion[1]\n",
    "    #lista_nucleos = iteracion[2]\n",
    "    @show max\n",
    "    #@show iteracion[1], iteracion[2]\n",
    "    \n",
    "    for i in 1:n\n",
    "        #@show i, lista_tiempos, lista_nucleos\n",
    "        while length(iteracion_nucleo[i]) < max\n",
    "        \n",
    "            push!(iteracion_nucleo[i], 1)\n",
    "            #@show i, lista_tiempos, lista_nucleos\n",
    "            \n",
    "        end\n",
    "    end\n",
    "    return iteracion_tiempo, iteracion_nucleo\n",
    "end"
   ]
  },
  {
   "cell_type": "code",
   "execution_count": null,
   "metadata": {
    "collapsed": false
   },
   "outputs": [],
   "source": [
    "igualar_arreglos(10, 0.5, 2)"
   ]
  },
  {
   "cell_type": "code",
   "execution_count": null,
   "metadata": {
    "collapsed": false,
    "scrolled": false
   },
   "outputs": [],
   "source": [
    "# Con manipulate, para varias probabilidades\n",
    "\n",
    "@manipulate for p in 0:0.1:1\n",
    "    ft, fn = DecaimientoN(1, p)\n",
    "    plot(ft, fn, ylim=(0, 2))   \n",
    "end"
   ]
  },
  {
   "cell_type": "code",
   "execution_count": null,
   "metadata": {
    "collapsed": false
   },
   "outputs": [],
   "source": [
    "@manipulate for p in 0:0.1:1\n",
    "    ft, fn = DecaimientoN(1, p)\n",
    "    scatter(ft, fn, ylim=(0, 2))   \n",
    "end"
   ]
  },
  {
   "cell_type": "markdown",
   "metadata": {},
   "source": [
    "#### Para N partículas"
   ]
  },
  {
   "cell_type": "code",
   "execution_count": null,
   "metadata": {
    "collapsed": false
   },
   "outputs": [],
   "source": [
    "# Por método de Euler\n",
    "\n",
    "function Euler(f::Function, x0::Real, t0::Real, tf::Real, h::Real)\n",
    "   \n",
    "    # Condiciones iniciales\n",
    "    #f = f(x0, t0)\n",
    "   \n",
    "     # Arreglos con condiciones iniciales\n",
    "    Xs = Float64[x0]\n",
    "    Ts = collect(t0:h:tf) # Arreglo que contiene los tiempos\n",
    "    \n",
    "    for i in 1:length(Ts)-1\n",
    "    \n",
    "        x = h * f(Xs[i], Ts[i]) + Xs[i]\n",
    "        push!(Xs, x)\n",
    "\n",
    "    end\n",
    "    \n",
    "    return Ts, Xs\n",
    "    \n",
    "end"
   ]
  },
  {
   "cell_type": "code",
   "execution_count": null,
   "metadata": {
    "collapsed": false
   },
   "outputs": [],
   "source": [
    "f(N,t) = -λ * N\n",
    "λ = 0.3e6"
   ]
  },
  {
   "cell_type": "code",
   "execution_count": null,
   "metadata": {
    "collapsed": false
   },
   "outputs": [],
   "source": [
    "Euler(f, 1, 0, 10, 0.2)"
   ]
  },
  {
   "cell_type": "code",
   "execution_count": null,
   "metadata": {
    "collapsed": true
   },
   "outputs": [],
   "source": [
    "# Decaimiento Discreto\n",
    "function Decaimiento(N, λ)\n",
    "    t0 = 0 #tiempo inicial 0\n",
    "    while N > 0\n",
    "        ΔN = 0\n",
    "        for i in 1:N\n",
    "            if ( r _ i < lambda ) DeltaN = DeltaN + 1\n",
    "    end f o r\n",
    "    t = t +1\n",
    "    N = N− DeltaN\n",
    "    Output t , DeltaN , N\n",
    "end"
   ]
  },
  {
   "cell_type": "code",
   "execution_count": null,
   "metadata": {
    "collapsed": true
   },
   "outputs": [],
   "source": []
  },
  {
   "cell_type": "code",
   "execution_count": null,
   "metadata": {
    "collapsed": true
   },
   "outputs": [],
   "source": []
  },
  {
   "cell_type": "code",
   "execution_count": null,
   "metadata": {
    "collapsed": true
   },
   "outputs": [],
   "source": []
  },
  {
   "cell_type": "code",
   "execution_count": null,
   "metadata": {
    "collapsed": false
   },
   "outputs": [],
   "source": [
    "s = @manipulate for i in 1:10\n",
    "    i^2\n",
    "end"
   ]
  },
  {
   "cell_type": "code",
   "execution_count": null,
   "metadata": {
    "collapsed": false
   },
   "outputs": [],
   "source": [
    "\n",
    "map(x->2x, s) "
   ]
  },
  {
   "cell_type": "code",
   "execution_count": null,
   "metadata": {
    "collapsed": false
   },
   "outputs": [],
   "source": [
    "xx = -3:0.1:3\n",
    "\n",
    "@manipulate for i in 1:10\n",
    "    plot(xx, sin.(xx) .+ i, ylim=(0, 10))   # sin.(xx) actúa elemento por elemento\n",
    "end"
   ]
  },
  {
   "cell_type": "code",
   "execution_count": null,
   "metadata": {
    "collapsed": true
   },
   "outputs": [],
   "source": []
  },
  {
   "cell_type": "code",
   "execution_count": null,
   "metadata": {
    "collapsed": true
   },
   "outputs": [],
   "source": []
  },
  {
   "cell_type": "code",
   "execution_count": null,
   "metadata": {
    "collapsed": false
   },
   "outputs": [],
   "source": [
    "function DecaimientoNNueva(N, p::Float64)\n",
    "    \n",
    "    t0 = 0 # Tiempo inicial\n",
    "    ts = [t0] # Arreglo de tiempos\n",
    "    Ns = [N] # Arreglo de valores de N en el tiempo\n",
    "    \n",
    "    while N > 0\n",
    "        \n",
    "        for j in 1:N\n",
    "            \n",
    "            num_aleat = rand() # Genera un número aleatorio entre 0 y 1\n",
    "        \n",
    "        #@show num_aleat\n",
    "        \n",
    "            if num_aleat > p\n",
    "                N = N\n",
    "            \n",
    "            else\n",
    "                N -= 1\n",
    "            \n",
    "            end\n",
    "        \n",
    "        end\n",
    "        t0 += 1\n",
    "        push!(ts, t0)\n",
    "        push!(Ns, N)\n",
    "            \n",
    "    end\n",
    "    \n",
    "    pop!(ts)\n",
    "    pop!(Ns)\n",
    "\n",
    "    return ts, Ns\n",
    "end"
   ]
  },
  {
   "cell_type": "code",
   "execution_count": null,
   "metadata": {
    "collapsed": true
   },
   "outputs": [],
   "source": []
  },
  {
   "cell_type": "code",
   "execution_count": 1,
   "metadata": {
    "collapsed": false
   },
   "outputs": [
    {
     "data": {
      "text/plain": [
       "DecaimientoNN (generic function with 1 method)"
      ]
     },
     "execution_count": 1,
     "metadata": {},
     "output_type": "execute_result"
    }
   ],
   "source": [
    "#Función con el for gigante\n",
    "function DecaimientoNN(N, p, Δt) # N es el número inicial de núcleos y p la probabilidad con que decaen y \n",
    "                                 # Δt es el intervalo de tiempo con que avanza.\n",
    "    \n",
    "    t0 = 0 # Tiempo inicial\n",
    "    ts = [t0] # Arreglo de tiempos\n",
    "    Ns = [N] # Arreglo de valores de N en el tiempo\n",
    "    \n",
    "    while N > 0\n",
    "        \n",
    "        for i in 1:N\n",
    "            \n",
    "            num_aleat = rand() # Genera un número aleatorio entre 0 y 1\n",
    "        \n",
    "            #@show num_aleat\n",
    "        \n",
    "            if num_aleat > p\n",
    "                N = N\n",
    "            \n",
    "            else\n",
    "                N -= 1\n",
    "            \n",
    "            end\n",
    "        \n",
    "        end\n",
    "        \n",
    "        t0 += Δt # pasa al siguiente tiempo\n",
    "\n",
    "        push!(ts, t0)\n",
    "        push!(Ns, N)\n",
    "                    \n",
    "    end\n",
    "    \n",
    "    pop!(ts)\n",
    "    pop!(Ns)\n",
    "\n",
    "    return ts, Ns\n",
    "end"
   ]
  },
  {
   "cell_type": "code",
   "execution_count": null,
   "metadata": {
    "collapsed": true
   },
   "outputs": [],
   "source": [
    "# Repetimos, iteramos muchas veces la función con los mismos parámetros.\n",
    "# Sacamos el promedio y eso lo graficamos.\n",
    "# Eso es lo que nos debería dar la exponencial?"
   ]
  },
  {
   "cell_type": "code",
   "execution_count": 2,
   "metadata": {
    "collapsed": false
   },
   "outputs": [
    {
     "data": {
      "text/plain": [
       "iterarDecaimiento (generic function with 1 method)"
      ]
     },
     "execution_count": 2,
     "metadata": {},
     "output_type": "execute_result"
    }
   ],
   "source": [
    "# SIIIIIII\n",
    "function iterarDecaimiento(N, p::Float64, n::Int64) # n es el número de veces que se itera\n",
    "    \n",
    "    arreglo_nucleo = [] # Lista que contiene n listas de núcleos \n",
    "    arreglo_tiempo = [] # Lista que contiene n listas de tiempos\n",
    "    \n",
    "    for i in 1:n\n",
    "        decaimientos = DecaimientoNN(N, p)\n",
    "        push!(arreglo_tiempo, decaimientos[1])\n",
    "        push!(arreglo_nucleo, decaimientos[2])\n",
    "        #@show i, decaimientos\n",
    "    end\n",
    "    return arreglo_tiempo, arreglo_nucleo\n",
    "end"
   ]
  },
  {
   "cell_type": "code",
   "execution_count": null,
   "metadata": {
    "collapsed": false
   },
   "outputs": [],
   "source": [
    "maxim(100, 0.5, 5)"
   ]
  },
  {
   "cell_type": "code",
   "execution_count": null,
   "metadata": {
    "collapsed": false
   },
   "outputs": [],
   "source": [
    "# NO\n",
    "# Encontrar el máximo length entre todas las listas y rellenar con ceros las que tienen un length diferente del máximo \n",
    "function maxim(N, p, n)\n",
    "    \n",
    "    iteracion = iterarDecaimiento(N, p, n)\n",
    "    max = 1\n",
    "    iter_tiempos = iteracion[1] # Devuelve la lista de n listas de tiempos\n",
    "    @show iter_tiempos, iteracion[2]\n",
    "    \n",
    "    for i in 1:n\n",
    "        if length(iter_tiempos[i]) > max\n",
    "            max = length(iter_tiempos[i])\n",
    "        else\n",
    "            max = max\n",
    "        end\n",
    "    end\n",
    "    return max\n",
    "end"
   ]
  },
  {
   "cell_type": "code",
   "execution_count": null,
   "metadata": {
    "collapsed": false
   },
   "outputs": [],
   "source": [
    "# NO\n",
    "# Función que rellena de ceros (1's porque de lo contrario, la gráfica de log dará un error)\n",
    "# las listas de las iteraciones que no son máximas\n",
    "\n",
    "function igualar_arreglos(N, p, n)\n",
    "    \n",
    "    iteracion_tiempo, iteracion_nucleo = iterarDecaimiento(N, p, n)\n",
    "    max = maxim(N, p, n)\n",
    "    #ultima_ltiempo = iteracion_tiempo[end]\n",
    "    \n",
    "    @show max, iteracion_tiempo, iteracion_nucleo\n",
    "    #@show iteracion[1], iteracion[2]\n",
    "    \n",
    "    for i in 1:n\n",
    "        #@show i, lista_tiempos, lista_nucleos\n",
    "        while length(iteracion_nucleo[i]) < max\n",
    "            tiempos = iteracion_tiempo[i]\n",
    "            ultimo_tiempo = tiempos[end]\n",
    "            push!(iteracion_tiempo[i], ultimo_tiempo + 1)\n",
    "            push!(iteracion_nucleo[i], 1)\n",
    "            #@show i, lista_tiempos, lista_nucleos\n",
    "            \n",
    "        end\n",
    "    end\n",
    "    return iteracion_tiempo, iteracion_nucleo\n",
    "end"
   ]
  },
  {
   "cell_type": "code",
   "execution_count": 15,
   "metadata": {
    "collapsed": false
   },
   "outputs": [
    {
     "name": "stderr",
     "output_type": "stream",
     "text": [
      "WARNING: Method definition Igualar_Arreglos(Any, Any, Any) in module Main at In[13]:6 overwritten at In[15]:6.\n"
     ]
    },
    {
     "data": {
      "text/plain": [
       "Igualar_Arreglos (generic function with 1 method)"
      ]
     },
     "execution_count": 15,
     "metadata": {},
     "output_type": "execute_result"
    }
   ],
   "source": [
    "# SIIIII\n",
    "# Fusión de la función maxim e igualar \n",
    "\n",
    "function Igualar_Arreglos(N, p, n)\n",
    "    \n",
    "    iteracion = iterarDecaimiento(N, p, n)\n",
    "    max = 1\n",
    "    iter_tiempos = iteracion[1]\n",
    "    iter_nucleos = iteracion[2]\n",
    "    \n",
    "    for i in 1:n\n",
    "        if length(iter_tiempos[i]) > max\n",
    "            max = length(iter_tiempos[i])\n",
    "        else\n",
    "            max = max\n",
    "        end\n",
    "    end\n",
    "    \n",
    "    @show max, iter_tiempos, iter_nucleos\n",
    "    \n",
    "    for i in 1:n\n",
    "        while length(iter_nucleos[i]) < max\n",
    "            tiempos = iter_tiempos[i]\n",
    "            ultimo_tiempo = tiempos[end]\n",
    "            push!(iter_tiempos[i], ultimo_tiempo + 1)\n",
    "            push!(iter_nucleos[i], 1)\n",
    "            #@show i, lista_tiempos, lista_nucleos\n",
    "        end\n",
    "    end\n",
    "    #return iter_tiempos, iter_nucleos\n",
    "    \n",
    "    \n",
    "    suma = iter_nucleos[1]\n",
    "    promedios = 0\n",
    "\n",
    "    for k in 1:length(iter_nucleos)-1\n",
    "        suma += iter_nucleos[1+k]\n",
    "        @show k, suma\n",
    "        promedios = suma/length(iter_nucleos)\n",
    "    \n",
    "    end\n",
    "    return iter_tiempos[1], promedios\n",
    "end"
   ]
  },
  {
   "cell_type": "code",
   "execution_count": 4,
   "metadata": {
    "collapsed": false
   },
   "outputs": [
    {
     "data": {
      "text/plain": [
       "([0,1,2,3,4,5,6,7,8],[1000,484,251,130,60,34,14,6,2])"
      ]
     },
     "execution_count": 4,
     "metadata": {},
     "output_type": "execute_result"
    }
   ],
   "source": [
    "# SI\n",
    "pr1, n1 = DecaimientoNN(1000, 0.5)"
   ]
  },
  {
   "cell_type": "code",
   "execution_count": null,
   "metadata": {
    "collapsed": false
   },
   "outputs": [],
   "source": [
    "iterarDecaimiento(1000, 0.5, 5)"
   ]
  },
  {
   "cell_type": "code",
   "execution_count": null,
   "metadata": {
    "collapsed": false
   },
   "outputs": [],
   "source": [
    "maxim(1000, 0.5, 5)"
   ]
  },
  {
   "cell_type": "code",
   "execution_count": null,
   "metadata": {
    "collapsed": false
   },
   "outputs": [],
   "source": [
    "igualar_arreglos(1000, 0.5, 5)"
   ]
  },
  {
   "cell_type": "code",
   "execution_count": 5,
   "metadata": {
    "collapsed": false
   },
   "outputs": [
    {
     "name": "stdout",
     "output_type": "stream",
     "text": [
      "(max,iter_tiempos,iter_nucleos) = (13,Any[[0,1,2,3,4,5,6,7,8,9,10,11,12],[0,1,2,3,4,5,6,7,8,9],[0,1,2,3,4,5,6,7,8,9],[0,1,2,3,4,5,6,7,8,9],[0,1,2,3,4,5,6,7,8,9,10,11]],Any[[1000,496,250,122,62,28,16,8,6,1,1,1,1],[1000,498,251,131,83,39,20,10,6,3],[1000,478,246,130,56,29,14,8,3,2],[1000,502,256,131,72,37,20,7,5,3],[1000,489,244,126,62,32,13,8,3,1,1,1]])\n"
     ]
    },
    {
     "data": {
      "text/plain": [
       "(Any[[0,1,2,3,4,5,6,7,8,9,10,11,12],[0,1,2,3,4,5,6,7,8,9,10,11,12],[0,1,2,3,4,5,6,7,8,9,10,11,12],[0,1,2,3,4,5,6,7,8,9,10,11,12],[0,1,2,3,4,5,6,7,8,9,10,11,12]],Any[[1000,496,250,122,62,28,16,8,6,1,1,1,1],[1000,498,251,131,83,39,20,10,6,3,1,1,1],[1000,478,246,130,56,29,14,8,3,2,1,1,1],[1000,502,256,131,72,37,20,7,5,3,1,1,1],[1000,489,244,126,62,32,13,8,3,1,1,1,1]])"
      ]
     },
     "execution_count": 5,
     "metadata": {},
     "output_type": "execute_result"
    }
   ],
   "source": [
    "# SI\n",
    "a, b = Igualar_Arreglos(1000, 0.5, 5)"
   ]
  },
  {
   "cell_type": "code",
   "execution_count": 6,
   "metadata": {
    "collapsed": false
   },
   "outputs": [
    {
     "name": "stdout",
     "output_type": "stream",
     "text": [
      "(k,suma) = (1,[2000,994,501,253,145,67,36,18,12,4,2,2,2])\n",
      "(k,suma) = (2,[3000,1472,747,383,201,96,50,26,15,6,3,3,3])\n",
      "(k,suma) = (3,[4000,1974,1003,514,273,133,70,33,20,9,4,4,4])\n",
      "(k,suma) = (4,[5000,2463,1247,640,335,165,83,41,23,10,5,5,5])\n"
     ]
    },
    {
     "data": {
      "text/plain": [
       "13-element Array{Float64,1}:\n",
       " 1000.0\n",
       "  492.6\n",
       "  249.4\n",
       "  128.0\n",
       "   67.0\n",
       "   33.0\n",
       "   16.6\n",
       "    8.2\n",
       "    4.6\n",
       "    2.0\n",
       "    1.0\n",
       "    1.0\n",
       "    1.0"
      ]
     },
     "execution_count": 6,
     "metadata": {},
     "output_type": "execute_result"
    }
   ],
   "source": [
    "# SI\n",
    "suma = b[1]\n",
    "promedios = 0\n",
    "\n",
    "for k in 1:length(b)-1\n",
    "    suma += b[1+k]\n",
    "    @show k, suma\n",
    "    promedios = (suma)/length(b)\n",
    "    \n",
    "end\n",
    "return promedios"
   ]
  },
  {
   "cell_type": "code",
   "execution_count": 19,
   "metadata": {
    "collapsed": false
   },
   "outputs": [
    {
     "name": "stdout",
     "output_type": "stream",
     "text": [
      "(max,iter_tiempos,iter_nucleos) = (13,Any[[0,1,2,3,4,5,6,7,8,9,10,11,12],[0,1,2,3,4,5,6,7,8],[0,1,2,3,4,5,6,7,8,9],[0,1,2,3,4,5,6,7,8,9,10,11],[0,1,2,3,4,5,6,7,8,9]],Any[[1000,471,237,117,59,35,17,9,5,3,2,1,1],[1000,497,254,131,66,32,14,5,1],[1000,505,248,128,69,29,15,10,5,2],[1000,508,249,127,62,25,10,7,6,4,3,1],[1000,494,256,123,62,32,23,8,8,3]])\n",
      "(k,suma) = (1,[2000,968,491,248,125,67,31,14,6,4,3,2,2])\n",
      "(k,suma) = (2,[3000,1473,739,376,194,96,46,24,11,6,4,3,3])\n",
      "(k,suma) = (3,[4000,1981,988,503,256,121,56,31,17,10,7,4,4])\n",
      "(k,suma) = (4,[5000,2475,1244,626,318,153,79,39,25,13,8,5,5])\n"
     ]
    },
    {
     "data": {
      "text/plain": [
       "([0,1,2,3,4,5,6,7,8,9,10,11,12],[1000.0,495.0,248.8,125.2,63.6,30.6,15.8,7.8,5.0,2.6,1.6,1.0,1.0])"
      ]
     },
     "execution_count": 19,
     "metadata": {},
     "output_type": "execute_result"
    }
   ],
   "source": [
    "Igualar_Arreglos(1000, 0.5, 5)"
   ]
  },
  {
   "cell_type": "code",
   "execution_count": 20,
   "metadata": {
    "collapsed": false
   },
   "outputs": [
    {
     "data": {
      "text/plain": [
       "([0,1,2,3,4,5,6,7,8,9,10,11,12],[1000.0,495.0,248.8,125.2,63.6,30.6,15.8,7.8,5.0,2.6,1.6,1.0,1.0])"
      ]
     },
     "execution_count": 20,
     "metadata": {},
     "output_type": "execute_result"
    }
   ],
   "source": [
    "f1, f2 = ans"
   ]
  },
  {
   "cell_type": "code",
   "execution_count": 7,
   "metadata": {
    "collapsed": false
   },
   "outputs": [
    {
     "data": {
      "text/plain": [
       "13-element Array{Float64,1}:\n",
       " 1000.0\n",
       "  492.6\n",
       "  249.4\n",
       "  128.0\n",
       "   67.0\n",
       "   33.0\n",
       "   16.6\n",
       "    8.2\n",
       "    4.6\n",
       "    2.0\n",
       "    1.0\n",
       "    1.0\n",
       "    1.0"
      ]
     },
     "execution_count": 7,
     "metadata": {},
     "output_type": "execute_result"
    }
   ],
   "source": [
    "# Si\n",
    "f = ans"
   ]
  },
  {
   "cell_type": "code",
   "execution_count": 10,
   "metadata": {
    "collapsed": false
   },
   "outputs": [
    {
     "name": "stdout",
     "output_type": "stream",
     "text": [
      "(j,f[j],ind_mudo) = (1,1000.0,1)\n",
      "(j,f[j],ind_mudo) = (2,492.6,1)\n",
      "(j,f[j],ind_mudo) = (3,249.4,1)\n",
      "(j,f[j],ind_mudo) = (4,128.0,1)\n",
      "(j,f[j],ind_mudo) = (5,67.0,1)\n",
      "(j,f[j],ind_mudo) = (6,33.0,1)\n",
      "(j,f[j],ind_mudo) = (7,16.6,1)\n",
      "(j,f[j],ind_mudo) = (8,8.2,1)\n",
      "(j,f[j],ind_mudo) = (9,4.6,1)\n",
      "(j,f[j],ind_mudo) = (10,2.0,1)\n",
      "(j,f[j],ind_mudo) = (11,1.0,1)\n",
      "(j,f[j],ind_mudo) = (12,1.0,1)\n",
      "(j,f[j],ind_mudo) = (13,1.0,1)\n"
     ]
    },
    {
     "data": {
      "text/plain": [
       "1"
      ]
     },
     "execution_count": 10,
     "metadata": {},
     "output_type": "execute_result"
    }
   ],
   "source": [
    "# SI\n",
    "vida_media = 1000/2\n",
    "ind_mudo = 0\n",
    "for j in 1:length(f)\n",
    "    if f[j] > vida_media \n",
    "       ind_mudo = j\n",
    "    else\n",
    "        ind_mudo = ind_mudo\n",
    "    end\n",
    "    @show j, f[j], ind_mudo\n",
    "end\n",
    "return ind_mudo"
   ]
  },
  {
   "cell_type": "code",
   "execution_count": null,
   "metadata": {
    "collapsed": true
   },
   "outputs": [],
   "source": []
  },
  {
   "cell_type": "code",
   "execution_count": 17,
   "metadata": {
    "collapsed": false
   },
   "outputs": [
    {
     "data": {
      "text/plain": [
       "Vida_Media (generic function with 1 method)"
      ]
     },
     "execution_count": 17,
     "metadata": {},
     "output_type": "execute_result"
    }
   ],
   "source": [
    "function Vida_Media(Tiempo_D, Nucleo_D)\n",
    "    \n",
    "    vida_media = Nucleo_D[1]/2\n",
    "    ind_mudo = 0\n",
    "    \n",
    "    for j in 1:length(Nucleo_D)\n",
    "        if Nucleo_D[j] > vida_media \n",
    "           ind_mudo = j\n",
    "        else\n",
    "            ind_mudo = ind_mudo\n",
    "        end\n",
    "        @show j, Nucleo_D[j], ind_mudo\n",
    "    end\n",
    "return ind_mudo, ind_mudo+1\n",
    "end"
   ]
  },
  {
   "cell_type": "code",
   "execution_count": 21,
   "metadata": {
    "collapsed": false
   },
   "outputs": [
    {
     "name": "stdout",
     "output_type": "stream",
     "text": [
      "(j,Nucleo_D[j],ind_mudo) = (1,1000.0,1)\n",
      "(j,Nucleo_D[j],ind_mudo) = (2,495.0,1)\n",
      "(j,Nucleo_D[j],ind_mudo) = (3,248.8,1)\n",
      "(j,Nucleo_D[j],ind_mudo) = (4,125.2,1)\n",
      "(j,Nucleo_D[j],ind_mudo) = (5,63.6,1)\n",
      "(j,Nucleo_D[j],ind_mudo) = (6,30.6,1)\n",
      "(j,Nucleo_D[j],ind_mudo) = (7,15.8,1)\n",
      "(j,Nucleo_D[j],ind_mudo) = (8,7.8,1)\n",
      "(j,Nucleo_D[j],ind_mudo) = (9,5.0,1)\n",
      "(j,Nucleo_D[j],ind_mudo) = (10,2.6,1)\n",
      "(j,Nucleo_D[j],ind_mudo) = (11,1.6,1)\n",
      "(j,Nucleo_D[j],ind_mudo) = (12,1.0,1)\n",
      "(j,Nucleo_D[j],ind_mudo) = (13,1.0,1)\n"
     ]
    },
    {
     "data": {
      "text/plain": [
       "(1,2)"
      ]
     },
     "execution_count": 21,
     "metadata": {},
     "output_type": "execute_result"
    }
   ],
   "source": [
    "Vida_Media(f1, f2)"
   ]
  },
  {
   "cell_type": "code",
   "execution_count": null,
   "metadata": {
    "collapsed": true
   },
   "outputs": [],
   "source": []
  },
  {
   "cell_type": "code",
   "execution_count": null,
   "metadata": {
    "collapsed": true
   },
   "outputs": [],
   "source": [
    "# funcion promedio\n",
    "function promediar()\n",
    "    \n",
    "end"
   ]
  },
  {
   "cell_type": "code",
   "execution_count": null,
   "metadata": {
    "collapsed": true
   },
   "outputs": [],
   "source": []
  },
  {
   "cell_type": "code",
   "execution_count": null,
   "metadata": {
    "collapsed": true
   },
   "outputs": [],
   "source": []
  },
  {
   "cell_type": "code",
   "execution_count": null,
   "metadata": {
    "collapsed": true
   },
   "outputs": [],
   "source": [
    "La vida media T12 correspondiente al tiempo que tarda la desintegración de la mitad de los núcleos iniciales."
   ]
  }
 ],
 "metadata": {
  "kernelspec": {
   "display_name": "Julia 0.5.0",
   "language": "julia",
   "name": "julia-0.5"
  },
  "language_info": {
   "file_extension": ".jl",
   "mimetype": "application/julia",
   "name": "julia",
   "version": "0.5.0"
  }
 },
 "nbformat": 4,
 "nbformat_minor": 2
}

{
 "cells": [
  {
   "cell_type": "markdown",
   "metadata": {},
   "source": [
    "# Ecuaciones diferenciales ordinarias"
   ]
  },
  {
   "cell_type": "code",
   "execution_count": 3,
   "metadata": {
    "collapsed": false
   },
   "outputs": [
    {
     "data": {
      "text/plain": [
       "Plots.PyPlotBackend()"
      ]
     },
     "execution_count": 3,
     "metadata": {},
     "output_type": "execute_result"
    }
   ],
   "source": [
    "using Plots, LaTeXStrings\n",
    "pyplot()"
   ]
  },
  {
   "cell_type": "code",
   "execution_count": 2,
   "metadata": {
    "collapsed": false
   },
   "outputs": [
    {
     "data": {
      "text/html": [
       "<div id=\"interact-js-shim\">\n",
       "    <script charset=\"utf-8\">\n",
       "(function (IPython, $, _, MathJax) {\n",
       "    $.event.special.destroyed = {\n",
       "\tremove: function(o) {\n",
       "\t    if (o.handler) {\n",
       "\t\to.handler.apply(this, arguments)\n",
       "\t    }\n",
       "\t}\n",
       "    }\n",
       "\n",
       "    var OutputArea = IPython.version >= \"4.0.0\" ? require(\"notebook/js/outputarea\").OutputArea : IPython.OutputArea;\n",
       "\n",
       "    var redrawValue = function (container, type, val) {\n",
       "\tvar selector = $(\"<div/>\");\n",
       "\tvar oa = new OutputArea(_.extend(selector, {\n",
       "\t    selector: selector,\n",
       "\t    prompt_area: true,\n",
       "\t    events: IPython.events,\n",
       "\t    keyboard_manager: IPython.keyboard_manager\n",
       "\t})); // Hack to work with IPython 2.1.0\n",
       "\n",
       "\tswitch (type) {\n",
       "\tcase \"image/png\":\n",
       "            var _src = 'data:' + type + ';base64,' + val;\n",
       "\t    $(container).find(\"img\").attr('src', _src);\n",
       "\t    break;\n",
       "\tcase \"text/latex\":\n",
       "\t\tif (MathJax){\n",
       "\t\t\tvar math = MathJax.Hub.getAllJax(container)[0];\n",
       "\t\t\tMathJax.Hub.Queue([\"Text\", math, val.replace(/^\\${1,2}|\\${1,2}$/g, '')]);\n",
       "\t\t\tbreak;\n",
       "\t\t}\n",
       "\tdefault:\n",
       "\t    var toinsert = OutputArea.append_map[type].apply(\n",
       "\t\toa, [val, {}, selector]\n",
       "\t    );\n",
       "\t    $(container).empty().append(toinsert.contents());\n",
       "\t    selector.remove();\n",
       "\t}\n",
       "    }\n",
       "\n",
       "\n",
       "    $(document).ready(function() {\n",
       "\tfunction initComm(evt, data) {\n",
       "\t    var comm_manager = data.kernel.comm_manager;\n",
       "        //_.extend(comm_manager.targets, require(\"widgets/js/widget\"))\n",
       "\t    comm_manager.register_target(\"Signal\", function (comm) {\n",
       "            comm.on_msg(function (msg) {\n",
       "                var val = msg.content.data.value;\n",
       "                $(\".signal-\" + comm.comm_id).each(function() {\n",
       "                var type = $(this).data(\"type\");\n",
       "                if (typeof(val[type]) !== \"undefined\" && val[type] !== null) {\n",
       "                    redrawValue(this, type, val[type], type);\n",
       "                }\n",
       "                });\n",
       "                delete val;\n",
       "                delete msg.content.data.value;\n",
       "            });\n",
       "\t    });\n",
       "\n",
       "\t    // coordingate with Comm and redraw Signals\n",
       "\t    // XXX: Test using Reactive here to improve performance\n",
       "\t    $([IPython.events]).on(\n",
       "\t\t'output_appended.OutputArea', function (event, type, value, md, toinsert) {\n",
       "\t\t    if (md && md.reactive) {\n",
       "                // console.log(md.comm_id);\n",
       "                toinsert.addClass(\"signal-\" + md.comm_id);\n",
       "                toinsert.data(\"type\", type);\n",
       "                // Signal back indicating the mimetype required\n",
       "                var comm_manager = IPython.notebook.kernel.comm_manager;\n",
       "                var comm = comm_manager.comms[md.comm_id];\n",
       "                comm.then(function (c) {\n",
       "                    c.send({action: \"subscribe_mime\",\n",
       "                       mime: type});\n",
       "                    toinsert.bind(\"destroyed\", function() {\n",
       "                        c.send({action: \"unsubscribe_mime\",\n",
       "                               mime: type});\n",
       "                    });\n",
       "                })\n",
       "\t\t    }\n",
       "\t    });\n",
       "\t}\n",
       "\n",
       "\ttry {\n",
       "\t    // try to initialize right away. otherwise, wait on the status_started event.\n",
       "\t    initComm(undefined, IPython.notebook);\n",
       "\t} catch (e) {\n",
       "\t    $([IPython.events]).on('kernel_created.Kernel kernel_created.Session', initComm);\n",
       "\t}\n",
       "    });\n",
       "})(IPython, jQuery, _, MathJax);\n",
       "</script>\n",
       "    <script>\n",
       "        window.interactLoadedFlag = true\n",
       "       $(\"#interact-js-shim\").bind(\"destroyed\", function () {\n",
       "           if (window.interactLoadedFlag) {\n",
       "               console.warn(\"JavaScript required by Interact will be removed if you remove this cell or run using Interact more than once.\")\n",
       "           }\n",
       "       })\n",
       "       $([IPython.events]).on(\"kernel_starting.Kernel kernel_restarting.Kernel\", function () { window.interactLoadedFlag = false })\n",
       "   </script>\n",
       "</div>"
      ]
     },
     "metadata": {},
     "output_type": "display_data"
    }
   ],
   "source": [
    "using Interact"
   ]
  },
  {
   "cell_type": "markdown",
   "metadata": {},
   "source": [
    "Recordemos qué una **ecuación diferencial ordinaria (EDO)** es (aproximadamente) una ecuación en la cual aparece una derivada de una función, y para la cual queremos buscar la solución para esta función.\n",
    "\n",
    "La EDO más simple no-trivial y físicamente relevante en una variable es \n",
    "\n",
    "$$\\dot{x} = -\\alpha x.$$\n",
    "\n",
    "[Recordemos la notación $\\dot{x} := \\textstyle \\frac{dx}{dt}$, donde $t$ es el tiempo; es muy común en la física que las EDOs involucren derivadas con respecto al tiempo.]"
   ]
  },
  {
   "cell_type": "markdown",
   "metadata": {},
   "source": [
    "Una solución a esta ecuación es un objeto $x$, tal que cuando la derivamos con respecto al tiempo, nos da $-\\alpha$ (una constante) multiplicada por el mismo objeto. Implícitamente está claro que $x$ depende de $t$, por lo que realmente $x$ se refiere a una función de $t$, es decir $x: \\mathbb{R} \\to \\mathbb{R}$, con $x: t \\mapsto x(t)$. Esta ecuación se puede considerar como ecuación *funcional*, es decir, una igualdad de funciones. \n",
    "\n",
    "Esta ecuación se puede escribir más explícitamente como sigue:\n",
    "\n",
    "$$\\dot{x}(t) = -\\alpha x(t) \\qquad \\text{para cada } t \\in \\mathbb{R}.$$\n",
    "\n",
    "En mi opinión, en esta forma queda más claro.\n",
    "\n",
    "Esto quiere decir que si *de alguna manera* hayamos logrado saber que la solución en el tiempo $t$ está en la posición $x(t)$, entonces nos indica cuál será la *velocidad* $\\dot{x}(t)$ en este momento. "
   ]
  },
  {
   "cell_type": "markdown",
   "metadata": {},
   "source": [
    "La forma general de una EDO en una variable es\n",
    "\n",
    "$$\\dot{x} = f(x, t),$$\n",
    "\n",
    "o sea\n",
    "\n",
    "$$\\dot{x}(t) = f(x(t), t) \\qquad \\text{para cada } t \\in \\mathbb{R}.$$\n",
    "\n",
    "Recordemos que debe ir acompañada por una condición inicial $x(t=t_0) = x_0$ para que constituya un problema bien posado (*problema de valores iniciales*, o *problema de Cauchy*).\n",
    "La solución de una ecuación de este tipo será una *función* $x(t)$ que satisface al mismo tiempo que $\\dot{x}(t) = f(x(t), t)$ para cada $t$, y que $x(t=t_0) = x_0$. \n",
    "\n",
    "En el caso particular de la ecuación $\\dot{x} = -\\alpha x$, conocemos analíticamente la solución, y nos servirá para comprobar nuestros métodos. Pero para las ecuaciones de interés para la física, esto *casi nunca ocurre*, una situación que ¡suele pasar desapercibida durante la carrera! En estos casos, debemos aplicar distintas técnicas de *aproximación* de la solución, entre las cuales se destacan los *métodos numéricos*."
   ]
  },
  {
   "cell_type": "markdown",
   "metadata": {},
   "source": [
    "# Método de Euler"
   ]
  },
  {
   "cell_type": "markdown",
   "metadata": {},
   "source": [
    "Para resolver una EDO numéricamente en la computadora, tendremos que *aproximar* la solución continua $x: t \\mapsto x(t)$ con una versión con una cantidad finita de información, es decir, *discretizarla* de alguna forma.\n",
    "\n",
    "La manera más sencilla de hacerla es usando *diferencias finitas*."
   ]
  },
  {
   "cell_type": "markdown",
   "metadata": {},
   "source": [
    "**[1]** (i) ¿Cuál es la aproximación más sencilla de la derivada $\\dot{x}(t)$, en términos de un tamaño de paso pequeño $h$?"
   ]
  },
  {
   "cell_type": "markdown",
   "metadata": {},
   "source": [
    "$\\dot{x}(t) = \\frac{x(t + h) - x(t)}{h}$"
   ]
  },
  {
   "cell_type": "markdown",
   "metadata": {},
   "source": [
    "(ii) Aplica esta aproximación con la ecuación $\\dot{x} = f(x, t)$ para obtener una expresión para $x(t+h)$, es decir el valor *predicho* en el siguiente *paso* de tiempo, en términos del valor ya conocido $x(t)$."
   ]
  },
  {
   "cell_type": "markdown",
   "metadata": {},
   "source": [
    "$x(t + h) = h * f(x(t), t) + x(t)$"
   ]
  },
  {
   "cell_type": "markdown",
   "metadata": {},
   "source": [
    "(iii) Implementa este *método de Euler* en una función. Para hacerlo, crea un arreglo `ts` de los tiempos en los cuales se evaluará la función. Luego crea otro arreglo de ceros, con la función `zeros`. [Si pasas el arreglo `t` como argumento a esta función, creará un arreglo del mismo tamaño automáticamente.] Ahora implementa el paso (ii) en un algoritmo iterativo para actualizar los valores en el nuevo arreglo para cada tiempo sucesivamente."
   ]
  },
  {
   "cell_type": "code",
   "execution_count": 4,
   "metadata": {
    "collapsed": false
   },
   "outputs": [
    {
     "data": {
      "text/plain": [
       "Euler (generic function with 1 method)"
      ]
     },
     "execution_count": 4,
     "metadata": {},
     "output_type": "execute_result"
    }
   ],
   "source": [
    "function Euler(f::Function, x0::Real, t0::Real, tf::Real, h::Real)\n",
    "   \n",
    "    # Condiciones iniciales\n",
    "    #f = f(x0, t0)\n",
    "   \n",
    "     # Arreglos con condiciones iniciales\n",
    "    Xs = Float64[x0]\n",
    "    Ts = collect(t0:h:tf) # Arreglo que contiene los tiempos\n",
    "    \n",
    "    for i in 1:length(Ts)-1\n",
    "    \n",
    "        x = h * f(Xs[i], Ts[i]) + Xs[i]\n",
    "        push!(Xs, x)\n",
    "\n",
    "    end\n",
    "    \n",
    "    return Ts, Xs\n",
    "    \n",
    "end"
   ]
  },
  {
   "cell_type": "markdown",
   "metadata": {},
   "source": [
    "(iv) Verifica que funcione tu método al aplicarlo a una función $f(t)$ sencilla que dependa *únicamente del tiempo*. [Recuerda que debes imponer una condición inicial.] ¿Cuál operación matemática acabas de llevar a cabo? Compara con la solución analítica."
   ]
  },
  {
   "cell_type": "code",
   "execution_count": 5,
   "metadata": {
    "collapsed": false
   },
   "outputs": [
    {
     "data": {
      "text/plain": [
       "f (generic function with 1 method)"
      ]
     },
     "execution_count": 5,
     "metadata": {},
     "output_type": "execute_result"
    }
   ],
   "source": [
    "f(x,t) = x"
   ]
  },
  {
   "cell_type": "code",
   "execution_count": 6,
   "metadata": {
    "collapsed": false
   },
   "outputs": [
    {
     "data": {
      "text/plain": [
       "([0.0,0.01,0.02,0.03,0.04,0.05,0.06,0.07,0.08,0.09  …  9.91,9.92,9.93,9.94,9.95,9.96,9.97,9.98,9.99,10.0],[1.0,1.01,1.0201,1.0303,1.0406,1.05101,1.06152,1.07214,1.08286,1.09369  …  19163.8,19355.4,19549.0,19744.5,19941.9,20141.3,20342.7,20546.2,20751.6,20959.2])"
      ]
     },
     "execution_count": 6,
     "metadata": {},
     "output_type": "execute_result"
    }
   ],
   "source": [
    "a, b = Euler(f, 1.0, 0.0, 10, 0.01)"
   ]
  },
  {
   "cell_type": "code",
   "execution_count": 7,
   "metadata": {
    "collapsed": false
   },
   "outputs": [
    {
     "data": {
      "text/html": [
       "<img src=\"data:image/png;base64,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\" />"
      ]
     },
     "execution_count": 7,
     "metadata": {},
     "output_type": "execute_result"
    }
   ],
   "source": [
    "#Euler(f, 1, 0, 10, 0.01)\n",
    "plot(a, exp)\n",
    "plot!(a, b)"
   ]
  },
  {
   "cell_type": "code",
   "execution_count": 9,
   "metadata": {
    "collapsed": false
   },
   "outputs": [
    {
     "data": {
      "text/html": [],
      "text/plain": [
       "Interact.Options{:SelectionSlider,Float64}(Signal{Float64}(2.55, nactions=1),\"h\",2.55,\"2.55\",Interact.OptionDict(DataStructures.OrderedDict(\"0.1\"=>0.1,\"0.11\"=>0.11,\"0.12\"=>0.12,\"0.13\"=>0.13,\"0.14\"=>0.14,\"0.15\"=>0.15,\"0.16\"=>0.16,\"0.17\"=>0.17,\"0.18\"=>0.18,\"0.19\"=>0.19…),Dict(1.2=>\"1.2\",2.37=>\"2.37\",1.68=>\"1.68\",4.92=>\"4.92\",1.19=>\"1.19\",0.22=>\"0.22\",2.75=>\"2.75\",4.83=>\"4.83\",0.2=>\"0.2\",0.89=>\"0.89\"…)),Any[],Any[],true,\"horizontal\")"
      ]
     },
     "metadata": {},
     "output_type": "display_data"
    },
    {
     "data": {
      "text/html": [
       "<img src=\"data:image/png;base64,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\" />"
      ]
     },
     "execution_count": 9,
     "metadata": {
      "comm_id": "f6122795-78ee-4c7f-bf26-5e2146c1c092",
      "reactive": true
     },
     "output_type": "execute_result"
    }
   ],
   "source": [
    "@manipulate for h in 0.1:0.01:5\n",
    "    c, d = Euler(f, 1.0, 0.0, 5.0, h)\n",
    "    plot(c, exp)\n",
    "    plot!(c, d)\n",
    "end"
   ]
  },
  {
   "cell_type": "markdown",
   "metadata": {},
   "source": [
    "**[2]** (i) Utiliza tu función para resolver la ecuación $\\dot{x} = -\\alpha x$, con  y compara tu solución numérica gráficamente con la solución analítica de la ecuación. ¿Qué pasa al variar el paso de tiempo? Hazlo interactivo.\n",
    "\n",
    "(ii) Dado que el método de Euler utiliza una aproximación, el resultado no es exacto. Fija una $t$ final y calcula el error (desde la solución analítica) en función del tamaño de paso $h$. ¿Cómo es la convergencia en función de $h$?"
   ]
  },
  {
   "cell_type": "markdown",
   "metadata": {},
   "source": [
    "$x = e^{-\\alpha  t}$"
   ]
  },
  {
   "cell_type": "code",
   "execution_count": 20,
   "metadata": {
    "collapsed": false
   },
   "outputs": [
    {
     "name": "stderr",
     "output_type": "stream",
     "text": [
      "WARNING: Method definition f(Any, Any) in module Main at In[17]:1 overwritten at In[20]:1.\n"
     ]
    },
    {
     "data": {
      "text/plain": [
       "f (generic function with 1 method)"
      ]
     },
     "execution_count": 20,
     "metadata": {},
     "output_type": "execute_result"
    }
   ],
   "source": [
    "f(x,t) = -α(x) "
   ]
  },
  {
   "cell_type": "code",
   "execution_count": 21,
   "metadata": {
    "collapsed": false
   },
   "outputs": [
    {
     "ename": "LoadError",
     "evalue": "MethodError: objects of type Int64 are not callable",
     "output_type": "error",
     "traceback": [
      "MethodError: objects of type Int64 are not callable",
      "",
      " in f(::Int64, ::Int64) at ./In[20]:1"
     ]
    }
   ],
   "source": [
    "ts = 0\n",
    "x = 1\n",
    "α = 1\n",
    "f(1, 0)  "
   ]
  },
  {
   "cell_type": "code",
   "execution_count": 11,
   "metadata": {
    "collapsed": false
   },
   "outputs": [
    {
     "data": {
      "text/plain": [
       "([0.0,0.2,0.4,0.6,0.8,1.0,1.2,1.4,1.6,1.8  …  3.2,3.4,3.6,3.8,4.0,4.2,4.4,4.6,4.8,5.0],[1.0,1.2,1.44,1.728,2.0736,2.48832,2.98598,3.58318,4.29982,5.15978  …  18.4884,22.1861,26.6233,31.948,38.3376,46.0051,55.2061,66.2474,79.4968,95.3962])"
      ]
     },
     "execution_count": 11,
     "metadata": {},
     "output_type": "execute_result"
    }
   ],
   "source": [
    "a1, a2 = Euler(f, 1.0, 0.0, 5.0, 0.2)"
   ]
  },
  {
   "cell_type": "code",
   "execution_count": 12,
   "metadata": {
    "collapsed": false
   },
   "outputs": [
    {
     "ename": "LoadError",
     "evalue": "MethodError: no method matching f(::Float64)\u001b[0m\nClosest candidates are:\n  f(::Any, \u001b[1m\u001b[31m::Any\u001b[0m) at In[10]:1\u001b[0m",
     "output_type": "error",
     "traceback": [
      "MethodError: no method matching f(::Float64)\u001b[0m\nClosest candidates are:\n  f(::Any, \u001b[1m\u001b[31m::Any\u001b[0m) at In[10]:1\u001b[0m",
      "",
      " in _collect(::Array{Float64,1}, ::Base.Generator{Array{Float64,1},#f}, ::Base.EltypeUnknown, ::Base.HasShape) at ./array.jl:320",
      " in compute_xyz(::Array{Float64,1}, ::Function, ::Void) at /Users/Yuriko/.julia/v0.5/Plots/src/series.jl:93",
      " in macro expansion at /Users/Yuriko/.julia/v0.5/Plots/src/series.jl:150 [inlined]",
      " in apply_recipe(::Dict{Symbol,Any}, ::Type{Plots.SliceIt}, ::Array{Float64,1}, ::Function, ::Void) at /Users/Yuriko/.julia/v0.5/RecipesBase/src/RecipesBase.jl:238",
      " in _process_userrecipes(::Plots.Plot{Plots.PyPlotBackend}, ::Dict{Symbol,Any}, ::Tuple{Array{Float64,1},#f}) at /Users/Yuriko/.julia/v0.5/Plots/src/pipeline.jl:73",
      " in _plot!(::Plots.Plot{Plots.PyPlotBackend}, ::Dict{Symbol,Any}, ::Tuple{Array{Float64,1},#f}) at /Users/Yuriko/.julia/v0.5/Plots/src/plot.jl:171",
      " in #plot#261(::Array{Any,1}, ::Function, ::Array{Float64,1}, ::Vararg{Any,N}) at /Users/Yuriko/.julia/v0.5/Plots/src/plot.jl:52",
      " in plot(::Array{Float64,1}, ::Function, ::Vararg{Function,N}) at /Users/Yuriko/.julia/v0.5/Plots/src/plot.jl:46"
     ]
    }
   ],
   "source": [
    "# Gráfica\n",
    "plot(a1, f)\n",
    "plot!(a1, a2)"
   ]
  },
  {
   "cell_type": "markdown",
   "metadata": {},
   "source": [
    "**[3]** Considera la ecuación diferencial nolineal $\\dot{x} = x*(1-x)$ que modela la dinámica de una población. Resúelvela numéricamente desde distintas condiciones iniciales y dibuja las soluciones correspondientes. Interpreta el resultado."
   ]
  },
  {
   "cell_type": "code",
   "execution_count": null,
   "metadata": {
    "collapsed": true
   },
   "outputs": [],
   "source": []
  },
  {
   "cell_type": "markdown",
   "metadata": {},
   "source": [
    "# Varias variables"
   ]
  },
  {
   "cell_type": "markdown",
   "metadata": {},
   "source": [
    "El método de Euler se extiende directamente a EDOs con más de una variable."
   ]
  },
  {
   "cell_type": "markdown",
   "metadata": {},
   "source": [
    "**[4]** (i) Deriva un método de Euler para las ecuaciones acopladas\n",
    "$$\\dot{x} = f(x, y);$$\n",
    "$$\\dot{y} = g(x, y).$$\n",
    "\n",
    "Para hacerlo, aplica la definición de la derivada de nuevo.\n",
    "\n",
    "(ii) Implementa el método.\n",
    "\n",
    "(iii) Aplícalo a la ecuación diferencial lineal que describe un oscilador armónico amortiguado. [Pista: Recuerda que para hacerlo, hay un \"truco\" para reducir una ecuación diferencial de segundo orden a dos ecuaciones de primer orden; ¿cuál es?\n",
    "\n",
    "(iv) Calcula trayectorias desde distintas condiciones iniciales y dibújalas, y/o ¡hazlo interactivo!\n",
    "Debes dibujar tanto $x(t)$ y $y(t)$ como funciones del tiempo, como el **espacio fase**. "
   ]
  },
  {
   "cell_type": "markdown",
   "metadata": {},
   "source": [
    "## El enfoque vectorial"
   ]
  },
  {
   "cell_type": "markdown",
   "metadata": {},
   "source": [
    "Recordemos que *cualquier* EDO, *incluídas las de orden superior* (es decir, con derivadas más altas que la primera de alguna función) se puede escribir en la forma\n",
    "$$\\dot{\\mathbf{x}} = \\mathbf{f}(\\mathbf{x}, t) \\qquad (*)$$\n",
    "\n",
    "es decir\n",
    "\n",
    "$$\\dot{\\mathbf{x}}(t) = \\mathbf{f}(\\mathbf{x}(t), t),$$\n",
    "\n",
    "donde ahora $\\mathbf{x} = (x_1, \\ldots, x_n) \\in \\mathbb{R}^n$ es un vector y $\\mathbf{f}: \\mathbb{R}^n \\to \\mathbb{R}^n$ es una función vectorial, que nos da un **campo vectorial** que indica en cuál dirección seguir desde cada punto del espacio."
   ]
  },
  {
   "cell_type": "markdown",
   "metadata": {},
   "source": [
    "**[5]** (i) Escribe una función para hacer un paso del método de Euler para las ecuaciones acopladas\n",
    "\n",
    "$$\\dot{\\mathbf{x}} = \\mathbf{f}(\\mathbf{x}, t).$$\n",
    "\n",
    "El código ahora deberá ser *genérico*, es decir, debe funcionar para cualquier función $\\mathbf{f}$ y vector $\\mathbf{x}$.\n",
    "\n",
    "(ii) Escribe el método de Euler completo. \n",
    "\n",
    "(iii) Úsalo para resolver la caída libre y una caída con fricción lineal en la velocidad. Compara con el resultado exacto. Dibuja las resultados con distintos tamaños de fricción.\n",
    "\n",
    "(iv) Resuelve la caída libre con fricción cuadrática en la velocidad."
   ]
  },
  {
   "cell_type": "markdown",
   "metadata": {},
   "source": [
    "**[6]** (i) Resuelve numéricamente el problema del tiro parabólico con Euler para un proyectil que empieza en una altura $h>0$ con rapidez $1$ y ángulo inicial $\\alpha$, *hasta que* caiga al suelo.\n",
    "\n",
    "(ii) Encuentra la distancia horizontal donde cae al suelo (el rango). Dibuja el resultado tal que puedas manipular interactivamente las condiciones iniciales. Encuentra numéricamente el ángulo que maximiza el rango. ¿Es correcto?\n",
    "\n",
    "(iii) Agrega fricción del aire al problema y agrégalo como otro parámetro que puedas manipular. ¿Cómo cambia el resultado de la pregunta (ii)?"
   ]
  }
 ],
 "metadata": {
  "kernelspec": {
   "display_name": "Julia 0.5.0",
   "language": "julia",
   "name": "julia-0.5"
  },
  "language_info": {
   "file_extension": ".jl",
   "mimetype": "application/julia",
   "name": "julia",
   "version": "0.5.0"
  },
  "widgets": {
   "state": {
    "7b33719b-30c9-4e3e-8633-8f0eddc531e0": {
     "views": [
      {
       "cell_index": 18
      }
     ]
    }
   },
   "version": "1.2.0"
  }
 },
 "nbformat": 4,
 "nbformat_minor": 0
}

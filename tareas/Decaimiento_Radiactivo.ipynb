{
 "cells": [
  {
   "cell_type": "markdown",
   "metadata": {},
   "source": [
    "# Decaimiento Radiactivo\n",
    "### Integrantes\n",
    "#### Héctor Andrés Flores \n",
    "#### Alejandra Yuriko Yamamoto"
   ]
  },
  {
   "cell_type": "markdown",
   "metadata": {},
   "source": [
    "Teoría\n",
    "Problema Físico\n",
    "De MonteCarlo justificar cómo se obtiene la ecuación diferencial que describe el decaimiento radiactivo."
   ]
  },
  {
   "cell_type": "markdown",
   "metadata": {},
   "source": [
    "**[1]** Resolver la ecuación diferencial de decaimiento radiactivo mediante algún método visto en clase como Runge-Kutta\n",
    "        $$ \\frac{dN(t)}{dt} = - \\lambda N(t) $$"
   ]
  },
  {
   "cell_type": "code",
   "execution_count": 1,
   "metadata": {
    "collapsed": false
   },
   "outputs": [
    {
     "data": {
      "text/plain": [
       "Euler (generic function with 1 method)"
      ]
     },
     "execution_count": 1,
     "metadata": {},
     "output_type": "execute_result"
    }
   ],
   "source": [
    "# Por método de Euler\n",
    "\n",
    "function Euler(f::Function, x0::Real, t0::Real, tf::Real, h::Real)\n",
    "   \n",
    "    # Condiciones iniciales\n",
    "    #f = f(x0, t0)\n",
    "   \n",
    "     # Arreglos con condiciones iniciales\n",
    "    Xs = Float64[x0]\n",
    "    Ts = collect(t0:h:tf) # Arreglo que contiene los tiempos\n",
    "    \n",
    "    for i in 1:length(Ts)-1\n",
    "    \n",
    "        x = h * f(Xs[i], Ts[i]) + Xs[i]\n",
    "        push!(Xs, x)\n",
    "\n",
    "    end\n",
    "    \n",
    "    return Ts, Xs\n",
    "    \n",
    "end"
   ]
  },
  {
   "cell_type": "code",
   "execution_count": 4,
   "metadata": {
    "collapsed": false
   },
   "outputs": [
    {
     "name": "stderr",
     "output_type": "stream",
     "text": [
      "WARNING: Method definition f(Any, Any) in module Main at In[2]:1 overwritten at In[4]:1.\n"
     ]
    },
    {
     "data": {
      "text/plain": [
       "300000.0"
      ]
     },
     "execution_count": 4,
     "metadata": {},
     "output_type": "execute_result"
    }
   ],
   "source": [
    "f(N,t) = -λ * N\n",
    "λ = 0.3e6"
   ]
  },
  {
   "cell_type": "code",
   "execution_count": 10,
   "metadata": {
    "collapsed": false
   },
   "outputs": [
    {
     "data": {
      "text/plain": [
       "([0.0,0.2,0.4,0.6,0.8,1.0,1.2,1.4,1.6,1.8  …  8.2,8.4,8.6,8.8,9.0,9.2,9.4,9.6,9.8,10.0],[1.0,-59999.0,3.59988e9,-2.15989e14,1.29591e19,-7.77535e23,4.66513e28,-2.79903e33,1.67939e38,-1.00762e43  …  -8.01502e195,4.80893e200,-2.88531e205,1.73116e210,-1.03868e215,6.23196e219,-3.73911e224,2.24343e229,-1.34604e234,8.07608e238])"
      ]
     },
     "execution_count": 10,
     "metadata": {},
     "output_type": "execute_result"
    }
   ],
   "source": [
    "Euler(f, 1, 0, 10, 0.2)"
   ]
  },
  {
   "cell_type": "code",
   "execution_count": null,
   "metadata": {
    "collapsed": true
   },
   "outputs": [],
   "source": []
  }
 ],
 "metadata": {
  "kernelspec": {
   "display_name": "Julia 0.5.0",
   "language": "julia",
   "name": "julia-0.5"
  },
  "language_info": {
   "file_extension": ".jl",
   "mimetype": "application/julia",
   "name": "julia",
   "version": "0.5.0"
  }
 },
 "nbformat": 4,
 "nbformat_minor": 2
}

{
 "cells": [
  {
   "cell_type": "markdown",
   "metadata": {},
   "source": [
    "# Interpolación de Lagrange"
   ]
  },
  {
   "cell_type": "code",
   "execution_count": 1,
   "metadata": {
    "collapsed": false
   },
   "outputs": [
    {
     "data": {
      "text/plain": [
       "Plots.PyPlotBackend()"
      ]
     },
     "execution_count": 1,
     "metadata": {},
     "output_type": "execute_result"
    }
   ],
   "source": [
    "using Plots, LaTeXStrings\n",
    "pyplot()"
   ]
  },
  {
   "cell_type": "code",
   "execution_count": 2,
   "metadata": {
    "collapsed": false
   },
   "outputs": [
    {
     "data": {
      "text/html": [
       "<div id=\"interact-js-shim\">\n",
       "    <script charset=\"utf-8\">\n",
       "(function (IPython, $, _, MathJax) {\n",
       "    $.event.special.destroyed = {\n",
       "\tremove: function(o) {\n",
       "\t    if (o.handler) {\n",
       "\t\to.handler.apply(this, arguments)\n",
       "\t    }\n",
       "\t}\n",
       "    }\n",
       "\n",
       "    var OutputArea = IPython.version >= \"4.0.0\" ? require(\"notebook/js/outputarea\").OutputArea : IPython.OutputArea;\n",
       "\n",
       "    var redrawValue = function (container, type, val) {\n",
       "\tvar selector = $(\"<div/>\");\n",
       "\tvar oa = new OutputArea(_.extend(selector, {\n",
       "\t    selector: selector,\n",
       "\t    prompt_area: true,\n",
       "\t    events: IPython.events,\n",
       "\t    keyboard_manager: IPython.keyboard_manager\n",
       "\t})); // Hack to work with IPython 2.1.0\n",
       "\n",
       "\tswitch (type) {\n",
       "\tcase \"image/png\":\n",
       "            var _src = 'data:' + type + ';base64,' + val;\n",
       "\t    $(container).find(\"img\").attr('src', _src);\n",
       "\t    break;\n",
       "\tcase \"text/latex\":\n",
       "\t\tif (MathJax){\n",
       "\t\t\tvar math = MathJax.Hub.getAllJax(container)[0];\n",
       "\t\t\tMathJax.Hub.Queue([\"Text\", math, val.replace(/^\\${1,2}|\\${1,2}$/g, '')]);\n",
       "\t\t\tbreak;\n",
       "\t\t}\n",
       "\tdefault:\n",
       "\t    var toinsert = OutputArea.append_map[type].apply(\n",
       "\t\toa, [val, {}, selector]\n",
       "\t    );\n",
       "\t    $(container).empty().append(toinsert.contents());\n",
       "\t    selector.remove();\n",
       "\t}\n",
       "    }\n",
       "\n",
       "\n",
       "    $(document).ready(function() {\n",
       "\tfunction initComm(evt, data) {\n",
       "\t    var comm_manager = data.kernel.comm_manager;\n",
       "        //_.extend(comm_manager.targets, require(\"widgets/js/widget\"))\n",
       "\t    comm_manager.register_target(\"Signal\", function (comm) {\n",
       "            comm.on_msg(function (msg) {\n",
       "                var val = msg.content.data.value;\n",
       "                $(\".signal-\" + comm.comm_id).each(function() {\n",
       "                var type = $(this).data(\"type\");\n",
       "                if (typeof(val[type]) !== \"undefined\" && val[type] !== null) {\n",
       "                    redrawValue(this, type, val[type], type);\n",
       "                }\n",
       "                });\n",
       "                delete val;\n",
       "                delete msg.content.data.value;\n",
       "            });\n",
       "\t    });\n",
       "\n",
       "\t    // coordingate with Comm and redraw Signals\n",
       "\t    // XXX: Test using Reactive here to improve performance\n",
       "\t    $([IPython.events]).on(\n",
       "\t\t'output_appended.OutputArea', function (event, type, value, md, toinsert) {\n",
       "\t\t    if (md && md.reactive) {\n",
       "                // console.log(md.comm_id);\n",
       "                toinsert.addClass(\"signal-\" + md.comm_id);\n",
       "                toinsert.data(\"type\", type);\n",
       "                // Signal back indicating the mimetype required\n",
       "                var comm_manager = IPython.notebook.kernel.comm_manager;\n",
       "                var comm = comm_manager.comms[md.comm_id];\n",
       "                comm.then(function (c) {\n",
       "                    c.send({action: \"subscribe_mime\",\n",
       "                       mime: type});\n",
       "                    toinsert.bind(\"destroyed\", function() {\n",
       "                        c.send({action: \"unsubscribe_mime\",\n",
       "                               mime: type});\n",
       "                    });\n",
       "                })\n",
       "\t\t    }\n",
       "\t    });\n",
       "\t}\n",
       "\n",
       "\ttry {\n",
       "\t    // try to initialize right away. otherwise, wait on the status_started event.\n",
       "\t    initComm(undefined, IPython.notebook);\n",
       "\t} catch (e) {\n",
       "\t    $([IPython.events]).on('kernel_created.Kernel kernel_created.Session', initComm);\n",
       "\t}\n",
       "    });\n",
       "})(IPython, jQuery, _, MathJax);\n",
       "</script>\n",
       "    <script>\n",
       "        window.interactLoadedFlag = true\n",
       "       $(\"#interact-js-shim\").bind(\"destroyed\", function () {\n",
       "           if (window.interactLoadedFlag) {\n",
       "               console.warn(\"JavaScript required by Interact will be removed if you remove this cell or run using Interact more than once.\")\n",
       "           }\n",
       "       })\n",
       "       $([IPython.events]).on(\"kernel_starting.Kernel kernel_restarting.Kernel\", function () { window.interactLoadedFlag = false })\n",
       "   </script>\n",
       "</div>"
      ]
     },
     "metadata": {},
     "output_type": "display_data"
    }
   ],
   "source": [
    "using Interact"
   ]
  },
  {
   "cell_type": "markdown",
   "metadata": {},
   "source": [
    "En el notebook 7, vimos cómo utilizar una discretización de una función continua para calcular numéricamente una derivada.\n",
    "\n",
    "Un problema muy común en el cómputo científico es el problema opuesto: tener datos discretos, y querer encontrar una función continua que los aproxime. Una manera de hacer esto es la **interpolación**: \n",
    "\n",
    "> dados datos $(x_i, y_i)$ para $i=1,\\ldots,N$, queremos encontrar una función $f(x)$ que pasa exactamente por los puntos, es decir, tal que $f(x_i) = y_i$ para cada $i$.\n",
    "\n",
    "Provee, entre muchas otras cosas, una manera de formalizar la derivación de diferencias finitas para calcular derivadas, y para llevar a cabo integrales. Mucho más allá, provee la manera de trabajar con funciones de forma numérica.\n",
    "\n",
    "Podríamos escoger distintas clases de función $f$ que interpolar. Aquí, trabajaremos con los **polinomios**."
   ]
  },
  {
   "cell_type": "markdown",
   "metadata": {},
   "source": [
    "**[1]** El primer caso que tratar es el de dos puntos $(x_1, y_1)$ y $(x_2, y_2)$. Es claro que podemos interpolar dos puntos con una recta. Para encontrar cuál recta es, hacemos lo siguiente.\n",
    "\n",
    "**(i)** Define una función $L_1(x)$ que es lineal y tal que $L_1(x)$ tome el valor $0$ en $x = x_2$. Ahora haz que también tome el valor $1$ en $x = x_1$."
   ]
  },
  {
   "cell_type": "code",
   "execution_count": 3,
   "metadata": {
    "collapsed": false
   },
   "outputs": [
    {
     "data": {
      "text/plain": [
       "L1 (generic function with 1 method)"
      ]
     },
     "execution_count": 3,
     "metadata": {},
     "output_type": "execute_result"
    }
   ],
   "source": [
    "function L1(x::Real, x1::Real, x2::Real)\n",
    "    a = (x - x2)/(x1 - x2) \n",
    "    return a\n",
    "end"
   ]
  },
  {
   "cell_type": "code",
   "execution_count": 4,
   "metadata": {
    "collapsed": false
   },
   "outputs": [
    {
     "data": {
      "text/plain": [
       "1.0"
      ]
     },
     "execution_count": 4,
     "metadata": {},
     "output_type": "execute_result"
    }
   ],
   "source": [
    "L1(1, 1, 2)"
   ]
  },
  {
   "cell_type": "code",
   "execution_count": 5,
   "metadata": {
    "collapsed": false
   },
   "outputs": [
    {
     "data": {
      "text/plain": [
       "-0.0"
      ]
     },
     "execution_count": 5,
     "metadata": {},
     "output_type": "execute_result"
    }
   ],
   "source": [
    "L1(2, 1, 2)"
   ]
  },
  {
   "cell_type": "markdown",
   "metadata": {},
   "source": [
    "**(ii)** Por simetría, encuentra la función $L_2(x)$ tal que $L_2(x_1) = 0$ y $L_2(x_2) = 1$."
   ]
  },
  {
   "cell_type": "code",
   "execution_count": 6,
   "metadata": {
    "collapsed": false
   },
   "outputs": [
    {
     "data": {
      "text/plain": [
       "L2 (generic function with 1 method)"
      ]
     },
     "execution_count": 6,
     "metadata": {},
     "output_type": "execute_result"
    }
   ],
   "source": [
    "function L2(x::Real, x1::Real, x2::Real)\n",
    "    b = (x - x1)/(x2 - x1) \n",
    "    return b\n",
    "end"
   ]
  },
  {
   "cell_type": "code",
   "execution_count": 7,
   "metadata": {
    "collapsed": false
   },
   "outputs": [
    {
     "data": {
      "text/plain": [
       "0.0"
      ]
     },
     "execution_count": 7,
     "metadata": {},
     "output_type": "execute_result"
    }
   ],
   "source": [
    "L2(1, 1, 2)"
   ]
  },
  {
   "cell_type": "code",
   "execution_count": 8,
   "metadata": {
    "collapsed": false
   },
   "outputs": [
    {
     "data": {
      "text/plain": [
       "1.0"
      ]
     },
     "execution_count": 8,
     "metadata": {},
     "output_type": "execute_result"
    }
   ],
   "source": [
    "L2(2, 1, 2)"
   ]
  },
  {
   "cell_type": "markdown",
   "metadata": {},
   "source": [
    "**(iii)** Utiliza $L_1$ y $L_2$ para encontrar un polinomio lineal que interpola los datos."
   ]
  },
  {
   "cell_type": "code",
   "execution_count": 9,
   "metadata": {
    "collapsed": false
   },
   "outputs": [
    {
     "data": {
      "text/plain": [
       "L (generic function with 1 method)"
      ]
     },
     "execution_count": 9,
     "metadata": {},
     "output_type": "execute_result"
    }
   ],
   "source": [
    "# Tomando una combinación lineal de L1 y L2. Esta función regresa un número.\n",
    "function L(x::Real, x1::Real, y1::Real, x2::Real, y2::Real)\n",
    "    c = y1 * L1(x, x1, x2) + y2 * L2(x, x1, x2) \n",
    "    return c\n",
    "end"
   ]
  },
  {
   "cell_type": "code",
   "execution_count": 10,
   "metadata": {
    "collapsed": false
   },
   "outputs": [
    {
     "data": {
      "text/plain": [
       "1.0"
      ]
     },
     "execution_count": 10,
     "metadata": {},
     "output_type": "execute_result"
    }
   ],
   "source": [
    "L(1, 1, 1, 2, 2)"
   ]
  },
  {
   "cell_type": "markdown",
   "metadata": {},
   "source": [
    "**(iv)** Impleméntalo y dibuja el resultado."
   ]
  },
  {
   "cell_type": "code",
   "execution_count": 11,
   "metadata": {
    "collapsed": false
   },
   "outputs": [],
   "source": [
    "rango = collect(linspace(0,10,20));"
   ]
  },
  {
   "cell_type": "code",
   "execution_count": 12,
   "metadata": {
    "collapsed": false
   },
   "outputs": [
    {
     "data": {
      "text/html": [
       "<img src=\"data:image/png;base64,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\" />"
      ]
     },
     "execution_count": 12,
     "metadata": {},
     "output_type": "execute_result"
    },
    {
     "name": "stderr",
     "output_type": "stream",
     "text": [
      "/usr/local/lib/python2.7/site-packages/matplotlib/collections.py:590: FutureWarning: elementwise comparison failed; returning scalar instead, but in the future will perform elementwise comparison\n",
      "  if self._edgecolors == str('face'):\n"
     ]
    }
   ],
   "source": [
    "# Primero defino los 2 puntos\n",
    "x1, y1 = 1, 2\n",
    "x2, y2 = 3, 5\n",
    "# Defino el rango de las x's y y's\n",
    "rango = collect(linspace(0,10,20))\n",
    "ys = [L(rango[i], x1, y1, x2, y2) for i in 1:length(rango)]\n",
    "# Se plotean los 2 puntos y su interpolación. \n",
    "plot(rango, ys)\n",
    "scatter!([x1], [y1])\n",
    "scatter!([x2], [y2])"
   ]
  },
  {
   "cell_type": "markdown",
   "metadata": {},
   "source": [
    "**[2]** Ahora generalicemos esto a $N$ puntos:\n",
    "\n",
    "**(i)** Encuentra un polinomio $L_1(x)$ sencillo, tal que $L_1(x)$ sea igual a $0$ para $x=x_2$, $x=x_3$, ..., $x=x_N$. Ahora normalízalo para que $L_1(x_1) = 1$."
   ]
  },
  {
   "cell_type": "code",
   "execution_count": 13,
   "metadata": {
    "collapsed": false
   },
   "outputs": [
    {
     "data": {
      "text/plain": [
       "L1N (generic function with 1 method)"
      ]
     },
     "execution_count": 13,
     "metadata": {},
     "output_type": "execute_result"
    }
   ],
   "source": [
    "function L1N(x::Float64, xs::Array{Float64,1})\n",
    "    \n",
    "    tnum = []\n",
    "    tden = []\n",
    "    \n",
    "    for i in 2:length(xs)\n",
    "        a = (x - xs[i])\n",
    "        push!(tnum, a)\n",
    "        b = (xs[1] - xs[i])\n",
    "        push!(tden, b)\n",
    "    end\n",
    "    \n",
    "    numerador = prod(tnum)\n",
    "    denominador = prod(tden)\n",
    "   \n",
    "    return numerador / denominador\n",
    "end"
   ]
  },
  {
   "cell_type": "code",
   "execution_count": 14,
   "metadata": {
    "collapsed": false
   },
   "outputs": [
    {
     "data": {
      "text/plain": [
       "3.0"
      ]
     },
     "execution_count": 14,
     "metadata": {},
     "output_type": "execute_result"
    }
   ],
   "source": [
    "#Pruebas\n",
    "L1N(0.0, [1.0,2.0,3.0])"
   ]
  },
  {
   "cell_type": "code",
   "execution_count": 15,
   "metadata": {
    "collapsed": false
   },
   "outputs": [
    {
     "data": {
      "text/plain": [
       "1.0"
      ]
     },
     "execution_count": 15,
     "metadata": {},
     "output_type": "execute_result"
    }
   ],
   "source": [
    "L1N(1.0, [1.0,3.0,2.0])"
   ]
  },
  {
   "cell_type": "code",
   "execution_count": 16,
   "metadata": {
    "collapsed": false
   },
   "outputs": [
    {
     "data": {
      "text/plain": [
       "1.0"
      ]
     },
     "execution_count": 16,
     "metadata": {},
     "output_type": "execute_result"
    }
   ],
   "source": [
    "L1N(1.0, [1.0,2.0])"
   ]
  },
  {
   "cell_type": "markdown",
   "metadata": {},
   "source": [
    "**(ii)** De manera similar, encuentra $L_i(x)$ que sea igual a $1$ en $x_i$, y que se anule en $x_j$ para $j \\neq i$."
   ]
  },
  {
   "cell_type": "code",
   "execution_count": 17,
   "metadata": {
    "collapsed": false
   },
   "outputs": [
    {
     "data": {
      "text/plain": [
       "LiN (generic function with 1 method)"
      ]
     },
     "execution_count": 17,
     "metadata": {},
     "output_type": "execute_result"
    }
   ],
   "source": [
    "function LiN(x::Float64, xs::Array{Float64,1})\n",
    "    \n",
    "    tnum = []\n",
    "    tden = []\n",
    "    ls = []\n",
    "    \n",
    "    for i in 1:length(xs)\n",
    "        for j in 1:length(xs)\n",
    "            if j == i\n",
    "                continue\n",
    "            end\n",
    "            a = (x - xs[j])\n",
    "            push!(tnum, a)\n",
    "            b = (xs[i] - xs[j])\n",
    "            push!(tden, b)\n",
    "        end\n",
    "        numerador = prod(tnum)\n",
    "        denominador = prod(tden)\n",
    "        li = numerador / denominador\n",
    "        push!(ls, li)\n",
    "        tnum = []\n",
    "        tden = []\n",
    "    end\n",
    "    return ls\n",
    "end"
   ]
  },
  {
   "cell_type": "markdown",
   "metadata": {},
   "source": [
    "**(iii)** Dibuja algunas $L_i$ para $N$ chiquitas. ¡Asegúrate de que sí se comporten correctamente!"
   ]
  },
  {
   "cell_type": "code",
   "execution_count": 18,
   "metadata": {
    "collapsed": false
   },
   "outputs": [
    {
     "data": {
      "text/plain": [
       "2-element Array{Any,1}:\n",
       " 1.0\n",
       " 0.0"
      ]
     },
     "execution_count": 18,
     "metadata": {},
     "output_type": "execute_result"
    }
   ],
   "source": [
    "LiN(1.0, [1.0, 2.0])"
   ]
  },
  {
   "cell_type": "code",
   "execution_count": 19,
   "metadata": {
    "collapsed": false
   },
   "outputs": [
    {
     "data": {
      "text/plain": [
       "2-element Array{Any,1}:\n",
       "  2.0\n",
       " -1.0"
      ]
     },
     "execution_count": 19,
     "metadata": {},
     "output_type": "execute_result"
    }
   ],
   "source": [
    "LiN(0.0, [1.0, 2.0])"
   ]
  },
  {
   "cell_type": "code",
   "execution_count": 20,
   "metadata": {
    "collapsed": false
   },
   "outputs": [
    {
     "data": {
      "text/plain": [
       "2-element Array{Any,1}:\n",
       "  3.0\n",
       " -2.0"
      ]
     },
     "execution_count": 20,
     "metadata": {},
     "output_type": "execute_result"
    }
   ],
   "source": [
    "LiN(-1.0, [1.0, 2.0])"
   ]
  },
  {
   "cell_type": "code",
   "execution_count": 21,
   "metadata": {
    "collapsed": false
   },
   "outputs": [
    {
     "data": {
      "text/plain": [
       "3-element Array{Any,1}:\n",
       "  6.0\n",
       " -8.0\n",
       "  3.0"
      ]
     },
     "execution_count": 21,
     "metadata": {},
     "output_type": "execute_result"
    }
   ],
   "source": [
    "LiN(-1.0, [1.0, 2.0, 3.0])"
   ]
  },
  {
   "cell_type": "markdown",
   "metadata": {},
   "source": [
    "**(iv)** Utiliza las $L_i$ para interpolar los datos $(x_i, y_i)_{i=1}^N$ con un polinomio $p$. ¿De qué orden es el polinomio resultante? Nota que $p$ es *único* en el conjunto de polinomios con grado $\\le$ el grado de $p$."
   ]
  },
  {
   "cell_type": "code",
   "execution_count": 22,
   "metadata": {
    "collapsed": false
   },
   "outputs": [
    {
     "data": {
      "text/plain": [
       "LN (generic function with 1 method)"
      ]
     },
     "execution_count": 22,
     "metadata": {},
     "output_type": "execute_result"
    }
   ],
   "source": [
    "# Tomando una combinación lineal de L1 y L2. Esta función regresa un número.\n",
    "function LN(x::Float64, xs::Array{Float64,1}, ys::Array{Float64,1})\n",
    "    fact = []\n",
    "    for i in 1:length(xs)\n",
    "        c = ys[i] * LiN(x, xs)[i] \n",
    "        push!(fact, c)\n",
    "    end\n",
    "    \n",
    "    return sum(fact)\n",
    "end"
   ]
  },
  {
   "cell_type": "code",
   "execution_count": 23,
   "metadata": {
    "collapsed": false
   },
   "outputs": [
    {
     "data": {
      "text/plain": [
       "2.0"
      ]
     },
     "execution_count": 23,
     "metadata": {},
     "output_type": "execute_result"
    }
   ],
   "source": [
    "LN(1.0, [1.0, 2.0], [2.0, 1.0])"
   ]
  },
  {
   "cell_type": "markdown",
   "metadata": {},
   "source": [
    "**[3]** **(i)** Escribe una función `interpolar` que acepta un vector de $N$ pares $(x_i, y_i)$, y regresa una función que las interpole. [Pista: Puedes ¡definir una función adentro de la función `interpolar`!, y luego ¡regresar esta función de la función `interpolar`!]"
   ]
  },
  {
   "cell_type": "code",
   "execution_count": 24,
   "metadata": {
    "collapsed": false
   },
   "outputs": [
    {
     "data": {
      "text/plain": [
       "interpolar (generic function with 1 method)"
      ]
     },
     "execution_count": 24,
     "metadata": {},
     "output_type": "execute_result"
    }
   ],
   "source": [
    "function interpolar(x::Real, vect::Array{Tuple{Float64,Float64},1})\n",
    "    fact = []\n",
    "    for i in 1:length(vect)\n",
    "        c = ys[i] * LiN(x, xs)[i] \n",
    "        push!(fact, c)\n",
    "    end\n",
    "    \n",
    "    return sum(fact)\n",
    "end"
   ]
  },
  {
   "cell_type": "code",
   "execution_count": 25,
   "metadata": {
    "collapsed": false
   },
   "outputs": [
    {
     "data": {
      "text/plain": [
       "4-element Array{Tuple{Int64,Int64},1}:\n",
       " (1,0)\n",
       " (2,8)\n",
       " (1,7)\n",
       " (4,8)"
      ]
     },
     "execution_count": 25,
     "metadata": {},
     "output_type": "execute_result"
    }
   ],
   "source": [
    "[(1,0), (2,8), (1,7),(4,8)]"
   ]
  },
  {
   "cell_type": "markdown",
   "metadata": {},
   "source": [
    "**(ii)** Toma funciones polinomiales de orden $n$ diferentes, y genera $n+1$ datos al muestrear la función en distintos puntos $x_i$, espaciados de forma uniforme. Dibuja la función original y la función interpolada."
   ]
  },
  {
   "cell_type": "code",
   "execution_count": 26,
   "metadata": {
    "collapsed": false
   },
   "outputs": [
    {
     "data": {
      "text/plain": [
       "p1 (generic function with 1 method)"
      ]
     },
     "execution_count": 26,
     "metadata": {},
     "output_type": "execute_result"
    }
   ],
   "source": [
    "p1(x) = x^10 - 2"
   ]
  },
  {
   "cell_type": "code",
   "execution_count": 27,
   "metadata": {
    "collapsed": false
   },
   "outputs": [],
   "source": [
    "xs1 = collect(linspace(-10, 10, 11));"
   ]
  },
  {
   "cell_type": "code",
   "execution_count": 28,
   "metadata": {
    "collapsed": false
   },
   "outputs": [
    {
     "data": {
      "text/plain": [
       "1.0"
      ]
     },
     "execution_count": 28,
     "metadata": {},
     "output_type": "execute_result"
    }
   ],
   "source": [
    "LN(1.0, xs1, xs1)"
   ]
  },
  {
   "cell_type": "code",
   "execution_count": 29,
   "metadata": {
    "collapsed": false
   },
   "outputs": [
    {
     "data": {
      "text/html": [
       "<img src=\"data:image/png;base64,iVBORw0KGgoAAAANSUhEUgAAAlgAAAGQCAYAAAByNR6YAAAABHNCSVQICAgIfAhkiAAAAAlwSFlzAAAPYQAAD2EBqD+naQAAIABJREFUeJzs3Xt8VeWd9/3P2jskJJwPCRAgAUyCmFIxUFuxrWf0YW63jLZFrFigDnBz6NjbO4zzjKPhpe0Mak8juaePjxSt2nDQih0PD+p0PGSmCpN4ACGCQEjkFBKOOZHsva/nj51EQrIgCUnW2nt9369XXoG9dnZ+a/OF/Liua13LMsYYRERERKTb+JwuQERERCTWqMESERER6WZxThfQGyorK9m8eTPjxo0jMTHR6XJEREQkhtTV1VFaWsrNN9/M8OHDAY80WJs3b+buu+92ugwRERGJYc8//zw//OEPAY80WOPGjQMiJz5p0iRnixFXue+++/j1r3/tdBniUsqH2FE25Gw7d+7k7rvvbuk3wCMNVvO04KRJk8jJyXG4GnGTwYMHKxNiS/kQO8qGtOfsZUha5C6e1tDQ4HQJ4mLKh9hRNuRCPDGC1awxpC2/pLWPP/7Y6RLExZQPsaNsdExtbS0lJSVOl9EjLr30UpKSkmyPe6rBOqX/cMg5Jk6c6HQJ4mLKh9hRNjqmpKSEqVOnOl1GjygqKjrvNLGnGqyTjU5XIG6zePFip0sQF1M+xI6y0TmxdJFZ84L2C/FWg9WgKUJpbc6cOU6XIC6mfIgdZaNzvHiRmacWuZ/UFKGIiIj0Ak81WFqDJedas2aN0yWIiykfYkfZkAvxVIN1olFThNJacXGx0yWIiykfYkfZiD379+/n2muvZfDgwVxxxRUX/XqearBOnnG6AnGb/Px8p0sQF1M+xI6yEXsGDhzIz3/+c/7whz90y+t5q8HSIncRERFPe+KJJ1i0aFHL70+cOEFycjKWZTF9+vTz7m3VGZ66ivCE1mCJiIi4yt5T5qJ+Pg+OhwkDrQ4//2/+5m/Iysri8ccfZ+DAgaxdu5ZZs2YxePDgLtdQ084SJE81WLqKUERExD0q6w2ZG4KEL2KCyW/B4bvjGN63Y03WoEGD+N73vseaNWv46U9/ym9/+1s2bNjQ9QKA32wPt3lMDZZ4WiAQ4E9/+pPTZYhLKR9iR9noHsP7Wuz+QdxFj2B1tLlq9pOf/IRAIMCll15KcnIyl19+edcLAA7WagRLpJVly5Y5XYK4mPIhdpSN7tOZ6b3uMnHiRCZMmMCiRYt4/PHHL/r1TrRzEZ2nFrmfaABjtNBdvjJjxgynSxAXUz7EjrIR/e69915CoRDf+973gMiNqceOHcsPfvADdu7cydixY/mHf/iHDr1We7fi89QIVjAMNUHo38fpSkRERMRJ//Ef/8GSJUvw+/0AJCUlUV5e3qXX8vwIFkBVvdMViIiIiFMOHjzIpEmT+Pjjj7nvvvsu+vUaQobaYNvHPddgVarBkrNs2rTJ6RLExZQPsaNsRK/U1FR27txJYWEh/fr1u+jXq7LZxNxzDVbVGa3Bkq8UFBQ4XYK4mPIhdpQNaWY3cOO5BksjWHK29evXO12CuJjyIXaUDWlWVd/+wI2nFrn38du/ESIiItIzdu7c6XQJ3ebcc7EbuPFUgzU43n6uVERERHrG3Xff7XQJPabqjMGy4NzhG081WIPiNUUoIiLSWy699FKKioqcLqNHXHrppUCkrxgUDyfOOe6pBmtIfOS+RyLN5s+fz9q1a50uQ1xK+RA7ykbHJCUlkZOT43QZPaqqPjJDdm6D5alF7oM0RSjn0G7Mcj7Kh9hRNqRZZb1hcHzbxz3VYA2OtzSCJa3MmTPH6RLExZQPsaNsSLPKM5EBnHN5q8FK0E7uIiIi0n2q6iP9xbk81WBpkbuIiIh0p8p6w6A+VpvHPdVgDU6wqAtBbVDThBJRWFjodAniYsqH2FE2pFnVGY1gMbhP5LNGsaTZY4895nQJ4mLKh9hRNgSgMWw42RBZ430ubzVYTR2mGixptm7dOqdLEBdTPsSOsiEAx5r6CY1gNXWYul2ONEtKSnK6BHEx5UPsKBsCXw3YDOrT9pi3GqymDvOoRrBERETkIlWdiQzYDE7w+BRhoh8S/NrNXURERC5eywiW1/fBsiyL4X21Bku+kpub63QJ4mLKh9hRNgQi/YQFDPT6FCFAshosOUtaWprTJYiLKR9iR9kQgKP1hmF9we/z+BQhwPC+ul2OfGX58uVOlyAupnyIHWVDILKmO7lv+8c82GBpkbuIiIhcvMp6Q3LftqNX4MUGK0EjWCIiInLxjtZFBm7a47kGKzlRa7DkKyUlJU6XIC6mfIgdZUMgsgZLI1hNmq8iNEajWAIrVqxwugRxMeVD7CgbApF+Ijmx/WPea7ASLIIGTjY4XYm4werVq50uQVxM+RA7yoYYYzharynCFs2dpha6C+hSazk/5UPsKBtSE4T6EJoibNb8RhzVQncRERHpoub13NqmoUnzG3G0ztk6REREJHo1D9QkJ2oEC4ChTQ2WriQUgFWrVjldgriY8iF2lA1pHqgZntD+cc81WH18FkMSNEUoEbW1tU6XIC6mfIgdZUNapgh1FeFXkrWbuzRZuXKl0yWIiykfYkfZkKP1hgF9IMGvKcIWw/taHK3TCJaIiIh0zfm2aACPNlgawRIREZGLcbTOfhd38GiDlZKoBksiKisrnS5BXEz5EDvKhlSesd+iATzaYCX3tbTIXQBYsGCB0yWIiykfYkfZkKN19gvcwabB+uMf/8iUKVO44oormDx5Mr///e8BqKio4JZbbiErK4vJkyfz/vvvt3xNbW0tc+bMITMzk4kTJ/LSSy+1HDPGsHz5cjIyMsjMzCQ/P7/V93v00UfJyMggIyODBx98sNWxNWvWkJWVRUZGBgsXLiQYDLYce/XVV5k0aRJZWVnccccdnD59ukNvSnJf7YMlEXl5eU6XIC6mfIgdZUOO1huGd2aKMBwO86Mf/Yjnn3+ejz76iFdffZVFixZRXV3NAw88wPTp09m1axdr167lrrvuIhQKAfDEE0+QmJjI7t272bx5M0uWLOHYsWMAPPfcc+zcuZPdu3ezZcsWHn/8cXbs2AHAe++9x7p169i2bRs7duxg8+bNvP766wDs27ePhx56iMLCQr744guOHDnCU089BUB1dTX33nsvr7zyCrt27SI1NZVHHnmkQ29KcqJFXQhqGjWK5XU5OTlOlyAupnyIHWVDKus7OUXo8/kYOXIkx48fB+DEiRMMHz6chIQENm7cyOLFiwGYNm0aqampvPvuuwBs2LCh5di4ceO49tprefnllwFYv349CxcuxLIshgwZwuzZsykoKGg5ds8995CYmEh8fDwLFixoOfbiiy9y2223kZKSAsDixYtbjr3xxhvk5OSQlZUFwJIlS1qOXUjLbu5ahyUiIiKd1Bg2nGiwvw8h2EwR/v73v2fWrFmMGzeO7373uzz77LOcOnWKxsbGlmYHIo1UWVkZAGVlZaSnp7c6Vl5eDkB5eXmbY81fd+6x9PT0Vq959g01L3Ts0KFDhMPhC70vuh+hiIiIdFnzJqOd2qahurqa73//+7zyyiuUlpby7//+79x9990tU4HdwRhz3t83syz7zvBipDQtStM6LFmzZo3TJYiLKR9iR9nwtoqm/mFEZxa579ixg379+vHtb38biEwFjhkzhk8//ZS4uDiOHDnS8tzS0tKWUaS0tDRKS0tbju3bt8/2WGlpacuoVVpaGvv37+/0sfT09DbHRo0ahc9nf2HkzJkzCQQCLLrrDgD+4Z9/w1VXXcWmTZtaPe/NN98kEAi0+fqlS5e2+UtVXFxMIBBoc8nuww8/3OZeVWVlZQQCAUpKSlo9/uSTT5Kbm9vqsdraWgKBAIWFha0eLygoYP78+W1qmz17ts6jC+fx6KOPxsR5xMqfh9vOo7i4OCbOo5nOo/vOo7i4OCbOA2Ljz6M3z6OgoID5f/t3APztj39IIBDgvvvua/M9MOeoqqoygwcPNjt37jTGGLN7924zdOhQU1ZWZubNm2fy8vKMMcZs2bLFjB492gSDQWOMMXl5eWbevHnGGGP27t1rUlJSTFVVlTHGmGeeecbccMMNJhQKmaqqKpOenm62b99ujDHmnXfeMdnZ2aampsbU19ebadOmmddee63ldVJTU83hw4dNOBw2t956q8nPzzfGGHPq1CmTkpJiSkpKjDHGLF261OTm5p57OsYYY4qKigxgioqKWh4b8myD+eePgu0+X0RERMTO87tDhqcaTHVD2BjTfp8Rd27DNXToUJ555hnuuusujDGEQiHy8/MZO3Ysq1atYu7cuWRlZZGQkMALL7yA3+8HIDc3lwULFpCRkYHf7yc/P5+hQ4cCMHfuXLZu3UpmZiaWZXH//feTnZ0NwDXXXMPs2bOZPHkyAHfeeSczZ84EYPz48axcuZKrr74agOuuu45FixYBMGDAAJ5++mlmzZpFMBhk8uTJPPvss207SBspfaFCi9xFRESkkyrqDP3ioF8f+6VMljE2C6BiSHFxMVOnTqWoqKjl0tpr/i3I2P7w/HVtekwRERERW3+/JcT6vWH23tkHaL/P8ORO7hBZ6F6hRe4iIiLSSRV1hpTE81+I59kGa0SixZG6mB+8kwtob/GjSDPlQ+woG95WUR9ZanQ+nm2wNIIlAMuWLXO6BHEx5UPsKBveVlH31ZZPdjzbYI1IjOzkHo79JWhyHjNmzHC6BHEx5UPsKBvedrReU4S2UvpahAxU6UpCERER6YSKOk0R2hqRFPmsaUIRERHpqJpGQ00QjWDZSWm6H6EWunvbubv+ipxN+RA7yoZ3HW2a+dIaLBvN9w/SZqPeVlBQ4HQJ4mLKh9hRNryromlgpnmgxo5nG6z+faCvXyNYXrd+/XqnSxAXUz7EjrLhXc1LizSCZcOyLEZoqwYRERHphOaZr+Fa5G5Pm42KiIhIZ1TUGYYlQJxPU4S2tNmoiIiIdEZHNhkFjzdYIxLhiBosT5s/f77TJYiLKR9iR9nwrooObDIKHm+wUjRF6HnajVnOR/kQO8qGd1XUQfIF1l+Bxxus5kXuRrfL8aw5c+Y4XYK4mPIhdpQN7zpSpxGsC0rpa1EXgupGpysRERGRaHC4DkZqDdb5abNRERER6ahQ2FBZDyOTNIJ1Xs1DfFqH5V2FhYVOlyAupnyIHWXDm47WQ9hoBOuCWkawdCWhZz322GNOlyAupnyIHWXDmw439Qsj1GCd39AE8FkawfKydevWOV2CuJjyIXaUDW86UhvpFzRFeAF+n0VyX41geVlSUpLTJYiLKR9iR9nwJo1gdYI2GxUREZGOOFxrGJIACX6NYF1QSqJFhaYIRURE5AKO1HVs9ArUYGkEy+Nyc3OdLkFcTPkQO8qGNx2uM4zswCajoAaLlL66XY6XpaWlOV2CuJjyIXaUDW86XAsjO7j8zvMN1ohEbTTqZcuXL3e6BHEx5UPsKBvedLjOMEIjWB2Tkmhx/Aw0hDSKJSIiIvaOdPA2OaAGq2Wx2lGNYomIiIiNMyHDsTMd2wML1GCR0tRgaaG7N5WUlDhdgriY8iF2lA3vqejEHligBqtlLlVbNXjTihUrnC5BXEz5EDvKhvc0XxCnqwg7qHkE67BGsDxp9erVTpcgLqZ8iB1lw3sO10Y+6yrCDkrwWwxJgEO1GsHyIl1qLeejfIgdZcN7DteBBST37djzPd9gAaQmwaFap6sQERERtzpcaxjeF+J8miLssFFJlkawRERExNaRuo5PD4IaLABGJWoEy6tWrVrldAniYsqH2FE2vKczt8kBNViARrC8rLZWnbXYUz7EjrLhPYdrO75FA6jBAmBU0xosY9Rkec3KlSudLkFcTPkQO8qG9xypMx3eZBTUYAGREay6EJxqdLoSERERcaPDnbhNDqjBAiIjWKB1WCIiItJWbdBwupEO3+gZ1GABkREs0F5YXlRZWel0CeJiyofYUTa85UgnNxkFNViARrC8bMGCBU6XIC6mfIgdZcNbDnfyNjmgBguA/n0s+vfRCJYX5eXlOV2CuJjyIXaUDW9pvk2OriLsAu2F5U05OTlOlyAupnyIHWXDWw7XGfwWDOvgbXJADVYL7YUlIiIi7TlSFxm98lmaIuy0UbofoYiIiLTjUCc3GQU1WC1GJVkcqtMIltesWbPG6RLExZQPsaNseMuhWsPofh0fvQI1WC00guVNxcXFTpcgLqZ8iB1lw1sO1BpSO7GLO6jBajEqyeJkA9QFNYrlJfn5+U6XIC6mfIgdZcNbDtZAaif2wAI1WC20F5aIiIicKxg2HKmDVE0Rds2ops3DDupKQhEREWlypA4MGsHqMo1giYiIyLmaB160BquLhiRAgl+7uXtNIBBwugRxMeVD7Cgb3nGwJvJZI1hdZFkWI7Wbu+csW7bM6RLExZQPsaNseMfBWkOcBcnaB6vrtJu798yYMcPpEsTFlA+xo2x4x8HayDKizuziDmqwWtFeWCIiInK2gzWm01cQghqsVrSbu4iIiJztYG3n11+BGqxWRmkNluds2rTJ6RLExZQPsaNseEdXdnEHNVitjEqyqKyHhpBGsbyioKDA6RLExZQPsaNseEdXdnEHNVitNO+FdaTO2Tqk96xfv97pEsTFlA+xo2x4w5mQoepM53dxBzVYrYxqGgLUlYQiIiLSvGxII1gXSbu5i4iISLOu7uIOarBaSe4Lfkv3IxQREZGu7+IOarBa8fssRiXBgRqnK5HeMn/+fKdLEBdTPsSOsuENB2sNCf7I7fQ6Sw3WOcb0szigESzP0G7Mcj7Kh9hRNryheQ8sq5O7uIMarDbG9IMvNYLlGXPmzHG6BHEx5UPsKBvecLDGMLoL669ADVYbY/pZfFmjESwRERGvO1gLqf269rVqsM4xph+UV4MxarJERES8rKu7uIMarDbG9LOoCcKpRqcrkd5QWFjodAniYsqH2FE2vKGru7iDGqw2RjcNBepKQm947LHHnC5BXEz5EDvKRuyrbjScauzaLu6gBquNMU1vpNZhecO6deucLkFcTPkQO8pG7LuYXdzBpsE6c+YMy5YtIysri69//evMnTsXgIqKCm655RaysrKYPHky77//fsvX1NbWMmfOHDIzM5k4cSIvvfRSyzFjDMuXLycjI4PMzEzy8/Nbfb9HH32UjIwMMjIyePDBB1sdW7NmDVlZWWRkZLBw4UKCwWDLsVdffZVJkyaRlZXFHXfcwenTp7v2Lpyl+Y3UlYTekJTUxb854gnKh9hRNmLfxeziDjYN1gMPPIDf72fXrl18+umn/OIXv2h5fPr06ezatYu1a9dy1113EQqFAHjiiSdITExk9+7dbN68mSVLlnDs2DEAnnvuOXbu3Mnu3bvZsmULjz/+ODt27ADgvffeY926dWzbto0dO3awefNmXn/9dQD27dvHQw89RGFhIV988QVHjhzhqaeeAqC6upp7772XV155hV27dpGamsojjzzSpTfhbPF+ixGJGsESERHxsuZd3Ed11whWTU0Nv/vd7/jZz37W8lhKSgoAGzduZPHixQBMmzaN1NRU3n33XQA2bNjQcmzcuHFce+21vPzyy0DkruMLFy7EsiyGDBnC7NmzKSgoaDl2zz33kJiYSHx8PAsWLGg59uKLL3Lbbbe1fP/Fixe3HHvjjTfIyckhKysLgCVLlrQcu1jaqkFERMTbymsMA/vAwPhuGsHas2cPQ4cO5Wc/+xnf+MY3+O53v8uf//xnqqqqaGxsbGl2INJIlZWVAVBWVkZ6enqrY+Xl5ZEiy8vbHGv+unOPpaent3rNtLS0Dh87dOgQ4XC4S2/E2bTZqHfk5uY6XYK4mPIhdpSN2FdeDWP7d/3r2zRYwWCQ/fv3k52dzdatW/mXf/kXZs+e3TIV2B3O3WPKbs+prmxN3x1G97M4oBEsTzi7SRc5l/IhdpSN2PdljWm58K0r2jRYaWlp+Hw+fvjDHwIwZcoUxo8fz7Zt24iLi+PIkSMtzy0tLW0JWVpaGqWlpS3H9u3bZ3ustLS0ZdQqLS2N/fv3d/pYenp6m2OjRo3C57O/MHLmzJkEAoFWH1dddRWbNm1q9by6g7vZebjtgvmlS5eyZs2aVo8VFxcTCASorKxs9fjDDz/MqlWrWj1WVlZGIBCgpKSk1eNPPvlkm/8N1dbWEggE2uy1UlBQ0O5NRmfPnt3mPN58800CgYDO4zzn8dZbb8XEecTKn4fbzmP58uUxcR7NdB7ddx7Lly+PifOA2Pjz6InzKK+Bsf3ankdBQQE33XQTI0eO5PrrrycQCHDfffe1+R6YdsyYMcO8/vrrxhhj9u7da4YPH24OHDhg5s2bZ/Ly8owxxmzZssWMHj3aBINBY4wxeXl5Zt68eS1fk5KSYqqqqowxxjzzzDPmhhtuMKFQyFRVVZn09HSzfft2Y4wx77zzjsnOzjY1NTWmvr7eTJs2zbz22mstr5OammoOHz5swuGwufXWW01+fr4xxphTp06ZlJQUU1JSYowxZunSpSY3N7e90zFFRUUGMEVFRe0eP9fvd4UMTzWYmsZwh54vIiIisSXluQazsijYoee212fEtW254Le//S0//vGP+bu/+zt8Ph9PPfUUqamprFq1irlz55KVlUVCQgIvvPACfr8fiMxHL1iwgIyMDPx+P/n5+QwdOhSAuXPnsnXrVjIzM7Esi/vvv5/s7GwArrnmGmbPns3kyZMBuPPOO5k5cyYA48ePZ+XKlVx99dUAXHfddSxatAiAAQMG8PTTTzNr1iyCwSCTJ0/m2Wefbe90Om3MWZuNZg7qlpcUERGRKHEmZKiog7EXMUVoGRP7N90rLi5m6tSpFBUVkZOTc8Hn7z5pyNoQ5M9/5ee6VO3FGstKSkq49NJLnS5DXEr5EDvKRmzbe8pwyfogb/5ffm4ac+E+oL0+Q91DO3S7HO9YsWKF0yWIiykfYkfZiG3lTRe6je3fjYvcBZLiLIYkaLNRL1i9erXTJYiLKR9iR9mIbeXVkc9j+3X9NdRg2dBeWN6gS63lfJQPsaNsxLbyGsOQBOjXRyNY3U67uYuIiHjTlzVfXfDWVWqwbGgES0RExJvKq81FXUEIarBsjdFu7p5w7iZ4ImdTPsSOshHbymvUYPWYMf0sjtRBQ0hNViyrra11ugRxMeVD7Cgbse1i70MIarBsjU4CAxzS36GYtnLlSqdLEBdTPsSOshG7aoOGqjNc1H0IQQ2WreY3VgvdRUREvKN5D8yL2aIB1GDZGtM0NKiF7iIiIt5RXn3xm4yCGixbA/tA/z4awYp15979XeRsyofYUTZiV3nTwIq2aeghlmWR1g/2VztdifSkBQsWOF2CuJjyIXaUjdhVXm0YlgCJcRrB6jHpAyz2V2sEK5bl5eU5XYK4mPIhdpSN2PVlzcVfQQhqsM4rvb/F/tNqsGJZ813PRdqjfIgdZSN2dcceWKAG67zS+2uKUERExEvKa8xFL3AHNVjnld7f4kQDnGrQKJaIiIgXlFdf/AJ3UIN1XukDIp81ihW71qxZ43QJ4mLKh9hRNmJTdaPhRAOaIuxp6U1DhFqHFbuKi4udLkFcTPkQO8pGbGre+1KL3HvYqCTo40NXEsaw/Px8p0sQF1M+xI6yEZtKmwZUxmkNVs/yWRZjtReWiIiIJ5SeNvgtGK01WD0vvb/2whIREfGC/U0L3ON8GsHqcekDNIIlIiLiBaXVhnEDLr65AjVYF6TNRmNbIBBwugRxMeVD7Cgbsan0NIzrhgXuoAbrgtL7Wxyug/qgmqxYtGzZMqdLEBdTPsSOshGb9lcb0jWC1TvSmzrZ5rtrS2yZMWOG0yWIiykfYkfZiD31QcOh2u65ghDUYF1Qcyerhe4iIiKxq6xpvfW4Ad3zemqwLmBsP7CA/aedrkRERER6SvNAikawekm832JUkkawYtWmTZucLkFcTPkQO8pG7CmtBp8FY7TIvfdoL6zYVVBQ4HQJ4mLKh9hRNmJP6WnD6CTo0w17YIEarA7RXlixa/369U6XIC6mfIgdZSP2lJ7uvj2wQA1Wh2gvLBERkdi2v7r79sACNVgdkt4/coftUFhNloiISCzqzl3cQQ1Wh6T3twgaOFjrdCUiIiLS3RpChoM1kZ/33UUNVgc0v+Fa6B575s+f73QJ4mLKh9hRNmJLeQ0Yum8PLFCD1SHpTW+4FrrHHu3GLOejfIgdZSO2lDats9YUYS/r38diaAJa6B6D5syZ43QJ4mLKh9hRNmJL6enIpuJj+3Xfa6rB6qDxAyz2qsESERGJOaXVhtR+kc3Fu4sarA66ZCDsPeV0FSIiItLd9p823XaLnGZqsDpowgCLPRrBijmFhYVOlyAupnyIHWUjtpRWd+8Cd1CD1WGXDLQor45cyimx47HHHnO6BHEx5UPsKBuxpVQjWM6ZMCByCWfpaacrke60bt06p0sQF1M+xI6yETvOhAxf1nTvFYSgBqvDLhkYeeO10D22JCUlOV2CuJjyIXaUjdhRejoygHLJwO59XTVYHTSmH/TxwZ5TarBERERiRfPP9eaBlO6iBquD/D6Lcf1hr6YIRUREYsaeU4Z4H4zu5kFJNVidcMlASyNYMSY3N9fpEsTFlA+xo2zEjj2nYfyAyEBKd1KD1QkTBmqz0ViTlpbmdAniYsqH2FE2YseeU4aMbp4eBDVYnXLJgMhmo8aoyYoVy5cvd7oEcTHlQ+woG7FjzynT7euvQA1Wp0wYaFEThIo6pysRERGRixU2hr2nu/8KQlCD1SnNHa52dBcREYl+B2vgTKj7ryAENVidMr5pG33dkzB2lJSUOF2CuJjyIXaUjdjQPGCiBsth/ftYjEjUXlixZMWKFU6XIC6mfIgdZSM27DkFFl8NoHQnNViddImuJIwpq1evdroEcTHlQ+woG7FhzynDmH6Q4NcIluMmDIh0vBIbdKm1nI/yIXaUjdjQU1cQghqsTtMIloiISGz44lTPXEEIarA6bcIAi0O1UBtUkyUiIhLNNILlIs2d7j5NE8aEVatWOV2CuJjyIXaUjeh3rN5wogEuGaAGyxUmaC/NIYD7AAAgAElEQVSsmFJbW+t0CeJiyofYUTaiX09u0QBqsDptZCIkxcFebdUQE1auXOl0CeJiyofYUTaiX/MFa1qD5RKWZTFhQGRhnIiIiESnPacMQxNgcIJGsFwja5DFrpMawRIREYlWPbnAHdRgdcnEwRafq8GKCZWVlU6XIC6mfIgdZSP69eQWDaAGq0uyBlmUVWurhliwYMECp0sQF1M+xI6yEf0+P2mYOEgjWK4ycVDk8xcnna1DLl5eXp7TJYiLKR9iR9mIbifOGCrqUIPlNllNfyCaJox+OTk5TpcgLqZ8iB1lI7o1r6OeOFgNlqsM62sxLAEtdBcREYlCnzfNQGVqDZb7ZA2y+PyEGiwREZFo8/kJQ2oSDIjXCJbrTBwMu7QXVtRbs2aN0yWIiykfYkfZiG49vcAd1GB12cSmESxjNIoVzYqLi50uQVxM+RA7ykZ023XS9Oj6K1CD1WVZgyxONMDReqcrkYuRn5/vdAniYsqH2FE2olfYGHaf/GpHgJ6iBquLmocWtdBdREQkepRXQ13oqx0Besp5G6y1a9fi8/l45ZVXAKioqOCWW24hKyuLyZMn8/7777c8t7a2ljlz5pCZmcnEiRN56aWXWo4ZY1i+fDkZGRlkZma26fwfffRRMjIyyMjI4MEHH2x1bM2aNWRlZZGRkcHChQsJBoMtx1599VUmTZpEVlYWd9xxB6dPn+76O9FJlwwEC/j8RK99SxEREblIn/fCFg1wngartLSUp59+mquuugrLihTxwAMPMH36dHbt2sXatWu56667CIVCADzxxBMkJiaye/duNm/ezJIlSzh27BgAzz33HDt37mT37t1s2bKFxx9/nB07dgDw3nvvsW7dOrZt28aOHTvYvHkzr7/+OgD79u3joYceorCwkC+++IIjR47w1FNPAVBdXc29997LK6+8wq5du0hNTeWRRx7puXfqHH3jLMYN0AiWiIhINNl10hDvg3H9e/b7tNtghcNh/uZv/oYnn3yS+Pj4lsc3btzI4sWLAZg2bRqpqam8++67AGzYsKHl2Lhx47j22mt5+eWXAVi/fj0LFy7EsiyGDBnC7NmzKSgoaDl2zz33kJiYSHx8PAsWLGg59uKLL3LbbbeRkpICwOLFi1uOvfHGG+Tk5JCVlQXAkiVLWo71lqxBuidhtAsEAk6XIC6mfIgdZSN6fX4CMgaC3+fACNYvf/lLvv3tb7faqbaqqorGxsaWZgcijVRZWRkAZWVlpKentzpWXl4OQHl5eZtjzV937rH09PRWr5mWltbhY4cOHSIcDnf2PeiyiWqwot6yZcucLkFcTPkQO8pG9Pq8F64gBIg794Ht27fzxz/+kffee6/lse7eiuDc17N7/eapSbfKGgT/uhOCYUNcD3fC0jNmzJjhdAniYsqH2FE2otfnJw13XdLz1/i1+Q6FhYWUlpaSmZnJ+PHj+eCDD1i0aBEbN24kLi6OI0eOtDy3tLS0ZRQpLS2N0tLSlmP79u2zPVZaWtoyapWWlsb+/fs7fSw9Pb3NsVGjRuHz2b9pM2fOJBAItPq46qqr2LRpU6vnvfnmm+0O/y5durTV5nITB1s0huHmuxZRWVnZ6rkPP/wwq1atavVYWVkZgUCAkpKSVo8/+eST5ObmtnqstraWQCBAYWFhq8cLCgqYP39+m9pmz57d5fOAyJ4ugUBA56Hz0HnoPHQeOo+YPY/aoKGsGj78t+e7fB4FBQXcdNNNjBw5kuuvv55AIMB9993Xph7MBVx77bXmlVdeMcYYM2/ePJOXl2eMMWbLli1m9OjRJhgMGmOMycvLM/PmzTPGGLN3716TkpJiqqqqjDHGPPPMM+aGG24woVDIVFVVmfT0dLN9+3ZjjDHvvPOOyc7ONjU1Naa+vt5MmzbNvPbaay2vk5qaag4fPmzC4bC59dZbTX5+vjHGmFOnTpmUlBRTUlJijDFm6dKlJjc3t91zKCoqMoApKiq60Ol2yv7TYcNTDea1/aFufV0RERHpfp9URn5u/+fh7v253V6f0akxslWrVvFf//VfZGVlsWDBAl544QX8fj8Aubm51NXVkZGRwS233EJ+fj5Dhw4FYO7cuVx66aVkZmZy5ZVXcv/995OdnQ3ANddcw+zZs5k8eTKXXXYZM2bMYObMmQCMHz+elStXcvXVV5OZmcmIESNYtGgRAAMGDODpp59m1qxZZGZmcvDgQf7xH/+xM6dz0cb0g0Q/WocVxc79347I2ZQPsaNsRKeWLRp6eA8sAMuY2L/XS3FxMVOnTqWoqKjVwv3ucPlLjXwrxcf/8x1/t76u9I7Zs2ezfv16p8sQl1I+xI6yEZ0eLQ7x6+1hKu/p062v216foZ3cL9JlQyx2HI/5HjVm6R9IOR/lQ+woG9FpxwnDpF64ghDUYF207MEWn+mmzyIiIq732XFD9hA1WFEhe4jF8TNwuM7pSkRERMROMGwoOQHZQ3rn+6nBukjNnfBnmiYUERFxrT2noCGMRrCixSUDIcGvBitatbeXikgz5UPsKBvRp/nn9GVqsKKD32cxabAarGil3ZjlfJQPsaNsRJ/PjhuGJsCIxN75fmqwukH2EIvPjjtdhXTFnDlznC5BXEz5EDvKRvRpXuDeW7fhU4PVDSINlq4kFBERcasdJ3rvCkJQg9UtsodYnGyAg7VOVyIiIiLnCoYNn/fiFYSgBqtb6ErC6HXuTURFzqZ8iB1lI7p80ctXEIIarG4xfkDknoRqsKLPY4895nQJ4mLKh9hRNqJL889nNVhRxmdZTBqiBisarVu3zukSxMWUD7GjbESXz44bhveFlEQ1WFEne7CuJIxGSUlJTpcgLqZ8iB1lI7r05i1ymqnB6ia6klBERMSd1GBFsewhFqcbobzG6UpERESkWWPYsOskXDa4d7+vGqxuoisJo1Nubq7TJYiLKR9iR9mIHrtPQmMvX0EIarC6TfoASIpTgxVt0tLSnC5BXEz5EDvKRvTYfqz3ryAENVjdxmdZZA+xWv4gJTosX77c6RLExZQPsaNsRI9PjhlSkyC5F68gBDVY3errQ+FTNVgiIiKu8UmV4fJhvdtcgRqsbjVlWGSrhoaQmiwRERE3+PiYYYoarOh2xTCLhjCUnHC6EumokpISp0sQF1M+xI6yER0q6w0HamDKUDVYUe3rTX+AH1VpBCtarFixwukSxMWUD7GjbESHT5p+HmuKMMoNiLfIGAgfq8GKGqtXr3a6BHEx5UPsKBvR4eMqQ1IcZAzs/e+tBqubTRlmqcGKIrrUWs5H+RA7ykZ0+LjKMHmohd+nEayod0VTg6Vb5oiIiDjrk2PGkfVXoAar200ZZnGiAfZXO12JiIiId50JGXYeh8uHOfP91WB1s+ZLQTVNGB1WrVrldAniYsqH2FE23G/HcQgaHNmiAdRgdbtRSZCSqAYrWtTW1jpdgriY8iF2lA33+7jKYAGTNUUYGyzLYspQLXSPFitXrnS6BHEx5UPsKBvu93GVIWMg9O+jBitm6EpCERERZ33i0A7uzdRg9YApwyz2V8OxejVZIiIivc0Yw8cO3YOwmRqsHnDF8Mgf6Ce68bPrVVZWOl2CuJjyIXaUDXfbdxpONji3wB3UYPWIzIGQ6NdC92iwYMECp0sQF1M+xI6y4W4fVkR+/l6ZrAYrpvh9Fl8fZvFRpRost8vLy3O6BHEx5UPsKBvu9uFRwyUDITlRDVbMmTrcokgNluvl5OQ4XYK4mPIhdpQNd/ugwvBNB0evQA1Wj7ky2WLnCTjVoCZLRESkt5wJGT6qNHwrRQ1WTLoy2cIA/31UDZaIiEhv+bjK0BCGb6rBik0TB8OAPrBFDZarrVmzxukSxMWUD7GjbLjXBxWGBL+zVxCCGqwe47MsvpFsqcFyueLiYqdLEBdTPsSOsuFeH1YYcoZZxPvVYMWsK9VguV5+fr7TJYiLKR9iR9lwrw8qjOPTg6AGq0ddmWxxoAYO1KjJEhER6WkVdYZ9p3F8gTuowepRVzb9AW/VKJaIiEiPa95gVCNYMW50P4vUJC10FxER6Q0fVBhGJEJ6f6crUYPV465MtthSoQbLrQKBgNMliIspH2JH2XCnDysi+19ZlkawYt6VKRZbjxrCRk2WGy1btszpEsTFlA+xo2y4Tyhs2HLUHQvcQQ1Wj7sy2eJUI+w66XQl0p4ZM2Y4XYK4mPIhdpQN99l5Ak43umOBO6jB6nHTmu6FpGlCERGRnvNhhcECpg1Xg+UJg+ItLh2she4iIiI96YOKMF8bCgPi1WB5xpXJFn+pCDtdhrRj06ZNTpcgLqZ8iB1lw30+POr8DZ7PpgarF3x7pI+Pq+B0g0ax3KagoMDpEsTFlA+xo2y4y+kGw/Zj8M1k97Q17qkkhn1npEXYwF+0Dst11q9f73QJ4mLKh9hRNtxl61GDwT0L3EENVq+YOAiG94X3D6vBEhER6W4fHjUM7AOThjhdyVfUYPUCy7L49giLQjVYIiIi3e6DCsM3ki18LthgtJkarF7ynZEWH1QYGkJqskRERLqLMaZlB3c3UYPVS74zyqI+BEWVarDcZP78+U6XIC6mfIgdZcM99lfDkTp33OD5bGqwesmUYRZJcWia0GW0G7Ocj/IhdpQN9/ig6QIyNVge1cdncVWKpYXuLjNnzhynSxAXUz7EjrLhHh9WGCYMgJRENVie9Z2RFoVHdONnERGR7vLuoTDTR7iruQI1WL3q2yMtjp+BncedrkRERCT6Ha0zfFQFN452Xzvjvopi2LdSLOIseP+wbpvjFoWFhU6XIC6mfIgdZcMd/nwwMiN042iNYHlavz4WOcO1DstNHnvsMadLEBdTPsSOsuEObx0Ic9lgGN1PDZbnfXeUxTuHDEbrsFxh3bp1TpcgLqZ8iB1lw3nGGN46YLhpjDtbGXdWFcNuSLU4WAslJ5yuRACSkpKcLkFcTPkQO8qG83afhLJquMmF04OgBqvXfWekRbwP3j6gdVgiIiJd9fbBMHEWfHekGiwhsg5r+giLtw9qilBERKSr3vrScNUIiwHxarCkyY2jLf7joKExrCbLabm5uU6XIC6mfIgdZcNZwbDhzweNa6cHQQ2WI24cbXG6EbYeVYPltLS0NKdLEBdTPsSOsuGsrUcNpxrdu/4K1GA5Yupwi0Hx8PYBNVhOW758udMliIspH2JH2XDWWwcMg+JhWrIaLDlLnM/i+lRLDZaIiEgXvH3AcN0oizifGiw5x42jLf5yxHC6QU2WiIhIR51uMPzliOGmMe5trqCdBuvMmTPMmjWLiRMnMmXKFGbMmMGePXsAqKio4JZbbiErK4vJkyfz/vvvt3xdbW0tc+bMITMzk4kTJ/LSSy+1HDPGsHz5cjIyMsjMzCQ/P7/V93z00UfJyMggIyODBx98sNWxNWvWkJWVRUZGBgsXLiQYDLYce/XVV5k0aRJZWVnccccdnD59unvelV5wY6qPoIH3tKu7o0pKSpwuQVxM+RA7yoZz3j1kCBq4yYX3Hzxbu9UtXryYzz//nI8//pjbbruNe++9F4AHHniA6dOns2vXLtauXctdd91FKBQC4IknniAxMZHdu3ezefNmlixZwrFjxwB47rnn2LlzJ7t372bLli08/vjj7NixA4D33nuPdevWsW3bNnbs2MHmzZt5/fXXAdi3bx8PPfQQhYWFfPHFFxw5coSnnnoKgOrqau69915eeeUVdu3aRWpqKo888kjPvlvdKHMQjO2ndVhOW7FihdMliIspH2JH2XDOWwcM6f0hY6DTlZxfmwYrISGBW265peX33/zmNyktLQVg48aNLF68GIBp06aRmprKu+++C8CGDRtajo0bN45rr72Wl19+GYD169ezcOFCLMtiyJAhzJ49m4KCgpZj99xzD4mJicTHx7NgwYKWYy+++CK33XYbKSkpQKTxaz72xhtvkJOTQ1ZWFgBLlixpORYNLMvixtEWb36pDUedtHr1aqdLEBdTPsSOsuGctw+EuWm0hWVF2RThuX7zm98wa9YsqqqqaGxsbGl2INJIlZWVAVBWVkZ6enqrY+Xl5QCUl5e3Odb8deceS09Pb/WaZ18Ke6Fjhw4dIhyOnoZl5lgfO07AvlMaxXKKLrWW81E+xI6y4YwDNYYdJ+BGl08PwgUarJ///Ofs3buXf/qnf+rWb3rujY7tbnzs9u70Ys0YY9HHB6+WRU9TKCIi4pS3Dxgs4AYX73/VzLbBeuKJJ9i0aRNvvPEGffv2ZdiwYcTFxXHkyJGW55SWlrZ08WlpaS1TiRBZP2V3rLS0tGXUKi0tjf3793f6WHp6eptjo0aNwuez7xlnzpxJIBBo9XHVVVexadOmVs978803CQQCbb5+6dKlrFmzptVjxcXFBAIBKisrWz3+8MMPs2rVqlaPlZWVEQgEWhZHDoy3uGaURX7h/ja7AtfW1hIIBCgsLGz1eEFBAfPnz29T2+zZsx07j2ZPPvmkzkPnofPQeeg8dB49dh5vHQiT7jtO7v9c4Nh5FBQUcNNNNzFy5Eiuv/56AoEA9913X5vvgWnHL37xCzN16lRz/PjxVo/PmzfP5OXlGWOM2bJlixk9erQJBoPGGGPy8vLMvHnzjDHG7N2716SkpJiqqipjjDHPPPOMueGGG0woFDJVVVUmPT3dbN++3RhjzDvvvGOys7NNTU2Nqa+vN9OmTTOvvfZay+ukpqaaw4cPm3A4bG699VaTn59vjDHm1KlTJiUlxZSUlBhjjFm6dKnJzc1t73RMUVGRAUxRUVG7x530m21B0+fpBnPyTNjpUjzpn//5n50uQVxM+RA7ykbvC4fDZsRzDebvPgw6XUob7fUZcec2XF9++SX/+3//by655BKuu+46APr27ctf/vIXVq1axdy5c8nKyiIhIYEXXngBv98PRO7LtGDBAjIyMvD7/eTn5zN06FAA5s6dy9atW8nMzMSyLO6//36ys7MBuOaaa5g9ezaTJ08G4M4772TmzJkAjB8/npUrV3L11VcDcN1117Fo0SIABgwYwNNPP82sWbMIBoNMnjyZZ599tm0H6XK3pvn427+EeeuA4Y7x7h/yjDW1tbVOlyAupnyIHWWj9207Bkfq3H17nLNZxtgsgIohxcXFTJ06laKiInJycpwup42vvdjItOEWz1zbpt8VERERYGVRiF9uC1MxN44Ev7uarPb6DPcvw/eA/5Hm47VyQygc872uiIhIl2zYG+a2dMt1zZUdNVgucGuaRWU9fHhUDZaIiMi5PjsW2Z7hBxOip22Jnkpj2LdSLIb3hVfL1GD1tnOvFhE5m/IhdpSN3rVxX5iBfXD9/QfPpgbLBfw+i5ljLf60X/th9bYFC9pe6ivSTPkQO8pG79qwN8yscdEzPQhqsFzjjvE+PjsO245pFKs35eXlOV2CuJjyIXaUjd7z2THDzhPw/fHR1bJEV7Ux7JYxFkMT4IUvNIrVm9x4Vam4h/IhdpSN3rNhX5hB8dE1PQhqsFwj3m8xe4KPF74IE479nTNEREQuyBgTmR6MoqsHm6nBcpG7My2+rIH3DqnBEhER+ew4lJyA70fR1YPNoq/iGHZVisX4AfC8pgl7zbn3ohI5m/IhdpSN3rFhb9P0YJTs3n42NVguYlkWd2f42LjXUB/UKFZvKC4udroEcTHlQ+woGz3PGMPGfZHpwfgomx4ENViu88MMH6catSdWb8nPz3e6BHEx5UPsKBs9b3vT9GA0bS56tuisOoZNHGwxbbilaUIREfG0DXvDDI6HG6NwehDUYLnS3ZkWr5cbquo1iiUiIt5jjGFj0+ai0Tg9CGqwXOnOCT7CBjbu1SiWiIh4z7Zj8PnJ6J0eBDVYrjQiyeKm0RbPf6ERrJ4WCAScLkFcTPkQO8pGz9q4LzI9eENqdI5egRos17o708d/HjHsPaUmqyctW7bM6RLExZQPsaNs9JywMRTsie7pQVCD5Vqz0i36xcEftNi9R82YMcPpEsTFlA+xo2z0nDe/NOw5BfdOjO4WJbqrj2H9+lj89TiLF/aEMbp1joiIeET+jjCXD4XpI6J39ArUYLna3Rk+Sk5AcaXTlYiIiPS8facMr5UZlmb7sSw1WNJDbhhtMSJRt87pSZs2bXK6BHEx5UPsKBs947c7wwyMh7suie7mCtRguVqcz2LOJT7+sCdMQ0jThD2hoKDA6RLExZQPsaNsdL/6oGHN52HmZ/no10cNlvSweyf6qKiDdXvUYPWE9evXO12CuJjyIXaUje63fq+h6gwsuSw2WpPYOIsYlj3U4q/GWjz2aUiL3UVEJGbl7wgzY7RF5qDoH70CNVhRIfdyH58dhzfK1WCJiEjs2Xo0zNajhqXZsdOWxM6ZxLDvjrS4Mtni8U+12F1ERGJP/mdh0vvDX42NjdErUIMVFSzLYsXlPt45ZNhSoSarO82fP9/pEsTFlA+xo2x0n8p6w7q9hsWTfPh9arCkl81Kt8gYiEaxupl2Y5bzUT7EjrLRfX73eRhj4MdRvnP7uWLrbGKY32dx/2Qffyw1fHFSa7G6y5w5c5wuQVxM+RA7ykb3CIUN/7ojzOwJFsmJsTN6BWqwosqPsnwMS4BfbtMoloiIRL/Xyg2l1cTU4vZmsXdGMSwxzmJ5to+1u8IcrdMoloiIRK+wMfzjf4f4TtOFXLFGDVaUWXKZD58Fq3doFKs7FBYWOl2CuJjyIXaUjYv3wheGT4/Bqit9UX/fwfaowYoyw/pa3DvRx+rPwtQ0ahTrYj322GNOlyAupnyIHWXj4tQHDQ/+d4i/Hmdx1YjYbEVi86xi3E8n+zjZAGt3aRTrYq1bt87pEsTFlA+xo2xcnP+zI8yBGvinb/idLqXHqMGKQuMGWPxggsUvPg3TGNYo1sVISkpyugRxMeVD7CgbXXfijOFnH4f58UQfEwfH3tRgMzVYUeqBy/2U1cCT2zWKJSIi0eOxT8PUhyBvamy3ILF9djHs68Mslkzy8XBxmAM1GsUSERH3O1Bj+PW2MD/9mo9RSbE7egVqsKLaI9N89IuD//VByOlSolZubq7TJYiLKR9iR9nomryiEElxsOLy2G8/Yv8MY9jgBIsnvulnw17DW19qqrAr0tLSnC5BXEz5EDvKRuftOG743S7DP+b4GBgf26NXoAYr6v0ww+KaURZL/zPEmZCmCjtr+fLlTpcgLqZ8iB1lo/P+760h0vvD4kneaD28cZYxzLIs8qf72XcantCNoEVExIX+83CYV/YbHp3mJ8Ef+6NXoAYrJmQPtfjpZB+PfhRm3ymNYomIiHsYY1ixJcwVw+DOS7zRXIEarJjxUI6P4X3hb/+iBe+dUVJS4nQJ4mLKh9hRNjpuw17Dfx0xrLrSjy8Gb4ljRw1WjOjfx+LXV/n5tzLDn/ZrqrCjVqxY4XQJ4mLKh9hRNjqmrNqwuDDE98db3DTGWy2Ht842xt0+zuLmMRY/+a8QtUFNFXbE6tWrnS5BXEz5EDvKxoUFw4a7/hxiUDw89Z3YvSWOHTVYMcSyLFZP93O4Dn7+kUaxOkKXWsv5KB9iR9m4sEc+CvNBheEP1/sZnOCdqcFmarBiTMYgi7+73Mdjn4YpOaFRLBER6X3vHgrz6Edh8nJ8TB/hzVbDm2cd4x643Mf4AXDHW0FONajJEhGR3lNVb7j7P0J8Z6TF30/xbpvh3TOPYYlxFq/MiONALdz55xChsJosO6tWrXK6BHEx5UPsKBvtM8Zw73shaoPw/LV+/D7vTQ02U4MVoy4dbLHhBj9vfmnI/VDrsezU1tY6XYK4mPIhdpSN9v12Z5hN+w2/+66fMf2921yBGqyYNmOMj199y8evtodZU6Imqz0rV650ugRxMeVD7CgbbW07ZvjpB2GWXubjtnFqL+KcLkB61rJsHztOwP/8zxCZg+C7oxR6ERHpXrVBw53/HiRrEDz+Tf2cAY1gxTzLsviX6T6+M9Li9rdC7NWtdEREpBs173e17zSsuz6OxDhvTw02U4PlAX18Fhtv8DMkAW7drCsLz1ZZWel0CeJiyofYUTYijDEsej/Eq2WGjTf6uWyImqtmarA8Ymhfi3+7OXJl4RxdWdhiwYIFTpcgLqZ8iB1lI+Lvt4b53S7D2mv8/FWaWoqz6d3wkOYrC/+/Lw1/+5cwYaMmKy8vz+kSxMWUD7GjbMATn4ZY9UmYX37Lx9xMtRPn0jviMTPG+PjXq/38nx1h7vz3EHUev2dhTk6O0yWIiykfYsfL2TDG8EhxiNwPw/zDFB8/ney9+wx2hBosD1o4ycdLN/p5tcxww2shjtZ5u8kSEZGOCRvD/R+EeagozKPTfDwyTW2EHb0zHvXX43288z/87DltuOpPQXbpvoUiInIewXBkl/ZfbQ+zerqPf7jCj2VpUbsdNVgedmWKjw8CcfTxwVV/CvL+Ie9tRrpmzRqnSxAXUz7EjteyUVVvuOWNEL/fbXjuWj9LszUteCFqsDxu/ECL/wrE8fWhFje+HuIPX3irySouLna6BHEx5UPseCkbH1cZpr0c5JNjhrdm+rlbC9o7RO+SMCTBYvP/5Wf2BIsf/keIR4tDnrnCMD8/3+kSxMWUD7HjhWwYY3hud5jprwQZ2heK/jqO61LVNnSUbpUjAMT7LZ691s+EgWH+sSjM6+WGf/22n8uHaX5dRMRrjtYZ/ud/hnhpn+FHmRb/+m2/dmjvJLWi0sKyLPKm+nnnf/g50WCY+nKQ+z8IUd3ojdEsERGBl/eFyX4xyDsHDRtu8PPMtbr9TVeowZI2rhnl4+Pb43h0mo9/3RFm0sYgL+8LYzwybSgi4jWhsOGlfWGu/lOQ298OMX2ExWffi+P7E9QmdJXeOWlXvN/igSl+PvteZAH87W+HCLwZovR0bDVZgUDA6RLExZQPsRMr2TjdYPjN9hCZG4J87+0QfXzwpxl+Xr7Jz4gkjVpdDK3BkvMaP9Di1Zv9vFxq+Nu/hLhsY5Cl2T6WZxL2aPEAAAi1SURBVPtI6x/9f/mWLVvmdAniYsqH2In2bJRXG578LMxTJWFqGuEHEyw23uBnanL0/7vuFmqw5IIsy+L28RY3jbb4p0/C/J8dYX61Lcz3J1j8r8k+vpEcvQOhM2bMcLoEcTHlQ+xEazb++2iYX24Ls2GvoX8fWHSpj2XZPsbGwH+Y3UYNlnTYgHiLn3/Dz99f7uOZXWF+vT3MlZtCfHtEmP812Ucg3cLv019SERE3CYUN/1Zm+OW2MO8fNowfAL/8lo8FE33076N/s3uKGizptAHxFsu/5mfJZT7+tN/wq+1hbn87xMhEuH28j++Nt/jOSIs4NVsiIo6paTQt/xn+4hRcPcLipRv93Kb/DPeK6J3bEcf5fRZ/Pd7He7fGsXWWnzmX+Hi1LMz1r4UY9UKQhe8H2VwepjHs3oXxmzZtcroEcTHlQ+y4NRtH6wyvl4XJ/TDE2IIgP/lLmJzhFh/c5qcwEMft431qrnqJRrCkW0xL9jEtGX7xLR//XWl4aZ/hxX1h/t+SEP3i4KoRkVGt74y0+GaKRZJL9lRZtWoVs2bNcroMcSnlQ+y4IRs1jYbiSsOWo00fFYbS6six4X1hXqaPn3zNx7gB7vj31muivsHavXs3P/rRj6iqqmLQoEE888wzXHbZZU6X5VmWZfGNZItvJMM/fcPHJ8fgzS8j8/6/2hbm4SKIs2BqssX0FIuvD7P42hCYNNiinwNrAZKTk3v9e0r0UD7ETm9nozFs2H4MthwNs7WpofrsOIQNJMVBzjCL28f7uDLZ4spki3EDIv8ei3OivsFatGgRixcv5p577uGll15i3rx5bNmyxemyhMhf7inDYMowPysuh7CJ/IPw/uEwhYcNm/aH+dX2pucC4wdA9hCLy4ZYjEiEYQkWQxNgWF8YmmAxrC8Mjkdru0QkJhljqDoDh2rhUK3hQA18csyw9WhkpKo+BH4LJg+Fb6VY/CQ70lBdNkT/LrpRVDdYFRUVFBUV8fbbbwNw++23s2zZMvbu3cuECRMcrk7O5bMsJg+FyUP9LGkaZKxuNOw8Efmf2WfHDduPG9btCVNZDzXB9l9ncDxNjVekARua0NSM9YVhCV81Yy2PJ8DghMj3FxHpLWFjqGmE6iBUN8KpBjhSZ1oaqEN1cLAm8vlQreFwLTSEW7/GJQPhymSL7zWNTl0x3D1LLOT8orrBKi8vZ9SoUfh8kbX6lmWRlpZGWVmZGqwo0b/PV1OK56oPGo43QFU9HDtjmj43/frMV48dqoXtx8McOxN5bn2o7WtZwJCE1o3ZsATY9rUfc/8HIfxW5H+GcT7a/DrOAn+rX1uRz02Px53na5s/mnu7s/9ZPPex8x2zfazpd+0d622x2L+eHDiOj6vce5GGm7V3Z6323slzn2eanmXOOW77+7MeN0SmzJo/Wv2+6dfmrF83f4QMNIa/+mgIm1a/b30s8vmTry9m3jtBapqap+pGON1oWpqp6kb7/yQCJPeFUUkwKsnissFwQ6qPUUmQmmS1PD4yEfqqmYpaUd1gdVRdXR0AO3fudLgS6ar+TR/pzQ/ENX30a/vc+qDhVCOcPAMnGw0nG2j6MJyqh5OnDSfPwGeN8OWJev74bhGhs/6hPffXoXDkH+SWX+vnrXeMu5srfrXV6Sqkl8X5oI8v8jmu6T9RcdZXv+7jh4NHj/HRR8Uk+SExDgbFQWqcRWIckceSICnOIimOsz4shjT9566Pv53G6UzTx3E4RuRDokNzf9Hcb0CUN1hjx47l0KFDhMNhfD4fxhjKyspIS0tr9bzS0lIA7r77bgeqFLcrdboAEXGVYNPHhXza04VI1CktLeXqq68GorzBSklJIScnh+eee44f/ehHvPTSS4wdO7bN9ODNN9/M888/z7hx40hMTHSoWhEREYlFdXV1lJaWcvPNN7c8ZhnT3kx59Ni1axfz5s1r2aZh7dq1ZGdnO12WiIiIeFjUN1giIiIibqNb5YiIiIh0MzVYEvPOnDnDrFmzmDhxIlOmTGHGjBns2bOn3eeWlpbi9/u54oorWj727dvXyxVLb9m9ezfTp09n4sSJXHnllezYsaPd57366qtMmjTp/2/v/kFSC8M4jn8vURmUIDQ56FCczSET2mtpDJscomgJgtZWh8AoLHDIXRpqSAkcBBGEHFwi5xYxipaGhmqQRBouid06Xi/XXu89/j6bnPfAc0B+PJw/74NlWSwvL/P09GS4UjGt29xQZogdPSIUx6vX6xSLRRYXFwE4Ojri7OyMYrH4aW2tVmNmZobHx0fTZUofzM/Ps7a21poEsbe392kSxPPzM9PT01xcXGBZFltbW4yNjbG/v9+nqsWEbnNDmSF2dAdLHG90dLQVkgBzc3OtrTtkcL1PgnjfviUcDnN7e0u1Wv2wLpfLEQwGsSwLgM3NTU5OTozXK2YpN+RvqcGSgZNIJFhaWrI9/vLyQigUYnZ2lp2dHZrNpu1a+X91mgTR7te99fx+f2v/PRkcnXJDmSFfUYMlAyUWi1GtVtnd3f3yuNfr5f7+nsvLSwqFAqVSiYODA8NVyr/khxNnAMkf6ZQbygyxowZLHOn4+Lj1wmkqlQIgHo9zfn5OLpfD5XJ9ed7IyAiTk5MAeDwe1tfXKZVKxuoWc9onQQC2kyB8Ph83Nzet37Va7cOdL3G23+WGMkPsKCHEkVZWVqhUKlQqFVZXVzk8POT09JR8Po/b7bY97+HhgdfXV+DnS67pdJpgMGiqbDGofRIE0HESxNXVFdfX1wAkk0kikYjxesW8bnJDmSF29BWhON7d3R0+n4+pqSnGx8cBcLlclMtlAKLRKF6vl42NDTKZDNFolKGhIRqNBgsLC8TjcYaHh/t5CfJN7CZBtP8nALLZLNvb2zQaDQKBAKlUiomJiT5XL9+pU24oM6QbarBEREREekyPCEVERER6TA2WiIiISI+pwRIRERHpMTVYIiIiIj2mBktERESkx94ARB7mKMzJKuAAAAAASUVORK5CYII=\" />"
      ]
     },
     "execution_count": 29,
     "metadata": {},
     "output_type": "execute_result"
    }
   ],
   "source": [
    "plot(p1)\n"
   ]
  },
  {
   "cell_type": "code",
   "execution_count": 30,
   "metadata": {
    "collapsed": false
   },
   "outputs": [
    {
     "data": {
      "text/html": [
       "<img src=\"data:image/png;base64,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\" />"
      ]
     },
     "execution_count": 30,
     "metadata": {},
     "output_type": "execute_result"
    }
   ],
   "source": [
    "\n",
    "xx = [0.0, -1.0, 1.0]\n",
    "yy = [-2.0, -1.0, -1.0]\n",
    "# Defino el rango de las x's y y's\n",
    "rango = collect(linspace(-10,10,40))\n",
    "ls = [LN(rango[i], xx, yy) for i in 1:length(rango)]\n",
    "# Se plotean los puntos y su interpolación. \n",
    "plot(p1,xlim=(-10,10), ylim=(-5,10))\n",
    "plot!(rango, ls)\n",
    "scatter!([xx], [yy])"
   ]
  },
  {
   "cell_type": "code",
   "execution_count": 31,
   "metadata": {
    "collapsed": false
   },
   "outputs": [
    {
     "data": {
      "text/html": [
       "<img src=\"data:image/png;base64,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\" />"
      ]
     },
     "execution_count": 31,
     "metadata": {},
     "output_type": "execute_result"
    }
   ],
   "source": [
    "xx = [0.0, -1.0, 1.0]\n",
    "yy = [-2.0, -1.0, -1.0]\n",
    "# Defino el rango de las x's y y's\n",
    "rango = collect(linspace(-5,5,40))\n",
    "ls = [LN(rango[i], xx, yy) for i in 1:length(rango)]\n",
    "# Se plotean los puntos y su interpolación. \n",
    "plot(p1, xlim=(-10, 10), ylim=(-5, 10))\n",
    "plot!(rango, ls)\n",
    "scatter!([xx], [yy])"
   ]
  },
  {
   "cell_type": "markdown",
   "metadata": {},
   "source": [
    "**(iii)** Ahora toma funciones que *no sean* polinomiales, y haz lo mismo. ¿Qué observas?"
   ]
  },
  {
   "cell_type": "code",
   "execution_count": 32,
   "metadata": {
    "collapsed": false
   },
   "outputs": [
    {
     "ename": "LoadError",
     "evalue": "MethodError: no method matching LN(::Float64, ::Array{Int64,1}, ::Array{Float64,1})\u001b[0m\nClosest candidates are:\n  LN(::Float64, \u001b[1m\u001b[31m::Array{Float64,1}\u001b[0m, ::Array{Float64,1}) at In[22]:3\u001b[0m",
     "output_type": "error",
     "traceback": [
      "MethodError: no method matching LN(::Float64, ::Array{Int64,1}, ::Array{Float64,1})\u001b[0m\nClosest candidates are:\n  LN(::Float64, \u001b[1m\u001b[31m::Array{Float64,1}\u001b[0m, ::Array{Float64,1}) at In[22]:3\u001b[0m",
      "",
      " in collect(::Base.Generator{UnitRange{Int64},##29#30}) at ./array.jl:307"
     ]
    }
   ],
   "source": [
    "f(x) = 1/x \n",
    "xx1 = [1, 2, -2, 5, -1]\n",
    "yy1 = [1, 0.5, -0.5, 0.2, -1]\n",
    "# Defino el rango de las x's y y's\n",
    "rango = collect(linspace(-5,5,40))\n",
    "ls1 = [LN(rango[i], xx1, yy1) for i in 1:length(rango)]\n",
    "# Se plotean los puntos y su interpolación. \n",
    "plot(f)\n",
    "plot!(rango, ls1)\n",
    "scatter!([xx1], [yy1])"
   ]
  },
  {
   "cell_type": "markdown",
   "metadata": {},
   "source": [
    "**[4]** Considera la función de Runga, $f(x) = \\frac{1}{1+25x^2}$, en la región $x \\in [-1, 1]$. Interpólala con tu función `interpolar` para distintos números $N$ de puntos. ¿Qué observas? Utiliza `@manipulate`. "
   ]
  },
  {
   "cell_type": "markdown",
   "metadata": {},
   "source": [
    "Le que observaste en [4] se llama el **fenómeno de Runge**. Demuestra que en general es una mala idea interpolar en puntos espaciados de forma igual. Sin embargo, resulta que el problema no es la interpolación en sí, sino la elección de puntos donde interpolar."
   ]
  },
  {
   "cell_type": "code",
   "execution_count": 33,
   "metadata": {
    "collapsed": false
   },
   "outputs": [
    {
     "data": {
      "text/html": [
       "<img src=\"data:image/png;base64,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\" />"
      ]
     },
     "execution_count": 33,
     "metadata": {},
     "output_type": "execute_result"
    }
   ],
   "source": [
    "# Tomando puntos igualmente espaciados\n",
    "\n",
    "fr(x) = 1/(1 + 25*x^2)\n",
    "xr = [-1.0, -0.5, 0.0, 0.5, 1.0]\n",
    "yr = [-0.5, -0.25, 0.0, 0.25, 0.5]\n",
    "# Defino el rango de las x's y y's\n",
    "rangor = collect(linspace(-1,1,50))\n",
    "lsr = [LN(rangor[i], xr, yr) for i in 1:length(rangor)]\n",
    "# Se plotean los puntos y su interpolación. \n",
    "plot(fr,xlim=(-2,2), ylim=(-5,5))\n",
    "plot!(rangor, lsr)\n",
    "scatter!([xr], [yr])"
   ]
  },
  {
   "cell_type": "code",
   "execution_count": 34,
   "metadata": {
    "collapsed": false
   },
   "outputs": [
    {
     "name": "stderr",
     "output_type": "stream",
     "text": [
      "WARNING: Method definition fr(Any) in module Main at In[33]:3 overwritten at In[34]:3.\n"
     ]
    },
    {
     "data": {
      "text/html": [
       "<img src=\"data:image/png;base64,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\" />"
      ]
     },
     "execution_count": 34,
     "metadata": {},
     "output_type": "execute_result"
    }
   ],
   "source": [
    "# Tomando puntos cualesquiera. Entonces la elección de puntos es la que \"mejora\" la interpolación.\n",
    "\n",
    "fr(x) = 1/(1 + 25*x^2)\n",
    "xr = [1.0, -1.0, 0.3, -0.4, 0.0]\n",
    "yr = [0.2, 0.1, 0.4, 0.3, 1.0]\n",
    "# Defino el rango de las x's y y's\n",
    "rangor = collect(linspace(-1,1,50))\n",
    "lsr = [LN(rangor[i], xr, yr) for i in 1:length(rangor)]\n",
    "# Se plotean los puntos y su interpolación. \n",
    "plot(fr,xlim=(-2,2), ylim=(-5,5))\n",
    "plot!(rangor, lsr)\n",
    "scatter!([xr], [yr])"
   ]
  },
  {
   "cell_type": "markdown",
   "metadata": {},
   "source": [
    "## Interpolación en puntos espaciados no-uniformemente"
   ]
  },
  {
   "cell_type": "markdown",
   "metadata": {},
   "source": [
    "Resulta que la solución es tomar puntos en el intervalo $[-1,1]$, espaciados tales que se amontonen cerca de los puntos extremos del intervalo. [La razón por esto se puede entender con la teoría de potenciales (\"potential theory\"); ver e.g. Trefethen, *Approximation Theory and Approximation Practice*.] \n",
    "\n",
    "Lo más común es utilizar los **puntos de Chebyshev** con parámetro $n$, definidos como \n",
    "\n",
    "$$x_j := \\cos \\left( \\frac{j \\pi}{n} \\right) \\quad \\text{con } 0 \\le j \\le n.$$"
   ]
  },
  {
   "cell_type": "markdown",
   "metadata": {},
   "source": [
    "**[5]** (i) Escribe una función que calcula los puntos de Chebyshev para un valor de $n$ dado.\n",
    "\n",
    "(ii) Escribe una función que interpola una función dada en los puntos de Chebyshev. Grafica los resultados.\n",
    "\n",
    "(iii) Interpola la función de Runge con puntos de Chebyshev. ¿Qué observas?"
   ]
  },
  {
   "cell_type": "code",
   "execution_count": 35,
   "metadata": {
    "collapsed": false
   },
   "outputs": [
    {
     "data": {
      "text/plain": [
       "ptos_Chebyshev (generic function with 1 method)"
      ]
     },
     "execution_count": 35,
     "metadata": {},
     "output_type": "execute_result"
    }
   ],
   "source": [
    "function ptos_Chebyshev(n::Float64)\n",
    "   cheby = Float64[]\n",
    "    for i in 1:n\n",
    "    ptos_cheb = cos((2*i - 1) * π / 2*n) \n",
    "    push!(cheby, ptos_cheb)\n",
    "    end\n",
    "    return cheby\n",
    "end"
   ]
  },
  {
   "cell_type": "code",
   "execution_count": 36,
   "metadata": {
    "collapsed": false
   },
   "outputs": [
    {
     "data": {
      "text/plain": [
       "3-element Array{Float64,1}:\n",
       " -1.83697e-16\n",
       "  5.51091e-16\n",
       " -2.69484e-15"
      ]
     },
     "execution_count": 36,
     "metadata": {},
     "output_type": "execute_result"
    }
   ],
   "source": [
    "# Prueba de la función\n",
    "ptos_Chebyshev(3.0)"
   ]
  },
  {
   "cell_type": "code",
   "execution_count": 37,
   "metadata": {
    "collapsed": false
   },
   "outputs": [
    {
     "data": {
      "text/plain": [
       "interpola_Chebyshev (generic function with 1 method)"
      ]
     },
     "execution_count": 37,
     "metadata": {},
     "output_type": "execute_result"
    }
   ],
   "source": [
    "function interpola_Chebyshev(f::Function, n::Float64)\n",
    "    xc = ptos_Chebyshev(n)\n",
    "    yc = []\n",
    "    @show xc\n",
    "    y = [1.0, 2.0, 4.0]\n",
    "    for k in 1:length(xc)\n",
    "        yyc = [LN(xc[k], xc, y)]\n",
    "        push!(yc, yyc)\n",
    "    end\n",
    "    return xc, yc\n",
    "end"
   ]
  },
  {
   "cell_type": "code",
   "execution_count": 38,
   "metadata": {
    "collapsed": false
   },
   "outputs": [
    {
     "name": "stdout",
     "output_type": "stream",
     "text": [
      "xc = [-1.83697e-16,5.51091e-16,-2.69484e-15]\n"
     ]
    },
    {
     "data": {
      "text/plain": [
       "([-1.83697e-16,5.51091e-16,-2.69484e-15],Any[[1.0],[2.0],[4.0]])"
      ]
     },
     "execution_count": 38,
     "metadata": {},
     "output_type": "execute_result"
    }
   ],
   "source": [
    "intcx, intcy = interpola_Chebyshev(x -> 1/(1 + 25*x^2), 3.0)"
   ]
  },
  {
   "cell_type": "code",
   "execution_count": 39,
   "metadata": {
    "collapsed": false
   },
   "outputs": [
    {
     "data": {
      "text/html": [
       "<img src=\"data:image/png;base64,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\" />"
      ]
     },
     "execution_count": 39,
     "metadata": {},
     "output_type": "execute_result"
    }
   ],
   "source": [
    "#plot([intcx], [intcy])\n",
    "plot(x->fr(x))"
   ]
  },
  {
   "cell_type": "markdown",
   "metadata": {},
   "source": [
    "**[6]** Dada una función $f$, calcula numéricamente el error al utilizar la interpolación de Chebyshev $p$ con respecto a la función original $f$, dado por la norma\n",
    "\n",
    "$$\\|f - p\\|_{\\infty} := \\sup_x |f(x) - p(x)|,$$\n",
    "\n",
    "para distintos números de puntos de Chebyshev.\n",
    "\n",
    "Conforme se aumenta el número de puntos, ¿cómo es la convergencia a $0$ del error?  "
   ]
  },
  {
   "cell_type": "markdown",
   "metadata": {},
   "source": [
    "**[7]** Resulta que la tasa de convergencia depende de qué tan suave es la función.\n",
    "Por ejemplo, inténtalo con la función `abs` y con la función `floor`."
   ]
  },
  {
   "cell_type": "markdown",
   "metadata": {},
   "source": [
    "## Hacia el futuro"
   ]
  },
  {
   "cell_type": "markdown",
   "metadata": {},
   "source": [
    "Lo que hemos logrado es reemplazar (aproximar) una función continua $f$ por un conjunto discreto de sus valores $f(x_i)$ en la **malla** $(x_i)_{i=1}^N$. Ahora podremos manipular la función ¡al manipular sólo estos valores discretos!"
   ]
  },
  {
   "cell_type": "markdown",
   "metadata": {},
   "source": [
    "Resulta que es más útil **cambiar de base** en el espacio de polinomios, y utilizar los **polinomios de Chebyshev**. \n",
    "\n",
    "La idea es escribir el polinomio interpolante como una suma de polinomios de Chebyshev y examinar los coeficientes de estos polinomios, que tienen propiedades muy útiles. Esto lo podremos ver hasta después de ver álgebra lineal numérica.  ¡Podría formar un proyecto final interesante!  "
   ]
  },
  {
   "cell_type": "markdown",
   "metadata": {},
   "source": [
    "### Clase\n",
    "#### Gráficas en 2 var"
   ]
  },
  {
   "cell_type": "code",
   "execution_count": 40,
   "metadata": {
    "collapsed": false
   },
   "outputs": [],
   "source": [
    "#using Plots, LaTeXStrings\n",
    "#pyplot()"
   ]
  },
  {
   "cell_type": "code",
   "execution_count": 41,
   "metadata": {
    "collapsed": false
   },
   "outputs": [],
   "source": [
    "#f(x, y) = x^2 + y^2"
   ]
  },
  {
   "cell_type": "code",
   "execution_count": 42,
   "metadata": {
    "collapsed": false
   },
   "outputs": [],
   "source": [
    "#surface(-1:0.1:1, -1:0.1:1, f, c=:greens, fa=0.5)"
   ]
  },
  {
   "cell_type": "code",
   "execution_count": null,
   "metadata": {
    "collapsed": true
   },
   "outputs": [],
   "source": []
  }
 ],
 "metadata": {
  "kernelspec": {
   "display_name": "Julia 0.5.0",
   "language": "julia",
   "name": "julia-0.5"
  },
  "language_info": {
   "file_extension": ".jl",
   "mimetype": "application/julia",
   "name": "julia",
   "version": "0.5.0"
  }
 },
 "nbformat": 4,
 "nbformat_minor": 2
}

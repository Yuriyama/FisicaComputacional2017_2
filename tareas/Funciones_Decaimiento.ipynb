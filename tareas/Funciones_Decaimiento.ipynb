{
 "cells": [
  {
   "cell_type": "markdown",
   "metadata": {},
   "source": [
    "# Decaimiento Radiactivo\n",
    "\n",
    "## Funciones\n",
    "\n",
    "#### Flores/Yamamoto"
   ]
  },
  {
   "cell_type": "code",
   "execution_count": null,
   "metadata": {
    "collapsed": true
   },
   "outputs": [],
   "source": [
    "#Función de Decaimiento para N núcleos a probabilidad p\n",
    "\n",
    "function Decaimiento(N, p, Δt) # N es el número inicial de núcleos y p la probabilidad con que decaen y \n",
    "                                 # Δt es el intervalo de tiempo con que avanza.\n",
    "    \n",
    "    ts = [0] # Arreglo de tiempos\n",
    "    Ns = [N] # Arreglo de valores de N en el tiempo\n",
    "    \n",
    "    while N > 0\n",
    "        \n",
    "        for i in 1:N\n",
    "            \n",
    "            num_aleat = rand() # Genera un número aleatorio entre 0 y 1\n",
    "        \n",
    "            if num_aleat > p\n",
    "                N = N\n",
    "            else\n",
    "                N -= 1\n",
    "            end\n",
    "        end\n",
    "        \n",
    "        t0 += Δt # pasa al siguiente tiempo\n",
    "\n",
    "        push!(ts, t0)\n",
    "        push!(Ns, N)\n",
    "                    \n",
    "    end\n",
    "    \n",
    "    pop!(ts) # Quita el último tiempo\n",
    "    pop!(Ns) # Quita el último valor (cero) \n",
    "\n",
    "    return ts, Ns\n",
    "end"
   ]
  },
  {
   "cell_type": "code",
   "execution_count": null,
   "metadata": {
    "collapsed": true
   },
   "outputs": [],
   "source": [
    "function IterarDecaimiento(N, p::Float64, n::Int64) # n es el número de veces que se itera\n",
    "    \n",
    "    arreglo_nucleo = [] # Lista que contiene n listas de núcleos \n",
    "    arreglo_tiempo = [] # Lista que contiene n listas de tiempos\n",
    "    \n",
    "    for i in 1:n\n",
    "        decaimientos = DecaimientoNN(N, p)\n",
    "        push!(arreglo_tiempo, decaimientos[1])\n",
    "        push!(arreglo_nucleo, decaimientos[2])\n",
    "        #@show i, decaimientos\n",
    "    end\n",
    "    return arreglo_tiempo, arreglo_nucleo\n",
    "end"
   ]
  },
  {
   "cell_type": "code",
   "execution_count": null,
   "metadata": {
    "collapsed": true
   },
   "outputs": [],
   "source": [
    "function Igualar_Arreglos(N, p, n)\n",
    "    \n",
    "    iteracion = iterarDecaimiento(N, p, n)\n",
    "    max = 1\n",
    "    iter_tiempos = iteracion[1]\n",
    "    iter_nucleos = iteracion[2]\n",
    "    \n",
    "    for i in 1:n\n",
    "        if length(iter_tiempos[i]) > max\n",
    "            max = length(iter_tiempos[i])\n",
    "        else\n",
    "            max = max\n",
    "        end\n",
    "    end\n",
    "    \n",
    "    @show max, iter_tiempos, iter_nucleos\n",
    "    \n",
    "    for i in 1:n\n",
    "        while length(iter_nucleos[i]) < max\n",
    "            tiempos = iter_tiempos[i]\n",
    "            ultimo_tiempo = tiempos[end]\n",
    "            push!(iter_tiempos[i], ultimo_tiempo + 1)\n",
    "            push!(iter_nucleos[i], 1)\n",
    "            #@show i, lista_tiempos, lista_nucleos\n",
    "        end\n",
    "    end\n",
    "    \n",
    "    suma = iter_nucleos[1]\n",
    "    promedios = 0\n",
    "\n",
    "    for k in 1:length(iter_nucleos)-1\n",
    "        suma += iter_nucleos[1+k]\n",
    "        @show k, suma\n",
    "        promedios = suma/length(iter_nucleos)\n",
    "    \n",
    "    end\n",
    "    return iter_tiempos[1], promedios\n",
    "end"
   ]
  },
  {
   "cell_type": "code",
   "execution_count": null,
   "metadata": {
    "collapsed": true
   },
   "outputs": [],
   "source": [
    "function Vida_Media(Tiempo_D, Nucleo_D)\n",
    "    \n",
    "    vida_media = Nucleo_D[1]/2\n",
    "    ind_mudo = 0\n",
    "    \n",
    "    for j in 1:length(Nucleo_D)\n",
    "        if Nucleo_D[j] > vida_media \n",
    "           ind_mudo = j\n",
    "        else\n",
    "            ind_mudo = ind_mudo\n",
    "        end\n",
    "        @show j, Nucleo_D[j], ind_mudo\n",
    "    end\n",
    "return ind_mudo, ind_mudo+1\n",
    "end"
   ]
  }
 ],
 "metadata": {
  "kernelspec": {
   "display_name": "Julia 0.5.0",
   "language": "julia",
   "name": "julia-0.5"
  },
  "language_info": {
   "file_extension": ".jl",
   "mimetype": "application/julia",
   "name": "julia",
   "version": "0.5.0"
  }
 },
 "nbformat": 4,
 "nbformat_minor": 2
}

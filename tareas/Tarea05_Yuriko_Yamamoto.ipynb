{
 "cells": [
  {
   "cell_type": "markdown",
   "metadata": {},
   "source": [
    "# Tarea 5: Optimización\n",
    "\n",
    "## Para entregarse el jueves 16 marzo 2017, antes de las 15:00"
   ]
  },
  {
   "cell_type": "code",
   "execution_count": 7,
   "metadata": {
    "collapsed": false
   },
   "outputs": [
    {
     "data": {
      "text/plain": [
       "Plots.PyPlotBackend()"
      ]
     },
     "execution_count": 7,
     "metadata": {},
     "output_type": "execute_result"
    }
   ],
   "source": [
    "using Plots, LaTeXStrings\n",
    "pyplot()"
   ]
  },
  {
   "cell_type": "markdown",
   "metadata": {},
   "source": [
    "Una tarea importante en la ciencia computacional es la **optimización**, es decir, encontrar máximos y mínimos de funciones. Representa una aplicación de suma importancia de derivadas, como aprendimos en Cálculo 1 y 3 y en el notebook 7.\n",
    "\n",
    "**[1]** Escribe una función que toma una función $f:\\mathbb{R} \\to \\mathbb{R}$ lisa (es decir, suficientemente diferenciable), y utiliza el método de Newton para encontrar:\n",
    "**(i)** los valores de $x$ en los cuales la función toma su valor máximo y mínimo;\n",
    "**(ii)** el valor ahí;\n",
    "**(iii)** si es un máximo o un mínimo.\n",
    "\n",
    "[Pista: ¿Cuáles son las condiciones matemáticas que se deben cumplir para (i) y (iii)?]"
   ]
  },
  {
   "cell_type": "code",
   "execution_count": 2,
   "metadata": {
    "collapsed": false
   },
   "outputs": [
    {
     "data": {
      "text/plain": [
       "cociente_difer (generic function with 1 method)"
      ]
     },
     "execution_count": 2,
     "metadata": {},
     "output_type": "execute_result"
    }
   ],
   "source": [
    "function cociente_difer(f::Function, a::Number, h)\n",
    "\n",
    "        dif = (f(a + h) - f(a)) / h\n",
    "    \n",
    "    return dif\n",
    "end"
   ]
  },
  {
   "cell_type": "code",
   "execution_count": 3,
   "metadata": {
    "collapsed": false
   },
   "outputs": [
    {
     "data": {
      "text/plain": [
       "Newton"
      ]
     },
     "execution_count": 3,
     "metadata": {},
     "output_type": "execute_result"
    }
   ],
   "source": [
    "doc\"\"\" La función Newton(f::Function, fp, x0::Number, n) calcula, a partir de una condición inicial x0,\n",
    "la aproximación a una raíz de la función f con derivada fp, al iterar n veces.\"\"\"\n",
    "\n",
    "function Newton(f::Function, fp, x0::Number, n::Int64)\n",
    "    xx = Number[x0]\n",
    "    yy = Number[]\n",
    "    fx = Number[]\n",
    "    for i in 1:n\n",
    "        y = f(xx[i])\n",
    "        push!(fx, y)\n",
    "        dy = fp(xx[i])\n",
    "        xn = xx[i] - y/dy\n",
    "        push!(yy, xn)\n",
    "        push!(xx, xn)\n",
    "        #@show i, y, dy, xn, xx\n",
    "    end\n",
    "    pop!(xx)\n",
    "    return xx #, fx\n",
    "end"
   ]
  },
  {
   "cell_type": "code",
   "execution_count": 4,
   "metadata": {
    "collapsed": false
   },
   "outputs": [],
   "source": [
    "# Usando la función g(x) = x^3 - (9/2)x^2 + 1\n",
    "g(x) = x^3 - (9/2)x^2 + 1\n",
    "gp(x) = 3*(x^2) - 9x\n",
    "gpp(x) = 6*x - 9;"
   ]
  },
  {
   "cell_type": "code",
   "execution_count": 5,
   "metadata": {
    "collapsed": false
   },
   "outputs": [],
   "source": [
    "# Encontramos las raíces de la derivada de la función g.\n",
    "c = Newton(gp, gpp, 1, 100);"
   ]
  },
  {
   "cell_type": "code",
   "execution_count": 6,
   "metadata": {
    "collapsed": false
   },
   "outputs": [
    {
     "data": {
      "text/plain": [
       "0.0"
      ]
     },
     "execution_count": 6,
     "metadata": {},
     "output_type": "execute_result"
    }
   ],
   "source": [
    "c[end]"
   ]
  },
  {
   "cell_type": "code",
   "execution_count": 7,
   "metadata": {
    "collapsed": false
   },
   "outputs": [
    {
     "data": {
      "text/plain": [
       "-9.0"
      ]
     },
     "execution_count": 7,
     "metadata": {},
     "output_type": "execute_result"
    }
   ],
   "source": [
    "# Se evalúa la raíz de g'(x) en la función g''(x).\n",
    "gpp(ans)"
   ]
  },
  {
   "cell_type": "code",
   "execution_count": 26,
   "metadata": {
    "collapsed": false
   },
   "outputs": [
    {
     "data": {
      "text/plain": [
       "1.0"
      ]
     },
     "execution_count": 26,
     "metadata": {},
     "output_type": "execute_result"
    }
   ],
   "source": [
    "# El valor de g en x = 0\n",
    "g(0)"
   ]
  },
  {
   "cell_type": "markdown",
   "metadata": {},
   "source": [
    "Como es positivo, en $x = 0$ se tiene un máximo."
   ]
  },
  {
   "cell_type": "code",
   "execution_count": 8,
   "metadata": {
    "collapsed": false
   },
   "outputs": [],
   "source": [
    "# Buscamos otra raíz\n",
    "p = Newton(gp, gpp, 6, 100);"
   ]
  },
  {
   "cell_type": "code",
   "execution_count": 9,
   "metadata": {
    "collapsed": false
   },
   "outputs": [
    {
     "data": {
      "text/plain": [
       "3.0"
      ]
     },
     "execution_count": 9,
     "metadata": {},
     "output_type": "execute_result"
    }
   ],
   "source": [
    "p[end] # Otra raíz "
   ]
  },
  {
   "cell_type": "code",
   "execution_count": 10,
   "metadata": {
    "collapsed": false
   },
   "outputs": [
    {
     "data": {
      "text/plain": [
       "9.0"
      ]
     },
     "execution_count": 10,
     "metadata": {},
     "output_type": "execute_result"
    }
   ],
   "source": [
    "# Evaluamos g''(3)\n",
    "gpp(ans)"
   ]
  },
  {
   "cell_type": "markdown",
   "metadata": {},
   "source": [
    "$g(3) > 0$, por lo tanto, en $x = 3$ la función tiene un mínimo."
   ]
  },
  {
   "cell_type": "code",
   "execution_count": 25,
   "metadata": {
    "collapsed": false
   },
   "outputs": [
    {
     "data": {
      "text/plain": [
       "-12.5"
      ]
     },
     "execution_count": 25,
     "metadata": {},
     "output_type": "execute_result"
    }
   ],
   "source": [
    "g(3)"
   ]
  },
  {
   "cell_type": "code",
   "execution_count": 22,
   "metadata": {
    "collapsed": false
   },
   "outputs": [
    {
     "data": {
      "text/html": [
       "<img src=\"data:image/png;base64,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\" />"
      ]
     },
     "execution_count": 22,
     "metadata": {},
     "output_type": "execute_result"
    }
   ],
   "source": [
    "rango = -5:1e-2:8\n",
    "d = [gp.(c)]\n",
    "q = [gp.(p)]\n",
    "plot(c, d, marker=(:circle), line=(:dot), xlim=(-5, 8), ylim=(-25, 25), lab=L\"aprox. f'(0) = 0\", title=L\"Gráfica\", xlabel=L\"x\")\n",
    "plot!(p, q, marker=(:circle), line=(:dot), xlim=(-5, 8), ylim=(-25, 25), lab=L\"aprox. f'(3) = 0\")\n",
    "plot!(rango, x -> g(x), lab=L\"g(x)= x^3 - (9/2)x^2 + 1\")\n",
    "plot!(rango, x -> gp(x), lab=L\"g'(x) = 3(x^2) + 9x\")\n",
    "plot!(rango, x -> gpp(x), lab=L\"g''(x) = 6x + 9\")"
   ]
  },
  {
   "cell_type": "markdown",
   "metadata": {},
   "source": [
    "Los valores donde la función $g(x)$ tiene máximos o mínimos son los puntos donde se cumple $g'(x) = 0$ y son:\n",
    "$$x = 0$$\n",
    "$$x = 3$$\n",
    "\n",
    "La función en estos puntos vale:\n",
    "$$g(0) = 0$$\n",
    "$$g(3) = -12.5$$\n",
    "\n",
    "Evaluando en la segunda derivada encontramos:\n",
    "$$g''(0) = -9$$\n",
    "$$g''(3) = 9$$\n",
    "\n",
    "Por lo tanto, $x = 0$ es un máximo local y $x = 3$ es un mínimo local."
   ]
  },
  {
   "cell_type": "markdown",
   "metadata": {},
   "source": [
    "**[2]** Otro método para optimizar es darse cuenta de que la función misma te puede dar información sobre por dónde buscar. \n",
    "\n",
    "**(i)** Considerando una función $f:\\mathbb{R} \\to \\mathbb{R}$, si empezamos en una posición inicial $x_0$, ¿en cuál dirección nos podríamos desplazar (por un paso chiquito) para ir hacia un mínimo?"
   ]
  },
  {
   "cell_type": "markdown",
   "metadata": {},
   "source": [
    "Analizando la pendiente de $f'(x_0)$ podríamos saber hacia qué lado seguir aproximando. Hacia donde se aproxime a una raíz, es decir, al eje $x$."
   ]
  },
  {
   "cell_type": "markdown",
   "metadata": {},
   "source": [
    "**(ii)** Impleméntalo, y dibuja la evolución en el tiempo del algoritmo, pintando la función como si fuera una colina, para distintas funciones.\n",
    "\n",
    "Este método se llama **descenso de gradiente**."
   ]
  },
  {
   "cell_type": "code",
   "execution_count": null,
   "metadata": {
    "collapsed": true
   },
   "outputs": [],
   "source": [
    "function decenso_grad(f::Function, fp::Function, x0::Real, α::Real)\n",
    "    \n",
    "end"
   ]
  },
  {
   "cell_type": "markdown",
   "metadata": {},
   "source": [
    "**[3]** Podemos utilizar el descenso de gradietne también para buscar mínimos de funciones $f:\\mathbb{R^n} \\to \\mathbb{R}$. Hazlo para algunas funciones $f:\\mathbb{R}^2 \\to \\mathbb{R}$ y dibuja la evolución.\n",
    "\n",
    "Una versión estocástica del descenso de gradiente se utiliza mucho hoy día en aplicaciones de aprendizaje automático (\"machine learning\")."
   ]
  },
  {
   "cell_type": "markdown",
   "metadata": {},
   "source": [
    "## Mínimos cuadrados"
   ]
  },
  {
   "cell_type": "markdown",
   "metadata": {},
   "source": [
    "La optimización es muy imporante en la estadística. Por ejemplo, podemos utilizar optimización para resolver el problema de mínimos cuadrados, como sigue."
   ]
  },
  {
   "cell_type": "markdown",
   "metadata": {},
   "source": [
    "**[4]** Genera unos datos artificiales $(x_i, y_i)$ cerca de una recta, utilizando `rand()` para generar números aleatorios."
   ]
  },
  {
   "cell_type": "code",
   "execution_count": 1,
   "metadata": {
    "collapsed": false
   },
   "outputs": [
    {
     "name": "stdout",
     "output_type": "stream",
     "text": [
      "search: \u001b[1mr\u001b[22m\u001b[1ma\u001b[22m\u001b[1mn\u001b[22m\u001b[1md\u001b[22m \u001b[1mr\u001b[22m\u001b[1ma\u001b[22m\u001b[1mn\u001b[22m\u001b[1md\u001b[22mn \u001b[1mr\u001b[22m\u001b[1ma\u001b[22m\u001b[1mn\u001b[22m\u001b[1md\u001b[22m! \u001b[1mr\u001b[22m\u001b[1ma\u001b[22m\u001b[1mn\u001b[22m\u001b[1md\u001b[22mn! \u001b[1mr\u001b[22m\u001b[1ma\u001b[22m\u001b[1mn\u001b[22m\u001b[1md\u001b[22mexp \u001b[1mr\u001b[22m\u001b[1ma\u001b[22m\u001b[1mn\u001b[22m\u001b[1md\u001b[22mperm \u001b[1mr\u001b[22m\u001b[1ma\u001b[22m\u001b[1mn\u001b[22m\u001b[1md\u001b[22mjump \u001b[1mr\u001b[22m\u001b[1ma\u001b[22m\u001b[1mn\u001b[22m\u001b[1md\u001b[22mexp! \u001b[1mr\u001b[22m\u001b[1ma\u001b[22m\u001b[1mn\u001b[22m\u001b[1md\u001b[22mcycle\n",
      "\n"
     ]
    },
    {
     "data": {
      "text/markdown": [
       "```\n",
       "rand([rng], [S], [dims...])\n",
       "```\n",
       "\n",
       "Pick a random element or array of random elements from the set of values specified by `S`; `S` can be\n",
       "\n",
       "  * an indexable collection (for example `1:n` or `['x','y','z']`), or\n",
       "  * a type: the set of values to pick from is then equivalent to `typemin(S):typemax(S)` for integers (this is not applicable to `BigInt`), and to $[0, 1)$ for floating point numbers;\n",
       "\n",
       "`S` defaults to `Float64`.\n"
      ],
      "text/plain": [
       "```\n",
       "rand([rng], [S], [dims...])\n",
       "```\n",
       "\n",
       "Pick a random element or array of random elements from the set of values specified by `S`; `S` can be\n",
       "\n",
       "  * an indexable collection (for example `1:n` or `['x','y','z']`), or\n",
       "  * a type: the set of values to pick from is then equivalent to `typemin(S):typemax(S)` for integers (this is not applicable to `BigInt`), and to $[0, 1)$ for floating point numbers;\n",
       "\n",
       "`S` defaults to `Float64`.\n"
      ]
     },
     "execution_count": 1,
     "metadata": {},
     "output_type": "execute_result"
    }
   ],
   "source": [
    "?rand"
   ]
  },
  {
   "cell_type": "code",
   "execution_count": 11,
   "metadata": {
    "collapsed": false
   },
   "outputs": [
    {
     "data": {
      "text/plain": [
       "10×2 Array{Float64,2}:\n",
       " 0.158895   0.228117 \n",
       " 0.427754   0.182598 \n",
       " 0.512244   0.751665 \n",
       " 0.632689   0.24606  \n",
       " 0.390547   0.174071 \n",
       " 0.477493   0.557703 \n",
       " 0.797808   0.989989 \n",
       " 0.684553   0.101503 \n",
       " 0.367682   0.171226 \n",
       " 0.0719163  0.0354367"
      ]
     },
     "execution_count": 11,
     "metadata": {},
     "output_type": "execute_result"
    }
   ],
   "source": [
    "x, y = rand(10, 2)"
   ]
  },
  {
   "cell_type": "code",
   "execution_count": 15,
   "metadata": {
    "collapsed": false
   },
   "outputs": [
    {
     "ename": "LoadError",
     "evalue": "BoundsError",
     "output_type": "error",
     "traceback": [
      "BoundsError",
      "",
      " in getindex(::Float64, ::Int64) at ./number.jl:21"
     ]
    }
   ],
   "source": [
    "y[2]"
   ]
  },
  {
   "cell_type": "code",
   "execution_count": 16,
   "metadata": {
    "collapsed": false
   },
   "outputs": [
    {
     "ename": "LoadError",
     "evalue": "In convertToAnyVector, could not handle the argument types: (Float64,)",
     "output_type": "error",
     "traceback": [
      "In convertToAnyVector, could not handle the argument types: (Float64,)",
      "",
      " in macro expansion at /Users/Yuriko/.julia/v0.5/Plots/src/series.jl:128 [inlined]",
      " in apply_recipe(::Dict{Symbol,Any}, ::Type{Plots.SliceIt}, ::Float64, ::Float64, ::Void) at /Users/Yuriko/.julia/v0.5/RecipesBase/src/RecipesBase.jl:238",
      " in _process_userrecipes(::Plots.Plot{Plots.PyPlotBackend}, ::Dict{Symbol,Any}, ::Tuple{Float64,Float64}) at /Users/Yuriko/.julia/v0.5/Plots/src/pipeline.jl:73",
      " in _plot!(::Plots.Plot{Plots.PyPlotBackend}, ::Dict{Symbol,Any}, ::Tuple{Float64,Float64}) at /Users/Yuriko/.julia/v0.5/Plots/src/plot.jl:171",
      " in #plot#261(::Array{Any,1}, ::Function, ::Float64, ::Vararg{Float64,N}) at /Users/Yuriko/.julia/v0.5/Plots/src/plot.jl:52",
      " in plot(::Float64, ::Float64, ::Vararg{Float64,N}) at /Users/Yuriko/.julia/v0.5/Plots/src/plot.jl:46"
     ]
    }
   ],
   "source": [
    "plot(x, y)"
   ]
  },
  {
   "cell_type": "code",
   "execution_count": null,
   "metadata": {
    "collapsed": true
   },
   "outputs": [],
   "source": []
  },
  {
   "cell_type": "markdown",
   "metadata": {},
   "source": [
    "**[5]** Queremos ajustar una recta $\\ell(x)$ a los datos. \n",
    "\n",
    "**(i)** ¿Cuántos parámetros necesitaremos ajustar. Escribe una fórmula para $\\ell$ en términos de estos parámetros."
   ]
  },
  {
   "cell_type": "markdown",
   "metadata": {},
   "source": [
    "**(ii)** En mínimos cuadrados, para cada punto $(x_i, y_i)$ calculamos la distancia cuadrada vertical desde la recta $\\ell$. La suma de todos ellos nos da una **función de costo** o **función de pérdida**, la cual queremos minimizar con respecto a las variables de la recta.\n",
    "\n",
    "Formula esto matemáticamente: ¿cuál función queremos minimizar, y qué satisface el mínimo?"
   ]
  },
  {
   "cell_type": "markdown",
   "metadata": {},
   "source": [
    "**[6]** Utiliza el método de descenso de gradiente para resolver el problema. Dibuja el resultado - ¿es razonable? [Pista: Nota que tendrás que utilizar vectores (arreglos uni-dimensionales). En Julia, puedes operar con vectores utilizando operadores aritméticos, como si fueran vectores matemáticos.]"
   ]
  },
  {
   "cell_type": "markdown",
   "metadata": {},
   "source": [
    "## Optimización con restricciones"
   ]
  },
  {
   "cell_type": "markdown",
   "metadata": {},
   "source": [
    "**[7]** Utiliza un multiplicador de Lagrange para minimizar la función\n",
    "$f(x,y) = 2x+y$, sujeta a la **restricción** $x^2 + y^2 = 1$.\n",
    "\n",
    "Dibuja gráficamente lo que está pasando."
   ]
  },
  {
   "cell_type": "code",
   "execution_count": null,
   "metadata": {
    "collapsed": true
   },
   "outputs": [],
   "source": []
  }
 ],
 "metadata": {
  "kernelspec": {
   "display_name": "Julia 0.5.0",
   "language": "julia",
   "name": "julia-0.5"
  },
  "language_info": {
   "file_extension": ".jl",
   "mimetype": "application/julia",
   "name": "julia",
   "version": "0.5.0"
  }
 },
 "nbformat": 4,
 "nbformat_minor": 2
}

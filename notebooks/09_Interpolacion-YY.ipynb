{
 "cells": [
  {
   "cell_type": "markdown",
   "metadata": {},
   "source": [
    "# Interpolación de Lagrange"
   ]
  },
  {
   "cell_type": "code",
   "execution_count": 1,
   "metadata": {
    "collapsed": false
   },
   "outputs": [
    {
     "data": {
      "text/plain": [
       "Plots.PyPlotBackend()"
      ]
     },
     "execution_count": 1,
     "metadata": {},
     "output_type": "execute_result"
    }
   ],
   "source": [
    "using Plots, LaTeXStrings\n",
    "pyplot()"
   ]
  },
  {
   "cell_type": "code",
   "execution_count": 2,
   "metadata": {
    "collapsed": false
   },
   "outputs": [
    {
     "data": {
      "text/html": [
       "<div id=\"interact-js-shim\">\n",
       "    <script charset=\"utf-8\">\n",
       "(function (IPython, $, _, MathJax) {\n",
       "    $.event.special.destroyed = {\n",
       "\tremove: function(o) {\n",
       "\t    if (o.handler) {\n",
       "\t\to.handler.apply(this, arguments)\n",
       "\t    }\n",
       "\t}\n",
       "    }\n",
       "\n",
       "    var OutputArea = IPython.version >= \"4.0.0\" ? require(\"notebook/js/outputarea\").OutputArea : IPython.OutputArea;\n",
       "\n",
       "    var redrawValue = function (container, type, val) {\n",
       "\tvar selector = $(\"<div/>\");\n",
       "\tvar oa = new OutputArea(_.extend(selector, {\n",
       "\t    selector: selector,\n",
       "\t    prompt_area: true,\n",
       "\t    events: IPython.events,\n",
       "\t    keyboard_manager: IPython.keyboard_manager\n",
       "\t})); // Hack to work with IPython 2.1.0\n",
       "\n",
       "\tswitch (type) {\n",
       "\tcase \"image/png\":\n",
       "            var _src = 'data:' + type + ';base64,' + val;\n",
       "\t    $(container).find(\"img\").attr('src', _src);\n",
       "\t    break;\n",
       "\tcase \"text/latex\":\n",
       "\t\tif (MathJax){\n",
       "\t\t\tvar math = MathJax.Hub.getAllJax(container)[0];\n",
       "\t\t\tMathJax.Hub.Queue([\"Text\", math, val.replace(/^\\${1,2}|\\${1,2}$/g, '')]);\n",
       "\t\t\tbreak;\n",
       "\t\t}\n",
       "\tdefault:\n",
       "\t    var toinsert = OutputArea.append_map[type].apply(\n",
       "\t\toa, [val, {}, selector]\n",
       "\t    );\n",
       "\t    $(container).empty().append(toinsert.contents());\n",
       "\t    selector.remove();\n",
       "\t}\n",
       "    }\n",
       "\n",
       "\n",
       "    $(document).ready(function() {\n",
       "\tfunction initComm(evt, data) {\n",
       "\t    var comm_manager = data.kernel.comm_manager;\n",
       "        //_.extend(comm_manager.targets, require(\"widgets/js/widget\"))\n",
       "\t    comm_manager.register_target(\"Signal\", function (comm) {\n",
       "            comm.on_msg(function (msg) {\n",
       "                var val = msg.content.data.value;\n",
       "                $(\".signal-\" + comm.comm_id).each(function() {\n",
       "                var type = $(this).data(\"type\");\n",
       "                if (typeof(val[type]) !== \"undefined\" && val[type] !== null) {\n",
       "                    redrawValue(this, type, val[type], type);\n",
       "                }\n",
       "                });\n",
       "                delete val;\n",
       "                delete msg.content.data.value;\n",
       "            });\n",
       "\t    });\n",
       "\n",
       "\t    // coordingate with Comm and redraw Signals\n",
       "\t    // XXX: Test using Reactive here to improve performance\n",
       "\t    $([IPython.events]).on(\n",
       "\t\t'output_appended.OutputArea', function (event, type, value, md, toinsert) {\n",
       "\t\t    if (md && md.reactive) {\n",
       "                // console.log(md.comm_id);\n",
       "                toinsert.addClass(\"signal-\" + md.comm_id);\n",
       "                toinsert.data(\"type\", type);\n",
       "                // Signal back indicating the mimetype required\n",
       "                var comm_manager = IPython.notebook.kernel.comm_manager;\n",
       "                var comm = comm_manager.comms[md.comm_id];\n",
       "                comm.then(function (c) {\n",
       "                    c.send({action: \"subscribe_mime\",\n",
       "                       mime: type});\n",
       "                    toinsert.bind(\"destroyed\", function() {\n",
       "                        c.send({action: \"unsubscribe_mime\",\n",
       "                               mime: type});\n",
       "                    });\n",
       "                })\n",
       "\t\t    }\n",
       "\t    });\n",
       "\t}\n",
       "\n",
       "\ttry {\n",
       "\t    // try to initialize right away. otherwise, wait on the status_started event.\n",
       "\t    initComm(undefined, IPython.notebook);\n",
       "\t} catch (e) {\n",
       "\t    $([IPython.events]).on('kernel_created.Kernel kernel_created.Session', initComm);\n",
       "\t}\n",
       "    });\n",
       "})(IPython, jQuery, _, MathJax);\n",
       "</script>\n",
       "    <script>\n",
       "        window.interactLoadedFlag = true\n",
       "       $(\"#interact-js-shim\").bind(\"destroyed\", function () {\n",
       "           if (window.interactLoadedFlag) {\n",
       "               console.warn(\"JavaScript required by Interact will be removed if you remove this cell or run using Interact more than once.\")\n",
       "           }\n",
       "       })\n",
       "       $([IPython.events]).on(\"kernel_starting.Kernel kernel_restarting.Kernel\", function () { window.interactLoadedFlag = false })\n",
       "   </script>\n",
       "</div>"
      ]
     },
     "metadata": {},
     "output_type": "display_data"
    }
   ],
   "source": [
    "using Interact"
   ]
  },
  {
   "cell_type": "markdown",
   "metadata": {},
   "source": [
    "En el notebook 7, vimos cómo utilizar una discretización de una función continua para calcular numéricamente una derivada.\n",
    "\n",
    "Un problema muy común en el cómputo científico es el problema opuesto: tener datos discretos, y querer encontrar una función continua que los aproxime. Una manera de hacer esto es la **interpolación**: \n",
    "\n",
    "> dados datos $(x_i, y_i)$ para $i=1,\\ldots,N$, queremos encontrar una función $f(x)$ que pasa exactamente por los puntos, es decir, tal que $f(x_i) = y_i$ para cada $i$.\n",
    "\n",
    "Provee, entre muchas otras cosas, una manera de formalizar la derivación de diferencias finitas para calcular derivadas, y para llevar a cabo integrales. Mucho más allá, provee la manera de trabajar con funciones de forma numérica.\n",
    "\n",
    "Podríamos escoger distintas clases de función $f$ que interpolar. Aquí, trabajaremos con los **polinomios**."
   ]
  },
  {
   "cell_type": "markdown",
   "metadata": {},
   "source": [
    "**[1]** El primer caso que tratar es el de dos puntos $(x_1, y_1)$ y $(x_2, y_2)$. Es claro que podemos interpolar dos puntos con una recta. Para encontrar cuál recta es, hacemos lo siguiente.\n",
    "\n",
    "**(i)** Define una función $L_1(x)$ que es lineal y tal que $L_1(x)$ tome el valor $0$ en $x = x_2$. Ahora haz que también tome el valor $1$ en $x = x_1$."
   ]
  },
  {
   "cell_type": "code",
   "execution_count": 3,
   "metadata": {
    "collapsed": false
   },
   "outputs": [
    {
     "data": {
      "text/plain": [
       "L1 (generic function with 1 method)"
      ]
     },
     "execution_count": 3,
     "metadata": {},
     "output_type": "execute_result"
    }
   ],
   "source": [
    "function L1(x::Real, x1::Real, x2::Real)\n",
    "    a = (x - x2)/(x1 - x2) \n",
    "    return a\n",
    "end"
   ]
  },
  {
   "cell_type": "code",
   "execution_count": 4,
   "metadata": {
    "collapsed": false
   },
   "outputs": [
    {
     "data": {
      "text/plain": [
       "1.0"
      ]
     },
     "execution_count": 4,
     "metadata": {},
     "output_type": "execute_result"
    }
   ],
   "source": [
    "L1(1, 1, 2)"
   ]
  },
  {
   "cell_type": "code",
   "execution_count": 5,
   "metadata": {
    "collapsed": false
   },
   "outputs": [
    {
     "data": {
      "text/plain": [
       "-0.0"
      ]
     },
     "execution_count": 5,
     "metadata": {},
     "output_type": "execute_result"
    }
   ],
   "source": [
    "L1(2, 1, 2)"
   ]
  },
  {
   "cell_type": "markdown",
   "metadata": {},
   "source": [
    "**(ii)** Por simetría, encuentra la función $L_2(x)$ tal que $L_2(x_1) = 0$ y $L_2(x_2) = 1$."
   ]
  },
  {
   "cell_type": "code",
   "execution_count": 6,
   "metadata": {
    "collapsed": false
   },
   "outputs": [
    {
     "data": {
      "text/plain": [
       "L2 (generic function with 1 method)"
      ]
     },
     "execution_count": 6,
     "metadata": {},
     "output_type": "execute_result"
    }
   ],
   "source": [
    "function L2(x::Real, x1::Real, x2::Real)\n",
    "    b = (x - x1)/(x2 - x1) \n",
    "    return b\n",
    "end"
   ]
  },
  {
   "cell_type": "code",
   "execution_count": 7,
   "metadata": {
    "collapsed": false
   },
   "outputs": [
    {
     "data": {
      "text/plain": [
       "0.0"
      ]
     },
     "execution_count": 7,
     "metadata": {},
     "output_type": "execute_result"
    }
   ],
   "source": [
    "L2(1, 1, 2)"
   ]
  },
  {
   "cell_type": "code",
   "execution_count": 8,
   "metadata": {
    "collapsed": false
   },
   "outputs": [
    {
     "data": {
      "text/plain": [
       "1.0"
      ]
     },
     "execution_count": 8,
     "metadata": {},
     "output_type": "execute_result"
    }
   ],
   "source": [
    "L2(2, 1, 2)"
   ]
  },
  {
   "cell_type": "markdown",
   "metadata": {},
   "source": [
    "**(iii)** Utiliza $L_1$ y $L_2$ para encontrar un polinomio lineal que interpola los datos."
   ]
  },
  {
   "cell_type": "code",
   "execution_count": 9,
   "metadata": {
    "collapsed": false
   },
   "outputs": [
    {
     "data": {
      "text/plain": [
       "L (generic function with 1 method)"
      ]
     },
     "execution_count": 9,
     "metadata": {},
     "output_type": "execute_result"
    }
   ],
   "source": [
    "# Tomando una combinación lineal de L1 y L2. Esta función regresa un número.\n",
    "function L(x::Real, x1::Real, y1::Real, x2::Real, y2::Real)\n",
    "    c = y1 * L1(x, x1, x2) + y2 * L2(x, x1, x2) \n",
    "    return c\n",
    "end"
   ]
  },
  {
   "cell_type": "code",
   "execution_count": 10,
   "metadata": {
    "collapsed": false
   },
   "outputs": [
    {
     "data": {
      "text/plain": [
       "1.0"
      ]
     },
     "execution_count": 10,
     "metadata": {},
     "output_type": "execute_result"
    }
   ],
   "source": [
    "L(1, 1, 1, 2, 2)"
   ]
  },
  {
   "cell_type": "markdown",
   "metadata": {},
   "source": [
    "**(iv)** Impleméntalo y dibuja el resultado."
   ]
  },
  {
   "cell_type": "code",
   "execution_count": 13,
   "metadata": {
    "collapsed": false
   },
   "outputs": [],
   "source": [
    "rango = collect(linspace(0,10,20));"
   ]
  },
  {
   "cell_type": "code",
   "execution_count": 14,
   "metadata": {
    "collapsed": false
   },
   "outputs": [
    {
     "data": {
      "text/html": [
       "<img src=\"data:image/png;base64,iVBORw0KGgoAAAANSUhEUgAAAlgAAAGQCAYAAAByNR6YAAAABHNCSVQICAgIfAhkiAAAAAlwSFlzAAAPYQAAD2EBqD+naQAAIABJREFUeJzt3Xl0FFX+NvCnqpotIHtAkIQACmENCYusoiJhtQGJOCi+mgAGJIA6BnEFxo3FjQEEdSIzKgYENKCDgoqShDUk7BBBtiB7WGQJELruff/gByMCEjrVqVvdz+cczhmapPtbMjx5cu/tiiallCAiIiIiy+h2D0BERETkb1iwiIiIiCzm8sWT5ubmYtGiRQgLC0OpUqV88RJERERESjh79ix2796Nzp07o3LlygB8VLAWLVqE/v37++KpiYiIiJT02Wef4ZFHHgHgo4IVFhZ2+YXq16/v1XM89dRTeO+99yyciogCAbODiLxRmOzYunUr+vfvf7n/AD4qWJe2BevXr4+oqCivnqN8+fJefy4RBS5mBxF5w4rs+OOxKGUPuefn59s9AhE5ELODiLxhdXb4ZAXrWvLy8pCdnV3gj8/IyEBWVpYPJ7JOeHg4goKC7B6DiACsW7fO7hGIyIGszo4iK1jZ2dlo1qzZTX3OzX68XTIzM7klQaSIevXq2T0CETmQ1dlRZAXrksIcfFfNpUNtRKSOwYMH2z0CETmQ1dlR5AWrMAffiYhupF+/fnaPQEQOZHV2KHvInYiIiMipWLCIyK8kJSXZPQIROYyUEv/6l7XZwYJ1DXv27MHdd9+N8uXLIzIy0u5xiOgmOOXdx0RkPyklZvwiUPETD2bv1ix9bhasayhbtizeeOMNfP7553aPQkQ3aerUqXaPQEQOsOeURJdvTcSlmnDX1DDvlVhLnz+gC9Zbb72F+Pj4y78/ceIEgoODoWka2rRpw3tbERER+RkhJaZtMdFongdbTkgs7GLgP3e7ULa4tStYRf4uwr+y86TEiULcSLV8caB22YL/Bxo0aBDq1q2LiRMnomzZspgxYwZ69eqF8uXLez8EERERKenX3yUGpplYekAiPlzHhDt1y4vVJcoUrNxzEnd84YGQ3j+HoQEH+7tQuWTB/mOVK1cOMTExSEpKwtNPP43p06fjiy++8H4AIiIiUo4pJCZtEnhpjUC1IGBJdwP3VPftJp4yBatySQ3b+7oKvYJV0HJ1yfDhw+F2uxEeHo7g4GBERER4PwAR2c7tdmPBggV2j0FEithyXCIu1cTqwxIjGul4rbmO0sWu7gpWZ4cyBQu4ue09q9SrVw+1a9dGfHw8Jk6cWOSvT0TWSkhIsHsEIlLABSExcb3A2CyBWrcA6W4Dbapef9XK6uy46pWGDx+OWrVqQdd1rF+//vLjd999N2rXro3IyEhERkZi0qRJlg5ip4EDB8I0TcTExAC4+IOpQ0JC0LdvX2zduhUhISF48cUXbZ6SiAoiOjra7hGIyGbrjkq0TPHglUyBZxrrWPeA6y/LFWB9dly1gtW3b18899xzaNeuHTTtfytKmqbhvffeg9vttnQAFfz000948sknYRgGACAoKAh79+61eSoiIiK6GedNidfWCoxbJ9CgArCqpwvNgot+dwy4RsFq167ddT9YykKcQFfQ/v370bFjR1SqVAnjx4+3exwiIiLy0qrDAnFLTWw/CbwcpWNUhI7ihj3lCrjJ+2CNHDkSTZo0wd/+9jfs2rXLVzMVmerVq2Pr1q1IT09H6dKl7R6HiCyQkpJi9whEVITyPBKJq0y0WWAiyKUhs7cLr0QZN12urM6OAhesTz/9FL/88gs2bNiA9u3bo0ePHpYOQkRkheTkZLtHIKIiknpAIGKeB5M3C7zZQseKngYaV/Ru1crq7ChwwapRo8bl/z106FDs3LkTx48f/8vP6datG9xuN9xuN5566invp3SIxYsXX/OM2tChQ6/6AbRZWVlwu93Izc294vHRo0dftV2Zk5MDt9uN7OzsKx6fPHkyEhMTr3gsLy8Pbrcb6enpVzyenJyM2NirfwzAQw89dFVr53XwOpx8HbNnz/aL67iE18Hr4HVcfR2n8iUSlpno8I2JvEN7sP4BF0ZGGHDpmtfXcSk7bnQdTzzxxOVu43a70aFDB3Tq1Omqj9XkdQ5W1apVCykpKYiIiIBpmsjNzUXVqlUBAPPmzcOzzz573W3CrKwsNGvWDJmZmYiKirruY07nj9dERESksu9/ExiUZuLIOeDNFjqGNtBh6PadtQKu3QeuOuQeHx+PhQsX4tChQ+jcuTPKli2LdevWoUePHjh//jx0XUdwcDBv5EdERERF5sR5iWdXmUj6ReLe6hqWdDdsuX9mQV1VsD744INrfmBGRobPh1HFkiVL8Pzzz+P06dPQNA3du3fHuHHjrrhtBRERERWNr/cIDE43ceoC8GF7AwPracp/TfbtD+JxqIoVK2L27NnYvHkzMjMzsXz5cnzyySd2j0VEBXCtMxZE5Ey55yQeWeKBe7GJppU0bI5xYVC47pNyZXV2KF+wDh06hISEBNSuGYpG9etj4sSJ8Hg8ljz3W2+9hfj4+Mu/P3HiBIKDgxEWFoawsDAAQIkSJRAREYE9e/ZY8ppE5Fu8kzuR80kpMWenQIM5Hnz7m8Qndxv4prOBkDK+W7WyOjuULlinT5/GXe3aInlGEu6tqCFcO4nnR43CgLg4S55/0KBBSElJwcmTJwEAM2bMQK9evVC+fPnLH3Pw4EHMmzePt6Ugcoh+/frZPQIRFcLBPImYH0z0/dFE+1s1bIlx4dE7fLNq9UdWZ4fSBWvmzJn4dcdOzOvTDGM61Md70Y3x2t3h+OTTT7F9+/ZCP3+5cuUQExNz+a2j06dPv+KHPZ48eRL3338/nnvuOb5LkIiIyIeklPhkm0CDuR6kHZSY09HAvE4u3Bqk9lmr61G6YK1btw7hVcrh9oplLj/W7faLt4r44w+iLozhw4dj+vTp+PbbbxEcHIyIiAgAwKlTp9ClSxf07t07IO7hRUREZJe9pyW6LzLx2FIT3UI0bHnQhZjaSleUG1J6+jp16mDnsdM4cub85cdW7Tt++c+sUK9ePdSuXRvx8fEYNmwYgItbk126dEHXrl3xwgsvWPI6RFQ0/nxzQSJSl5QSH24VaDjXg/VHJRZEG/jsHhcqlyz6VSurs0PpgvX444+jzC1l0ferTPxnfQ4mrd6BZ3/cgo733ovIyEjLXmfgwIHweDyIiYkBAEyaNAkZGRn48ssvERkZicjISLz55puWvR4R+c6ECRPsHoGICmDnSYn7FpqITzfRt/bFdwjeX9O+WmJ1dlx1HyyVVK5cGT+npmLE8OF4ackSlCxRAg8/0h/vvPOOpa/z008/YejQoTAMAwDw4osv4sUXX7T0NYioaMyaNcvuEYjoL5hCYsoWgRcyBIJLAou7GuhUw/71HquzQ+mCBQANGzbEDz/+iPPnz8MwDLhc1o28f/9+dOzYEZUqVbrq5x4RkTMFBQXZPQIRXUf2CYkBqSaWH5IY2kDHmy103FJcjUPsVmeH8gXrkhIlSlj+nNWrV8fWrVstf14iIiL6H4+QeHuDwOgsgZDSwNIeBu6qZv+qlS85pmARERGR82w8JhG71MTaoxLPNNYxtpmOIJcaq1a+5N/1kYgCTmJiot0jEBGAfFNiTKaJZl95cNYjsdxtYOKdhrLlyurs4AoWEfmV0NBQu0cgCnhrjgjEpZrYchx4vqmOlyJ1lDDULFaXWJ0dLFhE5Fcu3c+OiIreOY/EmCyBiRsEmlQEMnq5EFlZ7WJ1idXZwYJFREREhbbsoMCAVBO7TgGvNtORGKGjmO6McuULPIN1DStWrLh8g9GGDRsiLi4OZ8+etXssIiIi5Zy5IPHUChPtvzZRvoSGtQ+48EKkEdDlCnBIwTp+/DhSUlLw/fff48KFCz5/vaZNm2LNmjVYu3YtNm3ahBMnTmDy5Mk+f10iKrzs7Gy7RyAKGEv2CTSe58EHWwXeulPHsvsNNKjgzGJldXYoX7CSkpJQ/bbq6N27N6KjoxFWOwyZmZmWPPdbb72F+Pj4y78/ceIEgoODL9/UFADOnz+Ps2fPomrVqpa8JhH51siRI+0egcjv/Z4vEZ9mouNCE6FlNGzs48IzTQwYDl61sjo7lC5YGzduxKBBg1C+ZRW0fO8+RL3WAWdKnMP9Pe+3ZCVr0KBBSElJwcmTJwEAM2bMQK9evVC+fHns3r0bTZs2RXBwMEqXLo3HHnus0K9HRL43ZcoUu0cg8mvf7hVoNNeDz3cIvN9Wx5LuBm4v59xidYnV2aF0wZo5cyZKlCuF22OboGTlIJQJK4c6sY1xYN8B/Pzzz4V+/nLlyiEmJgZJSUkAgOnTpyMhIQEAEBYWhnXr1uHgwYPIz8/HuHHjCv16ROR7vE0DkW8cOyfx2M8edPvORIPyGjb1cWFIAwO65vxyBQTYbRrOnDkDV0kXtD/cO8NVptjlP7PC8OHD4Xa7ER4ejuDgYERERFzx56VLl8bDDz+MmTNnWvJ6RERETvPVLoEhy0ycM4GP7zLweF0Nmp8UK19RegWrW7duOH3wJA6l7YWUEsIjkPPVNpQsVRIdOnSw5DXq1auH2rVrIz4+/vI9MHbs2HF5CzI/Px9fffUVWrVqZcnrEREROcXhsxIP/ejBAz+YaBmsYUuMC7H1dJarAlC6YHXp0gUPP/IItn24DmtHLsWap5bgUOpeTJk8BRUqVLDsdQYOHAiPx4OYmBgAwJIlSxAVFYWmTZuiWbNmCA0NxahRoyx7PSLynfHjx9s9ApHjSSnx+a8CDeZ48OM+ic/vMTA/2kD10v5brKzODqW3CDVNw2effor+jzyChQsXonTp0ujfvz8aNWpk6ev89NNPGDp06OV3Dg4aNAiDBg2y9DWIqGjk5eXZPQKRo+07IzEk3cTXORIP1dbwzzYGqpTy32J1idXZoXTBAi6WrK5du6Jr166WP/f+/fvRsWNHVKpUid/1EvmJsWPH2j0CkSNJKTFjm8QzK02UMoAv7zPQu5bSG12Wsjo7lC9YvlS9enVs3brV7jGIiIhsteeUxKA0E9/vk3jsDg3vtDJQsaT/r1r5UkAXLCIiokAmpMT0rQLPrRYoXxxY2MVA15DAWbXyJf5XJCK/kpuba/cIRI7w6+8S93xjYugygUfq6Ngc4wrocmV1dhT5CpY/bcn507UQ+Yu4uDgsWLDA7jGIlGUKifc2Cby8RqBaELCku4F7qgdusbrE6uwo8oLVv3//on5JIgogY8aMsXsEImVtOS4Rl2pi9WGJEY10vNZcR+liPGsFWJ8dRVawwsPDLfshzaoJDw+3ewQi+j9RUVF2j0CknAtCYsJ6gX9kCdS6BUh3G2hTlatWf2R1dhRZwQoKCmLwERERFbF1RyVil3qw8RiQ2ETH6CgdJV1ctfI1vouQiIjID503JV7NEhi/XqBBBWBVTxeaBbNYFRVl1weTkpLsHoGIHIjZQQSsOiwQ9aUHEzYIvBylI6MXy9WNWJ0dyhasrKwsu0cgIgdidlAgy/NIPLvSRJsFJoJcGjJ7u/BKlIHiBsvVjVidHcpuEU6dOtXuEYjIgZgdFKhSDwgMSDWx9wzwZgsdzzTW4dJZrArK6uxQtmARERHRjZ3KlxiVIfD+FoG2VTV809lAvfIsVnZjwSIiInKoxb8JDEozkXsO+GdrHUMb6tA1lisVsGARERE5zInzEn9faeLjbRL3VtfwU3cDtcuyWKlE2UPubrfb7hGIyIGYHeTvFuwRaDDXgzm7JD5sb+CHbixXVrA6O5RdwUpISLB7BCJyIGYH+avccxLDl5tI3iHRLUTD9HYGQsqwWFnF6uxQtmBFR0fbPQIRORCzg/yNlBJzdkokLDfhkcAndxvof7sGjWetLGV1dihbsIiIiALdwTyJJ5eZ+Gq3xANhGqa2NXBrEIuVE7BgERERKUZKiU+3Szy10kQxHZjT0UBMbWWPTdM1KPu3lZKSYvcIRORAzA5yur2nJbovMvHYUhPdQjRsjnGxXBUBq7ND2b+x5ORku0cgIgdidpBTCSnxwVYTDed6sP6oxNfRBj67x4XKJbklWBSszg5ltwhnz55t9whE5EDMDnKinSclBqaa+OmAxMB6GibeaaB8CRaromR1dihbsIiIiPydKSSmbBF4IUMguCSwuKuBTjWU3Vyim8CCRUREZIPsExIDUk0sPySR0EDHmy11lCnGVSt/wYJFRERUhDxC4u0NAqOzBEJLA6k9DLSvxlUrf6Ps32hsbKzdIxCRAzE7SGUbjkq0mm/ihTUCwxvqWN/HxXKlCKuzQ9kVLN6NmYi8wewgFeWbEm+sE3h9rUC98sAKt4GWVVisVBIwd3Lv16+f3SMQkQMxO0g1a44IxKWa2HoceL6pjhcjdZQweNZKNVZnh7IFi4iIyMnOeiTGZglM3CAQURHI6O1C00osVoGCBYuIiMhiyw4KDEg1sesU8FpzHc820VFMZ7kKJMpuAKenp9s9AhE5ELOD7HTmgsSI5Sbaf22iQgkN6x5w4fmmBsuVA1idHcoWrAkTJtg9AhE5ELOD7LJkn0DjeR58lC3wdisd6fcbqF+BxcoprM4OZbcIZ82aZfcIRORAzA4qar/nS4xcJfBhtkCHahoWdzVwezkWK6exOjuULVhBQUF2j0BEDsTsoKK0MEcgPt3EiXxgWlsdT9TXoWssV05kdXYoW7CIiIhUdeycxNMrTXyyXaJzDQ0ftjcQWobFiv6HBYuIiOgmfLlL4MllJs6bwIwOBh67Q4PGVSv6E2UPuScmJto9AhE5ELODfOXwWYm+P3jQ5wcTrapo2PKgC4/X1Vmu/ITV2aHsClZoaKjdIxCRAzE7yGpSSiTvkBi+3ISmAbPuNdC3Nlet/I3V2aFswRo2bJjdIxCRAzE7yEr7zkgMSTfxdY7E3+po+GdrA8GlWKz8kdXZoWzBIiIisouUEjO2STyz0kQpA/iqk4FeYcqeqiEFsWARERH9wZ5TEoPSTHy/T+LxuhreaWWgQgmuWtHNUbaOZ2dn2z0CETkQs4O8JaTE1M0mGs3zIPuExHddDMzo4GK5ChBWZ4eyBWvkyJF2j0BEDsTsIG9s/13i7m9MJCwXePR2HZtiXOgcouyXSPIBq7ND2S3CKVOm2D0CETkQs4Nuhikk3tsk8NIagepBwE/dDdxdncUqEFmdHcoWLL7Vmoi8weyggtp8TCIu1UTGEYmnGul4tbmO0sW4HRioAuY2DURERL5wQUhMWC/wjyyB2mWBZW4Draty1YqsxYJFREQBY22uRFyqBxuPAc9F6Hg5UkdJF1etyHrKVvbx48fbPQIRORCzg67lvCnxUoaJFikeCAms7uXC6y0Mliu6zOrsUHYFKy8vz+4RiMiBmB30Z6sOC8QtNbH9JDA6SsdzETqKGyxWdCWrs0PZgjV27Fi7RyAiB2J20CV5HolX1gi8u0mgWWUNWb0NNKrIYkXXZnV2KFuwiIiIvJV6QGBAqom9Z4BxLXQ83ViHS2e5oqLDgkVERH7jVL7EqAyB97cItK2q4ZvOBuqVZ7GioqfsIffc3Fy7RyAiB2J2BK7vfxNoNM+D/2wTmNxGR+r9LFdUcFZnh7IFKy4uzu4RiMiBmB2B58R5iQFLPYj+1sTtZTVs7ONCQkMDusZyRQVndXYou0U4ZswYu0cgIgdidgSWBXsEBqebOHMB+Ki9gQH1NGgsVuQFq7ND2YIVFRVl9whE5EDMjsCQe05i+HITyTskuodomN7OQI0yLFbkPauzQ9mCRURE9GdSSszZKZGw3IQpgc/uMfBwHa5akXpYsIiIyBEO5EkMXWbiq90SMbU0TGljoGoQixWpSdlD7klJSXaPQEQOxOzwP1JKfLJNoOFcD5YdkpjT0cCc+1wsV2Qpq7ND2YKVlZVl9whE5EDMDv+Sc1qi23cmHltqonuIhi0xLsTUVvZLFzmY1dmh7Bbh1KlT7R6BiByI2eEfhJT4KFsgcZVA2eLAN50NdA9lsSLfsTo7lC1YREQUmHaelBiYauKnAxKDwjVMvNNAueLcDiRnYcEiIiIlmEJiyhaBFzIEqpQEvu9m4L7buGpFzsSCRUREtss+ITEg1cTyQxLDGup4o4WOMsW4akXOpey3Bm632+4RiMiBmB3O4hES49aZaPqlB0fOSqT2MPDPNgbLFRU5q7ND2RWshIQEu0cgIgdidjjHhqMScakm1h6VeLaxjjHNdJRysViRPazODmULVnR0tN0jEJEDMTvUl29KvLFO4PW1AvXKAyt7GmgRrOyGCgUIq7ND2YJFRET+Z80RgdilJrJPAC9E6nihqY4SBletyP+wYBERkc+d9UiMyRR4a6NA00rAmt4uRFRisSL/peyabEpKit0jEJEDMTvUs+ygQNMvPXhvk8DrzXWs6slyReqxOjuULVjJycl2j0BEDsTsUMfpCxIjlpto/7WJSiU0rHvAhVFNDbh0litSj9XZoewW4ezZs+0egYgciNmhhh/3CQxKM3EwD3inlY5hDXUYLFakMKuzQ9mCRUREzvN7vkTiKhMfZUvcXU3D990M1CnLYkWBhwWLiIgs8d8cgfh0EyfzgentdAwK16FrLFcUmFiwiIioUI6dk3hqhYlPf5XoXEPDh+0NhJZhsaLApuwh99jYWLtHICIHYnYUrXm7BBrM9eDrHIl/dzDwbReWK3Imq7ND2RUs3o2ZiLzB7Cgah/IkEpabmLtLomdNDdPaGagWxGJFzhUwd3Lv16+f3SMQkQMxO3xLSonkHRLDl5vQNGDWvQb61tag8awVOZzV2aFswSIiIrXsOyMxON3ENzkS/epomNTaQHApFiuia2HBIiKivySlxMe/SDyz0kTpYkBKJwM9w5Q9wkukBGX/haSnp9s9AhE5ELPDWrtPSUR/a2Jgmok+tTRsjnGxXJFfsjo7lP1XMmHCBLtHICIHYnZYQ0iJKZtNNJrrwS8nJL7rYuDjDi5UKMEtQfJPVmeHsluEs2bNsnsEInIgZkfhbf9dYkCqibSDEkPq6xjXUkfZ4ixW5N+szg5lC1ZQUJDdIxCRAzE7vGcKiXc3Cby8RuC20sDPPQx0qKbsRgeRpazODmULFhERFZ3NxyTiUk1kHJF4urGOV5vrCHJx1YrIW1d9azJ8+HDUqlULuq5jw4YNlx8/fPgwunTpgrp166Jx48ZIS0sr0kGJiMh6F4TEa1kmIr/y4NQFiWVuA2+3MliuiArpqoLVt29fpKeno2bNmlc8PmrUKLRp0wbbtm3DjBkz8PDDD8Pj8fhssMTERJ89NxH5L2ZHwa3NlWjxlQdjsgQSm+jI6u1C66rcEqTAZHV2XLVF2K5du2t+4Jw5c7Bjxw4AQPPmzVG9enUsXboUHTt2tHSgS0JDQ33yvETk35gdN3belHg1S2DceoGGFYDVvVyIqswVKwpsVmdHgc5gHT16FBcuXECVKlUuPxYWFoacnBxLh/mjYcOG+ey5ich/MTv+2spDAnGpJn49CYyO0vFchI7iBssVkdXZUahD7vzZU0REzpDnkXh5jcC7GwWaB2vI6m2gUUVmOJGvFGizvVKlSnC5XDh06NDlx3bv3n3D5bRu3brB7XZf8at169ZISUm54uMWL14Mt9t91ecPHToUSUlJVzyWlZUFt9uN3NzcKx4fPXo0xo8ff8VjOTk5cLvdyM7OvuLxyZMnX7XXmpeXB7fbfdWdXJOTkxEbG3vVbA899BCvg9fB6+B1OOI67okfjTr/+R3vbxGYcKeO5W4D+9d877jr8Je/D16Hs6/jiSeeuKLXdOjQAZ06dbrqYzUppbzqUQC1atVCSkoKIiIiAACxsbEICwvD6NGjkZGRgd69e2PPnj0wDOOqz83KykKzZs2QmZmJqKioaz39DWVnZyM8PNyrzyWiwMXs+J9T+RLPrRaYtlWgXVUNSXcZqFueq1ZE11KY7LhW77lqBSs+Ph4hISHYt28fOnfujLp16wIAxo8fj+XLl6Nu3bqIi4vDzJkzr1murDJy5EifPTcR+S9mx0WL9go0mufBJ9sFJrfRsfR+liuiv2J1dlx1BuuDDz645gdWqVIFixYtsvTF/8qUKVOK7LWIyH8EenYcPy/x95UmZmyT6Fhdw8/dDdQqy2JFdCNWZ4eyd3LnW62JyBuBnB3zdwsMWWbizAXgX+0NxNXT+GYkogKy5TYNRESkriNnJYavMDFrh0SPUA3T2hqoUYbFishOLFhERA4lpcQXOyUSlpsQEvjsHgMP1+GqFZEKlP2ZCH9+iyYRUUEESnYcyJN44HsTf1ti4u5qGrbEuPDI7TrLFZGXrM4OZVew8vLy7B6BiBzI37NDSolPtks8tcJEcQOYe5+BPrWU/V6ZyDGszg5lC9bYsWPtHoGIHMifsyPntER8monvfpN49HYN77Y2UKkkV6yIrGB1dihbsIiI6CIhJT7cKpC4WqBcceCbzga6h3LVikhlLFhERArbcVJiYKqJnw9IDArXMPFOA+WKc9WKSHXKfgv0559NRERUEP6SHaaQeG+jicZzPdh9SuL7bgY+bO9iuSLyEauzQ9mCFRcXZ/cIRORA/pAdW49LtP/axDMrBQaG69gY48J9tykb10R+wersUHaLcMyYMXaPQEQO5OTs8AiJiRsExmQKhN0CpN5voN2tLFZERcHq7FC2YF36adRERDfDqdmx/qhEXKoH644CzzbWMaaZjlIubgcSFRWrs0PZgkVEFAjyTYnX1wm8sVagXnlgZU8DLYK5akXkdCxYREQ2yTgiELfURPYJ4IVIHS801VHC4KoVkT9Q9tukpKQku0cgIgdyQnac9UiMXGWi1fyLd2Nf09uFsc0MlisiG1mdHcoWrKysLLtHICIHUj070g8KRMzzYNImgdea61jV04WISixWRHazOjuU3SKcOnWq3SMQkQOpmh2nL0i8kCEwZbNAqyoa5kcbqF+BxYpIFVZnh7IFi4jIX/y4T2BgqolDZ4F3WukY1lCHobNcEfkzFiwiIh/5PV/i2ZUm/vWLxN3VNPzQ3UCdsixWRIGABYuIyAf+myMQn27iZD4wra2OJ+rr0DWWK6JAoewhd7fbbfd7IXdtAAAgAElEQVQIRORAdmfH0XMSj/7kQY9FJhpV0LApxoXBDQyWKyLFWZ0dyq5gJSQk2D0CETmQndkxb5fAk8tM5JvAvzsY+H93aNBYrIgcwersULZgRUdH2z0CETmQHdlxKE8iYbmJubsketbUMK2dgWpBLFZETmJ1dihbsIiIVCelxMxfJUasMKFrwKx7DfStzVUrImLBIiLyym+nJQanm/jvXol+dTRMam0guBSLFRFdpOwh95SUFLtHICIH8nV2SCnxr2yBhnM9yDoqkdLJwOf3uliuiBzO6uxQtmAlJyfbPQIROZAvs2PXSYnob00MSjPRp5aGzTEu9AxTNkaJ6CZYnR3KbhHOnj3b7hGIyIF8kR1CSry/RWDUaoFKJYHvuhjoHMJiReRPrM4OZQsWEZEKtp2QGJBqIv2QxJMNdIxroeOW4twOJKK/xoJFRHQNHiHx7kaBVzIFbisN/NzDQIdqXLUiooJhwSIi+pNNxyTiUk2sOSLxdGMdrzbXEeTiqhURFZyy347FxsbaPQIROVBhsuOCkHg1y0TUVx6cviCx3G3g7VYGyxVRALC6dyi7gsU7uRORN7zNjqxcibilHmw6DoyK0PFylI4SBosVUaAImDu59+vXz+4RiMiBbjY7znkk/rFWYMJ6gUYVgIxeLkRWZrEiCjRW9w5lCxYRka+tOCQQl2pix0lgdJSOUU11FNNZroio8FiwiCjg5HkkXsoQeG+TQPNgDWt7G2hYkcWKiKyj7CH39PR0u0cgIge6UXb8vF+gyTwPpm0VmHCnjuVulisisr53KFuwJkyYYPcIRORA18uOU/kST6abuOe/JqoHadjQx4VnmxhwcUuQiGB971B2i3DWrFl2j0BEDnSt7Fi0V+CJdBNHzwFT2ugY0kCHrrFYEdH/WN07lC1YQUFBdo9ARA70x+w4fl7i7ytNzNgmcd9tGj7qYSDsFhYrIrqa1b1D2YJFRFQY83cLDE43kecB/tXeQFw9DRpXrYioiLBgEZFfOXJWYvgKE7N2SPQI1TC9nYHbSrNYEVHRUvaQe2Jiot0jEJGDSCkxe4dAzX//jsW/Scy8x8CCaJYrIioYq3uHsitYoaGhdo9ARA5xIO/iOwRT9kg01Q7iu5h6qBrEYkVEBWd171C2YA0bNszuEYhIcVJK/Ge7xNMrTJQwgLn3GehTK9zusYjIgazuHcoWLCKiv5JzWuKJNBOLfpN49HYN77Y2UKkkV62ISA0sWETkKEJKfLhVIHG1QPniwH87G+gWquxxUiIKUMqmUnZ2tt0jEJFidpyU6PhfE0OWCTxcR8emGNdV5YrZQUTesDo7lC1YI0eOtHsEIlKEKSTe22ii8VwPdp+S+KGbgQ/aGyhX/OotQWYHEXnD6uxQdotwypQpdo9ARArYelxiQKqJlYclhjXU8XoLHWWKXf+sFbODiLxhdXYoW7B4mwaiwOYREhM3CIzJFAi7BUi930C7W2+86M7sICJvBMxtGogocK0/KhGX6sG6o8CzjXWMaaajlIvvECQi52DBIiJl5JsSr68TeGOtQHh5YGVPAy2ClT0qSkR0Xcom1/jx4+0egYiKUMYRgWZfefDGWoEXI3Vk9nZ5Va6YHUTkDauzQ9kVrLy8PLtHIKIicNYjMTpT4O2NAk0rAWt6uxBRyfvtQGYHEXnD6uxQtmCNHTvW7hGIyMfSDwrELTWRcwZ4vbmOZ5vocOmFO2vF7CAib1idHcoWLCLyX6cvSLyQITBls0CrKhoWdDYQXp6H2InIf7BgEVGR+nGfwMBUE4fOAu+21pHQQIdRyFUrIiLVKHvIPTc31+4RiMhCv+dLDEr14L6FJmrdomFjjAsjGhmWlytmBxF5w+rsULZgxcXF2T0CEVnkvzkCDed6MHunxPR2On7obqBOWd+sWjE7iMgbVmeHsluEY8aMsXsEIiqko+cknlph4rNfJbqGaPignYGQMr7dDmR2EJE3rM4OZQtWVFSU3SMQUSHM2yXw5DIT+Sbwnw4GHr1Dg6b5/qwVs4OIvGF1dihbsIjImQ7lSQxdbmLeLoneYRqmtjVQLYiH2IkosLBgEZElpJSY+avEiBUmDA2Yfa+BB2sXzaoVEZFqlD3knpSUZPcIRFRAv52WuH+RiUd/NtGlhoYtD7rQt45uS7lidhCRN6zODmULVlZWlt0jENENSCnxr+yL7xDMOioxP9rAzHtdqFzSvlUrZgcRecPq7FB2i3Dq1Kl2j0BEf2HXSYlBaSZ+3C8RV1fD260MlC9h/3Ygs4OIvGF1dihbsIhITUJKTN0sMCpDoHJJYFFXA9E1lF0MJyKyBQsWERXYthMSA1JNpB+SGNpAx5stdNxS3P5VKyIi1bBgEdENeYTEuxsFXskUqFEaWNrDwF3VuGpFRHQ9yiak2+22ewQiArDpmESbBSZGZQgMbaBjfR+X0uWK2UFE3rA6O5RdwUpISLB7BKKAlm9KjFsv8NpagdvLAsvdBu6som6xuoTZQUTesDo7lC1Y0dHRdo9AFLAyj0jEpXqw+TjwfFMdL0XqKGE446wVs4OIvGF1dihbsIio6J3zSPxjrcCE9QKNKwIZvVyIrOyMYkVEpBIWLCICAKw4JBCXamLnSWBsMx0jI3QU01muiIi8oeyBipSUFLtHIAoIeR6JZ1aYaLvARNliGrJ6u/BipOHYcsXsICJvWJ0dyhas5ORku0cg8ns/7RdoPNeDaVsF3rpTx3K3gYYVnVmsLmF2EJE3rM4OZbcIZ8+ebfcIRH7rZL7Ec6sFpm8VuOtWDd91NXBHOWcXq0uYHUTkDauzQ9mCRUS+8d1egSfSTBw7D0xtq2NwfR265h/liohIFSxYRAHi+HmJZ1aa+Pc2iU63afiwvYGwW1isiIh8gQWLKADM3y0wON3EWRNIustAbF0NGletiIh8RtlD7rGxsXaPQOR4R85K/O1HD3p9b6JFsIbNMS7E1dP9ulwxO4jIG1Znh7IrWLwbM5H3pJSYvVNi2HITUgKf32Pgb3UCY9WK2UFE3giYO7n369fP7hGIHGn/GYknl5mYv0eib20Nk9sYqFLK/4vVJcwOIvKG1dmhbMEiopsjpcR/tks8vcJECQOYd5+BB2opewqAiMivsWAR+YGc0xJPpJlY9JvE/7tDw7utDFQsGTirVkREqlH229v09HS7RyBSnpAS07aYaDjXg83HJf7b2cB/7nYFdLlidhCRN6zODmUL1oQJE+wegUhpv/4uce9/TTy5TOCROjo2x7jQLVTZf9JFhtlBRN6wOjuU3SKcNWuW3SMQKckUEv/cLPBihsCtQcCP3QzcexuL1SXMDiLyhtXZoWzBCgoKsnsEIuVsPS4Rl2pi1WGJ4Y10vN5cR+ligbsdeC3MDiLyhtXZoWzBIqL/uSAk3togMCZTIOwWIO1+A21v5aoVEZGqWLCIFLfuqETcUg/WHwMSm+gYHaWjlIurVkREKlP2W+DExES7RyCy1XlT4pU1Jlp85YFHAqt6GhjX0mC5ugFmBxF5w+rsUHYFKzQ01O4RiGyz+rBAXKqJX04AL0XqeL6pjuIGi1VBMDuIyBtWZ4eyBWvYsGF2j0BU5M56JEZnCry9USCykobM3gaaVGKxuhnMDiLyhtXZoWzBIgo0aQcEBqSayDkDvNFcx9+b6HDpLFdERE7EgkVks9MXJJ5fLTBli0CbqhoWdDYQXp7FiojIyZQ95J6dnW33CEQ+98M+gcZzPfh4m8Ck1jpSe7BcFRazg4i8YXV2KFuwRo4cafcIRD7ze77EoFQPOi00UesWDRv7uDC8kQGDW4KFxuwgIm9YnR3KbhFOmTLF7hGIfOKbPQLx6SZOXQA+aGdgULgGTWOxsgqzg4i8YXV2KFuw+FZr8jdHz0mMWGFi5q8SXUM0fNDOQEgZFiurMTuIyBsBc5sGIn8yd6fA0OUmLgjgPx0MPHoHV62IiPwZCxaRDx3Mk0hYbmLeLoneYRreb2vg1iAWKyIif6fsIffx48fbPQKR16SU+HS7QIO5HqQekJh9r4F597FcFQVmBxF5w+rsUHYFKy8vz+4RiLzy22mJ+HQTC/dKPFxHw6Q2BiqXZLEqKswOIvKG1dmhbMEaO3as3SMQ3RQpJT7KlkhcZaJ0MWB+tAF3TWUXif0Ws4OIvGF1dihbsIicZOdJiUFpJpbsl4irq+HtVgbKl+CqFRFRoGLBIioEISWmbhYYlSFQuSSwqKuB6BpctSIiCnTKfiXIzc21ewSiv/TLCYm7vjYxfIXA43V1bOrjYrlSALODiLxhdXbc9FeDsLAwhIeHIzIyEpGRkZgzZ46lA10SFxfnk+clKiyPkJiw3kTElx4cOivxcw8DU9sauKU4twRVwOwgIm9YnR03vUWoaRq++OILNGnSxNJB/mzMmDE+fX6iG8nJycH8+fMBAD179kRoaCg2HpOIW2oi66jE0410/KO5jiAXi5VKmB1E5A2rs8OrM1hSSkuHuJaoqCifvwbR9Xz00UcYMmTI5TXep55+Gt1HTcV3teJwe1lg2f0GWlXldqCKmB1E5A2rs8OrgvXoo48CAFq2bIlx48ahcuXKlg5FZKecnBwMGTIEwXfVQO2HGwIAdn6+GV+/ORTD5nfGxK41UcLgqhUREV3fTX8LnpaWhg0bNiArKwuVK1fGY4895ou5iGwzf/58QAfqPNIQrlIuuEq5UPvhhtAN4I5dX7NcERHRDd10wapRowYAwOVyYcSIEUhLS7vux3br1g1ut/uKX61bt0ZKSsoVH7d48WK43e4rHktKSsLQoUORlJR0xeNZWVlwu91XnfYfPXr0Vbe5z8nJgdvtRnZ29hWPT548GYmJiVc8lpeXB7fbjfT09CseT05ORmxs7FXX9tBDDxXoOgDwOhx4HVJe/PVHl2qVk67jEqf/fdzMdVx6LqdfxyW8Dl4Hr6NoruOP8/3VdTzxxBNX9JoOHTqgU6dOV32sJm/iQFVeXh7y8/NRvnx5AMA777yDBQsW4Oeff77i47KystCsWTNkZmZ6vac5dOhQTJ061avPJfLWmQsSw7/ZjY9j7sCtHa7cIjyS+ht27dqFkJAQm6ekv8LsICJvFCY7rtV7buoM1qFDh9CnTx+YpgkpJerUqYNPPvnEq2FuhAFJRe2n/QIDU03sz6uBB1+aii9fH4oj6b9d/EMBTJs2jeXKAZgdROQNq7PjpgpWrVq1kJWVZekARHY7mS/x3GqB6VsF7rpVw3ddDdxRLh57B3a7vPzdq1cvlisiIiow/qgcCmjf7hWITzNx7Dwwta2OwfV16NrF01YhISEYNmyYzRMSEZETsWBRQDp2TuKZlSb+s12i020aPmxvIOwWvjuQiIisoeydEq91ep/ICl/tEmg414OUPRIf32VgUVeWK3/C7CAib1idHcquYCUkJNg9AvmZw2clhi038cVOiftDNUxvZ6B6aRYrf8PsICJvWJ0dyhas6Ohou0cgPyGlxOydF8uVlMDn9xj4Wx0NmsZy5Y+YHUTkDauzQ9mCRWSF/WckhiwzsWCPRN/aGia3MVClFIsVERH5FgsW+SUpJf69TeLplSZKGsCX9xnoXUvZI4dERORnlP2K8+fb7xMV1J5TEl2+NRGXaqJXTQ1bYlwsVwGE2UFE3rA6O5T9qpOcnGz3COQwQkpM22Ki0TwPtpyQWNjFwL/vdqFiSW4JBhJmBxF5w+rsUHaLcPbs2XaPQA7y6+8SA9NMLD0gER+uY8KdOsoWZ7EKRMwOIvKG1dmhbMEiKghTSEzaJPDSGoFqQcCS7gbuqa7swiwREQUIFixyrC3HJeJSTaw+LDGikY7XmusoXYyrVkREZD8WLHKcC0Ji4nqBsVkCtW4B0t0G2lTlqhUREalD2a9KsbGxdo9AClp3VKJligevZAo801jHugdcLFd0BWYHEXnD6uxQdgWLd2OmPzpvSry2VmDcOoH6FYCVPQ00D2axoqsxO4jIGwFzJ/d+/frZPQIpYtVhgbilJrafBF6K1PF8Ux3FDZ61omtjdhCRN6zODmULFlGeR2J0psA7GwWiKmnI7G2gcUUWKyIiUh8LFikp9YDAgFQTe88Ab7bQ8UxjHS6d5YqIiJxB2UMs6enpdo9ANjiVL5GwzESHb0xUKaVh/QMujIwwWK6owJgdROQNq7ND2YI1YcIEu0egIvb9bwKN53kwY5vApNY6UnsYqFeexYpuDrODiLxhdXYou0U4a9Ysu0egInLivMTfV5r4eJvEvdU1LOluoHZZFivyDrODiLxhdXYoW7CCgoLsHoGKwNd7BAanmzh1AfiwvYGB9TRoGssVeY/ZQUTesDo7lC1Y5N9yz0mMWG7i8x0SXUM0fNDOQEgZFisiIvIPLFhUpKSUmLtLYugyEx4JfHK3gf63c9WKiIj8i7KH3BMTE+0egSx2ME8i5gcTfX800e5WDVtiXHj0Dp3liizF7CAib1idHcquYIWGhto9AllESolPt0s8tdKESwO+6GggphZXrcg3mB1E5A2rs0PZgjVs2DC7RyAL7D0tEZ9u4tu9Eo/cruG91gYql2SxIt9hdhCRN6zODmULFjmblBIfZUs8u8rELcWABdEG7q+p7I40ERGRpViwyHI7T0oMSjOxZL9EXF0Nb7cyUL4EV62IiChwKLukkJ2dbfcIdJNMITFpk4nG8zzYcVJicVcDSR1cLFdUpJgdROQNq7ND2YI1cuRIu0egm5B9QuKub0w8tUIgtq6OjX1c6FRD2f97kR9jdhCRN6zODmW3CKdMmWL3CFQAHiHx9gaB0VkCIaWBpT0M3FWNxYrsw+wgIm9YnR3KFiy+1Vp9G49JxC41sfaoxDONdYxtpiPIxe1Ashezg4i8ETC3aSB15ZsSb64TeH2dwB1lgeVuA3dW4aoVERHRJSxYdFPWHBGISzWx9TgwqqmOlyJ1lDC4akVERPRHyi47jB8/3u4R6A/OeSRGrTZx5/yLd2PP6O3Cq80NlitSDrODiLxhdXYou4KVl5dn9wj0f5YfEohbamLXKeDVZjoSI3QU01msSE3MDiLyhtXZoWzBGjt2rN0jBLwzFyReXCPwz00CLatoWNvJQIMKLFakNmYHEXnD6uxQtmCRvZbsExiYZuJgHvDWnTpGNNJhcNWKiIioQFiw6Aq/50uMXCXwYbZAh2oaFnc1cHs5FisiIqKboewh99zcXLtHCDjf7hVoNNeDz3cIvN9Wx5LuLFfkPMwOIvKG1dmhbMGKi4uze4SAceycxGM/e9DtOxMNymvY1MeFIQ0M6BrLFTkPs4OIvGF1dii7RThmzBi7RwgIX+0SGLLMxDkT+PguA4/X1aCxWJGDMTuIyBtWZ4eyBSsqKsruEfza4bMSw5ab+GKnhLumhmltDVQvzWJFzsfsICJvWJ0dyhYs8g0pJWbtuFiuACD5XgMP1eaqFRERkZVYsALI/jMSQ5aZWLBH4qHaGv7ZxkCVUixWREREVlP2kHtSUpLdI/gNKSU+/kWgwVwPVh+W+PI+A7M6uliuyC8xO4jIG1Znh7IFKysry+4R/MKeUxKdvzUxINVEr5oaNse40LuWsn/tRIXG7CAib1idHcpuEU6dOtXuERxNSInpWwWeWy1QoTjwbRcDXUJYrMj/MTuIyBtWZ4eyBYu89+vvEgNSTaQelBhcX8f4ljrKFud2IBERUVFhwfIjppB4b5PAy2sEqgUBS7obuKc6V62IiIiKGguWn9hyXCIu1cTqwxIjGul4rbmO0sW4akVERGQHZZc33G633SM4wgUh8fpaE5FfevB7vkS628C7rQ2WKwpYzA4i8obV2aHsClZCQoLdIyhv3VGJ2KUebDwGjIzQ8UqkjpIuFisKbMwOIvKG1dmhbMGKjo62ewRlnTclXlsrMG6dQIMKwKqeLjQLZrEiApgdROQdq7ND2YJF17bqsEDcUhPbTwIvR+kYFaGjuMFyRUREpBIWLIfI80i8skbg3U0CUZU0ZPY20LgiixUREZGKlD3knpKSYvcIykg9IBAxz4MpWwTebKFjRU+WK6LrYXYQkTeszg5lC1ZycrLdI9juVL5EwjITHb4xUbWUhvUPuDAywoBLZ7kiuh5mBxF5w+rsUHaLcPbs2XaPYKvvfxMYlGbiyDngn611DG2oQ9dYrIhuJNCzg4i8Y3V2KFuwAtWJ8xJ/X2ni420S91bXsKS7gdplWayIiIichAVLIV/vERicbuLUBeDD9gYG1tOgcdWKiIjIcViwFJB7TmLEchOf75DoFqLhg3YGapRhsSIiInIqZQ+5x8bG2j2CpXJycjB58mRMnjwZOTk5AAApJebsFGgwx4Nvf5P49G4D33RmuSIqDH/LDiIqGlZnh7IrWP50N+aPPvoIQ4YMwaX7gT799NMYN+l9rKgbhy93SzwQpmFqWwO3BrFYERWWP2UHERWdgLmTe79+/ewewRI5OTkYMmQIHqpfDS+3rwcAeDXtF4wc/iQqvnMf5twfhpjayi4kEjmOv2QHERUtq7ODX9l9bP78+TA04JX29VCmuAtlirvwcvt6cGnA381vWK6IiIj8EL+6FxH5p99rGlCmGLcEiYiI/JGyBSs9Pd3uESwRea8bF8TFbcHT+R6czvfg1bRfYEqgV69edo9H5Hf8JTuIqGhZnR3KFqwJEybYPUKhmEJi0iYTnVdXR4W4KZi95QAiPvoZER/9jNlbD2DatGkICQmxe0wiv+P07CAie1idHcoecp81a5bdI3gt+4TEgFQTyw9JJDTQ8Wb/eBx/pfvlHyTZq1cvlisiH3FydhCRfazODmULVlBQkN0j3DSPkHh7g8DoLIGQ0kBqDwPtq11cJCwTEoJhw4bZPCGR/3NidhCR/azODmULltNsPCYRu9TE2qMSf2+sY2wzHaVcPMROREQUiFiwCinflHhjncAb6wTqlgNWuA20rKLs0TYiIiIqAso2gcTERLtHuKE1RwSap3jw+lqBURE6Mnu7WK6IbOaE7CAi9VidHcquYIWGhto9wnWd9UiMzRKYuEEgoiKQ0duFppW4HUikApWzg4jUZXV2KFuwVD0QvuygwIBUE7tOAa8205EYoaOYznJFpApVs4OI1GZ1dihbsFRz5oLEi2sE/rlJoGUVDWs7GWhQgcWKiIiIrsaCVQBL9gkMTDNxMA94604dIxrpMLhqRURERNeh7Ins7Oxsu0fA7/kS8WkmOi40EVpGw4Y+LjzTxGC5IlKYCtlBRM5jdXYoW7BGjhxp6+svzBFoNNeDz3cIvN9Wx5LuBm4vx2JFpDq7s4OInMnq7FB2i3DKlCm2vO6xcxJPrzTxyXaJ6Ns0fNjeQM1bWKyInMKu7CAiZ7M6O5QtWHa81frLXQJPLjNxzgQ+vsvA43U1aBrLFZGT8DYNROSNgLlNQ1E6fFYiYZmJObsk3DU1TGtroHppFisiIiLyTkAXLCklkndIDF9uAgCS7zXwUG2uWhEREVHhKHvIffz48T59/n1nJHouNvHITybuu03Dlgdd+FsdneWKyOF8nR1E5J+szg5lV7Dy8vJ88rxSSszYJvHMShOlDODL+wz0rqVszySim+Sr7CAi/2Z1dihbsMaOHWv5c+4+JfFEmonv90k8XlfDO60MVCjBFSsif+KL7CAi/2d1dihbsKwkpMS0LQLPrRaoWAL4touBLiFctSIiIiLf8PuCtf13iQGpJtIOSgyur2N8Sx1li3PVioiIiHxH2WWc3NzcQn2+KSTe3mCiyTwP9p2RWNLdwLR2BssVkZ8rbHYQUWCyOjuULVhxcXFef+7mYxJtFphIXCUwpL6ODX1cuKe6spdKRBYqTHYQUeCyOjuU3SIcM2bMTX/OBSExfp3Aq2sFapcFlrkNtK7KYkUUSLzJDiIiq7ND2YIVFRV1Ux+/NlciLtWDjceAkRE6XonUUdLF7UCiQHOz2UFEBFifHcoWrII6b0q8miUwbr1AwwrAqp4uNAtmsSIiIiL7OLpgrTosELvUxK8ngVeidIyK0FHcYLkiIiIieyl7QCkpKem6f5bnkXh2pYk2C0yUKaYhq7cLr0QZLFdE9JfZQUR0PVZnh7IFKysr65qPLz0gEDHPgylbBMa10LHcbaBRRRYrIrroetlBRPRXrM4OZbcIp06desXvT+VLjMoQeH+LQNuqGr7pbKBeeRYrIrrSn7ODiKggrM4OZQvWHy3+TWBQmomj54DJbXQ82UCHrrFcERERkZqULlgnzkv8faWJj7dJdKyu4efuBmqVZbEiIiIitSlbsBbsERicbuLMBeCj9gYG1NOgcdWKiIiIHEDJQ+7vbjTRc7GJqEoaNse4MDBcZ7kiogJxu912j0BEDmR1dihZsNpW1TA6eCO+7mygRhkWKyIquISEBLtHICIHsjo7lNwibFlFR8te/HEXRHTzoqOj7R6BiBzI6uxQcgWLiIiIyMlYsIiIiIgspmzBSklJsXsEInIgZgcRecPq7FC2YI0fP97uEYjIgZgdROQNq7ND2YIVHBxs9whE5EDMDiLyhtXZoWzBIiIiInIqFiwiIiIii7FgEREREVnMJzcaPXv2LABg69atXj/H6tWrkZWVZdVIRBQgmB1E5I3CZMelvnOp/wCAJqWUlkz2BzNnzkT//v2tfloiIiIiZX322Wd45JFHAPioYOXm5mLRokUICwtDqVKlrH56IiIiImWcPXsWu3fvRufOnVG5cmUAPipYRERERIGMh9yJiIiILMaCRURERGQx5QrW9u3b0aZNG9SrVw8tW7bEli1b7B6JiBwgLCwM4eHhiIyMRGRkJObMmWP3SESkoOHDh6NWrVrQdR0bNmy4/Pjhw4fRpUsX1K1bF40bN0ZaWlqhXke5ghUfH4/Bgwfjl19+wXPPPYfHH3/c7pGIyAE0TcMXX3yBtWvXYu3atXjwwQftHomIFNS3b1+kp6ejZs2aVzw+atQotGnTBtu2bcOMGTPw8MMPw+PxeP06ShWsw4cPIzMz8z/7EzoAAAHHSURBVPItHh544AHs3bsXO3futHkyInICvmeHiG6kXbt2uO222656fM6cORg8eDAAoHnz5qhevTqWLl3q9esoVbD27t2LatWqQdcvjqVpGkJDQ5GTk2PzZETkBI8++iiaNGmCgQMHIjc31+5xiMghjh49igsXLqBKlSqXHwsLCytU/1CqYBEReSstLQ0bNmxAVlYWKleujMcee8zukYjI4TRN8/pzlSpYISEhOHDgAIQQAC4u9+fk5CA0NNTmyYhIdTVq1AAAuFwujBgxotAHVIkocFSqVAkulwuHDh26/Nju3bsL1T+UKlhVqlRBVFQUPv30UwDAvHnzEBISgtq1a9s8GRGpLC8vDydOnLj8++TkZERFRdk4ERE5wR/PbT744IOYPn06ACAjIwP79u1Dhw4dvH5u5e7kvm3bNjz++OM4evQoypUrhxkzZqBhw4Z2j0VECtu1axf69OkD0zQhpUSdOnUwadIkrn4T0VXi4+OxcOFCHDp0CBUrVkTZsmWxbds2HD58GI8++ih27dqFEiVKYMqUKf5VsIiIiIicTqktQiIiIiJ/wIJFREREZDEWLCIiIiKLsWARERERWYwFi4iIiMhi/x+vHoogxyAppwAAAABJRU5ErkJggg==\" />"
      ]
     },
     "execution_count": 14,
     "metadata": {},
     "output_type": "execute_result"
    },
    {
     "name": "stderr",
     "output_type": "stream",
     "text": [
      "/usr/local/lib/python2.7/site-packages/matplotlib/collections.py:590: FutureWarning: elementwise comparison failed; returning scalar instead, but in the future will perform elementwise comparison\n",
      "  if self._edgecolors == str('face'):\n"
     ]
    }
   ],
   "source": [
    "# Primero defino los 2 puntos\n",
    "x1, y1 = 1, 2\n",
    "x2, y2 = 3, 5\n",
    "# Defino el rango de las x's y y's\n",
    "rango = collect(linspace(0,10,20))\n",
    "ys = [L(rango[i], x1, y1, x2, y2) for i in 1:length(rango)]\n",
    "# Se plotean los 2 puntos y su interpolación. \n",
    "plot(rango, ys)\n",
    "scatter!([x1], [y1])\n",
    "scatter!([x2], [y2])"
   ]
  },
  {
   "cell_type": "markdown",
   "metadata": {},
   "source": [
    "**[2]** Ahora generalicemos esto a $N$ puntos:\n",
    "\n",
    "**(i)** Encuentra un polinomio $L_1(x)$ sencillo, tal que $L_1(x)$ sea igual a $0$ para $x=x_2$, $x=x_3$, ..., $x=x_N$. Ahora normalízalo para que $L_1(x_1) = 1$."
   ]
  },
  {
   "cell_type": "code",
   "execution_count": 15,
   "metadata": {
    "collapsed": false
   },
   "outputs": [
    {
     "data": {
      "text/plain": [
       "L1N (generic function with 1 method)"
      ]
     },
     "execution_count": 15,
     "metadata": {},
     "output_type": "execute_result"
    }
   ],
   "source": [
    "function L1N(x::Float64, xs::Array{Float64,1})\n",
    "    \n",
    "    tnum = []\n",
    "    tden = []\n",
    "    \n",
    "    for i in 2:length(xs)\n",
    "        a = (x - xs[i])\n",
    "        push!(tnum, a)\n",
    "        b = (xs[1] - xs[i])\n",
    "        push!(tden, b)\n",
    "    end\n",
    "    \n",
    "    numerador = prod(tnum)\n",
    "    denominador = prod(tden)\n",
    "   \n",
    "    return numerador / denominador\n",
    "end"
   ]
  },
  {
   "cell_type": "code",
   "execution_count": 17,
   "metadata": {
    "collapsed": false
   },
   "outputs": [
    {
     "data": {
      "text/plain": [
       "3.0"
      ]
     },
     "execution_count": 17,
     "metadata": {},
     "output_type": "execute_result"
    }
   ],
   "source": [
    "#Pruebas\n",
    "L1N(0.0, [1.0,2.0,3.0])"
   ]
  },
  {
   "cell_type": "code",
   "execution_count": 18,
   "metadata": {
    "collapsed": false
   },
   "outputs": [
    {
     "data": {
      "text/plain": [
       "1.0"
      ]
     },
     "execution_count": 18,
     "metadata": {},
     "output_type": "execute_result"
    }
   ],
   "source": [
    "L1N(1.0, [1.0,3.0,2.0])"
   ]
  },
  {
   "cell_type": "code",
   "execution_count": 19,
   "metadata": {
    "collapsed": false
   },
   "outputs": [
    {
     "data": {
      "text/plain": [
       "1.0"
      ]
     },
     "execution_count": 19,
     "metadata": {},
     "output_type": "execute_result"
    }
   ],
   "source": [
    "L1N(1.0, [1.0,2.0])"
   ]
  },
  {
   "cell_type": "markdown",
   "metadata": {},
   "source": [
    "**(ii)** De manera similar, encuentra $L_i(x)$ que sea igual a $1$ en $x_i$, y que se anule en $x_j$ para $j \\neq i$."
   ]
  },
  {
   "cell_type": "code",
   "execution_count": 21,
   "metadata": {
    "collapsed": false
   },
   "outputs": [
    {
     "data": {
      "text/plain": [
       "LiN (generic function with 1 method)"
      ]
     },
     "execution_count": 21,
     "metadata": {},
     "output_type": "execute_result"
    }
   ],
   "source": [
    "function LiN(x::Float64, xs::Array{Float64,1})\n",
    "    \n",
    "    tnum = []\n",
    "    tden = []\n",
    "    ls = []\n",
    "    \n",
    "    for i in 1:length(xs)\n",
    "        for j in 1:length(xs)\n",
    "            if j == i\n",
    "                continue\n",
    "            end\n",
    "            a = (x - xs[j])\n",
    "            push!(tnum, a)\n",
    "            b = (xs[i] - xs[j])\n",
    "            push!(tden, b)\n",
    "        end\n",
    "        numerador = prod(tnum)\n",
    "        denominador = prod(tden)\n",
    "        li = numerador / denominador\n",
    "        push!(ls, li)\n",
    "        tnum = []\n",
    "        tden = []\n",
    "    end\n",
    "    return ls\n",
    "end"
   ]
  },
  {
   "cell_type": "markdown",
   "metadata": {},
   "source": [
    "**(iii)** Dibuja algunas $L_i$ para $N$ chiquitas. ¡Asegúrate de que sí se comporten correctamente!"
   ]
  },
  {
   "cell_type": "code",
   "execution_count": 22,
   "metadata": {
    "collapsed": false
   },
   "outputs": [
    {
     "data": {
      "text/plain": [
       "2-element Array{Any,1}:\n",
       " 1.0\n",
       " 0.0"
      ]
     },
     "execution_count": 22,
     "metadata": {},
     "output_type": "execute_result"
    }
   ],
   "source": [
    "LiN(1.0, [1.0, 2.0])"
   ]
  },
  {
   "cell_type": "code",
   "execution_count": 23,
   "metadata": {
    "collapsed": false
   },
   "outputs": [
    {
     "data": {
      "text/plain": [
       "2-element Array{Any,1}:\n",
       "  2.0\n",
       " -1.0"
      ]
     },
     "execution_count": 23,
     "metadata": {},
     "output_type": "execute_result"
    }
   ],
   "source": [
    "LiN(0.0, [1.0, 2.0])"
   ]
  },
  {
   "cell_type": "code",
   "execution_count": 24,
   "metadata": {
    "collapsed": false
   },
   "outputs": [
    {
     "data": {
      "text/plain": [
       "2-element Array{Any,1}:\n",
       "  3.0\n",
       " -2.0"
      ]
     },
     "execution_count": 24,
     "metadata": {},
     "output_type": "execute_result"
    }
   ],
   "source": [
    "LiN(-1.0, [1.0, 2.0])"
   ]
  },
  {
   "cell_type": "code",
   "execution_count": 25,
   "metadata": {
    "collapsed": false
   },
   "outputs": [
    {
     "data": {
      "text/plain": [
       "3-element Array{Any,1}:\n",
       "  6.0\n",
       " -8.0\n",
       "  3.0"
      ]
     },
     "execution_count": 25,
     "metadata": {},
     "output_type": "execute_result"
    }
   ],
   "source": [
    "LiN(-1.0, [1.0, 2.0, 3.0])"
   ]
  },
  {
   "cell_type": "markdown",
   "metadata": {},
   "source": [
    "**(iv)** Utiliza las $L_i$ para interpolar los datos $(x_i, y_i)_{i=1}^N$ con un polinomio $p$. ¿De qué orden es el polinomio resultante? Nota que $p$ es *único* en el conjunto de polinomios con grado $\\le$ el grado de $p$."
   ]
  },
  {
   "cell_type": "code",
   "execution_count": 99,
   "metadata": {
    "collapsed": false
   },
   "outputs": [
    {
     "name": "stderr",
     "output_type": "stream",
     "text": [
      "WARNING: Method definition LN(Float64, Array{Float64, 1}, Array{Float64, 1}) in module Main at In[52]:3 overwritten at In[99]:3.\n"
     ]
    },
    {
     "data": {
      "text/plain": [
       "LN (generic function with 3 methods)"
      ]
     },
     "execution_count": 99,
     "metadata": {},
     "output_type": "execute_result"
    }
   ],
   "source": [
    "# Tomando una combinación lineal de L1 y L2. Esta función regresa un número.\n",
    "function LN(x::Float64, xs::Array{Float64,1}, ys::Array{Float64,1})\n",
    "    fact = []\n",
    "    for i in 1:length(xs)\n",
    "        c = ys[i] * LiN(x, xs)[i] \n",
    "        push!(fact, c)\n",
    "    end\n",
    "    \n",
    "    return sum(fact)\n",
    "end"
   ]
  },
  {
   "cell_type": "code",
   "execution_count": 27,
   "metadata": {
    "collapsed": false
   },
   "outputs": [
    {
     "data": {
      "text/plain": [
       "2.0"
      ]
     },
     "execution_count": 27,
     "metadata": {},
     "output_type": "execute_result"
    }
   ],
   "source": [
    "LN(1.0, [1.0, 2.0], [2.0, 1.0])"
   ]
  },
  {
   "cell_type": "markdown",
   "metadata": {},
   "source": [
    "**[3]** **(i)** Escribe una función `interpolar` que acepta un vector de $N$ pares $(x_i, y_i)$, y regresa una función que las interpole. [Pista: Puedes ¡definir una función adentro de la función `interpolar`!, y luego ¡regresar esta función de la función `interpolar`!]"
   ]
  },
  {
   "cell_type": "code",
   "execution_count": 28,
   "metadata": {
    "collapsed": false
   },
   "outputs": [
    {
     "data": {
      "text/plain": [
       "interpolar (generic function with 1 method)"
      ]
     },
     "execution_count": 28,
     "metadata": {},
     "output_type": "execute_result"
    }
   ],
   "source": [
    "function interpolar(x::Real, vect::Array{Tuple{Float64,Float64},1})\n",
    "    fact = []\n",
    "    for i in 1:length(vect)\n",
    "        c = ys[i] * LiN(x, xs)[i] \n",
    "        push!(fact, c)\n",
    "    end\n",
    "    \n",
    "    return sum(fact)\n",
    "end"
   ]
  },
  {
   "cell_type": "code",
   "execution_count": 29,
   "metadata": {
    "collapsed": false
   },
   "outputs": [
    {
     "data": {
      "text/plain": [
       "4-element Array{Tuple{Int64,Int64},1}:\n",
       " (1,0)\n",
       " (2,8)\n",
       " (1,7)\n",
       " (4,8)"
      ]
     },
     "execution_count": 29,
     "metadata": {},
     "output_type": "execute_result"
    }
   ],
   "source": [
    "[(1,0), (2,8), (1,7),(4,8)]"
   ]
  },
  {
   "cell_type": "markdown",
   "metadata": {},
   "source": [
    "**(ii)** Toma funciones polinomiales de orden $n$ diferentes, y genera $n+1$ datos al muestrear la función en distintos puntos $x_i$, espaciados de forma uniforme. Dibuja la función original y la función interpolada."
   ]
  },
  {
   "cell_type": "code",
   "execution_count": 30,
   "metadata": {
    "collapsed": false
   },
   "outputs": [
    {
     "data": {
      "text/plain": [
       "p1 (generic function with 1 method)"
      ]
     },
     "execution_count": 30,
     "metadata": {},
     "output_type": "execute_result"
    }
   ],
   "source": [
    "p1(x) = x^10 - 2"
   ]
  },
  {
   "cell_type": "code",
   "execution_count": 31,
   "metadata": {
    "collapsed": false
   },
   "outputs": [],
   "source": [
    "xs1 = collect(linspace(-10, 10, 11));"
   ]
  },
  {
   "cell_type": "code",
   "execution_count": 32,
   "metadata": {
    "collapsed": false
   },
   "outputs": [
    {
     "data": {
      "text/plain": [
       "1.0"
      ]
     },
     "execution_count": 32,
     "metadata": {},
     "output_type": "execute_result"
    }
   ],
   "source": [
    "LN(1.0, xs1, xs1)"
   ]
  },
  {
   "cell_type": "code",
   "execution_count": 41,
   "metadata": {
    "collapsed": false
   },
   "outputs": [
    {
     "data": {
      "text/html": [
       "<img src=\"data:image/png;base64,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\" />"
      ]
     },
     "execution_count": 41,
     "metadata": {},
     "output_type": "execute_result"
    }
   ],
   "source": [
    "plot(p1)\n"
   ]
  },
  {
   "cell_type": "code",
   "execution_count": 56,
   "metadata": {
    "collapsed": false
   },
   "outputs": [
    {
     "data": {
      "text/html": [
       "<img src=\"data:image/png;base64,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\" />"
      ]
     },
     "execution_count": 56,
     "metadata": {},
     "output_type": "execute_result"
    }
   ],
   "source": [
    "\n",
    "xx = [1.0, 3.0, 8.0, 8.3, -4.0]\n",
    "yy = [2.0, 5.0, 8.0, 9.3, 0.0]\n",
    "# Defino el rango de las x's y y's\n",
    "rango = collect(linspace(-10,10,40))\n",
    "ls = [LN(rango[i], xx, yy) for i in 1:length(rango)]\n",
    "# Se plotean los puntos y su interpolación. \n",
    "plot(p1,xlim=(-10,10), ylim=(-5,10))\n",
    "plot!(rango, ls)\n",
    "scatter!([xx], [yy])"
   ]
  },
  {
   "cell_type": "code",
   "execution_count": 46,
   "metadata": {
    "collapsed": false
   },
   "outputs": [
    {
     "data": {
      "text/html": [
       "<img src=\"data:image/png;base64,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\" />"
      ]
     },
     "execution_count": 46,
     "metadata": {},
     "output_type": "execute_result"
    }
   ],
   "source": [
    "xx = [1, 3, 2, 1.3, -1]\n",
    "yy = [2, 5, -1, -0.3, 0]\n",
    "# Defino el rango de las x's y y's\n",
    "rango = collect(linspace(-5,5,40))\n",
    "ls = [LN(rango[i], xx, yy) for i in 1:length(rango)]\n",
    "# Se plotean los puntos y su interpolación. \n",
    "plot(p1, xlim=(-10, 10), ylim=(-5, 10))\n",
    "plot!(rango, ls)\n",
    "scatter!([xx], [yy])"
   ]
  },
  {
   "cell_type": "markdown",
   "metadata": {},
   "source": [
    "**(iii)** Ahora toma funciones que *no sean* polinomiales, y haz lo mismo. ¿Qué observas?"
   ]
  },
  {
   "cell_type": "code",
   "execution_count": 50,
   "metadata": {
    "collapsed": false
   },
   "outputs": [
    {
     "data": {
      "text/html": [
       "<img src=\"data:image/png;base64,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\" />"
      ]
     },
     "execution_count": 50,
     "metadata": {},
     "output_type": "execute_result"
    }
   ],
   "source": [
    "f(x) = 1/x \n",
    "xx1 = [1, 3, 2, 1.3, -1]\n",
    "yy1 = [2, 5, -1, -0.3, 0]\n",
    "# Defino el rango de las x's y y's\n",
    "rango = collect(linspace(-5,5,40))\n",
    "ls1 = [LN(rango[i], xx1, yy1) for i in 1:length(rango)]\n",
    "# Se plotean los puntos y su interpolación. \n",
    "plot(f)\n",
    "plot!(rango, ls1)\n",
    "scatter!([xx1], [yy1])"
   ]
  },
  {
   "cell_type": "markdown",
   "metadata": {},
   "source": [
    "**[4]** Considera la función de Runga, $f(x) = \\frac{1}{1+25x^2}$, en la región $x \\in [-1, 1]$. Interpólala con tu función `interpolar` para distintos números $N$ de puntos. ¿Qué observas? Utiliza `@manipulate`. "
   ]
  },
  {
   "cell_type": "markdown",
   "metadata": {},
   "source": [
    "Le que observaste en [4] se llama el **fenómeno de Runge**. Demuestra que en general es una mala idea interpolar en puntos espaciados de forma igual. Sin embargo, resulta que el problema no es la interpolación en sí, sino la elección de puntos donde interpolar."
   ]
  },
  {
   "cell_type": "code",
   "execution_count": 65,
   "metadata": {
    "collapsed": false
   },
   "outputs": [
    {
     "name": "stderr",
     "output_type": "stream",
     "text": [
      "WARNING: Method definition fr(Any) in module Main at In[64]:1 overwritten at In[65]:2.\n"
     ]
    },
    {
     "data": {
      "text/html": [
       "<img src=\"data:image/png;base64,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\" />"
      ]
     },
     "execution_count": 65,
     "metadata": {},
     "output_type": "execute_result"
    }
   ],
   "source": [
    "# Tomando puntos igualmente espaciados\n",
    "\n",
    "fr(x) = 1/(1 + 25*x^2)\n",
    "xr = [-1.0, -0.5, 0.0, 0.5, 1.0]\n",
    "yr = [-0.5, -0.25, 0.0, 0.25, 0.5]\n",
    "# Defino el rango de las x's y y's\n",
    "rangor = collect(linspace(-1,1,50))\n",
    "lsr = [LN(rangor[i], xr, yr) for i in 1:length(rangor)]\n",
    "# Se plotean los puntos y su interpolación. \n",
    "plot(fr,xlim=(-2,2), ylim=(-5,5))\n",
    "plot!(rangor, lsr)\n",
    "scatter!([xr], [yr])"
   ]
  },
  {
   "cell_type": "code",
   "execution_count": 64,
   "metadata": {
    "collapsed": false
   },
   "outputs": [
    {
     "name": "stderr",
     "output_type": "stream",
     "text": [
      "WARNING: Method definition fr(Any) in module Main at In[63]:1 overwritten at In[64]:1.\n"
     ]
    },
    {
     "data": {
      "text/html": [
       "<img src=\"data:image/png;base64,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\" />"
      ]
     },
     "execution_count": 64,
     "metadata": {},
     "output_type": "execute_result"
    }
   ],
   "source": [
    "# Tomando puntos cualesquiera. Entonces la elección de puntos es la que \"mejora\" la interpolación.\n",
    "\n",
    "fr(x) = 1/(1 + 25*x^2)\n",
    "xr = [1.0, -1.0, 0.3, -0.4, 0.0]\n",
    "yr = [0.2, 0.1, 0.4, 0.3, 1.0]\n",
    "# Defino el rango de las x's y y's\n",
    "rangor = collect(linspace(-1,1,50))\n",
    "lsr = [LN(rangor[i], xr, yr) for i in 1:length(rangor)]\n",
    "# Se plotean los puntos y su interpolación. \n",
    "plot(fr,xlim=(-2,2), ylim=(-5,5))\n",
    "plot!(rangor, lsr)\n",
    "scatter!([xr], [yr])"
   ]
  },
  {
   "cell_type": "markdown",
   "metadata": {},
   "source": [
    "## Interpolación en puntos espaciados no-uniformemente"
   ]
  },
  {
   "cell_type": "markdown",
   "metadata": {},
   "source": [
    "Resulta que la solución es tomar puntos en el intervalo $[-1,1]$, espaciados tales que se amontonen cerca de los puntos extremos del intervalo. [La razón por esto se puede entender con la teoría de potenciales (\"potential theory\"); ver e.g. Trefethen, *Approximation Theory and Approximation Practice*.] \n",
    "\n",
    "Lo más común es utilizar los **puntos de Chebyshev** con parámetro $n$, definidos como \n",
    "\n",
    "$$x_j := \\cos \\left( \\frac{j \\pi}{n} \\right) \\quad \\text{con } 0 \\le j \\le n.$$"
   ]
  },
  {
   "cell_type": "markdown",
   "metadata": {},
   "source": [
    "**[5]** (i) Escribe una función que calcula los puntos de Chebyshev para un valor de $n$ dado.\n",
    "\n",
    "(ii) Escribe una función que interpola una función dada en los puntos de Chebyshev. Grafica los resultados.\n",
    "\n",
    "(iii) Interpola la función de Runge con puntos de Chebyshev. ¿Qué observas?"
   ]
  },
  {
   "cell_type": "code",
   "execution_count": 93,
   "metadata": {
    "collapsed": false
   },
   "outputs": [
    {
     "name": "stderr",
     "output_type": "stream",
     "text": [
      "WARNING: Method definition ptos_Chebyshev(Float64) in module Main at In[86]:2 overwritten at In[93]:2.\n"
     ]
    },
    {
     "data": {
      "text/plain": [
       "ptos_Chebyshev (generic function with 2 methods)"
      ]
     },
     "execution_count": 93,
     "metadata": {},
     "output_type": "execute_result"
    }
   ],
   "source": [
    "function ptos_Chebyshev(n::Float64)\n",
    "   cheby = Float64[]\n",
    "    for i in 1:n\n",
    "    ptos_cheb = cos((2*i - 1) * π / 2*n) \n",
    "    push!(cheby, ptos_cheb)\n",
    "    end\n",
    "    return cheby\n",
    "end"
   ]
  },
  {
   "cell_type": "code",
   "execution_count": 94,
   "metadata": {
    "collapsed": false
   },
   "outputs": [
    {
     "data": {
      "text/plain": [
       "3-element Array{Float64,1}:\n",
       " -1.83697e-16\n",
       "  5.51091e-16\n",
       " -2.69484e-15"
      ]
     },
     "execution_count": 94,
     "metadata": {},
     "output_type": "execute_result"
    }
   ],
   "source": [
    "# Prueba de la función\n",
    "ptos_Chebyshev(3.0)"
   ]
  },
  {
   "cell_type": "code",
   "execution_count": 104,
   "metadata": {
    "collapsed": false
   },
   "outputs": [
    {
     "name": "stderr",
     "output_type": "stream",
     "text": [
      "WARNING: Method definition interpola_Chebyshev(Function, Float64) in module Main at In[102]:2 overwritten at In[104]:2.\n"
     ]
    },
    {
     "data": {
      "text/plain": [
       "interpola_Chebyshev (generic function with 2 methods)"
      ]
     },
     "execution_count": 104,
     "metadata": {},
     "output_type": "execute_result"
    }
   ],
   "source": [
    "function interpola_Chebyshev(f::Function, n::Float64)\n",
    "    xc = ptos_Chebyshev(n)\n",
    "    yc = []\n",
    "    @show xc\n",
    "    y = [1.0, 2.0, 4.0]\n",
    "    for k in 1:length(xc)\n",
    "        yyc = [LN(xc[k], xc, y)]\n",
    "        push!(yc, yyc)\n",
    "    end\n",
    "    return xc, yc\n",
    "end"
   ]
  },
  {
   "cell_type": "code",
   "execution_count": 106,
   "metadata": {
    "collapsed": false
   },
   "outputs": [
    {
     "name": "stdout",
     "output_type": "stream",
     "text": [
      "xc = [-1.83697e-16,5.51091e-16,-2.69484e-15]\n"
     ]
    },
    {
     "data": {
      "text/plain": [
       "([-1.83697e-16,5.51091e-16,-2.69484e-15],Any[[1.0],[2.0],[4.0]])"
      ]
     },
     "execution_count": 106,
     "metadata": {},
     "output_type": "execute_result"
    }
   ],
   "source": [
    "intcx, intcy = interpola_Chebyshev(x -> 1/(1 + 25*x^2), 3.0)"
   ]
  },
  {
   "cell_type": "code",
   "execution_count": 109,
   "metadata": {
    "collapsed": false
   },
   "outputs": [
    {
     "data": {
      "text/html": [
       "<img src=\"data:image/png;base64,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\" />"
      ]
     },
     "execution_count": 109,
     "metadata": {},
     "output_type": "execute_result"
    }
   ],
   "source": [
    "#plot([intcx], [intcy])\n",
    "plot(x->fr(x))"
   ]
  },
  {
   "cell_type": "markdown",
   "metadata": {},
   "source": [
    "**[6]** Dada una función $f$, calcula numéricamente el error al utilizar la interpolación de Chebyshev $p$ con respecto a la función original $f$, dado por la norma\n",
    "\n",
    "$$\\|f - p\\|_{\\infty} := \\sup_x |f(x) - p(x)|,$$\n",
    "\n",
    "para distintos números de puntos de Chebyshev.\n",
    "\n",
    "Conforme se aumenta el número de puntos, ¿cómo es la convergencia a $0$ del error?  "
   ]
  },
  {
   "cell_type": "code",
   "execution_count": null,
   "metadata": {
    "collapsed": true
   },
   "outputs": [],
   "source": []
  },
  {
   "cell_type": "markdown",
   "metadata": {},
   "source": [
    "**[7]** Resulta que la tasa de convergencia depende de qué tan suave es la función.\n",
    "Por ejemplo, inténtalo con la función `abs` y con la función `floor`."
   ]
  },
  {
   "cell_type": "markdown",
   "metadata": {},
   "source": [
    "## Hacia el futuro"
   ]
  },
  {
   "cell_type": "markdown",
   "metadata": {},
   "source": [
    "Lo que hemos logrado es reemplazar (aproximar) una función continua $f$ por un conjunto discreto de sus valores $f(x_i)$ en la **malla** $(x_i)_{i=1}^N$. Ahora podremos manipular la función ¡al manipular sólo estos valores discretos!"
   ]
  },
  {
   "cell_type": "markdown",
   "metadata": {},
   "source": [
    "Resulta que es más útil **cambiar de base** en el espacio de polinomios, y utilizar los **polinomios de Chebyshev**. \n",
    "\n",
    "La idea es escribir el polinomio interpolante como una suma de polinomios de Chebyshev y examinar los coeficientes de estos polinomios, que tienen propiedades muy útiles. Esto lo podremos ver hasta después de ver álgebra lineal numérica.  ¡Podría formar un proyecto final interesante!  "
   ]
  },
  {
   "cell_type": "markdown",
   "metadata": {},
   "source": [
    "### Clase\n",
    "#### Gráficas en 2 var"
   ]
  },
  {
   "cell_type": "code",
   "execution_count": 38,
   "metadata": {
    "collapsed": false
   },
   "outputs": [],
   "source": [
    "#using Plots, LaTeXStrings\n",
    "#pyplot()"
   ]
  },
  {
   "cell_type": "code",
   "execution_count": 39,
   "metadata": {
    "collapsed": false
   },
   "outputs": [],
   "source": [
    "#f(x, y) = x^2 + y^2"
   ]
  },
  {
   "cell_type": "code",
   "execution_count": 40,
   "metadata": {
    "collapsed": false
   },
   "outputs": [],
   "source": [
    "#surface(-1:0.1:1, -1:0.1:1, f, c=:greens, fa=0.5)"
   ]
  },
  {
   "cell_type": "code",
   "execution_count": null,
   "metadata": {
    "collapsed": true
   },
   "outputs": [],
   "source": []
  }
 ],
 "metadata": {
  "kernelspec": {
   "display_name": "Julia 0.5.0",
   "language": "julia",
   "name": "julia-0.5"
  },
  "language_info": {
   "file_extension": ".jl",
   "mimetype": "application/julia",
   "name": "julia",
   "version": "0.5.0"
  }
 },
 "nbformat": 4,
 "nbformat_minor": 2
}

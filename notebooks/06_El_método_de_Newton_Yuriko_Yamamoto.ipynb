{
 "cells": [
  {
   "cell_type": "markdown",
   "metadata": {},
   "source": [
    "# El método de Newton"
   ]
  },
  {
   "cell_type": "code",
   "execution_count": 11,
   "metadata": {
    "collapsed": false
   },
   "outputs": [
    {
     "data": {
      "text/plain": [
       "Plots.PyPlotBackend()"
      ]
     },
     "execution_count": 11,
     "metadata": {},
     "output_type": "execute_result"
    }
   ],
   "source": [
    "using Plots, LaTeXStrings\n",
    "pyplot()"
   ]
  },
  {
   "cell_type": "code",
   "execution_count": 2,
   "metadata": {
    "collapsed": false
   },
   "outputs": [
    {
     "data": {
      "text/html": [
       "<div id=\"interact-js-shim\">\n",
       "    <script charset=\"utf-8\">\n",
       "(function (IPython, $, _, MathJax) {\n",
       "    $.event.special.destroyed = {\n",
       "\tremove: function(o) {\n",
       "\t    if (o.handler) {\n",
       "\t\to.handler.apply(this, arguments)\n",
       "\t    }\n",
       "\t}\n",
       "    }\n",
       "\n",
       "    var OutputArea = IPython.version >= \"4.0.0\" ? require(\"notebook/js/outputarea\").OutputArea : IPython.OutputArea;\n",
       "\n",
       "    var redrawValue = function (container, type, val) {\n",
       "\tvar selector = $(\"<div/>\");\n",
       "\tvar oa = new OutputArea(_.extend(selector, {\n",
       "\t    selector: selector,\n",
       "\t    prompt_area: true,\n",
       "\t    events: IPython.events,\n",
       "\t    keyboard_manager: IPython.keyboard_manager\n",
       "\t})); // Hack to work with IPython 2.1.0\n",
       "\n",
       "\tswitch (type) {\n",
       "\tcase \"image/png\":\n",
       "            var _src = 'data:' + type + ';base64,' + val;\n",
       "\t    $(container).find(\"img\").attr('src', _src);\n",
       "\t    break;\n",
       "\tcase \"text/latex\":\n",
       "\t\tif (MathJax){\n",
       "\t\t\tvar math = MathJax.Hub.getAllJax(container)[0];\n",
       "\t\t\tMathJax.Hub.Queue([\"Text\", math, val.replace(/^\\${1,2}|\\${1,2}$/g, '')]);\n",
       "\t\t\tbreak;\n",
       "\t\t}\n",
       "\tdefault:\n",
       "\t    var toinsert = OutputArea.append_map[type].apply(\n",
       "\t\toa, [val, {}, selector]\n",
       "\t    );\n",
       "\t    $(container).empty().append(toinsert.contents());\n",
       "\t    selector.remove();\n",
       "\t}\n",
       "    }\n",
       "\n",
       "\n",
       "    $(document).ready(function() {\n",
       "\tfunction initComm(evt, data) {\n",
       "\t    var comm_manager = data.kernel.comm_manager;\n",
       "        //_.extend(comm_manager.targets, require(\"widgets/js/widget\"))\n",
       "\t    comm_manager.register_target(\"Signal\", function (comm) {\n",
       "            comm.on_msg(function (msg) {\n",
       "                var val = msg.content.data.value;\n",
       "                $(\".signal-\" + comm.comm_id).each(function() {\n",
       "                var type = $(this).data(\"type\");\n",
       "                if (typeof(val[type]) !== \"undefined\" && val[type] !== null) {\n",
       "                    redrawValue(this, type, val[type], type);\n",
       "                }\n",
       "                });\n",
       "                delete val;\n",
       "                delete msg.content.data.value;\n",
       "            });\n",
       "\t    });\n",
       "\n",
       "\t    // coordingate with Comm and redraw Signals\n",
       "\t    // XXX: Test using Reactive here to improve performance\n",
       "\t    $([IPython.events]).on(\n",
       "\t\t'output_appended.OutputArea', function (event, type, value, md, toinsert) {\n",
       "\t\t    if (md && md.reactive) {\n",
       "                // console.log(md.comm_id);\n",
       "                toinsert.addClass(\"signal-\" + md.comm_id);\n",
       "                toinsert.data(\"type\", type);\n",
       "                // Signal back indicating the mimetype required\n",
       "                var comm_manager = IPython.notebook.kernel.comm_manager;\n",
       "                var comm = comm_manager.comms[md.comm_id];\n",
       "                comm.then(function (c) {\n",
       "                    c.send({action: \"subscribe_mime\",\n",
       "                       mime: type});\n",
       "                    toinsert.bind(\"destroyed\", function() {\n",
       "                        c.send({action: \"unsubscribe_mime\",\n",
       "                               mime: type});\n",
       "                    });\n",
       "                })\n",
       "\t\t    }\n",
       "\t    });\n",
       "\t}\n",
       "\n",
       "\ttry {\n",
       "\t    // try to initialize right away. otherwise, wait on the status_started event.\n",
       "\t    initComm(undefined, IPython.notebook);\n",
       "\t} catch (e) {\n",
       "\t    $([IPython.events]).on('kernel_created.Kernel kernel_created.Session', initComm);\n",
       "\t}\n",
       "    });\n",
       "})(IPython, jQuery, _, MathJax);\n",
       "</script>\n",
       "    <script>\n",
       "        window.interactLoadedFlag = true\n",
       "       $(\"#interact-js-shim\").bind(\"destroyed\", function () {\n",
       "           if (window.interactLoadedFlag) {\n",
       "               console.warn(\"JavaScript required by Interact will be removed if you remove this cell or run using Interact more than once.\")\n",
       "           }\n",
       "       })\n",
       "       $([IPython.events]).on(\"kernel_starting.Kernel kernel_restarting.Kernel\", function () { window.interactLoadedFlag = false })\n",
       "   </script>\n",
       "</div>"
      ]
     },
     "metadata": {},
     "output_type": "display_data"
    }
   ],
   "source": [
    "using Interact"
   ]
  },
  {
   "cell_type": "markdown",
   "metadata": {},
   "source": [
    "El método de Newton (también llamado algoritmo de Newton-Raphson) constituye otro método numérico iterativo para encontrar raíces de funciones. \n",
    "\n",
    "Requiere más información sobre la función, pero a cambio puede funcionar mejor. Derivaremos e implementaremos el método en este notebook."
   ]
  },
  {
   "cell_type": "markdown",
   "metadata": {},
   "source": [
    "[1] (Esta pregunta es para llevarse a cabo con papel y pluma.)\n",
    "\n",
    "Considera una función $f: \\mathbb{R} \\to \\mathbb{R}$.\n",
    "Supón que $x_0$ es una adivinanza inicial de una raíz, y que $x^*$ es la raíz exacta pero \n",
    "desconocida. Sigue los siguientes pasos para derivar el método de Newton.\n",
    "\n",
    "(i) Supón que $x_0$ es suficientemente cercana a $x^*$. Define $\\delta$ como la distancia  (con signo) de $x_0$ desde $x^*$. "
   ]
  },
  {
   "cell_type": "markdown",
   "metadata": {},
   "source": [
    "(ii) Escribe la ecuación que corresponde a que $x^*$ sea una raíz de la función, y exprésala en términos de $\\delta$. "
   ]
  },
  {
   "cell_type": "markdown",
   "metadata": {},
   "source": [
    "(iii) Desarrolla esta ecuación en una serie de Taylor a primer orden, para encontrar un valor aproximado de $\\delta$."
   ]
  },
  {
   "cell_type": "markdown",
   "metadata": {},
   "source": [
    "(iv) Así encuentra una ecuación para la siguiente aproximación $x_1$ a la raíz, $x_1 = x_0 + \\delta$. "
   ]
  },
  {
   "cell_type": "markdown",
   "metadata": {},
   "source": [
    "[2] Demuestra que el método Babilónico es un caso especial del método de Newton. [Pista: ¿Para cuál función $f$?]"
   ]
  },
  {
   "cell_type": "markdown",
   "metadata": {},
   "source": [
    "El método Babilónico, calcula $sqrt(S)$. Y la función es $f(x) = x^2 - S$ "
   ]
  },
  {
   "cell_type": "markdown",
   "metadata": {},
   "source": [
    "[3] Escribe una función que implementa el método de Newton. Puedes suponer que el usuario provenga tanto la función `f` como su derivada `fp` como argumentos a la función `newton` (así como la condición inicial `x0`). [Posteriormente veremos cómo evitar tener que proveer también la derivada.]"
   ]
  },
  {
   "cell_type": "code",
   "execution_count": 9,
   "metadata": {
    "collapsed": false
   },
   "outputs": [
    {
     "name": "stdout",
     "output_type": "stream",
     "text": [
      "search: \u001b[1mC\u001b[22m\u001b[1mo\u001b[22m\u001b[1mm\u001b[22m\u001b[1mp\u001b[22m\u001b[1ml\u001b[22m\u001b[1me\u001b[22m\u001b[1mx\u001b[22m\u001b[1m1\u001b[22m\u001b[1m2\u001b[22m\u001b[1m8\u001b[22m \u001b[1mC\u001b[22m\u001b[1mo\u001b[22m\u001b[1mm\u001b[22m\u001b[1mp\u001b[22m\u001b[1ml\u001b[22m\u001b[1me\u001b[22m\u001b[1mx\u001b[22m32 \u001b[1mC\u001b[22m\u001b[1mo\u001b[22m\u001b[1mm\u001b[22m\u001b[1mp\u001b[22m\u001b[1ml\u001b[22m\u001b[1me\u001b[22m\u001b[1mx\u001b[22m64 \u001b[1mC\u001b[22m\u001b[1mo\u001b[22m\u001b[1mm\u001b[22m\u001b[1mp\u001b[22m\u001b[1ml\u001b[22m\u001b[1me\u001b[22m\u001b[1mx\u001b[22m \u001b[1mc\u001b[22m\u001b[1mo\u001b[22m\u001b[1mm\u001b[22m\u001b[1mp\u001b[22m\u001b[1ml\u001b[22m\u001b[1me\u001b[22m\u001b[1mx\u001b[22m\n",
      "\n"
     ]
    },
    {
     "data": {
      "text/markdown": [
       "No documentation found.\n",
       "\n",
       "**Summary:**\n",
       "\n",
       "```\n",
       "immutable Complex{T<:Real} <: Number\n",
       "```\n",
       "\n",
       "**Fields:**\n",
       "\n",
       "```\n",
       "re :: T<:Real\n",
       "im :: T<:Real\n",
       "```\n"
      ],
      "text/plain": [
       "No documentation found.\n",
       "\n",
       "**Summary:**\n",
       "\n",
       "```\n",
       "immutable Complex{T<:Real} <: Number\n",
       "```\n",
       "\n",
       "**Fields:**\n",
       "\n",
       "```\n",
       "re :: T<:Real\n",
       "im :: T<:Real\n",
       "```\n"
      ]
     },
     "execution_count": 9,
     "metadata": {},
     "output_type": "execute_result"
    }
   ],
   "source": [
    "?Complex128"
   ]
  },
  {
   "cell_type": "code",
   "execution_count": 10,
   "metadata": {
    "collapsed": false
   },
   "outputs": [
    {
     "data": {
      "text/plain": [
       "Newt (generic function with 2 methods)"
      ]
     },
     "execution_count": 10,
     "metadata": {},
     "output_type": "execute_result"
    }
   ],
   "source": [
    "function Newt(f::Function, fp, x0::Complex128, n)\n",
    "    xx = Complex128[x0]\n",
    "    yy = Complex128[]\n",
    "    for i in 1:n\n",
    "        y = f(xx[i])\n",
    "        dy = fp(xx[i])\n",
    "        xn = xx[i] - y/dy\n",
    "        push!(yy, xn)\n",
    "        push!(xx, xn)\n",
    "        #@show i, y, dy, v\n",
    "    end\n",
    "    return xx, yy\n",
    "end"
   ]
  },
  {
   "cell_type": "code",
   "execution_count": 2,
   "metadata": {
    "collapsed": false
   },
   "outputs": [
    {
     "data": {
      "text/plain": [
       "f (generic function with 1 method)"
      ]
     },
     "execution_count": 2,
     "metadata": {},
     "output_type": "execute_result"
    }
   ],
   "source": [
    "f(x) = x^2"
   ]
  },
  {
   "cell_type": "code",
   "execution_count": 3,
   "metadata": {
    "collapsed": false
   },
   "outputs": [
    {
     "data": {
      "text/plain": [
       "fp (generic function with 1 method)"
      ]
     },
     "execution_count": 3,
     "metadata": {},
     "output_type": "execute_result"
    }
   ],
   "source": [
    "fp(x) = 2x"
   ]
  },
  {
   "cell_type": "code",
   "execution_count": 4,
   "metadata": {
    "collapsed": false
   },
   "outputs": [
    {
     "data": {
      "text/plain": [
       "([1.0,0.5,0.25,0.125,0.0625,0.03125,0.015625,0.0078125,0.00390625,0.00195313  …  4.03897e-28,2.01948e-28,1.00974e-28,5.04871e-29,2.52435e-29,1.26218e-29,6.31089e-30,3.15544e-30,1.57772e-30,7.88861e-31],[0.5,0.25,0.125,0.0625,0.03125,0.015625,0.0078125,0.00390625,0.00195313,0.000976563  …  4.03897e-28,2.01948e-28,1.00974e-28,5.04871e-29,2.52435e-29,1.26218e-29,6.31089e-30,3.15544e-30,1.57772e-30,7.88861e-31])"
      ]
     },
     "execution_count": 4,
     "metadata": {},
     "output_type": "execute_result"
    }
   ],
   "source": [
    "x, y = Newt(f, fp, 1, 100)"
   ]
  },
  {
   "cell_type": "markdown",
   "metadata": {},
   "source": [
    "[4] Dibuja (e.g. con `Plots.jl`) la dinámica del método iterativo, dada una función $f$ y una condición inicial $x_0$. Para hacerlo, líneas entre $(x_n, 0)$ y $(x_n, f(x_n))$, así como entre $(x_n, f(x_n)$ y $(x_{n+1}, 0)$. Hazlo interactivo con `Interact.jl`. Viendo la figura, interpreta geométricamente lo que está haciendo el método de Newton-Raphson."
   ]
  },
  {
   "cell_type": "code",
   "execution_count": 1,
   "metadata": {
    "collapsed": false
   },
   "outputs": [
    {
     "data": {
      "text/plain": [
       "orb (generic function with 1 method)"
      ]
     },
     "execution_count": 1,
     "metadata": {},
     "output_type": "execute_result"
    }
   ],
   "source": [
    "function orb(f::Function, x0::Float64, n::Int64)\n",
    "\n",
    "    #y = f(x0)\n",
    "    \n",
    "    ox = Float64[] \n",
    "    oy = Float64[]\n",
    "    \n",
    "    push!(ox, x0)\n",
    "    push!(oy, 0)\n",
    "\n",
    "    for i in 1:n\n",
    "        \n",
    "       \n",
    "        push!(ox, x0)\n",
    "        y = f(x0)\n",
    "        push!(oy, y)\n",
    "        \n",
    "        push!(ox,y)\n",
    "        push!(oy,y)\n",
    "        x0 = y\n",
    "    end\n",
    "        return ox, oy\n",
    "end"
   ]
  },
  {
   "cell_type": "code",
   "execution_count": 18,
   "metadata": {
    "collapsed": false
   },
   "outputs": [
    {
     "name": "stderr",
     "output_type": "stream",
     "text": [
      "\u001b[1m\u001b[31mWARNING: Skipped marker arg Plots.scatter.\u001b[0m\n"
     ]
    },
    {
     "data": {
      "text/html": [
       "<img src=\"data:image/png;base64,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\" />"
      ]
     },
     "execution_count": 18,
     "metadata": {},
     "output_type": "execute_result"
    }
   ],
   "source": [
    "plot(x, y, marker=scatter, xlabel=L\"x_n\", ylabel=L\"x_n+1\", title=L\"Gráfica\")\n",
    "plot!([i for i in 0:0.1:1], [i for i in 0:0.1:1])\n",
    "plot!()"
   ]
  },
  {
   "cell_type": "markdown",
   "metadata": {},
   "source": [
    "[5] Aplica el método de Newton para encontrar raíces de distintas funciones. ¿Qué ocurre si empiezas con distintas condiciones iniciales? Prueba con distintas funciones."
   ]
  },
  {
   "cell_type": "code",
   "execution_count": 4,
   "metadata": {
    "collapsed": false
   },
   "outputs": [
    {
     "data": {
      "text/plain": [
       "g (generic function with 1 method)"
      ]
     },
     "execution_count": 4,
     "metadata": {},
     "output_type": "execute_result"
    }
   ],
   "source": [
    "g(x) = x^3"
   ]
  },
  {
   "cell_type": "code",
   "execution_count": 5,
   "metadata": {
    "collapsed": false
   },
   "outputs": [
    {
     "data": {
      "text/plain": [
       "gp (generic function with 1 method)"
      ]
     },
     "execution_count": 5,
     "metadata": {},
     "output_type": "execute_result"
    }
   ],
   "source": [
    "gp(x) = 3 * x^2"
   ]
  },
  {
   "cell_type": "code",
   "execution_count": 12,
   "metadata": {
    "collapsed": false
   },
   "outputs": [
    {
     "data": {
      "text/plain": [
       "([1.0,0.666667,0.444444,0.296296,0.197531,0.131687,0.0877915,0.0585277,0.0390184,0.0260123  …  9.45574e-17,6.30383e-17,4.20255e-17,2.8017e-17,1.8678e-17,1.2452e-17,8.30133e-18,5.53422e-18,3.68948e-18,2.45965e-18],[0.666667,0.444444,0.296296,0.197531,0.131687,0.0877915,0.0585277,0.0390184,0.0260123,0.0173415  …  9.45574e-17,6.30383e-17,4.20255e-17,2.8017e-17,1.8678e-17,1.2452e-17,8.30133e-18,5.53422e-18,3.68948e-18,2.45965e-18])"
      ]
     },
     "execution_count": 12,
     "metadata": {},
     "output_type": "execute_result"
    }
   ],
   "source": [
    "x, y = Newt(g, gp, 1, 100)"
   ]
  },
  {
   "cell_type": "code",
   "execution_count": 13,
   "metadata": {
    "collapsed": false
   },
   "outputs": [
    {
     "name": "stderr",
     "output_type": "stream",
     "text": [
      "\u001b[1m\u001b[31mWARNING: Skipped marker arg Plots.scatter.\u001b[0m\n"
     ]
    },
    {
     "data": {
      "text/html": [
       "<img src=\"data:image/png;base64,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\" />"
      ]
     },
     "execution_count": 13,
     "metadata": {},
     "output_type": "execute_result"
    },
    {
     "name": "stderr",
     "output_type": "stream",
     "text": [
      "/usr/local/lib/python2.7/site-packages/matplotlib/collections.py:590: FutureWarning: elementwise comparison failed; returning scalar instead, but in the future will perform elementwise comparison\n",
      "  if self._edgecolors == str('face'):\n"
     ]
    }
   ],
   "source": [
    "plot(x, y, marker=scatter, xlabel=L\"x_n\", ylabel=L\"x_n+1\", title=L\"Gráfica g(x) x0 = 1\")\n",
    "plot!([i for i in 0:0.1:1], [i for i in 0:0.1:1])\n",
    "plot!()"
   ]
  },
  {
   "cell_type": "code",
   "execution_count": 14,
   "metadata": {
    "collapsed": false
   },
   "outputs": [
    {
     "data": {
      "text/plain": [
       "([2.0,1.33333,0.888889,0.592593,0.395062,0.263374,0.175583,0.117055,0.0780369,0.0520246  …  1.89115e-16,1.26077e-16,8.4051e-17,5.6034e-17,3.7356e-17,2.4904e-17,1.66027e-17,1.10684e-17,7.37896e-18,4.91931e-18],[1.33333,0.888889,0.592593,0.395062,0.263374,0.175583,0.117055,0.0780369,0.0520246,0.0346831  …  1.89115e-16,1.26077e-16,8.4051e-17,5.6034e-17,3.7356e-17,2.4904e-17,1.66027e-17,1.10684e-17,7.37896e-18,4.91931e-18])"
      ]
     },
     "execution_count": 14,
     "metadata": {},
     "output_type": "execute_result"
    }
   ],
   "source": [
    "x, y = Newt(g, gp, 2, 100)"
   ]
  },
  {
   "cell_type": "code",
   "execution_count": 15,
   "metadata": {
    "collapsed": false
   },
   "outputs": [
    {
     "name": "stderr",
     "output_type": "stream",
     "text": [
      "\u001b[1m\u001b[31mWARNING: Skipped marker arg Plots.scatter.\u001b[0m\n"
     ]
    },
    {
     "data": {
      "text/html": [
       "<img src=\"data:image/png;base64,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\" />"
      ]
     },
     "execution_count": 15,
     "metadata": {},
     "output_type": "execute_result"
    }
   ],
   "source": [
    "plot(x, y, marker=scatter, xlabel=L\"x_n\", ylabel=L\"x_n+1\", title=L\"Gráfica g(x) x0 = 2\")\n",
    "plot!([i for i in 0:0.1:1], [i for i in 0:0.1:1])\n",
    "plot!()"
   ]
  },
  {
   "cell_type": "code",
   "execution_count": 9,
   "metadata": {
    "collapsed": false
   },
   "outputs": [
    {
     "data": {
      "text/plain": [
       "([0.0,NaN,NaN,NaN,NaN,NaN,NaN,NaN,NaN,NaN  …  NaN,NaN,NaN,NaN,NaN,NaN,NaN,NaN,NaN,NaN],[NaN,NaN,NaN,NaN,NaN,NaN,NaN,NaN,NaN,NaN  …  NaN,NaN,NaN,NaN,NaN,NaN,NaN,NaN,NaN,NaN])"
      ]
     },
     "execution_count": 9,
     "metadata": {},
     "output_type": "execute_result"
    }
   ],
   "source": [
    "x, y = Newt(g, gp, 0, 100)"
   ]
  },
  {
   "cell_type": "code",
   "execution_count": 16,
   "metadata": {
    "collapsed": false
   },
   "outputs": [
    {
     "data": {
      "text/plain": [
       "([-1.0,-0.666667,-0.444444,-0.296296,-0.197531,-0.131687,-0.0877915,-0.0585277,-0.0390184,-0.0260123  …  -9.45574e-17,-6.30383e-17,-4.20255e-17,-2.8017e-17,-1.8678e-17,-1.2452e-17,-8.30133e-18,-5.53422e-18,-3.68948e-18,-2.45965e-18],[-0.666667,-0.444444,-0.296296,-0.197531,-0.131687,-0.0877915,-0.0585277,-0.0390184,-0.0260123,-0.0173415  …  -9.45574e-17,-6.30383e-17,-4.20255e-17,-2.8017e-17,-1.8678e-17,-1.2452e-17,-8.30133e-18,-5.53422e-18,-3.68948e-18,-2.45965e-18])"
      ]
     },
     "execution_count": 16,
     "metadata": {},
     "output_type": "execute_result"
    }
   ],
   "source": [
    "x, y = Newt(g, gp, -1, 100)"
   ]
  },
  {
   "cell_type": "code",
   "execution_count": 17,
   "metadata": {
    "collapsed": false
   },
   "outputs": [
    {
     "name": "stderr",
     "output_type": "stream",
     "text": [
      "\u001b[1m\u001b[31mWARNING: Skipped marker arg Plots.scatter.\u001b[0m\n"
     ]
    },
    {
     "data": {
      "text/html": [
       "<img src=\"data:image/png;base64,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\" />"
      ]
     },
     "execution_count": 17,
     "metadata": {},
     "output_type": "execute_result"
    }
   ],
   "source": [
    "plot(x, y, marker=scatter, xlabel=L\"x_n\", ylabel=L\"x_n+1\", title=L\"Gráfica g(x) x0 = -1\")\n",
    "plot!([i for i in 0:0.1:1], [i for i in 0:0.1:1])\n",
    "plot!()"
   ]
  },
  {
   "cell_type": "markdown",
   "metadata": {},
   "source": [
    "[6] ¿Qué tan rápido converge el método cuando esté cerca de una raíz. Utiliza `BigFloat`s. ¿Es mejor que bisección?"
   ]
  },
  {
   "cell_type": "code",
   "execution_count": null,
   "metadata": {
    "collapsed": true
   },
   "outputs": [],
   "source": []
  },
  {
   "cell_type": "markdown",
   "metadata": {},
   "source": [
    "Sin embargo, es posible que el método de Newton *no converja*:"
   ]
  },
  {
   "cell_type": "markdown",
   "metadata": {},
   "source": [
    "[7] El mismo código del método de Newton debería funcionar con números complejos. Utilízalo para encontrar raíces de la función $f(z) = z^3 -1$ **en el plano complejo**.\n",
    "\n",
    "Dada una condición inicial, dibuja (por ejemplo) la parte imaginaria de la raíz a la cual converge (por ejemplo, después de un cierto número de pasos). Hazlo para una malla de condiciones iniciales en el plano. ¿Qué es lo que ves?"
   ]
  },
  {
   "cell_type": "code",
   "execution_count": 13,
   "metadata": {
    "collapsed": false
   },
   "outputs": [
    {
     "data": {
      "text/plain": [
       "f (generic function with 1 method)"
      ]
     },
     "execution_count": 13,
     "metadata": {},
     "output_type": "execute_result"
    }
   ],
   "source": [
    "f(z) = z^3 -1"
   ]
  },
  {
   "cell_type": "code",
   "execution_count": 14,
   "metadata": {
    "collapsed": false
   },
   "outputs": [
    {
     "data": {
      "text/plain": [
       "fp (generic function with 1 method)"
      ]
     },
     "execution_count": 14,
     "metadata": {},
     "output_type": "execute_result"
    }
   ],
   "source": [
    "fp(z) = 3 * z^2 "
   ]
  },
  {
   "cell_type": "code",
   "execution_count": 15,
   "metadata": {
    "collapsed": false
   },
   "outputs": [
    {
     "data": {
      "text/plain": [
       "(Complex{Float64}[1.0+1.0im,0.666667+0.5im,0.578844-0.127467im,1.24696+0.313578im,1.00895+0.113678im,0.987868+0.00383684im,1.00013-9.53222e-5im,1.0-2.55681e-8im,1.0-4.55624e-16im,1.0+4.93038e-31im  …  1.0+0.0im,1.0+0.0im,1.0+0.0im,1.0+0.0im,1.0+0.0im,1.0+0.0im,1.0+0.0im,1.0+0.0im,1.0+0.0im,1.0+0.0im],Complex{Float64}[0.666667+0.5im,0.578844-0.127467im,1.24696+0.313578im,1.00895+0.113678im,0.987868+0.00383684im,1.00013-9.53222e-5im,1.0-2.55681e-8im,1.0-4.55624e-16im,1.0+4.93038e-31im,1.0+0.0im  …  1.0+0.0im,1.0+0.0im,1.0+0.0im,1.0+0.0im,1.0+0.0im,1.0+0.0im,1.0+0.0im,1.0+0.0im,1.0+0.0im,1.0+0.0im])"
      ]
     },
     "execution_count": 15,
     "metadata": {},
     "output_type": "execute_result"
    }
   ],
   "source": [
    "x, y = Newt(f, fp, 1.0 + im, 100)"
   ]
  },
  {
   "cell_type": "code",
   "execution_count": null,
   "metadata": {
    "collapsed": true
   },
   "outputs": [],
   "source": [
    "# Creamos un arreglo de números complejos \n"
   ]
  },
  {
   "cell_type": "markdown",
   "metadata": {},
   "source": [
    "[8] Haz lo mismo para otras funciones en el plano complejo."
   ]
  },
  {
   "cell_type": "markdown",
   "metadata": {},
   "source": [
    "[9] Considera ahora cómo encontrar raíces de un sistema de ecuaciones, escritos en forma vectorial,\n",
    "\n",
    "$$\\mathbf{f}(\\mathbf{x}) = \\mathbf{0}.$$\n",
    "\n",
    "Repite un desarrollo siguiendo la pauta de la pregunta [1] en este contexto.\n",
    "¿Qué es lo que cambia? ¿Qué tipo de operación numérica necesitaríamos para llevar a cabo el método de Newton en este nuevo contexto?"
   ]
  }
 ],
 "metadata": {
  "kernelspec": {
   "display_name": "Julia 0.5.0",
   "language": "julia",
   "name": "julia-0.5"
  },
  "language_info": {
   "file_extension": ".jl",
   "mimetype": "application/julia",
   "name": "julia",
   "version": "0.5.0"
  },
  "toc": {
   "colors": {
    "hover_highlight": "#DAA520",
    "running_highlight": "#FF0000",
    "selected_highlight": "#FFD700"
   },
   "moveMenuLeft": true,
   "nav_menu": {
    "height": "29px",
    "width": "251px"
   },
   "navigate_menu": true,
   "number_sections": true,
   "sideBar": true,
   "threshold": "2",
   "toc_cell": false,
   "toc_section_display": "block",
   "toc_window_display": false
  }
 },
 "nbformat": 4,
 "nbformat_minor": 2
}

{
 "cells": [
  {
   "cell_type": "markdown",
   "metadata": {},
   "source": [
    "# Integración numérica (o \"cuadratura\")"
   ]
  },
  {
   "cell_type": "code",
   "execution_count": 22,
   "metadata": {
    "collapsed": false
   },
   "outputs": [
    {
     "data": {
      "text/plain": [
       "Plots.PyPlotBackend()"
      ]
     },
     "execution_count": 22,
     "metadata": {},
     "output_type": "execute_result"
    }
   ],
   "source": [
    "using Plots, LaTeXStrings\n",
    "pyplot()"
   ]
  },
  {
   "cell_type": "code",
   "execution_count": 63,
   "metadata": {
    "collapsed": false
   },
   "outputs": [
    {
     "data": {
      "text/html": [
       "<div id=\"interact-js-shim\">\n",
       "    <script charset=\"utf-8\">\n",
       "(function (IPython, $, _, MathJax) {\n",
       "    $.event.special.destroyed = {\n",
       "\tremove: function(o) {\n",
       "\t    if (o.handler) {\n",
       "\t\to.handler.apply(this, arguments)\n",
       "\t    }\n",
       "\t}\n",
       "    }\n",
       "\n",
       "    var OutputArea = IPython.version >= \"4.0.0\" ? require(\"notebook/js/outputarea\").OutputArea : IPython.OutputArea;\n",
       "\n",
       "    var redrawValue = function (container, type, val) {\n",
       "\tvar selector = $(\"<div/>\");\n",
       "\tvar oa = new OutputArea(_.extend(selector, {\n",
       "\t    selector: selector,\n",
       "\t    prompt_area: true,\n",
       "\t    events: IPython.events,\n",
       "\t    keyboard_manager: IPython.keyboard_manager\n",
       "\t})); // Hack to work with IPython 2.1.0\n",
       "\n",
       "\tswitch (type) {\n",
       "\tcase \"image/png\":\n",
       "            var _src = 'data:' + type + ';base64,' + val;\n",
       "\t    $(container).find(\"img\").attr('src', _src);\n",
       "\t    break;\n",
       "\tcase \"text/latex\":\n",
       "\t\tif (MathJax){\n",
       "\t\t\tvar math = MathJax.Hub.getAllJax(container)[0];\n",
       "\t\t\tMathJax.Hub.Queue([\"Text\", math, val.replace(/^\\${1,2}|\\${1,2}$/g, '')]);\n",
       "\t\t\tbreak;\n",
       "\t\t}\n",
       "\tdefault:\n",
       "\t    var toinsert = OutputArea.append_map[type].apply(\n",
       "\t\toa, [val, {}, selector]\n",
       "\t    );\n",
       "\t    $(container).empty().append(toinsert.contents());\n",
       "\t    selector.remove();\n",
       "\t}\n",
       "    }\n",
       "\n",
       "\n",
       "    $(document).ready(function() {\n",
       "\tfunction initComm(evt, data) {\n",
       "\t    var comm_manager = data.kernel.comm_manager;\n",
       "        //_.extend(comm_manager.targets, require(\"widgets/js/widget\"))\n",
       "\t    comm_manager.register_target(\"Signal\", function (comm) {\n",
       "            comm.on_msg(function (msg) {\n",
       "                var val = msg.content.data.value;\n",
       "                $(\".signal-\" + comm.comm_id).each(function() {\n",
       "                var type = $(this).data(\"type\");\n",
       "                if (typeof(val[type]) !== \"undefined\" && val[type] !== null) {\n",
       "                    redrawValue(this, type, val[type], type);\n",
       "                }\n",
       "                });\n",
       "                delete val;\n",
       "                delete msg.content.data.value;\n",
       "            });\n",
       "\t    });\n",
       "\n",
       "\t    // coordingate with Comm and redraw Signals\n",
       "\t    // XXX: Test using Reactive here to improve performance\n",
       "\t    $([IPython.events]).on(\n",
       "\t\t'output_appended.OutputArea', function (event, type, value, md, toinsert) {\n",
       "\t\t    if (md && md.reactive) {\n",
       "                // console.log(md.comm_id);\n",
       "                toinsert.addClass(\"signal-\" + md.comm_id);\n",
       "                toinsert.data(\"type\", type);\n",
       "                // Signal back indicating the mimetype required\n",
       "                var comm_manager = IPython.notebook.kernel.comm_manager;\n",
       "                var comm = comm_manager.comms[md.comm_id];\n",
       "                comm.then(function (c) {\n",
       "                    c.send({action: \"subscribe_mime\",\n",
       "                       mime: type});\n",
       "                    toinsert.bind(\"destroyed\", function() {\n",
       "                        c.send({action: \"unsubscribe_mime\",\n",
       "                               mime: type});\n",
       "                    });\n",
       "                })\n",
       "\t\t    }\n",
       "\t    });\n",
       "\t}\n",
       "\n",
       "\ttry {\n",
       "\t    // try to initialize right away. otherwise, wait on the status_started event.\n",
       "\t    initComm(undefined, IPython.notebook);\n",
       "\t} catch (e) {\n",
       "\t    $([IPython.events]).on('kernel_created.Kernel kernel_created.Session', initComm);\n",
       "\t}\n",
       "    });\n",
       "})(IPython, jQuery, _, MathJax);\n",
       "</script>\n",
       "    <script>\n",
       "        window.interactLoadedFlag = true\n",
       "       $(\"#interact-js-shim\").bind(\"destroyed\", function () {\n",
       "           if (window.interactLoadedFlag) {\n",
       "               console.warn(\"JavaScript required by Interact will be removed if you remove this cell or run using Interact more than once.\")\n",
       "           }\n",
       "       })\n",
       "       $([IPython.events]).on(\"kernel_starting.Kernel kernel_restarting.Kernel\", function () { window.interactLoadedFlag = false })\n",
       "   </script>\n",
       "</div>"
      ]
     },
     "metadata": {},
     "output_type": "display_data"
    }
   ],
   "source": [
    "using Interact"
   ]
  },
  {
   "cell_type": "markdown",
   "metadata": {},
   "source": [
    "A menudo en la física, es necesario evaluar integrales feas. [La verdad es que casi todas las integrales son feas...] Mientras que la diferenciación es un proceso que se puede llevar a cabo de manera algorítmica, siguiendo una receta, la integración no lo es. De hecho, se puede demostrar que hay integrales que no se pueden llevar a cabo de forma analítica en términos de las funciones elementales. Un ejemplo famoso es la [función error](https://es.wikipedia.org/wiki/Funci%C3%B3n_error),\n",
    "\n",
    "$$\\mathrm{erf}(x) = \\frac{2}{\\sqrt{\\pi}}\\int_{0}^x e^{-t^2/2} \\, dt.$$"
   ]
  },
  {
   "cell_type": "markdown",
   "metadata": {},
   "source": [
    "Por lo tanto, necesitamos encontrar maneras de aproximar integrales definidas, de forma numérica.\n",
    "\n",
    "Recordemos que la integral \n",
    "\n",
    "$$I(f) = \\int_a^b f(x) \\, dx$$ \n",
    "\n",
    "representa el **área debajo de la curva $y=f(x)$ entre $x=a$ y $x=b$**. Por lo tanto, la integración numérica también se llama \"cuadratura numérica\". [Ver, por ejemplo, https://es.wikipedia.org/wiki/Cuadratura_del_c%C3%ADrculo.] \n",
    "\n",
    "Nota que la integral $I(f)$ es una función [de hecho, un \"funcional\"] **lineal** de $f$. Por lo tanto, buscaremos métodos numéricos con la misma propiedad. Siguiendo la pista que vimos en el notebook sobre la interpolación, pensaremos en evaluar la función $f$ en $N+1$ **nodos** $x_j$, y buscaremos **pesos** $\\alpha_i$ que den una aproximación a la integral de la forma\n",
    "\n",
    "$$Q(f) = \\sum_{i=0}^N \\alpha_j \\, f(x_j) \\qquad  (*)$$"
   ]
  },
  {
   "cell_type": "markdown",
   "metadata": {},
   "source": [
    "**[1]** Un caso particular es una $f$ que sea **monótona**, por ejemplo el integrando $f$ que aparece en la función $\\mathrm{erf}$, dado por $f(x) = e^{-x^2/2}$. \n",
    "\n",
    "**(i)** La idea más natural [pero ¡no necesariamente mejor!] es dividir el intervalo $[0, x]$ en $N$ intervalos iguales de longitud $h=1/N$. Dada una $x$ y una $N$, dibuja la función, así como líneas verticales punteadas (`linestyle=:dash`) en los nodos.\n",
    "Grafícalo."
   ]
  },
  {
   "cell_type": "code",
   "execution_count": 20,
   "metadata": {
    "collapsed": false
   },
   "outputs": [
    {
     "data": {
      "text/plain": [
       "1-element Array{Array{Float64,1},1}:\n",
       " [0.0,0.5,1.0,1.5,2.0]"
      ]
     },
     "execution_count": 20,
     "metadata": {},
     "output_type": "execute_result"
    }
   ],
   "source": [
    "xs = [collect(0:1/N:x)]\n",
    "#linspace(0, x, 1/N)"
   ]
  },
  {
   "cell_type": "code",
   "execution_count": 18,
   "metadata": {
    "collapsed": false
   },
   "outputs": [
    {
     "data": {
      "text/plain": [
       "5-element Array{Float64,1}:\n",
       " 0.0\n",
       " 0.5\n",
       " 1.0\n",
       " 1.5\n",
       " 2.0"
      ]
     },
     "execution_count": 18,
     "metadata": {},
     "output_type": "execute_result"
    }
   ],
   "source": [
    "collect(0:1/N:x)"
   ]
  },
  {
   "cell_type": "code",
   "execution_count": 48,
   "metadata": {
    "collapsed": false
   },
   "outputs": [
    {
     "data": {
      "text/plain": [
       "21-element Array{Float64,1}:\n",
       "  0.0\n",
       "  0.5\n",
       "  1.0\n",
       "  1.5\n",
       "  2.0\n",
       "  2.5\n",
       "  3.0\n",
       "  3.5\n",
       "  4.0\n",
       "  4.5\n",
       "  5.0\n",
       "  5.5\n",
       "  6.0\n",
       "  6.5\n",
       "  7.0\n",
       "  7.5\n",
       "  8.0\n",
       "  8.5\n",
       "  9.0\n",
       "  9.5\n",
       " 10.0"
      ]
     },
     "execution_count": 48,
     "metadata": {},
     "output_type": "execute_result"
    }
   ],
   "source": [
    "xs = collect(0:1/N:X)"
   ]
  },
  {
   "cell_type": "code",
   "execution_count": 49,
   "metadata": {
    "collapsed": false
   },
   "outputs": [
    {
     "data": {
      "text/plain": [
       "21-element Array{Float64,1}:\n",
       " 1.0        \n",
       " 0.882497   \n",
       " 0.606531   \n",
       " 0.324652   \n",
       " 0.135335   \n",
       " 0.0439369  \n",
       " 0.011109   \n",
       " 0.00218749 \n",
       " 0.000335463\n",
       " 4.00653e-5 \n",
       " 3.72665e-6 \n",
       " 2.69958e-7 \n",
       " 1.523e-8   \n",
       " 6.69159e-10\n",
       " 2.28973e-11\n",
       " 6.10194e-13\n",
       " 1.26642e-14\n",
       " 2.04697e-16\n",
       " 2.57676e-18\n",
       " 2.52616e-20\n",
       " 1.92875e-22"
      ]
     },
     "execution_count": 49,
     "metadata": {},
     "output_type": "execute_result"
    }
   ],
   "source": [
    "f.(xs)"
   ]
  },
  {
   "cell_type": "code",
   "execution_count": null,
   "metadata": {
    "collapsed": true
   },
   "outputs": [],
   "source": [
    "#plot(xs, f.(xs))"
   ]
  },
  {
   "cell_type": "code",
   "execution_count": null,
   "metadata": {
    "collapsed": true
   },
   "outputs": [],
   "source": []
  },
  {
   "cell_type": "code",
   "execution_count": 64,
   "metadata": {
    "collapsed": false
   },
   "outputs": [
    {
     "name": "stderr",
     "output_type": "stream",
     "text": [
      "WARNING: Method definition f(Any) in module Main at In[61]:1 overwritten at In[64]:2.\n"
     ]
    },
    {
     "data": {
      "text/html": [
       "<img src=\"data:image/png;base64,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\" />"
      ]
     },
     "execution_count": 64,
     "metadata": {},
     "output_type": "execute_result"
    }
   ],
   "source": [
    "\n",
    "f(x) = exp(-x^2/2)\n",
    "X = 3.0\n",
    "N = 10.0\n",
    "h = 1/N\n",
    "xs = collect(0:h:X)\n",
    "#xs = linspace(1, X, N+1)\n",
    "\n",
    "#@manipulate for i in 0::3\n",
    "\n",
    "p = plot(f, xlim=(0, 3), legend=false, grid=false) # p es el nombre de la gráfica de f(x)\n",
    "\n",
    "#for (i,x) in enumerate(xs)\n",
    "for x in xs\n",
    "    plot!([x, x], [0, f(x)], ls=:dash, lw=1) # Dibuja las líneas punteadas desde (x, 0) hasta (x, f(x))\n",
    "end\n",
    "scatter!(xs, f.(xs)) # Dibuja los puntos (x, f(x))\n",
    "p # Esto regresa el plot p"
   ]
  },
  {
   "cell_type": "markdown",
   "metadata": {},
   "source": [
    "**(ii)** La idea más sencilla es aproximar la función $f$ en un intervalo dado con una recta horizontal. \n",
    "¿Cómo podríamos calcular tanto una cota inferior como una cota superior, suponiendo que $f$ es monótona? Exprésalos en la forma de la ecuación (*). Grafícalos.\n",
    "\n",
    "Escribe una función que calcule estas áreas dadas $f$ (monótona), $a$, $b$ y $N$."
   ]
  },
  {
   "cell_type": "code",
   "execution_count": 102,
   "metadata": {
    "collapsed": false
   },
   "outputs": [
    {
     "name": "stderr",
     "output_type": "stream",
     "text": [
      "WARNING: Method definition f(Any) in module Main at In[101]:1 overwritten at In[102]:1.\n"
     ]
    },
    {
     "data": {
      "text/html": [
       "<img src=\"data:image/png;base64,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\" />"
      ]
     },
     "execution_count": 102,
     "metadata": {},
     "output_type": "execute_result"
    }
   ],
   "source": [
    "f(x) = exp(-x^2/2)\n",
    "X = 3.0\n",
    "N = 4.0\n",
    "h = 1/N\n",
    "xs = collect(0:h:X)\n",
    "\n",
    "p = plot(f, xlim=(0, 3), legend=false, grid=false) # p es el nombre de la gráfica de f(x)\n",
    "\n",
    "for i in 1:length(xs)\n",
    "    plot!([xs[i], xs[i]], [0, f(xs[i])], ls=:dash, lw=1) # Dibuja las líneas punteadas desde (x, 0) hasta (x, f(x))\n",
    "end\n",
    "\n",
    "for i in 2:length(xs)\n",
    "    plot!([xs[i - 1], xs[i]], [f(xs[i]), f(xs[i])], ls=:dash, lw=1)\n",
    "    plot!([xs[i], xs[i]], [0, f(xs[i-1])], ls=:dash, lw=1)\n",
    "end\n",
    "\n",
    "for i in 1:length(xs)-1\n",
    "    plot!([xs[i], xs[i+1]], [f(xs[i]), f(xs[i])], ls=:dash, lw=1)\n",
    "end\n",
    "scatter!(xs, f.(xs)) # Dibuja los puntos (x, f(x))\n",
    "p # Esto regresa el plot p\n",
    "\n",
    "# 2 Ifs para meter todo en un for\n",
    "# dentro de las caract: , fill=(0, 0.5) o fill=(x->x^2, 0.5) o fill=(0, 0.5,:red) para rellenar entre cota superior e inferior."
   ]
  },
  {
   "cell_type": "code",
   "execution_count": 105,
   "metadata": {
    "collapsed": false
   },
   "outputs": [
    {
     "name": "stderr",
     "output_type": "stream",
     "text": [
      "WARNING: Method definition área(Function, Any, Any, Any) in module Main at In[103]:5 overwritten at In[105]:5.\n"
     ]
    },
    {
     "data": {
      "text/plain": [
       "área (generic function with 1 method)"
      ]
     },
     "execution_count": 105,
     "metadata": {},
     "output_type": "execute_result"
    }
   ],
   "source": [
    "function área(f::Function, a, b, N)\n",
    "    \n",
    "    #X = 3.0\n",
    "    #N = 4.0\n",
    "    h = 1/N\n",
    "    xs = collect(a:h:b)\n",
    "    \n",
    "    áreas_inf = []\n",
    "    áreas_sup = []\n",
    "    \n",
    "    for k in 2:length(xs) \n",
    "        ainf = (xs[k] - xs[k-1]) * (f(xs[k])) #base * altura\n",
    "        push!(áreas_inf, ainf)\n",
    "    end\n",
    "    \n",
    "     for k in 1:length(xs)-1 \n",
    "        asup = (xs[k+1] - xs[k]) * (f(xs[k])) #base * altura\n",
    "        push!(áreas_sup, asup)\n",
    "    end\n",
    "    \n",
    "    inferior = sum(áreas_inf)\n",
    "    superior = sum(áreas_sup)\n",
    "    \n",
    "    dif = superior - inferior\n",
    "    \n",
    "    return inferior, superior, dif\n",
    "end"
   ]
  },
  {
   "cell_type": "code",
   "execution_count": 104,
   "metadata": {
    "collapsed": false
   },
   "outputs": [
    {
     "data": {
      "text/plain": [
       "0.8427007929497149"
      ]
     },
     "execution_count": 104,
     "metadata": {},
     "output_type": "execute_result"
    }
   ],
   "source": [
    "erf(1)"
   ]
  },
  {
   "cell_type": "code",
   "execution_count": 113,
   "metadata": {
    "collapsed": false
   },
   "outputs": [
    {
     "name": "stdout",
     "output_type": "stream",
     "text": [
      "search: \u001b[1me\u001b[22m\u001b[1mr\u001b[22m\u001b[1mf\u001b[22m \u001b[1me\u001b[22m\u001b[1mr\u001b[22m\u001b[1mf\u001b[22mi \u001b[1me\u001b[22m\u001b[1mr\u001b[22m\u001b[1mf\u001b[22mc \u001b[1me\u001b[22m\u001b[1mr\u001b[22m\u001b[1mf\u001b[22mcx \u001b[1me\u001b[22m\u001b[1mr\u001b[22m\u001b[1mf\u001b[22minv \u001b[1me\u001b[22m\u001b[1mr\u001b[22m\u001b[1mf\u001b[22mcinv Ov\u001b[1me\u001b[22m\u001b[1mr\u001b[22m\u001b[1mf\u001b[22mlowError StackOv\u001b[1me\u001b[22m\u001b[1mr\u001b[22m\u001b[1mf\u001b[22mlowError\n",
      "\n"
     ]
    },
    {
     "data": {
      "text/markdown": [
       "```\n",
       "erf(x)\n",
       "```\n",
       "\n",
       "Compute the error function of `x`, defined by $\\frac{2}{\\sqrt{\\pi}} \\int_0^x e^{-t^2} dt$ for arbitrary complex `x`.\n"
      ],
      "text/plain": [
       "```\n",
       "erf(x)\n",
       "```\n",
       "\n",
       "Compute the error function of `x`, defined by $\\frac{2}{\\sqrt{\\pi}} \\int_0^x e^{-t^2} dt$ for arbitrary complex `x`.\n"
      ]
     },
     "execution_count": 113,
     "metadata": {},
     "output_type": "execute_result"
    }
   ],
   "source": [
    "?erf"
   ]
  },
  {
   "cell_type": "code",
   "execution_count": 114,
   "metadata": {
    "collapsed": false
   },
   "outputs": [
    {
     "data": {
      "text/plain": [
       "(0.746792526171353,0.746855738227236,6.321205588299961e-5)"
      ]
     },
     "execution_count": 114,
     "metadata": {},
     "output_type": "execute_result"
    }
   ],
   "source": [
    "área(x->exp(-x^2), 0, 1, 10000)"
   ]
  },
  {
   "cell_type": "code",
   "execution_count": 117,
   "metadata": {
    "collapsed": false
   },
   "outputs": [
    {
     "data": {
      "text/plain": [
       "0.8426651286743851"
      ]
     },
     "execution_count": 117,
     "metadata": {},
     "output_type": "execute_result"
    }
   ],
   "source": [
    "0.746792526171353 * (2/(sqrt(π)))"
   ]
  },
  {
   "cell_type": "markdown",
   "metadata": {},
   "source": [
    "**(iii)** ¿Cuál es la tasa de convergencia hacia el resultado exacto cuando $N \\to \\infty$ para $f(x) = e^{-x^2/2}$? [Pista: La función $\\mathrm{erf}$ en Julia se llama... `erf`. En Julia v0.6, se encontrará en el paquete `SpecialFunctions.jl`.]"
   ]
  },
  {
   "cell_type": "markdown",
   "metadata": {},
   "source": [
    "**[2] (i)** Dibuja las cotas para $\\mathrm{erf}(x)$."
   ]
  },
  {
   "cell_type": "markdown",
   "metadata": {},
   "source": [
    "**(ii)** Encuentra una cota superior analítica para $\\int_{t=x}^\\infty e^{-t^2/t} dt$. [Pista: puedes utilizar, por ejemplo, $f(t) \\le e^{-t}$ para $t$ suficientemente grande. [¿Qué tan grande?].] "
   ]
  },
  {
   "cell_type": "markdown",
   "metadata": {},
   "source": [
    "**(iii)** Así, encuentra cotas para $\\lim_{x \\to \\infty} \\mathrm{erf}(x)$. ¿Cuál valor analítica tiene?"
   ]
  },
  {
   "cell_type": "markdown",
   "metadata": {},
   "source": [
    "**[3]** (i) Después de una recta horizontal, ¿cuál es la siguiente forma más natural de aproximar a la función $f$ adentro de un intervalo dado? ¿A qué aproximación de la integral lleva, expresada en la forma de la ecuación (*)? Grafícalo.\n",
    "\n",
    "(ii) Impleméntalo. Nota que este método funciona para *cualquier* función $f$, sin que tenga que ser monótona. \n",
    "\n",
    "(iii) ¿Cuál es la tasa de convergencia? ¿Cómo se compara con el método de la pregunta [1]?"
   ]
  },
  {
   "cell_type": "markdown",
   "metadata": {},
   "source": [
    "**[4]** Lo que estamos haciendo es aproximar la función $f$ en cada sub-intervalo. La siguiente aproximación es una cuadrática, que da una regla llamada el **método de Simpson**.\n",
    "\n",
    "(i) Utiliza el método de interpolación de Lagrange para encontrar una expresión analítica para un polinomio que interpola la función $f$ en tres puntos: $x_i$, $x_{i+1}$, y el punto medio $m$ entre $x_i$ y $x_{i+1}$.\n",
    "\n",
    "(ii) Integra este polinomio para encontrar $\\int_{x_i}^{x_{i+1}} f(t) \\, dt$. \n",
    "\n",
    "(iii) Así, encuentra una aproximación para $\\int_{a}^{b} f(t) \\, dt$.\n",
    "\n",
    "(iv) Encuentra numéricamente la tasa de convergencia del método."
   ]
  },
  {
   "cell_type": "markdown",
   "metadata": {},
   "source": [
    "Cabe mencionar que hay métodos muy precisos, por ejemplo la llamada **cuadratura de Gauss**, que funcionan si la función es suave, en los cuales se utiliza la interpolación de Lagrange para aproximar una función con un polinomio **globalmente en todo el rango $[a,b]$, y luego ¡se integra el polinomio! \n",
    "\n",
    "Estos métodos se pueden extender a integrales en más dimensiones."
   ]
  }
 ],
 "metadata": {
  "kernelspec": {
   "display_name": "Julia 0.5.0",
   "language": "julia",
   "name": "julia-0.5"
  },
  "language_info": {
   "file_extension": ".jl",
   "mimetype": "application/julia",
   "name": "julia",
   "version": "0.5.0"
  }
 },
 "nbformat": 4,
 "nbformat_minor": 0
}

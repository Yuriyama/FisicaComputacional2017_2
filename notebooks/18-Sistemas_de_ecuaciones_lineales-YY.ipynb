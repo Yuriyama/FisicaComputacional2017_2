{
 "cells": [
  {
   "cell_type": "markdown",
   "metadata": {},
   "source": [
    "# Sistemas de ecuaciones lineales"
   ]
  },
  {
   "cell_type": "markdown",
   "metadata": {},
   "source": [
    "En el notebook anterior, vimos que un problema de valores en la frontera, por ejemplo, el problema de Poisson, se puede expresar como un sistema de ecuaciones lineales, y, por lo tanto, se puede escribir en forma matricial como\n",
    "\n",
    "$$ \\mathsf{A} \\cdot \\mathbf{V} = \\mathbf{b},$$\n",
    "\n",
    "donde $\\mathbf{V} = (V_0, \\ldots, V_L)$ son los valores desconocidos del potencial, $\\mathsf{A}$ es una matriz proveniente de la discretización del Laplaciano usando diferencias finitas, y $\\mathbf{b}$ es un vector que combina el potencial y las condiciones en la frontera."
   ]
  },
  {
   "cell_type": "markdown",
   "metadata": {},
   "source": [
    "En el notebook anterior, utilizamos un método **iterativo** para resolver este sistema, pero vimos que convergía lentamente a la solución. \n",
    "\n",
    "En este notebook, veremos un método **directo** (es decir, no iterativo, y que requiere un número de pasos finito para terminar el cálculo) para resolver sistemas de ecuaciones lineales, el método de **eliminación gaussiana**, que seguramente ya vieron en Álgebra Lineal."
   ]
  },
  {
   "cell_type": "markdown",
   "metadata": {},
   "source": [
    "## Eliminación gaussiana"
   ]
  },
  {
   "cell_type": "markdown",
   "metadata": {},
   "source": [
    "Considera el sistema de ecuaciones lineales\n",
    "\n",
    "$$ \\mathsf{A} \\cdot \\mathbf{x} = \\mathbf{b}. \\qquad (1)$$\n",
    "\n",
    "Aquí, $\\mathsf{A}$ es una matriz cuadrada dada, de tamaño $n \\times n$, y $\\mathbf{b}$ es un vector dado en $\\mathbb{R}^n$. Queremos resolver esta ecuación para encontrar el vector desconocido $\\mathbf{x} \\in \\mathbb{R}^n$.\n",
    "\n",
    "Recuerda que podemos resolver este sistema usando el método de eliminación gaussiana, que consiste en llevar a cabo operaciones de renglón, tanto para la matriz $\\mathsf{A}$ como el vector $\\mathbf{b}$, para reducir $\\mathsf{A}$ a una forma triangular.\n",
    "\n",
    "[En este notebook, debes implementar los métodos numéricos \"a mano\" en la computadora, sin utilizar ningún método ni paquete de Julia ya implementado.]"
   ]
  },
  {
   "cell_type": "markdown",
   "metadata": {},
   "source": [
    "**[1]** Re-escribe la ecuación (1) utilizando índices y sumas."
   ]
  },
  {
   "cell_type": "markdown",
   "metadata": {},
   "source": [
    "$$\\sum_j{A_{ij} x_j} = b_i$$"
   ]
  },
  {
   "cell_type": "markdown",
   "metadata": {},
   "source": [
    "**[2]** Considera la ecuación $\\mathsf{U} \\cdot \\mathbf{x} = \\mathbf{c}$, en la cual $\\mathsf{U}$ es una matriz triangular superior (\"*U*pper triangular\").\n",
    "\n",
    "(i) ¿Cuál es la condición para que una matriz $\\mathsf{A}$ sea triangular superior, en términos de sus entradas $A_{ij}$? "
   ]
  },
  {
   "cell_type": "markdown",
   "metadata": {},
   "source": [
    "La condición para que la matriz sea triangular superior es $A_{ij} = 0$ para $i > j$."
   ]
  },
  {
   "cell_type": "markdown",
   "metadata": {},
   "source": [
    "(ii) ¿Cómo se puede resolver esta ecuación? Piensa primero en un caso chiquito, e.g. $3 \\times 3$ con entradas $U_{11}$ etc., para que puedas hacer todo explícitamente."
   ]
  },
  {
   "cell_type": "code",
   "execution_count": 13,
   "metadata": {
    "collapsed": false
   },
   "outputs": [
    {
     "data": {
      "text/plain": [
       "3×4 Array{Int64,2}:\n",
       " 1  2   3  1\n",
       " 0  2  -1  2\n",
       " 0  0   1  1"
      ]
     },
     "execution_count": 13,
     "metadata": {},
     "output_type": "execute_result"
    }
   ],
   "source": [
    "A =[1 2 3 1\n",
    "    0 2 -1 2\n",
    "    0 0 1 1]"
   ]
  },
  {
   "cell_type": "code",
   "execution_count": 10,
   "metadata": {
    "collapsed": false
   },
   "outputs": [
    {
     "data": {
      "text/plain": [
       "Array{Int64,2}"
      ]
     },
     "execution_count": 10,
     "metadata": {},
     "output_type": "execute_result"
    }
   ],
   "source": [
    "typeof(ans)"
   ]
  },
  {
   "cell_type": "code",
   "execution_count": 24,
   "metadata": {
    "collapsed": false
   },
   "outputs": [
    {
     "data": {
      "text/plain": [
       "0"
      ]
     },
     "execution_count": 24,
     "metadata": {},
     "output_type": "execute_result"
    }
   ],
   "source": [
    "A[2,1]"
   ]
  },
  {
   "cell_type": "code",
   "execution_count": 26,
   "metadata": {
    "collapsed": false
   },
   "outputs": [
    {
     "data": {
      "text/plain": [
       "5-element Array{Int64,1}:\n",
       " -1\n",
       "  1\n",
       "  1\n",
       "  2\n",
       "  1"
      ]
     },
     "execution_count": 26,
     "metadata": {},
     "output_type": "execute_result"
    }
   ],
   "source": [
    "A[8:end]"
   ]
  },
  {
   "cell_type": "markdown",
   "metadata": {},
   "source": [
    "(iii) Implementa este método para una matriz triangular superior arbitraria."
   ]
  },
  {
   "cell_type": "code",
   "execution_count": 28,
   "metadata": {
    "collapsed": false
   },
   "outputs": [
    {
     "data": {
      "text/plain": [
       "resolver (generic function with 1 method)"
      ]
     },
     "execution_count": 28,
     "metadata": {},
     "output_type": "execute_result"
    }
   ],
   "source": [
    "function resolver(A)\n",
    "    # Para encontrar c's\n",
    "    #c1 = \n",
    "    # Para resolver una matriz 3x3\n",
    "    A[3,3] = (A[2,:]) #- c1 * A[1,:])\n",
    "    A[2,:] - (A[3,:]) #- c2 * A[1,:])\n",
    "    A[4,:] - (A[4,:]) #- c3 * A[1,:])\n",
    "    \n",
    "    return A[10:end]\n",
    "\n",
    "end "
   ]
  },
  {
   "cell_type": "code",
   "execution_count": null,
   "metadata": {
    "collapsed": true
   },
   "outputs": [],
   "source": []
  },
  {
   "cell_type": "markdown",
   "metadata": {},
   "source": [
    "(iv) Verifica que tu método numérico funciona, es decir ¡que el resultado sí sea una solución de la ecuación original!"
   ]
  },
  {
   "cell_type": "code",
   "execution_count": 29,
   "metadata": {
    "collapsed": false
   },
   "outputs": [
    {
     "ename": "LoadError",
     "evalue": "BoundsError: attempt to access 3×4 Array{Int64,2} at index [4,Colon()]",
     "output_type": "error",
     "traceback": [
      "BoundsError: attempt to access 3×4 Array{Int64,2} at index [4,Colon()]",
      "",
      " in throw_boundserror(::Array{Int64,2}, ::Tuple{Int64,Colon}) at ./abstractarray.jl:355",
      " in checkbounds at ./abstractarray.jl:284 [inlined]",
      " in _getindex at ./multidimensional.jl:270 [inlined]",
      " in getindex at ./abstractarray.jl:752 [inlined]",
      " in resolver(::Array{Int64,2}) at ./In[28]:7"
     ]
    }
   ],
   "source": [
    "resolver(A)"
   ]
  },
  {
   "cell_type": "markdown",
   "metadata": {},
   "source": [
    "**[3]** (i) Escribe, a mano, el método de eliminación gaussiana para reducir una matriz de $2 \\times 2$ a una matriz triangular superior, en términos de operaciones de renglón. ¿Qué se debe hacer al lado derecho de la ecuación? Supón (por el momento) que no hay problemas con dividir por cero. \n",
    "\n",
    "(ii) Impleméntalo numéricamente. Utiliza tu código para resolver el sistema de ecuaciones lineales\n",
    "\n",
    "\\begin{align} \n",
    "    3x + 7y &= 1; \\\\\n",
    "    2x + 4y &= 1.\n",
    "\\end{align}\n",
    "\n",
    "Por supuesto, ¡debes verificar que la solución que encuentres realmente sí sea solución de la ecuación!"
   ]
  },
  {
   "cell_type": "code",
   "execution_count": null,
   "metadata": {
    "collapsed": true
   },
   "outputs": [],
   "source": [
    "function resolver(A)\n",
    "    # Para encontrar c's\n",
    "    #c1 = \n",
    "    # Para resolver una matriz 3x3\n",
    "    A[2,:] - (A[2,:]) #- c1 * A[1,:])\n",
    "    A[2,:] - (A[3,:]) #- c2 * A[1,:])\n",
    "    A[4,:] - (A[4,:]) #- c3 * A[1,:])\n",
    "    \n",
    "    return A[10:end]\n",
    "\n",
    "end "
   ]
  },
  {
   "cell_type": "markdown",
   "metadata": {},
   "source": [
    "**[4]** (i) Implementa el método de eliminación gaussiana para una matriz de tamaño $3 \\times 3$,  y luego para una matriz arbitraria, para resolver la ecuación (1). Para eso, escribe una función que reduzca una matriz arbitraria a una triangular superior, y luego utiliza la función que ya tienes para resolver el sistema triangular superior. [Sigue suponiendo que no haya divisiones entre 0.]\n",
    "\n",
    "(ii) Utiliza tu código para resolver el sistema\n",
    "\n",
    "\\begin{align}\n",
    "    2x + y -  z &=   8; \\\\\n",
    "   -3x - y + 2z &= -11; \\\\\n",
    "   -2x + y + 2x &=  -3.\n",
    "\\end{align}"
   ]
  },
  {
   "cell_type": "markdown",
   "metadata": {},
   "source": [
    "**[5]** (i) El acto de llevar a cabo una operación de renglón (como las que se utilizan en la eliminación gaussiana) sobre una matriz $\\mathsf{A}$ se puede escribir como una multiplicación de $\\mathsf{A}$ con otra matriz $\\mathsf{L}$. ¿Cuál matriz $\\mathsf{L}$? ¿Qué propiedad tiene $\\mathsf{L}$?\n",
    "\n",
    "\n",
    "(ii) Considerando que el método de eliminación gaussiana consiste en una secuencia de operaciones de renglón, que son multiplicaciones por matrices $L_j$, y que produce una matriz triangular superior $U$, ¿cómo se puede escribir $U$ en términos de las $L_j$?\n",
    "\n",
    "(iii) Por lo tanto, ¿de qué forma se puede escribir $\\mathsf{A}$? \n",
    "\n",
    "(iv) ¿Qué implica esto si un problema consiste en resolver muchas ecuaciones de la forma $\\mathsf{A} \\cdot \\mathbf{x}^{(i)} = \\mathbf{b}^{(i)}$, para distintos lados derechos $\\mathbf{b}^{(i)}$?"
   ]
  },
  {
   "cell_type": "code",
   "execution_count": null,
   "metadata": {
    "collapsed": true
   },
   "outputs": [],
   "source": []
  },
  {
   "cell_type": "markdown",
   "metadata": {},
   "source": []
  }
 ],
 "metadata": {
  "kernelspec": {
   "display_name": "Julia 0.5.0",
   "language": "julia",
   "name": "julia-0.5"
  },
  "language_info": {
   "file_extension": ".jl",
   "mimetype": "application/julia",
   "name": "julia",
   "version": "0.5.0"
  },
  "toc": {
   "colors": {
    "hover_highlight": "#DAA520",
    "running_highlight": "#FF0000",
    "selected_highlight": "#FFD700"
   },
   "moveMenuLeft": true,
   "nav_menu": {
    "height": "49px",
    "width": "252px"
   },
   "navigate_menu": true,
   "number_sections": true,
   "sideBar": true,
   "threshold": "2",
   "toc_cell": false,
   "toc_section_display": "block",
   "toc_window_display": false
  }
 },
 "nbformat": 4,
 "nbformat_minor": 1
}

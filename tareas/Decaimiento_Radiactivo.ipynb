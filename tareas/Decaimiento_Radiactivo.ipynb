{
 "cells": [
  {
   "cell_type": "markdown",
   "metadata": {},
   "source": [
    "# Decaimiento Radiactivo\n",
    "### Integrantes\n",
    "#### Héctor Andrés Flores \n",
    "#### Alejandra Yuriko Yamamoto"
   ]
  },
  {
   "cell_type": "code",
   "execution_count": 13,
   "metadata": {
    "collapsed": false
   },
   "outputs": [
    {
     "data": {
      "text/plain": [
       "Plots.PyPlotBackend()"
      ]
     },
     "execution_count": 13,
     "metadata": {},
     "output_type": "execute_result"
    }
   ],
   "source": [
    "using Plots, LaTeXStrings\n",
    "pyplot()"
   ]
  },
  {
   "cell_type": "markdown",
   "metadata": {},
   "source": [
    "Teoría\n",
    "Problema Físico\n",
    "De MonteCarlo justificar cómo se obtiene la ecuación diferencial que describe el decaimiento radiactivo."
   ]
  },
  {
   "cell_type": "markdown",
   "metadata": {},
   "source": [
    "El problema que queremos resolver es simular cómo decae un número pequeño N de partículas radioactivas. Escencialmente, queremos determinar cuándo dicho decaimiento se comporta de manera exponencial y cuándo estocásticamente, es decir, contiene elementos de azar.\n",
    "\n",
    "El decaimiento radiactivo es un proceso natural en el cual una partícula, sin estimulación externa alguna, decae, convirtiéndose en otra partícula. Aún cuando la probabilidad de decaimiento en un intervalo de tiempo es contstante, justo cuando ésta decae es un evento aleatorio. De hecho, puesto que el momento exacto cuando una partícula decae es aleatorio, no importa qué tanto tiempo ha estado \"viva\" la partícula o si otras partícula ya han decaído. En otras palabras, la probabilidad de cualquier partícula que decae por intervalo unitario de tiempo es constante y una vez que decae, se pierde para siempre. Por supuesto, el número total de partículas disminuyen con el tiempo, así como el número de decaimientos, pero la probabilidad de cualquiera de estas partículas en decaer en un cierto intervalo de tiempo es siempre la misma constante simpre y cuando dicha partícula exista.\n",
    "\n",
    "Your problem is to simulate how a small number N of radioactive particles decay.3\n",
    "In particular, you are to determine when radioactive decay looks like exponential\n",
    "decay and when it looks stochastic (containing elements of chance).\n",
    "\n",
    "Spontaneous decay is a natural process in which a particle, with no external\n",
    "stimulation, decays into other particles. Even though the probability of decay of\n",
    "any one particle in any time interval is constant, just when it decays is a random\n",
    "event. Because the exact moment when any one particle decays is random, it does\n",
    "not matter how long the particle has been around or whether some other particles\n",
    "have decayed. In other words, the probability P of any one particle decaying per\n",
    "unit time interval is a constant, and when that particle decays, it is gone forever.\n",
    "Of course, as the total number of particles decreases with time, so will the number\n",
    "of decays, but the probability of any one particle decaying in some time interval is\n",
    "always the same constant as long as that particle exists.\n"
   ]
  },
  {
   "cell_type": "markdown",
   "metadata": {},
   "source": [
    "### Decaimiento Discreto"
   ]
  },
  {
   "cell_type": "markdown",
   "metadata": {},
   "source": [
    "Imagine having a sample of N(t) radioactive nuclei at time t. Let ΔN be the number of particles that decay in some small time interval Δt. We\n",
    "convert the statement “the probability P of any one particle decaying per unit time\n",
    "is a constant” into the equation.\n",
    "\n",
    "    $$\\frac{N(t)}{t}$$"
   ]
  },
  {
   "cell_type": "markdown",
   "metadata": {},
   "source": [
    "**[1]** Resolver la ecuación diferencial de decaimiento radiactivo mediante algún método visto en clase como Runge-Kutta\n",
    "        $$ \\frac{dN(t)}{dt} = - \\lambda N(t) $$\n"
   ]
  },
  {
   "cell_type": "markdown",
   "metadata": {},
   "source": [
    "#### Para una partícula"
   ]
  },
  {
   "cell_type": "code",
   "execution_count": null,
   "metadata": {
    "collapsed": true
   },
   "outputs": [],
   "source": [
    "# Queremos gráficas de escalones, 1 escalón para 1 partícula. N escalones que salen de 1 para N partículas. \n",
    "# Después gráficas para muuuchas N's y debería poderse ajustar una exponencial.\n",
    "# Modificar para distintas p's "
   ]
  },
  {
   "cell_type": "code",
   "execution_count": 1,
   "metadata": {
    "collapsed": false
   },
   "outputs": [
    {
     "data": {
      "text/plain": [
       "generador_num_aleatorio (generic function with 1 method)"
      ]
     },
     "execution_count": 1,
     "metadata": {},
     "output_type": "execute_result"
    }
   ],
   "source": [
    "function generador_num_aleatorio(a, c, xn, n)\n",
    "    Xn = [xn]\n",
    "    for i in 1:n\n",
    "        xn1 = a*Xn[i] + c\n",
    "        #@show i, Xn[i], xn1\n",
    "        push!(Xn, xn1)\n",
    "    end\n",
    "    return pop!(Xn)\n",
    "end"
   ]
  },
  {
   "cell_type": "code",
   "execution_count": 2,
   "metadata": {
    "collapsed": false
   },
   "outputs": [
    {
     "data": {
      "text/plain": [
       "normalizar (generic function with 1 method)"
      ]
     },
     "execution_count": 2,
     "metadata": {},
     "output_type": "execute_result"
    }
   ],
   "source": [
    "# Ahora convertimos los números aleatorios entre 0 y 1. Normalizamos\n",
    "function normalizar(num)\n",
    "    return num/typemax(UInt64)\n",
    "end"
   ]
  },
  {
   "cell_type": "code",
   "execution_count": 6,
   "metadata": {
    "collapsed": true
   },
   "outputs": [],
   "source": [
    "a = UInt64(6364136223846793005)\n",
    "c = UInt64(1442695040888963407)\n",
    "xn = UInt64(598);"
   ]
  },
  {
   "cell_type": "code",
   "execution_count": 7,
   "metadata": {
    "collapsed": false
   },
   "outputs": [
    {
     "data": {
      "text/plain": [
       "0x6375dd4fdc9e946d"
      ]
     },
     "execution_count": 7,
     "metadata": {},
     "output_type": "execute_result"
    }
   ],
   "source": [
    "generador_num_aleatorio(a, c, xn, 1)"
   ]
  },
  {
   "cell_type": "code",
   "execution_count": 8,
   "metadata": {
    "collapsed": false
   },
   "outputs": [
    {
     "data": {
      "text/plain": [
       "0.3885172195410809"
      ]
     },
     "execution_count": 8,
     "metadata": {},
     "output_type": "execute_result"
    }
   ],
   "source": [
    "normalizar(ans)"
   ]
  },
  {
   "cell_type": "code",
   "execution_count": null,
   "metadata": {
    "collapsed": false
   },
   "outputs": [],
   "source": [
    "typeof(ans)"
   ]
  },
  {
   "cell_type": "code",
   "execution_count": null,
   "metadata": {
    "collapsed": true
   },
   "outputs": [],
   "source": [
    "# Función que genere números aleatorios y los normalice"
   ]
  },
  {
   "cell_type": "code",
   "execution_count": null,
   "metadata": {
    "collapsed": false
   },
   "outputs": [],
   "source": [
    "xx= 2\n",
    "contador = 1\n",
    "if xx <1\n",
    "    contador = contador\n",
    "else\n",
    "    contador += contador\n",
    "end\n",
    "return contador"
   ]
  },
  {
   "cell_type": "code",
   "execution_count": 14,
   "metadata": {
    "collapsed": false
   },
   "outputs": [
    {
     "data": {
      "text/plain": [
       "0.5"
      ]
     },
     "execution_count": 14,
     "metadata": {},
     "output_type": "execute_result"
    }
   ],
   "source": [
    "1/2"
   ]
  },
  {
   "cell_type": "code",
   "execution_count": 15,
   "metadata": {
    "collapsed": false
   },
   "outputs": [
    {
     "data": {
      "text/plain": [
       "Float64"
      ]
     },
     "execution_count": 15,
     "metadata": {},
     "output_type": "execute_result"
    }
   ],
   "source": [
    "typeof(ans)"
   ]
  },
  {
   "cell_type": "code",
   "execution_count": 20,
   "metadata": {
    "collapsed": false
   },
   "outputs": [
    {
     "data": {
      "text/plain": [
       "0.5598968038501513"
      ]
     },
     "execution_count": 20,
     "metadata": {},
     "output_type": "execute_result"
    }
   ],
   "source": [
    "rr = rand()"
   ]
  },
  {
   "cell_type": "code",
   "execution_count": 21,
   "metadata": {
    "collapsed": false
   },
   "outputs": [
    {
     "data": {
      "text/plain": [
       "Float64"
      ]
     },
     "execution_count": 21,
     "metadata": {},
     "output_type": "execute_result"
    }
   ],
   "source": [
    "typeof(ans)"
   ]
  },
  {
   "cell_type": "code",
   "execution_count": 23,
   "metadata": {
    "collapsed": false
   },
   "outputs": [
    {
     "data": {
      "text/plain": [
       "0x0000000000000003"
      ]
     },
     "execution_count": 23,
     "metadata": {},
     "output_type": "execute_result"
    }
   ],
   "source": [
    "UInt64(3.0)"
   ]
  },
  {
   "cell_type": "code",
   "execution_count": null,
   "metadata": {
    "collapsed": true
   },
   "outputs": [],
   "source": [
    "generador_num_aleatorio(a, c, xn, n)"
   ]
  },
  {
   "cell_type": "code",
   "execution_count": 16,
   "metadata": {
    "collapsed": false
   },
   "outputs": [
    {
     "name": "stderr",
     "output_type": "stream",
     "text": [
      "WARNING: Method definition Decaimiento1N(Any, Float64) in module Main at In[10]:4 overwritten at In[16]:4.\n"
     ]
    },
    {
     "data": {
      "text/plain": [
       "Decaimiento1N (generic function with 1 method)"
      ]
     },
     "execution_count": 16,
     "metadata": {},
     "output_type": "execute_result"
    }
   ],
   "source": [
    "# Para una cierta probabilidad P\n",
    "function Decaimiento1N(N, p::Float64)\n",
    "    \n",
    "    N = 1 # 1 partícula\n",
    "    \n",
    "    # Parámetros para la función 'generador_num_aleat'\n",
    "    a = UInt64(6364136223846793005)\n",
    "    c = UInt64(1442695040888963407)\n",
    "    \n",
    "    n = 1 \n",
    "    \n",
    "    t0 = 0 # Tiempo inicial\n",
    "    #ΔN = 0 #\n",
    "    ts = [t0]\n",
    "    Ns = [N]\n",
    "    \n",
    "    while N > 0\n",
    "        s = rand()\n",
    "        xn = UInt64(s)\n",
    "        aleat = generador_num_aleatorio(a, c, xn, n)\n",
    "        num_aleat = normalizar(aleat)  # Genera un número aleatorio entre 0 y 1\n",
    "        \n",
    "        #@show num_aleat\n",
    "        \n",
    "        if num_aleat <= p\n",
    "            N = N\n",
    "        else\n",
    "            N -= N\n",
    "        end\n",
    "\n",
    "        #@show N, t0, ts\n",
    "        t0 += t0\n",
    "        push!(ts, t0)\n",
    "        push!(Ns, N)\n",
    "            \n",
    "    end\n",
    "\n",
    "    return Ns, ts\n",
    "end"
   ]
  },
  {
   "cell_type": "code",
   "execution_count": 17,
   "metadata": {
    "collapsed": false
   },
   "outputs": [
    {
     "ename": "LoadError",
     "evalue": "InexactError()",
     "output_type": "error",
     "traceback": [
      "InexactError()",
      "",
      " in Decaimiento1N(::Int64, ::Float64) at ./In[16]:19"
     ]
    }
   ],
   "source": [
    "Decaimiento1N(1, 1/2)"
   ]
  },
  {
   "cell_type": "code",
   "execution_count": null,
   "metadata": {
    "collapsed": true
   },
   "outputs": [],
   "source": [
    "function mi_caminante(s, n, x0=0, p=1/2)\n",
    "    a = UInt64(6364136223846793005)\n",
    "    c = UInt64(1442695040888963407)\n",
    "    s = x_global\n",
    "    contador = x0\n",
    "    for i in 1:n\n",
    "    n_al = mi_rand()\n",
    "    num_aleat = normalizar(n_al)\n",
    "        if num_aleat <= 0.50\n",
    "            contador = contador - 1\n",
    "        else \n",
    "            contador = contador + 1 \n",
    "        end\n",
    "        @show i, num_aleat, contador\n",
    "    end\n",
    "    return contador\n",
    "end"
   ]
  },
  {
   "cell_type": "code",
   "execution_count": null,
   "metadata": {
    "collapsed": true
   },
   "outputs": [],
   "source": [
    "# Con manipulate, para varias probabilidades\n",
    "function DecaimientoN()"
   ]
  },
  {
   "cell_type": "markdown",
   "metadata": {},
   "source": [
    "#### Para N partículas"
   ]
  },
  {
   "cell_type": "code",
   "execution_count": null,
   "metadata": {
    "collapsed": false
   },
   "outputs": [],
   "source": [
    "# Por método de Euler\n",
    "\n",
    "function Euler(f::Function, x0::Real, t0::Real, tf::Real, h::Real)\n",
    "   \n",
    "    # Condiciones iniciales\n",
    "    #f = f(x0, t0)\n",
    "   \n",
    "     # Arreglos con condiciones iniciales\n",
    "    Xs = Float64[x0]\n",
    "    Ts = collect(t0:h:tf) # Arreglo que contiene los tiempos\n",
    "    \n",
    "    for i in 1:length(Ts)-1\n",
    "    \n",
    "        x = h * f(Xs[i], Ts[i]) + Xs[i]\n",
    "        push!(Xs, x)\n",
    "\n",
    "    end\n",
    "    \n",
    "    return Ts, Xs\n",
    "    \n",
    "end"
   ]
  },
  {
   "cell_type": "code",
   "execution_count": null,
   "metadata": {
    "collapsed": false
   },
   "outputs": [],
   "source": [
    "f(N,t) = -λ * N\n",
    "λ = 0.3e6"
   ]
  },
  {
   "cell_type": "code",
   "execution_count": null,
   "metadata": {
    "collapsed": false
   },
   "outputs": [],
   "source": [
    "Euler(f, 1, 0, 10, 0.2)"
   ]
  },
  {
   "cell_type": "code",
   "execution_count": null,
   "metadata": {
    "collapsed": true
   },
   "outputs": [],
   "source": [
    "# Decaimiento Discreto\n",
    "function Decaimiento(N, λ)\n",
    "    t0 = 0 #tiempo inicial 0\n",
    "    while N > 0\n",
    "        ΔN = 0\n",
    "        for i in 1:N\n",
    "            if ( r _ i < lambda ) DeltaN = DeltaN + 1\n",
    "    end f o r\n",
    "    t = t +1\n",
    "    N = N− DeltaN\n",
    "    Output t , DeltaN , N\n",
    "end"
   ]
  }
 ],
 "metadata": {
  "kernelspec": {
   "display_name": "Julia 0.5.0",
   "language": "julia",
   "name": "julia-0.5"
  },
  "language_info": {
   "file_extension": ".jl",
   "mimetype": "application/julia",
   "name": "julia",
   "version": "0.5.0"
  }
 },
 "nbformat": 4,
 "nbformat_minor": 2
}

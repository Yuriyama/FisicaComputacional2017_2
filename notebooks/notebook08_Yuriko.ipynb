{
 "cells": [
  {
   "cell_type": "markdown",
   "metadata": {},
   "source": [
    "# ¡Calculemos $\\pi$ de muchas maneras!"
   ]
  },
  {
   "cell_type": "markdown",
   "metadata": {},
   "source": [
    "¡Hoy es el día de $\\pi$! La fecha de hoy es el 14 de marzo del 2017, o sea 3-14, los cuales son los primeros dígitos de $\\pi$, y por lo tanto se ha designado como [el día de $\\pi$](https://en.wikipedia.org/wiki/Pi_Day).\n",
    "\n",
    "En honor a este evento importante, veremos unos métodos para calcular $\\pi$ usando distintas técnicas numéricas. Algunas serán aplicaciones de técnicas que ya vimos, mientras que otras serán un avance de técnicas por verse más adelante en el curso.\n",
    "\n",
    "En cada caso, las metas son las siguientes, como en casi cualquier problema de cómputo científico:\n",
    "\n",
    "- Entender el problema matemático y su relación con $\\pi$ (es decir, cómo ocurre $\\pi$ como solución al problema matemático).\n",
    "- Desarrollar e implementar un método numérico correspondiente.\n",
    "- Entender cuáles son las propiedades de convergencia del método e intentar sacar el mayor precisión (número de dígitos de $\\pi$) posible."
   ]
  },
  {
   "cell_type": "markdown",
   "metadata": {},
   "source": [
    "## $\\pi$ como una raíz"
   ]
  },
  {
   "cell_type": "code",
   "execution_count": 1,
   "metadata": {
    "collapsed": false
   },
   "outputs": [
    {
     "data": {
      "text/plain": [
       "Plots.PyPlotBackend()"
      ]
     },
     "execution_count": 1,
     "metadata": {},
     "output_type": "execute_result"
    }
   ],
   "source": [
    "using Plots\n",
    "pyplot()"
   ]
  },
  {
   "cell_type": "markdown",
   "metadata": {},
   "source": [
    "**[1]** ¿Para cuál función trigonométrica es $\\pi$ una raíz? Usa esto para calcular $\\pi$ con el mayor número de dígitos posible. (¿Cuál método numérico podríamos utilizar para calcular la función trigonométrica si lo tuviéramos que hacer nosotros? Hazlo si tienes ganas.)"
   ]
  },
  {
   "cell_type": "code",
   "execution_count": 2,
   "metadata": {
    "collapsed": false
   },
   "outputs": [
    {
     "data": {
      "text/plain": [
       "Newton (generic function with 1 method)"
      ]
     },
     "execution_count": 2,
     "metadata": {},
     "output_type": "execute_result"
    }
   ],
   "source": [
    "function Newton(f::Function, fp, x0::Number, n)\n",
    "    xx = Number[x0]\n",
    "    yy = Number[]\n",
    "    for i in 1:n\n",
    "        y = f(xx[i])\n",
    "        dy = fp(xx[i])\n",
    "        xn = xx[i] - y/dy\n",
    "        push!(yy, xn)\n",
    "        push!(xx, xn)\n",
    "        #@show i, y, dy, v\n",
    "    end\n",
    "    pop!(xx)\n",
    "    return xx, yy\n",
    "end"
   ]
  },
  {
   "cell_type": "code",
   "execution_count": 3,
   "metadata": {
    "collapsed": false
   },
   "outputs": [
    {
     "data": {
      "text/plain": [
       "hp (generic function with 1 method)"
      ]
     },
     "execution_count": 3,
     "metadata": {},
     "output_type": "execute_result"
    }
   ],
   "source": [
    "h(x)=sin(x)\n",
    "hp(x)=cos(x)"
   ]
  },
  {
   "cell_type": "code",
   "execution_count": 4,
   "metadata": {
    "collapsed": false
   },
   "outputs": [
    {
     "data": {
      "text/plain": [
       "(Number[2,4.18504,2.46789,3.26619,3.14094,3.14159,3.14159,3.14159,3.14159,3.14159  …  3.14159,3.14159,3.14159,3.14159,3.14159,3.14159,3.14159,3.14159,3.14159,3.14159],Number[4.18504,2.46789,3.26619,3.14094,3.14159,3.14159,3.14159,3.14159,3.14159,3.14159  …  3.14159,3.14159,3.14159,3.14159,3.14159,3.14159,3.14159,3.14159,3.14159,3.14159])"
      ]
     },
     "execution_count": 4,
     "metadata": {},
     "output_type": "execute_result"
    }
   ],
   "source": [
    "a, b = Newton(h, hp, 2, 100)"
   ]
  },
  {
   "cell_type": "code",
   "execution_count": 5,
   "metadata": {
    "collapsed": false
   },
   "outputs": [
    {
     "data": {
      "text/plain": [
       "3.141592653589793"
      ]
     },
     "execution_count": 5,
     "metadata": {},
     "output_type": "execute_result"
    }
   ],
   "source": [
    "a[end]"
   ]
  },
  {
   "cell_type": "markdown",
   "metadata": {},
   "source": [
    "### Matrices"
   ]
  },
  {
   "cell_type": "code",
   "execution_count": 6,
   "metadata": {
    "collapsed": false
   },
   "outputs": [
    {
     "data": {
      "text/plain": [
       "6×6 Array{Int64,2}:\n",
       " 2  3  4   5   6   7\n",
       " 3  4  5   6   7   8\n",
       " 4  5  6   7   8   9\n",
       " 5  6  7   8   9  10\n",
       " 6  7  8   9  10  11\n",
       " 7  8  9  10  11  12"
      ]
     },
     "execution_count": 6,
     "metadata": {},
     "output_type": "execute_result"
    }
   ],
   "source": [
    "[i+j for i in 1:6, j in 1:6]"
   ]
  },
  {
   "cell_type": "code",
   "execution_count": 7,
   "metadata": {
    "collapsed": false
   },
   "outputs": [
    {
     "data": {
      "text/plain": [
       "6×6 Array{Int64,2}:\n",
       " 2  3  4   5   6   7\n",
       " 3  4  5   6   7   8\n",
       " 4  5  6   7   8   9\n",
       " 5  6  7   8   9  10\n",
       " 6  7  8   9  10  11\n",
       " 7  8  9  10  11  12"
      ]
     },
     "execution_count": 7,
     "metadata": {},
     "output_type": "execute_result"
    }
   ],
   "source": [
    "f(x,y) = x + y\n",
    "[f(i,j) for i in 1:6, j in 1:6]"
   ]
  },
  {
   "cell_type": "code",
   "execution_count": 8,
   "metadata": {
    "collapsed": false
   },
   "outputs": [
    {
     "data": {
      "text/plain": [
       "12-element Array{Int64,1}:\n",
       " 20\n",
       " 22\n",
       " 24\n",
       " 22\n",
       " 24\n",
       " 26\n",
       " 24\n",
       " 26\n",
       " 26\n",
       " 28\n",
       " 28\n",
       " 30"
      ]
     },
     "execution_count": 8,
     "metadata": {},
     "output_type": "execute_result"
    }
   ],
   "source": [
    "[f(i,j) for i in 10:16 for j in i:15 if (i+j)%2==0]"
   ]
  },
  {
   "cell_type": "code",
   "execution_count": 9,
   "metadata": {
    "collapsed": false
   },
   "outputs": [
    {
     "data": {
      "text/plain": [
       "7×6 Array{Tuple{Int64,Int64},2}:\n",
       " (10,1)  (10,2)  (10,3)  (10,4)  (10,5)  (10,6)\n",
       " (11,1)  (11,2)  (11,3)  (11,4)  (11,5)  (11,6)\n",
       " (12,1)  (12,2)  (12,3)  (12,4)  (12,5)  (12,6)\n",
       " (13,1)  (13,2)  (13,3)  (13,4)  (13,5)  (13,6)\n",
       " (14,1)  (14,2)  (14,3)  (14,4)  (14,5)  (14,6)\n",
       " (15,1)  (15,2)  (15,3)  (15,4)  (15,5)  (15,6)\n",
       " (16,1)  (16,2)  (16,3)  (16,4)  (16,5)  (16,6)"
      ]
     },
     "execution_count": 9,
     "metadata": {},
     "output_type": "execute_result"
    }
   ],
   "source": [
    "[(i,j) for i in 10:16, j in 1:6]"
   ]
  },
  {
   "cell_type": "markdown",
   "metadata": {},
   "source": [
    "## $\\pi$ y el círculo"
   ]
  },
  {
   "cell_type": "markdown",
   "metadata": {},
   "source": [
    "**[2]** (i) ¿Cuál es el área de un disco de radio $r$? Así, ¿cuál es el área de un disco de radio $1$?"
   ]
  },
  {
   "cell_type": "markdown",
   "metadata": {},
   "source": [
    "El área de un disco está dado por:\n",
    "        $$A = \\pi r^2$$\n",
    "Así que el área de un disco de radio 1 es $A = \\pi$"
   ]
  },
  {
   "cell_type": "code",
   "execution_count": 10,
   "metadata": {
    "collapsed": false
   },
   "outputs": [
    {
     "data": {
      "text/plain": [
       "área_disco (generic function with 1 method)"
      ]
     },
     "execution_count": 10,
     "metadata": {},
     "output_type": "execute_result"
    }
   ],
   "source": [
    "área_disco(r) = π * r^2 "
   ]
  },
  {
   "cell_type": "code",
   "execution_count": 11,
   "metadata": {
    "collapsed": false
   },
   "outputs": [
    {
     "data": {
      "text/plain": [
       "3.141592653589793"
      ]
     },
     "execution_count": 11,
     "metadata": {},
     "output_type": "execute_result"
    }
   ],
   "source": [
    "área_disco(1)"
   ]
  },
  {
   "cell_type": "markdown",
   "metadata": {},
   "source": [
    "(ii) ¿Cuál es la condición para que un punto $(x, y)$ caiga adentro de un disco de radio $r$?"
   ]
  },
  {
   "cell_type": "code",
   "execution_count": null,
   "metadata": {
    "collapsed": true
   },
   "outputs": [],
   "source": []
  },
  {
   "cell_type": "markdown",
   "metadata": {},
   "source": [
    "(iii) Usemos el método de \"pintar\" como sigue. Considera una caja cuadrada que contenga el disco. Divídelo en cuadritos [pista: usar la función `linspace` para dividirlo en $L$ partes en la dirección $x$ y $L$ en la dirección $y$, por separado]. Para cada cuadrito, aproxima si el cae o no adentro del disco al checar si su punto céntrico lo hace. Dibuja el resultado, con un calor para las cajas que caigan adentro, y otro para los que caigan afuera."
   ]
  },
  {
   "cell_type": "code",
   "execution_count": 12,
   "metadata": {
    "collapsed": false
   },
   "outputs": [
    {
     "data": {
      "text/plain": [
       "malla (generic function with 1 method)"
      ]
     },
     "execution_count": 12,
     "metadata": {},
     "output_type": "execute_result"
    }
   ],
   "source": [
    "function malla(L, r)\n",
    "    v = zeros(r, r)\n",
    "    x = collect(linspace(-L/2, L/2, r))\n",
    "    #y = collect(linspace(-L/2, L/2, r))\n",
    "    \n",
    "    for i in 1:r\n",
    "        for j in 1:r\n",
    "            if x[i]^2 + x[j]^2 <= (L/2)^2\n",
    "                v[i, j] = (L/r)^2\n",
    "            end\n",
    "        end\n",
    "    end\n",
    "    return v\n",
    "end"
   ]
  },
  {
   "cell_type": "code",
   "execution_count": null,
   "metadata": {
    "collapsed": true
   },
   "outputs": [],
   "source": [
    "function malla(L, r)\n",
    "    v = zeros(r, r)\n",
    "    x = collect(linspace(-L/2, L/2, r))\n",
    "    #y = collect(linspace(-L/2, L/2, r))\n",
    "    \n",
    "    for i in 1:r\n",
    "        for j in 1:r\n",
    "            if x[i]^2 + x[j]^2 <= (L/2)^2\n",
    "                v[i, j] = 1\n",
    "            end\n",
    "        end\n",
    "    end\n",
    "    return v\n",
    "end"
   ]
  },
  {
   "cell_type": "code",
   "execution_count": 13,
   "metadata": {
    "collapsed": false
   },
   "outputs": [
    {
     "data": {
      "text/plain": [
       "10×10 Array{Float64,2}:\n",
       " 0.0  0.0   0.0   0.0   0.0   0.0   0.0   0.0   0.0   0.0\n",
       " 0.0  0.0   0.01  0.01  0.01  0.01  0.01  0.01  0.0   0.0\n",
       " 0.0  0.01  0.01  0.01  0.01  0.01  0.01  0.01  0.01  0.0\n",
       " 0.0  0.01  0.01  0.01  0.01  0.01  0.01  0.01  0.01  0.0\n",
       " 0.0  0.01  0.01  0.01  0.01  0.01  0.01  0.01  0.01  0.0\n",
       " 0.0  0.01  0.01  0.01  0.01  0.01  0.01  0.01  0.01  0.0\n",
       " 0.0  0.01  0.01  0.01  0.01  0.01  0.01  0.01  0.01  0.0\n",
       " 0.0  0.01  0.01  0.01  0.01  0.01  0.01  0.01  0.01  0.0\n",
       " 0.0  0.0   0.01  0.01  0.01  0.01  0.01  0.01  0.0   0.0\n",
       " 0.0  0.0   0.0   0.0   0.0   0.0   0.0   0.0   0.0   0.0"
      ]
     },
     "execution_count": 13,
     "metadata": {},
     "output_type": "execute_result"
    }
   ],
   "source": [
    "a = malla(1, 10)"
   ]
  },
  {
   "cell_type": "code",
   "execution_count": 14,
   "metadata": {
    "collapsed": false
   },
   "outputs": [
    {
     "data": {
      "text/plain": [
       "0.6000000000000003"
      ]
     },
     "execution_count": 14,
     "metadata": {},
     "output_type": "execute_result"
    }
   ],
   "source": [
    "sum(a)"
   ]
  },
  {
   "cell_type": "code",
   "execution_count": 15,
   "metadata": {
    "collapsed": false
   },
   "outputs": [
    {
     "data": {
      "text/html": [
       "<img src=\"data:image/png;base64,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\" />"
      ]
     },
     "execution_count": 15,
     "metadata": {},
     "output_type": "execute_result"
    },
    {
     "name": "stderr",
     "output_type": "stream",
     "text": [
      "/usr/local/lib/python2.7/site-packages/matplotlib/collections.py:590: FutureWarning: elementwise comparison failed; returning scalar instead, but in the future will perform elementwise comparison\n",
      "  if self._edgecolors == str('face'):\n"
     ]
    }
   ],
   "source": [
    "heatmap(a)"
   ]
  },
  {
   "cell_type": "code",
   "execution_count": 16,
   "metadata": {
    "collapsed": false
   },
   "outputs": [
    {
     "data": {
      "text/plain": [
       "3×3 Array{Number,2}:\n",
       " 0  0  0\n",
       " 0  0  0\n",
       " 0  0  0"
      ]
     },
     "execution_count": 16,
     "metadata": {},
     "output_type": "execute_result"
    }
   ],
   "source": [
    "M = zeros(Number, 3, 3)"
   ]
  },
  {
   "cell_type": "code",
   "execution_count": null,
   "metadata": {
    "collapsed": true
   },
   "outputs": [],
   "source": []
  },
  {
   "cell_type": "markdown",
   "metadata": {},
   "source": [
    "(iv) Así, calcula el área aproximada del disco. ¿A qué operación matemática corresponde el cálculo de un área de esta forma? Utiliza el resultado para calcular $\\pi$."
   ]
  },
  {
   "cell_type": "code",
   "execution_count": null,
   "metadata": {
    "collapsed": true
   },
   "outputs": [],
   "source": []
  },
  {
   "cell_type": "markdown",
   "metadata": {},
   "source": [
    "(v) Si cambias $N$, ¿cuánto trabajo tendrás que hacer? Estima (analíticamente) la **complejidad computacional**, es decir, el número (aproximado) de operaciones como función de $N$. ¿Cómo puedes estimar el error que cometerás para el área? "
   ]
  },
  {
   "cell_type": "markdown",
   "metadata": {
    "collapsed": true
   },
   "source": [
    "(vi) Calcula numéricamente el error (desde el valor exacto de $\\pi$) en función de $L$. ¿Cómo converge?"
   ]
  },
  {
   "cell_type": "markdown",
   "metadata": {},
   "source": [
    "**[3]** (i) ¿Cuál es la circunferencia de un círculo de radio $r$?\n",
    "\n",
    "(ii) Usa el método de \"pintar\" pero sólo pintando los cuadritos que están \"en el círculo\". [Pista: Puedes aproximar esto diciendo que el centro del cuadrito esté dentro de una cierta tolerancia de la frontera. ¿Cuál tolerancia sería razonable utilizar?]\n",
    "\n",
    "(iii) Así, calcula el valor de $\\pi$ en función de $L$, y encuentra la tasa de convergencia."
   ]
  },
  {
   "cell_type": "markdown",
   "metadata": {},
   "source": [
    "## $\\pi$ como una integral"
   ]
  },
  {
   "cell_type": "markdown",
   "metadata": {},
   "source": [
    "**[4]** (i) Pensando de nuevo en el disco de radio $r$, enfoquémonos en el cuadrante positivo ($x \\ge 0$ y $y \\ge 0$).\n",
    "Escribe el área del cuadrante como una integral sobre $x$. [Pista: dada $x$, cuál es el valor de $y$ correspondiente sobre el círculo?\n",
    "\n",
    "(ii) Divide el intervalo en $x$ en $L$ partes y utiliza una integral de Riemann para aproximar el área, y así calcular $\\pi$. [Pista: ¿cuál es un valor del radio $r$ útil?]\n",
    "\n",
    "(iii) ¿Cómo converge en función de $L$ el error? Dibújalo."
   ]
  },
  {
   "cell_type": "markdown",
   "metadata": {},
   "source": [
    "## Un método azaroso: tirar dardos"
   ]
  },
  {
   "cell_type": "markdown",
   "metadata": {},
   "source": [
    "**[5]** Más adelante en el curso, veremos que los **métodos Monte Carlo**, o métodos azarosos, pueden ser útiles. Veremos un primer ejemplo aquí.\n",
    "\n",
    "Pensemos de nuevo en el disco, digamos de radio $1$. \n",
    "\n",
    "(i) Tiremos dardos a un cuadrado que contenga el disco, digamos $[-1,1] \\times [-1,1]$. Para hacerlo, utiliza la función `rand`, que genera números aleatorios distribuidos uniformemente entre $0$ y $1$. ¿Cómo puedes generar números uniformemente entre $-1$ y $1$?\n",
    "\n",
    "(ii) Genera $N$ puntos al azar en el cuadrado. Dibuja los puntos que caigan adentro del disco en un color, y los que caigan afuera en otro color.\n",
    "\n",
    "(iii) ¿Cuál será la relación entre las áreas y los números de puntos correspondientes? Así, estima el valor de $\\pi$.\n",
    "\n",
    "(iv) Para cada valor de $N$, repite el experimento varias veces y saca un promedio.\n",
    "\n",
    "(v) Dibuja el error de este promedio desde el valor exacto de $\\pi$, como función de $N$. ¿Cómo converge?"
   ]
  },
  {
   "cell_type": "markdown",
   "metadata": {},
   "source": [
    "## Series para $\\pi$"
   ]
  },
  {
   "cell_type": "markdown",
   "metadata": {},
   "source": [
    "**[6]** En uno de los primeros notebooks, vimos una serie infinita para $\\pi$, pero converge muy lento. Implementa algunos de estos algoritmos modernos y eficientes para calcular $\\pi$ y encuentra numéricamente cómo convergen [utiliza `BigFloat` cuando sea necesario]: \n",
    "\n",
    "https://en.wikipedia.org/wiki/Approximations_of_%CF%80#Development_of_efficient_formulae"
   ]
  }
 ],
 "metadata": {
  "kernelspec": {
   "display_name": "Julia 0.5.0",
   "language": "julia",
   "name": "julia-0.5"
  },
  "language_info": {
   "file_extension": ".jl",
   "mimetype": "application/julia",
   "name": "julia",
   "version": "0.5.0"
  }
 },
 "nbformat": 4,
 "nbformat_minor": 2
}

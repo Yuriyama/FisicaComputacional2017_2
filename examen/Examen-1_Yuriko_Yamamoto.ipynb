{
 "cells": [
  {
   "cell_type": "markdown",
   "metadata": {},
   "source": [
    "# Examen 1 - 27 febrero 2017"
   ]
  },
  {
   "cell_type": "code",
   "execution_count": 1,
   "metadata": {
    "collapsed": false
   },
   "outputs": [
    {
     "data": {
      "text/plain": [
       "Plots.PyPlotBackend()"
      ]
     },
     "execution_count": 1,
     "metadata": {},
     "output_type": "execute_result"
    }
   ],
   "source": [
    "using Plots, LaTeXStrings\n",
    "pyplot()"
   ]
  },
  {
   "cell_type": "markdown",
   "metadata": {},
   "source": [
    "#### [1] \n",
    "En esta pregunta, escribiremos una función para calcular $\\log(n!)$, es decir, el logaritmo del factorial de un número $n$."
   ]
  },
  {
   "cell_type": "markdown",
   "metadata": {},
   "source": [
    "#### (i) \n",
    "Utiliza un bucle `for` para escribir una función `log_factorial` que toma un argumento `n` y que calcula el logaritmo del factorial de `n`. Para hacerlo, recuerda que el logaritmo de un producto es la suma de los logaritmos. [La función \"logaritmo\" en Julia se llama `log`.]"
   ]
  },
  {
   "cell_type": "code",
   "execution_count": 3,
   "metadata": {
    "collapsed": false
   },
   "outputs": [
    {
     "name": "stdout",
     "output_type": "stream",
     "text": [
      "search: \u001b[1mf\u001b[22m\u001b[1ma\u001b[22m\u001b[1mc\u001b[22m\u001b[1mt\u001b[22m\u001b[1mo\u001b[22m\u001b[1mr\u001b[22m\u001b[1mi\u001b[22m\u001b[1ma\u001b[22m\u001b[1ml\u001b[22m \u001b[1mF\u001b[22m\u001b[1ma\u001b[22m\u001b[1mc\u001b[22m\u001b[1mt\u001b[22m\u001b[1mo\u001b[22m\u001b[1mr\u001b[22m\u001b[1mi\u001b[22mz\u001b[1ma\u001b[22mtion \u001b[1mf\u001b[22m\u001b[1ma\u001b[22m\u001b[1mc\u001b[22m\u001b[1mt\u001b[22m\u001b[1mo\u001b[22m\u001b[1mr\u001b[22m\u001b[1mi\u001b[22mze\n",
      "\n"
     ]
    }
   ],
   "source": [
    "?factorial;"
   ]
  },
  {
   "cell_type": "code",
   "execution_count": 5,
   "metadata": {
    "collapsed": false
   },
   "outputs": [
    {
     "data": {
      "text/plain": [
       "log_factorial"
      ]
     },
     "execution_count": 5,
     "metadata": {},
     "output_type": "execute_result"
    }
   ],
   "source": [
    "doc\"\"\"\n",
    "La función log_factorial(n) calcula el factorial de n y le aplica la función logartimo\n",
    "\"\"\"\n",
    "\n",
    "function log_factorial(n)\n",
    "    fact = []\n",
    "    \n",
    "    for i in 0:n-1\n",
    "        fac = big(n - i) \n",
    "        push!(fact, fac)\n",
    "    end\n",
    "    f = prod(fact)\n",
    "    l = log(f)\n",
    "    return l\n",
    "end"
   ]
  },
  {
   "cell_type": "code",
   "execution_count": 6,
   "metadata": {
    "collapsed": false
   },
   "outputs": [
    {
     "data": {
      "text/plain": [
       "1.791759469228055000812477358380702272722990692183004705855374343130887915188299"
      ]
     },
     "execution_count": 6,
     "metadata": {},
     "output_type": "execute_result"
    }
   ],
   "source": [
    "# Prueba de la función log_factorial\n",
    "log_factorial(3)"
   ]
  },
  {
   "cell_type": "code",
   "execution_count": 7,
   "metadata": {
    "collapsed": false
   },
   "outputs": [
    {
     "data": {
      "text/plain": [
       "1.791759469228055"
      ]
     },
     "execution_count": 7,
     "metadata": {},
     "output_type": "execute_result"
    }
   ],
   "source": [
    "# Prueba utilizando las funciones de Julia\n",
    "log(factorial(3))"
   ]
  },
  {
   "cell_type": "markdown",
   "metadata": {},
   "source": [
    "(ii) Utiliza una comprensión de arreglo para calcular $\\log(n!)$ para $n$ de 1 a 100."
   ]
  },
  {
   "cell_type": "code",
   "execution_count": 8,
   "metadata": {
    "collapsed": false
   },
   "outputs": [
    {
     "data": {
      "text/plain": [
       "7.465823634883016438548764373417796663627184480113549974868022690082816252869778e+01"
      ]
     },
     "execution_count": 8,
     "metadata": {},
     "output_type": "execute_result"
    }
   ],
   "source": [
    "log_factorial(30)"
   ]
  },
  {
   "cell_type": "code",
   "execution_count": 9,
   "metadata": {
    "collapsed": false
   },
   "outputs": [
    {
     "data": {
      "text/plain": [
       "1.886281734236715911872884103898359167487350022133071538333295831157244702253845e+02"
      ]
     },
     "execution_count": 9,
     "metadata": {},
     "output_type": "execute_result"
    }
   ],
   "source": [
    "log_factorial(60)"
   ]
  },
  {
   "cell_type": "code",
   "execution_count": 10,
   "metadata": {
    "collapsed": false
   },
   "outputs": [
    {
     "data": {
      "text/plain": [
       "8320987112741390144276341183223364380754172606361245952449277696409600000000000000"
      ]
     },
     "execution_count": 10,
     "metadata": {},
     "output_type": "execute_result"
    }
   ],
   "source": [
    "factorial(big(60))"
   ]
  },
  {
   "cell_type": "code",
   "execution_count": 11,
   "metadata": {
    "collapsed": false
   },
   "outputs": [
    {
     "data": {
      "text/plain": [
       "1.886281734236715911872884103898359167487350022133071538333295831157244702253845e+02"
      ]
     },
     "execution_count": 11,
     "metadata": {},
     "output_type": "execute_result"
    }
   ],
   "source": [
    "log(ans)"
   ]
  },
  {
   "cell_type": "code",
   "execution_count": 12,
   "metadata": {
    "collapsed": false
   },
   "outputs": [
    {
     "data": {
      "text/plain": [
       "BigFloat"
      ]
     },
     "execution_count": 12,
     "metadata": {},
     "output_type": "execute_result"
    }
   ],
   "source": [
    "typeof(ans)"
   ]
  },
  {
   "cell_type": "code",
   "execution_count": 13,
   "metadata": {
    "collapsed": false
   },
   "outputs": [
    {
     "data": {
      "text/plain": [
       "100-element Array{BigFloat,1}:\n",
       " 0.000000000000000000000000000000000000000000000000000000000000000000000000000000    \n",
       " 6.931471805599453094172321214581765680755001343602552541206800094933936219696955e-01\n",
       " 1.791759469228055000812477358380702272722990692183004705855374343130887915188299    \n",
       " 3.17805383034794561964694160129705540887399096090351521409673436211767515912769     \n",
       " 4.787491742782045994247700934523243048399592315172032936009382253591854146835361    \n",
       " 6.57925121201010099506017829290394532112258300735503764186475659672274206202366     \n",
       " 8.52516136106541430016553103634712505075966773693689883032414674666032192477571     \n",
       " 1.060460290274525022841722740072165475498616814001766459268618677514050279068476e+01\n",
       " 1.280182748008146961120771787456670616428114925566316349615557544241549137712204e+01\n",
       " 1.510441257307551529522570932925107037188225074429193647218890334338306398679944e+01\n",
       " 1.750230784587388583928765290721619967170395759822935364740747105251363761071257e+01\n",
       " 1.998721449566188614951736238705507851250244842477261360738352540513791914787053e+01\n",
       " 2.255216385312342288557084982862039711730771636953282072380257091580138381519511e+01\n",
       " ⋮                                                                                   \n",
       " 3.136528299498790617831845930281410850425576777878112743016866911235924985247766e+02\n",
       " 3.181526396202093268499930749566705006594537603920855461811894076918350597208892e+02\n",
       " 3.226634991267261768911519151416789989938961130664276144860678433524361042509675e+02\n",
       " 3.271852877037752172007931322164055482484894936499885607363078387489058847408916e+02\n",
       " 3.317178871969284731381175417778704311635869231382919021597992511550183604507088e+02\n",
       " 3.362611819791984770343557245691007814405584737746723814471204395113185722861816e+02\n",
       " 3.408150588707990178689655113342148226173214543902400279875710476392020439759547e+02\n",
       " 3.453794070622668541074469171784282311623464456198640537099091420203065063790209e+02\n",
       " 3.499541180407702369295636388001321928761553605225228350658853763890666836707994e+02\n",
       " 3.545390855194408088491915764084767289035050301160468126969248366984352370182719e+02\n",
       " 3.591342053695753987760440104602869096126217180856297287756127930748407992286263e+02\n",
       " 3.637393755555634901440799933696556380278239210628872747276794488767759444479775e+02"
      ]
     },
     "execution_count": 13,
     "metadata": {},
     "output_type": "execute_result"
    }
   ],
   "source": [
    "A = [log_factorial(n) for n in 1:100]"
   ]
  },
  {
   "cell_type": "code",
   "execution_count": 14,
   "metadata": {
    "collapsed": false
   },
   "outputs": [],
   "source": [
    "B = collect(1:100);"
   ]
  },
  {
   "cell_type": "code",
   "execution_count": 15,
   "metadata": {
    "collapsed": false
   },
   "outputs": [
    {
     "data": {
      "text/plain": [
       "Array{BigFloat,1}"
      ]
     },
     "execution_count": 15,
     "metadata": {},
     "output_type": "execute_result"
    }
   ],
   "source": [
    "typeof(A)"
   ]
  },
  {
   "cell_type": "markdown",
   "metadata": {},
   "source": [
    "(iii) Dibuja esta cantidad en función de $n$. ¿Cualitativamente, cuál parece ser su tasa de crecimiento? ¿Qué implica esto sobre la tasa de crecimiento de $n!$?"
   ]
  },
  {
   "cell_type": "code",
   "execution_count": 16,
   "metadata": {
    "collapsed": false
   },
   "outputs": [
    {
     "data": {
      "text/html": [
       "<img src=\"data:image/png;base64,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\" />"
      ]
     },
     "execution_count": 16,
     "metadata": {},
     "output_type": "execute_result"
    }
   ],
   "source": [
    "plot(B, A, xlabel=L\"n\", ylabel=L\"log_factorial(n)\", title=L\"Gráfica\")"
   ]
  },
  {
   "cell_type": "markdown",
   "metadata": {},
   "source": [
    "[2] Considera la suma de los cuadrados de los primeros $n$ enteros positivos,\n",
    "\n",
    "$$S_n := \\sum_{i=1}^n i^2.$$\n",
    "\n",
    "Escriba una función que acepta un número $M$ y encuentra el valor mínimo de $n$ tal que $S_n > M$, es decir, tal que la suma exceda el valor dado."
   ]
  },
  {
   "cell_type": "code",
   "execution_count": 17,
   "metadata": {
    "collapsed": false
   },
   "outputs": [
    {
     "name": "stdout",
     "output_type": "stream",
     "text": [
      "search: \u001b[1mm\u001b[22m\u001b[1mi\u001b[22m\u001b[1mn\u001b[22m\u001b[1mi\u001b[22m\u001b[1mm\u001b[22m\u001b[1mu\u001b[22m\u001b[1mm\u001b[22m \u001b[1mm\u001b[22m\u001b[1mi\u001b[22m\u001b[1mn\u001b[22m\u001b[1mi\u001b[22m\u001b[1mm\u001b[22m\u001b[1mu\u001b[22m\u001b[1mm\u001b[22m! Di\u001b[1mm\u001b[22mens\u001b[1mi\u001b[22mo\u001b[1mn\u001b[22mM\u001b[1mi\u001b[22ms\u001b[1mm\u001b[22match\n",
      "\n"
     ]
    }
   ],
   "source": [
    "?minimum;"
   ]
  },
  {
   "cell_type": "code",
   "execution_count": 18,
   "metadata": {
    "collapsed": false
   },
   "outputs": [
    {
     "data": {
      "text/plain": [
       "suma_cuad"
      ]
     },
     "execution_count": 18,
     "metadata": {},
     "output_type": "execute_result"
    }
   ],
   "source": [
    "doc\"\"\"\n",
    "La función suma_cuad de parámetros M y n, donde M es un número cualquiera y n es un número entero, \n",
    "calcula la suma de los cuadrados de los n primeros enteros. La función regresa la suma y el mínimo valor entero\n",
    "tal que la suma de los cuadrados S_n es mayor a M, i.e., tal que S_n > M.\n",
    "\"\"\"\n",
    "\n",
    "function suma_cuad(M, n::Int64)\n",
    "    s_n = 0\n",
    "    N = Int64[]\n",
    "    \n",
    "    for i in 1:3\n",
    "        s_n += i^2\n",
    "        if s_n > M\n",
    "            push!(N, i)\n",
    "        end\n",
    "        #@show i, s_n, N\n",
    "    end\n",
    "    \n",
    "    return s_n, N[1]\n",
    "    \n",
    "end"
   ]
  },
  {
   "cell_type": "code",
   "execution_count": 19,
   "metadata": {
    "collapsed": false
   },
   "outputs": [
    {
     "data": {
      "text/plain": [
       "(14,2)"
      ]
     },
     "execution_count": 19,
     "metadata": {},
     "output_type": "execute_result"
    }
   ],
   "source": [
    "# Prueba de la función suma_cuad\n",
    "suma_cuad(1, 3)"
   ]
  },
  {
   "cell_type": "markdown",
   "metadata": {},
   "source": [
    "[3] (i) Escribe una función `f` que toma un valor de $x$ y calcula la serie\n",
    "\n",
    "$$f(x) = \\sum_{n=1}^{\\infty} \\frac{x^n}{n}.$$\n",
    "\n",
    "Toma el número de términos $N(x)$ que sea necesario hasta que el tamaño del último término sea menor a una tolerancia."
   ]
  },
  {
   "cell_type": "code",
   "execution_count": 20,
   "metadata": {
    "collapsed": false
   },
   "outputs": [
    {
     "data": {
      "text/plain": [
       "serie"
      ]
     },
     "execution_count": 20,
     "metadata": {},
     "output_type": "execute_result"
    }
   ],
   "source": [
    "doc\"\"\"\n",
    "La función serie(x, tol) tiene como parámetros x y una cierta tolerancia. \n",
    "Regresa la suma de los términos $\\frac{x^n}{n}$ desde 1 hasta que el último de los términos \n",
    "sea menor a la tolerancia que se le dio.\n",
    "\"\"\"\n",
    "\n",
    "function serie(x, tol)\n",
    "    # Creo un arreglo vacío, donde meteré los valores de f\n",
    "    fact = []\n",
    "    i = 1\n",
    "    f = x^i / i # Primer término de la suma\n",
    "    push!(fact, f) # Agrego el primer término al arreglo fact\n",
    "   \n",
    "    while f > tol # Mientras f es mayor que la tolerancia calcula f\n",
    "        f = x^i / i\n",
    "        push!(fact, f) \n",
    "        i = i +1\n",
    "    end\n",
    "    # Suma todos los valores del arreglo fact\n",
    "    suma = sum(fact)\n",
    "    return suma\n",
    "end"
   ]
  },
  {
   "cell_type": "code",
   "execution_count": 21,
   "metadata": {
    "collapsed": false
   },
   "outputs": [
    {
     "data": {
      "text/plain": [
       "2.5"
      ]
     },
     "execution_count": 21,
     "metadata": {},
     "output_type": "execute_result"
    }
   ],
   "source": [
    "serie(1, 0.9)"
   ]
  },
  {
   "cell_type": "markdown",
   "metadata": {},
   "source": [
    "\n",
    "El primer término $f$ que va al arreglo $fact$ es \n",
    "\n",
    "$f = \\frac{x^1}{1}$ y como $x = 1$ entonces $f = 1$,\n",
    "\n",
    "como esto es mayor que la tolerancia de $0.9$, debería continuar calculando el siguiente término de $f$.\n",
    "\n",
    "El siguiente término $f$ es \n",
    "\n",
    "$f = \\frac{x^2}{ 2} = \\frac{1}{2}$ \n",
    "\n",
    "y esto es menor que la tolerancia, así que ahí debería terminar el ciclo. \n",
    "\n",
    "Por lo tanto, el resultado es $f(x) = 1 + \\frac{1}{2}$\n"
   ]
  },
  {
   "cell_type": "code",
   "execution_count": 22,
   "metadata": {
    "collapsed": false
   },
   "outputs": [
    {
     "data": {
      "text/plain": [
       "3.928968253968254"
      ]
     },
     "execution_count": 22,
     "metadata": {},
     "output_type": "execute_result"
    }
   ],
   "source": [
    "# Prueba\n",
    "serie(1, 0.1)"
   ]
  },
  {
   "cell_type": "markdown",
   "metadata": {},
   "source": [
    "(ii) Dibuja la función $f(x)$ en función de $x$, para $x$ de $-0.9$ a $0.9$."
   ]
  },
  {
   "cell_type": "code",
   "execution_count": 23,
   "metadata": {
    "collapsed": false
   },
   "outputs": [],
   "source": [
    "# Creo los arreglos para después graficarlos\n",
    "a = [serie(x, 0.001) for x in -0.9:0.032:0.9];\n",
    "b = collect(-0.9:0.032:0.9);"
   ]
  },
  {
   "cell_type": "code",
   "execution_count": 24,
   "metadata": {
    "collapsed": false
   },
   "outputs": [
    {
     "data": {
      "text/html": [
       "<img src=\"data:image/png;base64,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\" />"
      ]
     },
     "execution_count": 24,
     "metadata": {},
     "output_type": "execute_result"
    }
   ],
   "source": [
    "plot(b, a, xlabel=L\"x\", ylabel=L\"serie(x, 0.5)\", title=L\"Gráfica\")"
   ]
  },
  {
   "cell_type": "markdown",
   "metadata": {},
   "source": [
    "(iii) Alguien sugiere que la función $f(x)$ podría ser realmente $-\\log(1-x)$. ¿Qué deberías dibujar en función de qué para que salga una recta? Verifica que sí sea cierto."
   ]
  },
  {
   "cell_type": "code",
   "execution_count": null,
   "metadata": {
    "collapsed": true
   },
   "outputs": [],
   "source": []
  }
 ],
 "metadata": {
  "kernelspec": {
   "display_name": "Julia 0.5.0",
   "language": "julia",
   "name": "julia-0.5"
  },
  "language_info": {
   "file_extension": ".jl",
   "mimetype": "application/julia",
   "name": "julia",
   "version": "0.5.0"
  },
  "toc": {
   "colors": {
    "hover_highlight": "#DAA520",
    "running_highlight": "#FF0000",
    "selected_highlight": "#FFD700"
   },
   "moveMenuLeft": true,
   "nav_menu": {
    "height": "29px",
    "width": "251px"
   },
   "navigate_menu": true,
   "number_sections": true,
   "sideBar": true,
   "threshold": "2",
   "toc_cell": false,
   "toc_section_display": "block",
   "toc_window_display": false
  }
 },
 "nbformat": 4,
 "nbformat_minor": 2
}

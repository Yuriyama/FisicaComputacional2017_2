{
 "cells": [
  {
   "cell_type": "markdown",
   "metadata": {},
   "source": [
    "Hasta ahora, hemos estudiado únicamente las **ecuaciones de evolución**, o sea, un problema **con valores iniciales**, en el cual se quiere determinar la evolución temporal de la solución, tanto para EDOs como para EDPs.\n",
    "\n",
    "Otra clase fundamental de problemas son los **problemas estacionarios** o **problemas estáticos**, también llamados **problemas con valores en la frontera**. En este tipo de problemas, se busca una solución estacionaria, es decir, una solución que *no* cambia en el tiempo, pero que depende del espacio.\n",
    "\n",
    "Este tipo de problemas surge en distintos contextos. Por ejemplo, si resolvemos la ecuación de difusión con condiciones de Dirichlet dadas que no sean cero, la solución temporal *converge* a una solución estacionaria. ¿Podemos calcular directamente esta solución estacionaria? Los problemas estacionarios también ocurren naturalmente al resolver, por ejemplo, las ecuaciones de Laplace y de Poisson para determinar el potencial (y de ahí el campo) eléctrico para una configuración dada de cargas y fronteras."
   ]
  },
  {
   "cell_type": "markdown",
   "metadata": {},
   "source": [
    "## Las ecuaciones de Poisson y de Laplace "
   ]
  },
  {
   "cell_type": "markdown",
   "metadata": {},
   "source": [
    "Consideremos el problema de encontrar el campo de potencial debido a una distribución de carga eléctrica. El campo de potencial $V(\\mathbf{x})$ satisface la ecuación de Poisson,\n",
    "\n",
    "$$ \\nabla^2 V(\\mathbf{x}) = -\\rho(\\mathbf{x}), $$\n",
    "\n",
    "donde $\\rho(\\mathbf{x})$ es la densidad de carga en unidades adecuadas.\n",
    "\n",
    "con los valores en la frontera  $V = V_1$ y $V = V_2$ en las dos placas.\n",
    "\n",
    "Para comenzar, reduzcamos el problema a una sola dimensión. Entonces la ecuación se vuelve\n",
    "\n",
    "$$ \\frac{d^2 V(x)}{dx^2} = -\\rho(x) \\quad (*) $$ \n",
    "\n",
    "para todas las $x$,\n",
    "con los potenciales en las placas $V(a) = x_1$ y $V(b) = x_2$,\n",
    "es decir, una EDO con valores en la frontera.\n",
    "\n",
    "Este tipo de problema es de una naturaleza *completamente diferente* de los que hemos visto anteriormente en EDOs, ya que *no hay evolución* en el tiempo. Y sin embargo..."
   ]
  },
  {
   "cell_type": "markdown",
   "metadata": {},
   "source": [
    "**[1]** (i) Discretiza la ecuación con una malla en el espacio, tal como hicimos para la ecuación de difusión: ¿cuál ecuación discretizada se satisface en el sitio $x_i$? \n",
    "\n",
    "(ii) ¿Si hay una sola carga puntual, cuáles sitios son especiales?"
   ]
  },
  {
   "cell_type": "markdown",
   "metadata": {},
   "source": [
    "$$ \\frac{d^2 V(x)}{dx^2} = \\frac{V(x+h) - 2V(x) + V(x-h)}{h^2}$$\n",
    "$$ \\frac{d^2V(x)}{dx^2} = \\frac{V_{i+1} - 2V_i + V_{i-1}}{h^2} $$\n"
   ]
  },
  {
   "cell_type": "markdown",
   "metadata": {},
   "source": [
    "Dado que ya no hay evolución en el tiempo, todas las ecuaciones para todos los sitios $i$ **se deben cumplir simultáneamente**. "
   ]
  },
  {
   "cell_type": "markdown",
   "metadata": {},
   "source": [
    "**[2]** ¿Qué tipo de problema resulta entonces? Escribe el problema con una notación que conoces de otros cursos."
   ]
  },
  {
   "cell_type": "markdown",
   "metadata": {},
   "source": [
    "$$ \\frac{V_{i+1} - 2V_i + V_{i-1}}{h^2} = -\\rho (x_i)  $$"
   ]
  },
  {
   "cell_type": "markdown",
   "metadata": {},
   "source": [
    "Hay varios métodos posibles para resolver problemas de esta índole. Empezaremos con ocupar un método **iterativo** que recién vimos:"
   ]
  },
  {
   "cell_type": "markdown",
   "metadata": {},
   "source": [
    "**[3]** (i) Reescribe la ecuación en el sitio $x_i$ que encontraste en la pregunta **1** para despejar $V_i$, el valor aproximado de $V(x_i)$.\n",
    "\n",
    "Ahora **inventemos** una dinámica, tal como lo hicimos con los primeros métodos iterativos para resolver ecuaciones: pongamos esta $V_i$ como $V_i^{t+1}$, y los demás $V_i$ como $V_i^t$."
   ]
  },
  {
   "cell_type": "markdown",
   "metadata": {},
   "source": [
    "$$ V_{i} = \\frac{ V_{i+1} + V_{i-1} + \\rho (x_i) h^2}{2}  $$"
   ]
  },
  {
   "cell_type": "markdown",
   "metadata": {},
   "source": [
    "(ii) Escribe la nueva ecuación. ¿Cómo se relaciona la solución de la ecuación (*) con esta dinámica?"
   ]
  },
  {
   "cell_type": "markdown",
   "metadata": {},
   "source": [
    "$$ V_{i}^{t+1} = \\frac{ V_{i+1}^t + V_{i-1}^t + \\rho (x_i)^t h^2}{2}  $$"
   ]
  },
  {
   "cell_type": "markdown",
   "metadata": {},
   "source": [
    "(iii) Implementa esta dinámica para la $\\rho(x) \\equiv 0$, con condiciones en la frontera $V(x=0) = a$ y $V(x=1) = b$. Haz una animación con `Interact.jl`."
   ]
  },
  {
   "cell_type": "code",
   "execution_count": 8,
   "metadata": {
    "collapsed": false
   },
   "outputs": [
    {
     "name": "stderr",
     "output_type": "stream",
     "text": [
      "WARNING: Method definition potencial(Any, Any, Any, Any) in module Main at In[6]:3 overwritten at In[8]:3.\n"
     ]
    },
    {
     "data": {
      "text/plain": [
       "potencial (generic function with 1 method)"
      ]
     },
     "execution_count": 8,
     "metadata": {},
     "output_type": "execute_result"
    }
   ],
   "source": [
    "function potencial(v, h, a, b)  \n",
    "    \n",
    "    v_nueva = zeros(v)  \n",
    "    #ρ = zeros(v)\n",
    "    v[1] = a\n",
    "    v[end] = b\n",
    "\n",
    "    for i in 2:length(v)-1  \n",
    "        v_nueva[i] = (v[i + 1] + v[i - 1] ) / 2 #+ (ρ[i] * h^2)\n",
    "    end\n",
    "\n",
    "    v_nueva[1] = a \n",
    "    v_nueva[end] = b\n",
    "\n",
    "    return v_nueva\n",
    "    \n",
    "end"
   ]
  },
  {
   "cell_type": "code",
   "execution_count": 9,
   "metadata": {
    "collapsed": false
   },
   "outputs": [
    {
     "ename": "LoadError",
     "evalue": "indexed assignment not defined for FloatRange{Float64}",
     "output_type": "error",
     "traceback": [
      "indexed assignment not defined for FloatRange{Float64}",
      "",
      " in potencial(::FloatRange{Float64}, ::Float64, ::Int64, ::Int64) at ./In[8]:5"
     ]
    }
   ],
   "source": [
    "potencial(0:0.1:1, 0.1, 2,2)"
   ]
  },
  {
   "cell_type": "code",
   "execution_count": null,
   "metadata": {
    "collapsed": true
   },
   "outputs": [],
   "source": [
    "function calor(xs, k, h)\n",
    "\n",
    "    M = length(xs)\n",
    "    \n",
    "    # @show M\n",
    "\n",
    "    u = zeros(M)\n",
    "    u[M ÷ 2] = 1.0   # \\div<TAB> -- división de enteros\n",
    "\n",
    "    showall(u)\n",
    "    \n",
    "    us = [u]\n",
    "    \n",
    "    for i in 1:20\n",
    "        u_nueva = calor_paso(u, k, h)\n",
    "        push!(us, u_nueva)\n",
    "    \n",
    "        u = u_nueva\n",
    "    end\n",
    "    \n",
    "    D = 1.0\n",
    "    @show D*h/(k^2)\n",
    "    \n",
    "    return us\n",
    "end"
   ]
  },
  {
   "cell_type": "markdown",
   "metadata": {},
   "source": [
    "(iv) Encuentra la solución analítica de la ecuación diferencial y compáralo con tu solución. [Nota que tendrás que esperar bastante tiempo para que la solución a la ecuación dinámica converja.]"
   ]
  },
  {
   "cell_type": "code",
   "execution_count": null,
   "metadata": {
    "collapsed": true
   },
   "outputs": [],
   "source": []
  },
  {
   "cell_type": "markdown",
   "metadata": {},
   "source": [
    "(v) ¿De qué es discretización la ecuación dinámica?, es decir, ¿cuál ecuación de evolución estamos resolviendo? ¿Por qué es tan lenta la convergencia?"
   ]
  },
  {
   "cell_type": "markdown",
   "metadata": {},
   "source": []
  },
  {
   "cell_type": "markdown",
   "metadata": {},
   "source": [
    "Para conocer el término $i$, necesitamos de los términos $i-1$ e $i+1$"
   ]
  },
  {
   "cell_type": "markdown",
   "metadata": {},
   "source": [
    "**[4]** (i) Utiliza la misma técnica para resolver la siguiente EDO con valores en la frontera para $y(x):\n",
    "\n",
    "$$ y'' + y = 0$$\n",
    "$$ y(0) = 0$$\n",
    "$$ y(\\pi/2) = 2$$\n",
    "\n",
    "Compara tu solución con el resultado analítico.\n",
    "\n",
    "(ii) ¿Qué ocurre si cambias las condiciones en la frontera a $y(0) = 1$ y $y(\\pi/2) = 2$?"
   ]
  },
  {
   "cell_type": "markdown",
   "metadata": {},
   "source": [
    "**[5]**\n",
    "\n",
    "Piensa en la ecuación de Poisson en 1D con una carga puntual en la posición $x_0$. \n",
    "\n",
    "(i) Escribe la ecuación diferencial y discretízala.\n",
    "\n",
    "(ii) Para tratar la delta de Dirac, trátalo como (por ejemplo) una gaussiana y haz el ancho de la gaussiana chica.\n",
    "\n",
    "(iii) Implementa esto y verifica que la solución sea correcta."
   ]
  },
  {
   "cell_type": "markdown",
   "metadata": {},
   "source": [
    "**[6]**  [Opcional, ¡pero recomendada!]. \n",
    "\n",
    "(i) Una manera alternativa de resolver el problema de la pregunta **5** es el integrar la ecuación de $x_0 - \\epsilon$ a $x_0 + \\epsilon$. ¿Cuál condición te da para $V'$? \n",
    "\n",
    "(ii) Implementa esto y verifica que la solución es correcta (al menos, que tiene la relación correcta de pendientes)."
   ]
  }
 ],
 "metadata": {
  "kernelspec": {
   "display_name": "Julia 0.5.0",
   "language": "julia",
   "name": "julia-0.5"
  },
  "language_info": {
   "file_extension": ".jl",
   "mimetype": "application/julia",
   "name": "julia",
   "version": "0.5.0"
  }
 },
 "nbformat": 4,
 "nbformat_minor": 1
}

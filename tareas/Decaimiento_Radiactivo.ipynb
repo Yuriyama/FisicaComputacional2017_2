{
 "cells": [
  {
   "cell_type": "markdown",
   "metadata": {},
   "source": [
    "# Decaimiento Radiactivo\n",
    "### Integrantes\n",
    "#### Héctor Andrés Flores \n",
    "#### Alejandra Yuriko Yamamoto"
   ]
  },
  {
   "cell_type": "code",
   "execution_count": 1,
   "metadata": {
    "collapsed": false
   },
   "outputs": [
    {
     "data": {
      "text/plain": [
       "Plots.PyPlotBackend()"
      ]
     },
     "execution_count": 1,
     "metadata": {},
     "output_type": "execute_result"
    }
   ],
   "source": [
    "using Plots, LaTeXStrings\n",
    "pyplot()"
   ]
  },
  {
   "cell_type": "markdown",
   "metadata": {},
   "source": [
    "Teoría\n",
    "Problema Físico\n",
    "De MonteCarlo justificar cómo se obtiene la ecuación diferencial que describe el decaimiento radiactivo."
   ]
  },
  {
   "cell_type": "markdown",
   "metadata": {},
   "source": [
    "El problema que queremos resolver es simular cómo decae un número pequeño N de partículas radioactivas. Escencialmente, queremos determinar cuándo dicho decaimiento se comporta de manera exponencial y cuándo estocásticamente, es decir, contiene elementos de azar.\n",
    "\n",
    "El decaimiento radiactivo es un proceso natural en el cual una partícula, sin estimulación externa alguna, decae, convirtiéndose en otra partícula. Aún cuando la probabilidad de decaimiento en un intervalo de tiempo es contstante, justo cuando ésta decae es un evento aleatorio. De hecho, puesto que el momento exacto cuando una partícula decae es aleatorio, no importa qué tanto tiempo ha estado \"viva\" la partícula o si otras partícula ya han decaído. En otras palabras, la probabilidad de cualquier partícula que decae por intervalo unitario de tiempo es constante y una vez que decae, se pierde para siempre. Por supuesto, el número total de partículas disminuyen con el tiempo, así como el número de decaimientos, pero la probabilidad de cualquiera de estas partículas en decaer en un cierto intervalo de tiempo es siempre la misma constante simpre y cuando dicha partícula exista.\n",
    "\n",
    "Your problem is to simulate how a small number N of radioactive particles decay.3\n",
    "In particular, you are to determine when radioactive decay looks like exponential\n",
    "decay and when it looks stochastic (containing elements of chance).\n",
    "\n",
    "Spontaneous decay is a natural process in which a particle, with no external\n",
    "stimulation, decays into other particles. Even though the probability of decay of\n",
    "any one particle in any time interval is constant, just when it decays is a random\n",
    "event. Because the exact moment when any one particle decays is random, it does\n",
    "not matter how long the particle has been around or whether some other particles\n",
    "have decayed. In other words, the probability P of any one particle decaying per\n",
    "unit time interval is a constant, and when that particle decays, it is gone forever.\n",
    "Of course, as the total number of particles decreases with time, so will the number\n",
    "of decays, but the probability of any one particle decaying in some time interval is\n",
    "always the same constant as long as that particle exists.\n"
   ]
  },
  {
   "cell_type": "markdown",
   "metadata": {},
   "source": [
    "### Decaimiento Discreto"
   ]
  },
  {
   "cell_type": "markdown",
   "metadata": {},
   "source": [
    "Imagine having a sample of N(t) radioactive nuclei at time t. Let ΔN be the number of particles that decay in some small time interval Δt. We\n",
    "convert the statement “the probability P of any one particle decaying per unit time\n",
    "is a constant” into the equation.\n",
    "\n",
    "    $$\\frac{N(t)}{t}$$"
   ]
  },
  {
   "cell_type": "markdown",
   "metadata": {},
   "source": [
    "**[1]** Resolver la ecuación diferencial de decaimiento radiactivo mediante algún método visto en clase como Runge-Kutta\n",
    "        $$ \\frac{dN(t)}{dt} = - \\lambda N(t) $$\n"
   ]
  },
  {
   "cell_type": "markdown",
   "metadata": {},
   "source": [
    "#### Para una partícula"
   ]
  },
  {
   "cell_type": "code",
   "execution_count": null,
   "metadata": {
    "collapsed": true
   },
   "outputs": [],
   "source": [
    "# Queremos gráficas de escalones, 1 escalón para 1 partícula. N escalones que salen de 1 para N partículas. \n",
    "# Después gráficas para muuuchas N's y debería poderse ajustar una exponencial.\n",
    "# Modificar para distintas p's "
   ]
  },
  {
   "cell_type": "code",
   "execution_count": null,
   "metadata": {
    "collapsed": true
   },
   "outputs": [],
   "source": [
    "# Para una cierta probabilidad P\n",
    "function Decaimiento1N(N, p)\n",
    "    t0 = 0\n",
    "    ΔN = 0 \n",
    "    while N > 0\n",
    "        #ΔN = 0 \n",
    "        for i in 1:N\n",
    "            if ( r _ i < lambda ) DeltaN = DeltaN + 1\n",
    "    end\n",
    "    t = t +1\n",
    "    N = N− DeltaN\n",
    "    Output t , DeltaN , N\n",
    "end"
   ]
  },
  {
   "cell_type": "code",
   "execution_count": null,
   "metadata": {
    "collapsed": true
   },
   "outputs": [],
   "source": [
    "function mi_caminante(s, n, x0=0, p=1/2)\n",
    "    a = UInt64(6364136223846793005)\n",
    "    c = UInt64(1442695040888963407)\n",
    "    s = x_global\n",
    "    contador = x0\n",
    "    for i in 1:n\n",
    "    n_al = mi_rand()\n",
    "    num_aleat = normalizar(n_al)\n",
    "        if num_aleat <= 0.50\n",
    "            contador = contador - 1\n",
    "        else \n",
    "            contador = contador + 1 \n",
    "        end\n",
    "        @show i, num_aleat, contador\n",
    "    end\n",
    "    return contador\n",
    "end"
   ]
  },
  {
   "cell_type": "code",
   "execution_count": null,
   "metadata": {
    "collapsed": true
   },
   "outputs": [],
   "source": [
    "# Con manipulate, para varias probabilidades\n",
    "function DecaimientoN()"
   ]
  },
  {
   "cell_type": "markdown",
   "metadata": {},
   "source": [
    "#### Para N partículas"
   ]
  },
  {
   "cell_type": "code",
   "execution_count": 1,
   "metadata": {
    "collapsed": false
   },
   "outputs": [
    {
     "data": {
      "text/plain": [
       "Euler (generic function with 1 method)"
      ]
     },
     "execution_count": 1,
     "metadata": {},
     "output_type": "execute_result"
    }
   ],
   "source": [
    "# Por método de Euler\n",
    "\n",
    "function Euler(f::Function, x0::Real, t0::Real, tf::Real, h::Real)\n",
    "   \n",
    "    # Condiciones iniciales\n",
    "    #f = f(x0, t0)\n",
    "   \n",
    "     # Arreglos con condiciones iniciales\n",
    "    Xs = Float64[x0]\n",
    "    Ts = collect(t0:h:tf) # Arreglo que contiene los tiempos\n",
    "    \n",
    "    for i in 1:length(Ts)-1\n",
    "    \n",
    "        x = h * f(Xs[i], Ts[i]) + Xs[i]\n",
    "        push!(Xs, x)\n",
    "\n",
    "    end\n",
    "    \n",
    "    return Ts, Xs\n",
    "    \n",
    "end"
   ]
  },
  {
   "cell_type": "code",
   "execution_count": 4,
   "metadata": {
    "collapsed": false
   },
   "outputs": [
    {
     "name": "stderr",
     "output_type": "stream",
     "text": [
      "WARNING: Method definition f(Any, Any) in module Main at In[2]:1 overwritten at In[4]:1.\n"
     ]
    },
    {
     "data": {
      "text/plain": [
       "300000.0"
      ]
     },
     "execution_count": 4,
     "metadata": {},
     "output_type": "execute_result"
    }
   ],
   "source": [
    "f(N,t) = -λ * N\n",
    "λ = 0.3e6"
   ]
  },
  {
   "cell_type": "code",
   "execution_count": 10,
   "metadata": {
    "collapsed": false
   },
   "outputs": [
    {
     "data": {
      "text/plain": [
       "([0.0,0.2,0.4,0.6,0.8,1.0,1.2,1.4,1.6,1.8  …  8.2,8.4,8.6,8.8,9.0,9.2,9.4,9.6,9.8,10.0],[1.0,-59999.0,3.59988e9,-2.15989e14,1.29591e19,-7.77535e23,4.66513e28,-2.79903e33,1.67939e38,-1.00762e43  …  -8.01502e195,4.80893e200,-2.88531e205,1.73116e210,-1.03868e215,6.23196e219,-3.73911e224,2.24343e229,-1.34604e234,8.07608e238])"
      ]
     },
     "execution_count": 10,
     "metadata": {},
     "output_type": "execute_result"
    }
   ],
   "source": [
    "Euler(f, 1, 0, 10, 0.2)"
   ]
  },
  {
   "cell_type": "code",
   "execution_count": null,
   "metadata": {
    "collapsed": true
   },
   "outputs": [],
   "source": [
    "# Decaimiento Discreto\n",
    "function Decaimiento(N, λ)\n",
    "    t0 = 0 #tiempo inicial 0\n",
    "    while N > 0\n",
    "        ΔN = 0\n",
    "        for i in 1:N\n",
    "            if ( r _ i < lambda ) DeltaN = DeltaN + 1\n",
    "    end f o r\n",
    "    t = t +1\n",
    "    N = N− DeltaN\n",
    "    Output t , DeltaN , N\n",
    "end"
   ]
  }
 ],
 "metadata": {
  "kernelspec": {
   "display_name": "Julia 0.5.0",
   "language": "julia",
   "name": "julia-0.5"
  },
  "language_info": {
   "file_extension": ".jl",
   "mimetype": "application/julia",
   "name": "julia",
   "version": "0.5.0"
  }
 },
 "nbformat": 4,
 "nbformat_minor": 2
}

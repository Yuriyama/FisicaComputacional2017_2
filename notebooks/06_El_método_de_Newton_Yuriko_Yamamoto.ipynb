{
 "cells": [
  {
   "cell_type": "markdown",
   "metadata": {},
   "source": [
    "# El método de Newton"
   ]
  },
  {
   "cell_type": "code",
   "execution_count": 10,
   "metadata": {
    "collapsed": false
   },
   "outputs": [
    {
     "data": {
      "text/plain": [
       "Plots.PyPlotBackend()"
      ]
     },
     "execution_count": 10,
     "metadata": {},
     "output_type": "execute_result"
    }
   ],
   "source": [
    "using Plots, LaTeXStrings\n",
    "pyplot()"
   ]
  },
  {
   "cell_type": "code",
   "execution_count": 2,
   "metadata": {
    "collapsed": false
   },
   "outputs": [
    {
     "data": {
      "text/html": [
       "<div id=\"interact-js-shim\">\n",
       "    <script charset=\"utf-8\">\n",
       "(function (IPython, $, _, MathJax) {\n",
       "    $.event.special.destroyed = {\n",
       "\tremove: function(o) {\n",
       "\t    if (o.handler) {\n",
       "\t\to.handler.apply(this, arguments)\n",
       "\t    }\n",
       "\t}\n",
       "    }\n",
       "\n",
       "    var OutputArea = IPython.version >= \"4.0.0\" ? require(\"notebook/js/outputarea\").OutputArea : IPython.OutputArea;\n",
       "\n",
       "    var redrawValue = function (container, type, val) {\n",
       "\tvar selector = $(\"<div/>\");\n",
       "\tvar oa = new OutputArea(_.extend(selector, {\n",
       "\t    selector: selector,\n",
       "\t    prompt_area: true,\n",
       "\t    events: IPython.events,\n",
       "\t    keyboard_manager: IPython.keyboard_manager\n",
       "\t})); // Hack to work with IPython 2.1.0\n",
       "\n",
       "\tswitch (type) {\n",
       "\tcase \"image/png\":\n",
       "            var _src = 'data:' + type + ';base64,' + val;\n",
       "\t    $(container).find(\"img\").attr('src', _src);\n",
       "\t    break;\n",
       "\tcase \"text/latex\":\n",
       "\t\tif (MathJax){\n",
       "\t\t\tvar math = MathJax.Hub.getAllJax(container)[0];\n",
       "\t\t\tMathJax.Hub.Queue([\"Text\", math, val.replace(/^\\${1,2}|\\${1,2}$/g, '')]);\n",
       "\t\t\tbreak;\n",
       "\t\t}\n",
       "\tdefault:\n",
       "\t    var toinsert = OutputArea.append_map[type].apply(\n",
       "\t\toa, [val, {}, selector]\n",
       "\t    );\n",
       "\t    $(container).empty().append(toinsert.contents());\n",
       "\t    selector.remove();\n",
       "\t}\n",
       "    }\n",
       "\n",
       "\n",
       "    $(document).ready(function() {\n",
       "\tfunction initComm(evt, data) {\n",
       "\t    var comm_manager = data.kernel.comm_manager;\n",
       "        //_.extend(comm_manager.targets, require(\"widgets/js/widget\"))\n",
       "\t    comm_manager.register_target(\"Signal\", function (comm) {\n",
       "            comm.on_msg(function (msg) {\n",
       "                var val = msg.content.data.value;\n",
       "                $(\".signal-\" + comm.comm_id).each(function() {\n",
       "                var type = $(this).data(\"type\");\n",
       "                if (typeof(val[type]) !== \"undefined\" && val[type] !== null) {\n",
       "                    redrawValue(this, type, val[type], type);\n",
       "                }\n",
       "                });\n",
       "                delete val;\n",
       "                delete msg.content.data.value;\n",
       "            });\n",
       "\t    });\n",
       "\n",
       "\t    // coordingate with Comm and redraw Signals\n",
       "\t    // XXX: Test using Reactive here to improve performance\n",
       "\t    $([IPython.events]).on(\n",
       "\t\t'output_appended.OutputArea', function (event, type, value, md, toinsert) {\n",
       "\t\t    if (md && md.reactive) {\n",
       "                // console.log(md.comm_id);\n",
       "                toinsert.addClass(\"signal-\" + md.comm_id);\n",
       "                toinsert.data(\"type\", type);\n",
       "                // Signal back indicating the mimetype required\n",
       "                var comm_manager = IPython.notebook.kernel.comm_manager;\n",
       "                var comm = comm_manager.comms[md.comm_id];\n",
       "                comm.then(function (c) {\n",
       "                    c.send({action: \"subscribe_mime\",\n",
       "                       mime: type});\n",
       "                    toinsert.bind(\"destroyed\", function() {\n",
       "                        c.send({action: \"unsubscribe_mime\",\n",
       "                               mime: type});\n",
       "                    });\n",
       "                })\n",
       "\t\t    }\n",
       "\t    });\n",
       "\t}\n",
       "\n",
       "\ttry {\n",
       "\t    // try to initialize right away. otherwise, wait on the status_started event.\n",
       "\t    initComm(undefined, IPython.notebook);\n",
       "\t} catch (e) {\n",
       "\t    $([IPython.events]).on('kernel_created.Kernel kernel_created.Session', initComm);\n",
       "\t}\n",
       "    });\n",
       "})(IPython, jQuery, _, MathJax);\n",
       "</script>\n",
       "    <script>\n",
       "        window.interactLoadedFlag = true\n",
       "       $(\"#interact-js-shim\").bind(\"destroyed\", function () {\n",
       "           if (window.interactLoadedFlag) {\n",
       "               console.warn(\"JavaScript required by Interact will be removed if you remove this cell or run using Interact more than once.\")\n",
       "           }\n",
       "       })\n",
       "       $([IPython.events]).on(\"kernel_starting.Kernel kernel_restarting.Kernel\", function () { window.interactLoadedFlag = false })\n",
       "   </script>\n",
       "</div>"
      ]
     },
     "metadata": {},
     "output_type": "display_data"
    }
   ],
   "source": [
    "using Interact"
   ]
  },
  {
   "cell_type": "markdown",
   "metadata": {},
   "source": [
    "El método de Newton (también llamado algoritmo de Newton-Raphson) constituye otro método numérico iterativo para encontrar raíces de funciones. \n",
    "\n",
    "Requiere más información sobre la función, pero a cambio puede funcionar mejor. Derivaremos e implementaremos el método en este notebook."
   ]
  },
  {
   "cell_type": "markdown",
   "metadata": {},
   "source": [
    "[1] (Esta pregunta es para llevarse a cabo con papel y pluma.)\n",
    "\n",
    "Considera una función $f: \\mathbb{R} \\to \\mathbb{R}$.\n",
    "Supón que $x_0$ es una adivinanza inicial de una raíz, y que $x^*$ es la raíz exacta pero \n",
    "desconocida. Sigue los siguientes pasos para derivar el método de Newton.\n",
    "\n",
    "(i) Supón que $x_0$ es suficientemente cercana a $x^*$. Define $\\delta$ como la distancia  (con signo) de $x_0$ desde $x^*$. "
   ]
  },
  {
   "cell_type": "code",
   "execution_count": null,
   "metadata": {
    "collapsed": true
   },
   "outputs": [],
   "source": []
  },
  {
   "cell_type": "markdown",
   "metadata": {},
   "source": [
    "(ii) Escribe la ecuación que corresponde a que $x^*$ sea una raíz de la función, y exprésala en términos de $\\delta$. "
   ]
  },
  {
   "cell_type": "markdown",
   "metadata": {},
   "source": [
    "(iii) Desarrolla esta ecuación en una serie de Taylor a primer orden, para encontrar un valor aproximado de $\\delta$."
   ]
  },
  {
   "cell_type": "markdown",
   "metadata": {},
   "source": [
    "(iv) Así encuentra una ecuación para la siguiente aproximación $x_1$ a la raíz, $x_1 = x_0 + \\delta$. "
   ]
  },
  {
   "cell_type": "markdown",
   "metadata": {},
   "source": [
    "[2] Demuestra que el método Babilónico es un caso especial del método de Newton. [Pista: ¿Para cuál función $f$?]"
   ]
  },
  {
   "cell_type": "markdown",
   "metadata": {},
   "source": [
    "El método Babilónico, calcula las raíces de un cierto número $S$, $\\sqrt{S}$. \n",
    "\n",
    "La función es: $f(x) = x^2 - S$ \n",
    "\n",
    "La derivada de $f(x)$ es: $fp(x) = 2 x$\n",
    "\n",
    "Si ahora aplicamos el método de Newton a $f$:\n",
    "\n",
    "$$x_{n+1} = x_n - \\frac{f(x_n)}{fp(x_n)}$$\n",
    "Sustituyendo,\n",
    "$$x_{n+1} = x_n - \\frac{x_n^2 - S}{2 x_n}$$\n",
    "$$x_{n+1} = x_n - \\frac{x_n^2}{2 x_n} + \\frac{S}{2 x_n}$$\n",
    "$$x_{n+1} = x_n - \\frac{x_n}{2} + \\frac{S}{2 x_n}$$\n",
    "$$x_{n+1} = \\frac{x_n}{2} + \\frac{S}{2 x_n}$$\n",
    "$$x_{n+1} = \\frac{1}{2} (x_n + \\frac{S}{x_n})$$\n",
    "\n",
    "Tomando $y_n = \\frac{S}{x_n}$\n",
    "\n",
    "Tenemos \n",
    "$$x_{n+1} = \\frac{1}{2} (x_n + y_n)$$\n",
    "\n",
    "\n",
    "Dado que al iterar este resultado obtenemos $\\sqrt{S}$, se puede concluir que la función $f(x) = x^2 - S$ es un caso especial del método de Newton."
   ]
  },
  {
   "cell_type": "markdown",
   "metadata": {},
   "source": [
    "[3] Escribe una función que implementa el método de Newton. Puedes suponer que el usuario provenga tanto la función `f` como su derivada `fp` como argumentos a la función `newton` (así como la condición inicial `x0`). [Posteriormente veremos cómo evitar tener que proveer también la derivada.]"
   ]
  },
  {
   "cell_type": "code",
   "execution_count": 1,
   "metadata": {
    "collapsed": false
   },
   "outputs": [
    {
     "data": {
      "text/plain": [
       "Newt"
      ]
     },
     "execution_count": 1,
     "metadata": {},
     "output_type": "execute_result"
    }
   ],
   "source": [
    "\"\"\" La función Newt(f::Function, fp, x0::Number, n) calcula, a partir de una condición inicial x0,\n",
    "la aproximación de una raíz de la función f, iterando n veces.\"\"\"\n",
    "\n",
    "function Newt(f::Function, fp, x0::Number, n)\n",
    "    xx = Number[x0]\n",
    "    yy = Number[]\n",
    "    for i in 1:n\n",
    "        y = f(xx[i])\n",
    "        dy = fp(xx[i])\n",
    "        xn = xx[i] - y/dy\n",
    "        push!(yy, xn)\n",
    "        push!(xx, xn)\n",
    "        #@show i, y, dy, v\n",
    "    end\n",
    "    return xx, yy\n",
    "end"
   ]
  },
  {
   "cell_type": "code",
   "execution_count": 2,
   "metadata": {
    "collapsed": false
   },
   "outputs": [
    {
     "data": {
      "text/plain": [
       "f (generic function with 1 method)"
      ]
     },
     "execution_count": 2,
     "metadata": {},
     "output_type": "execute_result"
    }
   ],
   "source": [
    "#Definimos una función f\n",
    "f(x) = x^2"
   ]
  },
  {
   "cell_type": "code",
   "execution_count": 3,
   "metadata": {
    "collapsed": false
   },
   "outputs": [
    {
     "data": {
      "text/plain": [
       "fp (generic function with 1 method)"
      ]
     },
     "execution_count": 3,
     "metadata": {},
     "output_type": "execute_result"
    }
   ],
   "source": [
    "# Se define la derivada de la función f\n",
    "fp(x) = 2x"
   ]
  },
  {
   "cell_type": "code",
   "execution_count": 4,
   "metadata": {
    "collapsed": false
   },
   "outputs": [
    {
     "data": {
      "text/plain": [
       "(Number[1,0.5,0.25,0.125,0.0625,0.03125,0.015625,0.0078125,0.00390625,0.00195313  …  4.03897e-28,2.01948e-28,1.00974e-28,5.04871e-29,2.52435e-29,1.26218e-29,6.31089e-30,3.15544e-30,1.57772e-30,7.88861e-31],Number[0.5,0.25,0.125,0.0625,0.03125,0.015625,0.0078125,0.00390625,0.00195313,0.000976563  …  4.03897e-28,2.01948e-28,1.00974e-28,5.04871e-29,2.52435e-29,1.26218e-29,6.31089e-30,3.15544e-30,1.57772e-30,7.88861e-31])"
      ]
     },
     "execution_count": 4,
     "metadata": {},
     "output_type": "execute_result"
    }
   ],
   "source": [
    "# Prueba\n",
    "x, y = Newt(f, fp, 1, 100)"
   ]
  },
  {
   "cell_type": "markdown",
   "metadata": {},
   "source": [
    "[4] Dibuja (e.g. con `Plots.jl`) la dinámica del método iterativo, dada una función $f$ y una condición inicial $x_0$. Para hacerlo, líneas entre $(x_n, 0)$ y $(x_n, f(x_n))$, así como entre $(x_n, f(x_n)$ y $(x_{n+1}, 0)$. Hazlo interactivo con `Interact.jl`. Viendo la figura, interpreta geométricamente lo que está haciendo el método de Newton-Raphson."
   ]
  },
  {
   "cell_type": "code",
   "execution_count": 5,
   "metadata": {
    "collapsed": false
   },
   "outputs": [
    {
     "data": {
      "text/plain": [
       "dinam (generic function with 1 method)"
      ]
     },
     "execution_count": 5,
     "metadata": {},
     "output_type": "execute_result"
    }
   ],
   "source": [
    "function dinam(f::Function, x0::Number, n)\n",
    "    \n",
    "    vx = Number[] # Arreglo con los valores xn\n",
    "    v0y = Number[] # Arreglo con ceros\n",
    "    vfy = Number[] # Arreglo de f(xn)\n",
    "    \n",
    "    push!(vx, x0)\n",
    "\n",
    "    for i in 1:n\n",
    "\n",
    "        y = f(x0)\n",
    "        push!(vfy, y)\n",
    "        push!(v0y, 0)\n",
    "        \n",
    "        push!(vx,y)\n",
    "        x0 = y\n",
    "    end\n",
    "    return vx, v0y, vfy\n",
    "end"
   ]
  },
  {
   "cell_type": "code",
   "execution_count": 6,
   "metadata": {
    "collapsed": false
   },
   "outputs": [
    {
     "data": {
      "text/plain": [
       "orb (generic function with 1 method)"
      ]
     },
     "execution_count": 6,
     "metadata": {},
     "output_type": "execute_result"
    }
   ],
   "source": [
    "function orb(f::Function, x0::Number, n)\n",
    "    \n",
    "    ox = Float64[]\n",
    "    oy = Float64[]\n",
    "    \n",
    "    push!(ox, x0)\n",
    "    push!(oy, 0)\n",
    "\n",
    "    for i in 1:n\n",
    "        \n",
    "        push!(ox, x0)\n",
    "        y = f(x0)\n",
    "        push!(oy, y)\n",
    "        \n",
    "        push!(ox,y)\n",
    "        push!(oy,y)\n",
    "        x0 = y\n",
    "    end\n",
    "        return ox, oy\n",
    "end"
   ]
  },
  {
   "cell_type": "code",
   "execution_count": 7,
   "metadata": {
    "collapsed": false
   },
   "outputs": [
    {
     "data": {
      "text/plain": [
       "(Number[1,1,1,1,1,1,1,1,1,1  …  1,1,1,1,1,1,1,1,1,1],Number[0,0,0,0,0,0,0,0,0,0  …  0,0,0,0,0,0,0,0,0,0],Number[1,1,1,1,1,1,1,1,1,1  …  1,1,1,1,1,1,1,1,1,1])"
      ]
     },
     "execution_count": 7,
     "metadata": {},
     "output_type": "execute_result"
    }
   ],
   "source": [
    "d1x, d10, d1y = dinam(f, 1, 100)"
   ]
  },
  {
   "cell_type": "code",
   "execution_count": 8,
   "metadata": {
    "collapsed": false
   },
   "outputs": [
    {
     "data": {
      "text/plain": [
       "([1.0,1.0,1.0,1.0,1.0,1.0,1.0,1.0,1.0,1.0  …  1.0,1.0,1.0,1.0,1.0,1.0,1.0,1.0,1.0,1.0],[0.0,1.0,1.0,1.0,1.0,1.0,1.0,1.0,1.0,1.0  …  1.0,1.0,1.0,1.0,1.0,1.0,1.0,1.0,1.0,1.0])"
      ]
     },
     "execution_count": 8,
     "metadata": {},
     "output_type": "execute_result"
    }
   ],
   "source": [
    "orb1x, orb1y = orb(f, 1, 100)"
   ]
  },
  {
   "cell_type": "code",
   "execution_count": 37,
   "metadata": {
    "collapsed": false
   },
   "outputs": [],
   "source": [
    "px = collect(dx)\n",
    "p0 = collect(d0)\n",
    "py = collect(dy);"
   ]
  },
  {
   "cell_type": "code",
   "execution_count": 11,
   "metadata": {
    "collapsed": false
   },
   "outputs": [
    {
     "data": {
      "text/html": [
       "<img src=\"data:image/png;base64,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\" />"
      ]
     },
     "execution_count": 11,
     "metadata": {},
     "output_type": "execute_result"
    },
    {
     "name": "stderr",
     "output_type": "stream",
     "text": [
      "/usr/local/lib/python2.7/site-packages/matplotlib/collections.py:590: FutureWarning: elementwise comparison failed; returning scalar instead, but in the future will perform elementwise comparison\n",
      "  if self._edgecolors == str('face'):\n"
     ]
    }
   ],
   "source": [
    "plot(x->x^2, xlabel=L\"x\", ylabel=L\"f(x)\", title=L\"Gráfica\", lab=\"x^2\")\n",
    "plot!([d1x[i] for i in 1:100], [d10[i] for i in 1:100], m=:square, )\n",
    "plot!([d1x[i] for i in 1:100], [d1y[i] for i in 1:100], m=:square)\n",
    "plot!(orb1x, orb1y)\n"
   ]
  },
  {
   "cell_type": "markdown",
   "metadata": {},
   "source": [
    "[5] Aplica el método de Newton para encontrar raíces de distintas funciones. ¿Qué ocurre si empiezas con distintas condiciones iniciales? Prueba con distintas funciones."
   ]
  },
  {
   "cell_type": "code",
   "execution_count": 117,
   "metadata": {
    "collapsed": false
   },
   "outputs": [
    {
     "name": "stderr",
     "output_type": "stream",
     "text": [
      "WARNING: Method definition g(Any) in module Main at In[63]:1 overwritten at In[117]:1.\n"
     ]
    },
    {
     "data": {
      "text/plain": [
       "g (generic function with 1 method)"
      ]
     },
     "execution_count": 117,
     "metadata": {},
     "output_type": "execute_result"
    }
   ],
   "source": [
    "g(x) = x^3"
   ]
  },
  {
   "cell_type": "code",
   "execution_count": 118,
   "metadata": {
    "collapsed": false
   },
   "outputs": [
    {
     "name": "stderr",
     "output_type": "stream",
     "text": [
      "WARNING: Method definition gp(Any) in module Main at In[64]:1 overwritten at In[118]:1.\n"
     ]
    },
    {
     "data": {
      "text/plain": [
       "gp (generic function with 1 method)"
      ]
     },
     "execution_count": 118,
     "metadata": {},
     "output_type": "execute_result"
    }
   ],
   "source": [
    "gp(x) = 3 * x^2"
   ]
  },
  {
   "cell_type": "code",
   "execution_count": 119,
   "metadata": {
    "collapsed": false
   },
   "outputs": [
    {
     "data": {
      "text/plain": [
       "(Number[1,0.666667,0.444444,0.296296,0.197531,0.131687,0.0877915,0.0585277,0.0390184,0.0260123  …  9.45574e-17,6.30383e-17,4.20255e-17,2.8017e-17,1.8678e-17,1.2452e-17,8.30133e-18,5.53422e-18,3.68948e-18,2.45965e-18],Number[0.666667,0.444444,0.296296,0.197531,0.131687,0.0877915,0.0585277,0.0390184,0.0260123,0.0173415  …  9.45574e-17,6.30383e-17,4.20255e-17,2.8017e-17,1.8678e-17,1.2452e-17,8.30133e-18,5.53422e-18,3.68948e-18,2.45965e-18])"
      ]
     },
     "execution_count": 119,
     "metadata": {},
     "output_type": "execute_result"
    }
   ],
   "source": [
    "x, y = Newt(g, gp, 1, 100)"
   ]
  },
  {
   "cell_type": "code",
   "execution_count": 120,
   "metadata": {
    "collapsed": false
   },
   "outputs": [
    {
     "data": {
      "text/plain": [
       "(Number[1,1,1,1,1,1,1,1,1,1  …  1,1,1,1,1,1,1,1,1,1],Number[0,0,0,0,0,0,0,0,0,0  …  0,0,0,0,0,0,0,0,0,0],Number[1,1,1,1,1,1,1,1,1,1  …  1,1,1,1,1,1,1,1,1,1])"
      ]
     },
     "execution_count": 120,
     "metadata": {},
     "output_type": "execute_result"
    }
   ],
   "source": [
    "dx, d0, dy = dinam(g, 1, 100)"
   ]
  },
  {
   "cell_type": "code",
   "execution_count": 121,
   "metadata": {
    "collapsed": false
   },
   "outputs": [
    {
     "data": {
      "text/plain": [
       "([1.0,1.0,1.0,1.0,1.0,1.0,1.0,1.0,1.0,1.0  …  1.0,1.0,1.0,1.0,1.0,1.0,1.0,1.0,1.0,1.0],[0.0,1.0,1.0,1.0,1.0,1.0,1.0,1.0,1.0,1.0  …  1.0,1.0,1.0,1.0,1.0,1.0,1.0,1.0,1.0,1.0])"
      ]
     },
     "execution_count": 121,
     "metadata": {},
     "output_type": "execute_result"
    }
   ],
   "source": [
    "orbx, orby = orb(g, 1, 100)"
   ]
  },
  {
   "cell_type": "code",
   "execution_count": 122,
   "metadata": {
    "collapsed": false
   },
   "outputs": [
    {
     "data": {
      "text/html": [
       "<img src=\"data:image/png;base64,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\" />"
      ]
     },
     "execution_count": 122,
     "metadata": {},
     "output_type": "execute_result"
    }
   ],
   "source": [
    "plot(x->x^3, xlabel=L\"x\", ylabel=L\"f(x)\", title=L\"Gráfica\")\n",
    "plot!([dx[i] for i in 1:100], [d0[i] for i in 1:100], m=:square)\n",
    "plot!([dx[i] for i in 1:100], [dy[i] for i in 1:100], m=:square)\n",
    "plot!(orbx, orby)"
   ]
  },
  {
   "cell_type": "code",
   "execution_count": 131,
   "metadata": {
    "collapsed": false
   },
   "outputs": [
    {
     "data": {
      "text/plain": [
       "(Number[-0.8,-0.533333,-0.355556,-0.237037,-0.158025,-0.10535,-0.0702332,-0.0468221,-0.0312148,-0.0208098,-0.0138732],Number[-0.533333,-0.355556,-0.237037,-0.158025,-0.10535,-0.0702332,-0.0468221,-0.0312148,-0.0208098,-0.0138732])"
      ]
     },
     "execution_count": 131,
     "metadata": {},
     "output_type": "execute_result"
    }
   ],
   "source": [
    "x, y = Newt(g, gp, -0.8, 10)"
   ]
  },
  {
   "cell_type": "code",
   "execution_count": 132,
   "metadata": {
    "collapsed": false
   },
   "outputs": [
    {
     "data": {
      "text/plain": [
       "(Number[-0.8,-0.512,-0.134218,-0.00241785,-1.41348e-8,-2.82401e-24,-2.25217e-71,-1.14236e-212,-0.0,-0.0,-0.0],Number[0,0,0,0,0,0,0,0,0,0],Number[-0.512,-0.134218,-0.00241785,-1.41348e-8,-2.82401e-24,-2.25217e-71,-1.14236e-212,-0.0,-0.0,-0.0])"
      ]
     },
     "execution_count": 132,
     "metadata": {},
     "output_type": "execute_result"
    }
   ],
   "source": [
    "dx, d0, dy = dinam(g, -0.8, 10)"
   ]
  },
  {
   "cell_type": "code",
   "execution_count": 133,
   "metadata": {
    "collapsed": false
   },
   "outputs": [
    {
     "data": {
      "text/plain": [
       "([-0.8,-0.8,-0.512,-0.512,-0.134218,-0.134218,-0.00241785,-0.00241785,-1.41348e-8,-1.41348e-8  …  -2.82401e-24,-2.25217e-71,-2.25217e-71,-1.14236e-212,-1.14236e-212,-0.0,-0.0,-0.0,-0.0,-0.0],[0.0,-0.512,-0.512,-0.134218,-0.134218,-0.00241785,-0.00241785,-1.41348e-8,-1.41348e-8,-2.82401e-24  …  -2.25217e-71,-2.25217e-71,-1.14236e-212,-1.14236e-212,-0.0,-0.0,-0.0,-0.0,-0.0,-0.0])"
      ]
     },
     "execution_count": 133,
     "metadata": {},
     "output_type": "execute_result"
    }
   ],
   "source": [
    "orbx, orby = orb(g, -0.8, 10)"
   ]
  },
  {
   "cell_type": "code",
   "execution_count": 134,
   "metadata": {
    "collapsed": false
   },
   "outputs": [
    {
     "data": {
      "text/html": [
       "<img src=\"data:image/png;base64,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\" />"
      ]
     },
     "execution_count": 134,
     "metadata": {},
     "output_type": "execute_result"
    }
   ],
   "source": [
    "plot(x->x^3, xlabel=L\"x\", ylabel=L\"f(x)\", title=L\"Gráfica\")\n",
    "plot!([dx[i] for i in 1:10], [d0[i] for i in 1:10], m=:square)\n",
    "plot!([dx[i] for i in 1:10], [dy[i] for i in 1:10], m=:square)\n",
    "plot!(orbx, orby)"
   ]
  },
  {
   "cell_type": "code",
   "execution_count": 15,
   "metadata": {
    "collapsed": false
   },
   "outputs": [
    {
     "data": {
      "text/plain": [
       "j (generic function with 1 method)"
      ]
     },
     "execution_count": 15,
     "metadata": {},
     "output_type": "execute_result"
    }
   ],
   "source": [
    "j(x) = 2*x^3 + 10"
   ]
  },
  {
   "cell_type": "code",
   "execution_count": 16,
   "metadata": {
    "collapsed": false
   },
   "outputs": [
    {
     "data": {
      "text/plain": [
       "jp (generic function with 1 method)"
      ]
     },
     "execution_count": 16,
     "metadata": {},
     "output_type": "execute_result"
    }
   ],
   "source": [
    "jp(x) = 6*x^2"
   ]
  },
  {
   "cell_type": "code",
   "execution_count": 140,
   "metadata": {
    "collapsed": false
   },
   "outputs": [
    {
     "data": {
      "text/html": [
       "<img src=\"data:image/png;base64,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\" />"
      ]
     },
     "execution_count": 140,
     "metadata": {},
     "output_type": "execute_result"
    }
   ],
   "source": [
    "plot(x->2 * x^3 +10)"
   ]
  },
  {
   "cell_type": "code",
   "execution_count": 36,
   "metadata": {
    "collapsed": false
   },
   "outputs": [
    {
     "data": {
      "text/plain": [
       "(Number[2,0.916667,-1.37236,-1.79984,-1.71439,-1.70999,-1.70998,-1.70998,-1.70998,-1.70998,-1.70998],Number[0.916667,-1.37236,-1.79984,-1.71439,-1.70999,-1.70998,-1.70998,-1.70998,-1.70998,-1.70998])"
      ]
     },
     "execution_count": 36,
     "metadata": {},
     "output_type": "execute_result"
    }
   ],
   "source": [
    "x, y = Newt(j, jp, 2, 10)"
   ]
  },
  {
   "cell_type": "code",
   "execution_count": 37,
   "metadata": {
    "collapsed": false
   },
   "outputs": [
    {
     "data": {
      "text/plain": [
       "(Number[2,26,35162,86946219743066,9138465464133003098,5812100572278040410,2963350071221823322,8650700619225376602,5634054550641846106,3818549708162213722,780433300248209242],Number[0,0,0,0,0,0,0,0,0,0],Number[26,35162,86946219743066,9138465464133003098,5812100572278040410,2963350071221823322,8650700619225376602,5634054550641846106,3818549708162213722,780433300248209242])"
      ]
     },
     "execution_count": 37,
     "metadata": {},
     "output_type": "execute_result"
    }
   ],
   "source": [
    "dx, d0, dy = dinam(j, 2, 10)"
   ]
  },
  {
   "cell_type": "code",
   "execution_count": 38,
   "metadata": {
    "collapsed": false
   },
   "outputs": [
    {
     "data": {
      "text/plain": [
       "([2.0,2.0,26.0,26.0,35162.0,35162.0,8.69462e13,8.69462e13,9.13847e18,9.13847e18  …  5.8121e18,2.96335e18,2.96335e18,8.6507e18,8.6507e18,5.63405e18,5.63405e18,3.81855e18,3.81855e18,7.80433e17],[0.0,26.0,26.0,35162.0,35162.0,8.69462e13,8.69462e13,9.13847e18,9.13847e18,5.8121e18  …  2.96335e18,2.96335e18,8.6507e18,8.6507e18,5.63405e18,5.63405e18,3.81855e18,3.81855e18,7.80433e17,7.80433e17])"
      ]
     },
     "execution_count": 38,
     "metadata": {},
     "output_type": "execute_result"
    }
   ],
   "source": [
    "orbx, orby = orb(j, 2, 10)"
   ]
  },
  {
   "cell_type": "code",
   "execution_count": 40,
   "metadata": {
    "collapsed": false
   },
   "outputs": [
    {
     "data": {
      "text/html": [
       "<img src=\"data:image/png;base64,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\" />"
      ]
     },
     "execution_count": 40,
     "metadata": {},
     "output_type": "execute_result"
    }
   ],
   "source": [
    "plot(x->2*x^3 +10, xlabel=L\"x\", ylabel=L\"f(x)\", title=L\"Gráfica\")\n",
    "#plot!([dx[i] for i in 1:10], [d0[i] for i in 1:10], m=:square)\n",
    "#plot!([dx[i] for i in 1:10], [dy[i] for i in 1:10], m=:square)\n",
    "plot!(orbx, orby)"
   ]
  },
  {
   "cell_type": "markdown",
   "metadata": {},
   "source": [
    "[6] ¿Qué tan rápido converge el método cuando esté cerca de una raíz. Utiliza `BigFloat`s. ¿Es mejor que bisección?"
   ]
  },
  {
   "cell_type": "code",
   "execution_count": 12,
   "metadata": {
    "collapsed": false
   },
   "outputs": [
    {
     "ename": "DomainError",
     "evalue": "DomainError:",
     "output_type": "error",
     "traceback": [
      "DomainError:",
      "",
      " in nan_dom_err at ./math.jl:196 [inlined]",
      " in log10(::Float64) at ./math.jl:202",
      " in (::Plots.##114#115{Symbol})(::Float64) at /Users/Yuriko/.julia/v0.5/Plots/src/axes.jl:148",
      " in optimal_ticks_and_labels(::Plots.Axis, ::Void) at /Users/Yuriko/.julia/v0.5/Plots/src/axes.jl:161",
      " in get_ticks(::Plots.Axis) at /Users/Yuriko/.julia/v0.5/Plots/src/axes.jl:204",
      " in _before_layout_calcs(::Plots.Plot{Plots.PyPlotBackend}) at /Users/Yuriko/.julia/v0.5/Plots/src/backends/pyplot.jl:1034",
      " in prepare_output(::Plots.Plot{Plots.PyPlotBackend}) at /Users/Yuriko/.julia/v0.5/Plots/src/plot.jl:247",
      " in show(::Base64EncodePipe, ::MIME{Symbol(\"image/png\")}, ::Plots.Plot{Plots.PyPlotBackend}) at /Users/Yuriko/.julia/v0.5/Plots/src/output.jl:196",
      " in base64encode(::Function, ::MIME{Symbol(\"image/png\")}, ::Vararg{Any,N}) at ./base64.jl:160",
      " in show(::Base.AbstractIOBuffer{Array{UInt8,1}}, ::MIME{Symbol(\"text/html\")}, ::Plots.Plot{Plots.PyPlotBackend}) at /Users/Yuriko/.julia/v0.5/Plots/src/output.jl:174",
      " in show(::Base.AbstractIOBuffer{Array{UInt8,1}}, ::String, ::Plots.Plot{Plots.PyPlotBackend}) at ./multimedia.jl:33",
      " in #sprint#304(::Void, ::Function, ::Int64, ::Function, ::String, ::Vararg{Any,N}) at ./strings/io.jl:37",
      " in display_dict(::Plots.Plot{Plots.PyPlotBackend}) at /Users/Yuriko/.julia/v0.5/Plots/src/output.jl:266",
      " in execute_request(::ZMQ.Socket, ::IJulia.Msg) at /Users/Yuriko/.julia/v0.5/IJulia/src/execute_request.jl:188",
      " in eventloop(::ZMQ.Socket) at /Users/Yuriko/.julia/v0.5/IJulia/src/eventloop.jl:8",
      " in (::IJulia.##13#19)() at ./task.jl:360"
     ]
    }
   ],
   "source": [
    "#Usando la primera función f(x) = x^2\n",
    "plot(x->x^2, xlabel=L\"x\", ylabel=L\"f(x)\", title=L\"Gráfica\", lab=\"x^2\", xscale=:log10, yscale=:log10)\n",
    "#plot!([d1x[i] for i in 1:100], [d10[i] for i in 1:100], m=:square, )\n",
    "#plot!([d1x[i] for i in 1:100], [d1y[i] for i in 1:100], m=:square)\n",
    "#plot!(orb1x, orb1y)"
   ]
  },
  {
   "cell_type": "markdown",
   "metadata": {},
   "source": [
    "Sin embargo, es posible que el método de Newton *no converja*:"
   ]
  },
  {
   "cell_type": "markdown",
   "metadata": {},
   "source": [
    "[7] El mismo código del método de Newton debería funcionar con números complejos. Utilízalo para encontrar raíces de la función $f(z) = z^3 -1$ **en el plano complejo**.\n",
    "\n",
    "Dada una condición inicial, dibuja (por ejemplo) la parte imaginaria de la raíz a la cual converge (por ejemplo, después de un cierto número de pasos). Hazlo para una malla de condiciones iniciales en el plano. ¿Qué es lo que ves?"
   ]
  },
  {
   "cell_type": "code",
   "execution_count": 41,
   "metadata": {
    "collapsed": false
   },
   "outputs": [
    {
     "data": {
      "text/plain": [
       "fun (generic function with 1 method)"
      ]
     },
     "execution_count": 41,
     "metadata": {},
     "output_type": "execute_result"
    }
   ],
   "source": [
    "fun(z) = z^3 -1"
   ]
  },
  {
   "cell_type": "code",
   "execution_count": 42,
   "metadata": {
    "collapsed": false
   },
   "outputs": [
    {
     "data": {
      "text/plain": [
       "funp (generic function with 1 method)"
      ]
     },
     "execution_count": 42,
     "metadata": {},
     "output_type": "execute_result"
    }
   ],
   "source": [
    "funp(z) = 3 * z^2 "
   ]
  },
  {
   "cell_type": "code",
   "execution_count": 43,
   "metadata": {
    "collapsed": false
   },
   "outputs": [
    {
     "data": {
      "text/plain": [
       "(Number[1.0+1.0im,0.666667+0.5im,0.578844-0.127467im,1.24696+0.313578im,1.00895+0.113678im,0.987868+0.00383684im,1.00013-9.53222e-5im,1.0-2.55681e-8im,1.0-4.55624e-16im,1.0+4.93038e-31im  …  1.0+0.0im,1.0+0.0im,1.0+0.0im,1.0+0.0im,1.0+0.0im,1.0+0.0im,1.0+0.0im,1.0+0.0im,1.0+0.0im,1.0+0.0im],Number[0.666667+0.5im,0.578844-0.127467im,1.24696+0.313578im,1.00895+0.113678im,0.987868+0.00383684im,1.00013-9.53222e-5im,1.0-2.55681e-8im,1.0-4.55624e-16im,1.0+4.93038e-31im,1.0+0.0im  …  1.0+0.0im,1.0+0.0im,1.0+0.0im,1.0+0.0im,1.0+0.0im,1.0+0.0im,1.0+0.0im,1.0+0.0im,1.0+0.0im,1.0+0.0im])"
      ]
     },
     "execution_count": 43,
     "metadata": {},
     "output_type": "execute_result"
    }
   ],
   "source": [
    "x, y = Newt(fun, funp, 1.0 + im, 100)"
   ]
  },
  {
   "cell_type": "code",
   "execution_count": 44,
   "metadata": {
    "collapsed": false
   },
   "outputs": [
    {
     "data": {
      "text/plain": [
       "malla_compleja (generic function with 1 method)"
      ]
     },
     "execution_count": 44,
     "metadata": {},
     "output_type": "execute_result"
    }
   ],
   "source": [
    "# Creamos un arreglo de números complejos \n",
    "function malla_compleja(n::Int64)\n",
    "    v = zeros(Complex128, n, n)\n",
    "    real = collect(linspace(-1, 1, n))\n",
    "    imag = collect(linspace(-1, 1, n))\n",
    "    for i in 1:n\n",
    "        for j in 1:n\n",
    "            v[j,1] = real[i] - imag[j]*im\n",
    "        end\n",
    "    end\n",
    "    return v\n",
    "end"
   ]
  },
  {
   "cell_type": "code",
   "execution_count": 47,
   "metadata": {
    "collapsed": false
   },
   "outputs": [
    {
     "data": {
      "text/plain": [
       "4×4 Array{Complex{Float64},2}:\n",
       " 1.0+1.0im       0.0+0.0im  0.0+0.0im  0.0+0.0im\n",
       " 1.0+0.333333im  0.0+0.0im  0.0+0.0im  0.0+0.0im\n",
       " 1.0-0.333333im  0.0+0.0im  0.0+0.0im  0.0+0.0im\n",
       " 1.0-1.0im       0.0+0.0im  0.0+0.0im  0.0+0.0im"
      ]
     },
     "execution_count": 47,
     "metadata": {},
     "output_type": "execute_result"
    }
   ],
   "source": [
    "A = malla_compleja(4)"
   ]
  },
  {
   "cell_type": "code",
   "execution_count": 48,
   "metadata": {
    "collapsed": false
   },
   "outputs": [],
   "source": [
    "for i in collect(A)\n",
    "    plot(i->i^3 -1, xlabel=L\"x\", ylabel=L\"f(x)\", title=L\"Gráfica\", lab=\"z^3 -1\")\n",
    "end\n"
   ]
  },
  {
   "cell_type": "markdown",
   "metadata": {},
   "source": [
    "[8] Haz lo mismo para otras funciones en el plano complejo."
   ]
  },
  {
   "cell_type": "markdown",
   "metadata": {},
   "source": []
  },
  {
   "cell_type": "markdown",
   "metadata": {},
   "source": [
    "[9] Considera ahora cómo encontrar raíces de un sistema de ecuaciones, escritos en forma vectorial,\n",
    "\n",
    "$$\\mathbf{f}(\\mathbf{x}) = \\mathbf{0}.$$\n",
    "\n",
    "Repite un desarrollo siguiendo la pauta de la pregunta [1] en este contexto.\n",
    "¿Qué es lo que cambia? ¿Qué tipo de operación numérica necesitaríamos para llevar a cabo el método de Newton en este nuevo contexto?"
   ]
  }
 ],
 "metadata": {
  "kernelspec": {
   "display_name": "Julia 0.5.0",
   "language": "julia",
   "name": "julia-0.5"
  },
  "language_info": {
   "file_extension": ".jl",
   "mimetype": "application/julia",
   "name": "julia",
   "version": "0.5.0"
  },
  "toc": {
   "colors": {
    "hover_highlight": "#DAA520",
    "running_highlight": "#FF0000",
    "selected_highlight": "#FFD700"
   },
   "moveMenuLeft": true,
   "nav_menu": {
    "height": "29px",
    "width": "251px"
   },
   "navigate_menu": true,
   "number_sections": true,
   "sideBar": true,
   "threshold": "2",
   "toc_cell": false,
   "toc_section_display": "block",
   "toc_window_display": false
  }
 },
 "nbformat": 4,
 "nbformat_minor": 2
}

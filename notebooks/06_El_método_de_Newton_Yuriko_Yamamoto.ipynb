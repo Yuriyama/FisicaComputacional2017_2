{
 "cells": [
  {
   "cell_type": "markdown",
   "metadata": {},
   "source": [
    "# El método de Newton"
   ]
  },
  {
   "cell_type": "code",
   "execution_count": 1,
   "metadata": {
    "collapsed": false
   },
   "outputs": [
    {
     "data": {
      "text/plain": [
       "Plots.PyPlotBackend()"
      ]
     },
     "execution_count": 1,
     "metadata": {},
     "output_type": "execute_result"
    }
   ],
   "source": [
    "using Plots, LaTeXStrings\n",
    "pyplot()"
   ]
  },
  {
   "cell_type": "markdown",
   "metadata": {},
   "source": [
    "El método de Newton (también llamado algoritmo de Newton-Raphson) constituye otro método numérico iterativo para encontrar raíces de funciones. \n",
    "\n",
    "Requiere más información sobre la función, pero a cambio puede funcionar mejor. Derivaremos e implementaremos el método en este notebook."
   ]
  },
  {
   "cell_type": "markdown",
   "metadata": {},
   "source": [
    "[1] (Esta pregunta es para llevarse a cabo con papel y pluma.)\n",
    "\n",
    "Considera una función $f: \\mathbb{R} \\to \\mathbb{R}$.\n",
    "Supón que $x_0$ es una adivinanza inicial de una raíz, y que $x^*$ es la raíz exacta pero \n",
    "desconocida. Sigue los siguientes pasos para derivar el método de Newton.\n",
    "\n",
    "(i) Supón que $x_0$ es suficientemente cercana a $x^*$. Define $\\delta$ como la distancia  (con signo) de $x_0$ desde $x^*$. "
   ]
  },
  {
   "cell_type": "markdown",
   "metadata": {},
   "source": [
    "(ii) Escribe la ecuación que corresponde a que $x^*$ sea una raíz de la función, y exprésala en términos de $\\delta$. "
   ]
  },
  {
   "cell_type": "markdown",
   "metadata": {},
   "source": [
    "(iii) Desarrolla esta ecuación en una serie de Taylor a primer orden, para encontrar un valor aproximado de $\\delta$."
   ]
  },
  {
   "cell_type": "markdown",
   "metadata": {},
   "source": [
    "(iv) Así encuentra una ecuación para la siguiente aproximación $x_1$ a la raíz, $x_1 = x_0 + \\delta$. "
   ]
  },
  {
   "cell_type": "markdown",
   "metadata": {},
   "source": [
    "[2] Demuestra que el método Babilónico es un caso especial del método de Newton. [Pista: ¿Para cuál función $f$?]"
   ]
  },
  {
   "cell_type": "markdown",
   "metadata": {},
   "source": [
    "El método Babilónico, calcula $sqrt(S)$. Y la función es $f(x) = x^2 - S$ "
   ]
  },
  {
   "cell_type": "markdown",
   "metadata": {},
   "source": [
    "[3] Escribe una función que implementa el método de Newton. Puedes suponer que el usuario provenga tanto la función `f` como su derivada `fp` como argumentos a la función `newton` (así como la condición inicial `x0`). [Posteriormente veremos cómo evitar tener que proveer también la derivada.]"
   ]
  },
  {
   "cell_type": "code",
   "execution_count": 6,
   "metadata": {
    "collapsed": false
   },
   "outputs": [
    {
     "name": "stderr",
     "output_type": "stream",
     "text": [
      "WARNING: Method definition Newt(Function, Any, Any, Any) in module Main at In[2]:2 overwritten at In[6]:2.\n"
     ]
    },
    {
     "data": {
      "text/plain": [
       "Newt (generic function with 1 method)"
      ]
     },
     "execution_count": 6,
     "metadata": {},
     "output_type": "execute_result"
    }
   ],
   "source": [
    "function Newt(f::Function, fp, x0, n)\n",
    "    xx = Float64[x0]\n",
    "    yy = Float64[]\n",
    "    for i in 1:n\n",
    "        y = f(xx[i])\n",
    "        dy = fp(xx[i])\n",
    "        xn = xx[i] - y/dy\n",
    "        push!(yy, xn)\n",
    "        push!(xx, xn)\n",
    "        #@show i, y, dy, v\n",
    "    end\n",
    "    return xx, yy\n",
    "end"
   ]
  },
  {
   "cell_type": "code",
   "execution_count": 3,
   "metadata": {
    "collapsed": false
   },
   "outputs": [
    {
     "data": {
      "text/plain": [
       "f (generic function with 1 method)"
      ]
     },
     "execution_count": 3,
     "metadata": {},
     "output_type": "execute_result"
    }
   ],
   "source": [
    "f(x) = x^2"
   ]
  },
  {
   "cell_type": "code",
   "execution_count": 4,
   "metadata": {
    "collapsed": false
   },
   "outputs": [
    {
     "data": {
      "text/plain": [
       "fp (generic function with 1 method)"
      ]
     },
     "execution_count": 4,
     "metadata": {},
     "output_type": "execute_result"
    }
   ],
   "source": [
    "fp(x) = 2x"
   ]
  },
  {
   "cell_type": "code",
   "execution_count": 8,
   "metadata": {
    "collapsed": false
   },
   "outputs": [
    {
     "data": {
      "text/plain": [
       "([1.0,0.5,0.25,0.125,0.0625,0.03125,0.015625,0.0078125,0.00390625,0.00195313  …  4.03897e-28,2.01948e-28,1.00974e-28,5.04871e-29,2.52435e-29,1.26218e-29,6.31089e-30,3.15544e-30,1.57772e-30,7.88861e-31],[0.5,0.25,0.125,0.0625,0.03125,0.015625,0.0078125,0.00390625,0.00195313,0.000976563  …  4.03897e-28,2.01948e-28,1.00974e-28,5.04871e-29,2.52435e-29,1.26218e-29,6.31089e-30,3.15544e-30,1.57772e-30,7.88861e-31])"
      ]
     },
     "execution_count": 8,
     "metadata": {},
     "output_type": "execute_result"
    }
   ],
   "source": [
    "x, y = Newt(f, fp, 1, 100)"
   ]
  },
  {
   "cell_type": "markdown",
   "metadata": {},
   "source": [
    "[4] Dibuja (e.g. con `Plots.jl`) la dinámica del método iterativo, dada una función $f$ y una condición inicial $x_0$. Para hacerlo, líneas entre $(x_n, 0)$ y $(x_n, f(x_n))$, así como entre $(x_n, f(x_n)$ y $(x_{n+1}, 0)$. Hazlo interactivo con `Interact.jl`. Viendo la figura, interpreta geométricamente lo que está haciendo el método de Newton-Raphson."
   ]
  },
  {
   "cell_type": "code",
   "execution_count": 18,
   "metadata": {
    "collapsed": false
   },
   "outputs": [
    {
     "name": "stderr",
     "output_type": "stream",
     "text": [
      "\u001b[1m\u001b[31mWARNING: Skipped marker arg Plots.scatter.\u001b[0m\n"
     ]
    },
    {
     "data": {
      "text/html": [
       "<img src=\"data:image/png;base64,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\" />"
      ]
     },
     "execution_count": 18,
     "metadata": {},
     "output_type": "execute_result"
    }
   ],
   "source": [
    "plot(x, y, marker=scatter, xlabel=L\"x_n\", ylabel=L\"x_n+1\", title=L\"Gráfica\")\n",
    "plot!([i for i in 0:0.1:1], [i for i in 0:0.1:1])\n",
    "plot!()"
   ]
  },
  {
   "cell_type": "markdown",
   "metadata": {},
   "source": [
    "[5] Aplica el método de Newton para encontrar raíces de distintas funciones. ¿Qué ocurre si empiezas con distintas condiciones iniciales? Prueba con distintas funciones."
   ]
  },
  {
   "cell_type": "markdown",
   "metadata": {},
   "source": [
    "[6] ¿Qué tan rápido converge el método cuando esté cerca de una raíz. Utiliza `BigFloat`s. ¿Es mejor que bisección?"
   ]
  },
  {
   "cell_type": "markdown",
   "metadata": {},
   "source": [
    "Sin embargo, es posible que el método de Newton *no converja*:"
   ]
  },
  {
   "cell_type": "markdown",
   "metadata": {},
   "source": [
    "[7] El mismo código del método de Newton debería funcionar con números complejos. Utilízalo para encontrar raíces de la función $f(z) = z^3 -1$ **en el plano complejo**.\n",
    "\n",
    "Dada una condición inicial, dibuja (por ejemplo) la parte imaginaria de la raíz a la cual converge (por ejemplo, después de un cierto número de pasos). Hazlo para una malla de condiciones iniciales en el plano. ¿Qué es lo que ves?"
   ]
  },
  {
   "cell_type": "markdown",
   "metadata": {},
   "source": [
    "[8] Haz lo mismo para otras funciones en el plano complejo."
   ]
  },
  {
   "cell_type": "markdown",
   "metadata": {},
   "source": [
    "[9] Considera ahora cómo encontrar raíces de un sistema de ecuaciones, escritos en forma vectorial,\n",
    "\n",
    "$$\\mathbf{f}(\\mathbf{x}) = \\mathbf{0}.$$\n",
    "\n",
    "Repite un desarrollo siguiendo la pauta de la pregunta [1] en este contexto.\n",
    "¿Qué es lo que cambia? ¿Qué tipo de operación numérica necesitaríamos para llevar a cabo el método de Newton en este nuevo contexto?"
   ]
  }
 ],
 "metadata": {
  "kernelspec": {
   "display_name": "Julia 0.5.0",
   "language": "julia",
   "name": "julia-0.5"
  },
  "language_info": {
   "file_extension": ".jl",
   "mimetype": "application/julia",
   "name": "julia",
   "version": "0.5.0"
  },
  "toc": {
   "colors": {
    "hover_highlight": "#DAA520",
    "running_highlight": "#FF0000",
    "selected_highlight": "#FFD700"
   },
   "moveMenuLeft": true,
   "nav_menu": {
    "height": "29px",
    "width": "251px"
   },
   "navigate_menu": true,
   "number_sections": true,
   "sideBar": true,
   "threshold": "2",
   "toc_cell": false,
   "toc_section_display": "block",
   "toc_window_display": false
  }
 },
 "nbformat": 4,
 "nbformat_minor": 2
}

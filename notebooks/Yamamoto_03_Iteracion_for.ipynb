{
 "cells": [
  {
   "cell_type": "markdown",
   "metadata": {},
   "source": [
    "# Iteración"
   ]
  },
  {
   "cell_type": "markdown",
   "metadata": {},
   "source": [
    "Las computadoras están diseñadas para llevar a cabo cálculos de forma repetida. En Julia, existen varias formas de llevar a cabo cálculos repetidos. Uno de los más sencillos es la **iteración**. Esto se refiere a que una variable recorra un conjunto de valores.\n",
    "\n",
    "Empezaremos con los bucles `for` (que corresponde a \"para\", en español).\n",
    "\n",
    "Ya hemos visto las comprensiones de arreglo, que ocupan la misma palabra `for`. Aquí, veremos cómo podemos utilizar un bucle `for` de forma más explícito, y por ende más poderoso. (Sin embargo, para tareas sencillas para crear arreglos de datos, se recomienda utilizar las comprensiones de arreglo.)"
   ]
  },
  {
   "cell_type": "markdown",
   "metadata": {},
   "source": [
    "## `for`"
   ]
  },
  {
   "cell_type": "markdown",
   "metadata": {},
   "source": [
    "Un bucle `for` itera a través de un arreglo, rango etc. (cualquier objeto \"iterable\", de hecho). Su sintaxis es:\n",
    "\n",
    "```\n",
    "for <variable> in <iterable>\n",
    "    [haz esto]\n",
    "    [y esto]\n",
    "end\n",
    "```\n",
    "\n",
    "En un bucle de este tipo, la variable toma cada valor en turno del arreglo. Se refiere a los comandos adentro como el \"cuerpo\" del bucle. Estos comandos se ejecutarán una y otra vez, hasta que se agote el iterable.\n",
    "\n",
    "Por lo tanto, este tipo de bucle se ocupa cuando se conoce de antemano el número de veces que se requiera repetir algo.\n",
    "\n",
    "El ejemplo más sencillo es el siguiente:"
   ]
  },
  {
   "cell_type": "code",
   "execution_count": 4,
   "metadata": {
    "collapsed": false
   },
   "outputs": [
    {
     "name": "stdout",
     "output_type": "stream",
     "text": [
      "El valor actual de i es 1\n",
      "El valor actual de i es 2\n",
      "El valor actual de i es 3\n",
      "El valor actual de i es 4\n",
      "El valor actual de i es 5\n",
      "El valor actual de i es 6\n",
      "El valor actual de i es 7\n",
      "El valor actual de i es 8\n",
      "El valor actual de i es 9\n",
      "El valor actual de i es 10\n"
     ]
    }
   ],
   "source": [
    "for i in 1:10\n",
    "    println(\"El valor actual de i es \", i)\n",
    "end"
   ]
  },
  {
   "cell_type": "markdown",
   "metadata": {},
   "source": [
    "Vemos que la variable `i` toma cada valor en el rango, de 1 hasta 10, uno por uno. Literalmente lo podemos leer como sigue: \"Para cada `i` en el conjunto de valores 1 hasta 10, haz lo siguiente\". (Donde \"lo siguiente\" se refiere a todos los comandos comprendidos entre el `for` y el `end` correspondiente.)"
   ]
  },
  {
   "cell_type": "markdown",
   "metadata": {},
   "source": [
    "#### Pregunta [1] \n",
    "Escribe el código a mano para imprimir lo mismo, *sin* utilizar un bucle. ¿Quisieras hacerlo para los números de 1 a 100? ¡Por algo se inventaron los bucles!"
   ]
  },
  {
   "cell_type": "code",
   "execution_count": 5,
   "metadata": {
    "collapsed": false
   },
   "outputs": [
    {
     "name": "stdout",
     "output_type": "stream",
     "text": [
      "El valor actual de i es 1\n",
      "El valor actual de i es 2\n",
      "El valor actual de i es 3\n",
      "El valor actual de i es 4\n",
      "El valor actual de i es 5\n",
      "El valor actual de i es 6\n",
      "El valor actual de i es 7\n",
      "El valor actual de i es 8\n",
      "El valor actual de i es 9\n",
      "El valor actual de i es 10\n"
     ]
    }
   ],
   "source": [
    "println(\"El valor actual de i es \", 1)\n",
    "println(\"El valor actual de i es \", 2)\n",
    "println(\"El valor actual de i es \", 3)\n",
    "println(\"El valor actual de i es \", 4)\n",
    "println(\"El valor actual de i es \", 5)\n",
    "println(\"El valor actual de i es \", 6)\n",
    "println(\"El valor actual de i es \", 7)\n",
    "println(\"El valor actual de i es \", 8)\n",
    "println(\"El valor actual de i es \", 9)\n",
    "println(\"El valor actual de i es \", 10)"
   ]
  },
  {
   "cell_type": "markdown",
   "metadata": {},
   "source": [
    "En este ejemplo, se iteró sobre un objeto de tipo rango. También se puede iterar sobre un vector:"
   ]
  },
  {
   "cell_type": "code",
   "execution_count": 6,
   "metadata": {
    "collapsed": false
   },
   "outputs": [
    {
     "name": "stdout",
     "output_type": "stream",
     "text": [
      "3\n",
      "4\n",
      "7\n"
     ]
    }
   ],
   "source": [
    "x = [3, 4, 7]\n",
    "\n",
    "for i in x\n",
    "    println(i)\n",
    "end"
   ]
  },
  {
   "cell_type": "markdown",
   "metadata": {},
   "source": [
    "#### Pregunta [2] \n",
    "Sabemos que la multiplicación por un entero es como una adición repetida. "
   ]
  },
  {
   "cell_type": "markdown",
   "metadata": {},
   "source": [
    "#### (i) \n",
    "Escribe una función mi_mult, que multiplica un número x por un entero positivo n (los dos son argumentos de la función), usando un bucle. (Es decir, puedes utilizar el + de Julia, pero ¡no el *!) Para hacerlo, utiliza una variable nueva que se llama total. ¿Con cuál valor inicial se debe crear esta variable? ¿Por qué? Verifica que tu función dé el resultado correcto."
   ]
  },
  {
   "cell_type": "code",
   "execution_count": null,
   "metadata": {
    "collapsed": false
   },
   "outputs": [],
   "source": [
    "doc\"\"\"\n",
    "La función mi_mult con parámetros x y n\n",
    "\"\"\"\n",
    "\n",
    "function mi_mult(x, n::Int64)\n",
    "    total = 0\n",
    "    \n",
    "    #if n <= 0\n",
    "     #   error(\"n debe ser positivo\")\n",
    "    #end\n",
    "    \n",
    "    for i in 1:n\n",
    "        total = x + total\n",
    "    end\n",
    "    \n",
    "    return total\n",
    "end"
   ]
  },
  {
   "cell_type": "code",
   "execution_count": null,
   "metadata": {
    "collapsed": false
   },
   "outputs": [],
   "source": [
    "#Prueba\n",
    "mi_mult(-3.0, 2) "
   ]
  },
  {
   "cell_type": "markdown",
   "metadata": {},
   "source": [
    "#### (ii) \n",
    "Modifica tu función para utilizar un `if` para verificar si `n` realmente sea positivo y entero. [Pista: checa la función `isinteger`.]"
   ]
  },
  {
   "cell_type": "code",
   "execution_count": null,
   "metadata": {
    "collapsed": false
   },
   "outputs": [],
   "source": [
    "?isinteger"
   ]
  },
  {
   "cell_type": "code",
   "execution_count": null,
   "metadata": {
    "collapsed": false
   },
   "outputs": [],
   "source": [
    "?error"
   ]
  },
  {
   "cell_type": "code",
   "execution_count": null,
   "metadata": {
    "collapsed": false
   },
   "outputs": [],
   "source": [
    "isinteger(76.7) #No es un entero"
   ]
  },
  {
   "cell_type": "code",
   "execution_count": null,
   "metadata": {
    "collapsed": false
   },
   "outputs": [],
   "source": [
    "isinteger(0) #Sí es entero"
   ]
  },
  {
   "cell_type": "code",
   "execution_count": null,
   "metadata": {
    "collapsed": false
   },
   "outputs": [],
   "source": [
    "isinteger(-1) #Sí es entero"
   ]
  },
  {
   "cell_type": "code",
   "execution_count": null,
   "metadata": {
    "collapsed": false
   },
   "outputs": [],
   "source": [
    "0 >= 0"
   ]
  },
  {
   "cell_type": "code",
   "execution_count": 1,
   "metadata": {
    "collapsed": false
   },
   "outputs": [
    {
     "data": {
      "text/plain": [
       "mi_mult2 (generic function with 1 method)"
      ]
     },
     "execution_count": 1,
     "metadata": {},
     "output_type": "execute_result"
    }
   ],
   "source": [
    "function mi_mult2(x, n)\n",
    "    \n",
    "    total = 0\n",
    "    \n",
    "    if isinteger(n) == false\n",
    "        error(\"n debe ser un entero\")\n",
    "    end\n",
    "    \n",
    "    if isinteger(n) == true \n",
    "        if n < 0\n",
    "            error(\"n debe ser positivo\")\n",
    "        else\n",
    "            for i in 1:n\n",
    "                total = x + total\n",
    "            end\n",
    "        end\n",
    "    end\n",
    "    \n",
    "    return total\n",
    "end"
   ]
  },
  {
   "cell_type": "code",
   "execution_count": 7,
   "metadata": {
    "collapsed": false
   },
   "outputs": [
    {
     "ename": "LoadError",
     "evalue": "n debe ser un entero",
     "output_type": "error",
     "traceback": [
      "n debe ser un entero",
      "",
      " in mi_mult2(::Float64, ::Float64) at ./In[1]:6"
     ]
    }
   ],
   "source": [
    "#Prueba, da un error, porque n no es un entero\n",
    "mi_mult2(-3.0, 2.6) "
   ]
  },
  {
   "cell_type": "code",
   "execution_count": 8,
   "metadata": {
    "collapsed": false
   },
   "outputs": [
    {
     "ename": "LoadError",
     "evalue": "n debe ser positivo",
     "output_type": "error",
     "traceback": [
      "n debe ser positivo",
      "",
      " in mi_mult2(::Float64, ::Int64) at ./In[1]:11"
     ]
    }
   ],
   "source": [
    "#Prueba, da un error, n es negativo\n",
    "mi_mult2(-3.0, -2) "
   ]
  },
  {
   "cell_type": "code",
   "execution_count": 9,
   "metadata": {
    "collapsed": false
   },
   "outputs": [
    {
     "data": {
      "text/plain": [
       "-6.0"
      ]
     },
     "execution_count": 9,
     "metadata": {},
     "output_type": "execute_result"
    }
   ],
   "source": [
    "#Prueba correcta\n",
    "mi_mult2(-3.0, 2) "
   ]
  },
  {
   "cell_type": "markdown",
   "metadata": {},
   "source": [
    "#### (iii) \n",
    "Tu función funciona para `n` igual a `1`? ¿Para `n` igual a `0`? ¿Cómo puedes cambiar tu función para que sí funcione para estos casos?"
   ]
  },
  {
   "cell_type": "code",
   "execution_count": 3,
   "metadata": {
    "collapsed": false
   },
   "outputs": [
    {
     "data": {
      "text/plain": [
       "2.0"
      ]
     },
     "execution_count": 3,
     "metadata": {},
     "output_type": "execute_result"
    }
   ],
   "source": [
    "mi_mult2(2.0, 1)"
   ]
  },
  {
   "cell_type": "code",
   "execution_count": 2,
   "metadata": {
    "collapsed": false
   },
   "outputs": [
    {
     "data": {
      "text/plain": [
       "0"
      ]
     },
     "execution_count": 2,
     "metadata": {},
     "output_type": "execute_result"
    }
   ],
   "source": [
    "mi_mult2(2.0, 0)"
   ]
  },
  {
   "cell_type": "code",
   "execution_count": null,
   "metadata": {
    "collapsed": false
   },
   "outputs": [],
   "source": [
    "isinteger(0)"
   ]
  },
  {
   "cell_type": "markdown",
   "metadata": {},
   "source": [
    "#### (iv) \n",
    "¿Cómo puedes cambiar tu función para que funcione para *cualquier* entero `n`?"
   ]
  },
  {
   "cell_type": "code",
   "execution_count": null,
   "metadata": {
    "collapsed": true
   },
   "outputs": [],
   "source": []
  },
  {
   "cell_type": "markdown",
   "metadata": {},
   "source": [
    "#### Pregunta [3] \n",
    "\n",
    "#### (i) \n",
    "Crea una función `mi_sum` que calcula la suma de los primeros $N$ enteros. (Por lo tanto, `N` debe ser un argumento de la función, y que querramos ir variando `N`.) \n",
    "\n",
    "\n",
    "\n"
   ]
  },
  {
   "cell_type": "code",
   "execution_count": null,
   "metadata": {
    "collapsed": false
   },
   "outputs": [],
   "source": [
    "function mi_sum(N::Int64)\n",
    "    \n",
    "    total = 0\n",
    "    \n",
    "    #if isinteger(n) == false\n",
    "    #    error(\"n debe ser un entero\")\n",
    "    #end\n",
    "    \n",
    "    #if isinteger(n) == true \n",
    "    #    if n <= 0\n",
    "    #        error(\"n debe ser positivo\")\n",
    "    #    end\n",
    "        \n",
    "        for i in 1:N\n",
    "            total = i + total #total += x\n",
    "        end\n",
    "    #end\n",
    "    return total\n",
    "end"
   ]
  },
  {
   "cell_type": "code",
   "execution_count": null,
   "metadata": {
    "collapsed": false
   },
   "outputs": [],
   "source": [
    "mi_sum(1)"
   ]
  },
  {
   "cell_type": "code",
   "execution_count": null,
   "metadata": {
    "collapsed": false
   },
   "outputs": [],
   "source": [
    "mi_sum(2)"
   ]
  },
  {
   "cell_type": "code",
   "execution_count": null,
   "metadata": {
    "collapsed": false
   },
   "outputs": [],
   "source": [
    "mi_sum(5)"
   ]
  },
  {
   "cell_type": "markdown",
   "metadata": {},
   "source": [
    "#### (ii) \n",
    "Verifica que esté bien el cálculo, comparando el resultado con la función predefinida `sum` de Julia, para distintos valores de $N$."
   ]
  },
  {
   "cell_type": "code",
   "execution_count": null,
   "metadata": {
    "collapsed": false
   },
   "outputs": [],
   "source": [
    "sum(1)"
   ]
  },
  {
   "cell_type": "code",
   "execution_count": null,
   "metadata": {
    "collapsed": false
   },
   "outputs": [],
   "source": [
    "s2 = 1:2\n",
    "sum(s2)"
   ]
  },
  {
   "cell_type": "code",
   "execution_count": null,
   "metadata": {
    "collapsed": false
   },
   "outputs": [],
   "source": [
    "s5 = 1:5\n",
    "sum(s5)"
   ]
  },
  {
   "cell_type": "markdown",
   "metadata": {},
   "source": [
    "#### Pregunta [4] \n",
    "Crea una función `mi_sum2` que calcula, en un solo bucle, la suma de los primeros $N$ enteros, y de sus cuadrados. Regresa las dos sumas. Verifica que funcione usando la fórmula para la suma de los cuadrados.\n",
    "\n"
   ]
  },
  {
   "cell_type": "code",
   "execution_count": 10,
   "metadata": {
    "collapsed": false
   },
   "outputs": [
    {
     "data": {
      "text/plain": [
       "mi_sum2 (generic function with 1 method)"
      ]
     },
     "execution_count": 10,
     "metadata": {},
     "output_type": "execute_result"
    }
   ],
   "source": [
    "function mi_sum2(N::Int64)\n",
    "    total_sum = 0\n",
    "    total_cuad = 0\n",
    "\n",
    "    for i in 1:3\n",
    "        total_sum += i\n",
    "        total_cuad += i^2     \n",
    "    end\n",
    "\n",
    "    return total_sum, total_cuad\n",
    "end"
   ]
  },
  {
   "cell_type": "code",
   "execution_count": 11,
   "metadata": {
    "collapsed": false
   },
   "outputs": [
    {
     "data": {
      "text/plain": [
       "(6,14)"
      ]
     },
     "execution_count": 11,
     "metadata": {},
     "output_type": "execute_result"
    }
   ],
   "source": [
    "mi_sum2(2)"
   ]
  },
  {
   "cell_type": "code",
   "execution_count": 13,
   "metadata": {
    "collapsed": false
   },
   "outputs": [
    {
     "data": {
      "text/plain": [
       "(6,14)"
      ]
     },
     "execution_count": 13,
     "metadata": {},
     "output_type": "execute_result"
    }
   ],
   "source": [
    "mi_sum2(3)"
   ]
  },
  {
   "cell_type": "markdown",
   "metadata": {},
   "source": [
    "#### Pregunta [5] \n",
    "Crea una función que cuenta el número de enteros hasta $N$ que sean divisibles por $2$, $3$ y/o $5$.\n",
    "¿Tiene sentido el resultado? Checa que funcione usando una comprensión de arreglo."
   ]
  },
  {
   "cell_type": "code",
   "execution_count": 19,
   "metadata": {
    "collapsed": false
   },
   "outputs": [
    {
     "data": {
      "text/plain": [
       "contador_div (generic function with 1 method)"
      ]
     },
     "execution_count": 19,
     "metadata": {},
     "output_type": "execute_result"
    }
   ],
   "source": [
    "function contador_div(N)\n",
    "    contador = 0 \n",
    "    for i in 1:N\n",
    "        if i%2 == 0 || i%3 == 0 || i%5 == 0\n",
    "            contador += 1\n",
    "        end\n",
    "    end\n",
    "    return contador   \n",
    "end"
   ]
  },
  {
   "cell_type": "code",
   "execution_count": 43,
   "metadata": {
    "collapsed": false
   },
   "outputs": [
    {
     "data": {
      "text/plain": [
       "74"
      ]
     },
     "execution_count": 43,
     "metadata": {},
     "output_type": "execute_result"
    }
   ],
   "source": [
    "contador_div(100)      "
   ]
  },
  {
   "cell_type": "code",
   "execution_count": 25,
   "metadata": {
    "collapsed": false
   },
   "outputs": [
    {
     "data": {
      "text/plain": [
       "100-element Array{Tuple{Int64,Int64},1}:\n",
       " (1,0)   \n",
       " (2,1)   \n",
       " (3,2)   \n",
       " (4,3)   \n",
       " (5,4)   \n",
       " (6,5)   \n",
       " (7,5)   \n",
       " (8,6)   \n",
       " (9,7)   \n",
       " (10,8)  \n",
       " (11,8)  \n",
       " (12,9)  \n",
       " (13,9)  \n",
       " ⋮       \n",
       " (89,65) \n",
       " (90,66) \n",
       " (91,66) \n",
       " (92,67) \n",
       " (93,68) \n",
       " (94,69) \n",
       " (95,70) \n",
       " (96,71) \n",
       " (97,71) \n",
       " (98,72) \n",
       " (99,73) \n",
       " (100,74)"
      ]
     },
     "execution_count": 25,
     "metadata": {},
     "output_type": "execute_result"
    }
   ],
   "source": [
    "[(n,contador_div(n)) for n in 1:100]"
   ]
  },
  {
   "cell_type": "markdown",
   "metadata": {},
   "source": [
    "## Creando arreglos usando iteración"
   ]
  },
  {
   "cell_type": "markdown",
   "metadata": {},
   "source": [
    "Muchas veces es útil crear datos mediante una iteración. Almacenaremos los datos en un arreglo, pero no sabemos, en general, qué tan grande debe ser el arreglo.\n",
    "\n",
    "Por lo tanto, podemos empezar con un arreglo vacío e **ir agregando** los datos conforme vayan llegando.\n",
    "\n",
    "Para crear un arreglo vacío en Julia, usamos"
   ]
  },
  {
   "cell_type": "code",
   "execution_count": 60,
   "metadata": {
    "collapsed": false
   },
   "outputs": [
    {
     "data": {
      "text/plain": [
       "0-element Array{Int64,1}"
      ]
     },
     "execution_count": 60,
     "metadata": {},
     "output_type": "execute_result"
    }
   ],
   "source": [
    "v = Int[]"
   ]
  },
  {
   "cell_type": "markdown",
   "metadata": {},
   "source": [
    "La palabra `Int` al principio ` le dice a Julia que este arreglo sólo puede contener objetos de tipo` Int`.`"
   ]
  },
  {
   "cell_type": "markdown",
   "metadata": {},
   "source": [
    "[6] ¿Qué ocurre si no ponemos `Int`? "
   ]
  },
  {
   "cell_type": "markdown",
   "metadata": {},
   "source": [
    "Si no lo especificamos, el arreglo podrá contener objetos de  cualquier tipo."
   ]
  },
  {
   "cell_type": "markdown",
   "metadata": {},
   "source": [
    "Para agregar un dato al arreglo, se utiliza la función `push!`. (El \"`!`\" forma parte del nombre de la función. Indica que la función modifica su argumento.):"
   ]
  },
  {
   "cell_type": "code",
   "execution_count": 28,
   "metadata": {
    "collapsed": false
   },
   "outputs": [
    {
     "data": {
      "text/plain": [
       "1-element Array{Int64,1}:\n",
       " 17"
      ]
     },
     "execution_count": 28,
     "metadata": {},
     "output_type": "execute_result"
    }
   ],
   "source": [
    "push!(v, 17)"
   ]
  },
  {
   "cell_type": "code",
   "execution_count": 29,
   "metadata": {
    "collapsed": false
   },
   "outputs": [
    {
     "data": {
      "text/plain": [
       "1-element Array{Int64,1}:\n",
       " 17"
      ]
     },
     "execution_count": 29,
     "metadata": {},
     "output_type": "execute_result"
    }
   ],
   "source": [
    "v"
   ]
  },
  {
   "cell_type": "code",
   "execution_count": 36,
   "metadata": {
    "collapsed": false
   },
   "outputs": [
    {
     "data": {
      "text/plain": [
       "17"
      ]
     },
     "execution_count": 36,
     "metadata": {},
     "output_type": "execute_result"
    }
   ],
   "source": [
    "pop!(v)"
   ]
  },
  {
   "cell_type": "code",
   "execution_count": null,
   "metadata": {
    "collapsed": true
   },
   "outputs": [],
   "source": []
  },
  {
   "cell_type": "markdown",
   "metadata": {},
   "source": [
    "#### Pregunta [7] \n",
    "#### (i) \n",
    "Utiliza este método para crear un arreglo que contenga los números de 1 a 100.\n",
    "\n"
   ]
  },
  {
   "cell_type": "code",
   "execution_count": 55,
   "metadata": {
    "collapsed": false
   },
   "outputs": [
    {
     "data": {
      "text/plain": [
       "0-element Array{Int64,1}"
      ]
     },
     "execution_count": 55,
     "metadata": {},
     "output_type": "execute_result"
    }
   ],
   "source": [
    "v"
   ]
  },
  {
   "cell_type": "code",
   "execution_count": 61,
   "metadata": {
    "collapsed": false
   },
   "outputs": [],
   "source": [
    "R = 1:100;"
   ]
  },
  {
   "cell_type": "code",
   "execution_count": 62,
   "metadata": {
    "collapsed": false
   },
   "outputs": [
    {
     "data": {
      "text/plain": [
       "100-element Array{Int64,1}:\n",
       "   1\n",
       "   2\n",
       "   3\n",
       "   4\n",
       "   5\n",
       "   6\n",
       "   7\n",
       "   8\n",
       "   9\n",
       "  10\n",
       "  11\n",
       "  12\n",
       "  13\n",
       "   ⋮\n",
       "  89\n",
       "  90\n",
       "  91\n",
       "  92\n",
       "  93\n",
       "  94\n",
       "  95\n",
       "  96\n",
       "  97\n",
       "  98\n",
       "  99\n",
       " 100"
      ]
     },
     "execution_count": 62,
     "metadata": {},
     "output_type": "execute_result"
    }
   ],
   "source": [
    "for i in R\n",
    "    push!(v, R[i])\n",
    "end\n",
    "return v"
   ]
  },
  {
   "cell_type": "markdown",
   "metadata": {},
   "source": [
    "#### (ii) \n",
    "¿Cómo puedes modificar tu código para excluir a los valores que son divisibles o entre 2 o entre 5?"
   ]
  },
  {
   "cell_type": "code",
   "execution_count": 65,
   "metadata": {
    "collapsed": false
   },
   "outputs": [
    {
     "data": {
      "text/plain": [
       "90-element Array{Int64,1}:\n",
       "  1\n",
       "  2\n",
       "  3\n",
       "  4\n",
       "  5\n",
       "  6\n",
       "  7\n",
       "  8\n",
       "  9\n",
       " 11\n",
       " 12\n",
       " 13\n",
       " 14\n",
       "  ⋮\n",
       " 87\n",
       " 88\n",
       " 89\n",
       " 91\n",
       " 92\n",
       " 93\n",
       " 94\n",
       " 95\n",
       " 96\n",
       " 97\n",
       " 98\n",
       " 99"
      ]
     },
     "execution_count": 65,
     "metadata": {},
     "output_type": "execute_result"
    }
   ],
   "source": [
    "vv = Int[]\n",
    "for i in R\n",
    "    if i%2 !== 0 || i%5 !== 0\n",
    "        push!(vv, R[i])\n",
    "    end\n",
    "end\n",
    "return vv"
   ]
  },
  {
   "cell_type": "markdown",
   "metadata": {},
   "source": [
    "## Números primos"
   ]
  },
  {
   "cell_type": "markdown",
   "metadata": {},
   "source": [
    "Recordemos que los números primos son los enteros positivos mayores que $1$ que sólo son divisibles exactamente entre $1$ y sí mismo.\n",
    "\n",
    "#### Pregunta [8] \n",
    "Escribe una función que verifica si un número es primo o no.\n",
    "\n",
    "\n",
    "\n"
   ]
  },
  {
   "cell_type": "code",
   "execution_count": 72,
   "metadata": {
    "collapsed": false
   },
   "outputs": [
    {
     "name": "stdout",
     "output_type": "stream",
     "text": [
      "El número n = 10 es primo"
     ]
    }
   ],
   "source": [
    "#Prueba\n",
    "n = 10\n",
    "contador = 0\n",
    "for i in 1:10\n",
    "    if n%i == 0 \n",
    "        contador += 1\n",
    "        #&& n%n == 0\n",
    "#if n%1 == 0 && n%n == 0\n",
    "    print(\"El número n = $n es primo\")\n",
    "else\n",
    "    print(\"El número n = $n NO es primo\")\n",
    "end"
   ]
  },
  {
   "cell_type": "code",
   "execution_count": 91,
   "metadata": {
    "collapsed": false
   },
   "outputs": [
    {
     "data": {
      "text/plain": [
       "verif_primo (generic function with 1 method)"
      ]
     },
     "execution_count": 91,
     "metadata": {},
     "output_type": "execute_result"
    }
   ],
   "source": [
    "function verif_primo(n)\n",
    "    \n",
    "    contador = 0\n",
    "\n",
    "    for i in 1:n\n",
    "    \n",
    "        if n%i == 0 \n",
    "            contador += 1\n",
    "        end\n",
    "    end\n",
    "\n",
    "\n",
    "    if contador == 2\n",
    "        print(\"El número n = $n es primo\")\n",
    "    else\n",
    "        print(\"El número n = $n NO es primo\")\n",
    "    end\n",
    "end\n",
    "        \n"
   ]
  },
  {
   "cell_type": "code",
   "execution_count": 95,
   "metadata": {
    "collapsed": false
   },
   "outputs": [
    {
     "name": "stdout",
     "output_type": "stream",
     "text": [
      "El número n = 25 NO es primo"
     ]
    }
   ],
   "source": [
    "verif_primo(25)"
   ]
  },
  {
   "cell_type": "markdown",
   "metadata": {},
   "source": [
    "#### Pregunta [9] \n",
    "#### (i) \n",
    "Escribe una función que construye un arreglo de $\\pi(n)$, el número de primos menores o iguales a `n`. "
   ]
  },
  {
   "cell_type": "code",
   "execution_count": 97,
   "metadata": {
    "collapsed": false
   },
   "outputs": [
    {
     "data": {
      "text/plain": [
       "miπ (generic function with 1 method)"
      ]
     },
     "execution_count": 97,
     "metadata": {},
     "output_type": "execute_result"
    }
   ],
   "source": [
    "function miπ(n)\n",
    "end"
   ]
  },
  {
   "cell_type": "code",
   "execution_count": null,
   "metadata": {
    "collapsed": true
   },
   "outputs": [],
   "source": [
    "#Prueba\n",
    "a = []"
   ]
  },
  {
   "cell_type": "markdown",
   "metadata": {},
   "source": [
    "#### (ii) \n",
    "Grafica la función."
   ]
  },
  {
   "cell_type": "markdown",
   "metadata": {},
   "source": [
    "#### (iii) \n",
    "¿Qué tan rápido crece esta función en comparación con `n`?"
   ]
  },
  {
   "cell_type": "code",
   "execution_count": null,
   "metadata": {
    "collapsed": true
   },
   "outputs": [],
   "source": []
  }
 ],
 "metadata": {
  "kernelspec": {
   "display_name": "Julia 0.5.0",
   "language": "julia",
   "name": "julia-0.5"
  },
  "language_info": {
   "file_extension": ".jl",
   "mimetype": "application/julia",
   "name": "julia",
   "version": "0.5.0"
  }
 },
 "nbformat": 4,
 "nbformat_minor": 0
}

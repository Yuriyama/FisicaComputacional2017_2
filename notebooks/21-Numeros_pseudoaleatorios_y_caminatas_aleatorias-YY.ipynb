{
 "cells": [
  {
   "cell_type": "markdown",
   "metadata": {},
   "source": [
    "# Procesos estocásticos"
   ]
  },
  {
   "cell_type": "markdown",
   "metadata": {},
   "source": [
    "El concepto de *aleatoriedad* o *estocasticidad* juega un papel cada vez más importante en la física. Se tratan de procesos que son *aleatorios* o *estocásticos*; un ejemplo es el decaimiento radioactivo, \n",
    "\n",
    "Para modelar estos procesos en la computadora, necesitamos poder generar *números aleatorios* en la computadora. Hay un sólo problema: ¡una computadora determinista no tiene fuente de aleatoriedad!\n",
    "\n",
    "[Sin embargo, se pueden captar datos de procesos aleatorios reales, o de la propia computadara; ver, por ejemplo, <http://www.random.org/>.]\n",
    "\n"
   ]
  },
  {
   "cell_type": "markdown",
   "metadata": {},
   "source": [
    "# Números pseudoaleatorios"
   ]
  },
  {
   "cell_type": "markdown",
   "metadata": {},
   "source": [
    "Podemos producir secuencias de números que *parecen ser* aleatorios (decimos que son *pseudoaleatorios*), usando iteraciones deterministas suficientemente complicadas; sin embargo, estas se tienen que diseñar con mucho cuidado.\n",
    "\n",
    "Un ejemplo se utilizaba antes, pero que *ya no se ocupa*, ya que no es lo suficientemente bueno, son los llamados generadores congruenciales lineales, de la forma\n",
    "\n",
    "$$X_{n+1} = \\left( a X_n + c \\right)~~\\bmod~~m.$$"
   ]
  },
  {
   "cell_type": "markdown",
   "metadata": {},
   "source": [
    "Implementa esta recurrencia con $a = 6364136223846793005$ y $c=\t1442695040888963407$. Usamos enteros *unsigned* (sin signo):\n",
    "\n",
    "    a = UInt64(6364136223846793005)\n",
    "    \n",
    "Tomamos $m=2^{64}$, por lo cual **no es necesario llevar a cabo el `mod` de forma explícita**.\n",
    "    \n",
    "Los números resultantes caen entre 0 y $2^{64} - 1$, inclusivo.\n",
    "\n",
    "**[1]** (i) Escribe una función que implementa esta recurrencia para generar un número aleatorio entero en este rango nuevo cada vez que la llamas."
   ]
  },
  {
   "cell_type": "code",
   "execution_count": 44,
   "metadata": {
    "collapsed": false
   },
   "outputs": [
    {
     "data": {
      "text/plain": [
       "0x5851f42d4c957f2d"
      ]
     },
     "execution_count": 44,
     "metadata": {},
     "output_type": "execute_result"
    }
   ],
   "source": [
    " a = UInt64(6364136223846793005)\n",
    " "
   ]
  },
  {
   "cell_type": "code",
   "execution_count": 46,
   "metadata": {
    "collapsed": false
   },
   "outputs": [
    {
     "data": {
      "text/plain": [
       "6364136223846793005"
      ]
     },
     "execution_count": 46,
     "metadata": {},
     "output_type": "execute_result"
    }
   ],
   "source": [
    "aa = big(ans)"
   ]
  },
  {
   "cell_type": "code",
   "execution_count": 47,
   "metadata": {
    "collapsed": false
   },
   "outputs": [
    {
     "data": {
      "text/plain": [
       "0x14057b7ef767814f"
      ]
     },
     "execution_count": 47,
     "metadata": {},
     "output_type": "execute_result"
    }
   ],
   "source": [
    "c = UInt64(1442695040888963407)"
   ]
  },
  {
   "cell_type": "code",
   "execution_count": 48,
   "metadata": {
    "collapsed": false
   },
   "outputs": [
    {
     "data": {
      "text/plain": [
       "1442695040888963407"
      ]
     },
     "execution_count": 48,
     "metadata": {},
     "output_type": "execute_result"
    }
   ],
   "source": [
    "cc = big(ans)"
   ]
  },
  {
   "cell_type": "code",
   "execution_count": 29,
   "metadata": {
    "collapsed": false
   },
   "outputs": [
    {
     "name": "stderr",
     "output_type": "stream",
     "text": [
      "WARNING: Method definition generador_num_aleatorio(Any, Any, Any, Any) in module Main at In[17]:2 overwritten at In[29]:2.\n"
     ]
    },
    {
     "data": {
      "text/plain": [
       "generador_num_aleatorio (generic function with 1 method)"
      ]
     },
     "execution_count": 29,
     "metadata": {},
     "output_type": "execute_result"
    }
   ],
   "source": [
    "function generador_num_aleatorio(a, c, xn, n)\n",
    "    Xn = [xn]\n",
    "    for i in 1:n\n",
    "        xn1 = a*Xn[i] + c\n",
    "        #@show i, Xn[i], xn1\n",
    "        push!(Xn, xn1)\n",
    "    end\n",
    "    return Xn\n",
    "end"
   ]
  },
  {
   "cell_type": "code",
   "execution_count": 53,
   "metadata": {
    "collapsed": false
   },
   "outputs": [
    {
     "data": {
      "text/plain": [
       "10-element Array{UInt64,1}:\n",
       " 0x0000000000000003\n",
       " 0x1cfb5806dd27fed6\n",
       " 0x5327b7f7896976ed\n",
       " 0xbc03b48704e1fbf8\n",
       " 0x589dcb943678d3e7\n",
       " 0x9e7cca69653759ea\n",
       " 0x613b874704ef6571\n",
       " 0x80eaf8be2f94652c\n",
       " 0x7bfb06abe54a1e0b\n",
       " 0x8db82773cabd3e3e"
      ]
     },
     "execution_count": 53,
     "metadata": {},
     "output_type": "execute_result"
    }
   ],
   "source": [
    "generador_num_aleatorio(UInt64(6364136223846793005), UInt64(1442695040888963407), UInt64(3), 9)"
   ]
  },
  {
   "cell_type": "markdown",
   "metadata": {},
   "source": [
    "(ii) Utiliza esto para hacer una función `mi_rand` que genere números reales aleatorios en el intervalo real $[0, 1)$, es decir, que incluya $0$ pero excluye $1$."
   ]
  },
  {
   "cell_type": "code",
   "execution_count": 33,
   "metadata": {
    "collapsed": false
   },
   "outputs": [
    {
     "data": {
      "text/plain": [
       "3"
      ]
     },
     "execution_count": 33,
     "metadata": {},
     "output_type": "execute_result"
    }
   ],
   "source": [
    "x_global = 3 # semilla"
   ]
  },
  {
   "cell_type": "code",
   "execution_count": 42,
   "metadata": {
    "collapsed": false
   },
   "outputs": [
    {
     "data": {
      "text/plain": [
       "mi_rand (generic function with 1 method)"
      ]
     },
     "execution_count": 42,
     "metadata": {},
     "output_type": "execute_result"
    }
   ],
   "source": [
    "function mi_rand()\n",
    "    global x_global\n",
    "    x_nueva = a*x_global + c\n",
    "    x_global = x_nueva\n",
    "    return x_nueva\n",
    "end"
   ]
  },
  {
   "cell_type": "code",
   "execution_count": 6,
   "metadata": {
    "collapsed": false
   },
   "outputs": [
    {
     "data": {
      "text/plain": [
       "0x5851f42d4c957f2d"
      ]
     },
     "execution_count": 6,
     "metadata": {},
     "output_type": "execute_result"
    }
   ],
   "source": [
    "a = UInt64(6364136223846793005)"
   ]
  },
  {
   "cell_type": "code",
   "execution_count": 2,
   "metadata": {
    "collapsed": false
   },
   "outputs": [
    {
     "data": {
      "text/plain": [
       "UInt64"
      ]
     },
     "execution_count": 2,
     "metadata": {},
     "output_type": "execute_result"
    }
   ],
   "source": [
    "typeof(ans)"
   ]
  },
  {
   "cell_type": "code",
   "execution_count": 3,
   "metadata": {
    "collapsed": false
   },
   "outputs": [
    {
     "name": "stdout",
     "output_type": "stream",
     "text": [
      "search: \u001b[1mU\u001b[22m\u001b[1mI\u001b[22m\u001b[1mn\u001b[22m\u001b[1mt\u001b[22m\u001b[1m6\u001b[22m\u001b[1m4\u001b[22m \u001b[1mU\u001b[22m\u001b[1mI\u001b[22m\u001b[1mn\u001b[22m\u001b[1mt\u001b[22m1\u001b[1m6\u001b[22m\n",
      "\n"
     ]
    },
    {
     "data": {
      "text/markdown": [
       "No documentation found.\n",
       "\n",
       "**Summary:**\n",
       "\n",
       "```\n",
       "immutable UInt64 <: Unsigned\n",
       "```\n"
      ],
      "text/plain": [
       "No documentation found.\n",
       "\n",
       "**Summary:**\n",
       "\n",
       "```\n",
       "immutable UInt64 <: Unsigned\n",
       "```\n"
      ]
     },
     "execution_count": 3,
     "metadata": {},
     "output_type": "execute_result"
    }
   ],
   "source": [
    "?UInt64"
   ]
  },
  {
   "cell_type": "code",
   "execution_count": 8,
   "metadata": {
    "collapsed": false
   },
   "outputs": [
    {
     "name": "stderr",
     "output_type": "stream",
     "text": [
      "WARNING: Method definition mi_rand2() in module Main at In[4]:6 overwritten at In[8]:6.\n"
     ]
    },
    {
     "data": {
      "text/plain": [
       "mi_rand2 (generic function with 1 method)"
      ]
     },
     "execution_count": 8,
     "metadata": {},
     "output_type": "execute_result"
    }
   ],
   "source": [
    "let x = 3 \n",
    "    # Un bloque 'let' introduce variables locales que están disponibles sólo dentro del bloque\n",
    "    \n",
    "    global function mi_rand2() # Define la función en ámbito global\n",
    "        \n",
    "        x_nueva = a*x + c \n",
    "        x = x_nueva\n",
    "        \n",
    "        return x\n",
    "    end\n",
    "end"
   ]
  },
  {
   "cell_type": "code",
   "execution_count": 9,
   "metadata": {
    "collapsed": false
   },
   "outputs": [
    {
     "ename": "LoadError",
     "evalue": "UndefVarError: c not defined",
     "output_type": "error",
     "traceback": [
      "UndefVarError: c not defined",
      "",
      " in mi_rand2() at ./In[8]:6"
     ]
    }
   ],
   "source": [
    "mi_rand2()"
   ]
  },
  {
   "cell_type": "code",
   "execution_count": 55,
   "metadata": {
    "collapsed": false
   },
   "outputs": [
    {
     "data": {
      "text/plain": [
       "0xffffffffffffffff"
      ]
     },
     "execution_count": 55,
     "metadata": {},
     "output_type": "execute_result"
    }
   ],
   "source": [
    "typemax(UInt64) # máximo"
   ]
  },
  {
   "cell_type": "code",
   "execution_count": 56,
   "metadata": {
    "collapsed": false
   },
   "outputs": [
    {
     "data": {
      "text/plain": [
       "0.11321020286155202"
      ]
     },
     "execution_count": 56,
     "metadata": {},
     "output_type": "execute_result"
    }
   ],
   "source": [
    "0x1cfb5806dd27fed6/0xffffffffffffffff"
   ]
  },
  {
   "cell_type": "code",
   "execution_count": 16,
   "metadata": {
    "collapsed": false
   },
   "outputs": [
    {
     "name": "stderr",
     "output_type": "stream",
     "text": [
      "WARNING: Method definition normalizar(Any) in module Main at In[14]:3 overwritten at In[16]:3.\n"
     ]
    },
    {
     "data": {
      "text/plain": [
       "normalizar (generic function with 1 method)"
      ]
     },
     "execution_count": 16,
     "metadata": {},
     "output_type": "execute_result"
    }
   ],
   "source": [
    "# Ahora convertimos los números aleatorios entre 0 y 1. Normalizamos\n",
    "function normalizar(num)\n",
    "    return num/typemax(UInt64)\n",
    "end"
   ]
  },
  {
   "cell_type": "markdown",
   "metadata": {},
   "source": [
    "**[2]** Escribe una función para calcular un *histograma*, es decir, dado un vector de datos de entrada, y un número $M$ de cajas, calcula cuántos de los datos caen en cada caja."
   ]
  },
  {
   "cell_type": "code",
   "execution_count": 58,
   "metadata": {
    "collapsed": false
   },
   "outputs": [
    {
     "name": "stdout",
     "output_type": "stream",
     "text": [
      "search: \u001b[1mc\u001b[22m\u001b[1me\u001b[22m\u001b[1mi\u001b[22m\u001b[1ml\u001b[22m Abstra\u001b[1mc\u001b[22mtS\u001b[1me\u001b[22mr\u001b[1mi\u001b[22ma\u001b[1ml\u001b[22mizer sli\u001b[1mc\u001b[22m\u001b[1me\u001b[22md\u001b[1mi\u001b[22mm redu\u001b[1mc\u001b[22m\u001b[1me\u001b[22md\u001b[1mi\u001b[22mm Ex\u001b[1mc\u001b[22m\u001b[1me\u001b[22mpt\u001b[1mi\u001b[22mon mapredu\u001b[1mc\u001b[22m\u001b[1me\u001b[22md\u001b[1mi\u001b[22mm\n",
      "\n"
     ]
    },
    {
     "data": {
      "text/markdown": [
       "```\n",
       "ceil([T,] x, [digits, [base]])\n",
       "```\n",
       "\n",
       "`ceil(x)` returns the nearest integral value of the same type as `x` that is greater than or equal to `x`.\n",
       "\n",
       "`ceil(T, x)` converts the result to type `T`, throwing an `InexactError` if the value is not representable.\n",
       "\n",
       "`digits` and `base` work as for [`round`](:func:`round`).\n",
       "\n",
       "```\n",
       "ceil(dt::TimeType, p::Period) -> TimeType\n",
       "```\n",
       "\n",
       "Returns the nearest `Date` or `DateTime` greater than or equal to `dt` at resolution `p`.\n",
       "\n",
       "For convenience, `p` may be a type instead of a value: `ceil(dt, Dates.Hour)` is a shortcut for `ceil(dt, Dates.Hour(1))`.\n",
       "\n",
       "```jldoctest\n",
       "julia> ceil(Date(1985, 8, 16), Dates.Month)\n",
       "1985-09-01\n",
       "\n",
       "julia> ceil(DateTime(2013, 2, 13, 0, 31, 20), Dates.Minute(15))\n",
       "2013-02-13T00:45:00\n",
       "\n",
       "julia> ceil(DateTime(2016, 8, 6, 12, 0, 0), Dates.Day)\n",
       "2016-08-07T00:00:00\n",
       "```\n"
      ],
      "text/plain": [
       "```\n",
       "ceil([T,] x, [digits, [base]])\n",
       "```\n",
       "\n",
       "`ceil(x)` returns the nearest integral value of the same type as `x` that is greater than or equal to `x`.\n",
       "\n",
       "`ceil(T, x)` converts the result to type `T`, throwing an `InexactError` if the value is not representable.\n",
       "\n",
       "`digits` and `base` work as for [`round`](:func:`round`).\n",
       "\n",
       "```\n",
       "ceil(dt::TimeType, p::Period) -> TimeType\n",
       "```\n",
       "\n",
       "Returns the nearest `Date` or `DateTime` greater than or equal to `dt` at resolution `p`.\n",
       "\n",
       "For convenience, `p` may be a type instead of a value: `ceil(dt, Dates.Hour)` is a shortcut for `ceil(dt, Dates.Hour(1))`.\n",
       "\n",
       "```jldoctest\n",
       "julia> ceil(Date(1985, 8, 16), Dates.Month)\n",
       "1985-09-01\n",
       "\n",
       "julia> ceil(DateTime(2013, 2, 13, 0, 31, 20), Dates.Minute(15))\n",
       "2013-02-13T00:45:00\n",
       "\n",
       "julia> ceil(DateTime(2016, 8, 6, 12, 0, 0), Dates.Day)\n",
       "2016-08-07T00:00:00\n",
       "```\n"
      ]
     },
     "execution_count": 58,
     "metadata": {},
     "output_type": "execute_result"
    }
   ],
   "source": [
    "?ceil"
   ]
  },
  {
   "cell_type": "code",
   "execution_count": 63,
   "metadata": {
    "collapsed": false
   },
   "outputs": [
    {
     "data": {
      "text/plain": [
       "3.0"
      ]
     },
     "execution_count": 63,
     "metadata": {},
     "output_type": "execute_result"
    }
   ],
   "source": [
    "ceil(2.1)"
   ]
  },
  {
   "cell_type": "code",
   "execution_count": null,
   "metadata": {
    "collapsed": true
   },
   "outputs": [],
   "source": [
    "function asignar_caja(M, x)\n",
    "    segmento = 1/M\n",
    "    contador = 0\n",
    "    \n",
    "     ceil(x*M) "
   ]
  },
  {
   "cell_type": "code",
   "execution_count": null,
   "metadata": {
    "collapsed": true
   },
   "outputs": [],
   "source": [
    "function mi_histograma(V::Array, M)\n",
    "    segmento = 1/M\n",
    "    for i in 1:length(V)\n",
    "        \n",
    "    "
   ]
  },
  {
   "cell_type": "markdown",
   "metadata": {},
   "source": [
    "**[3]** (i) Utiliza tu función para generar $N$ números aleatorios y haz un histograma.\n",
    "\n",
    "(ii) Cambia $N$ y vuelve a calcular el histograma. Encuentra el tamaño del \"error\" de las barras con respecto al valor esperado en función de $N$. \n",
    "\n",
    "(iii) Dibuja el error *relativo* como función de $N$. ¿Qué esperas que pase? ¿Cómo cambia el error relativo con $N$? "
   ]
  },
  {
   "cell_type": "markdown",
   "metadata": {},
   "source": [
    "En Julia, existe una función `rand()` que utiliza un generador moderno de alta calidad, actualmente el llamado Mersenne Twister, para generar número aleatorios. Hay otros generadores disponibles en el paquete [`RandomNumbers.jl`](https://github.com/sunoru/RandomNumbers.jl)."
   ]
  },
  {
   "cell_type": "markdown",
   "metadata": {},
   "source": [
    "# Caminatas aleatorias"
   ]
  },
  {
   "cell_type": "markdown",
   "metadata": {},
   "source": [
    "Uno de los procesos estocásticos más fundamentales e importantes en la física es el *movimiento Browniano*. Un acercamiento inicial a este problema se da a través de las *caminatas aleatorias*, que modela una partícula que recibe impactos al azar, los cuales hacen que brinque en direcciones aleatorias."
   ]
  },
  {
   "cell_type": "markdown",
   "metadata": {},
   "source": [
    "**[4]** Piensa en un caminante aleatorio en una dimensión que vive en los enteros. Empieza en la posición $x=0$. En cada paso de tiempo, brinca a la derecha o a la izquierda con igual probabilidad $\\frac{1}{2}$.\n",
    "\n",
    "(i) Utiliza la función `mi_rand` o `rand` para generar el brinco: $+1$ ó $-1$, cada uno con probabilidad $\\frac{1}{2}$."
   ]
  },
  {
   "cell_type": "code",
   "execution_count": 12,
   "metadata": {
    "collapsed": false
   },
   "outputs": [
    {
     "name": "stderr",
     "output_type": "stream",
     "text": [
      "WARNING: Method definition mi_rand() in module Main at In[10]:5 overwritten at In[12]:6.\n"
     ]
    },
    {
     "data": {
      "text/plain": [
       "mi_rand (generic function with 1 method)"
      ]
     },
     "execution_count": 12,
     "metadata": {},
     "output_type": "execute_result"
    }
   ],
   "source": [
    "a = UInt64(6364136223846793005)\n",
    "c = UInt64(1442695040888963407)\n",
    "x_global = 3\n",
    "\n",
    "function mi_rand()\n",
    "    global x_global\n",
    "    x_nueva = a*x_global + c\n",
    "    x_global = x_nueva\n",
    "    return x_nueva\n",
    "end"
   ]
  },
  {
   "cell_type": "code",
   "execution_count": 17,
   "metadata": {
    "collapsed": false
   },
   "outputs": [
    {
     "data": {
      "text/plain": [
       "0x5327b7f7896976ed"
      ]
     },
     "execution_count": 17,
     "metadata": {},
     "output_type": "execute_result"
    }
   ],
   "source": [
    "res=mi_rand()"
   ]
  },
  {
   "cell_type": "code",
   "execution_count": 18,
   "metadata": {
    "collapsed": false
   },
   "outputs": [
    {
     "data": {
      "text/plain": [
       "0.32482480805757585"
      ]
     },
     "execution_count": 18,
     "metadata": {},
     "output_type": "execute_result"
    }
   ],
   "source": [
    "normalizar(res)"
   ]
  },
  {
   "cell_type": "code",
   "execution_count": 34,
   "metadata": {
    "collapsed": false
   },
   "outputs": [
    {
     "name": "stderr",
     "output_type": "stream",
     "text": [
      "WARNING: Method definition mi_caminante(Any, Any) in module Main at In[32]:2 overwritten at In[34]:2.\n",
      "WARNING: Method definition mi_caminante(Any, Any, Any) in module Main at In[32]:2 overwritten at In[34]:2.\n",
      "WARNING: Method definition mi_caminante(Any, Any, Any, Any) in module Main at In[32]:2 overwritten at In[34]:2.\n"
     ]
    },
    {
     "data": {
      "text/plain": [
       "mi_caminante (generic function with 3 methods)"
      ]
     },
     "execution_count": 34,
     "metadata": {},
     "output_type": "execute_result"
    }
   ],
   "source": [
    "function mi_caminante(s, n, x0=0, p=1/2)\n",
    "    a = UInt64(6364136223846793005)\n",
    "    c = UInt64(1442695040888963407)\n",
    "    s = x_global\n",
    "    contador = x0\n",
    "    for i in 1:n\n",
    "    n_al = mi_rand()\n",
    "    num_aleat = normalizar(n_al)\n",
    "        if num_aleat <= 0.50\n",
    "            contador = contador - 1\n",
    "        else \n",
    "            contador = contador + 1 \n",
    "        end\n",
    "        @show i, num_aleat, contador\n",
    "    end\n",
    "    return contador\n",
    "end"
   ]
  },
  {
   "cell_type": "code",
   "execution_count": 38,
   "metadata": {
    "collapsed": false
   },
   "outputs": [
    {
     "name": "stdout",
     "output_type": "stream",
     "text": [
      "(i,num_aleat,contador) = (1,0.2306201333403989,-1)\n",
      "(i,num_aleat,contador) = (2,0.44059207987608423,-2)\n",
      "(i,num_aleat,contador) = (3,0.9089024046463265,-1)\n",
      "(i,num_aleat,contador) = (4,0.4861449388681203,-2)\n",
      "(i,num_aleat,contador) = (5,0.19216294467242706,-3)\n"
     ]
    },
    {
     "data": {
      "text/plain": [
       "-3"
      ]
     },
     "execution_count": 38,
     "metadata": {},
     "output_type": "execute_result"
    }
   ],
   "source": [
    "mi_caminante(3, 5, 0, 1/2)"
   ]
  },
  {
   "cell_type": "markdown",
   "metadata": {},
   "source": [
    "(ii) Haz una función que calcule la trayectoria de una caminata aleatoria que empiece en $0$ y toma $N$ pasos al azar. "
   ]
  },
  {
   "cell_type": "code",
   "execution_count": 87,
   "metadata": {
    "collapsed": false
   },
   "outputs": [
    {
     "name": "stderr",
     "output_type": "stream",
     "text": [
      "WARNING: Method definition trayectoria_caminata_aleat(Any, Any, Any, Any) in module Main at In[77]:2 overwritten at In[87]:2.\n"
     ]
    },
    {
     "data": {
      "text/plain": [
       "trayectoria_caminata_aleat (generic function with 4 methods)"
      ]
     },
     "execution_count": 87,
     "metadata": {},
     "output_type": "execute_result"
    }
   ],
   "source": [
    "function trayectoria_caminata_aleat(s, n, x0, p)\n",
    "    a = UInt64(6364136223846793005)\n",
    "    c = UInt64(1442695040888963407)\n",
    "    s = x_global\n",
    "    contador = x0\n",
    "    trayectoria = [0]\n",
    "    for i in 1:n\n",
    "    n_al = mi_rand()\n",
    "    num_aleat = normalizar(n_al)\n",
    "        if num_aleat <= p\n",
    "            contador = contador - 1\n",
    "        else \n",
    "            contador = contador + 1 \n",
    "        end\n",
    "        #@show i, num_aleat, contador\n",
    "        push!(trayectoria, contador)\n",
    "    end\n",
    "    return trayectoria\n",
    "end"
   ]
  },
  {
   "cell_type": "code",
   "execution_count": 88,
   "metadata": {
    "collapsed": false
   },
   "outputs": [
    {
     "data": {
      "text/plain": [
       "6-element Array{Int64,1}:\n",
       " 0\n",
       " 1\n",
       " 0\n",
       " 1\n",
       " 0\n",
       " 1"
      ]
     },
     "execution_count": 88,
     "metadata": {},
     "output_type": "execute_result"
    }
   ],
   "source": [
    "trayectoria_caminata_aleat(3, 5, 0, 1/2)"
   ]
  },
  {
   "cell_type": "markdown",
   "metadata": {},
   "source": [
    "(iii) Dibuja unas cuantas trayectorias en una misma gráfica, con la posición $x(t)$ como función del tiempo $t$. ¿Qué observas?"
   ]
  },
  {
   "cell_type": "code",
   "execution_count": 53,
   "metadata": {
    "collapsed": false
   },
   "outputs": [
    {
     "data": {
      "text/plain": [
       "Plots.PyPlotBackend()"
      ]
     },
     "execution_count": 53,
     "metadata": {},
     "output_type": "execute_result"
    }
   ],
   "source": [
    "using Plots, LaTeXStrings\n",
    "pyplot()"
   ]
  },
  {
   "cell_type": "code",
   "execution_count": 89,
   "metadata": {
    "collapsed": false
   },
   "outputs": [],
   "source": [
    "t1 = trayectoria_caminata_aleat(3, 50, 0, 1/2);\n",
    "t2 = trayectoria_caminata_aleat(3, 50, 0, 1/2);\n",
    "t3 = trayectoria_caminata_aleat(3, 50, 0, 1/2);"
   ]
  },
  {
   "cell_type": "code",
   "execution_count": 90,
   "metadata": {
    "collapsed": false
   },
   "outputs": [
    {
     "data": {
      "text/html": [
       "<img src=\"data:image/png;base64,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\" />"
      ]
     },
     "execution_count": 90,
     "metadata": {},
     "output_type": "execute_result"
    }
   ],
   "source": [
    "plot([0:1:length(t1)-1], t1)\n",
    "plot!([0:1:length(t2)-1], t2)\n",
    "plot!([0:1:length(t3)-1], t3)"
   ]
  },
  {
   "cell_type": "markdown",
   "metadata": {},
   "source": [
    "(iv) Ahora dibuja muchas trayectorias en una misma gráfica. ¿Qué observas?"
   ]
  },
  {
   "cell_type": "code",
   "execution_count": 91,
   "metadata": {
    "collapsed": true
   },
   "outputs": [],
   "source": [
    "t1 = trayectoria_caminata_aleat(3, 50, 0, 1/2);\n",
    "t2 = trayectoria_caminata_aleat(3, 50, 0, 1/2);\n",
    "t3 = trayectoria_caminata_aleat(3, 50, 0, 1/2);\n",
    "t4 = trayectoria_caminata_aleat(3, 50, 0, 1/2);\n",
    "t5 = trayectoria_caminata_aleat(3, 50, 0, 1/2);\n",
    "t6 = trayectoria_caminata_aleat(3, 50, 0, 1/2);\n",
    "t7 = trayectoria_caminata_aleat(3, 50, 0, 1/2);\n",
    "t8 = trayectoria_caminata_aleat(3, 50, 0, 1/2);\n",
    "t9 = trayectoria_caminata_aleat(3, 50, 0, 1/2);\n",
    "t10 = trayectoria_caminata_aleat(3, 50, 0, 1/2);"
   ]
  },
  {
   "cell_type": "code",
   "execution_count": 92,
   "metadata": {
    "collapsed": false
   },
   "outputs": [
    {
     "data": {
      "text/html": [
       "<img src=\"data:image/png;base64,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\" />"
      ]
     },
     "execution_count": 92,
     "metadata": {},
     "output_type": "execute_result"
    }
   ],
   "source": [
    "plot([0:1:length(t1)-1], t1)\n",
    "plot!([0:1:length(t2)-1], t2)\n",
    "plot!([0:1:length(t3)-1], t3)\n",
    "plot!([0:1:length(t4)-1], t4)\n",
    "plot!([0:1:length(t5)-1], t5)\n",
    "plot!([0:1:length(t6)-1], t6)\n",
    "plot!([0:1:length(t7)-1], t7)\n",
    "plot!([0:1:length(t8)-1], t8)\n",
    "plot!([0:1:length(t9)-1], t9)\n",
    "plot!([0:1:length(t10)-1], t10)"
   ]
  },
  {
   "cell_type": "code",
   "execution_count": 96,
   "metadata": {
    "collapsed": false
   },
   "outputs": [
    {
     "name": "stderr",
     "output_type": "stream",
     "text": [
      "WARNING: Method definition list_tray(Any) in module Main at In[94]:3 overwritten at In[96]:3.\n"
     ]
    },
    {
     "data": {
      "text/plain": [
       "list_tray (generic function with 1 method)"
      ]
     },
     "execution_count": 96,
     "metadata": {},
     "output_type": "execute_result"
    }
   ],
   "source": [
    "# Trayectorias\n",
    "function list_tray(N)\n",
    "    Trayectorias = []\n",
    "    for i in 1:N\n",
    "        tray = trayectoria_caminata_aleat(3, 50, 0, 1/2)\n",
    "        push!(Trayectorias, tray)\n",
    "    end\n",
    "    return Trayectorias\n",
    "end\n"
   ]
  },
  {
   "cell_type": "code",
   "execution_count": 98,
   "metadata": {
    "collapsed": false
   },
   "outputs": [
    {
     "data": {
      "text/plain": [
       "100-element Array{Any,1}:\n",
       " [0,1,0,1,0,-1,0,-1,0,1  …  -3,-2,-3,-2,-3,-2,-1,-2,-1,-2]                \n",
       " [0,-1,0,-1,-2,-3,-2,-3,-4,-5  …  -17,-18,-19,-20,-19,-20,-21,-22,-21,-20]\n",
       " [0,1,0,1,0,-1,-2,-3,-4,-5  …  -1,-2,-1,0,1,2,1,2,3,4]                    \n",
       " [0,1,2,3,4,3,2,1,0,-1  …  -1,0,-1,0,1,2,3,2,1,2]                         \n",
       " [0,1,2,3,2,1,0,-1,-2,-3  …  -7,-8,-7,-8,-7,-6,-5,-6,-7,-6]               \n",
       " [0,1,2,3,2,1,0,-1,-2,-3  …  -1,0,1,2,3,2,3,4,5,6]                        \n",
       " [0,1,0,-1,0,-1,0,-1,0,-1  …  -7,-6,-7,-8,-7,-8,-7,-8,-9,-8]              \n",
       " [0,1,0,-1,-2,-1,0,1,0,1  …  1,0,1,2,3,4,3,2,3,2]                         \n",
       " [0,1,0,1,2,1,2,1,0,1  …  3,4,5,6,7,8,7,6,7,8]                            \n",
       " [0,1,2,1,0,1,0,-1,0,-1  …  -3,-2,-3,-2,-1,-2,-1,0,1,0]                   \n",
       " [0,1,0,1,2,3,2,1,0,1  …  3,2,1,0,-1,-2,-1,-2,-1,0]                       \n",
       " [0,1,0,1,2,1,2,3,4,3  …  -1,0,1,2,3,2,1,2,1,0]                           \n",
       " [0,1,2,1,0,-1,-2,-3,-2,-1  …  -1,-2,-1,0,-1,-2,-1,-2,-1,-2]              \n",
       " ⋮                                                                        \n",
       " [0,-1,0,1,2,3,4,5,4,5  …  7,6,5,4,5,6,7,8,9,10]                          \n",
       " [0,-1,0,1,2,1,0,1,0,-1  …  9,10,9,10,11,12,11,12,13,12]                  \n",
       " [0,1,2,3,2,1,0,-1,0,1  …  -5,-4,-5,-4,-5,-4,-3,-4,-3,-4]                 \n",
       " [0,-1,-2,-3,-2,-3,-4,-5,-4,-3  …  3,4,5,6,5,6,7,8,9,8]                   \n",
       " [0,-1,0,1,2,1,0,-1,0,1  …  -1,0,-1,-2,-3,-4,-3,-2,-1,0]                  \n",
       " [0,-1,0,1,2,3,2,3,2,1  …  -7,-6,-7,-8,-7,-6,-7,-6,-7,-8]                 \n",
       " [0,1,2,3,4,3,4,5,4,3  …  1,0,-1,-2,-1,-2,-3,-4,-3,-4]                    \n",
       " [0,-1,0,-1,0,-1,0,-1,-2,-1  …  1,2,1,0,1,2,1,0,1,0]                      \n",
       " [0,-1,0,-1,-2,-1,0,-1,-2,-1  …  1,2,3,4,3,4,3,2,1,2]                     \n",
       " [0,-1,0,-1,-2,-3,-2,-1,0,1  …  -3,-4,-3,-2,-1,0,-1,0,-1,0]               \n",
       " [0,1,0,1,2,3,4,5,6,5  …  -1,0,-1,-2,-3,-2,-3,-4,-3,-4]                   \n",
       " [0,-1,-2,-1,-2,-1,-2,-1,-2,-1  …  7,8,7,8,7,8,7,8,7,6]                   "
      ]
     },
     "execution_count": 98,
     "metadata": {},
     "output_type": "execute_result"
    }
   ],
   "source": [
    "Trayect = list_tray(100)"
   ]
  },
  {
   "cell_type": "code",
   "execution_count": null,
   "metadata": {
    "collapsed": true
   },
   "outputs": [],
   "source": [
    "function graph_tray(N)\n",
    "    p  = plot(t, tray)\n",
    "    \n",
    "    for i in 1:N\n",
    "        plot!(t)"
   ]
  },
  {
   "cell_type": "markdown",
   "metadata": {},
   "source": [
    "**[5]** Modifica tu función para que brinque a la derecha con probabilidad $p$ y a la izquierda con probabilidad $q := 1-p$. Dibuja las trayectorias para varios valores de $p$. ¿Qué observas?"
   ]
  },
  {
   "cell_type": "code",
   "execution_count": 93,
   "metadata": {
    "collapsed": false
   },
   "outputs": [
    {
     "data": {
      "text/plain": [
       "trayectoria_caminata_aleat2 (generic function with 1 method)"
      ]
     },
     "execution_count": 93,
     "metadata": {},
     "output_type": "execute_result"
    }
   ],
   "source": [
    "function trayectoria_caminata_aleat2(s, N, x0, p)\n",
    "    a = UInt64(6364136223846793005)\n",
    "    c = UInt64(1442695040888963407)\n",
    "    s = x_global\n",
    "    q = 1 - p\n",
    "    contador = x0\n",
    "    trayectoria = [0]\n",
    "    for i in 1:n\n",
    "    n_al = mi_rand()\n",
    "    num_aleat = normalizar(n_al)\n",
    "        if num_aleat <= q\n",
    "            contador = contador - 1\n",
    "        else \n",
    "            contador = contador + 1 \n",
    "        end\n",
    "        #@show i, num_aleat, contador\n",
    "        push!(trayectoria, contador)\n",
    "    end\n",
    "    return trayectoria\n",
    "end"
   ]
  },
  {
   "cell_type": "code",
   "execution_count": null,
   "metadata": {
    "collapsed": true
   },
   "outputs": [],
   "source": [
    "t1 = trayectoria_caminata_aleat(3, 50, 0, 1/2);\n",
    "t2 = trayectoria_caminata_aleat(3, 50, 0, 1/2);\n",
    "t3 = trayectoria_caminata_aleat(3, 50, 0, 1/2);"
   ]
  },
  {
   "cell_type": "code",
   "execution_count": null,
   "metadata": {
    "collapsed": true
   },
   "outputs": [],
   "source": []
  },
  {
   "cell_type": "markdown",
   "metadata": {},
   "source": [
    "**[6]** ¿Cómo puedes caracterizar la posición de los caminantes después de $N$ pasos? Hazlo. ¿Cómo evoluciona en el tiempo? Si es demasiado trivial, piensa en otra caracterización."
   ]
  },
  {
   "cell_type": "markdown",
   "metadata": {},
   "source": [
    "# Caminatas aleatorias en 2D"
   ]
  },
  {
   "cell_type": "markdown",
   "metadata": {},
   "source": [
    "**[7]** Una partícula grande inmersa en un fluido lleva a cabo una caminata aleatoria / movimiento Browniano. \n",
    "\n",
    "(i) Simula una partícula que vive en una red cuadrada con coordenadas enteras y puede brincar en cualquiera de las 4 direcciones más cercanas con igual probabilidad. \n",
    "\n",
    "(ii) Dibuja unas trayectorias. ¿Qué observas?\n",
    "\n",
    "(iii) Dibuja muchas trayectorias. ¿Qué observas?\n",
    "\n",
    "(iv) ¿Cómo puedes caracterizar la distribución al tiempo $t$?"
   ]
  },
  {
   "cell_type": "markdown",
   "metadata": {},
   "source": [
    "**[8]** Para acercarnos al movimiento Browniano, podemos hacer que los brincos sean de distintos tamaños. Piensa en varias formas de hacerlo, implementarlas, y dibuja las trayectorias correspondientes. ¿Cómo se pueden caracterizar los comportamientos resultantes?"
   ]
  },
  {
   "cell_type": "code",
   "execution_count": null,
   "metadata": {
    "collapsed": true
   },
   "outputs": [],
   "source": []
  },
  {
   "cell_type": "code",
   "execution_count": null,
   "metadata": {
    "collapsed": true
   },
   "outputs": [],
   "source": []
  },
  {
   "cell_type": "markdown",
   "metadata": {},
   "source": [
    "## Dibujar Campos Vectoriales"
   ]
  },
  {
   "cell_type": "code",
   "execution_count": 1,
   "metadata": {
    "collapsed": false
   },
   "outputs": [
    {
     "name": "stdout",
     "output_type": "stream",
     "text": [
      "search:\n",
      "\n",
      "Couldn't find \u001b[36mquiver\n",
      "\u001b[39mPerhaps you meant quit, quote, Timer, super, Number or quadgk\n"
     ]
    },
    {
     "data": {
      "text/markdown": [
       "No documentation found.\n",
       "\n",
       "Binding `quiver` does not exist.\n"
      ],
      "text/plain": [
       "No documentation found.\n",
       "\n",
       "Binding `quiver` does not exist.\n"
      ]
     },
     "execution_count": 1,
     "metadata": {},
     "output_type": "execute_result"
    }
   ],
   "source": [
    "?quiver"
   ]
  },
  {
   "cell_type": "code",
   "execution_count": null,
   "metadata": {
    "collapsed": true
   },
   "outputs": [],
   "source": []
  }
 ],
 "metadata": {
  "kernelspec": {
   "display_name": "Julia 0.5.0",
   "language": "julia",
   "name": "julia-0.5"
  },
  "language_info": {
   "file_extension": ".jl",
   "mimetype": "application/julia",
   "name": "julia",
   "version": "0.5.0"
  }
 },
 "nbformat": 4,
 "nbformat_minor": 1
}

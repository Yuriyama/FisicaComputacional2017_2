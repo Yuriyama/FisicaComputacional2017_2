{
 "cells": [
  {
   "cell_type": "markdown",
   "metadata": {},
   "source": [
    "# Diferencias finitas: cálculo numérico de derivadas"
   ]
  },
  {
   "cell_type": "markdown",
   "metadata": {},
   "source": [
    "En el último notebook, vimos que el método de Newton requiere conocer la derivada de una función.\n",
    "En este notebook, veremos una manera (no necesariamente la mejor) de calcular derivadas de funciones de forma numérica: las llamadas **diferencias finitas**."
   ]
  },
  {
   "cell_type": "code",
   "execution_count": 23,
   "metadata": {
    "collapsed": false
   },
   "outputs": [
    {
     "data": {
      "text/plain": [
       "Plots.PyPlotBackend()"
      ]
     },
     "execution_count": 23,
     "metadata": {},
     "output_type": "execute_result"
    }
   ],
   "source": [
    "using Plots, LaTeXStrings\n",
    "pyplot()"
   ]
  },
  {
   "cell_type": "markdown",
   "metadata": {},
   "source": [
    "## Derivadas de funciones uni-dimensionales"
   ]
  },
  {
   "cell_type": "markdown",
   "metadata": {},
   "source": [
    "[1] Considera una función uni-dimensional $f: \\mathbb{R} \\to \\mathbb{R}$, y supón que es suficientemente diferenciable para que las derivadas que tomemos estén definidas [por ejemplo, de clase $C^2$].\n",
    "\n",
    "Escribe, usando notación LaTeX, la definición de la derivada $f'(a)$ de $f$ en el punto $a$, como límite cuando la variable $h$ tiende a $0$."
   ]
  },
  {
   "cell_type": "markdown",
   "metadata": {},
   "source": [
    "$$f'(a) = \\lim_{\\mathbb{h} \\to \\mathbb {0}} \\frac{f(a + h) - f(a)} {h}$$ "
   ]
  },
  {
   "cell_type": "code",
   "execution_count": null,
   "metadata": {
    "collapsed": true
   },
   "outputs": [],
   "source": [
    "#lim_"
   ]
  },
  {
   "cell_type": "markdown",
   "metadata": {},
   "source": [
    "[2] Desgraciadamente, **no podemos llevar a cabo el proceso de límite en la computadora**. (Intuitivamente, podemos decir que el proceso de límite es **continuo**, mientras que la computadora maneja cantidades **discretas**.)\n",
    "\n",
    "(i) ¿Cuál solución se te ocurre para esto en términos de la variable $h$? "
   ]
  },
  {
   "cell_type": "markdown",
   "metadata": {},
   "source": [
    "La expresión $f(a+h) - f(a)$ se llama una **diferencia para adelante** (\"forward difference\"), y cuando lo dividimos por $h$ se llama un **cociente de diferencias** (\"difference quotient\"). \n",
    "\n",
    "(ii) ¿Geométricamente, a qué corresponde una diferencia de este tipo? ¿Y un cociente de diferencias?"
   ]
  },
  {
   "cell_type": "markdown",
   "metadata": {},
   "source": [
    "[3] (i) Escribe una función que implemente una diferencia para adelante para una función $f$, punto $a$ y paso $h$ dadas."
   ]
  },
  {
   "cell_type": "code",
   "execution_count": 72,
   "metadata": {
    "collapsed": false
   },
   "outputs": [
    {
     "data": {
      "text/plain": [
       "dif_adelante (generic function with 1 method)"
      ]
     },
     "execution_count": 72,
     "metadata": {},
     "output_type": "execute_result"
    }
   ],
   "source": [
    "function dif_adelante(f::Function, a::Number, h::FloatRange)\n",
    "    difer = []\n",
    "    for i in h\n",
    "        dif = f(a + i) - f(a)\n",
    "        push!(difer, dif)\n",
    "    end\n",
    "    return difer\n",
    "end "
   ]
  },
  {
   "cell_type": "code",
   "execution_count": 73,
   "metadata": {
    "collapsed": false
   },
   "outputs": [
    {
     "data": {
      "text/plain": [
       "5-element Array{Any,1}:\n",
       "  3.0 \n",
       "  5.25\n",
       "  8.0 \n",
       " 11.25\n",
       " 15.0 "
      ]
     },
     "execution_count": 73,
     "metadata": {},
     "output_type": "execute_result"
    }
   ],
   "source": [
    "dif_adelante(x -> x^2, 1.0, 1:0.5:3)"
   ]
  },
  {
   "cell_type": "code",
   "execution_count": null,
   "metadata": {
    "collapsed": true
   },
   "outputs": [],
   "source": [
    "#NOOO\n",
    "function cociente_difer(f::Function, a::Number, h::Number)\n",
    "    difer = []\n",
    "    for i in h\n",
    "        dif = (f(a + i) - f(a)) / i\n",
    "        push!(difer, dif)\n",
    "        #@show i f(a + i) - f(a) dif\n",
    "    end\n",
    "    return difer\n",
    "end "
   ]
  },
  {
   "cell_type": "markdown",
   "metadata": {},
   "source": [
    "(ii) Para distintas funciones $f$, grafica la función $f$, su derivada analítica $f'$, y la aproximación a $f'$ usando diferencias finitas."
   ]
  },
  {
   "cell_type": "code",
   "execution_count": 86,
   "metadata": {
    "collapsed": false
   },
   "outputs": [
    {
     "name": "stderr",
     "output_type": "stream",
     "text": [
      "WARNING: Method definition cociente_difer(Function, Number, Number) in module Main at In[85]:4 overwritten at In[86]:4.\n"
     ]
    },
    {
     "data": {
      "text/plain": [
       "cociente_difer (generic function with 3 methods)"
      ]
     },
     "execution_count": 86,
     "metadata": {},
     "output_type": "execute_result"
    }
   ],
   "source": [
    "function cociente_difer(f::Function, a::Number, h::Number)\n",
    "\n",
    "        dif = (f(a + h) - f(a)) / h\n",
    "    \n",
    "    return dif\n",
    "end "
   ]
  },
  {
   "cell_type": "code",
   "execution_count": 78,
   "metadata": {
    "collapsed": false
   },
   "outputs": [
    {
     "data": {
      "text/plain": [
       "1000-element Array{Any,1}:\n",
       " 2.0  \n",
       " 2.001\n",
       " 2.002\n",
       " 2.003\n",
       " 2.004\n",
       " 2.005\n",
       " 2.006\n",
       " 2.007\n",
       " 2.008\n",
       " 2.009\n",
       " 2.01 \n",
       " 2.011\n",
       " 2.012\n",
       " ⋮    \n",
       " 2.988\n",
       " 2.989\n",
       " 2.99 \n",
       " 2.991\n",
       " 2.992\n",
       " 2.993\n",
       " 2.994\n",
       " 2.995\n",
       " 2.996\n",
       " 2.997\n",
       " 2.998\n",
       " 2.999"
      ]
     },
     "execution_count": 78,
     "metadata": {},
     "output_type": "execute_result"
    }
   ],
   "source": [
    "yy = cociente_difer(x -> x^2, 1.0, 1e-10:0.001:1)"
   ]
  },
  {
   "cell_type": "code",
   "execution_count": 84,
   "metadata": {
    "collapsed": false
   },
   "outputs": [
    {
     "name": "stderr",
     "output_type": "stream",
     "text": [
      "julia(491,0x7fff75bcf310) malloc: *** mach_vm_map(size=8000000000000000) failed (error code=3)\n",
      "*** error: can't allocate region\n",
      "*** set a breakpoint in malloc_error_break to debug\n"
     ]
    },
    {
     "ename": "LoadError",
     "evalue": "OutOfMemoryError()",
     "output_type": "error",
     "traceback": [
      "OutOfMemoryError()",
      "",
      " in vcat(::FloatRange{Float64}) at ./range.jl:822",
      " in collect(::FloatRange{Float64}) at ./range.jl:832"
     ]
    }
   ],
   "source": [
    "collect(1e-15:1e-15:1)"
   ]
  },
  {
   "cell_type": "code",
   "execution_count": 101,
   "metadata": {
    "collapsed": false
   },
   "outputs": [
    {
     "data": {
      "text/plain": [
       "1:3"
      ]
     },
     "execution_count": 101,
     "metadata": {},
     "output_type": "execute_result"
    }
   ],
   "source": [
    "rango1 = 1:3"
   ]
  },
  {
   "cell_type": "code",
   "execution_count": 102,
   "metadata": {
    "collapsed": false
   },
   "outputs": [
    {
     "data": {
      "text/plain": [
       "(::#233) (generic function with 1 method)"
      ]
     },
     "execution_count": 102,
     "metadata": {},
     "output_type": "execute_result"
    }
   ],
   "source": [
    "res = x->cociente_difer(x->x^2,x,1)"
   ]
  },
  {
   "cell_type": "code",
   "execution_count": 106,
   "metadata": {
    "collapsed": false
   },
   "outputs": [
    {
     "data": {
      "text/html": [
       "<img src=\"data:image/png;base64,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\" />"
      ]
     },
     "execution_count": 106,
     "metadata": {},
     "output_type": "execute_result"
    }
   ],
   "source": [
    "scatter(rango1, res, ylim=(2,6))"
   ]
  },
  {
   "cell_type": "code",
   "execution_count": 117,
   "metadata": {
    "collapsed": false
   },
   "outputs": [
    {
     "data": {
      "text/html": [
       "<img src=\"data:image/png;base64,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\" />"
      ]
     },
     "execution_count": 117,
     "metadata": {},
     "output_type": "execute_result"
    }
   ],
   "source": [
    "rango = 1e-4:1e-4:3\n",
    "h=1e-1\n",
    "plot(rango,x->x^2, xlim=(-0.5, 2.5), ylim=(-0.5, 5), xlabel=L\"x\", title=L\"x^2\", lab=L\"f(x)=x^2\")\n",
    "plot!(x->2x, lab=L\"2x\")\n",
    "plot!(x->cociente_difer(x->x^2,x,h), lab=L\"f'(x)\")"
   ]
  },
  {
   "cell_type": "code",
   "execution_count": 30,
   "metadata": {
    "collapsed": false
   },
   "outputs": [],
   "source": [
    "yc = cociente_difer(x -> x, 1.0, 1e-10:0.001:1);"
   ]
  },
  {
   "cell_type": "code",
   "execution_count": 33,
   "metadata": {
    "collapsed": false
   },
   "outputs": [],
   "source": [
    "xc = collect(1e-10:0.001:1);"
   ]
  },
  {
   "cell_type": "code",
   "execution_count": 118,
   "metadata": {
    "collapsed": false
   },
   "outputs": [],
   "source": [
    "plot((collect(-2:0.2:2)),[x for x in -2:0.2:2], xlim=(-2.5,2.5), ylim=(-2.5,2.5))\n",
    "plot!((collect(-2:0.2:2)), [1 for x in -2:0.2:2])\n",
    "plot!(xc, yc);"
   ]
  },
  {
   "cell_type": "markdown",
   "metadata": {},
   "source": [
    "[4] (i) Calcula el error desde el valor analítico que se comete al utilizar la aproximación de la derivada al tomar una $f$ y $a$ dadas, y variar $h$, usando la función `logspace` para que los valores de $h$ estén espaciados de forma logarítmica. Hazlo para diferentes funciones. (¡Escribe una función que haga el cálculo!) ¿Qué podría causar este efecto?"
   ]
  },
  {
   "cell_type": "code",
   "execution_count": null,
   "metadata": {
    "collapsed": false
   },
   "outputs": [],
   "source": []
  },
  {
   "cell_type": "markdown",
   "metadata": {},
   "source": [
    "(ii) ¿Para qué clase de funciones será el resultado exacto? Demuéstralo gráficamente. Así, qué tipo de **aproximación local** de la función estamos usando? "
   ]
  },
  {
   "cell_type": "markdown",
   "metadata": {},
   "source": [
    "[5] (i) Desarrolla $f(a + h)$ en una serie de Taylor con término complementario de Lagrange. Así, rederiva la expresión aproximada que ya obtuviste para la derivada, pero ahora con información *analítica* sobre **el tamaño del error** que cometes cuando utilizas esta aproximación (asintóticamente cuando $h \\to 0$). Si el error va como $C.h^n$, con $C$ una constante, entonces escribimos $\\mathcal{O}(h^n)$. \n",
    "\n",
    "(ii) Verifica que coinicide con lo que encontraste numéricamente."
   ]
  },
  {
   "cell_type": "markdown",
   "metadata": {},
   "source": [
    "[6] Una mejor aproximación (¿a qué nos referimos con eso?) es la **diferencia centrada**: expande $f(a+h)$ y $f(a - h)$ en series de Taylor separadas. Así, deriva una mejor aproximación a la primera derivada. Calcula su error y chécalo numéricamente.  ¿Para qué tipo de funciones es exacta? "
   ]
  },
  {
   "cell_type": "markdown",
   "metadata": {},
   "source": [
    "[7] Encuentra una aproximación para la segunda derivada y encuentra su error; chécalo numéricamente. "
   ]
  },
  {
   "cell_type": "markdown",
   "metadata": {},
   "source": [
    "## Funciones multi-dimensionales "
   ]
  },
  {
   "cell_type": "markdown",
   "metadata": {},
   "source": [
    "Ahora consideremos una función $f: \\mathbb{R}^2 \\to \\mathbb{R}$ y $g: \\mathbb{R}^2 \\to \\mathbb{R}^2$."
   ]
  },
  {
   "cell_type": "markdown",
   "metadata": {},
   "source": [
    "[8] ¿Qué tipo de derivadas quisiéramos poder calcular para $f$ y $g$? ¿Cómo podemos utilizar lo que ya hicimos para funciones uni-dimensionales para aplicarlo directamente a $f$ y $g$?\n",
    "\n",
    "[9] Impleméntalo y compara con funciones cuyas derivadas conoces analíticamente."
   ]
  },
  {
   "cell_type": "markdown",
   "metadata": {},
   "source": [
    "## De regreso al método de Newton"
   ]
  },
  {
   "cell_type": "markdown",
   "metadata": {},
   "source": [
    "[10] Utiliza una diferencia finita, con una $h$ pequeña, para aproximar la derivada en el método de Newton. ¿Cómo afecta el utilizar una aproximación de la derivada, en lugar del valor exacto, en la tasa de convergencia? Compara los resultados al utilizar los dos tipos de diferencias finitas (para adelante y centrada)."
   ]
  }
 ],
 "metadata": {
  "kernelspec": {
   "display_name": "Julia 0.5.0",
   "language": "julia",
   "name": "julia-0.5"
  },
  "language_info": {
   "file_extension": ".jl",
   "mimetype": "application/julia",
   "name": "julia",
   "version": "0.5.0"
  }
 },
 "nbformat": 4,
 "nbformat_minor": 2
}

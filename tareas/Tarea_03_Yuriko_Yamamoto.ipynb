{
 "cells": [
  {
   "cell_type": "markdown",
   "metadata": {},
   "source": [
    "# Tarea 03: Evaluación de funciones"
   ]
  },
  {
   "cell_type": "markdown",
   "metadata": {},
   "source": [
    "Fecha *límite* de entrega: **martes 28 de febrero del 2017, antes de las 15:00 horas**.\n",
    "\n",
    "**No** se recibirán tareas enviadas después del inicio de la clase.\n",
    "\n",
    "Manda un solo notebook de Jupyter con tus respuestas a las preguntas al ayudante.\n",
    "\n",
    "Explica brevemente qué estás haciendo. Redacta oraciones completas en español, usando acentos. Utiliza ecuaciones con notación LaTeX cuando sea necesario.\n",
    "\n",
    "El notebook debe ser ejecutable, es decir, cada celda debe correr sin errores, y debe reproducir la salida que aparece en la pantalla."
   ]
  },
  {
   "cell_type": "markdown",
   "metadata": {},
   "source": [
    "## 1. Polinomios "
   ]
  },
  {
   "cell_type": "markdown",
   "metadata": {},
   "source": [
    "En esta tarea, veremos cómo evaluar ciertas funciones en la computadora.\n",
    "\n",
    "Las funciones más fáciles de tratar son los **polinomios**."
   ]
  },
  {
   "cell_type": "markdown",
   "metadata": {},
   "source": [
    "[1] Utiliza notación LaTeX en una celda de Markdown para escribir un polinomio $p_n$ de grado $n$ con coeficientes \n",
    "$a_0$, $a_1$, $\\ldots$, $a_n$, donde $a_i$ es el coeficiente de $x^i$."
   ]
  },
  {
   "cell_type": "markdown",
   "metadata": {},
   "source": [
    "$p_n$ = $a_0$$x_0$ + $a_1$$x_1$ + $\\ldots$ + $a_i$$x_i$ + $\\ldots$ + $a_n$$x_n$"
   ]
  },
  {
   "cell_type": "markdown",
   "metadata": {},
   "source": [
    "[2] (i) Escribe una función `evaluar_polinomio` que evalúa un polinomio de grado $2$, $p(x) = a + bx + c x^2$. La función debe aceptar como argumentos los valores de $a$, $b$ y $c$, así como el valor de $x$ donde evaluar. Verifica que funciona con el polinomio $p(x) = 1 + 2x - 3x^2$. [Pista, aquí la función se llama como sigue:\n",
    "\n",
    "    evaluar_polinomio(a, b, c, x).\n",
    "    \n",
    "]"
   ]
  },
  {
   "cell_type": "code",
   "execution_count": 1,
   "metadata": {
    "collapsed": false
   },
   "outputs": [
    {
     "data": {
      "text/plain": [
       "evaluar_polinomio (generic function with 1 method)"
      ]
     },
     "execution_count": 1,
     "metadata": {},
     "output_type": "execute_result"
    }
   ],
   "source": [
    "function evaluar_polinomio(a, b, c, x)\n",
    "    p_x = a + b*x + c*x^2\n",
    "    return p_x\n",
    "end"
   ]
  },
  {
   "cell_type": "code",
   "execution_count": 2,
   "metadata": {
    "collapsed": false
   },
   "outputs": [
    {
     "data": {
      "text/plain": [
       "1"
      ]
     },
     "execution_count": 2,
     "metadata": {},
     "output_type": "execute_result"
    }
   ],
   "source": [
    "evaluar_polinomio(1, 2, -3, 0)"
   ]
  },
  {
   "cell_type": "markdown",
   "metadata": {},
   "source": [
    "(ii) Escribe una función `evaluar_polinomio` evalúa un polinomio de grado $n$.\n",
    "Acepta un arreglo `a` de $n+1$ coeficients, en el orden `a_0`, `a_1`, etc., así como un valor `x`, y evalúa $p(x)$. [Pista: Recuerda que el $i$-ésimo elemento de un arreglo se accesa con `a[i]`, y el número de entradas de un arreglo es `length(a)`.] Verifica que funciona con el polinomio $p(x) = 1 + 2x - 3x^2$. [Pista: aquí, la función se llama como sigue: \n",
    "\n",
    "    evaluar_polinomio([1, 2, -3], x)\n",
    "]"
   ]
  },
  {
   "cell_type": "code",
   "execution_count": 3,
   "metadata": {
    "collapsed": false
   },
   "outputs": [
    {
     "data": {
      "text/plain": [
       "evaluar_polinomio_n (generic function with 1 method)"
      ]
     },
     "execution_count": 3,
     "metadata": {},
     "output_type": "execute_result"
    }
   ],
   "source": [
    "function evaluar_polinomio_n(coef::Array{Int64,1}, x)\n",
    "    p_x = 0\n",
    "    for i in 1:length(coef)\n",
    "        p_x += coef[i] * x^(i-1)\n",
    "    end\n",
    "    return p_x\n",
    "end"
   ]
  },
  {
   "cell_type": "code",
   "execution_count": 4,
   "metadata": {
    "collapsed": false
   },
   "outputs": [
    {
     "data": {
      "text/plain": [
       "0"
      ]
     },
     "execution_count": 4,
     "metadata": {},
     "output_type": "execute_result"
    }
   ],
   "source": [
    "evaluar_polinomio_n([1, 2, -3], 1)"
   ]
  },
  {
   "cell_type": "markdown",
   "metadata": {},
   "source": [
    "(iii) Verifica que funciona con un polinomio cúbico."
   ]
  },
  {
   "cell_type": "code",
   "execution_count": 5,
   "metadata": {
    "collapsed": false
   },
   "outputs": [
    {
     "data": {
      "text/plain": [
       "7"
      ]
     },
     "execution_count": 5,
     "metadata": {},
     "output_type": "execute_result"
    }
   ],
   "source": [
    "evaluar_polinomio_n([1, 2, 3, 1], 1)"
   ]
  },
  {
   "cell_type": "markdown",
   "metadata": {},
   "source": [
    "[3] Otra manera de evaluar un polinomio es con el llamado [**algoritmo de Horner**](https://es.wikipedia.org/wiki/Algoritmo_de_Horner). La idea es que es ineficiente calcular `xˆ3` desde cero, si ya contamos con el resultado de `xˆ2`.\n",
    "\n",
    "(i) Escribe una función para evaluar una función `evaluar_actualizar` usando esta idea: empieza desde el coeficiente de $x^0$, y guarda el valor actual de la potencia de `x` en una variable que vas actualizando."
   ]
  },
  {
   "cell_type": "code",
   "execution_count": 6,
   "metadata": {
    "collapsed": false
   },
   "outputs": [
    {
     "data": {
      "text/plain": [
       "evaluar_actualizar (generic function with 1 method)"
      ]
     },
     "execution_count": 6,
     "metadata": {},
     "output_type": "execute_result"
    }
   ],
   "source": [
    "function evaluar_actualizar(coef::Array{Int64,1}, x)\n",
    "    p_x = coef[1]\n",
    "    #@show p_x\n",
    "    for i in 2:length(coef)\n",
    "        p_x += coef[i] * x^(i-1)\n",
    "        #@show p_x\n",
    "    end\n",
    "    return p_x\n",
    "end"
   ]
  },
  {
   "cell_type": "code",
   "execution_count": 7,
   "metadata": {
    "collapsed": false
   },
   "outputs": [
    {
     "data": {
      "text/plain": [
       "0"
      ]
     },
     "execution_count": 7,
     "metadata": {},
     "output_type": "execute_result"
    }
   ],
   "source": [
    "evaluar_actualizar([1, 2, -3], 1)"
   ]
  },
  {
   "cell_type": "markdown",
   "metadata": {},
   "source": [
    "(ii) Utiliza la descripción del algoritmo en la liga para escribir una función `evaluar_horner` que implementa el método de Horner (que se supone es aún más eficiente que la (i)), con la misma estructura que la función de la pregunta 2(ii). Verifica que da las mismas respuestas que las funciones de la pregunta 2."
   ]
  },
  {
   "cell_type": "code",
   "execution_count": 8,
   "metadata": {
    "collapsed": false
   },
   "outputs": [
    {
     "data": {
      "text/plain": [
       "evaluar_horner (generic function with 1 method)"
      ]
     },
     "execution_count": 8,
     "metadata": {},
     "output_type": "execute_result"
    }
   ],
   "source": [
    "function evaluar_horner(coef::Array{Int64,1}, x)\n",
    "\n",
    "    h = 0\n",
    "    n = length(coef)\n",
    "    for k in 0:n-1\n",
    "        h += (coef[n-k]) * (x^(k+1)) \n",
    "   \n",
    "    end\n",
    "    return h\n",
    "end"
   ]
  },
  {
   "cell_type": "code",
   "execution_count": 9,
   "metadata": {
    "collapsed": false
   },
   "outputs": [
    {
     "data": {
      "text/plain": [
       "0"
      ]
     },
     "execution_count": 9,
     "metadata": {},
     "output_type": "execute_result"
    }
   ],
   "source": [
    "evaluar_horner([1, 2, -3], 1)"
   ]
  },
  {
   "cell_type": "markdown",
   "metadata": {},
   "source": [
    "[4] ¿Cuál de estos tres algoritmos es \"mejor\"? Aquí, por \"mejor\" entenderemos \"más rápido\".\n",
    "Para verificarlo, utiliza el paquete `BenchmarkTools.jl`, y utiliza `@benchmark f($a, $x)` para ver cuánto tiempo se tarda cada función. (Debes poner explícitamente los signos `$`.) "
   ]
  },
  {
   "cell_type": "code",
   "execution_count": 10,
   "metadata": {
    "collapsed": false
   },
   "outputs": [
    {
     "name": "stdout",
     "output_type": "stream",
     "text": [
      "  0.000006 seconds (130 allocations: 7.719 KB)\n"
     ]
    },
    {
     "data": {
      "text/plain": [
       "1"
      ]
     },
     "execution_count": 10,
     "metadata": {},
     "output_type": "execute_result"
    }
   ],
   "source": [
    "@time evaluar_polinomio(1, 2, -3, 0)"
   ]
  },
  {
   "cell_type": "code",
   "execution_count": 11,
   "metadata": {
    "collapsed": false
   },
   "outputs": [
    {
     "name": "stdout",
     "output_type": "stream",
     "text": [
      "  0.000006 seconds (5 allocations: 272 bytes)\n"
     ]
    },
    {
     "data": {
      "text/plain": [
       "1"
      ]
     },
     "execution_count": 11,
     "metadata": {},
     "output_type": "execute_result"
    }
   ],
   "source": [
    "@time evaluar_polinomio_n([1, 2, -3], 0)"
   ]
  },
  {
   "cell_type": "code",
   "execution_count": 12,
   "metadata": {
    "collapsed": false
   },
   "outputs": [
    {
     "name": "stdout",
     "output_type": "stream",
     "text": [
      "  0.000006 seconds (5 allocations: 272 bytes)\n"
     ]
    },
    {
     "data": {
      "text/plain": [
       "1"
      ]
     },
     "execution_count": 12,
     "metadata": {},
     "output_type": "execute_result"
    }
   ],
   "source": [
    "@time evaluar_actualizar([1, 2, -3], 0)"
   ]
  },
  {
   "cell_type": "code",
   "execution_count": 13,
   "metadata": {
    "collapsed": false
   },
   "outputs": [
    {
     "name": "stdout",
     "output_type": "stream",
     "text": [
      "  0.000005 seconds (5 allocations: 272 bytes)\n"
     ]
    },
    {
     "data": {
      "text/plain": [
       "0"
      ]
     },
     "execution_count": 13,
     "metadata": {},
     "output_type": "execute_result"
    }
   ],
   "source": [
    "@time evaluar_horner([1, 2, -3], 0)"
   ]
  },
  {
   "cell_type": "markdown",
   "metadata": {},
   "source": [
    "Usé \"@time\" porque tuve problemas al intentar utilizar BenchmarkTools.\n",
    "Pero con time, la función más \"eficiente\" (rápida) es evaluar_horner."
   ]
  },
  {
   "cell_type": "code",
   "execution_count": null,
   "metadata": {
    "collapsed": false
   },
   "outputs": [],
   "source": [
    "#Pkg.add(\"BenchmarkTools\");"
   ]
  },
  {
   "cell_type": "code",
   "execution_count": null,
   "metadata": {
    "collapsed": false
   },
   "outputs": [],
   "source": [
    "#Pkg.update()"
   ]
  },
  {
   "cell_type": "code",
   "execution_count": 14,
   "metadata": {
    "collapsed": false
   },
   "outputs": [],
   "source": [
    "using BenchmarkTools"
   ]
  },
  {
   "cell_type": "code",
   "execution_count": 8,
   "metadata": {
    "collapsed": false
   },
   "outputs": [
    {
     "ename": "LoadError",
     "evalue": "syntax: missing comma or ) in argument list",
     "output_type": "error",
     "traceback": [
      "syntax: missing comma or ) in argument list",
      ""
     ]
    }
   ],
   "source": [
    "@benchmark evaluar_polinomio($1, $2, $-3, $0)"
   ]
  },
  {
   "cell_type": "code",
   "execution_count": 6,
   "metadata": {
    "collapsed": false
   },
   "outputs": [
    {
     "ename": "LoadError",
     "evalue": "syntax: missing separator in array expression",
     "output_type": "error",
     "traceback": [
      "syntax: missing separator in array expression",
      ""
     ]
    }
   ],
   "source": [
    "@benchmark evaluar_polinomio_n([$1, $2, $-3], $0)"
   ]
  },
  {
   "cell_type": "markdown",
   "metadata": {},
   "source": [
    "## 2. Funciones elementales"
   ]
  },
  {
   "cell_type": "markdown",
   "metadata": {},
   "source": [
    "¿Cómo evalúa una computadora la función exponencial? No hay ninguna forma fácil y exacta de evaluarla. Por eso debemos usar **aproximaciones**. Normalmente, aproximamos las funciones complicadas (o sea, ¡las que no sean polinomios!) por las únicas funciones con las cuales sí sabemos trabajar, los polinomios.\n",
    "\n",
    "Un primer tipo de aproximación es mediante las **series de Taylor**. (Ojo: no es la mejor solución, ni la que se utiliza realmente.)"
   ]
  },
  {
   "cell_type": "markdown",
   "metadata": {},
   "source": [
    "[5] Recuerda que la función exponencial se define mediante una serie de Taylor. Escribe esta serie de Taylor con notación LaTeX."
   ]
  },
  {
   "cell_type": "markdown",
   "metadata": {},
   "source": [
    "$e^x = 1 + \\frac{1}{1!}x + \\frac{1}{2!}x^2 + \\frac{1}{3!}x^3 + \\ldots + \\frac{1}{i!}x^i + \\ldots + \\frac{1}{n!}x^n$"
   ]
  },
  {
   "cell_type": "markdown",
   "metadata": {
    "collapsed": true
   },
   "source": [
    "Podemos aproximar la serie de Taylor con un **polinomio de Taylor** de grado $n$, que se obtiene al truncar la serie y retener sólo los términos de grado $\\le n$."
   ]
  },
  {
   "cell_type": "markdown",
   "metadata": {},
   "source": [
    "[6] Escribe una función para calcular el polinomio de Taylor de la función exponencial de orden $n$, evaluada en $x$. Utiliza una de las funciones de la preguntas 2 o 3 para evaluar el polinomio."
   ]
  },
  {
   "cell_type": "code",
   "execution_count": 2,
   "metadata": {
    "collapsed": false
   },
   "outputs": [
    {
     "data": {
      "text/plain": [
       "pol_Taylor (generic function with 1 method)"
      ]
     },
     "execution_count": 2,
     "metadata": {},
     "output_type": "execute_result"
    }
   ],
   "source": [
    "function pol_Taylor(x, n)\n",
    "    e = 1\n",
    "    for i in 1:n\n",
    "        e += 1/(factorial(i)) * x^i\n",
    "    end\n",
    "    return e\n",
    "end"
   ]
  },
  {
   "cell_type": "code",
   "execution_count": 3,
   "metadata": {
    "collapsed": false
   },
   "outputs": [
    {
     "data": {
      "text/plain": [
       "2.7182818284590455"
      ]
     },
     "execution_count": 3,
     "metadata": {},
     "output_type": "execute_result"
    }
   ],
   "source": [
    "pol_Taylor(1, 20)"
   ]
  },
  {
   "cell_type": "markdown",
   "metadata": {},
   "source": [
    "[7] ¿Cuál valor de $n$ nos da una buena aproximación? Podemos esperar que dependerá de $x$. Para saberlo, haz lo siguiente.\n",
    "\n",
    "(i) Dibuja la función $\\exp(x)$ y las aproximaciones con distintas $n$s. Puedes usar también `@manipulate`. ¿Qué valor de $n$ parece que necesites para tener una buena aproximación de `exp(1)`? Para `exp(5)`?"
   ]
  },
  {
   "cell_type": "code",
   "execution_count": 8,
   "metadata": {
    "collapsed": false
   },
   "outputs": [
    {
     "data": {
      "text/plain": [
       "148.4131470673818"
      ]
     },
     "execution_count": 8,
     "metadata": {},
     "output_type": "execute_result"
    }
   ],
   "source": [
    "pol_Taylor(5, 20)"
   ]
  },
  {
   "cell_type": "code",
   "execution_count": 1,
   "metadata": {
    "collapsed": false
   },
   "outputs": [
    {
     "name": "stderr",
     "output_type": "stream",
     "text": [
      "\u001b[1m\u001b[34mINFO: Nothing to be done\n",
      "\u001b[0m\u001b[1m\u001b[34mINFO: METADATA is out-of-date — you may not have the latest version of GR\n",
      "\u001b[0m\u001b[1m\u001b[34mINFO: Use `Pkg.update()` to get the latest versions of your packages\n",
      "\u001b[0m"
     ]
    }
   ],
   "source": [
    "Pkg.add(\"GR\")"
   ]
  },
  {
   "cell_type": "code",
   "execution_count": 2,
   "metadata": {
    "collapsed": false
   },
   "outputs": [
    {
     "name": "stderr",
     "output_type": "stream",
     "text": [
      "\u001b[1m\u001b[34mINFO: Updating METADATA...\n",
      "\u001b[0m\u001b[1m\u001b[34mINFO: Computing changes...\n",
      "\u001b[0m\u001b[1m\u001b[34mINFO: No packages to install, update or remove\n",
      "\u001b[0m"
     ]
    }
   ],
   "source": [
    "Pkg.update()"
   ]
  },
  {
   "cell_type": "code",
   "execution_count": 4,
   "metadata": {
    "collapsed": false
   },
   "outputs": [
    {
     "data": {
      "text/plain": [
       "Plots.PyPlotBackend()"
      ]
     },
     "execution_count": 4,
     "metadata": {},
     "output_type": "execute_result"
    }
   ],
   "source": [
    "using Plots\n",
    "pyplot()\n",
    "#gr()"
   ]
  },
  {
   "cell_type": "code",
   "execution_count": 5,
   "metadata": {
    "collapsed": true
   },
   "outputs": [],
   "source": [
    "using LaTeXStrings"
   ]
  },
  {
   "cell_type": "code",
   "execution_count": 6,
   "metadata": {
    "collapsed": false
   },
   "outputs": [
    {
     "data": {
      "text/html": [
       "<div id=\"interact-js-shim\">\n",
       "    <script charset=\"utf-8\">\n",
       "(function (IPython, $, _, MathJax) {\n",
       "    $.event.special.destroyed = {\n",
       "\tremove: function(o) {\n",
       "\t    if (o.handler) {\n",
       "\t\to.handler.apply(this, arguments)\n",
       "\t    }\n",
       "\t}\n",
       "    }\n",
       "\n",
       "    var OutputArea = IPython.version >= \"4.0.0\" ? require(\"notebook/js/outputarea\").OutputArea : IPython.OutputArea;\n",
       "\n",
       "    var redrawValue = function (container, type, val) {\n",
       "\tvar selector = $(\"<div/>\");\n",
       "\tvar oa = new OutputArea(_.extend(selector, {\n",
       "\t    selector: selector,\n",
       "\t    prompt_area: true,\n",
       "\t    events: IPython.events,\n",
       "\t    keyboard_manager: IPython.keyboard_manager\n",
       "\t})); // Hack to work with IPython 2.1.0\n",
       "\n",
       "\tswitch (type) {\n",
       "\tcase \"image/png\":\n",
       "            var _src = 'data:' + type + ';base64,' + val;\n",
       "\t    $(container).find(\"img\").attr('src', _src);\n",
       "\t    break;\n",
       "\tcase \"text/latex\":\n",
       "\t\tif (MathJax){\n",
       "\t\t\tvar math = MathJax.Hub.getAllJax(container)[0];\n",
       "\t\t\tMathJax.Hub.Queue([\"Text\", math, val.replace(/^\\${1,2}|\\${1,2}$/g, '')]);\n",
       "\t\t\tbreak;\n",
       "\t\t}\n",
       "\tdefault:\n",
       "\t    var toinsert = OutputArea.append_map[type].apply(\n",
       "\t\toa, [val, {}, selector]\n",
       "\t    );\n",
       "\t    $(container).empty().append(toinsert.contents());\n",
       "\t    selector.remove();\n",
       "\t}\n",
       "    }\n",
       "\n",
       "\n",
       "    $(document).ready(function() {\n",
       "\tfunction initComm(evt, data) {\n",
       "\t    var comm_manager = data.kernel.comm_manager;\n",
       "        //_.extend(comm_manager.targets, require(\"widgets/js/widget\"))\n",
       "\t    comm_manager.register_target(\"Signal\", function (comm) {\n",
       "            comm.on_msg(function (msg) {\n",
       "                var val = msg.content.data.value;\n",
       "                $(\".signal-\" + comm.comm_id).each(function() {\n",
       "                var type = $(this).data(\"type\");\n",
       "                if (typeof(val[type]) !== \"undefined\" && val[type] !== null) {\n",
       "                    redrawValue(this, type, val[type], type);\n",
       "                }\n",
       "                });\n",
       "                delete val;\n",
       "                delete msg.content.data.value;\n",
       "            });\n",
       "\t    });\n",
       "\n",
       "\t    // coordingate with Comm and redraw Signals\n",
       "\t    // XXX: Test using Reactive here to improve performance\n",
       "\t    $([IPython.events]).on(\n",
       "\t\t'output_appended.OutputArea', function (event, type, value, md, toinsert) {\n",
       "\t\t    if (md && md.reactive) {\n",
       "                // console.log(md.comm_id);\n",
       "                toinsert.addClass(\"signal-\" + md.comm_id);\n",
       "                toinsert.data(\"type\", type);\n",
       "                // Signal back indicating the mimetype required\n",
       "                var comm_manager = IPython.notebook.kernel.comm_manager;\n",
       "                var comm = comm_manager.comms[md.comm_id];\n",
       "                comm.then(function (c) {\n",
       "                    c.send({action: \"subscribe_mime\",\n",
       "                       mime: type});\n",
       "                    toinsert.bind(\"destroyed\", function() {\n",
       "                        c.send({action: \"unsubscribe_mime\",\n",
       "                               mime: type});\n",
       "                    });\n",
       "                })\n",
       "\t\t    }\n",
       "\t    });\n",
       "\t}\n",
       "\n",
       "\ttry {\n",
       "\t    // try to initialize right away. otherwise, wait on the status_started event.\n",
       "\t    initComm(undefined, IPython.notebook);\n",
       "\t} catch (e) {\n",
       "\t    $([IPython.events]).on('kernel_created.Kernel kernel_created.Session', initComm);\n",
       "\t}\n",
       "    });\n",
       "})(IPython, jQuery, _, MathJax);\n",
       "</script>\n",
       "    <script>\n",
       "        window.interactLoadedFlag = true\n",
       "       $(\"#interact-js-shim\").bind(\"destroyed\", function () {\n",
       "           if (window.interactLoadedFlag) {\n",
       "               console.warn(\"JavaScript required by Interact will be removed if you remove this cell or run using Interact more than once.\")\n",
       "           }\n",
       "       })\n",
       "       $([IPython.events]).on(\"kernel_starting.Kernel kernel_restarting.Kernel\", function () { window.interactLoadedFlag = false })\n",
       "   </script>\n",
       "</div>"
      ]
     },
     "metadata": {},
     "output_type": "display_data"
    }
   ],
   "source": [
    "using Interact"
   ]
  },
  {
   "cell_type": "code",
   "execution_count": 7,
   "metadata": {
    "collapsed": false
   },
   "outputs": [
    {
     "data": {
      "text/plain": [
       "(Any[1,2,3,4,5],Any[2.71828,7.38906,20.0855,54.5981,148.413])"
      ]
     },
     "execution_count": 7,
     "metadata": {},
     "output_type": "execute_result"
    }
   ],
   "source": [
    "x = []\n",
    "y = []\n",
    "for i in 1:5\n",
    "    xx = i\n",
    "    yy = pol_Taylor(i, 20)\n",
    "    push!(x, xx)\n",
    "    push!(y, yy)\n",
    "    #@show x, y\n",
    "    #plot!(x, y)\n",
    "end\n",
    "return x, y\n"
   ]
  },
  {
   "cell_type": "code",
   "execution_count": 15,
   "metadata": {
    "collapsed": false
   },
   "outputs": [
    {
     "data": {
      "text/html": [
       "<img src=\"data:image/png;base64,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\" />"
      ]
     },
     "execution_count": 15,
     "metadata": {},
     "output_type": "execute_result"
    }
   ],
   "source": [
    "plot(x, y, title=L\"e^x\", xlabel=L\"x\", ylabel=L\"e^x\")"
   ]
  },
  {
   "cell_type": "markdown",
   "metadata": {},
   "source": [
    "En esta parte no pude usar manipulate..."
   ]
  },
  {
   "cell_type": "code",
   "execution_count": 7,
   "metadata": {
    "collapsed": false
   },
   "outputs": [
    {
     "ename": "LoadError",
     "evalue": "In convertToAnyVector, could not handle the argument types: (Float64,)",
     "output_type": "error",
     "traceback": [
      "In convertToAnyVector, could not handle the argument types: (Float64,)",
      "",
      " in macro expansion at /Users/Yuriko/.julia/v0.5/Plots/src/series.jl:129 [inlined]",
      " in apply_recipe(::Dict{Symbol,Any}, ::Type{Plots.SliceIt}, ::Int64, ::Float64, ::Void) at /Users/Yuriko/.julia/v0.5/RecipesBase/src/RecipesBase.jl:238",
      " in _process_userrecipes(::Plots.Plot{Plots.PyPlotBackend}, ::Dict{Symbol,Any}, ::Tuple{Int64,Float64}) at /Users/Yuriko/.julia/v0.5/Plots/src/pipeline.jl:73",
      " in _plot!(::Plots.Plot{Plots.PyPlotBackend}, ::Dict{Symbol,Any}, ::Tuple{Int64,Float64}) at /Users/Yuriko/.julia/v0.5/Plots/src/plot.jl:171",
      " in #plot#261(::Array{Any,1}, ::Function, ::Int64, ::Vararg{Any,N}) at /Users/Yuriko/.julia/v0.5/Plots/src/plot.jl:52",
      " in plot(::Int64, ::Float64, ::Vararg{Float64,N}) at /Users/Yuriko/.julia/v0.5/Plots/src/plot.jl:46"
     ]
    }
   ],
   "source": [
    "#Para exp(1) y variamos n\n",
    "x = 1\n",
    "y = pol_Taylor(1, 5)\n",
    "fig = plot(x, y)\n",
    "@manipulate for n in 1:5\n",
    "    fig\n",
    "end"
   ]
  },
  {
   "cell_type": "code",
   "execution_count": null,
   "metadata": {
    "collapsed": true
   },
   "outputs": [],
   "source": [
    "#Para exp(5) y variamos n\n",
    "@manipulate for n in 1:5\n",
    "    x = 5\n",
    "    y = pol_Taylor(5, 5)\n",
    "    plot(x, y)\n",
    "end"
   ]
  },
  {
   "cell_type": "markdown",
   "metadata": {},
   "source": [
    "(ii) Escribe una función que calcula la función exponencial que va variando $n$ *hasta que* la diferencia entre $p_{n-1}(x)$ y $p_n(x)$ sea menor que una tolerancia (la cual también es argumento de la función). ¿Concuerda con tu observación de la pregunta (i)?"
   ]
  },
  {
   "cell_type": "code",
   "execution_count": null,
   "metadata": {
    "collapsed": true
   },
   "outputs": [],
   "source": [
    "function exponencial(x, tol)\n",
    "   \n",
    "    p_act = 1/(factorial(2)) * x^2\n",
    "    p_ant = 1/(factorial(1)) * x^1\n",
    "    e = 1 + p_ant + p_act\n",
    "    \n",
    "        while p_ant - p_act >= tol\n",
    "            p_act = p_ant\n",
    "            p_act = 1/(factorial(i)) * x^i\n",
    "            e += p_act\n",
    "        end\n",
    "    end\n",
    "    return e\n",
    "end"
   ]
  },
  {
   "cell_type": "code",
   "execution_count": 21,
   "metadata": {
    "collapsed": false
   },
   "outputs": [
    {
     "data": {
      "text/plain": [
       "exponencial (generic function with 1 method)"
      ]
     },
     "execution_count": 21,
     "metadata": {},
     "output_type": "execute_result"
    }
   ],
   "source": [
    "function exponencial(x, tol)\n",
    "   \n",
    "    p_act = 1/(factorial(2)) * x^2\n",
    "    p_ant = 1/(factorial(1)) * x^1\n",
    "    e = 1 + p_ant + p_act\n",
    "    \n",
    "    for i in 3:100\n",
    "        while p_ant - p_act >= tol\n",
    "            p_act = p_ant\n",
    "            p_act = 1/(factorial(i)) * x^i\n",
    "            e += p_act\n",
    "        end\n",
    "    end\n",
    "    return e\n",
    "end"
   ]
  },
  {
   "cell_type": "code",
   "execution_count": null,
   "metadata": {
    "collapsed": false
   },
   "outputs": [],
   "source": [
    "exponencial(1, 0.5)"
   ]
  },
  {
   "cell_type": "markdown",
   "metadata": {},
   "source": [
    "[8] Lo que acabamos de hacer es muy ineficiente -- ¿por qué?\n",
    "\n",
    "Una mejor manera de hacerlo es parecido al método de Horner: vamos guardando el valor actual del $i$-ésimo término y lo actualizamos durante el cálculo.\n",
    "\n",
    "(i) Implementa la función exponencial así, hasta que el tamaño del nuevo término sea menor que cierta tolerancia. Verifica que funciona."
   ]
  },
  {
   "cell_type": "code",
   "execution_count": null,
   "metadata": {
    "collapsed": true
   },
   "outputs": [],
   "source": []
  },
  {
   "cell_type": "markdown",
   "metadata": {},
   "source": [
    "[9] La función exponencial también sirve para números complejos. En Julia, $i$, la raíz cuadrada de $-1$, se escribe como `im`.\n",
    "\n",
    "(i) Utiliza esto para escribir una función `mi_sin(x)` para calcular $\\sin(x)$."
   ]
  },
  {
   "cell_type": "code",
   "execution_count": 6,
   "metadata": {
    "collapsed": false
   },
   "outputs": [
    {
     "name": "stderr",
     "output_type": "stream",
     "text": [
      "WARNING: Method definition mi_sin(Any, Any) in module Main at In[3]:2 overwritten at In[6]:2.\n"
     ]
    },
    {
     "data": {
      "text/plain": [
       "mi_sin (generic function with 1 method)"
      ]
     },
     "execution_count": 6,
     "metadata": {},
     "output_type": "execute_result"
    }
   ],
   "source": [
    "function mi_sin(x, n)\n",
    "    s = 0\n",
    "    for i in 0:n\n",
    "        s += (-1)^i * x^(2i+1)/(factorial(2i+1)) \n",
    "    end\n",
    "    return s\n",
    "end"
   ]
  },
  {
   "cell_type": "code",
   "execution_count": 7,
   "metadata": {
    "collapsed": false
   },
   "outputs": [
    {
     "data": {
      "text/plain": [
       "0.8416666666666667"
      ]
     },
     "execution_count": 7,
     "metadata": {},
     "output_type": "execute_result"
    }
   ],
   "source": [
    "mi_sin(1, 2)"
   ]
  },
  {
   "cell_type": "markdown",
   "metadata": {},
   "source": [
    "[10] Aunque estamos llevando a cabo cálculos con números de punto flotante, podemos lograr ciertas **garantías** sobre los resultados.\n",
    "\n",
    "(i) Escribe el teorema de Taylor con la forma del término complementario de Lagrange para un polinomio de Taylor $p_2(x)$ de grado 2, con término complementario de orden 3."
   ]
  },
  {
   "cell_type": "markdown",
   "metadata": {},
   "source": [
    "$p_2(x) = f(x_0) + \\frac{f'(x_0)}{1!} (x - x_0) + \\frac{f''(x_0)}{2!} (x - x_0)^2 + \\frac{f^3(x)}{3!} (x - x_0)^3$ "
   ]
  },
  {
   "cell_type": "markdown",
   "metadata": {},
   "source": [
    "(ii) Considera la función $\\exp$ en el rango $I = [-\\frac{1}{2}, \\frac{1}{2}]$. Encuentra una cota superior, $d$, para el término complementario en $I$. [Pista: Cuál es el valor máximo del término complementario sobre todo el intervalo?] "
   ]
  },
  {
   "cell_type": "code",
   "execution_count": null,
   "metadata": {
    "collapsed": true
   },
   "outputs": [],
   "source": []
  },
  {
   "cell_type": "markdown",
   "metadata": {},
   "source": [
    "(iii) Dibuja un \"tubo\" entre $p_2(x) - d$ y $p_2(x) + d$. Esto representa una región en la cual, de forma **garantizada**, cae $\\exp$ dentro del intervalo $I$. Dibuja $\\exp$ encima.\n",
    "\n",
    "[En `Plots.jl`, para rellenar la región entre la función `f` y la función `g`, puedes utilizar `plot(xx, f.(xx), fillrange=g.(xx), alpha=0.3)`, donde `xx` son las coordenadas `xx` de los puntos. Aquí, `alpha` corresponde al grado de transparencia de la región rellenada.]\n",
    "\n",
    "** Opcional: ¿Qué ocurre si haces lo mismo para un grado de polinomio de Taylor superior con su cota correspondiente. Puedes utilizar `@manipulate`."
   ]
  }
 ],
 "metadata": {
  "kernelspec": {
   "display_name": "Julia 0.5.0",
   "language": "julia",
   "name": "julia-0.5"
  },
  "language_info": {
   "file_extension": ".jl",
   "mimetype": "application/julia",
   "name": "julia",
   "version": "0.5.0"
  }
 },
 "nbformat": 4,
 "nbformat_minor": 0
}

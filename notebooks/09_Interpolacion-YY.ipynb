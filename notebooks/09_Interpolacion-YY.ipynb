{
 "cells": [
  {
   "cell_type": "markdown",
   "metadata": {},
   "source": [
    "# Interpolación de Lagrange"
   ]
  },
  {
   "cell_type": "code",
   "execution_count": 1,
   "metadata": {
    "collapsed": false
   },
   "outputs": [
    {
     "data": {
      "text/plain": [
       "Plots.PyPlotBackend()"
      ]
     },
     "execution_count": 1,
     "metadata": {},
     "output_type": "execute_result"
    }
   ],
   "source": [
    "using Plots, LaTeXStrings\n",
    "pyplot()"
   ]
  },
  {
   "cell_type": "markdown",
   "metadata": {},
   "source": [
    "En el notebook 7, vimos cómo utilizar una discretización de una función continua para calcular numéricamente una derivada.\n",
    "\n",
    "Un problema muy común en el cómputo científico es el problema opuesto: tener datos discretos, y querer encontrar una función continua que los aproxime. Una manera de hacer esto es la **interpolación**: \n",
    "\n",
    "> dados datos $(x_i, y_i)$ para $i=1,\\ldots,N$, queremos encontrar una función $f(x)$ que pasa exactamente por los puntos, es decir, tal que $f(x_i) = y_i$ para cada $i$.\n",
    "\n",
    "Provee, entre muchas otras cosas, una manera de formalizar la derivación de diferencias finitas para calcular derivadas, y para llevar a cabo integrales. Mucho más allá, provee la manera de trabajar con funciones de forma numérica.\n",
    "\n",
    "Podríamos escoger distintas clases de función $f$ que interpolar. Aquí, trabajaremos con los **polinomios**."
   ]
  },
  {
   "cell_type": "markdown",
   "metadata": {},
   "source": [
    "**[1]** El primer caso que tratar es el de dos puntos $(x_1, y_1)$ y $(x_2, y_2)$. Es claro que podemos interpolar dos puntos con una recta. Para encontrar cuál recta es, hacemos lo siguiente.\n",
    "\n",
    "**(i)** Define una función $L_1(x)$ que es lineal y tal que $L_1(x)$ tome el valor $0$ en $x = x_2$. Ahora haz que también tome el valor $1$ en $x = x_1$."
   ]
  },
  {
   "cell_type": "code",
   "execution_count": 45,
   "metadata": {
    "collapsed": false
   },
   "outputs": [
    {
     "data": {
      "text/plain": [
       "L1 (generic function with 2 methods)"
      ]
     },
     "execution_count": 45,
     "metadata": {},
     "output_type": "execute_result"
    }
   ],
   "source": [
    "function L1(x1::Real, x2::Real, x::Real)\n",
    "    a = (x - x2)/(x1 - x2) \n",
    "    return a\n",
    "end"
   ]
  },
  {
   "cell_type": "code",
   "execution_count": 46,
   "metadata": {
    "collapsed": false
   },
   "outputs": [
    {
     "data": {
      "text/plain": [
       "1.0"
      ]
     },
     "execution_count": 46,
     "metadata": {},
     "output_type": "execute_result"
    }
   ],
   "source": [
    "L1(1, 2, 1)"
   ]
  },
  {
   "cell_type": "code",
   "execution_count": 47,
   "metadata": {
    "collapsed": false
   },
   "outputs": [
    {
     "data": {
      "text/plain": [
       "-0.0"
      ]
     },
     "execution_count": 47,
     "metadata": {},
     "output_type": "execute_result"
    }
   ],
   "source": [
    "L1(1, 2, 2)"
   ]
  },
  {
   "cell_type": "markdown",
   "metadata": {},
   "source": [
    "**(ii)** Por simetría, encuentra la función $L_2(x)$ tal que $L_2(x_1) = 0$ y $L_2(x_2) = 1$."
   ]
  },
  {
   "cell_type": "code",
   "execution_count": 48,
   "metadata": {
    "collapsed": false
   },
   "outputs": [
    {
     "data": {
      "text/plain": [
       "L2 (generic function with 2 methods)"
      ]
     },
     "execution_count": 48,
     "metadata": {},
     "output_type": "execute_result"
    }
   ],
   "source": [
    "function L2(x1::Real, x2::Real, x::Real)\n",
    "    b = (x - x1)/(x2 - x1) \n",
    "    return b\n",
    "end"
   ]
  },
  {
   "cell_type": "code",
   "execution_count": 49,
   "metadata": {
    "collapsed": false
   },
   "outputs": [
    {
     "data": {
      "text/plain": [
       "0.0"
      ]
     },
     "execution_count": 49,
     "metadata": {},
     "output_type": "execute_result"
    }
   ],
   "source": [
    "L2(1, 2, 1)"
   ]
  },
  {
   "cell_type": "code",
   "execution_count": 50,
   "metadata": {
    "collapsed": false
   },
   "outputs": [
    {
     "data": {
      "text/plain": [
       "1.0"
      ]
     },
     "execution_count": 50,
     "metadata": {},
     "output_type": "execute_result"
    }
   ],
   "source": [
    "L2(1, 2, 2)"
   ]
  },
  {
   "cell_type": "markdown",
   "metadata": {},
   "source": [
    "**(iii)** Utiliza $L_1$ y $L_2$ para encontrar un polinomio lineal que interpola los datos."
   ]
  },
  {
   "cell_type": "code",
   "execution_count": 53,
   "metadata": {
    "collapsed": false
   },
   "outputs": [
    {
     "name": "stderr",
     "output_type": "stream",
     "text": [
      "WARNING: Method definition L(Real, Real, Real, Real, Real) in module Main at In[51]:3 overwritten at In[53]:3.\n"
     ]
    },
    {
     "data": {
      "text/plain": [
       "L (generic function with 3 methods)"
      ]
     },
     "execution_count": 53,
     "metadata": {},
     "output_type": "execute_result"
    }
   ],
   "source": [
    "# Tomando una combinación lineal de L1 y L2. Esta función regresa una función L(x).\n",
    "function L(x1::Real, y1::Real, x2::Real, y2::Real, x::Real)\n",
    "    c = y1 * L1(x1, x2, x) + y2 * L2(x1, x2, x) \n",
    "    return c\n",
    "end"
   ]
  },
  {
   "cell_type": "code",
   "execution_count": 54,
   "metadata": {
    "collapsed": false
   },
   "outputs": [
    {
     "data": {
      "text/plain": [
       "1.0"
      ]
     },
     "execution_count": 54,
     "metadata": {},
     "output_type": "execute_result"
    }
   ],
   "source": [
    "L(1, 1, 2, 2, 1)"
   ]
  },
  {
   "cell_type": "markdown",
   "metadata": {},
   "source": [
    "**(iv)** Impleméntalo y dibuja el resultado."
   ]
  },
  {
   "cell_type": "code",
   "execution_count": 68,
   "metadata": {
    "collapsed": false
   },
   "outputs": [
    {
     "data": {
      "text/plain": [
       "20-element Array{Float64,1}:\n",
       "  0.0     \n",
       "  0.526316\n",
       "  1.05263 \n",
       "  1.57895 \n",
       "  2.10526 \n",
       "  2.63158 \n",
       "  3.15789 \n",
       "  3.68421 \n",
       "  4.21053 \n",
       "  4.73684 \n",
       "  5.26316 \n",
       "  5.78947 \n",
       "  6.31579 \n",
       "  6.84211 \n",
       "  7.36842 \n",
       "  7.89474 \n",
       "  8.42105 \n",
       "  8.94737 \n",
       "  9.47368 \n",
       " 10.0     "
      ]
     },
     "execution_count": 68,
     "metadata": {},
     "output_type": "execute_result"
    }
   ],
   "source": [
    "ys = [L(1,1,2,2,rango[i]) for i in 1:length(rango)]"
   ]
  },
  {
   "cell_type": "code",
   "execution_count": 82,
   "metadata": {
    "collapsed": false
   },
   "outputs": [],
   "source": [
    "#rango = collect(linspace(0,10,20));\n",
    "#ys = []\n",
    "#for i in 1:length(rango)\n",
    "#    y = L(1,3,-2,2,rango[i])\n",
    "#    push!(ys, y)\n",
    "#end\n",
    "#return ys"
   ]
  },
  {
   "cell_type": "code",
   "execution_count": 64,
   "metadata": {
    "collapsed": false
   },
   "outputs": [],
   "source": [
    "rango = collect(linspace(0,10,20));"
   ]
  },
  {
   "cell_type": "code",
   "execution_count": 81,
   "metadata": {
    "collapsed": false
   },
   "outputs": [
    {
     "data": {
      "text/html": [
       "<img src=\"data:image/png;base64,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\" />"
      ]
     },
     "execution_count": 81,
     "metadata": {},
     "output_type": "execute_result"
    }
   ],
   "source": [
    "x1, y1 = 1, 2\n",
    "x2, y2 = 3, 5\n",
    "rango = collect(linspace(0,10,20))\n",
    "ys = [L(x1, y1, x2, y2, rango[i]) for i in 1:length(rango)]\n",
    "plot(rango, ys)\n",
    "scatter!([x1], [y1])\n",
    "scatter!([x2], [y2])"
   ]
  },
  {
   "cell_type": "markdown",
   "metadata": {},
   "source": [
    "**[2]** Ahora generalicemos esto a $N$ puntos:\n",
    "\n",
    "**(i)** Encuentra un polinomio $L_1(x)$ sencillo, tal que $L_1(x)$ sea igual a $0$ para $x=x_2$, $x=x_3$, ..., $x=x_N$. Ahora normalízalo para que $L_1(x_1) = 1$."
   ]
  },
  {
   "cell_type": "code",
   "execution_count": 84,
   "metadata": {
    "collapsed": false
   },
   "outputs": [
    {
     "name": "stdout",
     "output_type": "stream",
     "text": [
      "search: \u001b[1mp\u001b[22m\u001b[1mr\u001b[22m\u001b[1mo\u001b[22m\u001b[1md\u001b[22m \u001b[1mp\u001b[22m\u001b[1mr\u001b[22m\u001b[1mo\u001b[22m\u001b[1md\u001b[22m! \u001b[1mp\u001b[22m\u001b[1mr\u001b[22m\u001b[1mo\u001b[22m\u001b[1md\u001b[22muce cum\u001b[1mp\u001b[22m\u001b[1mr\u001b[22m\u001b[1mo\u001b[22m\u001b[1md\u001b[22m cum\u001b[1mp\u001b[22m\u001b[1mr\u001b[22m\u001b[1mo\u001b[22m\u001b[1md\u001b[22m! next\u001b[1mp\u001b[22m\u001b[1mr\u001b[22m\u001b[1mo\u001b[22m\u001b[1md\u001b[22m \u001b[1mp\u001b[22m\u001b[1mr\u001b[22mevpr\u001b[1mo\u001b[22m\u001b[1md\u001b[22m \u001b[1mp\u001b[22mowe\u001b[1mr\u001b[22mm\u001b[1mo\u001b[22m\u001b[1md\u001b[22m\n",
      "\n"
     ]
    },
    {
     "data": {
      "text/markdown": [
       "```\n",
       "prod(itr)\n",
       "```\n",
       "\n",
       "Returns the product of all elements of a collection.\n",
       "\n",
       "```\n",
       "prod(A, dims)\n",
       "```\n",
       "\n",
       "Multiply elements of an array over the given dimensions.\n"
      ],
      "text/plain": [
       "```\n",
       "prod(itr)\n",
       "```\n",
       "\n",
       "Returns the product of all elements of a collection.\n",
       "\n",
       "```\n",
       "prod(A, dims)\n",
       "```\n",
       "\n",
       "Multiply elements of an array over the given dimensions.\n"
      ]
     },
     "execution_count": 84,
     "metadata": {},
     "output_type": "execute_result"
    }
   ],
   "source": [
    "?prod"
   ]
  },
  {
   "cell_type": "code",
   "execution_count": null,
   "metadata": {
    "collapsed": true
   },
   "outputs": [],
   "source": [
    "function L1N(x::Real, xs::Array{Real,1})\n",
    "    numerador = []\n",
    "    denominador = []\n",
    "    for i in 2:length(xs)\n",
    "        a = (x - xs[i])\n",
    "        push!(numerador, a)\n",
    "        b = ()\n",
    "        push!(denominador, b)\n",
    "    end\n",
    "    n = prod(a)\n",
    "    d = prod(b)\n",
    "        \n",
    "    a = (x - x2)(x - x3)/(x1 - x2)(x1 - x3) \n",
    "    return a\n",
    "end"
   ]
  },
  {
   "cell_type": "markdown",
   "metadata": {},
   "source": [
    "**(ii)** De manera similar, encuentra $L_i(x)$ que sea igual a $1$ en $x_i$, y que se anule en $x_j$ para $j \\neq i$."
   ]
  },
  {
   "cell_type": "markdown",
   "metadata": {},
   "source": [
    "**(iii)** Dibuja algunas $L_i$ para $N$ chiquitas. ¡Asegúrate de que sí se comporten correctamente!"
   ]
  },
  {
   "cell_type": "markdown",
   "metadata": {},
   "source": [
    "**(iv)** Utiliza las $L_i$ para interpolar los datos $(x_i, y_i)_{i=1}^N$ con un polinomio $p$. ¿De qué orden es el polinomio resultante? Nota que $p$ es *único* en el conjunto de polinomios con grado $\\le$ el grado de $p$."
   ]
  },
  {
   "cell_type": "markdown",
   "metadata": {},
   "source": [
    "**[3]** (i) Escribe una función `interpolar` que acepta un vector de $N$ pares $(x_i, y_i)$, y regresa una función que las interpole. [Pista: Puedes ¡definir una función adentro de la función `interpolar`!, y luego ¡regresar esta función de la función `interpolar`!]\n",
    "\n",
    "(ii) Toma funciones polinomiales de orden $n$ diferentes, y genera $n+1$ datos al muestrear la función en distintos puntos $x_i$, espaciados de forma uniforme. Dibuja la función original y la función interpolada.\n",
    "\n",
    "(iii) Ahora toma funciones que *no sean* polinomiales, y haz lo mismo. ¿Qué observas?"
   ]
  },
  {
   "cell_type": "markdown",
   "metadata": {},
   "source": [
    "**[4]** Considera la función de Runga, $f(x) = \\frac{1}{1+25x^2}$, en la región $x \\in [-1, 1]$. Interpólala con tu función `interpolar` para distintos números $N$ de puntos. ¿Qué observas? Utiliza `@manipulate`. "
   ]
  },
  {
   "cell_type": "markdown",
   "metadata": {},
   "source": [
    "Le que observaste en [4] se llama el **fenómeno de Runge**. Demuestra que en general es una mala idea interpolar en puntos espaciados de forma igual. Sin embargo, resulta que el problema no es la interpolación en sí, sino la elección de puntos donde interpolar."
   ]
  },
  {
   "cell_type": "markdown",
   "metadata": {},
   "source": [
    "## Interpolación en puntos espaciados no-uniformemente"
   ]
  },
  {
   "cell_type": "markdown",
   "metadata": {},
   "source": [
    "Resulta que la solución es tomar puntos en el intervalo $[-1,1]$, espaciados tales que se amontonen cerca de los puntos extremos del intervalo. [La razón por esto se puede entender con la teoría de potenciales (\"potential theory\"); ver e.g. Trefethen, *Approximation Theory and Approximation Practice*.] \n",
    "\n",
    "Lo más común es utilizar los **puntos de Chebyshev** con parámetro $n$, definidos como \n",
    "\n",
    "$$x_j := \\cos \\left( \\frac{j \\pi}{n} \\right) \\quad \\text{con } 0 \\le j \\le n.$$"
   ]
  },
  {
   "cell_type": "markdown",
   "metadata": {},
   "source": [
    "**[5]** (i) Escribe una función que calcula los puntos de Chebyshev para un valor de $n$ dado.\n",
    "\n",
    "(ii) Escribe una función que interpola una función dada en los puntos de Chebyshev. Grafica los resultados.\n",
    "\n",
    "(iii) Interpola la función de Runge con puntos de Chebyshev. ¿Qué observas?"
   ]
  },
  {
   "cell_type": "markdown",
   "metadata": {},
   "source": [
    "**[6]** Dada una función $f$, calcula numéricamente el error al utilizar la interpolación de Chebyshev $p$ con respecto a la función original $f$, dado por la norma\n",
    "\n",
    "$$\\|f - p\\|_{\\infty} := \\sup_x |f(x) - p(x)|,$$\n",
    "\n",
    "para distintos números de puntos de Chebyshev.\n",
    "\n",
    "Conforme se aumenta el número de puntos, ¿cómo es la convergencia a $0$ del error?  "
   ]
  },
  {
   "cell_type": "markdown",
   "metadata": {},
   "source": [
    "**[7]** Resulta que la tasa de convergencia depende de qué tan suave es la función.\n",
    "Por ejemplo, inténtalo con la función `abs` y con la función `floor`."
   ]
  },
  {
   "cell_type": "markdown",
   "metadata": {},
   "source": [
    "## Hacia el futuro"
   ]
  },
  {
   "cell_type": "markdown",
   "metadata": {},
   "source": [
    "Lo que hemos logrado es reemplazar (aproximar) una función continua $f$ por un conjunto discreto de sus valores $f(x_i)$ en la **malla** $(x_i)_{i=1}^N$. Ahora podremos manipular la función ¡al manipular sólo estos valores discretos!"
   ]
  },
  {
   "cell_type": "markdown",
   "metadata": {},
   "source": [
    "Resulta que es más útil **cambiar de base** en el espacio de polinomios, y utilizar los **polinomios de Chebyshev**. \n",
    "\n",
    "La idea es escribir el polinomio interpolante como una suma de polinomios de Chebyshev y examinar los coeficientes de estos polinomios, que tienen propiedades muy útiles. Esto lo podremos ver hasta después de ver álgebra lineal numérica.  ¡Podría formar un proyecto final interesante!  "
   ]
  },
  {
   "cell_type": "markdown",
   "metadata": {},
   "source": [
    "### Clase\n",
    "#### Gráficas en 2 var"
   ]
  },
  {
   "cell_type": "code",
   "execution_count": 6,
   "metadata": {
    "collapsed": false
   },
   "outputs": [],
   "source": [
    "#using Plots, LaTeXStrings\n",
    "#pyplot()"
   ]
  },
  {
   "cell_type": "code",
   "execution_count": 7,
   "metadata": {
    "collapsed": false
   },
   "outputs": [],
   "source": [
    "#f(x, y) = x^2 + y^2"
   ]
  },
  {
   "cell_type": "code",
   "execution_count": 8,
   "metadata": {
    "collapsed": false
   },
   "outputs": [],
   "source": [
    "#surface(-1:0.1:1, -1:0.1:1, f, c=:greens, fa=0.5)"
   ]
  },
  {
   "cell_type": "code",
   "execution_count": null,
   "metadata": {
    "collapsed": true
   },
   "outputs": [],
   "source": []
  }
 ],
 "metadata": {
  "kernelspec": {
   "display_name": "Julia 0.5.0",
   "language": "julia",
   "name": "julia-0.5"
  },
  "language_info": {
   "file_extension": ".jl",
   "mimetype": "application/julia",
   "name": "julia",
   "version": "0.5.0"
  }
 },
 "nbformat": 4,
 "nbformat_minor": 2
}

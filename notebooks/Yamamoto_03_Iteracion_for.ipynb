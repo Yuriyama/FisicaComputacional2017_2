{
 "cells": [
  {
   "cell_type": "markdown",
   "metadata": {},
   "source": [
    "# Iteración"
   ]
  },
  {
   "cell_type": "markdown",
   "metadata": {},
   "source": [
    "Las computadoras están diseñadas para llevar a cabo cálculos de forma repetida. En Julia, existen varias formas de llevar a cabo cálculos repetidos. Uno de los más sencillos es la **iteración**. Esto se refiere a que una variable recorra un conjunto de valores.\n",
    "\n",
    "Empezaremos con los bucles `for` (que corresponde a \"para\", en español).\n",
    "\n",
    "Ya hemos visto las comprensiones de arreglo, que ocupan la misma palabra `for`. Aquí, veremos cómo podemos utilizar un bucle `for` de forma más explícito, y por ende más poderoso. (Sin embargo, para tareas sencillas para crear arreglos de datos, se recomienda utilizar las comprensiones de arreglo.)"
   ]
  },
  {
   "cell_type": "markdown",
   "metadata": {},
   "source": [
    "## `for`"
   ]
  },
  {
   "cell_type": "markdown",
   "metadata": {},
   "source": [
    "Un bucle `for` itera a través de un arreglo, rango etc. (cualquier objeto \"iterable\", de hecho). Su sintaxis es:\n",
    "\n",
    "```\n",
    "for <variable> in <iterable>\n",
    "    [haz esto]\n",
    "    [y esto]\n",
    "end\n",
    "```\n",
    "\n",
    "En un bucle de este tipo, la variable toma cada valor en turno del arreglo. Se refiere a los comandos adentro como el \"cuerpo\" del bucle. Estos comandos se ejecutarán una y otra vez, hasta que se agote el iterable.\n",
    "\n",
    "Por lo tanto, este tipo de bucle se ocupa cuando se conoce de antemano el número de veces que se requiera repetir algo.\n",
    "\n",
    "El ejemplo más sencillo es el siguiente:"
   ]
  },
  {
   "cell_type": "code",
   "execution_count": 1,
   "metadata": {
    "collapsed": false
   },
   "outputs": [
    {
     "name": "stdout",
     "output_type": "stream",
     "text": [
      "El valor actual de i es 1\n",
      "El valor actual de i es 2\n",
      "El valor actual de i es 3\n",
      "El valor actual de i es 4\n",
      "El valor actual de i es 5\n",
      "El valor actual de i es 6\n",
      "El valor actual de i es 7\n",
      "El valor actual de i es 8\n",
      "El valor actual de i es 9\n",
      "El valor actual de i es 10\n"
     ]
    }
   ],
   "source": [
    "for i in 1:10\n",
    "    println(\"El valor actual de i es \", i)\n",
    "end"
   ]
  },
  {
   "cell_type": "markdown",
   "metadata": {},
   "source": [
    "Vemos que la variable `i` toma cada valor en el rango, de 1 hasta 10, uno por uno. Literalmente lo podemos leer como sigue: \"Para cada `i` en el conjunto de valores 1 hasta 10, haz lo siguiente\". (Donde \"lo siguiente\" se refiere a todos los comandos comprendidos entre el `for` y el `end` correspondiente.)"
   ]
  },
  {
   "cell_type": "markdown",
   "metadata": {},
   "source": [
    "#### Pregunta [1] \n",
    "Escribe el código a mano para imprimir lo mismo, *sin* utilizar un bucle. ¿Quisieras hacerlo para los números de 1 a 100? ¡Por algo se inventaron los bucles!"
   ]
  },
  {
   "cell_type": "code",
   "execution_count": 2,
   "metadata": {
    "collapsed": false
   },
   "outputs": [
    {
     "name": "stdout",
     "output_type": "stream",
     "text": [
      "El valor actual de i es 1\n",
      "El valor actual de i es 2\n",
      "El valor actual de i es 3\n",
      "El valor actual de i es 4\n",
      "El valor actual de i es 5\n",
      "El valor actual de i es 6\n",
      "El valor actual de i es 7\n",
      "El valor actual de i es 8\n",
      "El valor actual de i es 9\n",
      "El valor actual de i es 10\n"
     ]
    }
   ],
   "source": [
    "println(\"El valor actual de i es \", 1)\n",
    "println(\"El valor actual de i es \", 2)\n",
    "println(\"El valor actual de i es \", 3)\n",
    "println(\"El valor actual de i es \", 4)\n",
    "println(\"El valor actual de i es \", 5)\n",
    "println(\"El valor actual de i es \", 6)\n",
    "println(\"El valor actual de i es \", 7)\n",
    "println(\"El valor actual de i es \", 8)\n",
    "println(\"El valor actual de i es \", 9)\n",
    "println(\"El valor actual de i es \", 10)"
   ]
  },
  {
   "cell_type": "markdown",
   "metadata": {},
   "source": [
    "En este ejemplo, se iteró sobre un objeto de tipo rango. También se puede iterar sobre un vector:"
   ]
  },
  {
   "cell_type": "code",
   "execution_count": 3,
   "metadata": {
    "collapsed": false
   },
   "outputs": [
    {
     "name": "stdout",
     "output_type": "stream",
     "text": [
      "3\n",
      "4\n",
      "7\n"
     ]
    }
   ],
   "source": [
    "x = [3, 4, 7]\n",
    "\n",
    "for i in x\n",
    "    println(i)\n",
    "end"
   ]
  },
  {
   "cell_type": "markdown",
   "metadata": {},
   "source": [
    "#### Pregunta [2] \n",
    "Sabemos que la multiplicación por un entero es como una adición repetida. "
   ]
  },
  {
   "cell_type": "markdown",
   "metadata": {},
   "source": [
    "#### (i) \n",
    "Escribe una función mi_mult, que multiplica un número x por un entero positivo n (los dos son argumentos de la función), usando un bucle. (Es decir, puedes utilizar el + de Julia, pero ¡no el *!) Para hacerlo, utiliza una variable nueva que se llama total. ¿Con cuál valor inicial se debe crear esta variable? ¿Por qué? Verifica que tu función dé el resultado correcto."
   ]
  },
  {
   "cell_type": "code",
   "execution_count": 4,
   "metadata": {
    "collapsed": false
   },
   "outputs": [
    {
     "data": {
      "text/plain": [
       "mi_mult"
      ]
     },
     "execution_count": 4,
     "metadata": {},
     "output_type": "execute_result"
    }
   ],
   "source": [
    "doc\"\"\"\n",
    "    La función mi_mult con parámetros x y n multiplica n veces el valor de x.\n",
    "\"\"\"\n",
    "\n",
    "function mi_mult(x, n::Int64)\n",
    "    total = 0\n",
    "    \n",
    "    #if n <= 0\n",
    "     #   error(\"n debe ser positivo\")\n",
    "    #end\n",
    "    \n",
    "    for i in 1:n\n",
    "        total = x + total\n",
    "    end\n",
    "    \n",
    "    return total\n",
    "end"
   ]
  },
  {
   "cell_type": "code",
   "execution_count": 5,
   "metadata": {
    "collapsed": false
   },
   "outputs": [
    {
     "data": {
      "text/plain": [
       "-6.0"
      ]
     },
     "execution_count": 5,
     "metadata": {},
     "output_type": "execute_result"
    }
   ],
   "source": [
    "#Prueba\n",
    "mi_mult(-3.0, 2) "
   ]
  },
  {
   "cell_type": "markdown",
   "metadata": {},
   "source": [
    "#### (ii) \n",
    "Modifica tu función para utilizar un `if` para verificar si `n` realmente sea positivo y entero. [Pista: checa la función `isinteger`.]"
   ]
  },
  {
   "cell_type": "code",
   "execution_count": 6,
   "metadata": {
    "collapsed": false
   },
   "outputs": [
    {
     "name": "stdout",
     "output_type": "stream",
     "text": [
      "search: \u001b[1mi\u001b[22m\u001b[1ms\u001b[22m\u001b[1mi\u001b[22m\u001b[1mn\u001b[22m\u001b[1mt\u001b[22m\u001b[1me\u001b[22m\u001b[1mg\u001b[22m\u001b[1me\u001b[22m\u001b[1mr\u001b[22m\n",
      "\n"
     ]
    },
    {
     "data": {
      "text/markdown": [
       "```\n",
       "isinteger(x) -> Bool\n",
       "```\n",
       "\n",
       "Test whether `x` or all its elements are numerically equal to some integer\n"
      ],
      "text/plain": [
       "```\n",
       "isinteger(x) -> Bool\n",
       "```\n",
       "\n",
       "Test whether `x` or all its elements are numerically equal to some integer\n"
      ]
     },
     "execution_count": 6,
     "metadata": {},
     "output_type": "execute_result"
    }
   ],
   "source": [
    "?isinteger"
   ]
  },
  {
   "cell_type": "code",
   "execution_count": 7,
   "metadata": {
    "collapsed": false
   },
   "outputs": [
    {
     "name": "stdout",
     "output_type": "stream",
     "text": [
      "search: \u001b[1me\u001b[22m\u001b[1mr\u001b[22m\u001b[1mr\u001b[22m\u001b[1mo\u001b[22m\u001b[1mr\u001b[22m \u001b[1mE\u001b[22m\u001b[1mr\u001b[22m\u001b[1mr\u001b[22m\u001b[1mo\u001b[22m\u001b[1mr\u001b[22mException show\u001b[1me\u001b[22m\u001b[1mr\u001b[22m\u001b[1mr\u001b[22m\u001b[1mo\u001b[22m\u001b[1mr\u001b[22m Load\u001b[1mE\u001b[22m\u001b[1mr\u001b[22m\u001b[1mr\u001b[22m\u001b[1mo\u001b[22m\u001b[1mr\u001b[22m Init\u001b[1mE\u001b[22m\u001b[1mr\u001b[22m\u001b[1mr\u001b[22m\u001b[1mo\u001b[22m\u001b[1mr\u001b[22m Typ\u001b[1me\u001b[22mE\u001b[1mr\u001b[22m\u001b[1mr\u001b[22m\u001b[1mo\u001b[22m\u001b[1mr\u001b[22m Domain\u001b[1mE\u001b[22m\u001b[1mr\u001b[22m\u001b[1mr\u001b[22m\u001b[1mo\u001b[22m\u001b[1mr\u001b[22m\n",
      "\n"
     ]
    },
    {
     "data": {
      "text/markdown": [
       "```\n",
       "error(message::AbstractString)\n",
       "```\n",
       "\n",
       "Raise an `ErrorException` with the given message.\n"
      ],
      "text/plain": [
       "```\n",
       "error(message::AbstractString)\n",
       "```\n",
       "\n",
       "Raise an `ErrorException` with the given message.\n"
      ]
     },
     "execution_count": 7,
     "metadata": {},
     "output_type": "execute_result"
    }
   ],
   "source": [
    "?error"
   ]
  },
  {
   "cell_type": "markdown",
   "metadata": {},
   "source": [
    "Las siguientes son pruebas para checar cómo funciona \"isinteger\"."
   ]
  },
  {
   "cell_type": "code",
   "execution_count": 8,
   "metadata": {
    "collapsed": false
   },
   "outputs": [
    {
     "data": {
      "text/plain": [
       "false"
      ]
     },
     "execution_count": 8,
     "metadata": {},
     "output_type": "execute_result"
    }
   ],
   "source": [
    "isinteger(76.7) #No es un entero"
   ]
  },
  {
   "cell_type": "code",
   "execution_count": 9,
   "metadata": {
    "collapsed": false
   },
   "outputs": [
    {
     "data": {
      "text/plain": [
       "true"
      ]
     },
     "execution_count": 9,
     "metadata": {},
     "output_type": "execute_result"
    }
   ],
   "source": [
    "isinteger(0) #Sí es entero"
   ]
  },
  {
   "cell_type": "code",
   "execution_count": 10,
   "metadata": {
    "collapsed": false
   },
   "outputs": [
    {
     "data": {
      "text/plain": [
       "true"
      ]
     },
     "execution_count": 10,
     "metadata": {},
     "output_type": "execute_result"
    }
   ],
   "source": [
    "isinteger(-1) #Sí es entero"
   ]
  },
  {
   "cell_type": "code",
   "execution_count": 11,
   "metadata": {
    "collapsed": false
   },
   "outputs": [
    {
     "data": {
      "text/plain": [
       "true"
      ]
     },
     "execution_count": 11,
     "metadata": {},
     "output_type": "execute_result"
    }
   ],
   "source": [
    "0 >= 0"
   ]
  },
  {
   "cell_type": "code",
   "execution_count": 12,
   "metadata": {
    "collapsed": false
   },
   "outputs": [
    {
     "data": {
      "text/plain": [
       "mi_mult2"
      ]
     },
     "execution_count": 12,
     "metadata": {},
     "output_type": "execute_result"
    }
   ],
   "source": [
    "doc\"\"\"\n",
    "    La función mi_mult2 con parámetros x y n, verifica que n sea un número entero y mayor o igual a cero, \n",
    "después hace la multiplicación del número x n veces.\n",
    "\"\"\"\n",
    "\n",
    "function mi_mult2(x, n)\n",
    "    \n",
    "    total = 0\n",
    "    \n",
    "    if isinteger(n) == false\n",
    "        error(\"n debe ser un entero\")\n",
    "    end\n",
    "    \n",
    "    if isinteger(n) == true \n",
    "        if n < 0\n",
    "            error(\"n debe ser positivo\")\n",
    "        else\n",
    "            for i in 1:n\n",
    "                total = x + total\n",
    "            end\n",
    "        end\n",
    "    end\n",
    "    \n",
    "    return total\n",
    "end"
   ]
  },
  {
   "cell_type": "code",
   "execution_count": 13,
   "metadata": {
    "collapsed": false
   },
   "outputs": [
    {
     "ename": "LoadError",
     "evalue": "n debe ser un entero",
     "output_type": "error",
     "traceback": [
      "n debe ser un entero",
      "",
      " in mi_mult2(::Float64, ::Float64) at ./In[12]:11"
     ]
    }
   ],
   "source": [
    "#Prueba, da un error, porque n no es un entero\n",
    "mi_mult2(-3.0, 2.6) "
   ]
  },
  {
   "cell_type": "code",
   "execution_count": 14,
   "metadata": {
    "collapsed": false
   },
   "outputs": [
    {
     "ename": "LoadError",
     "evalue": "n debe ser positivo",
     "output_type": "error",
     "traceback": [
      "n debe ser positivo",
      "",
      " in mi_mult2(::Float64, ::Int64) at ./In[12]:16"
     ]
    }
   ],
   "source": [
    "#Prueba, da un error, n es negativo\n",
    "mi_mult2(-3.0, -2) "
   ]
  },
  {
   "cell_type": "code",
   "execution_count": 15,
   "metadata": {
    "collapsed": false
   },
   "outputs": [
    {
     "data": {
      "text/plain": [
       "-6.0"
      ]
     },
     "execution_count": 15,
     "metadata": {},
     "output_type": "execute_result"
    }
   ],
   "source": [
    "#Prueba correcta\n",
    "mi_mult2(-3.0, 2) "
   ]
  },
  {
   "cell_type": "markdown",
   "metadata": {},
   "source": [
    "#### (iii) \n",
    "Tu función funciona para `n` igual a `1`? ¿Para `n` igual a `0`? ¿Cómo puedes cambiar tu función para que sí funcione para estos casos?"
   ]
  },
  {
   "cell_type": "code",
   "execution_count": 16,
   "metadata": {
    "collapsed": false
   },
   "outputs": [
    {
     "data": {
      "text/plain": [
       "2.0"
      ]
     },
     "execution_count": 16,
     "metadata": {},
     "output_type": "execute_result"
    }
   ],
   "source": [
    "mi_mult2(2.0, 1)"
   ]
  },
  {
   "cell_type": "code",
   "execution_count": 17,
   "metadata": {
    "collapsed": false
   },
   "outputs": [
    {
     "data": {
      "text/plain": [
       "0"
      ]
     },
     "execution_count": 17,
     "metadata": {},
     "output_type": "execute_result"
    }
   ],
   "source": [
    "mi_mult2(2.0, 0)"
   ]
  },
  {
   "cell_type": "markdown",
   "metadata": {
    "collapsed": false
   },
   "source": [
    "Sí funciona mi_mult2 para los casos n = 1 y n = 0."
   ]
  },
  {
   "cell_type": "markdown",
   "metadata": {},
   "source": [
    "#### (iv) \n",
    "¿Cómo puedes cambiar tu función para que funcione para *cualquier* entero `n`?"
   ]
  },
  {
   "cell_type": "code",
   "execution_count": 18,
   "metadata": {
    "collapsed": false
   },
   "outputs": [
    {
     "data": {
      "text/plain": [
       "mi_mult3"
      ]
     },
     "execution_count": 18,
     "metadata": {},
     "output_type": "execute_result"
    }
   ],
   "source": [
    "doc\"\"\"\n",
    "    La función mi_mult3 con parámetros x y n, verifica que n sea un número entero cualquiera, \n",
    "después hace la multiplicación del número x n veces.\n",
    "\"\"\"\n",
    "\n",
    "function mi_mult3(x, n)\n",
    "    \n",
    "    total = 0\n",
    "    \n",
    "    if isinteger(n) == false\n",
    "        error(\"n debe ser un entero\")\n",
    "    \n",
    "    else\n",
    "        for i in 1:n\n",
    "            total = x + total\n",
    "        end\n",
    "    end\n",
    "    return total\n",
    "end"
   ]
  },
  {
   "cell_type": "code",
   "execution_count": 19,
   "metadata": {
    "collapsed": false
   },
   "outputs": [
    {
     "ename": "LoadError",
     "evalue": "n debe ser un entero",
     "output_type": "error",
     "traceback": [
      "n debe ser un entero",
      "",
      " in mi_mult3(::Int64, ::Float64) at ./In[18]:11"
     ]
    }
   ],
   "source": [
    "#Pruebas de mi_mult3\n",
    "mi_mult3(1, 1.2)"
   ]
  },
  {
   "cell_type": "code",
   "execution_count": 20,
   "metadata": {
    "collapsed": false
   },
   "outputs": [
    {
     "data": {
      "text/plain": [
       "2"
      ]
     },
     "execution_count": 20,
     "metadata": {},
     "output_type": "execute_result"
    }
   ],
   "source": [
    "mi_mult3(1, 2)"
   ]
  },
  {
   "cell_type": "markdown",
   "metadata": {},
   "source": [
    "#### Pregunta [3] \n",
    "\n",
    "#### (i) \n",
    "Crea una función `mi_sum` que calcula la suma de los primeros $N$ enteros. (Por lo tanto, `N` debe ser un argumento de la función, y que querramos ir variando `N`.) \n",
    "\n",
    "\n",
    "\n"
   ]
  },
  {
   "cell_type": "code",
   "execution_count": 21,
   "metadata": {
    "collapsed": false
   },
   "outputs": [
    {
     "data": {
      "text/plain": [
       "mi_sum"
      ]
     },
     "execution_count": 21,
     "metadata": {},
     "output_type": "execute_result"
    }
   ],
   "source": [
    "doc\"\"\" \n",
    "La función mi_sum, de parámetro N entero calcula la suma de los primeros N enteros.\n",
    "\"\"\"\n",
    "\n",
    "function mi_sum(N::Int64)\n",
    "    \n",
    "    total = 0\n",
    "    \n",
    "    #if isinteger(n) == false\n",
    "    #    error(\"n debe ser un entero\")\n",
    "    #end\n",
    "    \n",
    "    #if isinteger(n) == true \n",
    "    #    if n <= 0\n",
    "    #        error(\"n debe ser positivo\")\n",
    "    #    end\n",
    "        \n",
    "        for i in 1:N\n",
    "            total = i + total #total += x\n",
    "        end\n",
    "    #end\n",
    "    return total\n",
    "end"
   ]
  },
  {
   "cell_type": "markdown",
   "metadata": {},
   "source": [
    "Pruebas de la función mi_sum"
   ]
  },
  {
   "cell_type": "code",
   "execution_count": 22,
   "metadata": {
    "collapsed": false
   },
   "outputs": [
    {
     "data": {
      "text/plain": [
       "1"
      ]
     },
     "execution_count": 22,
     "metadata": {},
     "output_type": "execute_result"
    }
   ],
   "source": [
    "mi_sum(1)"
   ]
  },
  {
   "cell_type": "code",
   "execution_count": 23,
   "metadata": {
    "collapsed": false
   },
   "outputs": [
    {
     "data": {
      "text/plain": [
       "3"
      ]
     },
     "execution_count": 23,
     "metadata": {},
     "output_type": "execute_result"
    }
   ],
   "source": [
    "mi_sum(2)"
   ]
  },
  {
   "cell_type": "code",
   "execution_count": 24,
   "metadata": {
    "collapsed": false
   },
   "outputs": [
    {
     "data": {
      "text/plain": [
       "15"
      ]
     },
     "execution_count": 24,
     "metadata": {},
     "output_type": "execute_result"
    }
   ],
   "source": [
    "mi_sum(5)"
   ]
  },
  {
   "cell_type": "markdown",
   "metadata": {},
   "source": [
    "#### (ii) \n",
    "Verifica que esté bien el cálculo, comparando el resultado con la función predefinida `sum` de Julia, para distintos valores de $N$."
   ]
  },
  {
   "cell_type": "markdown",
   "metadata": {},
   "source": [
    "Las siguientes son las mismas pruebas que se hicieron para la función mi_sum pero con la función sum."
   ]
  },
  {
   "cell_type": "code",
   "execution_count": 25,
   "metadata": {
    "collapsed": false
   },
   "outputs": [
    {
     "data": {
      "text/plain": [
       "1"
      ]
     },
     "execution_count": 25,
     "metadata": {},
     "output_type": "execute_result"
    }
   ],
   "source": [
    "sum(1)"
   ]
  },
  {
   "cell_type": "code",
   "execution_count": 26,
   "metadata": {
    "collapsed": false
   },
   "outputs": [
    {
     "data": {
      "text/plain": [
       "3"
      ]
     },
     "execution_count": 26,
     "metadata": {},
     "output_type": "execute_result"
    }
   ],
   "source": [
    "s2 = 1:2\n",
    "sum(s2)"
   ]
  },
  {
   "cell_type": "code",
   "execution_count": 27,
   "metadata": {
    "collapsed": false
   },
   "outputs": [
    {
     "data": {
      "text/plain": [
       "15"
      ]
     },
     "execution_count": 27,
     "metadata": {},
     "output_type": "execute_result"
    }
   ],
   "source": [
    "s5 = 1:5\n",
    "sum(s5)"
   ]
  },
  {
   "cell_type": "markdown",
   "metadata": {},
   "source": [
    "#### Pregunta [4] \n",
    "Crea una función `mi_sum2` que calcula, en un solo bucle, la suma de los primeros $N$ enteros, y de sus cuadrados. Regresa las dos sumas. Verifica que funcione usando la fórmula para la suma de los cuadrados.\n",
    "\n"
   ]
  },
  {
   "cell_type": "code",
   "execution_count": 28,
   "metadata": {
    "collapsed": false
   },
   "outputs": [
    {
     "data": {
      "text/plain": [
       "mi_sum2"
      ]
     },
     "execution_count": 28,
     "metadata": {},
     "output_type": "execute_result"
    }
   ],
   "source": [
    "doc\"\"\"\n",
    "La función mi_sum2 de parámetro N entero calcula y regresa la suma de los primeros N enteros y de sus cuadrados.\n",
    "\"\"\"\n",
    "\n",
    "function mi_sum2(N::Int64)\n",
    "    total_sum = 0\n",
    "    total_cuad = 0\n",
    "\n",
    "    for i in 1:3\n",
    "        total_sum += i\n",
    "        total_cuad += i^2     \n",
    "    end\n",
    "\n",
    "    return total_sum, total_cuad\n",
    "end"
   ]
  },
  {
   "cell_type": "code",
   "execution_count": 29,
   "metadata": {
    "collapsed": false
   },
   "outputs": [
    {
     "data": {
      "text/plain": [
       "(6,14)"
      ]
     },
     "execution_count": 29,
     "metadata": {},
     "output_type": "execute_result"
    }
   ],
   "source": [
    "#Pruebas\n",
    "mi_sum2(2)"
   ]
  },
  {
   "cell_type": "code",
   "execution_count": 30,
   "metadata": {
    "collapsed": false
   },
   "outputs": [
    {
     "data": {
      "text/plain": [
       "(6,14)"
      ]
     },
     "execution_count": 30,
     "metadata": {},
     "output_type": "execute_result"
    }
   ],
   "source": [
    "mi_sum2(3)"
   ]
  },
  {
   "cell_type": "markdown",
   "metadata": {},
   "source": [
    "#### Pregunta [5] \n",
    "Crea una función que cuenta el número de enteros hasta $N$ que sean divisibles por $2$, $3$ y/o $5$.\n",
    "¿Tiene sentido el resultado? Checa que funcione usando una comprensión de arreglo."
   ]
  },
  {
   "cell_type": "code",
   "execution_count": 31,
   "metadata": {
    "collapsed": false
   },
   "outputs": [
    {
     "data": {
      "text/plain": [
       "contador_div"
      ]
     },
     "execution_count": 31,
     "metadata": {},
     "output_type": "execute_result"
    }
   ],
   "source": [
    "doc\"\"\" \n",
    "La función contador_div de parámetro entero N cuenta el número de enteros hasta N que son divisibles\n",
    "por 2, 3 ó 5.\n",
    "\"\"\"\n",
    "\n",
    "function contador_div(N::Int64)\n",
    "    contador = 0 \n",
    "    for i in 1:N\n",
    "        if i%2 == 0 || i%3 == 0 || i%5 == 0\n",
    "            contador += 1\n",
    "        end\n",
    "    end\n",
    "    return contador   \n",
    "end"
   ]
  },
  {
   "cell_type": "code",
   "execution_count": 32,
   "metadata": {
    "collapsed": false
   },
   "outputs": [
    {
     "data": {
      "text/plain": [
       "74"
      ]
     },
     "execution_count": 32,
     "metadata": {},
     "output_type": "execute_result"
    }
   ],
   "source": [
    "#Prueba de la función.\n",
    "contador_div(100)      "
   ]
  },
  {
   "cell_type": "code",
   "execution_count": 33,
   "metadata": {
    "collapsed": false
   },
   "outputs": [
    {
     "data": {
      "text/plain": [
       "100-element Array{Tuple{Int64,Int64},1}:\n",
       " (1,0)   \n",
       " (2,1)   \n",
       " (3,2)   \n",
       " (4,3)   \n",
       " (5,4)   \n",
       " (6,5)   \n",
       " (7,5)   \n",
       " (8,6)   \n",
       " (9,7)   \n",
       " (10,8)  \n",
       " (11,8)  \n",
       " (12,9)  \n",
       " (13,9)  \n",
       " ⋮       \n",
       " (89,65) \n",
       " (90,66) \n",
       " (91,66) \n",
       " (92,67) \n",
       " (93,68) \n",
       " (94,69) \n",
       " (95,70) \n",
       " (96,71) \n",
       " (97,71) \n",
       " (98,72) \n",
       " (99,73) \n",
       " (100,74)"
      ]
     },
     "execution_count": 33,
     "metadata": {},
     "output_type": "execute_result"
    }
   ],
   "source": [
    "#Prueba usando comprensión de arreglo\n",
    "[(n,contador_div(n)) for n in 1:100]"
   ]
  },
  {
   "cell_type": "markdown",
   "metadata": {},
   "source": [
    "## Creando arreglos usando iteración"
   ]
  },
  {
   "cell_type": "markdown",
   "metadata": {},
   "source": [
    "Muchas veces es útil crear datos mediante una iteración. Almacenaremos los datos en un arreglo, pero no sabemos, en general, qué tan grande debe ser el arreglo.\n",
    "\n",
    "Por lo tanto, podemos empezar con un arreglo vacío e **ir agregando** los datos conforme vayan llegando.\n",
    "\n",
    "Para crear un arreglo vacío en Julia, usamos"
   ]
  },
  {
   "cell_type": "code",
   "execution_count": 34,
   "metadata": {
    "collapsed": false
   },
   "outputs": [
    {
     "data": {
      "text/plain": [
       "0-element Array{Int64,1}"
      ]
     },
     "execution_count": 34,
     "metadata": {},
     "output_type": "execute_result"
    }
   ],
   "source": [
    "v = Int[]"
   ]
  },
  {
   "cell_type": "markdown",
   "metadata": {},
   "source": [
    "La palabra `Int` al principio ` le dice a Julia que este arreglo sólo puede contener objetos de tipo` Int`.`"
   ]
  },
  {
   "cell_type": "markdown",
   "metadata": {},
   "source": [
    "#### Pregunta [6] \n",
    "¿Qué ocurre si no ponemos `Int`? "
   ]
  },
  {
   "cell_type": "markdown",
   "metadata": {},
   "source": [
    "Si no especificamos Int, el arreglo podrá contener objetos de cualquier tipo."
   ]
  },
  {
   "cell_type": "markdown",
   "metadata": {},
   "source": [
    "Para agregar un dato al arreglo, se utiliza la función `push!`. (El \"`!`\" forma parte del nombre de la función. Indica que la función modifica su argumento.):"
   ]
  },
  {
   "cell_type": "code",
   "execution_count": 35,
   "metadata": {
    "collapsed": false
   },
   "outputs": [
    {
     "data": {
      "text/plain": [
       "1-element Array{Int64,1}:\n",
       " 17"
      ]
     },
     "execution_count": 35,
     "metadata": {},
     "output_type": "execute_result"
    }
   ],
   "source": [
    "#Agregué el valor 17 al arreglo v\n",
    "push!(v, 17)"
   ]
  },
  {
   "cell_type": "code",
   "execution_count": 36,
   "metadata": {
    "collapsed": false
   },
   "outputs": [
    {
     "data": {
      "text/plain": [
       "1-element Array{Int64,1}:\n",
       " 17"
      ]
     },
     "execution_count": 36,
     "metadata": {},
     "output_type": "execute_result"
    }
   ],
   "source": [
    "#Llamo al arreglo v\n",
    "v"
   ]
  },
  {
   "cell_type": "code",
   "execution_count": 37,
   "metadata": {
    "collapsed": false
   },
   "outputs": [
    {
     "data": {
      "text/plain": [
       "17"
      ]
     },
     "execution_count": 37,
     "metadata": {},
     "output_type": "execute_result"
    }
   ],
   "source": [
    "#Le quito el últiamo valor al arreglo v\n",
    "pop!(v)"
   ]
  },
  {
   "cell_type": "code",
   "execution_count": 38,
   "metadata": {
    "collapsed": false
   },
   "outputs": [
    {
     "data": {
      "text/plain": [
       "0-element Array{Int64,1}"
      ]
     },
     "execution_count": 38,
     "metadata": {},
     "output_type": "execute_result"
    }
   ],
   "source": [
    "v"
   ]
  },
  {
   "cell_type": "markdown",
   "metadata": {},
   "source": [
    "#### Pregunta [7] \n",
    "#### (i) \n",
    "Utiliza este método para crear un arreglo que contenga los números de 1 a 100.\n",
    "\n"
   ]
  },
  {
   "cell_type": "code",
   "execution_count": 39,
   "metadata": {
    "collapsed": false
   },
   "outputs": [],
   "source": [
    "#Creo un rango R\n",
    "R = 1:100;"
   ]
  },
  {
   "cell_type": "code",
   "execution_count": 40,
   "metadata": {
    "collapsed": false
   },
   "outputs": [
    {
     "data": {
      "text/plain": [
       "100-element Array{Int64,1}:\n",
       "   1\n",
       "   2\n",
       "   3\n",
       "   4\n",
       "   5\n",
       "   6\n",
       "   7\n",
       "   8\n",
       "   9\n",
       "  10\n",
       "  11\n",
       "  12\n",
       "  13\n",
       "   ⋮\n",
       "  89\n",
       "  90\n",
       "  91\n",
       "  92\n",
       "  93\n",
       "  94\n",
       "  95\n",
       "  96\n",
       "  97\n",
       "  98\n",
       "  99\n",
       " 100"
      ]
     },
     "execution_count": 40,
     "metadata": {},
     "output_type": "execute_result"
    }
   ],
   "source": [
    "#Ahora agrego al arreglo v los valores contenidos en el rango R\n",
    "for i in R\n",
    "    push!(v, R[i])\n",
    "end\n",
    "return v"
   ]
  },
  {
   "cell_type": "markdown",
   "metadata": {},
   "source": [
    "#### (ii) \n",
    "¿Cómo puedes modificar tu código para excluir a los valores que son divisibles o entre 2 o entre 5?"
   ]
  },
  {
   "cell_type": "code",
   "execution_count": 41,
   "metadata": {
    "collapsed": false
   },
   "outputs": [
    {
     "data": {
      "text/plain": [
       "1:100"
      ]
     },
     "execution_count": 41,
     "metadata": {},
     "output_type": "execute_result"
    }
   ],
   "source": [
    "R"
   ]
  },
  {
   "cell_type": "code",
   "execution_count": 42,
   "metadata": {
    "collapsed": false
   },
   "outputs": [
    {
     "data": {
      "text/plain": [
       "40-element Array{Int64,1}:\n",
       "  1\n",
       "  3\n",
       "  7\n",
       "  9\n",
       " 11\n",
       " 13\n",
       " 17\n",
       " 19\n",
       " 21\n",
       " 23\n",
       " 27\n",
       " 29\n",
       " 31\n",
       "  ⋮\n",
       " 71\n",
       " 73\n",
       " 77\n",
       " 79\n",
       " 81\n",
       " 83\n",
       " 87\n",
       " 89\n",
       " 91\n",
       " 93\n",
       " 97\n",
       " 99"
      ]
     },
     "execution_count": 42,
     "metadata": {},
     "output_type": "execute_result"
    }
   ],
   "source": [
    "vv = Int[] #Creo un arreglo vv vacío\n",
    "for i in R\n",
    "    push!(vv, R[i])\n",
    "    if i%2 == 0 || i%5 == 0\n",
    "        pop!(vv)\n",
    "    end\n",
    "end\n",
    "return vv"
   ]
  },
  {
   "cell_type": "markdown",
   "metadata": {},
   "source": [
    "## Números primos"
   ]
  },
  {
   "cell_type": "markdown",
   "metadata": {},
   "source": [
    "Recordemos que los números primos son los enteros positivos mayores que $1$ que sólo son divisibles exactamente entre $1$ y sí mismo.\n",
    "\n",
    "#### Pregunta [8] \n",
    "Escribe una función que verifica si un número es primo o no.\n",
    "\n",
    "\n",
    "\n"
   ]
  },
  {
   "cell_type": "code",
   "execution_count": 57,
   "metadata": {
    "collapsed": false
   },
   "outputs": [
    {
     "name": "stderr",
     "output_type": "stream",
     "text": [
      "WARNING: Method definition verif_primo(Int64) in module Main at In[43]:7 overwritten at In[57]:7.\n",
      "\u001b[1m\u001b[31mWARNING: replacing docs for 'verif_primo :: Tuple{Int64}' in module 'Main'.\u001b[0m\n"
     ]
    },
    {
     "data": {
      "text/plain": [
       "verif_primo"
      ]
     },
     "execution_count": 57,
     "metadata": {},
     "output_type": "execute_result"
    }
   ],
   "source": [
    "doc\"\"\"\n",
    "La función verif_primo, con un parámetro n, verifica si n es un número primo. \n",
    "\"\"\"\n",
    "\n",
    "function verif_primo(n::Int64)\n",
    "    \n",
    "    contador = 0\n",
    "\n",
    "    for i in 1:n\n",
    "    \n",
    "        if n%i == 0 \n",
    "            contador += 1\n",
    "        end\n",
    "    end\n",
    "\n",
    "\n",
    "    if contador == 2\n",
    "        println(\"El número n = $n SÍ es primo\")\n",
    "        return 1\n",
    "    else\n",
    "        println(\"El número n = $n NO es primo\")\n",
    "        return 0\n",
    "    end\n",
    "end"
   ]
  },
  {
   "cell_type": "code",
   "execution_count": 58,
   "metadata": {
    "collapsed": false
   },
   "outputs": [
    {
     "name": "stdout",
     "output_type": "stream",
     "text": [
      "El número n = 25 NO es primo\n"
     ]
    },
    {
     "data": {
      "text/plain": [
       "0"
      ]
     },
     "execution_count": 58,
     "metadata": {},
     "output_type": "execute_result"
    }
   ],
   "source": [
    "#Prueba\n",
    "verif_primo(25)"
   ]
  },
  {
   "cell_type": "code",
   "execution_count": 59,
   "metadata": {
    "collapsed": false
   },
   "outputs": [
    {
     "name": "stdout",
     "output_type": "stream",
     "text": [
      "El número n = 7 SÍ es primo\n"
     ]
    },
    {
     "data": {
      "text/plain": [
       "1"
      ]
     },
     "execution_count": 59,
     "metadata": {},
     "output_type": "execute_result"
    }
   ],
   "source": [
    "verif_primo(7)"
   ]
  },
  {
   "cell_type": "markdown",
   "metadata": {},
   "source": [
    "#### Pregunta [9] \n",
    "#### (i) \n",
    "Escribe una función que construye un arreglo de $\\pi(n)$, el número de primos menores o iguales a `n`. "
   ]
  },
  {
   "cell_type": "code",
   "execution_count": 79,
   "metadata": {
    "collapsed": false
   },
   "outputs": [
    {
     "name": "stderr",
     "output_type": "stream",
     "text": [
      "WARNING: Method definition miπ(Int64) in module Main at In[77]:8 overwritten at In[79]:8.\n"
     ]
    },
    {
     "data": {
      "text/plain": [
       "miπ (generic function with 1 method)"
      ]
     },
     "execution_count": 79,
     "metadata": {},
     "output_type": "execute_result"
    }
   ],
   "source": [
    "#doc\"\"\"\n",
    "#La función miπ de parámetro n construye un arreglo de números primos que cumplen con ser menores o iguales a n\n",
    "#y regresa la cantidad de números primos que cumplen con esta condición.\n",
    "#\"\"\"\n",
    "\n",
    "function miπ(n::Int64)\n",
    "    \n",
    "    v = [] #Creo un arreglo vacío\n",
    "    contador = 0\n",
    "    #contador_pri = 0\n",
    "\n",
    "    for i in 1:n\n",
    "        for k in 1:i\n",
    "            if i%k == 0 \n",
    "                contador += 1\n",
    "            end \n",
    "           \n",
    "            #@show(n)\n",
    "            #@show(i)\n",
    "            #@show(k)\n",
    "            #@show(contador)\n",
    "            #end\n",
    "        end\n",
    "        if contador == 2\n",
    "            push!(v, i)\n",
    "        end\n",
    "        contador = 0           \n",
    "    end\n",
    "    l = length(v)\n",
    "    println(\"Son $l los números primos menores o iguales a $n\")\n",
    "    return v\n",
    "end"
   ]
  },
  {
   "cell_type": "code",
   "execution_count": 80,
   "metadata": {
    "collapsed": false
   },
   "outputs": [
    {
     "name": "stdout",
     "output_type": "stream",
     "text": [
      "Son 1 los números primos menores o iguales a 2\n"
     ]
    },
    {
     "data": {
      "text/plain": [
       "1-element Array{Any,1}:\n",
       " 2"
      ]
     },
     "execution_count": 80,
     "metadata": {},
     "output_type": "execute_result"
    }
   ],
   "source": [
    "#Prueba\n",
    "miπ(2)"
   ]
  },
  {
   "cell_type": "code",
   "execution_count": 81,
   "metadata": {
    "collapsed": false
   },
   "outputs": [
    {
     "name": "stdout",
     "output_type": "stream",
     "text": [
      "Son 6 los números primos menores o iguales a 15\n"
     ]
    },
    {
     "data": {
      "text/plain": [
       "6-element Array{Any,1}:\n",
       "  2\n",
       "  3\n",
       "  5\n",
       "  7\n",
       " 11\n",
       " 13"
      ]
     },
     "execution_count": 81,
     "metadata": {},
     "output_type": "execute_result"
    }
   ],
   "source": [
    "miπ(15)"
   ]
  },
  {
   "cell_type": "markdown",
   "metadata": {},
   "source": [
    "#### (ii) \n",
    "Grafica la función."
   ]
  },
  {
   "cell_type": "code",
   "execution_count": 49,
   "metadata": {
    "collapsed": false
   },
   "outputs": [],
   "source": [
    "cant_primos = [miπ(i) for i in 1:10];"
   ]
  },
  {
   "cell_type": "code",
   "execution_count": 50,
   "metadata": {
    "collapsed": false
   },
   "outputs": [
    {
     "data": {
      "text/plain": [
       "Plots.GRBackend()"
      ]
     },
     "execution_count": 50,
     "metadata": {},
     "output_type": "execute_result"
    }
   ],
   "source": [
    "using Plots, LaTeXStrings\n",
    "gr()"
   ]
  },
  {
   "cell_type": "code",
   "execution_count": 51,
   "metadata": {
    "collapsed": false
   },
   "outputs": [
    {
     "data": {
      "text/html": [
       "<?xml version=\"1.0\" encoding=\"utf-8\"?>\n",
       "<svg xmlns=\"http://www.w3.org/2000/svg\" xmlns:xlink=\"http://www.w3.org/1999/xlink\" width=\"600\" height=\"400\" viewBox=\"0 0 600 400\">\n",
       "<defs>\n",
       "  <clipPath id=\"clip00\">\n",
       "    <rect x=\"0\" y=\"0\" width=\"600\" height=\"400\"/>\n",
       "  </clipPath>\n",
       "</defs>\n",
       "<polygon clip-path=\"url(#clip00)\" points=\"\n",
       "0,400 600,400 600,0 0,0 \n",
       "  \" fill=\"#ffffff\" fill-opacity=\"1\"/>\n",
       "<defs>\n",
       "  <clipPath id=\"clip01\">\n",
       "    <rect x=\"120\" y=\"0\" width=\"421\" height=\"400\"/>\n",
       "  </clipPath>\n",
       "</defs>\n",
       "<polygon clip-path=\"url(#clip00)\" points=\"\n",
       "28.1037,369.674 596.063,369.674 596.063,23.3815 28.1037,23.3815 \n",
       "  \" fill=\"#ffffff\" fill-opacity=\"1\"/>\n",
       "<defs>\n",
       "  <clipPath id=\"clip02\">\n",
       "    <rect x=\"28\" y=\"23\" width=\"568\" height=\"347\"/>\n",
       "  </clipPath>\n",
       "</defs>\n",
       "<polyline clip-path=\"url(#clip02)\" style=\"stroke:#00002d; stroke-width:0.8; stroke-opacity:0.5; fill:none\" stroke-dasharray=\"1, 2\" points=\"\n",
       "  122.764,364.48 122.764,28.5758 \n",
       "  \"/>\n",
       "<polyline clip-path=\"url(#clip02)\" style=\"stroke:#00002d; stroke-width:0.8; stroke-opacity:0.5; fill:none\" stroke-dasharray=\"1, 2\" points=\"\n",
       "  280.53,364.48 280.53,28.5758 \n",
       "  \"/>\n",
       "<polyline clip-path=\"url(#clip02)\" style=\"stroke:#00002d; stroke-width:0.8; stroke-opacity:0.5; fill:none\" stroke-dasharray=\"1, 2\" points=\"\n",
       "  438.297,364.48 438.297,28.5758 \n",
       "  \"/>\n",
       "<polyline clip-path=\"url(#clip02)\" style=\"stroke:#00002d; stroke-width:0.8; stroke-opacity:0.5; fill:none\" stroke-dasharray=\"1, 2\" points=\"\n",
       "  596.063,364.48 596.063,28.5758 \n",
       "  \"/>\n",
       "<polyline clip-path=\"url(#clip02)\" style=\"stroke:#00002d; stroke-width:0.8; stroke-opacity:0.5; fill:none\" stroke-dasharray=\"1, 2\" points=\"\n",
       "  36.6231,369.674 587.544,369.674 \n",
       "  \"/>\n",
       "<polyline clip-path=\"url(#clip02)\" style=\"stroke:#00002d; stroke-width:0.8; stroke-opacity:0.5; fill:none\" stroke-dasharray=\"1, 2\" points=\"\n",
       "  36.6231,283.101 587.544,283.101 \n",
       "  \"/>\n",
       "<polyline clip-path=\"url(#clip02)\" style=\"stroke:#00002d; stroke-width:0.8; stroke-opacity:0.5; fill:none\" stroke-dasharray=\"1, 2\" points=\"\n",
       "  36.6231,196.528 587.544,196.528 \n",
       "  \"/>\n",
       "<polyline clip-path=\"url(#clip02)\" style=\"stroke:#00002d; stroke-width:0.8; stroke-opacity:0.5; fill:none\" stroke-dasharray=\"1, 2\" points=\"\n",
       "  36.6231,109.955 587.544,109.955 \n",
       "  \"/>\n",
       "<polyline clip-path=\"url(#clip02)\" style=\"stroke:#00002d; stroke-width:0.8; stroke-opacity:0.5; fill:none\" stroke-dasharray=\"1, 2\" points=\"\n",
       "  36.6231,23.3815 587.544,23.3815 \n",
       "  \"/>\n",
       "<polyline clip-path=\"url(#clip02)\" style=\"stroke:#00002d; stroke-width:0.8; stroke-opacity:1; fill:none\" points=\"\n",
       "  28.1037,369.674 596.063,369.674 \n",
       "  \"/>\n",
       "<polyline clip-path=\"url(#clip02)\" style=\"stroke:#00002d; stroke-width:0.8; stroke-opacity:1; fill:none\" points=\"\n",
       "  122.764,369.674 122.764,364.48 \n",
       "  \"/>\n",
       "<polyline clip-path=\"url(#clip02)\" style=\"stroke:#00002d; stroke-width:0.8; stroke-opacity:1; fill:none\" points=\"\n",
       "  280.53,369.674 280.53,364.48 \n",
       "  \"/>\n",
       "<polyline clip-path=\"url(#clip02)\" style=\"stroke:#00002d; stroke-width:0.8; stroke-opacity:1; fill:none\" points=\"\n",
       "  438.297,369.674 438.297,364.48 \n",
       "  \"/>\n",
       "<polyline clip-path=\"url(#clip02)\" style=\"stroke:#00002d; stroke-width:0.8; stroke-opacity:1; fill:none\" points=\"\n",
       "  596.063,369.674 596.063,364.48 \n",
       "  \"/>\n",
       "<polyline clip-path=\"url(#clip02)\" style=\"stroke:#00002d; stroke-width:0.8; stroke-opacity:1; fill:none\" points=\"\n",
       "  28.1037,369.674 28.1037,23.3815 \n",
       "  \"/>\n",
       "<polyline clip-path=\"url(#clip02)\" style=\"stroke:#00002d; stroke-width:0.8; stroke-opacity:1; fill:none\" points=\"\n",
       "  28.1037,369.674 36.6231,369.674 \n",
       "  \"/>\n",
       "<polyline clip-path=\"url(#clip02)\" style=\"stroke:#00002d; stroke-width:0.8; stroke-opacity:1; fill:none\" points=\"\n",
       "  28.1037,283.101 36.6231,283.101 \n",
       "  \"/>\n",
       "<polyline clip-path=\"url(#clip02)\" style=\"stroke:#00002d; stroke-width:0.8; stroke-opacity:1; fill:none\" points=\"\n",
       "  28.1037,196.528 36.6231,196.528 \n",
       "  \"/>\n",
       "<polyline clip-path=\"url(#clip02)\" style=\"stroke:#00002d; stroke-width:0.8; stroke-opacity:1; fill:none\" points=\"\n",
       "  28.1037,109.955 36.6231,109.955 \n",
       "  \"/>\n",
       "<polyline clip-path=\"url(#clip02)\" style=\"stroke:#00002d; stroke-width:0.8; stroke-opacity:1; fill:none\" points=\"\n",
       "  28.1037,23.3815 36.6231,23.3815 \n",
       "  \"/>\n",
       "<g clip-path=\"url(#clip00)\">\n",
       "<text style=\"fill:#00002d; fill-opacity:1; font-family:Arial,Helvetica Neue,Helvetica,sans-serif; font-size:12; text-anchor:middle;\" transform=\"rotate(0, 122.764, 381.674)\" x=\"122.764\" y=\"381.674\">2.5</text>\n",
       "</g>\n",
       "<g clip-path=\"url(#clip00)\">\n",
       "<text style=\"fill:#00002d; fill-opacity:1; font-family:Arial,Helvetica Neue,Helvetica,sans-serif; font-size:12; text-anchor:middle;\" transform=\"rotate(0, 280.53, 381.674)\" x=\"280.53\" y=\"381.674\">5.0</text>\n",
       "</g>\n",
       "<g clip-path=\"url(#clip00)\">\n",
       "<text style=\"fill:#00002d; fill-opacity:1; font-family:Arial,Helvetica Neue,Helvetica,sans-serif; font-size:12; text-anchor:middle;\" transform=\"rotate(0, 438.297, 381.674)\" x=\"438.297\" y=\"381.674\">7.5</text>\n",
       "</g>\n",
       "<g clip-path=\"url(#clip00)\">\n",
       "<text style=\"fill:#00002d; fill-opacity:1; font-family:Arial,Helvetica Neue,Helvetica,sans-serif; font-size:12; text-anchor:middle;\" transform=\"rotate(0, 596.063, 381.674)\" x=\"596.063\" y=\"381.674\">10.0</text>\n",
       "</g>\n",
       "<g clip-path=\"url(#clip00)\">\n",
       "<text style=\"fill:#00002d; fill-opacity:1; font-family:Arial,Helvetica Neue,Helvetica,sans-serif; font-size:12; text-anchor:end;\" transform=\"rotate(0, 26.9037, 374.174)\" x=\"26.9037\" y=\"374.174\">0</text>\n",
       "</g>\n",
       "<g clip-path=\"url(#clip00)\">\n",
       "<text style=\"fill:#00002d; fill-opacity:1; font-family:Arial,Helvetica Neue,Helvetica,sans-serif; font-size:12; text-anchor:end;\" transform=\"rotate(0, 26.9037, 287.601)\" x=\"26.9037\" y=\"287.601\">1</text>\n",
       "</g>\n",
       "<g clip-path=\"url(#clip00)\">\n",
       "<text style=\"fill:#00002d; fill-opacity:1; font-family:Arial,Helvetica Neue,Helvetica,sans-serif; font-size:12; text-anchor:end;\" transform=\"rotate(0, 26.9037, 201.028)\" x=\"26.9037\" y=\"201.028\">2</text>\n",
       "</g>\n",
       "<g clip-path=\"url(#clip00)\">\n",
       "<text style=\"fill:#00002d; fill-opacity:1; font-family:Arial,Helvetica Neue,Helvetica,sans-serif; font-size:12; text-anchor:end;\" transform=\"rotate(0, 26.9037, 114.455)\" x=\"26.9037\" y=\"114.455\">3</text>\n",
       "</g>\n",
       "<g clip-path=\"url(#clip00)\">\n",
       "<text style=\"fill:#00002d; fill-opacity:1; font-family:Arial,Helvetica Neue,Helvetica,sans-serif; font-size:12; text-anchor:end;\" transform=\"rotate(0, 26.9037, 27.8815)\" x=\"26.9037\" y=\"27.8815\">4</text>\n",
       "</g>\n",
       "<g clip-path=\"url(#clip00)\">\n",
       "<text style=\"fill:#00002d; fill-opacity:1; font-family:Arial,Helvetica Neue,Helvetica,sans-serif; font-size:21; text-anchor:middle;\" transform=\"rotate(0, 312.083, 18)\" x=\"312.083\" y=\"18\">Gráfica de n vs. cantidad primos &lt;= n</text>\n",
       "</g>\n",
       "<g clip-path=\"url(#clip00)\">\n",
       "<image width=\"8\" height=\"7\" xlink:href=\"data:;base64,\n",
       "iVBORw0KGgoAAAANSUhEUgAAAAgAAAAHCAYAAAA1WQxeAAAAYUlEQVQImYWNwQmAMBRD3+8EnaQd\n",
       "wEm7QnEBh+jBiydvDlBwgXiQahXBQOAn+SQmiQazKGk2gJTGM5D0IAR5P6jdl9k/5Dzd+quh144f\n",
       "OIBadwGUsqgPzaJY102tFoLeEwdnCGJ3LYxeVQAAAABJRU5ErkJggg==\n",
       "\" transform=\"translate(307, 391)\"/>\n",
       "</g>\n",
       "<g clip-path=\"url(#clip00)\">\n",
       "<image width=\"7\" height=\"10\" xlink:href=\"data:;base64,\n",
       "iVBORw0KGgoAAAANSUhEUgAAAAcAAAAKCAYAAAB4zEQNAAAARElEQVQYlY2PwQ3AMAgDDwZK9h+j\n",
       "E11fVFGK2vCy8IFsVFRgWPrZrcYKwDAB9AqayRIR0x3KN/9j1pezyzZUV6H0Z5Ub49FEYH8SvtIA\n",
       "AAAASUVORK5CYII=\n",
       "\" transform=\"translate(-3, 198)\"/>\n",
       "</g>\n",
       "<polyline clip-path=\"url(#clip02)\" style=\"stroke:#0099ff; stroke-width:0.8; stroke-opacity:1; fill:none\" points=\"\n",
       "  28.1037,369.674 91.2103,283.101 154.317,196.528 217.423,196.528 280.53,109.955 343.637,109.955 406.743,23.3815 469.85,23.3815 532.956,23.3815 596.063,23.3815 \n",
       "  \n",
       "  \"/>\n",
       "<polygon clip-path=\"url(#clip00)\" points=\"\n",
       "505.547,74.5015 578.063,74.5015 578.063,44.2615 505.547,44.2615 \n",
       "  \" fill=\"#ffffff\" fill-opacity=\"1\"/>\n",
       "<polyline clip-path=\"url(#clip00)\" style=\"stroke:#00002d; stroke-width:0.8; stroke-opacity:1; fill:none\" points=\"\n",
       "  505.547,74.5015 578.063,74.5015 578.063,44.2615 505.547,44.2615 505.547,74.5015 \n",
       "  \"/>\n",
       "<polyline clip-path=\"url(#clip00)\" style=\"stroke:#0099ff; stroke-width:0.8; stroke-opacity:1; fill:none\" points=\"\n",
       "  511.547,59.3815 547.547,59.3815 \n",
       "  \"/>\n",
       "<g clip-path=\"url(#clip00)\">\n",
       "<text style=\"fill:#00002d; fill-opacity:1; font-family:Arial,Helvetica Neue,Helvetica,sans-serif; font-size:12; text-anchor:start;\" transform=\"rotate(0, 553.547, 63.8815)\" x=\"553.547\" y=\"63.8815\">y1</text>\n",
       "</g>\n",
       "</svg>\n"
      ]
     },
     "execution_count": 51,
     "metadata": {},
     "output_type": "execute_result"
    }
   ],
   "source": [
    "plot(cant_primos, xlabel=L\"x\", ylabel=L\"y\", title=\"Gráfica de n vs. cantidad primos <= n\")"
   ]
  },
  {
   "cell_type": "code",
   "execution_count": 52,
   "metadata": {
    "collapsed": true
   },
   "outputs": [],
   "source": [
    "cant_primos = [miπ(i) for i in 1:1000];"
   ]
  },
  {
   "cell_type": "code",
   "execution_count": 53,
   "metadata": {
    "collapsed": false
   },
   "outputs": [
    {
     "data": {
      "text/html": [
       "<?xml version=\"1.0\" encoding=\"utf-8\"?>\n",
       "<svg xmlns=\"http://www.w3.org/2000/svg\" xmlns:xlink=\"http://www.w3.org/1999/xlink\" width=\"600\" height=\"400\" viewBox=\"0 0 600 400\">\n",
       "<defs>\n",
       "  <clipPath id=\"clip00\">\n",
       "    <rect x=\"0\" y=\"0\" width=\"600\" height=\"400\"/>\n",
       "  </clipPath>\n",
       "</defs>\n",
       "<polygon clip-path=\"url(#clip00)\" points=\"\n",
       "0,400 600,400 600,0 0,0 \n",
       "  \" fill=\"#ffffff\" fill-opacity=\"1\"/>\n",
       "<defs>\n",
       "  <clipPath id=\"clip01\">\n",
       "    <rect x=\"120\" y=\"0\" width=\"421\" height=\"400\"/>\n",
       "  </clipPath>\n",
       "</defs>\n",
       "<polygon clip-path=\"url(#clip00)\" points=\"\n",
       "45.8815,369.674 596.063,369.674 596.063,23.3815 45.8815,23.3815 \n",
       "  \" fill=\"#ffffff\" fill-opacity=\"1\"/>\n",
       "<defs>\n",
       "  <clipPath id=\"clip02\">\n",
       "    <rect x=\"45\" y=\"23\" width=\"551\" height=\"347\"/>\n",
       "  </clipPath>\n",
       "</defs>\n",
       "<polyline clip-path=\"url(#clip02)\" style=\"stroke:#00002d; stroke-width:0.8; stroke-opacity:0.5; fill:none\" stroke-dasharray=\"1, 2\" points=\"\n",
       "  183.014,364.48 183.014,28.5758 \n",
       "  \"/>\n",
       "<polyline clip-path=\"url(#clip02)\" style=\"stroke:#00002d; stroke-width:0.8; stroke-opacity:0.5; fill:none\" stroke-dasharray=\"1, 2\" points=\"\n",
       "  320.697,364.48 320.697,28.5758 \n",
       "  \"/>\n",
       "<polyline clip-path=\"url(#clip02)\" style=\"stroke:#00002d; stroke-width:0.8; stroke-opacity:0.5; fill:none\" stroke-dasharray=\"1, 2\" points=\"\n",
       "  458.38,364.48 458.38,28.5758 \n",
       "  \"/>\n",
       "<polyline clip-path=\"url(#clip02)\" style=\"stroke:#00002d; stroke-width:0.8; stroke-opacity:0.5; fill:none\" stroke-dasharray=\"1, 2\" points=\"\n",
       "  596.063,364.48 596.063,28.5758 \n",
       "  \"/>\n",
       "<polyline clip-path=\"url(#clip02)\" style=\"stroke:#00002d; stroke-width:0.8; stroke-opacity:0.5; fill:none\" stroke-dasharray=\"1, 2\" points=\"\n",
       "  54.1342,369.674 587.81,369.674 \n",
       "  \"/>\n",
       "<polyline clip-path=\"url(#clip02)\" style=\"stroke:#00002d; stroke-width:0.8; stroke-opacity:0.5; fill:none\" stroke-dasharray=\"1, 2\" points=\"\n",
       "  54.1342,266.611 587.81,266.611 \n",
       "  \"/>\n",
       "<polyline clip-path=\"url(#clip02)\" style=\"stroke:#00002d; stroke-width:0.8; stroke-opacity:0.5; fill:none\" stroke-dasharray=\"1, 2\" points=\"\n",
       "  54.1342,163.548 587.81,163.548 \n",
       "  \"/>\n",
       "<polyline clip-path=\"url(#clip02)\" style=\"stroke:#00002d; stroke-width:0.8; stroke-opacity:0.5; fill:none\" stroke-dasharray=\"1, 2\" points=\"\n",
       "  54.1342,60.4842 587.81,60.4842 \n",
       "  \"/>\n",
       "<polyline clip-path=\"url(#clip02)\" style=\"stroke:#00002d; stroke-width:0.8; stroke-opacity:1; fill:none\" points=\"\n",
       "  45.8815,369.674 596.063,369.674 \n",
       "  \"/>\n",
       "<polyline clip-path=\"url(#clip02)\" style=\"stroke:#00002d; stroke-width:0.8; stroke-opacity:1; fill:none\" points=\"\n",
       "  183.014,369.674 183.014,364.48 \n",
       "  \"/>\n",
       "<polyline clip-path=\"url(#clip02)\" style=\"stroke:#00002d; stroke-width:0.8; stroke-opacity:1; fill:none\" points=\"\n",
       "  320.697,369.674 320.697,364.48 \n",
       "  \"/>\n",
       "<polyline clip-path=\"url(#clip02)\" style=\"stroke:#00002d; stroke-width:0.8; stroke-opacity:1; fill:none\" points=\"\n",
       "  458.38,369.674 458.38,364.48 \n",
       "  \"/>\n",
       "<polyline clip-path=\"url(#clip02)\" style=\"stroke:#00002d; stroke-width:0.8; stroke-opacity:1; fill:none\" points=\"\n",
       "  596.063,369.674 596.063,364.48 \n",
       "  \"/>\n",
       "<polyline clip-path=\"url(#clip02)\" style=\"stroke:#00002d; stroke-width:0.8; stroke-opacity:1; fill:none\" points=\"\n",
       "  45.8815,369.674 45.8815,23.3815 \n",
       "  \"/>\n",
       "<polyline clip-path=\"url(#clip02)\" style=\"stroke:#00002d; stroke-width:0.8; stroke-opacity:1; fill:none\" points=\"\n",
       "  45.8815,369.674 54.1342,369.674 \n",
       "  \"/>\n",
       "<polyline clip-path=\"url(#clip02)\" style=\"stroke:#00002d; stroke-width:0.8; stroke-opacity:1; fill:none\" points=\"\n",
       "  45.8815,266.611 54.1342,266.611 \n",
       "  \"/>\n",
       "<polyline clip-path=\"url(#clip02)\" style=\"stroke:#00002d; stroke-width:0.8; stroke-opacity:1; fill:none\" points=\"\n",
       "  45.8815,163.548 54.1342,163.548 \n",
       "  \"/>\n",
       "<polyline clip-path=\"url(#clip02)\" style=\"stroke:#00002d; stroke-width:0.8; stroke-opacity:1; fill:none\" points=\"\n",
       "  45.8815,60.4842 54.1342,60.4842 \n",
       "  \"/>\n",
       "<g clip-path=\"url(#clip00)\">\n",
       "<text style=\"fill:#00002d; fill-opacity:1; font-family:Arial,Helvetica Neue,Helvetica,sans-serif; font-size:12; text-anchor:middle;\" transform=\"rotate(0, 183.014, 381.674)\" x=\"183.014\" y=\"381.674\">250</text>\n",
       "</g>\n",
       "<g clip-path=\"url(#clip00)\">\n",
       "<text style=\"fill:#00002d; fill-opacity:1; font-family:Arial,Helvetica Neue,Helvetica,sans-serif; font-size:12; text-anchor:middle;\" transform=\"rotate(0, 320.697, 381.674)\" x=\"320.697\" y=\"381.674\">500</text>\n",
       "</g>\n",
       "<g clip-path=\"url(#clip00)\">\n",
       "<text style=\"fill:#00002d; fill-opacity:1; font-family:Arial,Helvetica Neue,Helvetica,sans-serif; font-size:12; text-anchor:middle;\" transform=\"rotate(0, 458.38, 381.674)\" x=\"458.38\" y=\"381.674\">750</text>\n",
       "</g>\n",
       "<g clip-path=\"url(#clip00)\">\n",
       "<text style=\"fill:#00002d; fill-opacity:1; font-family:Arial,Helvetica Neue,Helvetica,sans-serif; font-size:12; text-anchor:middle;\" transform=\"rotate(0, 596.063, 381.674)\" x=\"596.063\" y=\"381.674\">1000</text>\n",
       "</g>\n",
       "<g clip-path=\"url(#clip00)\">\n",
       "<text style=\"fill:#00002d; fill-opacity:1; font-family:Arial,Helvetica Neue,Helvetica,sans-serif; font-size:12; text-anchor:end;\" transform=\"rotate(0, 44.6815, 374.174)\" x=\"44.6815\" y=\"374.174\">0</text>\n",
       "</g>\n",
       "<g clip-path=\"url(#clip00)\">\n",
       "<text style=\"fill:#00002d; fill-opacity:1; font-family:Arial,Helvetica Neue,Helvetica,sans-serif; font-size:12; text-anchor:end;\" transform=\"rotate(0, 44.6815, 271.111)\" x=\"44.6815\" y=\"271.111\">50</text>\n",
       "</g>\n",
       "<g clip-path=\"url(#clip00)\">\n",
       "<text style=\"fill:#00002d; fill-opacity:1; font-family:Arial,Helvetica Neue,Helvetica,sans-serif; font-size:12; text-anchor:end;\" transform=\"rotate(0, 44.6815, 168.048)\" x=\"44.6815\" y=\"168.048\">100</text>\n",
       "</g>\n",
       "<g clip-path=\"url(#clip00)\">\n",
       "<text style=\"fill:#00002d; fill-opacity:1; font-family:Arial,Helvetica Neue,Helvetica,sans-serif; font-size:12; text-anchor:end;\" transform=\"rotate(0, 44.6815, 64.9842)\" x=\"44.6815\" y=\"64.9842\">150</text>\n",
       "</g>\n",
       "<g clip-path=\"url(#clip00)\">\n",
       "<text style=\"fill:#00002d; fill-opacity:1; font-family:Arial,Helvetica Neue,Helvetica,sans-serif; font-size:21; text-anchor:middle;\" transform=\"rotate(0, 320.972, 18)\" x=\"320.972\" y=\"18\">Gráfica de n vs. cantidad primos &lt;= n</text>\n",
       "</g>\n",
       "<g clip-path=\"url(#clip00)\">\n",
       "<image width=\"8\" height=\"7\" xlink:href=\"data:;base64,\n",
       "iVBORw0KGgoAAAANSUhEUgAAAAgAAAAHCAYAAAA1WQxeAAAAYUlEQVQImYWNwQmAMBRD3+8EnaQd\n",
       "wEm7QnEBh+jBiydvDlBwgXiQahXBQOAn+SQmiQazKGk2gJTGM5D0IAR5P6jdl9k/5Dzd+quh144f\n",
       "OIBadwGUsqgPzaJY102tFoLeEwdnCGJ3LYxeVQAAAABJRU5ErkJggg==\n",
       "\" transform=\"translate(316, 391)\"/>\n",
       "</g>\n",
       "<g clip-path=\"url(#clip00)\">\n",
       "<image width=\"81\" height=\"15\" xlink:href=\"data:;base64,\n",
       "iVBORw0KGgoAAAANSUhEUgAAAFEAAAAPCAYAAACcCyOxAAABxUlEQVRYhd0Xu27CMPBcda7E3C0f\n",
       "kEgw9AdYOkPUfoH5gKLsdIpYWGFA3QlzpSZjBzqwdOjILwS1P3AdUKhznB9q00A4yZJ9vrd95zMg\n",
       "IpzD6Pcf8Fi6L6BmSJIUhQiwarnLZVa1SGcQiJX7Y1YoAkR8F7Uq/Weo/SaeI5SCqKbZbLZEbk+I\n",
       "gE1HdZ/Konw6GRxQPiq7mG+3X3tckqQluk7nnuXPsjcsaG3+UAjDIQIADAaPP8URwEd1TtdqIeX2\n",
       "KA/HJ+XogMZlqLLb7bv9XMoRa2OarpDTD+Cj590abYzjudWPg1hxRCYBFFcYRemiaGI1xiV4Jj6d\n",
       "bhfnq6S5tOYTc8273Zv9erN5Zh+J8fgJ/vqA2Ph1ugF2dnretVG+EAFK2SutXW0r0dpSzOWk0nTl\n",
       "dOtU3GLxghTPlQSXTOF6xN/cKAAfo2hizKiiVKg8VoU6xbp6hLhrfCm/6bCkHJUCQYOt6nINMMWr\n",
       "tVTnI4CP02miDbSu7msV2k4vjudammLk+SfLu15/WG+ETbbrYZvk2HDcvupTsV97s82B2oALEWCe\n",
       "v0KrddWYhvwkm+0mBRDgBIIYhkNUX+EmfgmPns7n8Jf+BhU0Z/lWX2ICAAAAAElFTkSuQmCC\n",
       "\" transform=\"translate(-40, 199)\"/>\n",
       "</g>\n",
       "<polyline clip-path=\"url(#clip02)\" style=\"stroke:#0099ff; stroke-width:0.8; stroke-opacity:1; fill:none\" points=\"\n",
       "  45.8815,369.674 46.4322,367.613 46.9829,365.552 47.5336,365.552 48.0844,363.49 48.6351,363.49 49.1858,361.429 49.7366,361.429 50.2873,361.429 50.838,361.429 \n",
       "  51.3888,359.368 51.9395,359.368 52.4902,357.307 53.041,357.307 53.5917,357.307 54.1424,357.307 54.6932,355.245 55.2439,355.245 55.7946,353.184 56.3454,353.184 \n",
       "  56.8961,353.184 57.4468,353.184 57.9976,351.123 58.5483,351.123 59.099,351.123 59.6498,351.123 60.2005,351.123 60.7512,351.123 61.302,349.061 61.8527,349.061 \n",
       "  62.4034,347 62.9542,347 63.5049,347 64.0556,347 64.6063,347 65.1571,347 65.7078,344.939 66.2585,344.939 66.8093,344.939 67.36,344.939 \n",
       "  67.9107,342.878 68.4615,342.878 69.0122,340.816 69.5629,340.816 70.1137,340.816 70.6644,340.816 71.2151,338.755 71.7659,338.755 72.3166,338.755 72.8673,338.755 \n",
       "  73.4181,338.755 73.9688,338.755 74.5195,336.694 75.0703,336.694 75.621,336.694 76.1717,336.694 76.7225,336.694 77.2732,336.694 77.8239,334.633 78.3747,334.633 \n",
       "  78.9254,332.571 79.4761,332.571 80.0269,332.571 80.5776,332.571 81.1283,332.571 81.6791,332.571 82.2298,330.51 82.7805,330.51 83.3312,330.51 83.882,330.51 \n",
       "  84.4327,328.449 84.9834,328.449 85.5342,326.388 86.0849,326.388 86.6356,326.388 87.1864,326.388 87.7371,326.388 88.2878,326.388 88.8386,324.326 89.3893,324.326 \n",
       "  89.94,324.326 90.4908,324.326 91.0415,322.265 91.5922,322.265 92.143,322.265 92.6937,322.265 93.2444,322.265 93.7952,322.265 94.3459,320.204 94.8966,320.204 \n",
       "  95.4474,320.204 95.9981,320.204 96.5488,320.204 97.0996,320.204 97.6503,320.204 98.201,320.204 98.7518,318.142 99.3025,318.142 99.8532,318.142 100.404,318.142 \n",
       "  100.955,316.081 101.505,316.081 102.056,314.02 102.607,314.02 103.158,314.02 103.708,314.02 104.259,311.959 104.81,311.959 105.361,309.897 105.911,309.897 \n",
       "  106.462,309.897 107.013,309.897 107.563,307.836 108.114,307.836 108.665,307.836 109.216,307.836 109.766,307.836 110.317,307.836 110.868,307.836 111.419,307.836 \n",
       "  111.969,307.836 112.52,307.836 113.071,307.836 113.622,307.836 114.172,307.836 114.723,307.836 115.274,305.775 115.824,305.775 116.375,305.775 116.926,305.775 \n",
       "  117.477,303.714 118.027,303.714 118.578,303.714 119.129,303.714 119.68,303.714 120.23,303.714 120.781,301.652 121.332,301.652 121.883,299.591 122.433,299.591 \n",
       "  122.984,299.591 123.535,299.591 124.085,299.591 124.636,299.591 125.187,299.591 125.738,299.591 126.288,299.591 126.839,299.591 127.39,297.53 127.941,297.53 \n",
       "  128.491,295.469 129.042,295.469 129.593,295.469 130.143,295.469 130.694,295.469 131.245,295.469 131.796,293.407 132.346,293.407 132.897,293.407 133.448,293.407 \n",
       "  133.999,293.407 134.549,293.407 135.1,291.346 135.651,291.346 136.202,291.346 136.752,291.346 137.303,289.285 137.854,289.285 138.404,289.285 138.955,289.285 \n",
       "  139.506,289.285 140.057,289.285 140.607,287.223 141.158,287.223 141.709,287.223 142.26,287.223 142.81,287.223 143.361,287.223 143.912,285.162 144.463,285.162 \n",
       "  145.013,283.101 145.564,283.101 146.115,283.101 146.665,283.101 147.216,283.101 147.767,283.101 148.318,283.101 148.868,283.101 149.419,283.101 149.97,283.101 \n",
       "  150.521,281.04 151.071,281.04 151.622,278.978 152.173,278.978 152.724,278.978 153.274,278.978 153.825,276.917 154.376,276.917 154.926,274.856 155.477,274.856 \n",
       "  156.028,274.856 156.579,274.856 157.129,274.856 157.68,274.856 158.231,274.856 158.782,274.856 159.332,274.856 159.883,274.856 160.434,274.856 160.984,274.856 \n",
       "  161.535,272.795 162.086,272.795 162.637,272.795 163.187,272.795 163.738,272.795 164.289,272.795 164.84,272.795 165.39,272.795 165.941,272.795 166.492,272.795 \n",
       "  167.043,272.795 167.593,272.795 168.144,270.733 168.695,270.733 169.245,270.733 169.796,270.733 170.347,268.672 170.898,268.672 171.448,266.611 171.999,266.611 \n",
       "  172.55,266.611 173.101,266.611 173.651,264.55 174.202,264.55 174.753,264.55 175.304,264.55 175.854,264.55 176.405,264.55 176.956,262.488 177.506,262.488 \n",
       "  178.057,260.427 178.608,260.427 179.159,260.427 179.709,260.427 180.26,260.427 180.811,260.427 181.362,260.427 181.912,260.427 182.463,260.427 183.014,260.427 \n",
       "  183.565,258.366 184.115,258.366 184.666,258.366 185.217,258.366 185.767,258.366 186.318,258.366 186.869,256.304 187.42,256.304 187.97,256.304 188.521,256.304 \n",
       "  189.072,256.304 189.623,256.304 190.173,254.243 190.724,254.243 191.275,254.243 191.826,254.243 192.376,254.243 192.927,254.243 193.478,252.182 194.028,252.182 \n",
       "  194.579,250.121 195.13,250.121 195.681,250.121 196.231,250.121 196.782,250.121 197.333,250.121 197.884,248.059 198.434,248.059 198.985,248.059 199.536,248.059 \n",
       "  200.086,245.998 200.637,245.998 201.188,243.937 201.739,243.937 202.289,243.937 202.84,243.937 203.391,243.937 203.942,243.937 204.492,243.937 205.043,243.937 \n",
       "  205.594,243.937 206.145,243.937 206.695,241.876 207.246,241.876 207.797,241.876 208.347,241.876 208.898,241.876 209.449,241.876 210,241.876 210.55,241.876 \n",
       "  211.101,241.876 211.652,241.876 212.203,241.876 212.753,241.876 213.304,241.876 213.855,241.876 214.406,239.814 214.956,239.814 215.507,239.814 216.058,239.814 \n",
       "  216.608,237.753 217.159,237.753 217.71,235.692 218.261,235.692 218.811,235.692 219.362,235.692 219.913,233.631 220.464,233.631 221.014,233.631 221.565,233.631 \n",
       "  222.116,233.631 222.667,233.631 223.217,233.631 223.768,233.631 224.319,233.631 224.869,233.631 225.42,233.631 225.971,233.631 226.522,233.631 227.072,233.631 \n",
       "  227.623,231.569 228.174,231.569 228.725,231.569 229.275,231.569 229.826,231.569 230.377,231.569 230.927,229.508 231.478,229.508 232.029,229.508 232.58,229.508 \n",
       "  233.13,229.508 233.681,229.508 234.232,229.508 234.783,229.508 235.333,229.508 235.884,229.508 236.435,227.447 236.986,227.447 237.536,225.385 238.087,225.385 \n",
       "  238.638,225.385 239.188,225.385 239.739,223.324 240.29,223.324 240.841,223.324 241.391,223.324 241.942,223.324 242.493,223.324 243.044,221.263 243.594,221.263 \n",
       "  244.145,221.263 244.696,221.263 245.247,221.263 245.797,221.263 246.348,221.263 246.899,221.263 247.449,219.202 248,219.202 248.551,219.202 249.102,219.202 \n",
       "  249.652,219.202 250.203,219.202 250.754,217.14 251.305,217.14 251.855,217.14 252.406,217.14 252.957,217.14 253.508,217.14 254.058,215.079 254.609,215.079 \n",
       "  255.16,215.079 255.71,215.079 256.261,213.018 256.812,213.018 257.363,213.018 257.913,213.018 258.464,213.018 259.015,213.018 259.566,210.957 260.116,210.957 \n",
       "  260.667,210.957 261.218,210.957 261.769,210.957 262.319,210.957 262.87,210.957 263.421,210.957 263.971,208.895 264.522,208.895 265.073,208.895 265.624,208.895 \n",
       "  266.174,206.834 266.725,206.834 267.276,206.834 267.827,206.834 268.377,206.834 268.928,206.834 269.479,206.834 270.029,206.834 270.58,204.773 271.131,204.773 \n",
       "  271.682,204.773 272.232,204.773 272.783,204.773 273.334,204.773 273.885,204.773 274.435,204.773 274.986,204.773 275.537,204.773 276.088,202.712 276.638,202.712 \n",
       "  277.189,200.65 277.74,200.65 278.29,200.65 278.841,200.65 279.392,200.65 279.943,200.65 280.493,200.65 281.044,200.65 281.595,200.65 282.146,200.65 \n",
       "  282.696,198.589 283.247,198.589 283.798,196.528 284.349,196.528 284.899,196.528 285.45,196.528 286.001,196.528 286.551,196.528 287.102,194.467 287.653,194.467 \n",
       "  288.204,194.467 288.754,194.467 289.305,192.405 289.856,192.405 290.407,192.405 290.957,192.405 291.508,192.405 292.059,192.405 292.61,190.344 293.16,190.344 \n",
       "  293.711,190.344 294.262,190.344 294.812,190.344 295.363,190.344 295.914,190.344 296.465,190.344 297.015,188.283 297.566,188.283 298.117,188.283 298.668,188.283 \n",
       "  299.218,186.221 299.769,186.221 300.32,184.16 300.87,184.16 301.421,184.16 301.972,184.16 302.523,182.099 303.073,182.099 303.624,182.099 304.175,182.099 \n",
       "  304.726,182.099 305.276,182.099 305.827,182.099 306.378,182.099 306.929,182.099 307.479,182.099 308.03,182.099 308.581,182.099 309.131,180.038 309.682,180.038 \n",
       "  310.233,180.038 310.784,180.038 311.334,180.038 311.885,180.038 312.436,180.038 312.987,180.038 313.537,177.976 314.088,177.976 314.639,177.976 315.19,177.976 \n",
       "  315.74,175.915 316.291,175.915 316.842,175.915 317.392,175.915 317.943,175.915 318.494,175.915 319.045,175.915 319.595,175.915 320.146,173.854 320.697,173.854 \n",
       "  321.248,173.854 321.798,173.854 322.349,171.793 322.9,171.793 323.451,171.793 324.001,171.793 324.552,171.793 325.103,171.793 325.653,169.731 326.204,169.731 \n",
       "  326.755,169.731 327.306,169.731 327.856,169.731 328.407,169.731 328.958,169.731 329.509,169.731 330.059,169.731 330.61,169.731 331.161,169.731 331.712,169.731 \n",
       "  332.262,167.67 332.813,167.67 333.364,165.609 333.914,165.609 334.465,165.609 335.016,165.609 335.567,165.609 336.117,165.609 336.668,165.609 337.219,165.609 \n",
       "  337.77,165.609 338.32,165.609 338.871,165.609 339.422,165.609 339.972,165.609 340.523,165.609 341.074,165.609 341.625,165.609 342.175,165.609 342.726,165.609 \n",
       "  343.277,163.548 343.828,163.548 344.378,163.548 344.929,163.548 345.48,163.548 346.031,163.548 346.581,161.486 347.132,161.486 347.683,161.486 348.233,161.486 \n",
       "  348.784,161.486 349.335,161.486 349.886,161.486 350.436,161.486 350.987,161.486 351.538,161.486 352.089,159.425 352.639,159.425 353.19,159.425 353.741,159.425 \n",
       "  354.292,159.425 354.842,159.425 355.393,157.364 355.944,157.364 356.494,157.364 357.045,157.364 357.596,157.364 358.147,157.364 358.697,155.302 359.248,155.302 \n",
       "  359.799,153.241 360.35,153.241 360.9,153.241 361.451,153.241 362.002,153.241 362.553,153.241 363.103,151.18 363.654,151.18 364.205,151.18 364.755,151.18 \n",
       "  365.306,151.18 365.857,151.18 366.408,151.18 366.958,151.18 367.509,151.18 368.06,151.18 368.611,149.119 369.161,149.119 369.712,149.119 370.263,149.119 \n",
       "  370.813,149.119 371.364,149.119 371.915,147.057 372.466,147.057 373.016,147.057 373.567,147.057 374.118,147.057 374.669,147.057 375.219,144.996 375.77,144.996 \n",
       "  376.321,142.935 376.872,142.935 377.422,142.935 377.973,142.935 378.524,142.935 379.074,142.935 379.625,140.874 380.176,140.874 380.727,140.874 381.277,140.874 \n",
       "  381.828,140.874 382.379,140.874 382.93,138.812 383.48,138.812 384.031,138.812 384.582,138.812 385.133,136.751 385.683,136.751 386.234,134.69 386.785,134.69 \n",
       "  387.335,134.69 387.886,134.69 388.437,134.69 388.988,134.69 389.538,134.69 390.089,134.69 390.64,134.69 391.191,134.69 391.741,134.69 392.292,134.69 \n",
       "  392.843,132.629 393.394,132.629 393.944,132.629 394.495,132.629 395.046,132.629 395.596,132.629 396.147,132.629 396.698,132.629 397.249,132.629 397.799,132.629 \n",
       "  398.35,130.567 398.901,130.567 399.452,128.506 400.002,128.506 400.553,128.506 401.104,128.506 401.655,126.445 402.205,126.445 402.756,126.445 403.307,126.445 \n",
       "  403.857,126.445 404.408,126.445 404.959,124.383 405.51,124.383 406.06,124.383 406.611,124.383 407.162,124.383 407.713,124.383 408.263,122.322 408.814,122.322 \n",
       "  409.365,120.261 409.915,120.261 410.466,120.261 411.017,120.261 411.568,120.261 412.118,120.261 412.669,120.261 413.22,120.261 413.771,120.261 414.321,120.261 \n",
       "  414.872,120.261 415.423,120.261 415.974,118.2 416.524,118.2 417.075,118.2 417.626,118.2 418.176,116.138 418.727,116.138 419.278,116.138 419.829,116.138 \n",
       "  420.379,116.138 420.93,116.138 421.481,114.077 422.032,114.077 422.582,114.077 423.133,114.077 423.684,114.077 424.235,114.077 424.785,114.077 425.336,114.077 \n",
       "  425.887,112.016 426.437,112.016 426.988,112.016 427.539,112.016 428.09,112.016 428.64,112.016 429.191,112.016 429.742,112.016 430.293,112.016 430.843,112.016 \n",
       "  431.394,109.955 431.945,109.955 432.496,109.955 433.046,109.955 433.597,109.955 434.148,109.955 434.698,109.955 435.249,109.955 435.8,107.893 436.351,107.893 \n",
       "  436.901,107.893 437.452,107.893 438.003,107.893 438.554,107.893 439.104,107.893 439.655,107.893 440.206,107.893 440.756,107.893 441.307,105.832 441.858,105.832 \n",
       "  442.409,105.832 442.959,105.832 443.51,105.832 444.061,105.832 444.612,105.832 445.162,105.832 445.713,103.771 446.264,103.771 446.815,103.771 447.365,103.771 \n",
       "  447.916,103.771 448.467,103.771 449.017,101.71 449.568,101.71 450.119,101.71 450.67,101.71 451.22,101.71 451.771,101.71 452.322,99.6483 452.873,99.6483 \n",
       "  453.423,99.6483 453.974,99.6483 454.525,97.587 455.076,97.587 455.626,97.587 456.177,97.587 456.728,97.587 457.278,97.587 457.829,97.587 458.38,97.587 \n",
       "  458.931,95.5258 459.481,95.5258 460.032,95.5258 460.583,95.5258 461.134,95.5258 461.684,95.5258 462.235,93.4645 462.786,93.4645 463.337,93.4645 463.887,93.4645 \n",
       "  464.438,91.4032 464.989,91.4032 465.539,91.4032 466.09,91.4032 466.641,91.4032 467.192,91.4032 467.742,91.4032 468.293,91.4032 468.844,89.342 469.395,89.342 \n",
       "  469.945,89.342 470.496,89.342 471.047,87.2807 471.597,87.2807 472.148,87.2807 472.699,87.2807 473.25,87.2807 473.8,87.2807 474.351,87.2807 474.902,87.2807 \n",
       "  475.453,87.2807 476.003,87.2807 476.554,87.2807 477.105,87.2807 477.656,87.2807 478.206,87.2807 478.757,85.2194 479.308,85.2194 479.858,85.2194 480.409,85.2194 \n",
       "  480.96,85.2194 481.511,85.2194 482.061,85.2194 482.612,85.2194 483.163,85.2194 483.714,85.2194 484.264,83.1582 484.815,83.1582 485.366,83.1582 485.917,83.1582 \n",
       "  486.467,83.1582 487.018,83.1582 487.569,83.1582 488.119,83.1582 488.67,83.1582 489.221,83.1582 489.772,83.1582 490.322,83.1582 490.873,81.0969 491.424,81.0969 \n",
       "  491.975,79.0356 492.525,79.0356 493.076,79.0356 493.627,79.0356 494.178,79.0356 494.728,79.0356 495.279,79.0356 495.83,79.0356 496.38,79.0356 496.931,79.0356 \n",
       "  497.482,76.9744 498.033,76.9744 498.583,74.9131 499.134,74.9131 499.685,74.9131 500.236,74.9131 500.786,72.8518 501.337,72.8518 501.888,70.7906 502.439,70.7906 \n",
       "  502.989,70.7906 503.54,70.7906 504.091,70.7906 504.641,70.7906 505.192,70.7906 505.743,70.7906 506.294,70.7906 506.844,70.7906 507.395,68.7293 507.946,68.7293 \n",
       "  508.497,68.7293 509.047,68.7293 509.598,68.7293 510.149,68.7293 510.699,68.7293 511.25,68.7293 511.801,68.7293 512.352,68.7293 512.902,68.7293 513.453,68.7293 \n",
       "  514.004,68.7293 514.555,68.7293 515.105,66.668 515.656,66.668 516.207,66.668 516.758,66.668 517.308,64.6068 517.859,64.6068 518.41,62.5455 518.96,62.5455 \n",
       "  519.511,62.5455 520.062,62.5455 520.613,60.4842 521.163,60.4842 521.714,60.4842 522.265,60.4842 522.816,60.4842 523.366,60.4842 523.917,60.4842 524.468,60.4842 \n",
       "  525.019,60.4842 525.569,60.4842 526.12,60.4842 526.671,60.4842 527.221,60.4842 527.772,60.4842 528.323,58.423 528.874,58.423 529.424,58.423 529.975,58.423 \n",
       "  530.526,56.3617 531.077,56.3617 531.627,54.3004 532.178,54.3004 532.729,54.3004 533.28,54.3004 533.83,52.2392 534.381,52.2392 534.932,52.2392 535.482,52.2392 \n",
       "  536.033,52.2392 536.584,52.2392 537.135,52.2392 537.685,52.2392 538.236,52.2392 538.787,52.2392 539.338,52.2392 539.888,52.2392 540.439,52.2392 540.99,52.2392 \n",
       "  541.54,52.2392 542.091,52.2392 542.642,52.2392 543.193,52.2392 543.743,52.2392 544.294,52.2392 544.845,50.1779 545.396,50.1779 545.946,50.1779 546.497,50.1779 \n",
       "  547.048,48.1166 547.599,48.1166 548.149,48.1166 548.7,48.1166 549.251,48.1166 549.801,48.1166 550.352,48.1166 550.903,48.1166 551.454,46.0554 552.004,46.0554 \n",
       "  552.555,46.0554 553.106,46.0554 553.657,46.0554 554.207,46.0554 554.758,46.0554 555.309,46.0554 555.86,46.0554 556.41,46.0554 556.961,43.9941 557.512,43.9941 \n",
       "  558.062,43.9941 558.613,43.9941 559.164,43.9941 559.715,43.9941 560.265,43.9941 560.816,43.9941 561.367,41.9328 561.918,41.9328 562.468,41.9328 563.019,41.9328 \n",
       "  563.57,39.8716 564.121,39.8716 564.671,39.8716 565.222,39.8716 565.773,39.8716 566.323,39.8716 566.874,37.8103 567.425,37.8103 567.976,37.8103 568.526,37.8103 \n",
       "  569.077,37.8103 569.628,37.8103 570.179,35.749 570.729,35.749 571.28,35.749 571.831,35.749 572.382,35.749 572.932,35.749 573.483,35.749 574.034,35.749 \n",
       "  574.584,35.749 575.135,35.749 575.686,35.749 576.237,35.749 576.787,35.749 577.338,35.749 577.889,33.6878 578.44,33.6878 578.99,33.6878 579.541,33.6878 \n",
       "  580.092,31.6265 580.642,31.6265 581.193,31.6265 581.744,31.6265 582.295,31.6265 582.845,31.6265 583.396,29.5652 583.947,29.5652 584.498,29.5652 585.048,29.5652 \n",
       "  585.599,29.5652 586.15,29.5652 586.701,27.504 587.251,27.504 587.802,27.504 588.353,27.504 588.903,27.504 589.454,27.504 590.005,27.504 590.556,27.504 \n",
       "  591.106,25.4427 591.657,25.4427 592.208,25.4427 592.759,25.4427 593.309,25.4427 593.86,25.4427 594.411,23.3815 594.962,23.3815 595.512,23.3815 596.063,23.3815 \n",
       "  \n",
       "  \"/>\n",
       "<polygon clip-path=\"url(#clip00)\" points=\"\n",
       "505.547,74.5015 578.063,74.5015 578.063,44.2615 505.547,44.2615 \n",
       "  \" fill=\"#ffffff\" fill-opacity=\"1\"/>\n",
       "<polyline clip-path=\"url(#clip00)\" style=\"stroke:#00002d; stroke-width:0.8; stroke-opacity:1; fill:none\" points=\"\n",
       "  505.547,74.5015 578.063,74.5015 578.063,44.2615 505.547,44.2615 505.547,74.5015 \n",
       "  \"/>\n",
       "<polyline clip-path=\"url(#clip00)\" style=\"stroke:#0099ff; stroke-width:0.8; stroke-opacity:1; fill:none\" points=\"\n",
       "  511.547,59.3815 547.547,59.3815 \n",
       "  \"/>\n",
       "<g clip-path=\"url(#clip00)\">\n",
       "<text style=\"fill:#00002d; fill-opacity:1; font-family:Arial,Helvetica Neue,Helvetica,sans-serif; font-size:12; text-anchor:start;\" transform=\"rotate(0, 553.547, 63.8815)\" x=\"553.547\" y=\"63.8815\">y1</text>\n",
       "</g>\n",
       "</svg>\n"
      ]
     },
     "execution_count": 53,
     "metadata": {},
     "output_type": "execute_result"
    }
   ],
   "source": [
    "plot(cant_primos, xlabel=L\"x\", ylabel=L\"cant_primos\", title=\"Gráfica de n vs. cantidad primos <= n\")\n",
    "#xlabel(L\"n\")\n",
    "#ylabel(L\"cant_primos\")\n",
    "#title(\"Gráfica de n vs. cantidad primos menores o iguales a n\")"
   ]
  },
  {
   "cell_type": "markdown",
   "metadata": {},
   "source": [
    "No sé qué pasa, cuando corro esta última gráfica, se borran partes de la gráfica de arriba...\n",
    "\n",
    "Tampoco aparecen bien los labels de los ejes..."
   ]
  },
  {
   "cell_type": "markdown",
   "metadata": {},
   "source": [
    "#### (iii) \n",
    "¿Qué tan rápido crece esta función en comparación con `n`?"
   ]
  },
  {
   "cell_type": "markdown",
   "metadata": {
    "collapsed": true
   },
   "source": [
    "#### Pregunta [10] \n",
    "Crea una función que calcula los factores primos de un entero, o te dice si el número es primo."
   ]
  },
  {
   "cell_type": "code",
   "execution_count": 112,
   "metadata": {
    "collapsed": false
   },
   "outputs": [
    {
     "name": "stderr",
     "output_type": "stream",
     "text": [
      "WARNING: Method definition fact_primos(Int64) in module Main at In[110]:2 overwritten at In[112]:2.\n"
     ]
    },
    {
     "data": {
      "text/plain": [
       "fact_primos (generic function with 1 method)"
      ]
     },
     "execution_count": 112,
     "metadata": {},
     "output_type": "execute_result"
    }
   ],
   "source": [
    "function fact_primos(n::Int64)\n",
    "    v = [] #Creo un arreglo vacío v, donde \n",
    "    p = [] #Creo un arreglo vacío p donde se agregan los factores primos del entero.\n",
    "    \n",
    "    if verif_primo(n) == 0 #Checa si n es un número primo\n",
    "        v = miπ(n) #Arreglo que contiene todos los primos menores o iguales a n, ie. todos los posibles factores\n",
    "        for i in v #Para i en el arreglo v\n",
    "            @show(i)\n",
    "            if n%i == 0 #\n",
    "                push!(p, n%i)\n",
    "            \n",
    "                @show(n%i)  \n",
    "            @show(p)\n",
    "            end\n",
    "        end\n",
    "\n",
    "    end\n",
    "    println(\"$n = $i * $p\") \n",
    "end"
   ]
  },
  {
   "cell_type": "code",
   "execution_count": 62,
   "metadata": {
    "collapsed": false
   },
   "outputs": [
    {
     "name": "stdout",
     "output_type": "stream",
     "text": [
      "El número n = 4 NO es primo\n",
      "El número n = 4 NO es primo\n",
      "0\n"
     ]
    }
   ],
   "source": [
    "fact_primos(4)"
   ]
  },
  {
   "cell_type": "code",
   "execution_count": 113,
   "metadata": {
    "collapsed": false
   },
   "outputs": [
    {
     "name": "stdout",
     "output_type": "stream",
     "text": [
      "El número n = 4 NO es primo\n",
      "Son 2 los números primos menores o iguales a 4\n",
      "i = 2\n",
      "n % i = 0\n",
      "p = Any[0]\n",
      "i = 3\n"
     ]
    },
    {
     "ename": "LoadError",
     "evalue": "UndefVarError: i not defined",
     "output_type": "error",
     "traceback": [
      "UndefVarError: i not defined",
      "",
      " in fact_primos(::Int64) at ./In[112]:17"
     ]
    }
   ],
   "source": [
    "xx=fact_primos(4)"
   ]
  },
  {
   "cell_type": "code",
   "execution_count": 93,
   "metadata": {
    "collapsed": false
   },
   "outputs": [
    {
     "data": {
      "text/plain": [
       "2"
      ]
     },
     "execution_count": 93,
     "metadata": {},
     "output_type": "execute_result"
    }
   ],
   "source": [
    "xx[1]"
   ]
  }
 ],
 "metadata": {
  "kernelspec": {
   "display_name": "Julia 0.5.0",
   "language": "julia",
   "name": "julia-0.5"
  },
  "language_info": {
   "file_extension": ".jl",
   "mimetype": "application/julia",
   "name": "julia",
   "version": "0.5.0"
  }
 },
 "nbformat": 4,
 "nbformat_minor": 0
}

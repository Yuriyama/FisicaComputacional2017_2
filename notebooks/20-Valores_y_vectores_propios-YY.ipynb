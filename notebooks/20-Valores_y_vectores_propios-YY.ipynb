{
 "cells": [
  {
   "cell_type": "markdown",
   "metadata": {},
   "source": [
    "# Eigenvalores y eigenvectores "
   ]
  },
  {
   "cell_type": "markdown",
   "metadata": {},
   "source": [
    "Otro problema crucial de la álgebra lineal, y, por lo tanto, de la álgebra lineal numérica, es encontrar valores y vectores propios, también llamados eigenvalores y eigenvectores (\"eigen\" = \"propio\" en alemán).\n",
    "\n",
    "Recordemos que $\\mathbf{v}$ es un eigenvector de la matriz $\\mathsf{M}$,  con eigenvalor $\\lambda \\in \\mathbb{C}$,  si\n",
    "\n",
    "$$\\mathsf{M} \\cdot \\mathbf{v} = \\lambda \\, \\mathbf{v},$$\n",
    "\n",
    "es decir que la *dirección* de $\\mathbf{v}$ es invariante bajo la transformación $\\mathsf{M}$, pero la *magnitud* se puede cambiar (o sea, el vector se puede \"estirar\").\n",
    "\n",
    "Recordemos que si $\\mathbf{v}$ es un eigenvector de $\\mathsf{M}$ con eigenvalor $\\lambda$, entonces $\\alpha \\mathbf{v}$ también lo es, para cualquier escalar $\\alpha \\neq 0$."
   ]
  },
  {
   "cell_type": "markdown",
   "metadata": {},
   "source": [
    "¿Por qué son importantes este tipo de problemas? Surgen en problemas físicos como son el encontrar los modos normales de un conjunto de osciladores acoplados, o las energías posibles de un sistema cuántico. En particular, surgen al llevar a cabo una separación de variables en ecuaciones diferenciales parciales.\n",
    "\n",
    "Por ejemplo, consideremos el problema de encontrar las energías y estados posibles de una partícula libre en una caja finita de longitud $L$. El problema se reduce a encontrar los valores posibles de $E$ y $\\psi$ que satisfacen la ecuación de Helmholtz,\n",
    "\n",
    "$$\\nabla^2 \\psi = E \\psi$$\n",
    "\n",
    "con condiciones dadas en la frontera, por ejemplo\n",
    "$\\psi(x=0) = \\psi(x=L) = 0$."
   ]
  },
  {
   "cell_type": "markdown",
   "metadata": {},
   "source": [
    "## El método de potencias "
   ]
  },
  {
   "cell_type": "markdown",
   "metadata": {},
   "source": [
    "No pueden existir métodos directos para calcular eigenvalores para matrices generales, ya que los eigenvalores satisfacen la ecuación polinomial $\\mathrm{det}(\\mathsf{M} - \\lambda \\mathsf{I}) = 0$, la cual sabemos que no se puede resolver de manera exacta cuando el grado $>4$.\n",
    "\n",
    "Por lo tanto, debemos considerar métodos iterativos."
   ]
  },
  {
   "cell_type": "markdown",
   "metadata": {},
   "source": [
    "El método iterativo más sencillo para calcular un eigenvalor particular de una matriz es el **método de potencias**. Consiste en calcular potencias de la matriz $\\mathsf{M}$, aplicadas a un vector $\\mathbf{v}$ inicial arbitrario (pero no-cero).\n",
    "\n",
    "El algoritmo es como sigue: Se escoge un vector inicial arbitrario y se aplica $\\mathsf{M}$ a este vector (es decir, se calcula $\\mathsf{M} \\cdot \\mathbf{v}$). Luego se aplica $\\mathsf{M}$ al resultado, y así sucesivamente.\n"
   ]
  },
  {
   "cell_type": "markdown",
   "metadata": {},
   "source": [
    "**[1]** (i) Escribe una función que implementa este método, para una matriz `M` dada."
   ]
  },
  {
   "cell_type": "code",
   "execution_count": 1,
   "metadata": {
    "collapsed": false
   },
   "outputs": [
    {
     "data": {
      "text/plain": [
       "2×2 Array{Int64,2}:\n",
       " 1  2\n",
       " 3  2"
      ]
     },
     "execution_count": 1,
     "metadata": {},
     "output_type": "execute_result"
    }
   ],
   "source": [
    "a=[1 2\n",
    "    3 2]"
   ]
  },
  {
   "cell_type": "code",
   "execution_count": 2,
   "metadata": {
    "collapsed": false
   },
   "outputs": [
    {
     "data": {
      "text/plain": [
       "2×2 Array{Int64,2}:\n",
       " 1  2\n",
       " 3  2"
      ]
     },
     "execution_count": 2,
     "metadata": {},
     "output_type": "execute_result"
    }
   ],
   "source": [
    "a=[1 2; 3 2]"
   ]
  },
  {
   "cell_type": "code",
   "execution_count": 3,
   "metadata": {
    "collapsed": false
   },
   "outputs": [
    {
     "data": {
      "text/plain": [
       "2-element Array{Int64,1}:\n",
       " 1\n",
       " 4"
      ]
     },
     "execution_count": 3,
     "metadata": {},
     "output_type": "execute_result"
    }
   ],
   "source": [
    "v= [1,4]"
   ]
  },
  {
   "cell_type": "code",
   "execution_count": 4,
   "metadata": {
    "collapsed": false
   },
   "outputs": [
    {
     "data": {
      "text/plain": [
       "2-element Array{Int64,1}:\n",
       "  9\n",
       " 11"
      ]
     },
     "execution_count": 4,
     "metadata": {},
     "output_type": "execute_result"
    }
   ],
   "source": [
    "a*v"
   ]
  },
  {
   "cell_type": "code",
   "execution_count": 5,
   "metadata": {
    "collapsed": false
   },
   "outputs": [
    {
     "data": {
      "text/plain": [
       "Met_Potencias (generic function with 1 method)"
      ]
     },
     "execution_count": 5,
     "metadata": {},
     "output_type": "execute_result"
    }
   ],
   "source": [
    "function Met_Potencias(M, v, n)\n",
    "    res_actual = [v]\n",
    "    #res_anterior = []\n",
    "    for i in 1:n\n",
    "        res = M * v\n",
    "        @show i, res, res_actual\n",
    "        push!(res_actual, res)\n",
    "        v = res\n",
    "        \n",
    "    end\n",
    "    return res_actual\n",
    "end"
   ]
  },
  {
   "cell_type": "code",
   "execution_count": 8,
   "metadata": {
    "collapsed": false
   },
   "outputs": [
    {
     "name": "stdout",
     "output_type": "stream",
     "text": [
      "(i,res,res_actual) = (1,[9,11],Array{Int64,1}[[1,4]])\n",
      "(i,res,res_actual) = (2,[31,49],Array{Int64,1}[[1,4],[9,11]])\n",
      "(i,res,res_actual) = (3,[129,191],Array{Int64,1}[[1,4],[9,11],[31,49]])\n",
      "(i,res,res_actual) = (4,[511,769],Array{Int64,1}[[1,4],[9,11],[31,49],[129,191]])\n"
     ]
    },
    {
     "data": {
      "text/plain": [
       "5-element Array{Array{Int64,1},1}:\n",
       " [1,4]    \n",
       " [9,11]   \n",
       " [31,49]  \n",
       " [129,191]\n",
       " [511,769]"
      ]
     },
     "execution_count": 8,
     "metadata": {},
     "output_type": "execute_result"
    }
   ],
   "source": [
    "Met_Potencias([1 2;3 2], [1,4], 4)"
   ]
  },
  {
   "cell_type": "markdown",
   "metadata": {},
   "source": [
    "(ii) Considera una matriz $\\mathbf{M}$ de $2 \\times 2$, e.g. $\\begin{pmatrix} 2 & 1 \\\\ 1 & 1 \\end{pmatrix}$. \n",
    "Aplica el método. Imprime los resultados después de cada paso. ¿Cuál problema observas?"
   ]
  },
  {
   "cell_type": "code",
   "execution_count": 9,
   "metadata": {
    "collapsed": false
   },
   "outputs": [
    {
     "data": {
      "text/plain": [
       "2×2 Array{Int64,2}:\n",
       " 2  1\n",
       " 1  1"
      ]
     },
     "execution_count": 9,
     "metadata": {},
     "output_type": "execute_result"
    }
   ],
   "source": [
    "M1 = [2 1; 1 1]"
   ]
  },
  {
   "cell_type": "code",
   "execution_count": 10,
   "metadata": {
    "collapsed": false
   },
   "outputs": [
    {
     "name": "stdout",
     "output_type": "stream",
     "text": [
      "(i,res,res_actual) = (1,[10,7],Array{Int64,1}[[3,4]])\n",
      "(i,res,res_actual) = (2,[27,17],Array{Int64,1}[[3,4],[10,7]])\n",
      "(i,res,res_actual) = (3,[71,44],Array{Int64,1}[[3,4],[10,7],[27,17]])\n",
      "(i,res,res_actual) = (4,[186,115],Array{Int64,1}[[3,4],[10,7],[27,17],[71,44]])\n",
      "(i,res,res_actual) = (5,[487,301],Array{Int64,1}[[3,4],[10,7],[27,17],[71,44],[186,115]])\n",
      "(i,res,res_actual) = (6,[1275,788],Array{Int64,1}[[3,4],[10,7],[27,17],[71,44],[186,115],[487,301]])\n",
      "(i,res,res_actual) = (7,[3338,2063],Array{Int64,1}[[3,4],[10,7],[27,17],[71,44],[186,115],[487,301],[1275,788]])\n",
      "(i,res,res_actual) = (8,[8739,5401],Array{Int64,1}[[3,4],[10,7],[27,17],[71,44],[186,115],[487,301],[1275,788],[3338,2063]])\n",
      "(i,res,res_actual) = (9,[22879,14140],Array{Int64,1}[[3,4],[10,7],[27,17],[71,44],[186,115],[487,301],[1275,788],[3338,2063],[8739,5401]])\n",
      "(i,res,res_actual) = (10,[59898,37019],Array{Int64,1}[[3,4],[10,7],[27,17],[71,44],[186,115],[487,301],[1275,788],[3338,2063],[8739,5401],[22879,14140]])\n"
     ]
    },
    {
     "data": {
      "text/plain": [
       "11-element Array{Array{Int64,1},1}:\n",
       " [3,4]        \n",
       " [10,7]       \n",
       " [27,17]      \n",
       " [71,44]      \n",
       " [186,115]    \n",
       " [487,301]    \n",
       " [1275,788]   \n",
       " [3338,2063]  \n",
       " [8739,5401]  \n",
       " [22879,14140]\n",
       " [59898,37019]"
      ]
     },
     "execution_count": 10,
     "metadata": {},
     "output_type": "execute_result"
    }
   ],
   "source": [
    "Met_Potencias(M1, [3,4], 10)"
   ]
  },
  {
   "cell_type": "markdown",
   "metadata": {},
   "source": [
    "(iii) ¿Cuál es la solución a este problema? Impleméntalo. \n",
    "\n",
    "(iv) Calcula a mano los eigenvalores y eigenvectores de tu matriz. ¿Funciona el método? ¿Cuál eigenvector y eigenvalor te da?\n",
    "\n",
    "(v) Supón que la matriz $\\mathsf{M}$ cuenta con una base completa de eigenvectores $\\mathbf{v}_i$. Descompone un vector inicial arbitrario $\\mathbf{v}$ como una combinación lineal de los eigenvectores, e investiga el resultado de aplicar $\\mathsf{M}^n$ a este vector inicial. Así, explica (con papel y pluma) el comportamiento del método."
   ]
  },
  {
   "cell_type": "markdown",
   "metadata": {},
   "source": [
    "**[2]** Aplica el método a la matriz de discretización de la partícula libre en una caja. ¿Cuál eigenvalor está calculando? ¿Qué ocurre?"
   ]
  },
  {
   "cell_type": "markdown",
   "metadata": {},
   "source": [
    "**[3]** (Opcional) Considera una matriz real y **simétrica**, $\\mathsf{S}$. Extiende el método de potencias para calcular *varios* eigenvalores y eigenvectores. [Pista: ¿cuáles propiedades especiales tienen las matrices simétricas, en términos de eigenvalores y eigenvectores?] "
   ]
  },
  {
   "cell_type": "markdown",
   "metadata": {},
   "source": [
    "## Facilidades de Julia para álgebra lineal numérica "
   ]
  },
  {
   "cell_type": "markdown",
   "metadata": {},
   "source": [
    "Resulta que Julia cuenta con facilidades muy completas para llevar a cabo tareas de álgebra lineal numérica. \n",
    "Provee un interfaz fácil de utilizar a librerías estándares como LAPACK.\n",
    "Para nuestros fines, dos de los más importantes son los siguientes.\n",
    "\n",
    "### Sistemas de ecuaciones lineales\n",
    "\n",
    "Para resolver el sistema de ecuaciones lineales $\\mathsf{A} \\cdot \\mathbf{x} = \\mathbf{b}$, utilizamos\n",
    "\n",
    "    A \\ b\n",
    "    \n",
    "[La notación rara surge así: `b / A` se puede considerar como $b \\, A^{-1}$. De la misma forma, `A \\ b` denote $A^{-1} \\, b$. Nótese que numéricamente **nunca** hay que calcular explícitamente la inversa de una matriz, sino más bien resolvemos directamente un sistema de ecuaciones].\n",
    "\n",
    "¿Qué algoritmo utiliza? Resulta que es inteligente: intenta escoger el algoritmo más adecuado para un problema dado."
   ]
  },
  {
   "cell_type": "markdown",
   "metadata": {},
   "source": [
    "### Problemas de eigenvalores y eigenvectores\n",
    "\n",
    "El cálculo de eigenvalores y eigenvectores en general es un área complicada. Julia provee, de nuevo, un interfaz sencillo a algoritmos ya probados. La sintaxis es\n",
    "\n",
    "    eig(A)\n",
    "    eigvals(A)\n",
    "    eigvecs(A)"
   ]
  },
  {
   "cell_type": "markdown",
   "metadata": {},
   "source": [
    "**[4]** Calcula los eigenvalores y eigenvectores de la matriz de discretización del operador de Schrödinger para una partícula libre. Compáralos con los resultados analíticos. ¿Qué observas?"
   ]
  },
  {
   "cell_type": "markdown",
   "metadata": {},
   "source": [
    "**[5]** Haz lo mismo para el oscilador armónico cuántico."
   ]
  },
  {
   "cell_type": "markdown",
   "metadata": {},
   "source": [
    "## Modos normales"
   ]
  },
  {
   "cell_type": "markdown",
   "metadata": {},
   "source": [
    "**[6]** Considera un sistema compuesto por cuatro carritos de masa $m$, acoplados con resortes sobre una pista recta. El carrito en cada extremo está acoplado mediante un resorte a una pared. Todos los resortes obedecen la ley de Hooke con la misma constante $k$.\n",
    "\n",
    "\n",
    "(i) Deduce las ecuaciones de movimiento a partir de la segunda ley de Newton y escríbelas en forma matricial. \n",
    "\n",
    "(ii) Para resolver el sistema de ecuaciones, proponemos la solución\n",
    "\n",
    "$$\n",
    "\\vec{x}(t) = \\mathrm{Re}(\\vec{z}(t)), \\quad \\vec{z}(t) = \\vec{a}e^{i\\omega t},\n",
    "$$\n",
    "donde $\\vec{a}$ es un vector complejo que tiene la información de la amplitud y la fase de las oscilaciones, que dependen de las condiciones iniciales. \n",
    "\n",
    "Las **frecuencias normales** del sistema son las raíces positivas de la ecuación característica de la matriz $\\mathbb{K} - \\omega^2\\mathbb{M}$ y los modos normales son los vectores que satisfacen la ecuación de autovalores $(\\mathbb{K} - \\omega^2\\mathbb{M})\\vec{a} = 0$. El movimiento del sistema está dado por la superposición de todos los modos normales.\n",
    "\n",
    "(iii) Calcula las frecuencias normales y los modos normales del sistema.\n",
    "\n",
    "(iv) Grafica, para cada modo normal, la posición de los carritos como función del tiempo. Describe cada modo normal en términos del movimiento de cada carrito.\n",
    "\n",
    "(v) Haz una animación del movimiento."
   ]
  }
 ],
 "metadata": {
  "kernelspec": {
   "display_name": "Julia 0.5.0",
   "language": "julia",
   "name": "julia-0.5"
  },
  "language_info": {
   "file_extension": ".jl",
   "mimetype": "application/julia",
   "name": "julia",
   "version": "0.5.0"
  }
 },
 "nbformat": 4,
 "nbformat_minor": 1
}

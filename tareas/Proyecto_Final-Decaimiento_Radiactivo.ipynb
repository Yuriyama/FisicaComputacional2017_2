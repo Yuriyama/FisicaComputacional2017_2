{
 "cells": [
  {
   "cell_type": "markdown",
   "metadata": {
    "slideshow": {
     "slide_type": "slide"
    }
   },
   "source": [
    "# Decaimiento Radiactivo\n",
    "\n",
    "### Integrantes\n",
    "\n",
    "#### Héctor Andrés Flores \n",
    "#### Alejandra Yuriko Yamamoto"
   ]
  },
  {
   "cell_type": "markdown",
   "metadata": {
    "slideshow": {
     "slide_type": "slide"
    }
   },
   "source": [
    "## Introducción"
   ]
  },
  {
   "cell_type": "markdown",
   "metadata": {
    "slideshow": {
     "slide_type": "slide"
    }
   },
   "source": [
    "#### Método de Monte Carlo\n",
    "\n",
    "El método de Monte Carlo es una técnica numérica para calcular probabilidades utilizando secuencias de números aleatorios. La computadora genera números aleatorios, con el fin de simular procesos naturales aleatorios, como por ejemplo, el decaimiento radiactivo."
   ]
  },
  {
   "cell_type": "markdown",
   "metadata": {
    "slideshow": {
     "slide_type": "slide"
    }
   },
   "source": [
    "#### Decaimiento Radiactivo\n",
    "\n",
    "Se quiere simular cómo decae un número pequeño N de partículas radiactivas. \n",
    "En particular, queremos mostrar que dicho decaimiento se comporta de manera exponencial y en ocasiones estocásticamente.\n"
   ]
  },
  {
   "cell_type": "markdown",
   "metadata": {
    "slideshow": {
     "slide_type": "slide"
    }
   },
   "source": [
    "El decaimiento radiactivo es un proceso natural en el cual una partícula, sin interacción externa, decae a un estado estable. Aún cuando la probabilidad de decaimiento en un intervalo de tiempo es constante, justo cuando ésta decae es un evento aleatorio. De hecho, puesto que el momento exacto cuando una partícula decae es aleatorio, no importa qué tanto tiempo ha estado \"viva\" la partícula o si otras partícula ya han decaído. En otras palabras, la probabilidad de cualquier partícula que decae por intervalo unitario de tiempo es constante y una vez que decae, se pierde para siempre. Por supuesto, el número total de partículas disminuyen con el tiempo, así como el número de decaimientos, pero la probabilidad de cualquiera de estas partículas en decaer en un cierto intervalo de tiempo es siempre la misma constante, siempre y cuando dicha partícula exista."
   ]
  },
  {
   "cell_type": "markdown",
   "metadata": {
    "slideshow": {
     "slide_type": "slide"
    }
   },
   "source": [
    "#### Mean lifetime (Vida Media)\n",
    "\n",
    "El promedio de vida de un núcleo o partícula subatómica libre antes de desintegrarse.\n",
    "\n",
    "\n",
    "\n",
    "#### Half-life time (Periodo de Semidesintegración)\n",
    "\n",
    "El periodo de semidesintegración $T_{1/2}$, es el tiempo necesario para que se desintegre la mitad de los núcleos de la muestra inicial."
   ]
  },
  {
   "cell_type": "markdown",
   "metadata": {
    "slideshow": {
     "slide_type": "slide"
    }
   },
   "source": [
    "### Decaimiento Discreto\n",
    "\n",
    "Suponemos que tenemos una muestra de núcleos radiactivos $N(t)$ al tiempo $t$. Sea $\\Delta N$ el número de partículas que decaen en un cierto intervalo de tiempo $\\Delta t$.\n",
    "\n",
    "Se escribe la ecuación donde la probabilidad p de cualquier partícula que decae en una unidad de tiempo es constante."
   ]
  },
  {
   "cell_type": "markdown",
   "metadata": {
    "slideshow": {
     "slide_type": "fragment"
    }
   },
   "source": [
    "$$P = \\frac{\\Delta N(t)/N(t)}{\\Delta t} = -\\lambda$$"
   ]
  },
  {
   "cell_type": "markdown",
   "metadata": {
    "slideshow": {
     "slide_type": "fragment"
    }
   },
   "source": [
    "$$ \\frac{\\Delta N(t)}{\\Delta t} = - \\lambda N(t) $$"
   ]
  },
  {
   "cell_type": "code",
   "execution_count": 7,
   "metadata": {
    "collapsed": false,
    "slideshow": {
     "slide_type": "skip"
    }
   },
   "outputs": [
    {
     "data": {
      "text/plain": [
       "Plots.PyPlotBackend()"
      ]
     },
     "execution_count": 7,
     "metadata": {},
     "output_type": "execute_result"
    }
   ],
   "source": [
    "using Plots, LaTeXStrings\n",
    "pyplot()"
   ]
  },
  {
   "cell_type": "code",
   "execution_count": 2,
   "metadata": {
    "collapsed": false,
    "slideshow": {
     "slide_type": "skip"
    }
   },
   "outputs": [
    {
     "data": {
      "text/html": [
       "<div id=\"interact-js-shim\">\n",
       "    <script charset=\"utf-8\">\n",
       "(function (IPython, $, _, MathJax) {\n",
       "    $.event.special.destroyed = {\n",
       "\tremove: function(o) {\n",
       "\t    if (o.handler) {\n",
       "\t\to.handler.apply(this, arguments)\n",
       "\t    }\n",
       "\t}\n",
       "    }\n",
       "\n",
       "    var OutputArea = IPython.version >= \"4.0.0\" ? require(\"notebook/js/outputarea\").OutputArea : IPython.OutputArea;\n",
       "\n",
       "    var redrawValue = function (container, type, val) {\n",
       "\tvar selector = $(\"<div/>\");\n",
       "\tvar oa = new OutputArea(_.extend(selector, {\n",
       "\t    selector: selector,\n",
       "\t    prompt_area: true,\n",
       "\t    events: IPython.events,\n",
       "\t    keyboard_manager: IPython.keyboard_manager\n",
       "\t})); // Hack to work with IPython 2.1.0\n",
       "\n",
       "\tswitch (type) {\n",
       "\tcase \"image/png\":\n",
       "            var _src = 'data:' + type + ';base64,' + val;\n",
       "\t    $(container).find(\"img\").attr('src', _src);\n",
       "\t    break;\n",
       "\tcase \"text/latex\":\n",
       "\t\tif (MathJax){\n",
       "\t\t\tvar math = MathJax.Hub.getAllJax(container)[0];\n",
       "\t\t\tMathJax.Hub.Queue([\"Text\", math, val.replace(/^\\${1,2}|\\${1,2}$/g, '')]);\n",
       "\t\t\tbreak;\n",
       "\t\t}\n",
       "\tdefault:\n",
       "\t    var toinsert = OutputArea.append_map[type].apply(\n",
       "\t\toa, [val, {}, selector]\n",
       "\t    );\n",
       "\t    $(container).empty().append(toinsert.contents());\n",
       "\t    selector.remove();\n",
       "\t}\n",
       "    }\n",
       "\n",
       "\n",
       "    $(document).ready(function() {\n",
       "\tfunction initComm(evt, data) {\n",
       "\t    var comm_manager = data.kernel.comm_manager;\n",
       "        //_.extend(comm_manager.targets, require(\"widgets/js/widget\"))\n",
       "\t    comm_manager.register_target(\"Signal\", function (comm) {\n",
       "            comm.on_msg(function (msg) {\n",
       "                var val = msg.content.data.value;\n",
       "                $(\".signal-\" + comm.comm_id).each(function() {\n",
       "                var type = $(this).data(\"type\");\n",
       "                if (typeof(val[type]) !== \"undefined\" && val[type] !== null) {\n",
       "                    redrawValue(this, type, val[type], type);\n",
       "                }\n",
       "                });\n",
       "                delete val;\n",
       "                delete msg.content.data.value;\n",
       "            });\n",
       "\t    });\n",
       "\n",
       "\t    // coordingate with Comm and redraw Signals\n",
       "\t    // XXX: Test using Reactive here to improve performance\n",
       "\t    $([IPython.events]).on(\n",
       "\t\t'output_appended.OutputArea', function (event, type, value, md, toinsert) {\n",
       "\t\t    if (md && md.reactive) {\n",
       "                // console.log(md.comm_id);\n",
       "                toinsert.addClass(\"signal-\" + md.comm_id);\n",
       "                toinsert.data(\"type\", type);\n",
       "                // Signal back indicating the mimetype required\n",
       "                var comm_manager = IPython.notebook.kernel.comm_manager;\n",
       "                var comm = comm_manager.comms[md.comm_id];\n",
       "                comm.then(function (c) {\n",
       "                    c.send({action: \"subscribe_mime\",\n",
       "                       mime: type});\n",
       "                    toinsert.bind(\"destroyed\", function() {\n",
       "                        c.send({action: \"unsubscribe_mime\",\n",
       "                               mime: type});\n",
       "                    });\n",
       "                })\n",
       "\t\t    }\n",
       "\t    });\n",
       "\t}\n",
       "\n",
       "\ttry {\n",
       "\t    // try to initialize right away. otherwise, wait on the status_started event.\n",
       "\t    initComm(undefined, IPython.notebook);\n",
       "\t} catch (e) {\n",
       "\t    $([IPython.events]).on('kernel_created.Kernel kernel_created.Session', initComm);\n",
       "\t}\n",
       "    });\n",
       "})(IPython, jQuery, _, MathJax);\n",
       "</script>\n",
       "    <script>\n",
       "        window.interactLoadedFlag = true\n",
       "       $(\"#interact-js-shim\").bind(\"destroyed\", function () {\n",
       "           if (window.interactLoadedFlag) {\n",
       "               console.warn(\"JavaScript required by Interact will be removed if you remove this cell or run using Interact more than once.\")\n",
       "           }\n",
       "       })\n",
       "       $([IPython.events]).on(\"kernel_starting.Kernel kernel_restarting.Kernel\", function () { window.interactLoadedFlag = false })\n",
       "   </script>\n",
       "</div>"
      ]
     },
     "metadata": {},
     "output_type": "display_data"
    }
   ],
   "source": [
    "using Interact"
   ]
  },
  {
   "cell_type": "markdown",
   "metadata": {
    "slideshow": {
     "slide_type": "slide"
    }
   },
   "source": [
    "**[1]** Resolver la ecuación diferencial de decaimiento radiactivo mediante algún método visto en clase:\n",
    "\n",
    "\n",
    "$$ \\frac{dN(t)}{dt} = - \\lambda N(t) $$\n",
    "\n"
   ]
  },
  {
   "cell_type": "code",
   "execution_count": 12,
   "metadata": {
    "collapsed": false,
    "slideshow": {
     "slide_type": "slide"
    }
   },
   "outputs": [
    {
     "name": "stdout",
     "output_type": "stream",
     "text": [
      "search:\n",
      "\n"
     ]
    },
    {
     "data": {
      "text/markdown": [
       "La función 'metodo_Euler' con parámetros t0 (tiempo inicial), tf (tiempo final), f (función) y h (tamaño de paso),  aplica el método de Euler a una función f y devuelve el resultado en un primer arreglo (xs) y los tiempos en el segundo  arreglo (ts). Con estos datos se muestra la gráfica de decaimiento. \n"
      ],
      "text/plain": [
       "La función 'metodo_Euler' con parámetros t0 (tiempo inicial), tf (tiempo final), f (función) y h (tamaño de paso),  aplica el método de Euler a una función f y devuelve el resultado en un primer arreglo (xs) y los tiempos en el segundo  arreglo (ts). Con estos datos se muestra la gráfica de decaimiento. \n"
      ]
     },
     "execution_count": 12,
     "metadata": {},
     "output_type": "execute_result"
    }
   ],
   "source": [
    "?metodo_Euler"
   ]
  },
  {
   "cell_type": "code",
   "execution_count": 11,
   "metadata": {
    "collapsed": false,
    "slideshow": {
     "slide_type": "fragment"
    }
   },
   "outputs": [
    {
     "data": {
      "text/html": [],
      "text/plain": [
       "Interact.Options{:SelectionSlider,Float64}(Signal{Float64}(0.05, nactions=1),\"h\",0.05,\"0.05\",Interact.OptionDict(DataStructures.OrderedDict(\"0.001\"=>0.001,\"0.002\"=>0.002,\"0.003\"=>0.003,\"0.004\"=>0.004,\"0.005\"=>0.005,\"0.006\"=>0.006,\"0.007\"=>0.007,\"0.008\"=>0.008,\"0.009\"=>0.009,\"0.01\"=>0.01…),Dict(0.053=>\"0.053\",0.055=>\"0.055\",0.026=>\"0.026\",0.09=>\"0.09\",0.063=>\"0.063\",0.045=>\"0.045\",0.041=>\"0.041\",0.011=>\"0.011\",0.047=>\"0.047\",0.001=>\"0.001\"…)),Any[],Any[],true,\"horizontal\")"
      ]
     },
     "metadata": {},
     "output_type": "display_data"
    },
    {
     "name": "stderr",
     "output_type": "stream",
     "text": [
      "WARNING: Method definition metodo_Euler(Any, Any, Function) in module Main at In[3]:9 overwritten at In[11]:9.\n",
      "WARNING: Method definition metodo_Euler(Any, Any, Function, Any) in module Main at In[3]:9 overwritten at In[11]:9.\n",
      "\u001b[1m\u001b[31mWARNING: replacing docs for 'metodo_Euler :: Union{Tuple{Any,Any,Function,Any},Tuple{Any,Any,Function}}' in module 'Main'.\u001b[0m\n"
     ]
    },
    {
     "data": {
      "text/html": [
       "<img src=\"data:image/png;base64,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\" />"
      ]
     },
     "execution_count": 11,
     "metadata": {
      "comm_id": "868274b6-5b4b-415c-bca1-51a13e185e02",
      "reactive": true
     },
     "output_type": "execute_result"
    }
   ],
   "source": [
    "\"\"\"\n",
    "La función 'metodo_Euler' con parámetros t0 (tiempo inicial), tf (tiempo final), f (función) y h (tamaño de paso), \n",
    "aplica el método de Euler a una función f y devuelve el resultado en un primer arreglo (xs) y los tiempos en el segundo \n",
    "arreglo (ts). Con estos datos se muestra la gráfica de decaimiento. \n",
    "\"\"\"\n",
    "\n",
    "function metodo_Euler(t0, tf, f::Function, h = 0.1)\n",
    "    \n",
    "    ts = t0:h:tf\n",
    "    xs = zeros(ts)\n",
    "    xs[1] = 1\n",
    "    \n",
    "    for i in 2:length(xs)\n",
    "        xs[i] = xs[i-1] + h*f(xs[i-1],ts[i-1]) \n",
    "    end\n",
    "    \n",
    "    return xs,ts\n",
    "end\n",
    "\n",
    "##############################################################\n",
    "################################################\n",
    "###############################\n",
    "##############\n",
    "########\n",
    "##\n",
    "\n",
    "@manipulate for  h in 0.001:0.001:0.1\n",
    "    \n",
    "    function decaimiento(x, t)\n",
    "        return -λ*x\n",
    "    end\n",
    "    \n",
    "    ti = 0\n",
    "    tf = 2\n",
    "    λ  = 0.5\n",
    "    \n",
    "    \n",
    "    ts,xs = metodo_Euler(ti,tf,decaimiento, h)\n",
    "  \n",
    "    plot(ts, xs)\n",
    "end\n",
    "\n",
    "\n",
    "    "
   ]
  },
  {
   "cell_type": "markdown",
   "metadata": {
    "slideshow": {
     "slide_type": "slide"
    }
   },
   "source": [
    "### Gráficas de decaimiento"
   ]
  },
  {
   "cell_type": "code",
   "execution_count": 62,
   "metadata": {
    "collapsed": false
   },
   "outputs": [
    {
     "name": "stderr",
     "output_type": "stream",
     "text": [
      "WARNING: Method definition decai_Monte(Any) in module Main at In[61]:2 overwritten at In[62]:2.\n"
     ]
    },
    {
     "data": {
      "text/html": [
       "<img src=\"data:image/png;base64,iVBORw0KGgoAAAANSUhEUgAAAlgAAAGQCAYAAAByNR6YAAAABHNCSVQICAgIfAhkiAAAAAlwSFlzAAAPYQAAD2EBqD+naQAAIABJREFUeJzt3W9s1fX99/HXgcOFNhcUtSBD6AquULLApBiNBCNeWyoh5ASmVjvLtJ0LRIqyXLbTLL8AuRK3ojMQ2/xYsk43cC1wERtuODFbKtLthsiZ48ZaS6RY53ZBDrO7XI4Xw3quG4T+7Fo32n4+50Pfn+cjIV1P/3xf3/FKfXF6zvckcrlcTgAAAHBmUugAAAAA1jCwAAAAHGNgAQAAODZsYD3++OOaP3++Jk2apJMnTw7efu7cOa1evVoLFy7UkiVLdOzYscGPZbNZVVVVqbS0VIsWLdKhQ4fykx4AAOAqNGxgVVZWqrOzU1/+8peH3P7UU09pxYoV6unp0YsvvqhvfetbGhgYkCQ999xzuvbaa3Xq1CkdOXJEjz32mP7617/m5wwAAACuMsMG1sqVK3XTTTcN+8SDBw9q06ZNkqRbb71Vc+bM0dGjRyVJBw4cGPxYSUmJVq1apVdeecVnbgAAgKvWFT0G6/z587p48aJmzZo1eFtJSYn6+vokSX19fUPu8fr8xwAAAGKTzPcBM5mMjhw5opKSEl177bX5PjwAAIBTn3zyic6cOaN77rlHRUVFkq5wYN1www1KJpM6e/asbrzxRknSmTNnVFxcLEkqLi7WmTNnBj/W29ur1atXj/i9jhw5ourq6nGfDAAAwNVk3759euihhyT9m4H1+Yu833///dqzZ4+2bdum48eP68MPP9Rdd9015GO33367ent7dfToUe3Zs2fE71lSUiJJ+l//uU/zS8tcnM8V6f17Tv9x/DPtu3uyFl+XyNtxkR9bt27Vrl27QseAIXQKPtArm7q6ulRdXT24caQRBtbGjRv16quv6uzZs7rnnns0ffp09fT0qLGxURs2bNDChQs1depUvfzyy5o8ebIkqb6+XrW1tfrKV76iyZMnq7m5Wddff/2IIS7/WnDNbYtVXl7u4TRHls7k9B/nPtXiryVVXsTAsmbGjBl57RPso1PwgV7Z9vmHPg0bWD/5yU9G/KJZs2bpyJEjI36soKBAbW1tjuL51dWf/5denDZFKi1k1AEAEIu8P8g9lGlTLr2t7hgIcvyeyiQjyyOetQrX6BR8iK1X2WxW3d3doWN4UVZWpoKCgi/8eDQDq7QwoZ7KpD6+mN/jdvXnVN0xkPfjxuZvf/tb6Agwhk7Bh9h61d3dreXLl4eO4cWJEyf+5a97oxlYEr+ms+yZZ54JHQHG0Cn4EGuv9u3bp8WLF4eO4cTlB7T/O1ENLNhVVVUVOgKMoVPwIdZeLV6c3ye2XQ2u6EruAAAAuHIMLAAAAMcYWDAhlUqFjgBj6BR8oFdXr/fff1+rVq3SjBkztGzZsnF/Px6DlSchrr8VQqhrftXV1eX9mLCNTsEHenX1mj59up555hn19/frBz/4wbi/HwPLs9DX3wohxDW/Kioq8no82Een4AO9Cu+5557TqVOnBi+s3t/fr9LSUp06dUorVqzQG2+84eQ4DCzPQl1/KwSu+QUAGK3T/zen/n+M/etn/DdpwfQr/0f9d7/7XS1cuFDPPvuspk+frhdffFHr1q3TjBkzxh5iBAysPOD6WwAADJf5fzmVHvhUn43jUTSTE9L/qU6q6Jor+29tYWGh7rvvPrW0tOh73/ue9uzZowMHDow9wBdgYMGE9vZ2rVu3LnQMGEKn4AO9GqromoROVSbHfQ/WlY6ryx5//HGlUimVlZVp5syZ+trXvjb2AF+AgQUTWltb+aEFp+gUfKBXw43m13uuLFq0SAsWLNDGjRv17LPPejkGl2mACfv37w8dAcbQKfhAr64ejz76qAYGBnTfffdJuvTC1PPmzVNlZaW6uro0b968cT2bkHuwAABAdDo6OvTYY49p8uTJkqSCggJ98MEHzr4/92ABAIBo/PnPf9bixYv1zjvvaOvWrd6Owz1YAAAgGnPmzFFXV5f343APFkyoqakJHQHG0Cn4QK/iwcCCCVwdGa7RKfhAr+LBrwjhXIjXXbx1zYN5PyZsq6qqCh0BBsXaq3z8Si5frvRcGFhwJvTrLoZ4DUQAwL9XXV0dOkLeMbDgTKjXXeQ1EAHg6lRWVqYTJ06EjuFFWVnZv/w4AwtOcQ8SrOjs7NTKlStDx4AxsfWqoKBA5eXloWMEwYPcAWAEO3fuDB0BBtGreDCwAGAEbW1toSPAIHoVDwYWAIygoKAgdAQYRK/iwcACAABwjIEFAADgGAMLAEZQX18fOgIMolfxYGABwAiKi4tDR4BB9CoeDCwAGMGWLVtCR4BB9CoeDCwAAADHGFgAAACOMbAAYATd3d2hI8AgehUPBhYAjKChoSF0BBhEr+LBwAKAETQ1NYWOAIPoVTwYWAAwAp5ODx/oVTwYWAAAAI4xsAAAABxjYAHACBobG0NHgEH0Kh4MLAAYQTabDR0BBtGreDCwAGAEO3bsCB0BBtGreDCwAAAAHGNgAQAAOMbAAoARZDKZ0BFgEL2KBwMLAEZQW1sbOgIMolfxYGABwAi2b98eOgIMolfxYGABwAjKy8tDR4BB9CoeDCwAAADHGFgAAACOMbAAYAQtLS2hI8AgehUPBhYAjCCdToeOAIPoVTwYWAAwgubm5tARYBC9igcDCwAAwDEGFgAAgGMMLAAAAMeSoQMArnT15/J+zGlTpNLCRN6PC/9SqZQOHz4cOgaMoVfxYGBhwps25dLb6o6BIMfvqUwysgyqq6sLHQEG0at4MLAw4ZUWJtRTmdTHF/N73K7+nKo7BvJ+XORHRUVF6AgwiF7Fg4EFE7gHCQBwNeFB7gAAAI4xsGBCe3t76Agwhk7BB3oVDwYWTGhtbQ0dAcbQKfhAr+LBwIIJ+/fvDx0BxtAp+ECv4sHAAgAAcIyBBQAA4BgDCwAAwDEGFkyoqakJHQHG0Cn4QK/iwcCCCVwdGa7RKfhAr+LBwIIJVVVVoSPAGDoFH+hVPBhYAAAAjjGwAAAAHGNgwYTOzs7QEWAMnYIP9CoeDCyYsHPnztARYAydgg/0Kh4MLJjQ1tYWOgKMoVPwgV7Fg4EFEwoKCkJHgDF0Cj7Qq3gwsAAAABxjYAEAADjGwIIJ9fX1oSPAGDoFH+hVPBhYMKG4uDh0BBhDp+ADvYoHAwsmbNmyJXQEGEOn4AO9ikcydABgouvqz+X9mNOmSKWFibwfFwBwZRhYwBhNm3LpbXXHQJDj91QmGVkAcJViYMGE7u5ulZWV5fWYpYUJ9VQm9fHFvB5WXf05VXcM5P24sQnRKdhHr+LBwIIJDQ0NOnz4cN6Pyz1IdoXqFGyjV/HgQe4woampKXQEGEOn4AO9igcDCybw1Ge4RqfgA72KBwMLAADAMQYWAACAYwwsmNDY2Bg6AoyhU/CBXsWDgQUTstls6Agwhk7BB3oVDwYWTNixY0foCDCGTsEHehUPBhYAAIBjo7rQ6Pnz5/WNb3xj8P1sNqvTp0/r3LlzWr9+vfr6+lRYWChJeuSRR/TEE0+4TQsAADABjGpg3XDDDfr9738/+P6Pf/xjvfnmm7ruuuuUSCS0a9cupVIp5yGBfyeTyaioqCh0DBhCp+ADvYrHuH5F+NOf/lTf+c53Bt/P5XLjDgSMRW1tbegIMIZOwQd6FY8xD6zf/e536u/v19q1awdva2ho0NKlS/Xggw+qt7fXSUDgSmzfvj10BBhDp+ADvYrHmAdWS0uLHn74YU2adOlb7N27V++++65OnjypO++8c8jwAnwrLy8PHQHG0Cn4QK/iMaaB9fe//10HDx4cclfn3LlzB//35s2bdfr0aX300Udf+D3WrFmjVCo15M8dd9yh9vb2IZ/3+uuvj/i4rs2bN6ulpWXIbel0WqlUSplMZsjt27ZtG3Zxt76+PqVSKXV3dw+5/YUXXlB9ff2Q27LZrFKplDo7O4fc3traqpqammHZHnjgAc6D8+A8OA/Og/PgPAyex9NPP63Zs2cP2S9bt24d9rWJ3BgeONXS0qKf//znevPNNyVJAwMDymQyuvHGGyVJhw4d0pNPPjnirwnT6bSWL1+uEydOsOSBMUhnclr+yqc6sT6p8qJE6DgAEL2Rts2Y7sH62c9+NuTB7RcuXNDatWu1dOlS3XLLLdqzZ48OHz7sJjVwBf75Xz/AeNEp+ECv4jGqyzRc9tvf/nbI+wUFBTp+/LiTQMBYpNPpIaMfGC86BR/oVTy4kjtMaG5uDh0BxtAp+ECv4sHAAgAAcIyBBQAA4BgDCwAAwDEGFkzgNTDhGp2CD/QqHgwsmFBXVxc6AoyhU/CBXsWDgQUTKioqQkeAMXQKPtCreIzpOlgAwuvqH/WLMABfaNoUqbSQVwYAXGFgARPMtCmX3lZ3DIQNAnN6KpOMLMARBhZMaG9v17p160LHyIvSwoR6KpP6+GLoJLZ1dHTo7rvvDh0jL7r6c6ruGKBTeRDTz6rYMbBgQmtra1Q/tLiXwb/G//0T/c/7/0foGDAmtp9VMeNB7jBh//79oSPAGDoFH+hVPBhYAAAAjjGwAAAAHGNgAQAAOMbAggk1NTWhI8AYOgUf6FU8GFgwgasjwzU6BR/oVTwYWDChqqoqdAQYQ6fgA72KBwMLAADAMQYWAACAYwwsmNDZ2Rk6AoyhU/CBXsWDgQUTdu7cGToCjKFT8IFexYOBBRPa2tpCR4AxdAo+0Kt4MLBgQkFBQegIMIZOwQd6FQ8GFgAAgGMMLAAAAMcYWDChvr4+dAQYQ6fgA72KBwMLJhQXF4eOAGPoFHygV/FgYMGELVu2hI4AY+gUfKBX8WBgAQAAOMbAAgAAcIyBBRO6u7tDR4AxdAo+0Kt4MLBgQkNDQ+gIMIZOwQd6FQ8GFkxoamoKHQHG0Cn4QK/iwcCCCTz1Ga7RKfhAr+LBwAIAAHCMgQUAAOAYAwsmNDY2ho4AY+gUfKBX8WBgwYRsNhs6AoyhU/CBXsWDgQUTduzYEToCjKFT8IFexSMZOgAA4OrQ1Z8LHcG8aVOk0sJE6BjIAwYWAERu2pRLb6s7BsIGiURPZZKRFQEGFkzIZDIqKioKHQOGxNSp0sKEeiqT+vhi6CS2dfXnVN0xwP/PkWBgwYTa2lodPnw4dAwYElunuEcFcIsHucOE7du3h44AY+gUgPFgYMGE8vLy0BFgDJ0CMB4MLAAAAMcYWAAAAI4xsGBCS0tL6Agwhk4BGA8GFkxIp9OhI8AYOgVgPBhYMKG5uTl0BBhDpwCMBwMLAADAMQYWAACAYwwsAAAAxxhYMCGVSoWOAGPoFIDxYGDBhLq6utARYAydAjAeDCyYUFFREToCjKFTAMaDgQUAAOAYAwsAAMAxBhZMaG9vDx0BxtApAOPBwIIJra2toSPAGDoFYDwYWDBh//79oSPAGDoFYDwYWAAAAI4xsAAAABxjYAEAADjGwIIJNTU1oSPAGDoFYDwYWDCBq27DNToFYDwYWDChqqoqdAQYQ6cAjAcDCwAAwDEGFgAAgGMMLJjQ2dkZOgKMoVMAxoOBBRN27twZOgKMoVMAxoOBBRPa2tpCR4AxdArAeDCwYEJBQUHoCDCGTgEYDwYWAACAYwwsAAAAxxhYMKG+vj50BBhDpwCMRzJ0AMCF4uLi0BFgDJ2CL139ubwfc9oUqbQwkffjxoyBBRO2bNkSOgKMoVNwbdqUS2+rOwaCHL+nMsnIyiMGFgAAeVBamFBPZVIfX8zvcbv6c6ruGMj7cWPHwAIAIE+4BykePMgdJnR3d4eOAGPoFHygV/FgYMGEhoaG0BFgDJ2CD/QqHgwsmNDU1BQ6AoyhU/CBXsWDgQUTeEo9XKNT8IFexYOBBQAA4BgDCwAAwDEGFkxobGwMHQHG0Cn4QK/iwcCCCdlsNnQEGEOn4AO9igcDCybs2LEjdAQYQ6fgA72KBwMLAADAMQYWAACAYwwsmJDJZEJHgDF0Cj7Qq3iMemCVlJSorKxMy5Yt07Jly3Tw4EFJ0rlz57R69WotXLhQS5Ys0bFjx5yHBb5IbW1t6Agwhk7BB3oVj+RovyCRSOjAgQNaunTpkNufeuoprVixQq+99prefvttrV+/Xr29vUomR30IYNS2b98eOgKMoVPwgV7FY0zrJ5fLDbvt4MGDeu+99yRJt956q+bMmaOjR4/q61//+vgSAlegvLw8dAQYQ6fgA72Kx5gG1oYNGyRJt912m370ox8pkUjo4sWLmjVr1uDnlJSUqK+vz01KAACACWTUj8E6duyYTp48qXQ6raKiIj388MNKJBIjfu4X3Q4AAGDZqAfW3LlzJUnJZFJPPPGEjh07puuvv17JZFJnz54d/LwzZ878y1cNX7NmjVKp1JA/d9xxh9rb24d83uuvv65UKjXs6zdv3qyWlpYht6XTaaVSqWHP0ti2bduwlyfo6+tTKpVSd3f3kNtfeOEF1dfXD7ktm80qlUqps7NzyO2tra2qqakZlu2BBx7gPPJ8Hi0tLSbOQ7Lx92HhPC4fd6Kfx2Wcx9VxHqF6JUkvvfSSs/O4bKL/fYzlPJ5++mnNnj17yH7ZunXrsK9N5EZ6QNUXyGaz+sc//qEZM2ZIkp5//nkdPnxYb7zxhmpqalRSUqJt27bp+PHjWr9+vd5//31Nnjx5yPdIp9Navny5Tpw4we+i4czmzZvV3NwcOgYMoVPwIUSv0pmclr/yqU6sT6q8iN8s+TDSthnVY7DOnj2re++9VwMDA8rlcrr55pv1i1/8QtKlF7DcsGGDFi5cqKlTp+rll18eNq4AX/gPIVyjU/CBXsVjVANr/vz5SqfTI35s1qxZOnLkiJNQAAAAExlXcgcAAHCMgQUAAOAYAwsmjPTMFGA86BR8oFfxYGDBhLq6utARYAydgg/0Kh4MLJhQUVEROgKMoVPwgV7Fg4EFAADgGAMLAADAMQYWTPjnlzIAxotOwQd6FQ8GFkxobW0NHQHG0Cn4QK/iwcCCCfv37w8dAcbQKfhAr+LBwAIAAHCMgQUAAOAYAwsAAMAxBhZMqKmpCR0BxtAp+ECv4sHAgglcHRmu0Sn4QK/iwcCCCVVVVaEjwBg6BR/oVTwYWAAAAI4xsAAAABxjYMGEzs7O0BFgDJ2CD/QqHgwsmLBz587QEWAMnYIP9CoeDCyY0NbWFjoCjKFT8IFexYOBBRMKCgpCR4AxdAo+0Kt4MLAAAAAcY2ABAAA4xsCCCfX19aEjwBg6BR/oVTwYWDChuLg4dAQYQ6fgA72KBwMLJmzZsiV0BBhDp+ADvYoHAwsAAMAxBhYAAIBjDCyY0N3dHToCjKFT8IFexYOBBRMaGhpCR4AxdAo+0Kt4MLBgQlNTU+gIMIZOwQd6FQ8GFkzgqc9wjU7BB3oVDwYWAACAYwwsAAAAxxhYMKGxsTF0BBhDp+ADvYoHAwsmZLPZ0BFgDJ2CD/QqHgwsmLBjx47QEWAMnYIP9CoeDCwAAADHGFgAAACOMbBgQiaTCR0BxtAp+ECv4sHAggm1tbWhI8AYOgUf6FU8GFgwYfv27aEjwBg6BR/oVTwYWDChvLw8dAQYQ6fgA72KBwMLAADAMQYWAACAYwwsmNDS0hI6AoyhU/CBXsWDgQUT0ul06Agwhk7BB3oVDwYWTGhubg4dAcbQKfhAr+LBwAIAAHCMgQUAAOAYAwsAAMAxBhZMSKVSoSPAGDoFH+hVPBhYMKGuri50BBhDp+ADvYoHAwsmVFRUhI4AY+gUfKBX8WBgAQAAOMbAAgAAcIyBBRPa29tDR4AxdAo+0Kt4MLBgQmtra+gIMIZOwQd6FQ8GFkzYv39/6Agwhk7BB3oVDwYWAACAYwwsAAAAxxhYAAAAjjGwYEJNTU3oCDCGTsEHehUPBhZM4OrIcI1OwQd6FQ8GFkyoqqoKHQHG0Cn4QK/iwcACAABwjIEFAADgGAMLJnR2doaOAGPoFHygV/FgYMGEnTt3ho4AY+gUfKBX8WBgwYS2trbQEWAMnYIP9CoeDCyYUFBQEDoCjKFT8IFexYOBBQAA4BgDCwAAwDEGFkyor68PHQHG0Cn4QK/iwcCCCcXFxaEjwBg6BR/oVTwYWDBhy5YtoSPAGDoFH+hVPBhYAAAAjjGwAAAAHGNgwYTu7u7QEWAMnYIP9CoeDCyY0NDQEDoCjKFT8IFexYOBBROamppCR4AxdAo+0Kt4MLBgAk99hmt0Cj7Qq3gwsAAAABxjYAEAADjGwIIJjY2NoSPAGDoFH+hVPBhYMCGbzYaOAGPoFHygV/FgYMGEHTt2hI4AY+gUfKBX8WBgAQAAOMbAAgAAcIyBBRMymUzoCDCGTsEHehUPBhZMqK2tDR0BxtAp+ECv4sHAggnbt28PHQHG0Cn4QK/iMaqBdeHCBa1bt06LFi3SLbfcooqKCr333nuSpFWrVmnBggVatmyZli1bpt27d3sJDIykvLw8dAQYQ6fgA72KR3K0X7Bp0yatXr1aktTc3KxHH31UHR0dSiQS2rVrl1KplPOQAAAAE8mo7sGaOnXq4LiSpNtvv11nzpwZfD+XyzkLBgAAMFGN6zFYu3fv1rp16wbfb2ho0NKlS/Xggw+qt7d33OGAK9XS0hI6AoyhU/CBXsVjzAPrmWee0enTp/XDH/5QkrR37169++67OnnypO68806tXbvWWUjg30mn06EjwBg6BR/oVTzGNLCee+45tbe361e/+pWuueYaSdLcuXMHP75582adPn1aH3300Rd+jzVr1iiVSg35c8cdd6i9vX3I573++usjPq5r8+bNw/4lkE6nlUqlhl1nZNu2bcNeYLOvr0+pVErd3d1Dbn/hhRdUX18/5LZsNqtUKqXOzs4ht7e2tqqmpmZYtgceeIDzyPN5NDc3mzgPycbfh4XzaG5uNnEel3EeV8d5hOqVJL300kvOzuOyif73MZbzePrppzV79uwh+2Xr1q3DvjaRG+UDp55//nn98pe/1K9//WvNmDFDkjQwMKBMJqMbb7xRknTo0CE9+eSTI/6aMJ1Oa/ny5Tpx4gTPpgAAwLN0Jqflr3yqE+uTKi9KhI5j0kjbZlTPIvzTn/6kJ598UjfffLPuvvtuSdI111yj3/zmN1q7dq0uXLigSZMmaebMmTp8+LD7MwAAAJgARjWw5s6dq88++2zEjx0/ftxJIAAAgImOK7nDBK6/BtfoFHygV/FgYMGEurq60BFgDJ2CD/QqHgwsmFBRURE6AoyhU/CBXsWDgQUAAOAYAwsAAMAxBhZM+OcLwQHjRafgA72KBwMLJrS2toaOAGPoFHygV/EY1XWwgKvV/v37Q0eAMXQKPoTsVVf/qF64ZcKaNkUqLQx/xXoGFgAAhk2bcultdcdA2CB51FOZDD6yGFgAABhWWphQT2VSH18MncS/rv6cqjsGropzZWABAGBc6HtzYsSD3GFCTU1N6Agwhk7BB3oVDwYWTODqyHCNTsEHehUPBhZMqKqqCh0BxtAp+ECv4sHAAgAAcIyBBQAA4BgDCyZ0dnaGjgBj6BR8oFfxYGDBhJ07d4aOAGPoFHygV/FgYMGEtra20BFgDJ2CD/QqHgwsmFBQUBA6AoyhU/CBXsWDgQUAAOAYAwsAAMAxBhZMqK+vDx0BxtAp+ECv4sHAggnFxcWhI8AYOgUf6FU8GFgwYcuWLaEjwBg6BR/oVTwYWAAAAI4xsAAAABxjYMGE7u7u0BFgDJ2CD/QqHgwsmNDQ0BA6AoyhU/CBXsWDgQUTmpqaQkeAMXQKPtCreDCwYAJPfYZrdAo+0Kt4MLAAAAAcY2ABAAA4xsCCCY2NjaEjwBg6BR/oVTwYWDAhm82GjgBj6BR8oFfxYGDBhB07doSOAGPoFHygV/FgYAEAADjGwAIAAHCMgQUTMplM6Agwhk7BB3oVDwYWTKitrQ0dAcbQKfhAr+LBwIIJ27dvDx0BxtAp+ECv4sHAggnl5eWhI8AYOgUf6FU8GFgAAACOMbAAAAAcY2DBhJaWltARYAydgg/0Kh4MLJiQTqdDR4AxdAo+0Kt4MLBgQnNzc+gIMIZOwQd6FQ8GFgAAgGMMLAAAAMcYWAAAAI4xsGBCKpUKHQHG0Cn4QK/iwcCCCXV1daEjwBg6BR/oVTwYWDChoqIidAQYQ6fgA72KBwMLAADAMQYWAACAYwwsmNDe3h46AoyhU/CBXsWDgQUTGhsbQ0eAMXQKPtCreDCwYMLMmTNDR4AxdAo+0Kt4MLAAAAAcY2ABAAA4xsACAABwLJnvA37yySeSpK6urnwfGoa99dZbSqfToWPAEDoFH+iVX10f5aT3B/Tqbyep678n8nbc3lPdkv5r40hSIpfL5fKWQNLLL7+s6urqfB4SAADAu3379umhhx6SFGBgZTIZHTlyRCUlJbr22mvzeWgAAADnPvnkE505c0b33HOPioqKJAUYWAAAANbxIHcAAADHGFgAAACO5XVgnTp1SitWrNCiRYt022236Y9//GM+Dw+jSkpKVFZWpmXLlmnZsmU6ePBg6EiYQB5//HHNnz9fkyZN0smTJwdvP3funFavXq2FCxdqyZIlOnbsWMCUmGg+36s//OEPg7evWrVKCxYsGPx5tXv37oAp4VNeL9OwceNGbdq0Sd/+9rd16NAhPfLII3rrrbfyGQEGJRIJHThwQEuXLg0dBRNQZWWlvv/972vlypVDbn/qqae0YsUKvfbaa3r77be1fv169fb2KpnM+9VtMAF9vleJxH9dLiCRSGjXrl1KpVIB0yEf8nYP1rlz53TixInBSzR885vf1AcffKDTp0/nKwIM47kaGKuVK1fqpptuGnb7wYMHtWnTJknSrbfeqjlz5ujo0aP5jocJ6ot6JfHzKhZ5G1gffPCBvvSlL2nSpEuHTCQSKi4uVl9fX74iwLANGzZo6dKlevTRR5XJZELHwQR3/vx5Xbx4UbNmzRq8raSkhJ9XcKKhoUFLly7Vgw8+qN7e3tBx4AkPcseEd+zYMZ08eVLpdFpFRUV6+OGHQ0eCUZ//VQ8wFnv37tW7776rkydP6s5fIE2VAAABeklEQVQ779TatWtDR4IneRtY8+bN01/+8hd99tlnki7dRdrX16fi4uJ8RYBRc+fOlSQlk0k98cQTPBgZ43bDDTcomUzq7Nmzg7edOXOGn1cYt8s/ryRp8+bNOn36tD766KOAieBL3gbWrFmzVF5err1790qSDh06pHnz5mnBggX5igCDstms+vv7B99vbW1VeXl5wESYyD7/2Jj7779fe/bskSQdP35cH374oe66665Q0TCBXe7VwMDAkNF+6NAhzZ49W9ddd12oaPAor1dy7+np0SOPPKLz58+rsLBQL774or761a/m6/AwqLe3V/fee68GBgaUy+V08803a/fu3dzTgCu2ceNGvfrqqzp79qyuv/56TZ8+XT09PTp37pw2bNig3t5eTZ06VU1NTQwsXLGRevXOO+/orrvu0oULFzRp0iTNnDlTzz//vJYsWRI6LjzgpXIAAAAc40HuAAAAjjGwAAAAHGNgAQAAOMbAAgAAcIyBBQAA4Nj/B+cZLM9o1jJnAAAAAElFTkSuQmCC\" />"
      ]
     },
     "execution_count": 62,
     "metadata": {},
     "output_type": "execute_result"
    }
   ],
   "source": [
    "function decai_Monte(N)\n",
    "    t = 0\n",
    "    ΔN = 0\n",
    "    N_decaida = [N]\n",
    "    tiempo_decaida = [0]\n",
    "    \n",
    "    while N > 0\n",
    "        \n",
    "        \n",
    "        λ = rand()\n",
    "        \n",
    "        if λ >= 0.5\n",
    "            ΔN += 1\n",
    "            N -= ΔN\n",
    "            if N > 0\n",
    "                push!(N_decaida,N)\n",
    "                t = t\n",
    "                push!(tiempo_decaida, t)\n",
    "            end \n",
    "            \n",
    "        end\n",
    "        \n",
    "         \n",
    "        \n",
    "        if λ < 0.5\n",
    "            if N > 0\n",
    "                push!(N_decaida,N)\n",
    "                t = t + 1\n",
    "                push!(tiempo_decaida,t)\n",
    "                \n",
    "            end \n",
    "            \n",
    "        end\n",
    "\n",
    "    end\n",
    "    return tiempo_decaida, N_decaida\n",
    "end\n",
    "\n",
    "tiempo, nucleo = decai_Monte(100)\n",
    "plot(tiempo, nucleo)"
   ]
  },
  {
   "cell_type": "code",
   "execution_count": 99,
   "metadata": {
    "collapsed": false,
    "slideshow": {
     "slide_type": "slide"
    }
   },
   "outputs": [
    {
     "name": "stdout",
     "output_type": "stream",
     "text": [
      "search:\n",
      "\n"
     ]
    },
    {
     "data": {
      "text/markdown": [
       "La función Decay_MC tiene como parámetros, N (número inicial de núcleos), Δt (intervalo de tiempo)  y λ (constante de decaimiento). La probabilidad p se calcula mediante una relación de Δt y λ.  Esta función toma números aleatorios para calcular el decaimiento de los N núcleos y regresa  un arreglo de tiempos y otro con los núcleos restantes para cada tiempo.  El resultado omite el último valor, cuando se se tienen cero núcleos restantes.\n"
      ],
      "text/plain": [
       "La función Decay_MC tiene como parámetros, N (número inicial de núcleos), Δt (intervalo de tiempo)  y λ (constante de decaimiento). La probabilidad p se calcula mediante una relación de Δt y λ.  Esta función toma números aleatorios para calcular el decaimiento de los N núcleos y regresa  un arreglo de tiempos y otro con los núcleos restantes para cada tiempo.  El resultado omite el último valor, cuando se se tienen cero núcleos restantes.\n"
      ]
     },
     "execution_count": 99,
     "metadata": {},
     "output_type": "execute_result"
    }
   ],
   "source": [
    "?Decay_MC"
   ]
  },
  {
   "cell_type": "code",
   "execution_count": 32,
   "metadata": {
    "collapsed": false,
    "slideshow": {
     "slide_type": "slide"
    }
   },
   "outputs": [
    {
     "name": "stderr",
     "output_type": "stream",
     "text": [
      "WARNING: Method definition Decay_MC(Any, Any, Any, Any) in module Main at In[4]:15 overwritten at In[32]:15.\n",
      "\u001b[1m\u001b[31mWARNING: replacing docs for 'Decay_MC :: Tuple{Any,Any,Any,Any}' in module 'Main'.\u001b[0m\n"
     ]
    },
    {
     "data": {
      "text/plain": [
       "Decay_MC"
      ]
     },
     "execution_count": 32,
     "metadata": {},
     "output_type": "execute_result"
    }
   ],
   "source": [
    "\"\"\"\n",
    "La función Decay_MC tiene como parámetros, N (número inicial de núcleos), Δt (intervalo de tiempo) \n",
    "y λ (constante de decaimiento).\n",
    "La probabilidad p se calcula mediante una relación de Δt y λ. \n",
    "Esta función toma números aleatorios para calcular el decaimiento de los N núcleos y regresa \n",
    "un arreglo de tiempos y otro con los núcleos restantes para cada tiempo. \n",
    "El resultado omite el último valor, cuando se se tienen cero núcleos restantes.\n",
    "\"\"\"\n",
    "\n",
    "#Función de Decaimiento para N núcleos a probabilidad p\n",
    "\n",
    "function Decay_MC(N, Δt, λ, dt) # N es el número inicial de núcleos, Δt el intervalo de tiempo, dt es \n",
    "                                # y λ la constante de decaimiento. \n",
    "                                 \n",
    "    t0 = 0.0\n",
    "    p = dt*λ   # Δt es el intervalo de tiempo con que avanza.\n",
    "    t_decay = [t0] # Arreglo de tiempos\n",
    "    N_decay = [N] # Arreglo de valores de N en el tiempo\n",
    "    \n",
    "    while N > 0\n",
    "        \n",
    "        for i in 1:N\n",
    "            \n",
    "            r = rand() # Genera un número aleatorio entre 0 y 1\n",
    "        \n",
    "            if r > p\n",
    "                N = N\n",
    "            else\n",
    "                N -= 1\n",
    "            end\n",
    "        end\n",
    "        \n",
    "        t0 += Δt # pasa al siguiente tiempo\n",
    "\n",
    "        push!(t_decay, t0)\n",
    "        push!(N_decay, N)\n",
    "                    \n",
    "    end\n",
    "    \n",
    "    pop!(t_decay) # Quita el último tiempo\n",
    "    pop!(N_decay) # Quita el último valor (cero) \n",
    "\n",
    "    return t_decay, N_decay\n",
    "end"
   ]
  },
  {
   "cell_type": "code",
   "execution_count": 5,
   "metadata": {
    "collapsed": false,
    "slideshow": {
     "slide_type": "slide"
    }
   },
   "outputs": [
    {
     "data": {
      "text/plain": [
       "([0.0,0.01,0.02,0.03,0.04,0.05,0.06,0.07,0.08,0.09  …  6.71,6.72,6.73,6.74,6.75,6.76,6.77,6.78,6.79,6.8],[1000,993,989,983,971,957,951,939,928,919  …  1,1,1,1,1,1,1,1,1,1])"
      ]
     },
     "execution_count": 5,
     "metadata": {},
     "output_type": "execute_result"
    }
   ],
   "source": [
    "# Uso de la función Decay_MC\n",
    "t1, n1 = Decay_MC(1000, 0.01, 0.0001, 100)"
   ]
  },
  {
   "cell_type": "code",
   "execution_count": 8,
   "metadata": {
    "collapsed": false,
    "slideshow": {
     "slide_type": "fragment"
    }
   },
   "outputs": [
    {
     "data": {
      "text/html": [
       "<img src=\"data:image/png;base64,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\" />"
      ]
     },
     "execution_count": 8,
     "metadata": {},
     "output_type": "execute_result"
    }
   ],
   "source": [
    "# Gráfica de t1 vs. log(n1) (1 iteración)\n",
    "plot(t1, n1)\n",
    "yaxis!(\"YLABEL\",:log10)"
   ]
  },
  {
   "cell_type": "code",
   "execution_count": 9,
   "metadata": {
    "collapsed": false
   },
   "outputs": [
    {
     "data": {
      "text/html": [
       "<img src=\"data:image/png;base64,iVBORw0KGgoAAAANSUhEUgAAAlgAAAGQCAYAAAByNR6YAAAABHNCSVQICAgIfAhkiAAAAAlwSFlzAAAPYQAAD2EBqD+naQAAIABJREFUeJzt3Xl8VPX97/H398ywRdawCARCWMIighAURFHAJaDFEVsVUWkFrVKFFtuC3m7A7a0tSK1eSavXIj+rNYBFqDtWRSWuSFSKEkBIDDuGxYUgkJlz/4gejRwICUnOd2Zez8fDR81MMvmcB2/13e/5nnOM67quAAAAUGOcoAcAAABINBQsAACAGkbBAgAAqGFHFKyf/vSn6ty5sxzH0erVq73Xd+3apZEjR6p79+7q06ePVqxY4b1XWlqqsWPHKjMzUz169NDixYu991zX1eTJk9WtWzdlZmYqJyenlg8JAAAgWEcUrCuvvFJ5eXnq1KlThddvv/12nXXWWVq/fr3mz5+vq6++WtFoVJI0Z84cNWrUSBs2bNCyZct08803a8+ePZKkhx9+WGvXrtWGDRv09ttv684779SHH35YB4cGAAAQjCMK1pAhQ5SWlnbENz722GOaOHGiJOn0009X+/bt9corr0iSFi1a5L2XkZGhYcOGacmSJZKkhQsX6sYbb5QxRi1atNCYMWOUm5tbawcEAAAQtOPag7V7924dPnxYbdq08V7LyMhQcXGxJKm4uLjCildGRoY2b94sSdq8efMR7339cwAAAIkoXNe/8Fi33SopKdGyZcuUkZGhRo0a1eFUAAAA1XPgwAEVFRVpxIgRatWqlaTjLFgtW7ZUOBzWzp07dfLJJ0uSioqKlJ6eLklKT09XUVGR915hYaFGjhxZ4b1BgwZ5P/fd/V1fW7Zsma699toTOEQAAIBgPPLII7rmmmskVVKwvr3adMUVV+i+++7T9OnTtXLlSm3dulVDhw6t8N6gQYNUWFioV155Rffdd5/33gMPPKArrrhC+/bt06JFi/T000/7/r6MjAxJ0u/mPqxLB59ywgcK1IQpU6bo7rvvDnoMQBJ5hH3IpLR27Vpde+21Xo+RfArWTTfdpGeeeUY7d+7UiBEj1LRpU61fv16zZs3SuHHj1L17dzVo0ED//Oc/FQqFJElTp07VhAkT1K1bN4VCIeXk5Cg1NVWSNG7cOK1cuVKZmZkyxugXv/iFevfu7Tvg16cF36vfXTOzsmr6+IFqad68ubLIIyxBHmEbMvmNb29vOqJg3X///b4/1KZNGy1btsz3vZSUFC1YsMD3PcdxNHfu3CoN+GSx9OFeV6e0MFX6OQAAABvU+Sb345HaQLpvbUz/96xQ0KMAXPUKq5BH2OZYmSwtLVVBQUEdTlN3evbsqZSUlKO+b2XBurijUe7GmOYMclQ/xCoWgvXpp58GPQLgIY+wzbEyWVBQoAEDBtThNHVn1apVxzw1amXByu5g9PAmaeUnrs5uS8FCsO64446gRwA85BG2OZ5MPvLII+rVq1cdTFP7vt7QXhkrC1ZmU6N6jvT+Hldntw16GiS7sWPHBj0C4CGPsM3xZLJXr15JtxH+uO7kXtfqhYx6NZfe3x30JAAAAFVnZcGSpNNSjd7fc/S7vgMAANjK3oLV0mj1blexYzxaB6gLkUgk6BEAD3mEbRIlkx9//LGGDRum5s2bq3///if8edYWrN4tjA5EpY8/D3oSJLtJkyYFPQLgIY+wTaJksmnTprrjjjv06KOP1sjnWVuwejUvv3qw4FNWsBCs7OzsoEcAPOQRtom3TM6ZM0c33XST9/W+ffvUunVrGWN01llnHfPeVlVh5VWEktSxsZQSltbudXVRx6CnAQAAtWHTZ672Har+zzevL3Vpevy3dPrxj3+s7t27684771TTpk01f/58jR49Ws2bN6/+ED6sLViOMerRjBUsAAASVcmXrjIXlSl2Av+pDxlpx7VhtWp4fCWrWbNmuvzyyzVv3jzdeuutuu+++7Ro0aLqD3AU1hYsSerZ3OiDvUFPgWS3dOlSjR49OugxAEnkEfY5kUy2ami04crwCa9gHW+5+tpPf/pTRSIR9ezZU61bt9Zpp51W/QGOwuqCNbSd0S2vxbSj1FXbFO7ojmDk5ubyHzRYgzzCNieayaqc3qspPXr0UJcuXXTTTTfpzjvvrJXfYe0md0m6soujkJEe/SgW9ChIYgsXLgx6BMBDHmGbeM3kDTfcoGg0qssvv1xS+YOpO3bsqCuvvFJr165Vx44d9etf/7ran2/1ClaLBkYXpBkt2+Lq532DngYAACSK5cuX6+abb1YoFJIkpaSkaPPmzTX2+VavYEnS6a2N3t3tyuWGowAA4ARt27ZNvXr10nvvvacpU6bU2u+xegVLkvq3NPrkS2lbqZR2UtDTAACAeNa+fXutXbu21n+P9StYWa3KN7/ll7CChWCMHz8+6BEAD3mEbcikP+sLVseTpNQG0ru7KVgIRrzdpRiJjTzCNmTSn/WnCI0x6t/S6F1WsBCQsWPHBj0C4CGPsM3xZLIuTsnVleM9FusLliT1b2X02CZu1QAAQDy69tprgx6hzsVFwcpqaTRntbTnS1epVbxbKwAACEbPnj21atWqoMeoFT179jzm+3FRsPp/tdF9VYmrCztQsFC38vLyNGTIkKDHACSRR9jnWJlMSUlRVlZWHU9kB+s3uUtS92ZSq4bSqzvYh4W6N3v27KBHADzkEbYhk/7iomA5xmhYO6Pl2yhYqHsLFiwIegTAQx5hGzLpLy4KliQNb2/01i5XXxymZKFupaSkBD0C4CGPsA2Z9Bc3Beu89o7KXOk1ThMCAADLxU3B6tFMattIeonThAAAwHJxU7CMMTqvvdHy7RQs1K2pU6cGPQLgIY+wDZn0FzcFS5KGt3e0qsTVp4coWag76enpQY8AeMgjbEMm/cVVwTqvvVHMlV5lFQt1aPLkyUGPAHjII2xDJv3FVcHq3ERKbyxu1wAAAKwWVwXLGKML2hs9VRyT61KyAACAneKqYEnS2G6ONnwmvbWLgoW6UVBQEPQIgIc8wjZk0l/cFazh7YzSTpIWbqJgoW5MmzYt6BEAD3mEbcikv7grWCHHaMjJRu98QsFC3Zg7d27QIwAe8gjbkEl/cVewJOm0lkar97jsw0Kd4BJk2IQ8wjZk0l98FqxUo88OS0WfBz0JAADAkeKyYPVraSRJ7+1mBQsAANgnLgtWu5Ty+2HxXELUhVmzZgU9AuAhj7ANmfQXlwXLGKPRnRwt/Zj7YaH2lZaWBj0C4CGPsA2Z9BeXBUuSLssw2rJfem930JMg0c2cOTPoEQAPeYRtyKS/uC1YA9sYGbEPCwAA2CduC1ZK2KhLU2nNXgoWAACwS9wWLEk6tYXRmj0ULNSukpKSoEcAPOQRtiGT/uK+YH2wj4KF2jVhwoSgRwA85BG2IZP+4rpg9Uk12rpf2l5KyULtmTFjRtAjAB7yCNuQSX9xXbDOTzNyjPTEx7GgR0ECy8rKCnoEwEMeYRsy6S+uC1arhkbntjVaUsQKFgAAsEdcFyxJuryz0YtbXe06QMkCAAB2iPuCNaarI2OkBRs5TYjaMW/evKBHADzkEbYhk/7ivmC1amg0soPR4kJWsFA78vPzgx4B8JBH2IZM+ov7giVJ57YzWvmJq7IYJQs1LycnJ+gRAA95hG3IpL+EKFiD2xgdiEqr9wQ9CQAAQIIUrAGtjOo50hs72YcFAACClxAFq2HY6IzWRsu3c4oQAAAELyEKliRlpxm9sJV9WKh5kUgk6BEAD3mEbcikv4QpWCM6GH16SHprFwULNWvSpElBjwB4yCNsQyb9JUzBOqO1UYeTpAfXsQ8LNSs7OzvoEQAPeYRtyKS/hClYIcdo0imOHvnI1Sfc1R0AAAQoYQqWJF3X3dGhmPTcFgoWAAAITkIVrJNTjPq3lJZt4TQhas7SpUuDHgHwkEfYhkz6S6iCJUkjOjh6fosr12UVCzUjNzc36BEAD3mEbcikv4QrWEPaGn3ypVT8RdCTIFEsXLgw6BEAD3mEbcikv4QrWKelGknS+3tYwQIAAMFIuIKVdpKU2kB6bzcFCwAABCPhCpYxRv1aGr1PwQIAAAFJuIIlSVmtjN7+hI3uqBnjx48PegTAQx5hGzLpLyEL1rB2Rlv2Sx99FvQkSATcpRg2IY+wDZn0l5AF69y2RiEjvbiV+2HhxI0dOzboEQAPeYRtyKS/hCxYTeobDWxt9NI2ThECAIC6l5AFS5LOTysvWDH2YQEAgDqWuAWrvdHug9LqPUFPgniXl5cX9AiAhzzCNmTSX8IWrDPbGDUMsQ8LJ2727NlBjwB4yCNsQyb9JWzBahg2GtzG6NUdnCLEiVmwYEHQIwAe8gjbkEl/CVuwJGloO6MVO9iHhROTkpIS9AiAhzzCNmTSX8IXrL3swwIAAHUsoQvWmW2MGteTnilmHxYAAKg7CV2wGoaNLupg9HgRpwhRfVOnTg16BMBDHmEbMukvoQuWJF2W4WhViastX1CyUD3p6elBjwB4yCNsQyb9JXzBGtHByDHS81spWKieyZMnBz0C4CGPsA2Z9JfwBSu1odEZrY2WbWEfFgAAqBsJX7AkKTvN6IWt3K4BAADUjaQoWOe0NdpzUFr/adCTIB4VFBQEPQLgIY+wDZn0V6WCtXv3bvXv39/7q0ePHqpXr5727t2rYcOGqUuXLt5799xzj/dzpaWlGjt2rDIzM9WjRw8tXry4xg/kWAa2MTKS3tjJChaqbtq0aUGPAHjII2xDJv2Fq/LNLVu21Lvvvut9/ec//1mvvvqqWrRoIWOM7r77bkUikSN+bs6cOWrUqJE2bNigoqIiDRo0SMOHD1dqauqJH8FxaFbf6JQW0pu7XI3vUSe/Eglk7ty5QY8AeMgjbEMm/Z3QKcK///3vuv76672v3aPscVq0aJEmTpwoScrIyNCwYcO0ZMmSE/nVVTa8naMlRTF9dohVLFQNlyDDJuQRtiGT/qpdsF5//XXt27dPo0aN8l6bNm2a+vbtq6uuukqFhYXe68XFxerUqZP3dUZGhoqLi6v7q6tl2mmOPj8s3b2GqwkBAEDtqnbBmjdvnn70ox/Jcco/4uGHH9a6deu0evVqnXPOORWKlw06Nja6qqtR7kYKFgAAqF3VKlhffPGFHnvsMU2YMMF7rUOHDt7f33LLLdq0aZP27t0rqXz5sKioyHu/sLCwworWd1188cWKRCIV/ho8eLCWLl1a4fuef/553z1ft9xyi+bNm1fhtfz8fH3wyB0q2Cet3fvNacLp06dr1qxZFb63uLhYkUjkiCsj7r333iMeCVBaWqpIJKK8vLwKr+fm5mr8+PFHzDZmzJgTPo5IJKKSkpIKr3MctXccX88T78fxNY4jvo/joosuSojjSJQ/D45D+v3vf58Qx3G8fx65ubmKRCJKS0vTwIEDFYlENGXKlCNml1sNf//7391zzjnH+7qsrMzdsWOH9/W//vUvNyMjw/t6xowZ7nXXXee6rutu2rTJbdOmjbt79+4jPnfVqlWuJHfVqlXVGatSpYdjbuP5h9yZq8pq5fORmH73u98FPQLgIY+wDZn07y9Vuorwaw8++KBuvPFG7+uDBw9q1KhROnjwoBzHUevWrfXEE09470+dOlUTJkxQt27dFAqFlJOTU2dXEH5bo7DRDzKMHt4Q02/7OzLG1PkMiD8zZ84MegTAQx5hGzLpr1oF67XXXqvwdUpKilauXHnU709JSdGCBQuq86tq3A8zHT20IaqVn7ga2IaCBQAAal5S3Mn9285tZ9SknvQCD38GAAC1JOkKVtgxOqet0UvbKFg4Pt/dSAkEiTzCNmTSX9IVLEk6r73RaztdHYxSslC5b18tCwSNPMI2ZNJfUhas4e0dfRmV3tpFwULlZsyYEfQIgIc8wjZk0l9SFqzTUqUWDcRpQhyXrKysoEcAPOQRtiGT/pKyYIUco6FtjZZTsAAAQC1IyoIlle/DenOXq9IyShYAAKhZSVuwhrd3dCgmvb6TgoVj++5jGoAgkUfYhkz6S9qC1buF1LqhOE2ISuXn5wc9AuAhj7ANmfSXtAXLGKPz2hu9SMFCJXJycoIeAfCQR9iGTPpL2oIlSRekOVr5iau9BylZAACg5iR1wbowzSjmcpoQAADUrKQuWJ2aGGU2lf7DcwkBAEANSuqCJUkXdnD0/JZY0GPAYpFIJOgRAA95hG3IpD8KVprRps+lTZ+xigV/kyZNCnoEwEMeYRsy6S/pC9bw9kYhI/1nK6tY8JednR30CICHPMI2ZNJf0hesZvWNBrUx7MMCAAA1JukLllR+mvClba6iMUoWAAA4cRQslResvQelVSUULBxp6dKlQY8AeMgjbEMm/VGwJA1sY9SkHrdrgL/c3NygRwA85BG2IZP+KFiS6jlGw9uzDwv+Fi5cGPQIgIc8wjZk0h8F6ysXphm9vtPVF4cpWQAA4MRQsL5yYZqjwzHple0ULAAAcGIoWF/p3kzqeBL7sAAAwImjYH3FGKML04xe5Iaj+I7x48cHPQLgIY+wDZn0R8H6liFtHX2wV/r0EKtY+AZ3KYZNyCNsQyb9UbC+ZfDJRq6kt3dRsPCNsWPHBj0C4CGPsA2Z9EfB+pbuzaTm9aU3KFgAAOAEULC+xTFG57Q1enYzBQsAAFQfBes7runm6M1drjZ8SslCuby8vKBHADzkEbYhk/4oWN8R6WTUooH04xVR7eemo5A0e/bsoEcAPOQRtiGT/ihY39EobPREdkh5O1w9vIFbNkBasGBB0CMAHvII25BJfxQsH0PaOhrazmhJEStYkFJSUoIeAfCQR9iGTPqjYB3FZRlGL21z9Rn3xAIAAFVEwTqKc9s6KnOlNXspWAAAoGooWEeR2Uwykgr2BT0JgjZ16tSgRwA85BG2IZP+KFhH0Shs1LmJtHYfK1jJLj09PegRAA95hG3IpD8K1jH0bG5UQMFKepMnTw56BMBDHmEbMumPgnUMvZobfcgeLAAAUEUUrGMY1MZo0+fSelaxAABAFVCwjmFUulGz+tI/uOFoUisoKAh6BMBDHmEbMumPgnUMjcJGV3Vx9OD6mA5FWcVKVtOmTQt6BMBDHmEbMumPglWJyb0dbS+VFm2iYCWruXPnBj0C4CGPsA2Z9EfBqkTvVKNz2xot2sRpwmTFJciwCXmEbcikPwrWcTg/zWjFDlfRGKtYAACgchSs4zC0ndG+Q9KavUFPAgAA4gEF6zgMam3UICS9sJXThMlo1qxZQY8AeMgjbEMm/VGwjkPDsNGFaUZLizhFmIxKS0uDHgHwkEfYhkz6o2Adp8syHL2209XOUkpWspk5c2bQIwAe8gjbkEl/FKzjdGkno/oh6cH1nCYEAADHRsE6Ti0bGo3rZjT3g5jKuJoQAAAcAwWrCsZlOtpWKn3I1YRJpaSkJOgRAA95hG3IpD8KVhVktTIykt4pYQUrmUyYMCHoEQAPeYRtyKQ/ClYVNK5n1LO5tIqClVRmzJgR9AiAhzzCNmTSHwWriga0Mlr5CQUrmWRlZQU9AuAhj7ANmfRHwaqiC9IcrfzE1fp9lCwAAOCPglVFY7oYtWkkzXo/GvQoAADAUhSsKmoYNpqe5ejB9a6eLuaeWMlg3rx5QY8AeMgjbEMm/VGwquEnvRwNb2f0u1VRuS6nChNdfn5+0CMAHvII25BJfxSsajDG6LbTHOWXSHk7KFiJLicnJ+gRAA95hG3IpD8KVjVldzDq2pRH5wAAgCNRsKrJGKMfZjr6V6Grzw+xigUAAL5BwToB47s7cl3pp29wRSEAAPgGBesEdGxs9H/PCul/1rt6ZTunChNVJBIJegTAQx5hGzLpj4J1gq7rbnR6K6NfraRgJapJkyYFPQLgIY+wDZn0R8E6QY4xmnaao9d3uirg7u4JKTs7O+gRAA95hG3IpD8KVg24JN2oeX3pzH+XaQWnCgEASHoUrBrQMGx09+CQPj8s3fEeBQsAgGRHwaohP+ru6G9nh/T8Vlfb9nOqMJEsXbo06BEAD3mEbcikPwpWDbqyS/mpwptf4xE6iSQ3NzfoEQAPeYRtyKQ/ClYNat7A6G9nh/Tvj129uzvoaVBTFi5cGPQIgIc8wjZk0h8Fq4aNzjBqXE9atoW9WAAAJCsKVg2rHzIa3s5o2RZOEQIAkKwoWLXg0k6OVuxwtWYPJQsAgGREwaoF4zKNujSRfvMOzyhMBOPHjw96BMBDHmEbMumPglUL6oeMftHH0VPFrnaUsooV77hLMWxCHmEbMumPglVLxnR1FDLS/6xns3u8Gzt2bNAjAB7yCNuQSX8UrFrSooHRDT0d/e/8mNbxjEIAAJIKBasW3TnIUZP6rGIBAJBsKFi1KCVsNKyd0SvbWcGKZ3l5eUGPAHjII2xDJv1RsGrZ0HZGKz9xtf8wJStezZ49O+gRAA95hG3IpD8KVi0b1s5RmSu9tI2CFa8WLFgQ9AiAhzzCNmTSHwWrlvVqLvVJlR7ewD6seJWSkhL0CICHPMI2ZNIfBauWGWP0w0xH//7Y1XbuiQUAQFKocsHKyMhQz5491b9/f/Xv31+PPfaYJGnXrl0aOXKkunfvrj59+mjFihXez5SWlmrs2LHKzMxUjx49tHjx4po7gjhwfQ9HjetJ01dxZ3cAAJJBlQuWMUaLFi3Su+++q3fffVdXXHGFJOn222/XWWedpfXr12v+/Pm6+uqrFY2WF4o5c+aoUaNG2rBhg5YtW6abb75Ze/bsqdkjsViLBka/6udo/jpXW/ezihVvpk6dGvQIgIc8wjZk0l+1ThG67pEl4bHHHtPEiRMlSaeffrrat2+vV155RZK0aNEi772MjAwNGzZMS5Ysqe7McenHPR2lhKW5H7AXK96kp6cHPQLgIY+wDZn0V62CNW7cOPXt21c33HCDSkpKtHv3bh0+fFht2rTxvicjI0PFxcWSpOLiYnXq1Mn3vWTRtL7Rj3s6ur8gxi0b4szkyZODHgHwkEfYhkz6q3LBWrFihVavXq38/Hy1atVKP/rRj2SMqY3ZEs7k3o4+PST9gysKAQBIaFUuWB06dJAkhcNh/exnP9OKFSuUmpqqcDisnTt3et9XVFTkLRump6erqKjIe6+wsLDCitZ3XXzxxYpEIhX+Gjx4sJYuXVrh+55//nlFIpEjfv6WW27RvHnzKryWn5+vSCSikpKSCq9Pnz5ds2bNqvBacXGxIpGICgoKKrx+7733HnGuubS0VJFI5Ig72ebm5mr8+PEVXuvUxKjtznd011sV95/F23FI0pgxY+L+z4Pj4Dg4Do6D4+A4qnocubm5ikQiSktL08CBAxWJRDRlypQjZjeu34aqoygtLdWhQ4fUvHlzSdJdd92lJ554Qi+//LLGjx+vjIwMTZ8+XStXrtRll12mjz/+WKFQSDNnzlRRUZHmz5+vwsJCnXnmmVq7dq1SU1MrfH5+fr4GDBigVatWKSsr63jHiitLCmP6/gtRPTMypIs6cpeMeFBQUKCePXsGPQYgiTzCPmTSv79U6b/wO3fu1HnnnafTTjtNffv21YoVK/SPf/xDkjRr1iy9/vrr6t69uyZMmKB//vOfCoVCksqvMDhw4IC6deumkSNHKicn54hylSwuTjca2Nro4ueiytvBqcJ4MG3atKBHADzkEbYhk/6qtIJV25JhBUuSYq6rU/9Vph7NjJZkh4MeB5UoLi7mKhlYgzzCNmSyBlawUDMcYzTl1JD+/bGrjZ9Z029xFMn+Lw7YhTzCNmTSHwUrIOMyjVIbSL/Pj+pQlJIFAEAioWAFpFHY6Df9HT20wdVZT0RV8iUlCwCAREHBCtCUPiG9PTqkjz5z9efVbHi31Xcv+wWCRB5hGzLpj4IVsDNaOxrZwejl7axg2aq0tDToEQAPeYRtyKQ/CpYFhrYzeucTl0foWGrmzJlBjwB4yCNsQyb9UbAsMKydozJXWr6NggUAQCKgYFmgZ3Mpq5U090P2YQEAkAgoWBYwxujnfUJatsXVqk9YxbLNd593BQSJPMI2ZNIfBcsSY7oY9WouTXkjqoPcF8sqEyZMCHoEwEMeYRsy6Y+CZYmwY/TXs0NaWeLq6peiQY+Db5kxY0bQIwAe8gjbkEl/FCyLDGvv6KGhIT1e5OqFrezHskUiPxcT8Yc8wjZk0h8FyzJXdjEacrLRj1+Nat9BThUCABCPKFiWMcbo4eEh7Tko/eYdVrEAAIhHFCwLZTQx+nV/R/evjemjT1nFCtq8efOCHgHwkEfYhkz6o2BZanJvRy0aSHevYRUraPn5+UGPAHjII2xDJv1RsCzVKGx08ymO5q+PqehzVrGClJOTE/QIgIc8wjZk0h8Fy2JTTnXUuqE0/hVu2wAAQDyhYFmseQOjPw0M6eXtrgo/YxULAIB4QcGy3Pc6GjUISf/+mL1YAADECwqW5ZrUN7owzeiRj1y5LqtYQYhEIkGPAHjII2xDJv1RsOLAzac4WlXi6rWdFKwgTJo0KegRAA95hG3IpD8KVhwY0cGoa1Pp4Q0UrCBkZ2cHPQLgIY+wDZn0R8GKA44xujDN0Svb2YcFAEA8oGDFiaHtjNZ9Ku0oZRULAADbUbDixNB2RpL04jYKVl1bunRp0CMAHvII25BJfxSsONEuxeisk40e/YjThHUtNzc36BEAD3mEbcikPwpWHPlhptGyLa62fMEqVl1auHBh0CMAHvII25BJfxSsODK2a/kDoGfk8+gcAABsRsGKI03rG03PcvTgOlerd7OKBQCArShYceamXo66NZXGvVymd0soWQAA2IiCFWfqOUaPDA/pUEz6wQtlOhilZNW28ePHBz0C4CGPsA2Z9EfBikMD2zh6/IKwir+QHlzHVYW1jbsUwybkEbYhk/4oWHGqVwujER2MFm5iBau2jR07NugRAA95hG3IpD8KVhy7LMPRih3ctgEAANtQsOLYpZ2MmtaTTl1cpk2fUbIAALAFBSuOtW5kVHBFWI3rSbe/zb2xakteXl7QIwAe8gjbkEl/FKw4d3KK0Z/OCOmxQlcLN7LhvTbMnj076BEAD3mEbcikPwpWArimm9GVXYwmvR7Vp4c4VVhO9/WGAAAbzElEQVTTFixYEPQIgIc8wjZk0h8FKwEYY3TXmSHtPyzNWMUqVk1LSUkJegTAQx5hGzLpj4KVINJOMvr96Y7uXhPTS1spWQAABImClUBu7ePojNZGf3iPggUAQJAoWAnEMUa/6OPopW2u/rWJklVTpk6dGvQIgIc8wjZk0h8FK8Fc3rl8w/sVL0Z1+QtlKoux6f1EpaenBz0C4CGPsA2Z9EfBSjAhxyj3vJAeGhrSkiJXt78dk+tSsk7E5MmTgx4B8JBH2IZM+gsHPQBqnmOMftjdaO8hV1PeiKlTY2nyqaGgxwIAIGmwgpXAfnZqSJdlGC3ggdAAANQpClaCG9nB0Vu7XO07SMmqroKCgqBHADzkEbYhk/4oWAluRAejqCs9u5mCVV3Tpk0LegTAQx5hGzLpj4KV4Do1MTq3rVHOh9y2obrmzp0b9AiAhzzCNmTSHwUrCfy8j6PXdrp66mNKVnVwCTJsQh5hGzLpj4KVBCKdjEalG41/NaovyzhVCABAbaNgJQFjjP50RkglX0ovbqNgAQBQ2yhYSeKUFlJmU2lJEacJq2rWrFlBjwB4yCNsQyb9UbCShDFGY7o6WrjJ1c5SVrGqorS0NOgRAA95hG3IpD8KVhK59VRHYSPNyGcVqypmzpwZ9AiAhzzCNmTSHwUriaQ2NPptf0cPFMT0wR5WsQAAqC0UrCRzS29Hmc2k7GfL9F9KFgAAtYKClWQahIyWfy+s1g2lc58s0w72Y1WqpKQk6BEAD3mEbcikPwpWEmqbYvTS98Iqc8Ud3o/DhAkTgh4B8JBH2IZM+qNgJanUhkYTuju6b21Mh6KsYh3LjBkzgh4B8JBH2IZM+qNgJbEbezoq+VJ6hgdBH1NWVlbQIwAe8gjbkEl/FKwk1jvVaEAroz+vjukAj9ABAKDGULCS3KyBjlaVuPr1SvZiAQBQUyhYSe78NEfjMh09t4WCdTTz5s0LegTAQx5hGzLpj4IFDW1ntHaftOsApwn95OfnBz0C4CGPsA2Z9EfBgoa2M5KkWe/HFI1Rsr4rJycn6BEAD3mEbcikPwoWlHaS0bS+jv7y35j+Zz0FCwCAE0XBgiRp1qCQRqUb/WVNVK5LyQIA4ERQsOCZ2tfRB3ulRZsoWAAAnAgKFjzntHN0SbrR/1oZ1UHu7u6JRCJBjwB4yCNsQyb9UbBQwayBIRV/IV2zPKp1+yhZkjRp0qSgRwA85BG2IZP+KFiooFcLozvOcPTSNldXvljGVYWSsrOzgx4B8JBH2IZM+qNg4QjTTgvp2ZEhrd4j/WMDBQsAgKqiYMHXoDaOxnQx+s07Ue09SMkCAKAqKFg4qj8NDOnLqDT0qTJ9fih5S9bSpUuDHgHwkEfYhkz6o2DhqDKaGK24JKzCz6XrX42qLEn3Y+Xm5gY9AuAhj7ANmfRHwcIxndLC6KGhIS0pcjX+leS8CenChQuDHgHwkEfYhkz6o2ChUt/v7OihYSE98pGrG16NasOnyVeyAACoCgoWjsvV3RzdM9jRU5td9Vlcpk2fUbIAADgaChaO209PDWnjmLDqO9JDG2JBjwMAgLUoWKiSxvWMruxi9ND6mA4nyab38ePHBz0C4CGPsA2Z9EfBQpX9tHf543T+8t9YUmx65y7FsAl5hG3IpD8KFqqsb0ujib0c3fZ2TD9eEQ16nFo3duzYoEcAPOQRtiGT/qpUsA4ePKjRo0erR48e6tevn7Kzs7Vx40ZJ0rBhw9SlSxf1799f/fv31z333OP9XGlpqcaOHavMzEz16NFDixcvrtmjQJ3LOdvR3852NG+dq/GvlGnPl4m/kgUAwPEKV/UHJk6cqJEjR0qScnJydMMNN2j58uUyxujuu+9WJBI54mfmzJmjRo0aacOGDSoqKtKgQYM0fPhwpaamnvgRIBDGGE08JaQyV5q+KqaVn5Rp5eiwGoVN0KMBABC4Kq1gNWjQwCtXkjRo0CAVFRV5Xx9tP86iRYs0ceJESVJGRoaGDRumJUuWVGNc2GZS75CWfy+sD/dK//woMVex8vLygh4B8JBH2IZM+juhPVj33HOPRo8e7X09bdo09e3bV1dddZUKCwu914uLi9WpUyfv64yMDBUXF5/Ir4ZF+rY0uqST0d1rEvNO77Nnzw56BMBDHmEbMumv2gXrjjvu0KZNm/THP/5RkvTwww9r3bp1Wr16tc455xyNGjWqxoaE/W491dEHe6X/bE28grVgwYKgRwA85BG2IZP+qlWw5syZo6VLl+rZZ59Vw4YNJUkdOnTw3r/lllu0adMm7d27V5KUnp5e4VRiYWFhhRWt77r44osViUQq/DV48OAjntj9/PPP++75uuWWWzRv3rwKr+Xn5ysSiaikpKTC69OnT9esWbMqvFZcXKxIJKKCgoIKr997772aOnVqhddKS0sViUSOWCLNzc31vTfImDFjEvI4hrYz6lb/c12+sFBPfhzTl2XfFK14Og7pyD+PlJSUhDiOr3Ec8X0c9957b0IcR6L8eXAc5RLhOI73zyM3N1eRSERpaWkaOHCgIpGIpkyZcsTsxq3iOZ277rpLjz76qF544QU1b95ckhSNRlVSUqKTTz5ZkrR48WL98pe/9E4Tzpw5U0VFRZo/f74KCwt15plnau3atUdscs/Pz9eAAQO0atUqZWVlVWUsWOCDPa5GPlemLfuls042um9ISH1S2fQOAEhsfv2lSlcRbtmyRb/85S/VtWtXDR8+XJLUsGFDvfjiixo1apQOHjwox3HUunVrPfHEE97PTZ06VRMmTFC3bt0UCoWUk5PDFYQJqHeq0aarwnpzp6txL0c1YEmZXo+EdHprbrcGAEguVSpYHTp0UCzm/wy6lStXHvXnUlJSOEebJOo5Rue0M1p3pdE5T0Y1+j9RLRtp1DuOV7KmTp2qO++8M+gxAEnkEfYhk/5YWkCtaBAyWnphSKkNpHOeKtPrO+P34dDp6elBjwB4yCNsQyb9UbBQa9qfZPTqqLD6tDA67+mozn6iTMVfxN9VhpMnTw56BMBDHmEbMumPgoVa1byB0bKLQpqZ5aj4C1dXvxRVWSz+ShYAAFVBwUKtaxg2uq1fSAvOC+nNXa4m5kWVtyOmQ1GKFgAgMVGwUGfObuvo3rMc5W50dc6TUQ17Kqr710YVs/zu79+9fwoQJPII25BJfxQs1KmfnBLS9mvCem5kSJ8ddjUxL6Y737d7A/y0adOCHgHwkEfYhkz6o2ChzjWtbzSio6M1l9fT7ac5+vU7MeXtsLdkzZ07N+gRAA95hG3IpD8KFgL1v093dGYbo6FPRXXbW1Ft22/f6UIuQYZNyCNsQyb9UbAQqHqO0X8uDukPpzu6c3VMHR4t0+JCe1ezAAA4HhQsBK5R2Oj2fiEVXBHWZRlG1y6P6lcro4pyOwcAQJyiYMEa3Zsb/WNYSD/v42jW+zGNeSmqdftcVfF55DXuu09nB4JEHmEbMumPggWrnFTP6A9nhPT4BSE9Xeyq52NluuHVYG/lUFpaGtjvBr6LPMI2ZNIfBQtWujTD0Udjwvrr2Y7mr3f1p/eC25c1c+bMwH438F3kEbYhk/7CQQ8AHE3aSUY/OSWkzful6atiuqKLo8xmJuixAACoFCtYsN5v+ztqlyL9JC+qA2VsfAcA2I+CBes1ChvNOzek13eWPyy6rje9l5SU1OnvA46FPMI2ZNIfBQtx4cIOjhacH9LSj12NWhbVa3V45/cJEybU2e8CKkMeYRsy6Y+ChbgR6eQo97yQij4vf1j0ksKYvqyDU4YzZsyo9d8BHC/yCNuQSX8ULMSVq7o6+u/lYV2YZvT9F6JKe7RMD66r3dWsrKysWv18oCrII2xDJv1RsBB3HGP07+yQll0U0qh0o+tfjerS58v0+k4esQMAsAMFC3GpYdgou4Oj/xka0kNDQ9rwqashT0T1tw+jQY8GAAAFC/HNGKMfdne05vKwJvV2NOn1mJZvq9mVrHnz5tXo5wEngjzCNmTSHwULCcExRn8509HwdkaXLItqxfaaK1n5+fk19lnAiSKPsA2Z9EfBQsIIOeV7swa0Mrryxai27q+ZKwxzcnJq5HOAmkAeYRsy6Y+ChYRyUj2jBeeHFHak/o+X6coXyrT7S+7+DgCoWxQsJJx2KUavR8Ia29XR8u2uznmyTMVfULIAAHWHgoWE1LGx0T1nhfTaJWGVlkmXLCvjOYYAgDpDwUJC697c6InssAr2SX/7sHob3yORSA1PBVQfeYRtyKQ/ChYSXt+WRiM7Gi0uqt4K1qRJk2p4IqD6yCNsQyb9UbCQFL6f4eiNna6KPq96ycrOzq6FiYDqIY+wDZn0R8FCUri0k1HaSdLwp8q0fh97sQAAtYuChaTQvIHRa5GwGoWlYU+XaWcpJQsAUHsoWEga6Y2NXvpeWFFXOvepMj24LqaD0cqL1tKlS+tgOuD4kEfYhkz6o2AhqbRNMfrPRWH1bG50/atRdV1Yps2V3CMrNze3jqYDKkceYRsy6Y+ChaTTt6XRv7PDWntF+T2y7l5z7Ns3LFy4sI4mAypHHmEbMumPgoWk1bO50U09Hf2/gpgWbYzxSB0AQI2hYCGp3d7PUf+WRmNeiqrP4jKt3k3JAgCcOAoWklqz+kYvjwppzQ/CatuofPP7K9urd8d3AAC+RsFC0nOMUe9Uo5dHhXV6K6MLn4lqyhtRuW75atb48eMDnhD4BnmEbcikPwoW8JWm9Y2eHhnSr/s5umdNTE8Wlxcs7lIMm5BH2IZM+gsHPQBgkwYho99lOXptp6sbV0SV3tho7NixQY8FeMgjbEMm/bGCBXyHMUaPDA+p40lG5z5ZpvvXRlUWY/M7AOD4UbAAH20aGS0fFdIl6UY/yYsp+5mo/vrhN/uyAAA4FgoWcBSN6xn987yw/tRhnT497OqW12Ka9DpXGCJYeXl5QY8AVEAm/VGwgErk/e1XWnVZPd03xNFfP4zpwmfKdPkLZXq8MKYopw5Rx2bPnh30CEAFZNIfm9yBSixYsECSdGNPR3sPSm/tcrVlv/SDF6I6s035fbQahEzAUyJZfJ1HwBZk0h8FC6hESkqKpPLN77f3C3mvv7wtphHPRhVZFtXcs0PKbEbJQu37Oo+ALcikP04RAtU0rL2jReeHtOEzV4P+XabRz5fpuc3s0QIAULCAE3JphqNVl4U1tqujbaXSqGVRrd3LviwASHYULKASU6dOPeb7LRoY5Zwd0opLQkpvLJ39ZJm6LjisG14t08xVUS0pZFULNaeyPAJ1jUz6Yw8WUIn09PTj+r4GIaMnssPK3RjT/jLpmeKYPjvsaucB6Q+nu7osw1GP5uXPPgSq63jzCNQVMunPuBbdOTE/P18DBgzQqlWrlJWVFfQ4wAlzXVdXL49qwcbyf8zqO9JFHY3OPtnoF30dyhYAJAC//sIKFlCLjDHKPS+s+ee6em6Lqw/3uvrPVle3vR3TM5tdndPWaHSGo6xWFC0ASCTswQLqQMNweZH6Vf+Qlo8K6+mRIR2KSX/9MKYBS8p02uLDuualMhXss2ZBGQBwAihYQCUKCgpq/DMv6ujotUhYO64Na+F5IQ1sbfTGLldn/rtMb+9iUzyOrjbyCJwIMumPggVUYtq0abX22WHH6Mqujh44N6z3vh9Wz+ZGV7wY1d6DrGTBX23mEagOMumPggVUYu7cuXXye5rWN1p4XkifHZKueyWqzw5RsnCkusojcLzIpD8KFlCJurwEuVMTo4eGhfTsZlcdHy3T1Lei2vwFRQvf4JJ42IZM+uMqQsAykU6ONo0xuveDmO4viOmu/8bU+Fv/pF7U0ejBoSGlhLnyEABsRcECLNShsdGsQSH9pr+jxwpd7ftqT9b+MulP78c0/pWoFpwXkuE+WgBgJU4RApWYNWtWYL+7SX2jCT0c/bxvSD/vG9Jvs0Kaf25Iiza5+tkbMS3cWP7X44UxfVnGqcRkEGQeAT9k0h8rWEAlSktLgx6hgiu7Otqy39W0t2O694NvXr++h9Hfz+Uf6URnWx4BMumPR+UAcepAmauyr26Z9UBBTFPfjunWUx0N+eru8ACAusGjcoAE0uhbm9wnn+qoeL/05//G9Jc10t4fGjWtz/4sAAgK/zcXSAD1HKO7B4dUeFVYMVd6drM1C9MAkJQoWEAlSkpKgh7huGU0MerfUrrqpah+905UFu0AQA2JpzwiOZBJfxQsoBITJkwIeoQqyTk7pIm9HP3+3Zj6LC7TIxtiFK0EEm95ROIjk/4oWEAlZsyYEfQIVTL4ZEd/GxJS3iUhdW5iNO7lqK5/NaqPP6dkJYJ4yyMSH5n0xyZ3oBLxekXr2W0dPdnW0QMFMd32dlT/2FCm9ilSdgej1g3LN8CHjPSj7o4ym7EhPl7Eax6RuMikPwoWkOB+3NPR2K5GCza6+nCvq2e3xHQ4Vr6atfeg9Le1MU3PcnRtN0cNw+XL2g15DA8AnBAKFpAEGtczuqFneWm6SyHv9b0HXf309ah+/mZMP3uj/KZaRtIv+zr6P6c7qh+iaAFAdbAHC6jEvHnzgh6h1rRoYPTw8LA2XRVW7nkhPTq8/PmHc1bH1OIfZeq3+LB+/kZUv3gzqt++E9W6fezjCloi5xHxiUz6YwULqER+fr6uv/76oMeoVemNjdIbf7NadVVXR89sjun1na6e21K+srXzgPR/3o3pknSj4e2NjKQm9YwuTjdqGJLCpvzZiahdyZBHxBcy6Y+CBVQiJycn6BHq3CktjE5pEarw2sGoq0c/cnX3mqh++075StaBqBT71qLWT3o5uiCtvGSd2sKoe3MKV01LxjzCbmTSHwULwHFpEDIa38NofI9vdhZs2+/qzV2uXElr97qamR/T39Z+8zON65X/b6sG0k9OcTS8vVF9x6hPquQYyheAxEXBAlBt7U8y+n7nr4pSZ+nnfR0d/GpV6z9bXW0vLV/e+u8eV799J6ZDXz2cun2K1LO50QVpRvUc6eKOjk5pQeECkDgoWABqTErYKOWrf6tc1bViYZo9yNXW/VLJl66WbXH19ieu7lwd05dl0tS3Yhrcxqhp/fLvDRtpRAej1o2MOjeRBrY2Mqx4AYgjFCygEpFIRE888UTQY8S9Vg2NWjWUJKPz0755/VDU1cJNrp4qjin61X6ufQeln70R09fbuxqEpGHtjHq3MBrf3dGpqclbtsgjbEMm/VGwgEpMmjQp6BESWv2Q0bhMo3GZFe8a82WZqzJXytvhas1eV08Xu3r0o5ju+m9MnZtIzrc6VseTjCb3dnRG6yOLVz1HapuSOIWMPMI2ZNIfBQuoRHZ2dtAjJKWv7yY/sqPRyI7SL/tKh2OuHtvkavWeivfjen2nqx+8ED3qZ/VrKbXwuYVEx8bS8PaOvv1OlybSkLb2npIkj7ANmfRHwQIQN+o5Rld3M7ra573/7vlmU/23lXwpPbc5pjKfe6S+ttPVPzYcWcyMpAvSjCb2ctSigdS1acX7hAFAZShYABJCn1SjPkfZm3V1N/+HVriuW6F4uW556frvHlcPbYh5q2KOkTo1lm47zdEFaRU/q1Go/GpKAPg2ChZQiaVLl2r06NFBj4FaYIxRve90o+HtjYa3lyb3dlT8hXQ4Jr283dV/tsY0MS8mKXbE5/RrWX5j1aHtHA1rV37lY8ipndJFHmEbMumPggVUYtasWfzLIwkZY9SpSfnfd2tmdH0Po6l9XX1xuOL3bd4vLd8W06s7XD3yUfmKV6NQ+d6xhqHy1a/z2ztqn3Ls31fPkc5ua9Sgkgdsk0fYhkz6o2ABlWjdunXQI8ACxhid7nOVoiTvCsgDZa6e2exqzR5XK3a4+lTS54elf3509A3439a4nnTSMf6tHHYk54IZuu2to3/eoDZGPavxiCLHSJlNa2/lDYmLf0f6o2ABQA1pFDb6QWejH3Su+PonB1wdrKRjlRz8ajP+kWcgPfsOSffvyNTjRf7fdDgmzV5dxaG/peNJVbulxZCTjaYPcOS36FbPUaWrcUAio2ABQC1r3ajyotGhsdSvZajS71t/x5Rj3tRx7V5Xew/5XDJZiS8OS08Xu/ry+BbbdCjm6t4PYvrLGv+yFzLlV2J+vSJXz5FGdnSU2uD4Pr9zk6NftADEAwoWACSQXi2MpOoVk+wOVfv+W0919eE+/zK3Zb+r5dtclZaVf737oDT+leNsb19pXl+y9HZktSKzqdHgk02V/vRObiRdmOYo5H+hbJ34tGmG3ttd9VKfSNb5/HNgVcE6cOCAJGnt2rUBTwJ84+2331Z+fn7QYwCS7Mtj92O8fl6biq99erLrPQ7pWFxXen+Pq837k+s/2qu2uHpyfdV+Zlup9L/Kamee45Zxrfr/ZWXAQwRse4Gkb3qMZFnBKioqkiRde+21wQ4CfMeAAQOCHgHwkEfATkVFRTr77LMlScZ1XWv+L0JJSYmWLVumjIwMNWrUKOhxAAAAKnXgwAEVFRVpxIgRatWqlSTLChYAAEAiCHBbHAAAQGKiYAEAANQwawrWhg0bdNZZZ6lHjx4aOHCgPvzww6BHQhI7ePCgRo8erR49eqhfv37Kzs7Wxo0bgx4L0Pz58+U4zjHvhQXUhYMHD2rSpEnq3r27+vbtq3HjxgU9klWsKVg33XSTJk6cqHXr1um2227TddddF/RISHJf5/G9997TpZdeqhtuuCHokZDkioqK9Pe//12DBw8OehRAt99+u0KhkNavX6/Vq1frz3/+c9AjWcWKTe67du1SZmam9u7dK8dx5Lqu2rdvr9dee01dunQJejxA77zzjq644goVFhYGPQqSVCwW04gRIzRr1iz94he/0K233qpIJBL0WEhS+/fvV/v27bV161Y1btw46HGsZMUK1ubNm9WuXTs5Tvk4xhilp6eruLg44MmAcvfccw9Pi0eg7rrrLg0ZMkRZWVlBjwJo48aNSk1N1R/+8AedccYZOvfcc/XSSy8FPZZVrLrRKGCjO+64Q5s2bdIDDzwQ9ChIUmvWrNHjjz+uV1991XvNgpMPSGJlZWX6+OOP1bt3b/3xj3/Ue++9pwsvvFAffPCB2rRpU/kHJAErVrA6duyo7du3KxYrf2io67oqLi5Wenp6wJMh2c2ZM0dLly7Vs88+q4YNGwY9DpJUXl6eioqKlJmZqc6dO+vNN9/UjTfeqPvvvz/o0ZCk0tPT5TiOrrnmGklSv3791LlzZ61ZsybgyexhRcFq06aNsrKy9PDDD0uSFi9erI4dO7L/CoG66667tGDBAj3//PNq2rRp0OMgiU2cOFHbtm1TYWGhCgsLdeaZZ+qBBx7QTTfdFPRoSFKtWrXS+eefr+eee06SvGz26tUr4MnsYcUmd0lav369rrvuOu3evVvNmjXT/Pnz1bt376DHQpLasmWL0tPT1bVrV28DZ8OGDfXGG28EPBkgDR8+nE3uCFxhYaGuv/56lZSUyHEcTZ8+XZdddlnQY1nDmoIFAACQKKw4RQgAAJBIKFgAAAA1jIIFAABQwyhYAAAANYyCBQAAUMP+P/bdkchCP6oAAAAAAElFTkSuQmCC\" />"
      ]
     },
     "execution_count": 9,
     "metadata": {},
     "output_type": "execute_result"
    }
   ],
   "source": [
    "# Gráfica t1 vs. n1 (1 iteración)\n",
    "plot(t1, n1)\n"
   ]
  },
  {
   "cell_type": "code",
   "execution_count": 13,
   "metadata": {
    "collapsed": false,
    "slideshow": {
     "slide_type": "slide"
    }
   },
   "outputs": [
    {
     "data": {
      "text/html": [],
      "text/plain": [
       "Interact.Options{:SelectionSlider,Int64}(Signal{Int64}(500, nactions=1),\"i\",500,\"500\",Interact.OptionDict(DataStructures.OrderedDict(\"1\"=>1,\"2\"=>2,\"3\"=>3,\"4\"=>4,\"5\"=>5,\"6\"=>6,\"7\"=>7,\"8\"=>8,\"9\"=>9,\"10\"=>10…),Dict(306=>\"306\",29=>\"29\",74=>\"74\",905=>\"905\",176=>\"176\",892=>\"892\",285=>\"285\",318=>\"318\",873=>\"873\",975=>\"975\"…)),Any[],Any[],true,\"horizontal\")"
      ]
     },
     "metadata": {},
     "output_type": "display_data"
    },
    {
     "data": {
      "text/html": [
       "<img src=\"data:image/png;base64,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\" />"
      ]
     },
     "execution_count": 13,
     "metadata": {
      "comm_id": "99fb5a65-a9e4-44ad-a7e3-16ecfed86493",
      "reactive": true
     },
     "output_type": "execute_result"
    }
   ],
   "source": [
    "# Gráfica donde variamos los núcleos (1 iteración)\n",
    "@manipulate for i in 1:1000\n",
    "    tiempo, nucleos = Decay_MC(i, 0.01, 0.0001, 100)\n",
    "    plot(tiempo,nucleos)\n",
    "end"
   ]
  },
  {
   "cell_type": "code",
   "execution_count": 105,
   "metadata": {
    "collapsed": false,
    "slideshow": {
     "slide_type": "slide"
    }
   },
   "outputs": [
    {
     "data": {
      "text/html": [],
      "text/plain": [
       "Interact.Options{:SelectionSlider,Int64}(Signal{Int64}(5000, nactions=1),\"i\",5000,\"5000\",Interact.OptionDict(DataStructures.OrderedDict(\"1\"=>1,\"2\"=>2,\"3\"=>3,\"4\"=>4,\"5\"=>5,\"6\"=>6,\"7\"=>7,\"8\"=>8,\"9\"=>9,\"10\"=>10…),Dict(9775=>\"9775\",2843=>\"2843\",4495=>\"4495\",6928=>\"6928\",9905=>\"9905\",6380=>\"6380\",1316=>\"1316\",6265=>\"6265\",5459=>\"5459\",5842=>\"5842\"…)),Any[],Any[],true,\"horizontal\")"
      ]
     },
     "metadata": {},
     "output_type": "display_data"
    },
    {
     "data": {
      "text/html": [
       "<img src=\"data:image/png;base64,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\" />"
      ]
     },
     "execution_count": 105,
     "metadata": {
      "comm_id": "fe5488a3-e0cc-46e1-9042-73c4c36dc313",
      "reactive": true
     },
     "output_type": "execute_result"
    }
   ],
   "source": [
    "# Gráfica donde variamos los núcleos (1 iteración) en escala logarítmica\n",
    "@manipulate for i in 1:10000\n",
    "    tiempo, nucleos = Decay_MC(i, 0.01, 0.0001, 100)\n",
    "    plot(tiempo,nucleos)\n",
    "    yaxis!(\"YLABEL\",:log10)\n",
    "end"
   ]
  },
  {
   "cell_type": "code",
   "execution_count": 106,
   "metadata": {
    "collapsed": false,
    "slideshow": {
     "slide_type": "slide"
    }
   },
   "outputs": [
    {
     "data": {
      "text/html": [],
      "text/plain": [
       "Interact.Options{:SelectionSlider,Int64}(Signal{Int64}(500, nactions=1),\"i\",500,\"500\",Interact.OptionDict(DataStructures.OrderedDict(\"1\"=>1,\"2\"=>2,\"3\"=>3,\"4\"=>4,\"5\"=>5,\"6\"=>6,\"7\"=>7,\"8\"=>8,\"9\"=>9,\"10\"=>10…),Dict(306=>\"306\",29=>\"29\",74=>\"74\",905=>\"905\",176=>\"176\",892=>\"892\",285=>\"285\",318=>\"318\",873=>\"873\",975=>\"975\"…)),Any[],Any[],true,\"horizontal\")"
      ]
     },
     "metadata": {},
     "output_type": "display_data"
    },
    {
     "data": {
      "text/html": [],
      "text/plain": [
       "Interact.Options{:SelectionSlider,Float64}(Signal{Float64}(0.005, nactions=1),\"j\",0.005,\"0.005\",Interact.OptionDict(DataStructures.OrderedDict(\"0.0001\"=>0.0001,\"0.0002\"=>0.0002,\"0.0003\"=>0.0003,\"0.0004\"=>0.0004,\"0.0005\"=>0.0005,\"0.0006\"=>0.0006,\"0.0007\"=>0.0007,\"0.0008\"=>0.0008,\"0.0009\"=>0.0009,\"0.001\"=>0.001…),Dict(0.0008=>\"0.0008\",0.0046=>\"0.0046\",0.0005=>\"0.0005\",0.0087=>\"0.0087\",0.0093=>\"0.0093\",0.0098=>\"0.0098\",0.0045=>\"0.0045\",0.0018=>\"0.0018\",0.0032=>\"0.0032\",0.0061=>\"0.0061\"…)),Any[],Any[],true,\"horizontal\")"
      ]
     },
     "metadata": {},
     "output_type": "display_data"
    },
    {
     "data": {
      "text/html": [
       "<img src=\"data:image/png;base64,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\" />"
      ]
     },
     "execution_count": 106,
     "metadata": {
      "comm_id": "a8f0ae15-2e97-41e7-9c82-69183c9ac676",
      "reactive": true
     },
     "output_type": "execute_result"
    }
   ],
   "source": [
    "# Cambiamos p, probabilidades\n",
    "@manipulate for i in 1:1000, j in 0.0001:0.0001:0.01\n",
    "    tiempo1, nucleos1 = Decay_MC(i, 0.01, j, 100)\n",
    "    scatter(tiempo1,nucleos1)\n",
    "end"
   ]
  },
  {
   "cell_type": "markdown",
   "metadata": {
    "slideshow": {
     "slide_type": "slide"
    }
   },
   "source": [
    "## Pendiente igual a $\\lambda$"
   ]
  },
  {
   "cell_type": "code",
   "execution_count": 85,
   "metadata": {
    "collapsed": false,
    "slideshow": {
     "slide_type": "slide"
    }
   },
   "outputs": [
    {
     "data": {
      "text/plain": [
       "0.0"
      ]
     },
     "execution_count": 85,
     "metadata": {},
     "output_type": "execute_result"
    }
   ],
   "source": [
    "tiempos, nucleos = Decay_MC(100, 0.01, 0.0001, 100);\n",
    "a = log(nucleos)    \n",
    "t = tiempos;\n",
    "\n",
    "M = (a[2] - a[1])/ (t[2] - t[1]\n"
   ]
  },
  {
   "cell_type": "markdown",
   "metadata": {
    "slideshow": {
     "slide_type": "skip"
    }
   },
   "source": [
    "### Iteraciones"
   ]
  },
  {
   "cell_type": "code",
   "execution_count": 20,
   "metadata": {
    "collapsed": false,
    "slideshow": {
     "slide_type": "slide"
    }
   },
   "outputs": [
    {
     "name": "stdout",
     "output_type": "stream",
     "text": [
      "search:\n",
      "\n"
     ]
    },
    {
     "data": {
      "text/markdown": [
       "La función iterarDecay acepta el número de núcleos iniciales, la probabilidad con que decaen  y el número de veces que se quiere iterar la función Decay_MC. Regresa una lista de listas de tiempos y núcleos restantes.\n"
      ],
      "text/plain": [
       "La función iterarDecay acepta el número de núcleos iniciales, la probabilidad con que decaen  y el número de veces que se quiere iterar la función Decay_MC. Regresa una lista de listas de tiempos y núcleos restantes.\n"
      ]
     },
     "execution_count": 20,
     "metadata": {},
     "output_type": "execute_result"
    }
   ],
   "source": [
    "?iterarDecay"
   ]
  },
  {
   "cell_type": "code",
   "execution_count": 40,
   "metadata": {
    "collapsed": false,
    "slideshow": {
     "slide_type": "subslide"
    }
   },
   "outputs": [
    {
     "name": "stderr",
     "output_type": "stream",
     "text": [
      "WARNING: Method definition iterarDecay(Any, Any, Any, Any, Any) in module Main at In[37]:8 overwritten at In[40]:8.\n",
      "\u001b[1m\u001b[31mWARNING: replacing docs for 'iterarDecay :: Tuple{Any,Any,Any,Any,Any}' in module 'Main'.\u001b[0m\n"
     ]
    },
    {
     "data": {
      "text/plain": [
       "iterarDecay"
      ]
     },
     "execution_count": 40,
     "metadata": {},
     "output_type": "execute_result"
    }
   ],
   "source": [
    "\"\"\"\n",
    "La función iterarDecay acepta el número de núcleos iniciales, la probabilidad con que decaen \n",
    "y el número de veces que se quiere iterar la función Decay_MC.\n",
    "Regresa una lista de listas de tiempos y núcleos restantes.\n",
    "\"\"\"\n",
    "function iterarDecay(N, Δt, λ, dt, n) # n es el número de veces que se itera\n",
    "    \n",
    "    arreglo_nucleo = [] # Lista que contiene n listas de núcleos \n",
    "    arreglo_tiempo = [] # Lista que contiene n listas de tiempos\n",
    "    \n",
    "    for i in 1:n\n",
    "        decaimientos = Decay_MC(N, Δt, λ, dt)\n",
    "        push!(arreglo_tiempo, decaimientos[1])\n",
    "        push!(arreglo_nucleo, decaimientos[2])\n",
    "        #@show i, decaimientos\n",
    "    end\n",
    "    return arreglo_tiempo, arreglo_nucleo\n",
    "end"
   ]
  },
  {
   "cell_type": "code",
   "execution_count": 41,
   "metadata": {
    "collapsed": false,
    "slideshow": {
     "slide_type": "slide"
    }
   },
   "outputs": [
    {
     "name": "stdout",
     "output_type": "stream",
     "text": [
      "search:\n",
      "\n"
     ]
    },
    {
     "data": {
      "text/markdown": [
       "Función prom_Decay(N, p, n) donde N es el número de núcleos iniciales, p la probabilidad de decaimiento  y n el número de iteraciones. Llama a la función iterarDecay, obtiene la longitud máxima entre todas las iteraciones, después rellena con 1's los arreglos y nos regresa el promedio de las iteraciones.\n",
       "\n",
       "Función prom_Decay(N, p, n) donde N es el número de núcleos iniciales, p la probabilidad de decaimiento  y n el número de iteraciones. Llama a la función iterarDecay, obtiene la longitud máxima entre todas las iteraciones, después rellena con 1's los arreglos y nos regresa el promedio de las iteraciones.\n"
      ],
      "text/plain": [
       "Función prom_Decay(N, p, n) donde N es el número de núcleos iniciales, p la probabilidad de decaimiento  y n el número de iteraciones. Llama a la función iterarDecay, obtiene la longitud máxima entre todas las iteraciones, después rellena con 1's los arreglos y nos regresa el promedio de las iteraciones.\n",
       "\n",
       "Función prom_Decay(N, p, n) donde N es el número de núcleos iniciales, p la probabilidad de decaimiento  y n el número de iteraciones. Llama a la función iterarDecay, obtiene la longitud máxima entre todas las iteraciones, después rellena con 1's los arreglos y nos regresa el promedio de las iteraciones.\n"
      ]
     },
     "execution_count": 41,
     "metadata": {},
     "output_type": "execute_result"
    }
   ],
   "source": [
    "?prom_Decay"
   ]
  },
  {
   "cell_type": "code",
   "execution_count": 52,
   "metadata": {
    "collapsed": false,
    "slideshow": {
     "slide_type": "subslide"
    }
   },
   "outputs": [
    {
     "name": "stderr",
     "output_type": "stream",
     "text": [
      "WARNING: Method definition prom_Decay(Any, Any, Any, Any, Any) in module Main at In[48]:9 overwritten at In[52]:9.\n",
      "\u001b[1m\u001b[31mWARNING: replacing docs for 'prom_Decay :: Tuple{Any,Any,Any,Any,Any}' in module 'Main'.\u001b[0m\n"
     ]
    },
    {
     "data": {
      "text/plain": [
       "prom_Decay"
      ]
     },
     "execution_count": 52,
     "metadata": {},
     "output_type": "execute_result"
    }
   ],
   "source": [
    "\"\"\"\n",
    "Función prom_Decay(N, p, n) donde N es el número de núcleos iniciales, p la probabilidad de decaimiento \n",
    "y n el número de iteraciones. Llama a la función iterarDecay, obtiene la longitud máxima entre todas las\n",
    "iteraciones, después rellena con 1's los arreglos y nos regresa el promedio de las iteraciones.\n",
    "\"\"\"\n",
    "\n",
    "function prom_Decay(N, Δt, λ, dt, n)\n",
    "    \n",
    "    iteracion = iterarDecay(N, Δt, λ, dt, n)\n",
    "    max = 1\n",
    "    iter_tiempos = iteracion[1]\n",
    "    iter_nucleos = iteracion[2]\n",
    "    \n",
    "    for i in 1:n\n",
    "        if length(iter_nucleos[i]) > max\n",
    "            max = length(iter_nucleos[i])\n",
    "        else\n",
    "            max = max\n",
    "        end\n",
    "    end\n",
    "    \n",
    "    #@show max, iter_tiempos, iter_nucleos\n",
    "    \n",
    "    for i in 1:n\n",
    "        while length(iter_nucleos[i]) <= max\n",
    "            tiempos = iter_tiempos[i]\n",
    "            ultimo_tiempo = tiempos[end]\n",
    "            push!(iter_tiempos[i], ultimo_tiempo + Δt)\n",
    "            push!(iter_nucleos[i], 1)\n",
    "            #@show i, lista_tiempos, lista_nucleos\n",
    "        end\n",
    "    end\n",
    "    #return iter_tiempos, iter_nucleos\n",
    "    \n",
    "    \n",
    "    suma = iter_nucleos[1]\n",
    "    promedios = 0.0\n",
    "\n",
    "    for k in 1:length(iter_nucleos)-1\n",
    "        suma += iter_nucleos[1+k]\n",
    "        #@show k, suma\n",
    "        promedios = suma/length(iter_nucleos)\n",
    "    \n",
    "    end\n",
    "    return iter_tiempos[1], promedios\n",
    "end"
   ]
  },
  {
   "cell_type": "code",
   "execution_count": 53,
   "metadata": {
    "collapsed": false,
    "slideshow": {
     "slide_type": "slide"
    }
   },
   "outputs": [
    {
     "data": {
      "text/plain": [
       "([0.0,0.01,0.02,0.03,0.04,0.05,0.06,0.07,0.08,0.09  …  12.32,12.33,12.34,12.35,12.36,12.37,12.38,12.39,12.4,12.41],[1000.0,990.072,980.066,969.97,960.38,950.944,941.51,932.17,922.718,913.394  …  1.0,1.0,1.0,1.0,1.0,1.0,1.0,1.0,1.0,1.0])"
      ]
     },
     "execution_count": 53,
     "metadata": {},
     "output_type": "execute_result"
    }
   ],
   "source": [
    "# Ejemplo\n",
    "pt1, pn1 = prom_Decay(1000, 0.01, 0.0001, 100, 500)"
   ]
  },
  {
   "cell_type": "code",
   "execution_count": 54,
   "metadata": {
    "collapsed": false,
    "slideshow": {
     "slide_type": "slide"
    }
   },
   "outputs": [
    {
     "data": {
      "text/html": [
       "<img src=\"data:image/png;base64,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\" />"
      ]
     },
     "execution_count": 54,
     "metadata": {},
     "output_type": "execute_result"
    }
   ],
   "source": [
    "# Gráfica con el promedio de 500 iteraciones, escala semi-log\n",
    "# Recta/Estocástica\n",
    "plot(pt1, pn1)\n",
    "yaxis!(\"YLABEL\",:log10)"
   ]
  },
  {
   "cell_type": "code",
   "execution_count": 55,
   "metadata": {
    "collapsed": false,
    "slideshow": {
     "slide_type": "slide"
    }
   },
   "outputs": [
    {
     "data": {
      "text/html": [
       "<img src=\"data:image/png;base64,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\" />"
      ]
     },
     "execution_count": 55,
     "metadata": {},
     "output_type": "execute_result"
    }
   ],
   "source": [
    "# Gráfica con el promedio de 500 iteraciones. Exponencial.\n",
    "plot(pt1, pn1)"
   ]
  },
  {
   "cell_type": "markdown",
   "metadata": {
    "slideshow": {
     "slide_type": "slide"
    }
   },
   "source": [
    "### Gráfica de Decaimiento para Diferentes Núcleos"
   ]
  },
  {
   "cell_type": "code",
   "execution_count": 73,
   "metadata": {
    "collapsed": true,
    "slideshow": {
     "slide_type": "slide"
    }
   },
   "outputs": [],
   "source": [
    "lista1 = []\n",
    "lista2 = []\n",
    "for i in [100,1000,10000]\n",
    "    tiempo, nucleos = Decay_MC(i, 0.01, 0.0001, 100)\n",
    "    push!(lista1, tiempo)\n",
    "    push!(lista2, nucleos)\n",
    "end\n",
    " "
   ]
  },
  {
   "cell_type": "code",
   "execution_count": 74,
   "metadata": {
    "collapsed": false,
    "scrolled": true,
    "slideshow": {
     "slide_type": "slide"
    }
   },
   "outputs": [
    {
     "data": {
      "text/html": [
       "<img src=\"data:image/png;base64,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\" />"
      ]
     },
     "execution_count": 74,
     "metadata": {},
     "output_type": "execute_result"
    }
   ],
   "source": [
    "p = plot(lista1[1], lista2[1], yscale=:log10)\n",
    "for i in 2:length(lista1)\n",
    "    plot!(lista1[i],lista2[i])\n",
    "end\n",
    "p"
   ]
  },
  {
   "cell_type": "code",
   "execution_count": 40,
   "metadata": {
    "collapsed": false,
    "slideshow": {
     "slide_type": "slide"
    }
   },
   "outputs": [
    {
     "name": "stdout",
     "output_type": "stream",
     "text": [
      "search:\n",
      "\n"
     ]
    },
    {
     "data": {
      "text/markdown": [
       "La función Semidesint acepta 2 arreglos, uno de tiempos y otro de núcleos decaídos.  Devuelve el rango en el que se encuentra el periodo de semidesintegración.\n"
      ],
      "text/plain": [
       "La función Semidesint acepta 2 arreglos, uno de tiempos y otro de núcleos decaídos.  Devuelve el rango en el que se encuentra el periodo de semidesintegración.\n"
      ]
     },
     "execution_count": 40,
     "metadata": {},
     "output_type": "execute_result"
    }
   ],
   "source": [
    "?Semidesint"
   ]
  },
  {
   "cell_type": "code",
   "execution_count": 92,
   "metadata": {
    "collapsed": false,
    "slideshow": {
     "slide_type": "slide"
    }
   },
   "outputs": [
    {
     "name": "stderr",
     "output_type": "stream",
     "text": [
      "WARNING: Method definition Semidesint(Any, Any) in module Main at In[90]:7 overwritten at In[92]:7.\n",
      "\u001b[1m\u001b[31mWARNING: replacing docs for 'Semidesint :: Tuple{Any,Any}' in module 'Main'.\u001b[0m\n"
     ]
    },
    {
     "data": {
      "text/plain": [
       "Semidesint"
      ]
     },
     "execution_count": 92,
     "metadata": {},
     "output_type": "execute_result"
    }
   ],
   "source": [
    "\"\"\"\n",
    "La función Semidesint acepta 2 arreglos, uno de tiempos y otro de núcleos decaídos. \n",
    "Devuelve el rango en el que se encuentra el periodo de semidesintegración.\n",
    "\"\"\"\n",
    "function Semidesint(Tiempo_D, Nucleo_D)\n",
    "    \n",
    "    vida_media = Nucleo_D[1]/2\n",
    "    ind_mudo = 0\n",
    "    \n",
    "    for j in 1:length(Nucleo_D)\n",
    "        if Nucleo_D[j] > vida_media \n",
    "           ind_mudo = j\n",
    "        else\n",
    "            ind_mudo = ind_mudo\n",
    "        end\n",
    "        #@show j, Nucleo_D[j], ind_mudo\n",
    "    end\n",
    "return Tiempo_D[ind_mudo], Nucleo_D[ind_mudo]\n",
    "end"
   ]
  },
  {
   "cell_type": "code",
   "execution_count": 93,
   "metadata": {
    "collapsed": false,
    "slideshow": {
     "slide_type": "slide"
    }
   },
   "outputs": [
    {
     "data": {
      "text/plain": [
       "(0.6800000000000004,504.5)"
      ]
     },
     "execution_count": 93,
     "metadata": {},
     "output_type": "execute_result"
    }
   ],
   "source": [
    "Semidesint(pt1, pn1)"
   ]
  },
  {
   "cell_type": "code",
   "execution_count": 104,
   "metadata": {
    "collapsed": false,
    "slideshow": {
     "slide_type": "slide"
    }
   },
   "outputs": [
    {
     "data": {
      "text/html": [
       "<img src=\"data:image/png;base64,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\" />"
      ]
     },
     "execution_count": 104,
     "metadata": {},
     "output_type": "execute_result"
    }
   ],
   "source": [
    "# Ejemplo\n",
    "pt2, pn2 = prom_Decay(1000, 0.01, 0.0001, 100, 500);\n",
    "\n",
    "# Gráfica con el promedio de 500 iteraciones. Exponencial.\n",
    "punto1, punto2 = Semidesint(pt2, pn2)\n",
    "\n",
    "plot(pt2, pn2)\n",
    "scatter!([punto1], [punto2])"
   ]
  },
  {
   "cell_type": "markdown",
   "metadata": {
    "slideshow": {
     "slide_type": "slide"
    }
   },
   "source": [
    "### Referencias\n",
    "\n",
    "1. Landau, R., et al. (2010). *A Survey of Computational Physics*. USA. Recuperado de: http://www.uio.no/studier/emner/matnat/fys/FYS3150/h10/undervisningsmateriale/Lecture%20Notes/Landau.pdf\n",
    "\n"
   ]
  }
 ],
 "metadata": {
  "celltoolbar": "Slideshow",
  "kernelspec": {
   "display_name": "Julia 0.5.0",
   "language": "julia",
   "name": "julia-0.5"
  },
  "language_info": {
   "file_extension": ".jl",
   "mimetype": "application/julia",
   "name": "julia",
   "version": "0.5.0"
  },
  "widgets": {
   "state": {
    "5c3e4ed0-8110-46a0-ac79-2e189a321dd5": {
     "views": [
      {
       "cell_index": 22
      }
     ]
    },
    "5eb0f897-716d-4813-957a-3a46b6ce3ad8": {
     "views": [
      {
       "cell_index": 21
      }
     ]
    },
    "6bb11eab-d2a8-4e94-bda9-4601d1a3f0fa": {
     "views": [
      {
       "cell_index": 21
      }
     ]
    },
    "a19028ba-6214-448e-b115-2b0a94f2b727": {
     "views": [
      {
       "cell_index": 21
      }
     ]
    },
    "abfb51f0-b500-4b8d-b283-869b90e4adbf": {
     "views": [
      {
       "cell_index": 21
      }
     ]
    },
    "b046bd18-9f96-495e-82ed-74642eb69307": {
     "views": [
      {
       "cell_index": 23
      }
     ]
    },
    "b6c22c07-b24e-408a-a6d9-ae1c5d38645c": {
     "views": [
      {
       "cell_index": 19
      }
     ]
    },
    "beae87bc-29f4-4a53-9219-15dcaa94f331": {
     "views": [
      {
       "cell_index": 23
      }
     ]
    },
    "e68d41bf-0895-4656-9b9c-1e3c5c90927b": {
     "views": [
      {
       "cell_index": 21
      }
     ]
    }
   },
   "version": "1.2.0"
  }
 },
 "nbformat": 4,
 "nbformat_minor": 2
}

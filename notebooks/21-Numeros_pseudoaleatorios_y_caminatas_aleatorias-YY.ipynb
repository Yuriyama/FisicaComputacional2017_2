{
 "cells": [
  {
   "cell_type": "markdown",
   "metadata": {},
   "source": [
    "# Procesos estocásticos"
   ]
  },
  {
   "cell_type": "markdown",
   "metadata": {},
   "source": [
    "El concepto de *aleatoriedad* o *estocasticidad* juega un papel cada vez más importante en la física. Se tratan de procesos que son *aleatorios* o *estocásticos*; un ejemplo es el decaimiento radioactivo, \n",
    "\n",
    "Para modelar estos procesos en la computadora, necesitamos poder generar *números aleatorios* en la computadora. Hay un sólo problema: ¡una computadora determinista no tiene fuente de aleatoriedad!\n",
    "\n",
    "[Sin embargo, se pueden captar datos de procesos aleatorios reales, o de la propia computadara; ver, por ejemplo, <http://www.random.org/>.]\n",
    "\n"
   ]
  },
  {
   "cell_type": "markdown",
   "metadata": {},
   "source": [
    "# Números pseudoaleatorios"
   ]
  },
  {
   "cell_type": "markdown",
   "metadata": {},
   "source": [
    "Podemos producir secuencias de números que *parecen ser* aleatorios (decimos que son *pseudoaleatorios*), usando iteraciones deterministas suficientemente complicadas; sin embargo, estas se tienen que diseñar con mucho cuidado.\n",
    "\n",
    "Un ejemplo se utilizaba antes, pero que *ya no se ocupa*, ya que no es lo suficientemente bueno, son los llamados generadores congruenciales lineales, de la forma\n",
    "\n",
    "$$X_{n+1} = \\left( a X_n + c \\right)~~\\bmod~~m.$$"
   ]
  },
  {
   "cell_type": "markdown",
   "metadata": {},
   "source": [
    "Implementa esta recurrencia con $a = 6364136223846793005$ y $c=\t1442695040888963407$. Usamos enteros *unsigned* (sin signo):\n",
    "\n",
    "    a = UInt64(6364136223846793005)\n",
    "    \n",
    "Tomamos $m=2^{64}$, por lo cual **no es necesario llevar a cabo el `mod` de forma explícita**.\n",
    "    \n",
    "Los números resultantes caen entre 0 y $2^{64} - 1$, inclusivo.\n",
    "\n",
    "**[1]** (i) Escribe una función que implementa esta recurrencia para generar un número aleatorio entero en este rango nuevo cada vez que la llamas."
   ]
  },
  {
   "cell_type": "code",
   "execution_count": 44,
   "metadata": {
    "collapsed": false
   },
   "outputs": [
    {
     "data": {
      "text/plain": [
       "0x5851f42d4c957f2d"
      ]
     },
     "execution_count": 44,
     "metadata": {},
     "output_type": "execute_result"
    }
   ],
   "source": [
    " a = UInt64(6364136223846793005)\n",
    " "
   ]
  },
  {
   "cell_type": "code",
   "execution_count": 46,
   "metadata": {
    "collapsed": false
   },
   "outputs": [
    {
     "data": {
      "text/plain": [
       "6364136223846793005"
      ]
     },
     "execution_count": 46,
     "metadata": {},
     "output_type": "execute_result"
    }
   ],
   "source": [
    "aa = big(ans)"
   ]
  },
  {
   "cell_type": "code",
   "execution_count": 47,
   "metadata": {
    "collapsed": false
   },
   "outputs": [
    {
     "data": {
      "text/plain": [
       "0x14057b7ef767814f"
      ]
     },
     "execution_count": 47,
     "metadata": {},
     "output_type": "execute_result"
    }
   ],
   "source": [
    "c = UInt64(1442695040888963407)"
   ]
  },
  {
   "cell_type": "code",
   "execution_count": 48,
   "metadata": {
    "collapsed": false
   },
   "outputs": [
    {
     "data": {
      "text/plain": [
       "1442695040888963407"
      ]
     },
     "execution_count": 48,
     "metadata": {},
     "output_type": "execute_result"
    }
   ],
   "source": [
    "cc = big(ans)"
   ]
  },
  {
   "cell_type": "code",
   "execution_count": 29,
   "metadata": {
    "collapsed": false
   },
   "outputs": [
    {
     "name": "stderr",
     "output_type": "stream",
     "text": [
      "WARNING: Method definition generador_num_aleatorio(Any, Any, Any, Any) in module Main at In[17]:2 overwritten at In[29]:2.\n"
     ]
    },
    {
     "data": {
      "text/plain": [
       "generador_num_aleatorio (generic function with 1 method)"
      ]
     },
     "execution_count": 29,
     "metadata": {},
     "output_type": "execute_result"
    }
   ],
   "source": [
    "function generador_num_aleatorio(a, c, xn, n)\n",
    "    Xn = [xn]\n",
    "    for i in 1:n\n",
    "        xn1 = a*Xn[i] + c\n",
    "        #@show i, Xn[i], xn1\n",
    "        push!(Xn, xn1)\n",
    "    end\n",
    "    return Xn\n",
    "end"
   ]
  },
  {
   "cell_type": "code",
   "execution_count": 53,
   "metadata": {
    "collapsed": false
   },
   "outputs": [
    {
     "data": {
      "text/plain": [
       "10-element Array{UInt64,1}:\n",
       " 0x0000000000000003\n",
       " 0x1cfb5806dd27fed6\n",
       " 0x5327b7f7896976ed\n",
       " 0xbc03b48704e1fbf8\n",
       " 0x589dcb943678d3e7\n",
       " 0x9e7cca69653759ea\n",
       " 0x613b874704ef6571\n",
       " 0x80eaf8be2f94652c\n",
       " 0x7bfb06abe54a1e0b\n",
       " 0x8db82773cabd3e3e"
      ]
     },
     "execution_count": 53,
     "metadata": {},
     "output_type": "execute_result"
    }
   ],
   "source": [
    "generador_num_aleatorio(UInt64(6364136223846793005), UInt64(1442695040888963407), UInt64(3), 9)"
   ]
  },
  {
   "cell_type": "markdown",
   "metadata": {},
   "source": [
    "(ii) Utiliza esto para hacer una función `mi_rand` que genere números reales aleatorios en el intervalo real $[0, 1)$, es decir, que incluya $0$ pero excluye $1$."
   ]
  },
  {
   "cell_type": "code",
   "execution_count": 33,
   "metadata": {
    "collapsed": false
   },
   "outputs": [
    {
     "data": {
      "text/plain": [
       "3"
      ]
     },
     "execution_count": 33,
     "metadata": {},
     "output_type": "execute_result"
    }
   ],
   "source": [
    "x_global = 3 # semilla"
   ]
  },
  {
   "cell_type": "code",
   "execution_count": 42,
   "metadata": {
    "collapsed": false
   },
   "outputs": [
    {
     "data": {
      "text/plain": [
       "mi_rand (generic function with 1 method)"
      ]
     },
     "execution_count": 42,
     "metadata": {},
     "output_type": "execute_result"
    }
   ],
   "source": [
    "function mi_rand()\n",
    "    global x_global\n",
    "    x_nueva = a*x_global + c\n",
    "    x_global = x_nueva\n",
    "    return x_nueva\n",
    "end"
   ]
  },
  {
   "cell_type": "code",
   "execution_count": 1,
   "metadata": {
    "collapsed": false
   },
   "outputs": [
    {
     "data": {
      "text/plain": [
       "0x5851f42d4c957f2d"
      ]
     },
     "execution_count": 1,
     "metadata": {},
     "output_type": "execute_result"
    }
   ],
   "source": [
    "a = UInt64(6364136223846793005)"
   ]
  },
  {
   "cell_type": "code",
   "execution_count": 2,
   "metadata": {
    "collapsed": false
   },
   "outputs": [
    {
     "data": {
      "text/plain": [
       "UInt64"
      ]
     },
     "execution_count": 2,
     "metadata": {},
     "output_type": "execute_result"
    }
   ],
   "source": [
    "typeof(ans)"
   ]
  },
  {
   "cell_type": "code",
   "execution_count": 3,
   "metadata": {
    "collapsed": false
   },
   "outputs": [
    {
     "name": "stdout",
     "output_type": "stream",
     "text": [
      "search: \u001b[1mU\u001b[22m\u001b[1mI\u001b[22m\u001b[1mn\u001b[22m\u001b[1mt\u001b[22m\u001b[1m6\u001b[22m\u001b[1m4\u001b[22m \u001b[1mU\u001b[22m\u001b[1mI\u001b[22m\u001b[1mn\u001b[22m\u001b[1mt\u001b[22m1\u001b[1m6\u001b[22m\n",
      "\n"
     ]
    },
    {
     "data": {
      "text/markdown": [
       "No documentation found.\n",
       "\n",
       "**Summary:**\n",
       "\n",
       "```\n",
       "immutable UInt64 <: Unsigned\n",
       "```\n"
      ],
      "text/plain": [
       "No documentation found.\n",
       "\n",
       "**Summary:**\n",
       "\n",
       "```\n",
       "immutable UInt64 <: Unsigned\n",
       "```\n"
      ]
     },
     "execution_count": 3,
     "metadata": {},
     "output_type": "execute_result"
    }
   ],
   "source": [
    "?UInt64"
   ]
  },
  {
   "cell_type": "code",
   "execution_count": 39,
   "metadata": {
    "collapsed": false
   },
   "outputs": [
    {
     "data": {
      "text/plain": [
       "mi_rand2 (generic function with 1 method)"
      ]
     },
     "execution_count": 39,
     "metadata": {},
     "output_type": "execute_result"
    }
   ],
   "source": [
    "let x = 3 \n",
    "    # Un bloque 'let' introduce variables locales que están disponibles sólo dentro del bloque\n",
    "    \n",
    "    global function mi_rand2() # Define la función en ámbito global\n",
    "        \n",
    "        x_nueva = a*x + c \n",
    "        x = x_nueva\n",
    "        \n",
    "        return x\n",
    "    end\n",
    "end"
   ]
  },
  {
   "cell_type": "code",
   "execution_count": 43,
   "metadata": {
    "collapsed": false
   },
   "outputs": [
    {
     "data": {
      "text/plain": [
       "0x1cfb5806dd27fed6"
      ]
     },
     "execution_count": 43,
     "metadata": {},
     "output_type": "execute_result"
    }
   ],
   "source": [
    "mi_rand2()"
   ]
  },
  {
   "cell_type": "code",
   "execution_count": 55,
   "metadata": {
    "collapsed": false
   },
   "outputs": [
    {
     "data": {
      "text/plain": [
       "0xffffffffffffffff"
      ]
     },
     "execution_count": 55,
     "metadata": {},
     "output_type": "execute_result"
    }
   ],
   "source": [
    "typemax(UInt64) # máximo"
   ]
  },
  {
   "cell_type": "code",
   "execution_count": 56,
   "metadata": {
    "collapsed": false
   },
   "outputs": [
    {
     "data": {
      "text/plain": [
       "0.11321020286155202"
      ]
     },
     "execution_count": 56,
     "metadata": {},
     "output_type": "execute_result"
    }
   ],
   "source": [
    "0x1cfb5806dd27fed6/0xffffffffffffffff"
   ]
  },
  {
   "cell_type": "code",
   "execution_count": 57,
   "metadata": {
    "collapsed": false
   },
   "outputs": [
    {
     "data": {
      "text/plain": [
       "normalizar (generic function with 1 method)"
      ]
     },
     "execution_count": 57,
     "metadata": {},
     "output_type": "execute_result"
    }
   ],
   "source": [
    "# Ahora convertimos los números aleatorios entre 0 y 1. Normalizamos\n",
    "function normalizar(num)\n",
    "    return num/typemax(UInt64)\n",
    "end"
   ]
  },
  {
   "cell_type": "markdown",
   "metadata": {},
   "source": [
    "**[2]** Escribe una función para calcular un *histograma*, es decir, dado un vector de datos de entrada, y un número $M$ de cajas, calcula cuántos de los datos caen en cada caja."
   ]
  },
  {
   "cell_type": "code",
   "execution_count": 58,
   "metadata": {
    "collapsed": false
   },
   "outputs": [
    {
     "name": "stdout",
     "output_type": "stream",
     "text": [
      "search: \u001b[1mc\u001b[22m\u001b[1me\u001b[22m\u001b[1mi\u001b[22m\u001b[1ml\u001b[22m Abstra\u001b[1mc\u001b[22mtS\u001b[1me\u001b[22mr\u001b[1mi\u001b[22ma\u001b[1ml\u001b[22mizer sli\u001b[1mc\u001b[22m\u001b[1me\u001b[22md\u001b[1mi\u001b[22mm redu\u001b[1mc\u001b[22m\u001b[1me\u001b[22md\u001b[1mi\u001b[22mm Ex\u001b[1mc\u001b[22m\u001b[1me\u001b[22mpt\u001b[1mi\u001b[22mon mapredu\u001b[1mc\u001b[22m\u001b[1me\u001b[22md\u001b[1mi\u001b[22mm\n",
      "\n"
     ]
    },
    {
     "data": {
      "text/markdown": [
       "```\n",
       "ceil([T,] x, [digits, [base]])\n",
       "```\n",
       "\n",
       "`ceil(x)` returns the nearest integral value of the same type as `x` that is greater than or equal to `x`.\n",
       "\n",
       "`ceil(T, x)` converts the result to type `T`, throwing an `InexactError` if the value is not representable.\n",
       "\n",
       "`digits` and `base` work as for [`round`](:func:`round`).\n",
       "\n",
       "```\n",
       "ceil(dt::TimeType, p::Period) -> TimeType\n",
       "```\n",
       "\n",
       "Returns the nearest `Date` or `DateTime` greater than or equal to `dt` at resolution `p`.\n",
       "\n",
       "For convenience, `p` may be a type instead of a value: `ceil(dt, Dates.Hour)` is a shortcut for `ceil(dt, Dates.Hour(1))`.\n",
       "\n",
       "```jldoctest\n",
       "julia> ceil(Date(1985, 8, 16), Dates.Month)\n",
       "1985-09-01\n",
       "\n",
       "julia> ceil(DateTime(2013, 2, 13, 0, 31, 20), Dates.Minute(15))\n",
       "2013-02-13T00:45:00\n",
       "\n",
       "julia> ceil(DateTime(2016, 8, 6, 12, 0, 0), Dates.Day)\n",
       "2016-08-07T00:00:00\n",
       "```\n"
      ],
      "text/plain": [
       "```\n",
       "ceil([T,] x, [digits, [base]])\n",
       "```\n",
       "\n",
       "`ceil(x)` returns the nearest integral value of the same type as `x` that is greater than or equal to `x`.\n",
       "\n",
       "`ceil(T, x)` converts the result to type `T`, throwing an `InexactError` if the value is not representable.\n",
       "\n",
       "`digits` and `base` work as for [`round`](:func:`round`).\n",
       "\n",
       "```\n",
       "ceil(dt::TimeType, p::Period) -> TimeType\n",
       "```\n",
       "\n",
       "Returns the nearest `Date` or `DateTime` greater than or equal to `dt` at resolution `p`.\n",
       "\n",
       "For convenience, `p` may be a type instead of a value: `ceil(dt, Dates.Hour)` is a shortcut for `ceil(dt, Dates.Hour(1))`.\n",
       "\n",
       "```jldoctest\n",
       "julia> ceil(Date(1985, 8, 16), Dates.Month)\n",
       "1985-09-01\n",
       "\n",
       "julia> ceil(DateTime(2013, 2, 13, 0, 31, 20), Dates.Minute(15))\n",
       "2013-02-13T00:45:00\n",
       "\n",
       "julia> ceil(DateTime(2016, 8, 6, 12, 0, 0), Dates.Day)\n",
       "2016-08-07T00:00:00\n",
       "```\n"
      ]
     },
     "execution_count": 58,
     "metadata": {},
     "output_type": "execute_result"
    }
   ],
   "source": [
    "?ceil"
   ]
  },
  {
   "cell_type": "code",
   "execution_count": 63,
   "metadata": {
    "collapsed": false
   },
   "outputs": [
    {
     "data": {
      "text/plain": [
       "3.0"
      ]
     },
     "execution_count": 63,
     "metadata": {},
     "output_type": "execute_result"
    }
   ],
   "source": [
    "ceil(2.1)"
   ]
  },
  {
   "cell_type": "code",
   "execution_count": null,
   "metadata": {
    "collapsed": true
   },
   "outputs": [],
   "source": [
    "function asignar_caja(M, x)\n",
    "    segmento = 1/M\n",
    "    contador = 0\n",
    "    \n",
    "     ceil(x*M) "
   ]
  },
  {
   "cell_type": "code",
   "execution_count": null,
   "metadata": {
    "collapsed": true
   },
   "outputs": [],
   "source": [
    "function mi_histograma(V::Array, M)\n",
    "    segmento = 1/M\n",
    "    for i in 1:length(V)\n",
    "        \n",
    "    "
   ]
  },
  {
   "cell_type": "markdown",
   "metadata": {},
   "source": [
    "**[3]** (i) Utiliza tu función para generar $N$ números aleatorios y haz un histograma.\n",
    "\n",
    "(ii) Cambia $N$ y vuelve a calcular el histograma. Encuentra el tamaño del \"error\" de las barras con respecto al valor esperado en función de $N$. \n",
    "\n",
    "(iii) Dibuja el error *relativo* como función de $N$. ¿Qué esperas que pase? ¿Cómo cambia el error relativo con $N$? "
   ]
  },
  {
   "cell_type": "markdown",
   "metadata": {},
   "source": [
    "En Julia, existe una función `rand()` que utiliza un generador moderno de alta calidad, actualmente el llamado Mersenne Twister, para generar número aleatorios. Hay otros generadores disponibles en el paquete [`RandomNumbers.jl`](https://github.com/sunoru/RandomNumbers.jl)."
   ]
  },
  {
   "cell_type": "markdown",
   "metadata": {},
   "source": [
    "# Caminatas aleatorias"
   ]
  },
  {
   "cell_type": "markdown",
   "metadata": {},
   "source": [
    "Uno de los procesos estocásticos más fundamentales e importantes en la física es el *movimiento Browniano*. Un acercamiento inicial a este problema se da a través de las *caminatas aleatorias*, que modela una partícula que recibe impactos al azar, los cuales hacen que brinque en direcciones aleatorias."
   ]
  },
  {
   "cell_type": "markdown",
   "metadata": {},
   "source": [
    "**[4]** Piensa en un caminante aleatorio en una dimensión que vive en los enteros. Empieza en la posición $x=0$. En cada paso de tiempo, brinca a la derecha o a la izquierda con igual probabilidad $\\frac{1}{2}$.\n",
    "\n",
    "(i) Utiliza la función `mi_rand` o `rand` para generar el brinco: $+1$ o $-1$, cada uno con probabilidad $\\frac{1}{2}$.\n",
    "\n",
    "(ii) Haz una función que calcule la trayectoria de una caminata aleatoria que empiece en $0$ y toma $N$ pasos al azar. \n",
    "\n",
    "(iii) Dibuja unas cuantas trayectorias en una misma gráfica, con la posición $x(t)$ como función del tiempo $t$. ¿Qué observas?\n",
    "\n",
    "(iv) Ahora dibuja muchas trayectorias en una misma gráfica. ¿Qué observas?"
   ]
  },
  {
   "cell_type": "markdown",
   "metadata": {},
   "source": [
    "**[5]** Modifica tu función para que brinque a la derecha con probabilidad $p$ y a la izquierda con probabilidad $q := 1-p$. Dibuja las trayectorias para varios valores de $p$. ¿Qué observas?"
   ]
  },
  {
   "cell_type": "markdown",
   "metadata": {},
   "source": [
    "**[6]** ¿Cómo puedes caracterizar la posición de los caminantes después de $N$ pasos? Hazlo. ¿Cómo evoluciona en el tiempo? Si es demasiado trivial, piensa en otra caracterización."
   ]
  },
  {
   "cell_type": "markdown",
   "metadata": {},
   "source": [
    "# Caminatas aleatorias en 2D"
   ]
  },
  {
   "cell_type": "markdown",
   "metadata": {},
   "source": [
    "**[7]** Una partícula grande inmersa en un fluido lleva a cabo una caminata aleatoria / movimiento Browniano. \n",
    "\n",
    "(i) Simula una partícula que vive en una red cuadrada con coordenadas enteras y puede brincar en cualquiera de las 4 direcciones más cercanas con igual probabilidad. \n",
    "\n",
    "(ii) Dibuja unas trayectorias. ¿Qué observas?\n",
    "\n",
    "(iii) Dibuja muchas trayectorias. ¿Qué observas?\n",
    "\n",
    "(iv) ¿Cómo puedes caracterizar la distribución al tiempo $t$?"
   ]
  },
  {
   "cell_type": "markdown",
   "metadata": {},
   "source": [
    "**[8]** Para acercarnos al movimiento Browniano, podemos hacer que los brincos sean de distintos tamaños. Piensa en varias formas de hacerlo, implementarlas, y dibuja las trayectorias correspondientes. ¿Cómo se pueden caracterizar los comportamientos resultantes?"
   ]
  }
 ],
 "metadata": {
  "kernelspec": {
   "display_name": "Julia 0.5.0",
   "language": "julia",
   "name": "julia-0.5"
  },
  "language_info": {
   "file_extension": ".jl",
   "mimetype": "application/julia",
   "name": "julia",
   "version": "0.5.0"
  }
 },
 "nbformat": 4,
 "nbformat_minor": 1
}
